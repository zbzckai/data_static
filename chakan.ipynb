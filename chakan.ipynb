{
 "cells": [
  {
   "cell_type": "code",
   "execution_count": 155,
   "metadata": {
    "collapsed": false
   },
   "outputs": [
    {
     "data": {
      "text/html": [
       "<script type=\"text/javascript\">window.PlotlyConfig = {MathJaxConfig: 'local'};</script><script type=\"text/javascript\">if (window.MathJax) {MathJax.Hub.Config({SVG: {font: \"STIX-Web\"}});}</script><script>requirejs.config({paths: { 'plotly': ['https://cdn.plot.ly/plotly-latest.min']},});if(!window._Plotly) {require(['plotly'],function(plotly) {window._Plotly=plotly;});}</script>"
      ],
      "text/plain": [
       "<script type=\"text/javascript\">window.PlotlyConfig = {MathJaxConfig: 'local'};</script><script type=\"text/javascript\">if (window.MathJax) {MathJax.Hub.Config({SVG: {font: \"STIX-Web\"}});}</script><script>requirejs.config({paths: { 'plotly': ['https://cdn.plot.ly/plotly-latest.min']},});if(!window._Plotly) {require(['plotly'],function(plotly) {window._Plotly=plotly;});}</script>"
      ]
     },
     "execution_count": 0,
     "metadata": {},
     "output_type": "execute_result"
    },
    {
     "data": {
      "text/plain": [
       "799"
      ]
     },
     "execution_count": 155,
     "metadata": {},
     "output_type": "execute_result"
    }
   ],
   "source": [
    "import numpy as np \n",
    "import pandas as pd \n",
    "import lightgbm as lgb\n",
    "import xgboost as xgb\n",
    "from sklearn.linear_model import BayesianRidge\n",
    "from sklearn.model_selection import KFold, RepeatedKFold\n",
    "from sklearn.preprocessing import OneHotEncoder, LabelEncoder\n",
    "from scipy import sparse\n",
    "import warnings\n",
    "import time\n",
    "import sys\n",
    "import os\n",
    "import re\n",
    "import datetime\n",
    "import matplotlib.pyplot as plt\n",
    "import seaborn as sns\n",
    "import plotly.offline as py\n",
    "py.init_notebook_mode(connected=True)\n",
    "import plotly.graph_objs as go\n",
    "import plotly.tools as tls\n",
    "from sklearn.metrics import mean_squared_error\n",
    "from sklearn.metrics import log_loss\n",
    "warnings.simplefilter(action='ignore', category=FutureWarning)\n",
    "warnings.filterwarnings(\"ignore\")\n",
    "pd.set_option('display.max_columns',None)\n",
    "pd.set_option('max_colwidth',100)\n",
    "import gc \n",
    "gc.collect()"
   ]
  },
  {
   "cell_type": "code",
   "execution_count": 156,
   "metadata": {},
   "outputs": [],
   "source": [
    "def modeling_cross_validation(params, X, y, nr_folds=5):\n",
    "    \n",
    "    oof_preds = np.zeros(X.shape[0])\n",
    "    # Split data with kfold\n",
    "    folds = KFold(n_splits=nr_folds, shuffle=False, random_state=4096)\n",
    "    \n",
    "    for fold_, (trn_idx, val_idx) in enumerate(folds.split(X, y)):\n",
    "        print(\"fold n°{}\".format(fold_+1))\n",
    "        trn_data = lgb.Dataset(X[trn_idx], y[trn_idx])\n",
    "        val_data = lgb.Dataset(X[val_idx], y[val_idx])\n",
    "\n",
    "        num_round = 20000\n",
    "        clf = lgb.train(params, trn_data, num_round, valid_sets = [trn_data, val_data], verbose_eval=1000, early_stopping_rounds = 100)\n",
    "        oof_preds[val_idx] = clf.predict(X[val_idx], num_iteration=clf.best_iteration)\n",
    "\n",
    "    score = mean_squared_error(oof_preds, target)\n",
    "    return  score/2\n",
    "def featureSelect(init_cols):\n",
    "    params = {'num_leaves': 120,\n",
    "             'min_data_in_leaf': 30, \n",
    "             'objective':'regression',\n",
    "             'max_depth': -1,\n",
    "             'learning_rate': 0.05,\n",
    "             \"min_child_samples\": 30,\n",
    "             \"boosting\": \"gbdt\",\n",
    "             \"feature_fraction\": 0.9,\n",
    "             \"bagging_freq\": 1,\n",
    "             \"bagging_fraction\": 0.9 ,\n",
    "             \"bagging_seed\": 11,\n",
    "             \"metric\": 'mse',\n",
    "             \"lambda_l1\": 0.02,\n",
    "             \"verbosity\": -1}\n",
    "    best_cols = init_cols.copy()\n",
    "    best_score = modeling_cross_validation(params, train[init_cols].values, target.values, nr_folds=5)\n",
    "    print(\"初始CV score: {:<8.8f}\".format(best_score))\n",
    "    for f in init_cols:\n",
    "\n",
    "        best_cols.remove(f)\n",
    "        score = modeling_cross_validation(params, train[best_cols].values, target.values, nr_folds=5)\n",
    "        diff = best_score - score\n",
    "        print('-'*10)\n",
    "        if diff > 0.00000002:\n",
    "            print(\"当前移除特征: {}, CV score: {:<8.8f}, 最佳cv score: {:<8.8f}, 有效果,删除！！\".format(f,score,best_score))\n",
    "            best_score = score\n",
    "        else:\n",
    "            print(\"当前移除特征: {}, CV score: {:<8.8f}, 最佳cv score: {:<8.8f}, 没效果,保留！！\".format(f,score,best_score))\n",
    "            best_cols.append(f)\n",
    "    print('-'*10)\n",
    "    print(\"优化后CV score: {:<8.8f}\".format(best_score))\n",
    "    \n",
    "    return best_cols"
   ]
  },
  {
   "cell_type": "code",
   "execution_count": 157,
   "metadata": {},
   "outputs": [
    {
     "name": "stdout",
     "output_type": "stream",
     "text": [
      "A1 0.9863896848137536\nA2 0.9699140401146131\nA3 0.9570200573065902\nA4 0.9570200573065902\nB2 0.9842406876790831\n"
     ]
    }
   ],
   "source": [
    "train = pd.read_csv('./jinnan_round1_train_20181227.csv', encoding = 'gb18030')\n",
    "test  = pd.read_csv('./jinnan_round1_testA_20181227.csv', encoding = 'gb18030')\n",
    "train.shape\n",
    "#train = train[[x for x in train.index if x not in vaild.index]].copy()\n",
    "# 删除类别唯一的特征\n",
    "for df in [train, test]:\n",
    "    df.drop(['B3', 'B13', 'A13', 'A18', 'A23'], axis=1, inplace=True)\n",
    "\n",
    "# 删除某一类别占比超过90%的列\n",
    "good_cols = list(train.columns)\n",
    "for col in train.columns:\n",
    "    rate = train[col].value_counts(normalize=True, dropna=False).values[0]\n",
    "    if rate > 0.9:\n",
    "        good_cols.remove(col)\n",
    "        print(col, rate)\n",
    "\n",
    "# 暂时不删除，后面构造特征需要\n",
    "good_cols.append('A1')\n",
    "good_cols.append('A3')\n",
    "good_cols.append('A4')\n",
    "\n",
    "# 删除异常值\n",
    "train = train[train['收率'] > 0.87]\n",
    "train = train[good_cols]\n",
    "good_cols.remove('收率')\n",
    "test = test[good_cols]\n",
    "# 合并数据集\n",
    "target = train['收率']\n",
    "train['收率'] = target\n",
    "data_2 = pd.concat([train,test],axis=0,ignore_index=True)\n",
    "data_2 = data_2.fillna(-1)\n",
    "train.shape\n",
    "std = np.std(target)\n",
    "mean = np.mean(target)\n",
    "mean = 0.01\n",
    "num = 15\n",
    "column_mean_std = []\n",
    "time_columns = ['A5', 'A7', 'A9', 'A11', 'A14', 'A16', 'A24', 'A26', 'B5', 'B7','A20', 'A28', 'B4', 'B9', 'B10', 'B11']\n",
    "time_column = 'B10'\n",
    "for time_column in time_columns:\n",
    "    aa = train.groupby(by = time_column)['收率'].agg({time_column+'_count':'count',time_column+'_mean':'mean',time_column+\"_std\":'std'}).reset_index()\n",
    "    aa = aa.fillna(100)\n",
    "    aa.loc[(aa[time_column+'_std']>std) | (aa[time_column+'_count']<num),time_column+'_mean'] = mean\n",
    "    aa = aa[[time_column,time_column+'_mean',time_column+\"_std\"]]\n",
    "    column_mean_std.append(time_column+'_mean')\n",
    "    column_mean_std.append(time_column+'_std')\n",
    "    train = train.merge(aa,on = time_column,how = 'left')\n",
    "    test = test.merge(aa,on = time_column,how = 'left')\n",
    "len(column_mean_std)\n",
    "data_2 = pd.concat([train[column_mean_std],test[column_mean_std]],axis=0,ignore_index=True)\n",
    "data_2 = data_2.fillna(mean)"
   ]
  },
  {
   "cell_type": "code",
   "execution_count": 158,
   "metadata": {},
   "outputs": [
    {
     "data": {
      "text/plain": [
       "(1396, 44)"
      ]
     },
     "execution_count": 158,
     "metadata": {},
     "output_type": "execute_result"
    }
   ],
   "source": [
    "train = pd.read_csv('./jinnan_round1_train_20181227.csv', encoding = 'gb18030')\n",
    "test  = pd.read_csv('./jinnan_round1_testA_20181227.csv', encoding = 'gb18030')\n",
    "train.shape\n",
    "#train = train[[x for x in train.index if x not in vaild.index]].copy()"
   ]
  },
  {
   "cell_type": "code",
   "execution_count": 159,
   "metadata": {},
   "outputs": [],
   "source": [
    "#特征筛选"
   ]
  },
  {
   "cell_type": "code",
   "execution_count": 160,
   "metadata": {},
   "outputs": [
    {
     "data": {
      "text/html": [
       "<div>\n",
       "<style scoped>\n",
       "    .dataframe tbody tr th:only-of-type {\n",
       "        vertical-align: middle;\n",
       "    }\n",
       "\n",
       "    .dataframe tbody tr th {\n",
       "        vertical-align: top;\n",
       "    }\n",
       "\n",
       "    .dataframe thead th {\n",
       "        text-align: right;\n",
       "    }\n",
       "</style>\n",
       "<table border=\"1\" class=\"dataframe\">\n",
       "  <thead>\n",
       "    <tr style=\"text-align: right;\">\n",
       "      <th></th>\n",
       "      <th>Feature</th>\n",
       "      <th>Unique_values</th>\n",
       "      <th>Percentage of missing values</th>\n",
       "      <th>Percentage of values in the biggest category</th>\n",
       "      <th>type</th>\n",
       "    </tr>\n",
       "  </thead>\n",
       "  <tbody>\n",
       "    <tr>\n",
       "      <th>2</th>\n",
       "      <td>A2</td>\n",
       "      <td>1</td>\n",
       "      <td>96.991404</td>\n",
       "      <td>96.991404</td>\n",
       "      <td>float64</td>\n",
       "    </tr>\n",
       "    <tr>\n",
       "      <th>7</th>\n",
       "      <td>A7</td>\n",
       "      <td>75</td>\n",
       "      <td>89.326648</td>\n",
       "      <td>89.326648</td>\n",
       "      <td>object</td>\n",
       "    </tr>\n",
       "    <tr>\n",
       "      <th>8</th>\n",
       "      <td>A8</td>\n",
       "      <td>8</td>\n",
       "      <td>89.326648</td>\n",
       "      <td>89.326648</td>\n",
       "      <td>float64</td>\n",
       "    </tr>\n",
       "    <tr>\n",
       "      <th>39</th>\n",
       "      <td>B11</td>\n",
       "      <td>37</td>\n",
       "      <td>60.816619</td>\n",
       "      <td>60.816619</td>\n",
       "      <td>object</td>\n",
       "    </tr>\n",
       "    <tr>\n",
       "      <th>38</th>\n",
       "      <td>B10</td>\n",
       "      <td>180</td>\n",
       "      <td>17.478510</td>\n",
       "      <td>17.478510</td>\n",
       "      <td>object</td>\n",
       "    </tr>\n",
       "    <tr>\n",
       "      <th>3</th>\n",
       "      <td>A3</td>\n",
       "      <td>3</td>\n",
       "      <td>3.008596</td>\n",
       "      <td>95.702006</td>\n",
       "      <td>float64</td>\n",
       "    </tr>\n",
       "    <tr>\n",
       "      <th>29</th>\n",
       "      <td>B1</td>\n",
       "      <td>21</td>\n",
       "      <td>0.716332</td>\n",
       "      <td>53.796562</td>\n",
       "      <td>float64</td>\n",
       "    </tr>\n",
       "    <tr>\n",
       "      <th>23</th>\n",
       "      <td>A23</td>\n",
       "      <td>3</td>\n",
       "      <td>0.214900</td>\n",
       "      <td>99.641834</td>\n",
       "      <td>float64</td>\n",
       "    </tr>\n",
       "    <tr>\n",
       "      <th>21</th>\n",
       "      <td>A21</td>\n",
       "      <td>12</td>\n",
       "      <td>0.214900</td>\n",
       "      <td>89.828080</td>\n",
       "      <td>float64</td>\n",
       "    </tr>\n",
       "    <tr>\n",
       "      <th>30</th>\n",
       "      <td>B2</td>\n",
       "      <td>3</td>\n",
       "      <td>0.143266</td>\n",
       "      <td>98.424069</td>\n",
       "      <td>float64</td>\n",
       "    </tr>\n",
       "  </tbody>\n",
       "</table>\n",
       "</div>"
      ],
      "text/plain": [
       "<div>\n",
       "<style scoped>\n",
       "    .dataframe tbody tr th:only-of-type {\n",
       "        vertical-align: middle;\n",
       "    }\n",
       "\n",
       "    .dataframe tbody tr th {\n",
       "        vertical-align: top;\n",
       "    }\n",
       "\n",
       "    .dataframe thead th {\n",
       "        text-align: right;\n",
       "    }\n",
       "</style>\n",
       "<table border=\"1\" class=\"dataframe\">\n",
       "  <thead>\n",
       "    <tr style=\"text-align: right;\">\n",
       "      <th></th>\n",
       "      <th>Feature</th>\n",
       "      <th>Unique_values</th>\n",
       "      <th>Percentage of missing values</th>\n",
       "      <th>Percentage of values in the biggest category</th>\n",
       "      <th>type</th>\n",
       "    </tr>\n",
       "  </thead>\n",
       "  <tbody>\n",
       "    <tr>\n",
       "      <th>2</th>\n",
       "      <td>A2</td>\n",
       "      <td>1</td>\n",
       "      <td>96.991404</td>\n",
       "      <td>96.991404</td>\n",
       "      <td>float64</td>\n",
       "    </tr>\n",
       "    <tr>\n",
       "      <th>7</th>\n",
       "      <td>A7</td>\n",
       "      <td>75</td>\n",
       "      <td>89.326648</td>\n",
       "      <td>89.326648</td>\n",
       "      <td>object</td>\n",
       "    </tr>\n",
       "    <tr>\n",
       "      <th>8</th>\n",
       "      <td>A8</td>\n",
       "      <td>8</td>\n",
       "      <td>89.326648</td>\n",
       "      <td>89.326648</td>\n",
       "      <td>float64</td>\n",
       "    </tr>\n",
       "    <tr>\n",
       "      <th>39</th>\n",
       "      <td>B11</td>\n",
       "      <td>37</td>\n",
       "      <td>60.816619</td>\n",
       "      <td>60.816619</td>\n",
       "      <td>object</td>\n",
       "    </tr>\n",
       "    <tr>\n",
       "      <th>38</th>\n",
       "      <td>B10</td>\n",
       "      <td>180</td>\n",
       "      <td>17.478510</td>\n",
       "      <td>17.478510</td>\n",
       "      <td>object</td>\n",
       "    </tr>\n",
       "    <tr>\n",
       "      <th>3</th>\n",
       "      <td>A3</td>\n",
       "      <td>3</td>\n",
       "      <td>3.008596</td>\n",
       "      <td>95.702006</td>\n",
       "      <td>float64</td>\n",
       "    </tr>\n",
       "    <tr>\n",
       "      <th>29</th>\n",
       "      <td>B1</td>\n",
       "      <td>21</td>\n",
       "      <td>0.716332</td>\n",
       "      <td>53.796562</td>\n",
       "      <td>float64</td>\n",
       "    </tr>\n",
       "    <tr>\n",
       "      <th>23</th>\n",
       "      <td>A23</td>\n",
       "      <td>3</td>\n",
       "      <td>0.214900</td>\n",
       "      <td>99.641834</td>\n",
       "      <td>float64</td>\n",
       "    </tr>\n",
       "    <tr>\n",
       "      <th>21</th>\n",
       "      <td>A21</td>\n",
       "      <td>12</td>\n",
       "      <td>0.214900</td>\n",
       "      <td>89.828080</td>\n",
       "      <td>float64</td>\n",
       "    </tr>\n",
       "    <tr>\n",
       "      <th>30</th>\n",
       "      <td>B2</td>\n",
       "      <td>3</td>\n",
       "      <td>0.143266</td>\n",
       "      <td>98.424069</td>\n",
       "      <td>float64</td>\n",
       "    </tr>\n",
       "  </tbody>\n",
       "</table>\n",
       "</div>"
      ]
     },
     "execution_count": 160,
     "metadata": {},
     "output_type": "execute_result"
    }
   ],
   "source": [
    "stats = []\n",
    "for col in train.columns:\n",
    "    stats.append((col, train[col].nunique(), train[col].isnull().sum() * 100 / train.shape[0], train[col].value_counts(normalize=True, dropna=False).values[0] * 100, train[col].dtype))\n",
    "    \n",
    "stats_df = pd.DataFrame(stats, columns=['Feature', 'Unique_values', 'Percentage of missing values', 'Percentage of values in the biggest category', 'type'])\n",
    "stats_df.sort_values('Percentage of missing values', ascending=False)[:10]"
   ]
  },
  {
   "cell_type": "code",
   "execution_count": 161,
   "metadata": {},
   "outputs": [
    {
     "data": {
      "text/html": [
       "<div>\n",
       "<style scoped>\n",
       "    .dataframe tbody tr th:only-of-type {\n",
       "        vertical-align: middle;\n",
       "    }\n",
       "\n",
       "    .dataframe tbody tr th {\n",
       "        vertical-align: top;\n",
       "    }\n",
       "\n",
       "    .dataframe thead th {\n",
       "        text-align: right;\n",
       "    }\n",
       "</style>\n",
       "<table border=\"1\" class=\"dataframe\">\n",
       "  <thead>\n",
       "    <tr style=\"text-align: right;\">\n",
       "      <th></th>\n",
       "      <th>Feature</th>\n",
       "      <th>Unique_values</th>\n",
       "      <th>Percentage of missing values</th>\n",
       "      <th>Percentage of values in the biggest category</th>\n",
       "      <th>type</th>\n",
       "    </tr>\n",
       "  </thead>\n",
       "  <tbody>\n",
       "    <tr>\n",
       "      <th>2</th>\n",
       "      <td>A2</td>\n",
       "      <td>1</td>\n",
       "      <td>98.000000</td>\n",
       "      <td>98.000000</td>\n",
       "      <td>float64</td>\n",
       "    </tr>\n",
       "    <tr>\n",
       "      <th>7</th>\n",
       "      <td>A7</td>\n",
       "      <td>15</td>\n",
       "      <td>88.000000</td>\n",
       "      <td>88.000000</td>\n",
       "      <td>object</td>\n",
       "    </tr>\n",
       "    <tr>\n",
       "      <th>8</th>\n",
       "      <td>A8</td>\n",
       "      <td>2</td>\n",
       "      <td>88.000000</td>\n",
       "      <td>88.000000</td>\n",
       "      <td>float64</td>\n",
       "    </tr>\n",
       "    <tr>\n",
       "      <th>39</th>\n",
       "      <td>B11</td>\n",
       "      <td>11</td>\n",
       "      <td>59.333333</td>\n",
       "      <td>59.333333</td>\n",
       "      <td>object</td>\n",
       "    </tr>\n",
       "    <tr>\n",
       "      <th>38</th>\n",
       "      <td>B10</td>\n",
       "      <td>50</td>\n",
       "      <td>14.666667</td>\n",
       "      <td>14.666667</td>\n",
       "      <td>object</td>\n",
       "    </tr>\n",
       "    <tr>\n",
       "      <th>3</th>\n",
       "      <td>A3</td>\n",
       "      <td>2</td>\n",
       "      <td>2.000000</td>\n",
       "      <td>97.333333</td>\n",
       "      <td>float64</td>\n",
       "    </tr>\n",
       "    <tr>\n",
       "      <th>25</th>\n",
       "      <td>A25</td>\n",
       "      <td>7</td>\n",
       "      <td>0.666667</td>\n",
       "      <td>42.000000</td>\n",
       "      <td>float64</td>\n",
       "    </tr>\n",
       "    <tr>\n",
       "      <th>27</th>\n",
       "      <td>A27</td>\n",
       "      <td>11</td>\n",
       "      <td>0.666667</td>\n",
       "      <td>47.333333</td>\n",
       "      <td>float64</td>\n",
       "    </tr>\n",
       "    <tr>\n",
       "      <th>20</th>\n",
       "      <td>A20</td>\n",
       "      <td>52</td>\n",
       "      <td>0.666667</td>\n",
       "      <td>20.000000</td>\n",
       "      <td>object</td>\n",
       "    </tr>\n",
       "    <tr>\n",
       "      <th>29</th>\n",
       "      <td>B1</td>\n",
       "      <td>13</td>\n",
       "      <td>0.666667</td>\n",
       "      <td>56.000000</td>\n",
       "      <td>float64</td>\n",
       "    </tr>\n",
       "  </tbody>\n",
       "</table>\n",
       "</div>"
      ],
      "text/plain": [
       "<div>\n",
       "<style scoped>\n",
       "    .dataframe tbody tr th:only-of-type {\n",
       "        vertical-align: middle;\n",
       "    }\n",
       "\n",
       "    .dataframe tbody tr th {\n",
       "        vertical-align: top;\n",
       "    }\n",
       "\n",
       "    .dataframe thead th {\n",
       "        text-align: right;\n",
       "    }\n",
       "</style>\n",
       "<table border=\"1\" class=\"dataframe\">\n",
       "  <thead>\n",
       "    <tr style=\"text-align: right;\">\n",
       "      <th></th>\n",
       "      <th>Feature</th>\n",
       "      <th>Unique_values</th>\n",
       "      <th>Percentage of missing values</th>\n",
       "      <th>Percentage of values in the biggest category</th>\n",
       "      <th>type</th>\n",
       "    </tr>\n",
       "  </thead>\n",
       "  <tbody>\n",
       "    <tr>\n",
       "      <th>2</th>\n",
       "      <td>A2</td>\n",
       "      <td>1</td>\n",
       "      <td>98.000000</td>\n",
       "      <td>98.000000</td>\n",
       "      <td>float64</td>\n",
       "    </tr>\n",
       "    <tr>\n",
       "      <th>7</th>\n",
       "      <td>A7</td>\n",
       "      <td>15</td>\n",
       "      <td>88.000000</td>\n",
       "      <td>88.000000</td>\n",
       "      <td>object</td>\n",
       "    </tr>\n",
       "    <tr>\n",
       "      <th>8</th>\n",
       "      <td>A8</td>\n",
       "      <td>2</td>\n",
       "      <td>88.000000</td>\n",
       "      <td>88.000000</td>\n",
       "      <td>float64</td>\n",
       "    </tr>\n",
       "    <tr>\n",
       "      <th>39</th>\n",
       "      <td>B11</td>\n",
       "      <td>11</td>\n",
       "      <td>59.333333</td>\n",
       "      <td>59.333333</td>\n",
       "      <td>object</td>\n",
       "    </tr>\n",
       "    <tr>\n",
       "      <th>38</th>\n",
       "      <td>B10</td>\n",
       "      <td>50</td>\n",
       "      <td>14.666667</td>\n",
       "      <td>14.666667</td>\n",
       "      <td>object</td>\n",
       "    </tr>\n",
       "    <tr>\n",
       "      <th>3</th>\n",
       "      <td>A3</td>\n",
       "      <td>2</td>\n",
       "      <td>2.000000</td>\n",
       "      <td>97.333333</td>\n",
       "      <td>float64</td>\n",
       "    </tr>\n",
       "    <tr>\n",
       "      <th>25</th>\n",
       "      <td>A25</td>\n",
       "      <td>7</td>\n",
       "      <td>0.666667</td>\n",
       "      <td>42.000000</td>\n",
       "      <td>float64</td>\n",
       "    </tr>\n",
       "    <tr>\n",
       "      <th>27</th>\n",
       "      <td>A27</td>\n",
       "      <td>11</td>\n",
       "      <td>0.666667</td>\n",
       "      <td>47.333333</td>\n",
       "      <td>float64</td>\n",
       "    </tr>\n",
       "    <tr>\n",
       "      <th>20</th>\n",
       "      <td>A20</td>\n",
       "      <td>52</td>\n",
       "      <td>0.666667</td>\n",
       "      <td>20.000000</td>\n",
       "      <td>object</td>\n",
       "    </tr>\n",
       "    <tr>\n",
       "      <th>29</th>\n",
       "      <td>B1</td>\n",
       "      <td>13</td>\n",
       "      <td>0.666667</td>\n",
       "      <td>56.000000</td>\n",
       "      <td>float64</td>\n",
       "    </tr>\n",
       "  </tbody>\n",
       "</table>\n",
       "</div>"
      ]
     },
     "execution_count": 161,
     "metadata": {},
     "output_type": "execute_result"
    }
   ],
   "source": [
    "stats = []\n",
    "for col in test.columns:\n",
    "    stats.append((col, test[col].nunique(), test[col].isnull().sum() * 100 / test.shape[0], test[col].value_counts(normalize=True, dropna=False).values[0] * 100, test[col].dtype))\n",
    "    \n",
    "stats_df = pd.DataFrame(stats, columns=['Feature', 'Unique_values', 'Percentage of missing values', 'Percentage of values in the biggest category', 'type'])\n",
    "stats_df.sort_values('Percentage of missing values', ascending=False)[:10]"
   ]
  },
  {
   "cell_type": "code",
   "execution_count": 162,
   "metadata": {},
   "outputs": [
    {
     "data": {
      "image/png": "[encoded data removed]",
      "text/plain": [
       "<Figure size 576x432 with 1 Axes>"
      ]
     },
     "metadata": {},
     "output_type": "display_data"
    }
   ],
   "source": [
    "target_col = \"收率\"\n",
    "\n",
    "plt.figure(figsize=(8,6))\n",
    "plt.scatter(range(train.shape[0]), np.sort(train[target_col].values))\n",
    "plt.xlabel('index', fontsize=12)\n",
    "plt.ylabel('yield', fontsize=12)\n",
    "plt.show()"
   ]
  },
  {
   "cell_type": "code",
   "execution_count": 163,
   "metadata": {},
   "outputs": [],
   "source": [
    ""
   ]
  },
  {
   "cell_type": "code",
   "execution_count": 163,
   "metadata": {},
   "outputs": [
    {
     "data": {
      "image/png": "[encoded data removed]",
      "text/plain": [
       "<Figure size 864x576 with 1 Axes>"
      ]
     },
     "metadata": {},
     "output_type": "display_data"
    }
   ],
   "source": [
    "plt.figure(figsize=(12,8))\n",
    "sns.distplot(train[target_col].values, bins=50, kde=False, color=\"red\")\n",
    "plt.title(\"Histogram of yield\")\n",
    "plt.xlabel('yield', fontsize=12)\n",
    "plt.show()"
   ]
  },
  {
   "cell_type": "code",
   "execution_count": 164,
   "metadata": {},
   "outputs": [],
   "source": [
    "#train['样本id'] = train['样本id'].map(lambda x:x.split('_')[1])\n",
    "#plt.figure(figsize=(8,6))\n",
    "#plt.scatter(train['样本id'], train[target_col])\n",
    "#plt.xlabel('index', fontsize=12)\n",
    "#plt.ylabel('yield', fontsize=12)\n",
    "#plt.show()"
   ]
  },
  {
   "cell_type": "code",
   "execution_count": 165,
   "metadata": {
    "collapsed": true
   },
   "outputs": [
    {
     "data": {
      "text/plain": [
       "\"\\ntmp = train[train[target_col]>0.92]\\ntmp['样本id']\\nplt.figure(figsize=(8,16))\\nplt.scatter(tmp['样本id'], tmp[target_col])\\nplt.xlabel('index', fontsize=12)\\nplt.ylabel('yield', fontsize=12)\\nplt.show()\\ntrain.to_csv('chakan.csv',encoding='gbk')\\ntmp = pd.DataFrame(np.zeros(2000))\\ntmp = tmp.reset_index()\\ntmp['index'] = tmp['index'] +1\\ntmp = tmp.merge(train[train[target_col]<=0.902],left_on='index' ,right_on= '样本id',how='left')\\ntmp.to_csv('aaa902.csv',encoding='gbk')\\ntmp = pd.DataFrame(np.zeros(2000))\\ntmp = tmp.reset_index()\\ntmp['index'] = tmp['index'] +1\\ntmp = tmp.merge(train[train[target_col]>0.902],left_on='index' ,right_on= '样本id',how='left')\\ntmp.to_csv('aaadayu902.csv',encoding='gbk')\\nnum = 560\\nprint(train.loc[865,target_col])\\n\\ntrain['target_feature'] = mean_num\\ntrain['target_feature']\\nfor num in range(500,600):\\n    pre_d_all = []\\n    for id in train[train[target_col]>0.92]['样本id'].values:\\n        sum_all = 0\\n        num_j = 0\\n        for i in [-3,-2,-1,1,2,3]:\\n            if (id + i * num) in train['样本id'].values:\\n                num_j+=1\\n                sum_all +=train.loc[train['样本id'] == id + i * num,target_col].values\\n        if num_j == 0:\\n            pre_d = mean_num\\n        else:\\n            pre_d = (sum_all/num_j)[0]\\n        pre_d_all.append([id,pre_d])\\n    pre_d_all = pd.DataFrame(pre_d_all)\\n    pre_d_all.columns =['id','pred']\\n    pre_d_all = pre_d_all.merge(train[['样本id',target_col]],left_on= 'id',right_on = '样本id',how='left')\\n    pre_d_all['mean'] = np.mean(pre_d_all[target_col])\\n    pre_d_all\\n\\n    print('============================',num)\\n    print(mean_squared_error(pre_d_all[target_col],pre_d_all['pred']))\\n    print(mean_squared_error(pre_d_all[target_col],pre_d_all['mean']))\\n    pre_d_all\\ntrain[train[target_col]>0.92]['样本id']\\npre_d_all = pd.DataFrame(pre_d_all)\\npre_d_all[target_col] = train[target_col]\\npre_d_all['mean'] = np.mean(pre_d_all[target_col])\\npre_d_all\\npre_d_all.columns =['id','pred' , '收率', 'mean']\\nprint(mean_squared_error(pre_d_all[target_col],pre_d_all['pred']))\\nprint(mean_squared_error(pre_d_all[target_col],pre_d_all['mean']))\""
      ]
     },
     "execution_count": 165,
     "metadata": {},
     "output_type": "execute_result"
    }
   ],
   "source": [
    "\"\"\"\n",
    "tmp = train[train[target_col]>0.92]\n",
    "tmp['样本id']\n",
    "plt.figure(figsize=(8,16))\n",
    "plt.scatter(tmp['样本id'], tmp[target_col])\n",
    "plt.xlabel('index', fontsize=12)\n",
    "plt.ylabel('yield', fontsize=12)\n",
    "plt.show()\n",
    "train.to_csv('chakan.csv',encoding='gbk')\n",
    "tmp = pd.DataFrame(np.zeros(2000))\n",
    "tmp = tmp.reset_index()\n",
    "tmp['index'] = tmp['index'] +1\n",
    "tmp = tmp.merge(train[train[target_col]<=0.902],left_on='index' ,right_on= '样本id',how='left')\n",
    "tmp.to_csv('aaa902.csv',encoding='gbk')\n",
    "tmp = pd.DataFrame(np.zeros(2000))\n",
    "tmp = tmp.reset_index()\n",
    "tmp['index'] = tmp['index'] +1\n",
    "tmp = tmp.merge(train[train[target_col]>0.902],left_on='index' ,right_on= '样本id',how='left')\n",
    "tmp.to_csv('aaadayu902.csv',encoding='gbk')\n",
    "num = 560\n",
    "print(train.loc[865,target_col])\n",
    "\n",
    "train['target_feature'] = mean_num\n",
    "train['target_feature']\n",
    "for num in range(500,600):\n",
    "    pre_d_all = []\n",
    "    for id in train[train[target_col]>0.92]['样本id'].values:\n",
    "        sum_all = 0\n",
    "        num_j = 0\n",
    "        for i in [-3,-2,-1,1,2,3]:\n",
    "            if (id + i * num) in train['样本id'].values:\n",
    "                num_j+=1\n",
    "                sum_all +=train.loc[train['样本id'] == id + i * num,target_col].values\n",
    "        if num_j == 0:\n",
    "            pre_d = mean_num\n",
    "        else:\n",
    "            pre_d = (sum_all/num_j)[0]\n",
    "        pre_d_all.append([id,pre_d])\n",
    "    pre_d_all = pd.DataFrame(pre_d_all)\n",
    "    pre_d_all.columns =['id','pred']\n",
    "    pre_d_all = pre_d_all.merge(train[['样本id',target_col]],left_on= 'id',right_on = '样本id',how='left')\n",
    "    pre_d_all['mean'] = np.mean(pre_d_all[target_col])\n",
    "    pre_d_all\n",
    "\n",
    "    print('============================',num)\n",
    "    print(mean_squared_error(pre_d_all[target_col],pre_d_all['pred']))\n",
    "    print(mean_squared_error(pre_d_all[target_col],pre_d_all['mean']))\n",
    "    pre_d_all\n",
    "train[train[target_col]>0.92]['样本id']\n",
    "pre_d_all = pd.DataFrame(pre_d_all)\n",
    "pre_d_all[target_col] = train[target_col]\n",
    "pre_d_all['mean'] = np.mean(pre_d_all[target_col])\n",
    "pre_d_all\n",
    "pre_d_all.columns =['id','pred' , '收率', 'mean']\n",
    "print(mean_squared_error(pre_d_all[target_col],pre_d_all['pred']))\n",
    "print(mean_squared_error(pre_d_all[target_col],pre_d_all['mean']))\"\"\""
   ]
  },
  {
   "cell_type": "code",
   "execution_count": 166,
   "metadata": {},
   "outputs": [],
   "source": [
    "# 删除类别唯一的特征\n",
    "target_col = \"收率\"\n",
    "\n",
    "for df in [train, test]:\n",
    "    df.drop(['B3', 'B13', 'A13', 'A18', 'A23'], axis=1, inplace=True)"
   ]
  },
  {
   "cell_type": "code",
   "execution_count": 167,
   "metadata": {},
   "outputs": [
    {
     "name": "stdout",
     "output_type": "stream",
     "text": [
      "A1 0.9863896848137536\nA2 0.9699140401146131\nA3 0.9570200573065902\nA4 0.9570200573065902\nB2 0.9842406876790831\n"
     ]
    }
   ],
   "source": [
    "# 删除某一类别占比超过90%的列\n",
    "good_cols = list(train.columns)\n",
    "for col in train.columns:\n",
    "    rate = train[col].value_counts(normalize=True, dropna=False).values[0]\n",
    "    if rate > 0.9:\n",
    "        good_cols.remove(col)\n",
    "        print(col,rate)\n",
    "\n",
    "# 暂时不删除，后面构造特征需要\n",
    "good_cols.append('A1')\n",
    "good_cols.append('A3')\n",
    "good_cols.append('A4')\n",
    "\n",
    "# 删除异常值\n",
    "train = train[train['收率']>0.87]\n",
    "        \n",
    "train = train[good_cols]\n",
    "good_cols.remove('收率')\n",
    "test  = test[good_cols]"
   ]
  },
  {
   "cell_type": "code",
   "execution_count": 168,
   "metadata": {},
   "outputs": [],
   "source": [
    "# 合并数据集\n",
    "target = train['收率']\n",
    "del train['收率']\n",
    "data = pd.concat([train,test],axis=0,ignore_index=True)\n",
    "data = data.fillna(-1)"
   ]
  },
  {
   "cell_type": "code",
   "execution_count": 169,
   "metadata": {},
   "outputs": [],
   "source": [
    "def timeTranSecond(t):\n",
    "    try:\n",
    "        t,m,s=t.split(\":\")\n",
    "    except:\n",
    "        if t=='1900/1/9 7:00':\n",
    "            return 7*3600/3600\n",
    "        elif t=='1900/1/1 2:30':\n",
    "            return (2*3600+30*60)/3600\n",
    "        elif t==-1:\n",
    "            return -1\n",
    "        else:\n",
    "            return 0\n",
    "    \n",
    "    try:\n",
    "        tm = (int(t)*3600+int(m)*60+int(s))/3600\n",
    "    except:\n",
    "        return (30*60)/3600\n",
    "    \n",
    "    return tm\n",
    "for f in ['A5','A7','A9','A11','A14','A16','A24','A26','B5','B7']:\n",
    "    try:\n",
    "        data[f] = data[f].apply(timeTranSecond)\n",
    "    except:\n",
    "        print(f,'应该在前面被删除了！')\n",
    "\n",
    "def getDuration(se):\n",
    "    try:\n",
    "        sh,sm,eh,em=re.findall(r\"\\d+\\.?\\d*\",se)\n",
    "    except:\n",
    "        if se == -1:\n",
    "            return -1 \n",
    "        \n",
    "    try:\n",
    "        if int(sh)>int(eh):\n",
    "            tm = (int(eh)*3600+int(em)*60-int(sm)*60-int(sh)*3600)/3600 + 24\n",
    "        else:\n",
    "            tm = (int(eh)*3600+int(em)*60-int(sm)*60-int(sh)*3600)/3600\n",
    "    except:\n",
    "        if se=='19:-20:05':\n",
    "            return 1\n",
    "        elif se=='15:00-1600':\n",
    "            return 1\n",
    "    \n",
    "    return tm\n",
    "for f in ['A20','A28','B4','B9','B10','B11']:\n",
    "    data[f] = data.apply(lambda df: getDuration(df[f]), axis=1)"
   ]
  },
  {
   "cell_type": "code",
   "execution_count": 170,
   "metadata": {},
   "outputs": [
    {
     "data": {
      "text/plain": [
       "Index(['样本id', 'A5', 'A6', 'A7', 'A8', 'A9', 'A10', 'A11', 'A12', 'A14', 'A15',\n       'A16', 'A17', 'A19', 'A20', 'A21', 'A22', 'A24', 'A25', 'A26', 'A27',\n       'A28', 'B1', 'B4', 'B5', 'B6', 'B7', 'B8', 'B9', 'B10', 'B11', 'B12',\n       'B14', 'A1', 'A3', 'A4'],\n      dtype='object')"
      ]
     },
     "execution_count": 170,
     "metadata": {},
     "output_type": "execute_result"
    }
   ],
   "source": [
    "data.columns"
   ]
  },
  {
   "cell_type": "code",
   "execution_count": 171,
   "metadata": {},
   "outputs": [],
   "source": [
    "data['样本id'] = data['样本id'].apply(lambda x: int(x.split('_')[1]))\n",
    "\n",
    "categorical_columns = [f for f in data.columns if f not in ['样本id']]\n",
    "numerical_columns = [f for f in data.columns if f not in categorical_columns]"
   ]
  },
  {
   "cell_type": "code",
   "execution_count": 172,
   "metadata": {},
   "outputs": [
    {
     "data": {
      "text/plain": [
       "0"
      ]
     },
     "execution_count": 172,
     "metadata": {},
     "output_type": "execute_result"
    }
   ],
   "source": [
    "mean_num = np.mean(target)\n",
    "mean_num\n",
    "pred_all = []\n",
    "tmp = pd.DataFrame()\n",
    "tmp['样本id'] = train['样本id']\n",
    "tmp['样本id'] = tmp['样本id'].map(lambda x:x.split('_')[1])\n",
    "tmp['样本id'] = tmp['样本id'].astype(float)\n",
    "tmp['target'] = target\n",
    "tmp.reset_index(drop=True,inplace=True)\n",
    "len(tmp[tmp['样本id']>2000])"
   ]
  },
  {
   "cell_type": "code",
   "execution_count": 173,
   "metadata": {},
   "outputs": [],
   "source": [
    ""
   ]
  },
  {
   "cell_type": "code",
   "execution_count": 173,
   "metadata": {},
   "outputs": [],
   "source": [
    "#num = 20\n",
    "#for i in range(1,2001):\n",
    "#    tmp_data = tmp[(tmp['样本id']>= i-num) & (tmp['样本id']<= i+num) & (tmp['样本id'] != i)]\n",
    "#    if len(tmp_data) != 0:\n",
    "#        pred = np.mean(tmp_data['target'])\n",
    "#        std = np.std(tmp_data['target'])\n",
    "#        pred_all.append([i,pred,std])\n",
    "#    else:\n",
    "#        pred_all.append([i,mean_num,-1])"
   ]
  },
  {
   "cell_type": "code",
   "execution_count": 174,
   "metadata": {},
   "outputs": [
    {
     "data": {
      "text/plain": [
       "RangeIndex(start=0, stop=1531, step=1)"
      ]
     },
     "execution_count": 174,
     "metadata": {},
     "output_type": "execute_result"
    }
   ],
   "source": [
    "#data = data.merge(pred_all,on = '样本id',how = 'left')\n",
    "#numerical_columns.append('pred')\n",
    "#numerical_columns.append('std')\n",
    "data.shape\n",
    "data.columns\n",
    "data.index"
   ]
  },
  {
   "cell_type": "code",
   "execution_count": 175,
   "metadata": {},
   "outputs": [],
   "source": [
    "###温度特征data\n",
    "data['wendu_mean'] = np.mean(data[['A6','A10','A12','A15','A17','A21','A25','A27','B6','B8']],axis=1)\n",
    "numerical_columns.append('wendu_mean')"
   ]
  },
  {
   "cell_type": "code",
   "execution_count": 176,
   "metadata": {},
   "outputs": [],
   "source": [
    "# 有风的冬老哥，在群里无意爆出来的特征，让我提升了三个个点，当然也可以顺此继续扩展\n",
    "data['b14/a1_a3_a4_a19_b1_b12'] = data['B14']/(data['A1']+data['A3']+data['A4']+data['A19']+data['B1']+data['B12'])\n",
    "\n",
    "numerical_columns.append('b14/a1_a3_a4_a19_b1_b12')\n",
    "\n",
    "del data['A1']\n",
    "del data['A3']\n",
    "del data['A4']\n",
    "categorical_columns.remove('A1')\n",
    "categorical_columns.remove('A3')\n",
    "categorical_columns.remove('A4')"
   ]
  },
  {
   "cell_type": "code",
   "execution_count": 177,
   "metadata": {},
   "outputs": [],
   "source": [
    "data['A25'][data['样本id'] == 1590] = data['A25'][data['样本id'] != 1590].value_counts().values[0]\n",
    "data['A25'] = data['A25'].astype(float)"
   ]
  },
  {
   "cell_type": "code",
   "execution_count": 178,
   "metadata": {},
   "outputs": [],
   "source": [
    "data = pd.concat([data,data_2],axis=1)"
   ]
  },
  {
   "cell_type": "code",
   "execution_count": 179,
   "metadata": {},
   "outputs": [],
   "source": [
    "#label encoder\n",
    "for f in categorical_columns:\n",
    "    data[f] = data[f].map(dict(zip(data[f].unique(), range(0, data[f].nunique()))))\n",
    "train = data[:train.shape[0]]\n",
    "test  = data[train.shape[0]:]"
   ]
  },
  {
   "cell_type": "code",
   "execution_count": 198,
   "metadata": {},
   "outputs": [],
   "source": [
    "#train['target'] = list(target) \n",
    "train['target'] = target\n",
    "train['intTarget'] = pd.cut(train['target'], 5, labels=False)\n",
    "train = pd.get_dummies(train, columns=['intTarget'])\n",
    "li = ['intTarget_0.0','intTarget_1.0','intTarget_2.0','intTarget_3.0','intTarget_4.0']\n",
    "mean_column_cross = []"
   ]
  },
  {
   "cell_type": "code",
   "execution_count": 199,
   "metadata": {},
   "outputs": [
    {
     "data": {
      "text/plain": [
       "Index(['样本id', 'A5', 'A6', 'A7', 'A8', 'A9', 'A10', 'A11', 'A12', 'A14', 'A15',\n       'A16', 'A17', 'A19', 'A20', 'A21', 'A22', 'A24', 'A25', 'A26', 'A27',\n       'A28', 'B1', 'B4', 'B5', 'B6', 'B7', 'B8', 'B9', 'B10', 'B11', 'B12',\n       'B14', 'wendu_mean', 'b14/a1_a3_a4_a19_b1_b12', 'A5_mean', 'A5_std',\n       'A7_mean', 'A7_std', 'A9_mean', 'A9_std', 'A11_mean', 'A11_std',\n       'A14_mean', 'A14_std', 'A16_mean', 'A16_std', 'A24_mean', 'A24_std',\n       'A26_mean', 'A26_std', 'B5_mean', 'B5_std', 'B7_mean', 'B7_std',\n       'A20_mean', 'A20_std', 'A28_mean', 'A28_std', 'B4_mean', 'B4_std',\n       'B9_mean', 'B9_std', 'B10_mean', 'B10_std', 'B11_mean', 'B11_std',\n       'target', 'intTarget_0.0', 'intTarget_1.0', 'intTarget_2.0',\n       'intTarget_3.0', 'intTarget_4.0'],\n      dtype='object')"
      ]
     },
     "execution_count": 199,
     "metadata": {},
     "output_type": "execute_result"
    }
   ],
   "source": [
    "train.columns"
   ]
  },
  {
   "cell_type": "code",
   "execution_count": 202,
   "metadata": {},
   "outputs": [
    {
     "name": "stdout",
     "output_type": "stream",
     "text": [
      "['A5', 'A6', 'A7', 'A8', 'A9', 'A10', 'A11', 'A12', 'A14', 'A15', 'A16', 'A17', 'A19', 'A20', 'A21', 'A22', 'A24', 'A25', 'A26', 'A27', 'A28', 'B1', 'B4', 'B5', 'B6', 'B7', 'B8', 'B9', 'B10', 'B11', 'B12', 'B14']\n0.04666666666666667\n0.04666666666666667\n0.04666666666666667\n0.04666666666666667\n0.04666666666666667\n['A5', 'A6', 'A7', 'A8', 'A9', 'A10', 'A11', 'A12', 'A14', 'A15', 'A16', 'A17', 'A19', 'A20', 'A21', 'A22', 'A24', 'A25', 'A26', 'A27', 'A28', 'B1', 'B4', 'B5', 'B6', 'B7', 'B8', 'B9', 'B10', 'B11', 'B12', 'B14']\n0.03333333333333333\n0.03333333333333333\n0.03333333333333333\n0.03333333333333333\n0.03333333333333333\n['A5', 'A6', 'A7', 'A8', 'A9', 'A10', 'A11', 'A12', 'A14', 'A15', 'A16', 'A17', 'A19', 'A20', 'A21', 'A22', 'A24', 'A25', 'A26', 'A27', 'A28', 'B1', 'B4', 'B5', 'B6', 'B7', 'B8', 'B9', 'B10', 'B11', 'B12', 'B14']"
     ]
    },
    {
     "name": "stdout",
     "output_type": "stream",
     "text": [
      "\n0.06\n0.06\n0.06\n0.06\n0.06\n['A5', 'A6', 'A7', 'A8', 'A9', 'A10', 'A11', 'A12', 'A14', 'A15', 'A16', 'A17', 'A19', 'A20', 'A21', 'A22', 'A24', 'A25', 'A26', 'A27', 'A28', 'B1', 'B4', 'B5', 'B6', 'B7', 'B8', 'B9', 'B10', 'B11', 'B12', 'B14']\n0.006666666666666667\n0.006666666666666667\n"
     ]
    },
    {
     "name": "stdout",
     "output_type": "stream",
     "text": [
      "0.006666666666666667\n0.006666666666666667\n0.006666666666666667\n['A5', 'A6', 'A7', 'A8', 'A9', 'A10', 'A11', 'A12', 'A14', 'A15', 'A16', 'A17', 'A19', 'A20', 'A21', 'A22', 'A24', 'A25', 'A26', 'A27', 'A28', 'B1', 'B4', 'B5', 'B6', 'B7', 'B8', 'B9', 'B10', 'B11', 'B12', 'B14']\n0.07333333333333333\n0.07333333333333333\n0.07333333333333333\n0.07333333333333333\n0.07333333333333333\n['A5', 'A6', 'A7', 'A8', 'A9', 'A10', 'A11', 'A12', 'A14', 'A15', 'A16', 'A17', 'A19', 'A20', 'A21', 'A22', 'A24', 'A25', 'A26', 'A27', 'A28', 'B1', 'B4', 'B5', 'B6', 'B7', 'B8', 'B9', 'B10', 'B11', 'B12', 'B14']\n0.013333333333333334\n0.013333333333333334"
     ]
    },
    {
     "name": "stdout",
     "output_type": "stream",
     "text": [
      "\n0.013333333333333334\n0.013333333333333334\n0.013333333333333334\n['A5', 'A6', 'A7', 'A8', 'A9', 'A10', 'A11', 'A12', 'A14', 'A15', 'A16', 'A17', 'A19', 'A20', 'A21', 'A22', 'A24', 'A25', 'A26', 'A27', 'A28', 'B1', 'B4', 'B5', 'B6', 'B7', 'B8', 'B9', 'B10', 'B11', 'B12', 'B14']\n0.06666666666666667\n0.06666666666666667\n"
     ]
    },
    {
     "name": "stdout",
     "output_type": "stream",
     "text": [
      "0.06666666666666667\n0.06666666666666667\n0.06666666666666667\n['A5', 'A6', 'A7', 'A8', 'A9', 'A10', 'A11', 'A12', 'A14', 'A15', 'A16', 'A17', 'A19', 'A20', 'A21', 'A22', 'A24', 'A25', 'A26', 'A27', 'A28', 'B1', 'B4', 'B5', 'B6', 'B7', 'B8', 'B9', 'B10', 'B11', 'B12', 'B14']\n0.013333333333333334\n0.013333333333333334\n0.013333333333333334\n0.013333333333333334\n0.013333333333333334"
     ]
    },
    {
     "name": "stdout",
     "output_type": "stream",
     "text": [
      "\n['A5', 'A6', 'A7', 'A8', 'A9', 'A10', 'A11', 'A12', 'A14', 'A15', 'A16', 'A17', 'A19', 'A20', 'A21', 'A22', 'A24', 'A25', 'A26', 'A27', 'A28', 'B1', 'B4', 'B5', 'B6', 'B7', 'B8', 'B9', 'B10', 'B11', 'B12', 'B14']\n0.07333333333333333\n0.07333333333333333\n0.07333333333333333\n0.07333333333333333\n0.07333333333333333\n['A5', 'A6', 'A7', 'A8', 'A9', 'A10', 'A11', 'A12', 'A14', 'A15', 'A16', 'A17', 'A19', 'A20', 'A21', 'A22', 'A24', 'A25', 'A26', 'A27', 'A28', 'B1', 'B4', 'B5', 'B6', 'B7', 'B8', 'B9', 'B10', 'B11', 'B12', 'B14']\n0.02\n0.02\n0.02"
     ]
    },
    {
     "name": "stdout",
     "output_type": "stream",
     "text": [
      "\n0.02\n0.02\n['A5', 'A6', 'A7', 'A8', 'A9', 'A10', 'A11', 'A12', 'A14', 'A15', 'A16', 'A17', 'A19', 'A20', 'A21', 'A22', 'A24', 'A25', 'A26', 'A27', 'A28', 'B1', 'B4', 'B5', 'B6', 'B7', 'B8', 'B9', 'B10', 'B11', 'B12', 'B14']\n0.06666666666666667\n0.06666666666666667\n0.06666666666666667\n0.06666666666666667\n0.06666666666666667"
     ]
    },
    {
     "name": "stdout",
     "output_type": "stream",
     "text": [
      "\n['A5', 'A6', 'A7', 'A8', 'A9', 'A10', 'A11', 'A12', 'A14', 'A15', 'A16', 'A17', 'A19', 'A20', 'A21', 'A22', 'A24', 'A25', 'A26', 'A27', 'A28', 'B1', 'B4', 'B5', 'B6', 'B7', 'B8', 'B9', 'B10', 'B11', 'B12', 'B14']\n0.013333333333333334\n0.013333333333333334\n0.013333333333333334\n0.013333333333333334\n0.013333333333333334\n['A5', 'A6', 'A7', 'A8', 'A9', 'A10', 'A11', 'A12', 'A14', 'A15', 'A16', 'A17', 'A19', 'A20', 'A21', 'A22', 'A24', 'A25', 'A26', 'A27', 'A28', 'B1', 'B4', 'B5', 'B6', 'B7', 'B8', 'B9', 'B10', 'B11', 'B12', 'B14']\n0.02\n0.02"
     ]
    },
    {
     "name": "stdout",
     "output_type": "stream",
     "text": [
      "\n0.02\n0.02\n0.02\n['A5', 'A6', 'A7', 'A8', 'A9', 'A10', 'A11', 'A12', 'A14', 'A15', 'A16', 'A17', 'A19', 'A20', 'A21', 'A22', 'A24', 'A25', 'A26', 'A27', 'A28', 'B1', 'B4', 'B5', 'B6', 'B7', 'B8', 'B9', 'B10', 'B11', 'B12', 'B14']\n0.013333333333333334\n0.013333333333333334\n0.013333333333333334\n0.013333333333333334"
     ]
    },
    {
     "name": "stdout",
     "output_type": "stream",
     "text": [
      "\n0.013333333333333334\n['A5', 'A6', 'A7', 'A8', 'A9', 'A10', 'A11', 'A12', 'A14', 'A15', 'A16', 'A17', 'A19', 'A20', 'A21', 'A22', 'A24', 'A25', 'A26', 'A27', 'A28', 'B1', 'B4', 'B5', 'B6', 'B7', 'B8', 'B9', 'B10', 'B11', 'B12', 'B14']\n0.013333333333333334\n0.013333333333333334\n0.013333333333333334\n0.013333333333333334\n0.013333333333333334"
     ]
    },
    {
     "name": "stdout",
     "output_type": "stream",
     "text": [
      "\n['A5', 'A6', 'A7', 'A8', 'A9', 'A10', 'A11', 'A12', 'A14', 'A15', 'A16', 'A17', 'A19', 'A20', 'A21', 'A22', 'A24', 'A25', 'A26', 'A27', 'A28', 'B1', 'B4', 'B5', 'B6', 'B7', 'B8', 'B9', 'B10', 'B11', 'B12', 'B14']\n0.006666666666666667\n0.006666666666666667\n0.006666666666666667\n0.006666666666666667\n0.006666666666666667\n['A5', 'A6', 'A7', 'A8', 'A9', 'A10', 'A11', 'A12', 'A14', 'A15', 'A16', 'A17', 'A19', 'A20', 'A21', 'A22', 'A24', 'A25', 'A26', 'A27', 'A28', 'B1', 'B4', 'B5', 'B6', 'B7', 'B8', 'B9', 'B10', 'B11', 'B12', 'B14']\n0.06"
     ]
    },
    {
     "name": "stdout",
     "output_type": "stream",
     "text": [
      "\n0.06\n0.06\n0.06\n0.06"
     ]
    },
    {
     "name": "stdout",
     "output_type": "stream",
     "text": [
      "\n['A5', 'A6', 'A7', 'A8', 'A9', 'A10', 'A11', 'A12', 'A14', 'A15', 'A16', 'A17', 'A19', 'A20', 'A21', 'A22', 'A24', 'A25', 'A26', 'A27', 'A28', 'B1', 'B4', 'B5', 'B6', 'B7', 'B8', 'B9', 'B10', 'B11', 'B12', 'B14']\n0.02\n0.02\n0.02\n0.02\n"
     ]
    },
    {
     "name": "stdout",
     "output_type": "stream",
     "text": [
      "0.02\n['A5', 'A6', 'A7', 'A8', 'A9', 'A10', 'A11', 'A12', 'A14', 'A15', 'A16', 'A17', 'A19', 'A20', 'A21', 'A22', 'A24', 'A25', 'A26', 'A27', 'A28', 'B1', 'B4', 'B5', 'B6', 'B7', 'B8', 'B9', 'B10', 'B11', 'B12', 'B14']\n0.07333333333333333\n0.07333333333333333\n0.07333333333333333\n0.07333333333333333\n0.07333333333333333"
     ]
    },
    {
     "name": "stdout",
     "output_type": "stream",
     "text": [
      "\n['A5', 'A6', 'A7', 'A8', 'A9', 'A10', 'A11', 'A12', 'A14', 'A15', 'A16', 'A17', 'A19', 'A20', 'A21', 'A22', 'A24', 'A25', 'A26', 'A27', 'A28', 'B1', 'B4', 'B5', 'B6', 'B7', 'B8', 'B9', 'B10', 'B11', 'B12', 'B14']\n0.013333333333333334\n0.013333333333333334\n0.013333333333333334\n0.013333333333333334\n"
     ]
    },
    {
     "name": "stdout",
     "output_type": "stream",
     "text": [
      "0.013333333333333334\n['A5', 'A6', 'A7', 'A8', 'A9', 'A10', 'A11', 'A12', 'A14', 'A15', 'A16', 'A17', 'A19', 'A20', 'A21', 'A22', 'A24', 'A25', 'A26', 'A27', 'A28', 'B1', 'B4', 'B5', 'B6', 'B7', 'B8', 'B9', 'B10', 'B11', 'B12', 'B14']\n0.013333333333333334\n0.013333333333333334\n0.013333333333333334\n0.013333333333333334\n0.013333333333333334"
     ]
    },
    {
     "name": "stdout",
     "output_type": "stream",
     "text": [
      "\n['A5', 'A6', 'A7', 'A8', 'A9', 'A10', 'A11', 'A12', 'A14', 'A15', 'A16', 'A17', 'A19', 'A20', 'A21', 'A22', 'A24', 'A25', 'A26', 'A27', 'A28', 'B1', 'B4', 'B5', 'B6', 'B7', 'B8', 'B9', 'B10', 'B11', 'B12', 'B14']\n0.006666666666666667\n0.006666666666666667\n0.006666666666666667\n0.006666666666666667\n"
     ]
    },
    {
     "name": "stdout",
     "output_type": "stream",
     "text": [
      "0.006666666666666667\n['A5', 'A6', 'A7', 'A8', 'A9', 'A10', 'A11', 'A12', 'A14', 'A15', 'A16', 'A17', 'A19', 'A20', 'A21', 'A22', 'A24', 'A25', 'A26', 'A27', 'A28', 'B1', 'B4', 'B5', 'B6', 'B7', 'B8', 'B9', 'B10', 'B11', 'B12', 'B14']\n0.02\n0.02\n0.02\n0.02\n"
     ]
    },
    {
     "name": "stdout",
     "output_type": "stream",
     "text": [
      "0.02\n['A5', 'A6', 'A7', 'A8', 'A9', 'A10', 'A11', 'A12', 'A14', 'A15', 'A16', 'A17', 'A19', 'A20', 'A21', 'A22', 'A24', 'A25', 'A26', 'A27', 'A28', 'B1', 'B4', 'B5', 'B6', 'B7', 'B8', 'B9', 'B10', 'B11', 'B12', 'B14']\n0.06666666666666667\n0.06666666666666667\n0.06666666666666667\n0.06666666666666667\n0.06666666666666667"
     ]
    },
    {
     "name": "stdout",
     "output_type": "stream",
     "text": [
      "\n['A5', 'A6', 'A7', 'A8', 'A9', 'A10', 'A11', 'A12', 'A14', 'A15', 'A16', 'A17', 'A19', 'A20', 'A21', 'A22', 'A24', 'A25', 'A26', 'A27', 'A28', 'B1', 'B4', 'B5', 'B6', 'B7', 'B8', 'B9', 'B10', 'B11', 'B12', 'B14']\n0.02666666666666667\n0.02666666666666667\n0.02666666666666667\n0.02666666666666667\n"
     ]
    },
    {
     "name": "stdout",
     "output_type": "stream",
     "text": [
      "0.02666666666666667\n['A5', 'A6', 'A7', 'A8', 'A9', 'A10', 'A11', 'A12', 'A14', 'A15', 'A16', 'A17', 'A19', 'A20', 'A21', 'A22', 'A24', 'A25', 'A26', 'A27', 'A28', 'B1', 'B4', 'B5', 'B6', 'B7', 'B8', 'B9', 'B10', 'B11', 'B12', 'B14']\n0.05333333333333334\n0.05333333333333334\n0.05333333333333334\n0.05333333333333334\n"
     ]
    },
    {
     "name": "stdout",
     "output_type": "stream",
     "text": [
      "0.05333333333333334\n['A5', 'A6', 'A7', 'A8', 'A9', 'A10', 'A11', 'A12', 'A14', 'A15', 'A16', 'A17', 'A19', 'A20', 'A21', 'A22', 'A24', 'A25', 'A26', 'A27', 'A28', 'B1', 'B4', 'B5', 'B6', 'B7', 'B8', 'B9', 'B10', 'B11', 'B12', 'B14']\n0.013333333333333334\n0.013333333333333334\n0.013333333333333334\n0.013333333333333334\n"
     ]
    },
    {
     "name": "stdout",
     "output_type": "stream",
     "text": [
      "0.013333333333333334\n['A5', 'A6', 'A7', 'A8', 'A9', 'A10', 'A11', 'A12', 'A14', 'A15', 'A16', 'A17', 'A19', 'A20', 'A21', 'A22', 'A24', 'A25', 'A26', 'A27', 'A28', 'B1', 'B4', 'B5', 'B6', 'B7', 'B8', 'B9', 'B10', 'B11', 'B12', 'B14']\n0.02666666666666667\n0.02666666666666667\n0.02666666666666667\n0.02666666666666667\n"
     ]
    },
    {
     "name": "stdout",
     "output_type": "stream",
     "text": [
      "0.02666666666666667\n['A5', 'A6', 'A7', 'A8', 'A9', 'A10', 'A11', 'A12', 'A14', 'A15', 'A16', 'A17', 'A19', 'A20', 'A21', 'A22', 'A24', 'A25', 'A26', 'A27', 'A28', 'B1', 'B4', 'B5', 'B6', 'B7', 'B8', 'B9', 'B10', 'B11', 'B12', 'B14']\n0.02\n0.02\n0.02\n0.02\n"
     ]
    },
    {
     "name": "stdout",
     "output_type": "stream",
     "text": [
      "0.02\n['A5', 'A6', 'A7', 'A8', 'A9', 'A10', 'A11', 'A12', 'A14', 'A15', 'A16', 'A17', 'A19', 'A20', 'A21', 'A22', 'A24', 'A25', 'A26', 'A27', 'A28', 'B1', 'B4', 'B5', 'B6', 'B7', 'B8', 'B9', 'B10', 'B11', 'B12', 'B14']\n0.006666666666666667\n0.006666666666666667\n0.006666666666666667\n0.006666666666666667\n"
     ]
    },
    {
     "name": "stdout",
     "output_type": "stream",
     "text": [
      "0.006666666666666667\n['A5', 'A6', 'A7', 'A8', 'A9', 'A10', 'A11', 'A12', 'A14', 'A15', 'A16', 'A17', 'A19', 'A20', 'A21', 'A22', 'A24', 'A25', 'A26', 'A27', 'A28', 'B1', 'B4', 'B5', 'B6', 'B7', 'B8', 'B9', 'B10', 'B11', 'B12', 'B14']\n0.013333333333333334\n0.013333333333333334\n0.013333333333333334\n0.013333333333333334"
     ]
    },
    {
     "name": "stdout",
     "output_type": "stream",
     "text": [
      "\n0.013333333333333334\n(1381, 222)\n(150, 222)\n"
     ]
    }
   ],
   "source": [
    "#train['target'] = list(target) \n",
    "train['target'] = target\n",
    "train['intTarget'] = pd.cut(train['target'], 5, labels=False)\n",
    "train = pd.get_dummies(train, columns=['intTarget'])\n",
    "li = ['intTarget_0.0','intTarget_1.0','intTarget_2.0','intTarget_3.0','intTarget_4.0']\n",
    "mean_column_cross = []\n",
    "for f1 in categorical_columns:\n",
    "    if f1 == 'B14':\n",
    "        break\n",
    "    cate_rate = train[f1].value_counts(normalize=True, dropna=False).values[0]\n",
    "    print(categorical_columns)\n",
    "    if cate_rate < 0.90:\n",
    "        for f2 in li:\n",
    "            col_name = 'B14_'+f1+\"_\"+f2+'_mean'\n",
    "            mean_column_cross.append(col_name)\n",
    "            order_label = train.groupby([f1,'B14'])[f2].agg({'B14_'+f1+\"_\"+f2+'_mean':'mean'}).reset_index()\n",
    "            train = train.merge(order_label,on = [f1,'B14',],how = 'left')\n",
    "            test = test.merge(order_label,on = [f1,'B14'],how = 'left')\n",
    "            miss_rate = test[col_name].isnull().sum()  / test[col_name].shape[0]\n",
    "            print(miss_rate)\n",
    "            if miss_rate  > 0.5:\n",
    "                train = train.drop([col_name], axis=1)\n",
    "                test = test.drop([col_name], axis=1)\n",
    "                mean_column_cross.remove(col_name)\n",
    "                print('shanchu============',col_name)\n",
    "train.drop(li+['target'], axis=1, inplace=True)\n",
    "print(train.shape)\n",
    "print(test.shape)"
   ]
  },
  {
   "cell_type": "code",
   "execution_count": 203,
   "metadata": {},
   "outputs": [
    {
     "data": {
      "text/plain": [
       "Index(['样本id', 'A5', 'A6', 'A7', 'A8', 'A9', 'A10', 'A11', 'A12', 'A14',\n       ...\n       'B14_B11_intTarget_0.0_mean', 'B14_B11_intTarget_1.0_mean',\n       'B14_B11_intTarget_2.0_mean', 'B14_B11_intTarget_3.0_mean',\n       'B14_B11_intTarget_4.0_mean', 'B14_B12_intTarget_0.0_mean',\n       'B14_B12_intTarget_1.0_mean', 'B14_B12_intTarget_2.0_mean',\n       'B14_B12_intTarget_3.0_mean', 'B14_B12_intTarget_4.0_mean'],\n      dtype='object', length=222)"
      ]
     },
     "execution_count": 203,
     "metadata": {},
     "output_type": "execute_result"
    }
   ],
   "source": [
    "train.columns"
   ]
  },
  {
   "cell_type": "code",
   "execution_count": 204,
   "metadata": {},
   "outputs": [],
   "source": [
    ""
   ]
  },
  {
   "cell_type": "code",
   "execution_count": 207,
   "metadata": {},
   "outputs": [
    {
     "data": {
      "text/plain": [
       "['B14_A5_intTarget_0.0_mean',\n 'B14_A5_intTarget_1.0_mean',\n 'B14_A5_intTarget_2.0_mean',\n 'B14_A5_intTarget_3.0_mean',\n 'B14_A5_intTarget_4.0_mean',\n 'B14_A6_intTarget_0.0_mean',\n 'B14_A6_intTarget_1.0_mean',\n 'B14_A6_intTarget_2.0_mean',\n 'B14_A6_intTarget_3.0_mean',\n 'B14_A6_intTarget_4.0_mean',\n 'B14_A7_intTarget_0.0_mean',\n 'B14_A7_intTarget_1.0_mean',\n 'B14_A7_intTarget_2.0_mean',\n 'B14_A7_intTarget_3.0_mean',\n 'B14_A7_intTarget_4.0_mean',\n 'B14_A8_intTarget_0.0_mean',\n 'B14_A8_intTarget_1.0_mean',\n 'B14_A8_intTarget_2.0_mean',\n 'B14_A8_intTarget_3.0_mean',\n 'B14_A8_intTarget_4.0_mean',\n 'B14_A9_intTarget_0.0_mean',\n 'B14_A9_intTarget_1.0_mean',\n 'B14_A9_intTarget_2.0_mean',\n 'B14_A9_intTarget_3.0_mean',\n 'B14_A9_intTarget_4.0_mean',\n 'B14_A10_intTarget_0.0_mean',\n 'B14_A10_intTarget_1.0_mean',\n 'B14_A10_intTarget_2.0_mean',\n 'B14_A10_intTarget_3.0_mean',\n 'B14_A10_intTarget_4.0_mean',\n 'B14_A11_intTarget_0.0_mean',\n 'B14_A11_intTarget_1.0_mean',\n 'B14_A11_intTarget_2.0_mean',\n 'B14_A11_intTarget_3.0_mean',\n 'B14_A11_intTarget_4.0_mean',\n 'B14_A12_intTarget_0.0_mean',\n 'B14_A12_intTarget_1.0_mean',\n 'B14_A12_intTarget_2.0_mean',\n 'B14_A12_intTarget_3.0_mean',\n 'B14_A12_intTarget_4.0_mean',\n 'B14_A14_intTarget_0.0_mean',\n 'B14_A14_intTarget_1.0_mean',\n 'B14_A14_intTarget_2.0_mean',\n 'B14_A14_intTarget_3.0_mean',\n 'B14_A14_intTarget_4.0_mean',\n 'B14_A15_intTarget_0.0_mean',\n 'B14_A15_intTarget_1.0_mean',\n 'B14_A15_intTarget_2.0_mean',\n 'B14_A15_intTarget_3.0_mean',\n 'B14_A15_intTarget_4.0_mean',\n 'B14_A16_intTarget_0.0_mean',\n 'B14_A16_intTarget_1.0_mean',\n 'B14_A16_intTarget_2.0_mean',\n 'B14_A16_intTarget_3.0_mean',\n 'B14_A16_intTarget_4.0_mean',\n 'B14_A17_intTarget_0.0_mean',\n 'B14_A17_intTarget_1.0_mean',\n 'B14_A17_intTarget_2.0_mean',\n 'B14_A17_intTarget_3.0_mean',\n 'B14_A17_intTarget_4.0_mean',\n 'B14_A19_intTarget_0.0_mean',\n 'B14_A19_intTarget_1.0_mean',\n 'B14_A19_intTarget_2.0_mean',\n 'B14_A19_intTarget_3.0_mean',\n 'B14_A19_intTarget_4.0_mean',\n 'B14_A20_intTarget_0.0_mean',\n 'B14_A20_intTarget_1.0_mean',\n 'B14_A20_intTarget_2.0_mean',\n 'B14_A20_intTarget_3.0_mean',\n 'B14_A20_intTarget_4.0_mean',\n 'B14_A21_intTarget_0.0_mean',\n 'B14_A21_intTarget_1.0_mean',\n 'B14_A21_intTarget_2.0_mean',\n 'B14_A21_intTarget_3.0_mean',\n 'B14_A21_intTarget_4.0_mean',\n 'B14_A22_intTarget_0.0_mean',\n 'B14_A22_intTarget_1.0_mean',\n 'B14_A22_intTarget_2.0_mean',\n 'B14_A22_intTarget_3.0_mean',\n 'B14_A22_intTarget_4.0_mean',\n 'B14_A24_intTarget_0.0_mean',\n 'B14_A24_intTarget_1.0_mean',\n 'B14_A24_intTarget_2.0_mean',\n 'B14_A24_intTarget_3.0_mean',\n 'B14_A24_intTarget_4.0_mean',\n 'B14_A25_intTarget_0.0_mean',\n 'B14_A25_intTarget_1.0_mean',\n 'B14_A25_intTarget_2.0_mean',\n 'B14_A25_intTarget_3.0_mean',\n 'B14_A25_intTarget_4.0_mean',\n 'B14_A26_intTarget_0.0_mean',\n 'B14_A26_intTarget_1.0_mean',\n 'B14_A26_intTarget_2.0_mean',\n 'B14_A26_intTarget_3.0_mean',\n 'B14_A26_intTarget_4.0_mean',\n 'B14_A27_intTarget_0.0_mean',\n 'B14_A27_intTarget_1.0_mean',\n 'B14_A27_intTarget_2.0_mean',\n 'B14_A27_intTarget_3.0_mean',\n 'B14_A27_intTarget_4.0_mean',\n 'B14_A28_intTarget_0.0_mean',\n 'B14_A28_intTarget_1.0_mean',\n 'B14_A28_intTarget_2.0_mean',\n 'B14_A28_intTarget_3.0_mean',\n 'B14_A28_intTarget_4.0_mean',\n 'B14_B1_intTarget_0.0_mean',\n 'B14_B1_intTarget_1.0_mean',\n 'B14_B1_intTarget_2.0_mean',\n 'B14_B1_intTarget_3.0_mean',\n 'B14_B1_intTarget_4.0_mean',\n 'B14_B4_intTarget_0.0_mean',\n 'B14_B4_intTarget_1.0_mean',\n 'B14_B4_intTarget_2.0_mean',\n 'B14_B4_intTarget_3.0_mean',\n 'B14_B4_intTarget_4.0_mean',\n 'B14_B5_intTarget_0.0_mean',\n 'B14_B5_intTarget_1.0_mean',\n 'B14_B5_intTarget_2.0_mean',\n 'B14_B5_intTarget_3.0_mean',\n 'B14_B5_intTarget_4.0_mean',\n 'B14_B6_intTarget_0.0_mean',\n 'B14_B6_intTarget_1.0_mean',\n 'B14_B6_intTarget_2.0_mean',\n 'B14_B6_intTarget_3.0_mean',\n 'B14_B6_intTarget_4.0_mean',\n 'B14_B7_intTarget_0.0_mean',\n 'B14_B7_intTarget_1.0_mean',\n 'B14_B7_intTarget_2.0_mean',\n 'B14_B7_intTarget_3.0_mean',\n 'B14_B7_intTarget_4.0_mean',\n 'B14_B8_intTarget_0.0_mean',\n 'B14_B8_intTarget_1.0_mean',\n 'B14_B8_intTarget_2.0_mean',\n 'B14_B8_intTarget_3.0_mean',\n 'B14_B8_intTarget_4.0_mean',\n 'B14_B9_intTarget_0.0_mean',\n 'B14_B9_intTarget_1.0_mean',\n 'B14_B9_intTarget_2.0_mean',\n 'B14_B9_intTarget_3.0_mean',\n 'B14_B9_intTarget_4.0_mean',\n 'B14_B10_intTarget_0.0_mean',\n 'B14_B10_intTarget_1.0_mean',\n 'B14_B10_intTarget_2.0_mean',\n 'B14_B10_intTarget_3.0_mean',\n 'B14_B10_intTarget_4.0_mean',\n 'B14_B11_intTarget_0.0_mean',\n 'B14_B11_intTarget_1.0_mean',\n 'B14_B11_intTarget_2.0_mean',\n 'B14_B11_intTarget_3.0_mean',\n 'B14_B11_intTarget_4.0_mean',\n 'B14_B12_intTarget_0.0_mean',\n 'B14_B12_intTarget_1.0_mean',\n 'B14_B12_intTarget_2.0_mean',\n 'B14_B12_intTarget_3.0_mean',\n 'B14_B12_intTarget_4.0_mean']"
      ]
     },
     "execution_count": 207,
     "metadata": {},
     "output_type": "execute_result"
    }
   ],
   "source": [
    "mean_column_cross"
   ]
  },
  {
   "cell_type": "code",
   "execution_count": 206,
   "metadata": {},
   "outputs": [
    {
     "name": "stdout",
     "output_type": "stream",
     "text": [
      "(1381, 297)\n(150, 297)\n"
     ]
    }
   ],
   "source": [
    "#train['target'] = list(target) \n",
    "train['target'] = target\n",
    "train['intTarget'] = pd.cut(train['target'], 5, labels=False)\n",
    "train = pd.get_dummies(train, columns=['intTarget'])\n",
    "li = ['intTarget_0.0','intTarget_1.0','intTarget_2.0','intTarget_3.0','intTarget_4.0']\n",
    "mean_columns = []\n",
    "for f1 in categorical_columns:\n",
    "    cate_rate = train[f1].value_counts(normalize=True, dropna=False).values[0]\n",
    "    if cate_rate < 0.90:\n",
    "        for f2 in li:\n",
    "            col_name = 'B14_to_'+f1+\"_\"+f2+'_mean'\n",
    "            mean_columns.append(col_name)\n",
    "            order_label = train.groupby([f1])[f2].mean()\n",
    "            train[col_name] = train['B14'].map(order_label)\n",
    "            miss_rate = train[col_name].isnull().sum() * 100 / train[col_name].shape[0]\n",
    "            if miss_rate > 0:\n",
    "                train = train.drop([col_name], axis=1)\n",
    "                mean_columns.remove(col_name)\n",
    "            else:\n",
    "                test[col_name] = test['B14'].map(order_label)\n",
    "                \n",
    "train.drop(li+['target'], axis=1, inplace=True)\n",
    "print(train.shape)\n",
    "print(test.shape)"
   ]
  },
  {
   "cell_type": "code",
   "execution_count": 131,
   "metadata": {
    "collapsed": false
   },
   "outputs": [],
   "source": [
    "##mean_columns = []\n",
    "##for f1 in categorical_columns:\n",
    "##    cate_rate = train[f1].value_counts(normalize=True, dropna=False).values[0]\n",
    "##    if cate_rate < 0.90:\n",
    "##        for f2 in li:\n",
    "##            col_name = 'B14_to_'+f1+\"_\"+f2+'_mean'\n",
    "##            mean_columns.append(col_name)\n",
    "##            order_label = train.groupby([f1])[f2].mean()\n",
    "##            train[col_name] = train['B14'].map(order_label)\n",
    "##            miss_rate = train[col_name].isnull().sum() * 100 / train[col_name].shape[0]\n",
    "##            if miss_rate > 0:\n",
    "##                train = train.drop([col_name], axis=1)\n",
    "##                mean_columns.remove(col_name)\n",
    "##            else:\n",
    "##                test[col_name] = test['B14'].map(order_label)\n",
    "##                \n",
    "##train.drop(li+['target'], axis=1, inplace=True)\n",
    "##print(train.shape)\n",
    "##print(test.shape)"
   ]
  },
  {
   "cell_type": "code",
   "execution_count": 132,
   "metadata": {
    "collapsed": true
   },
   "outputs": [
    {
     "name": "stdout",
     "output_type": "stream",
     "text": [
      "fold n°1\nTraining until validation scores don't improve for 100 rounds.\n"
     ]
    },
    {
     "name": "stdout",
     "output_type": "stream",
     "text": [
      "Early stopping, best iteration is:\n[296]\ttraining's l2: 7.29449e-05\tvalid_1's l2: 0.000142971\nfold n°2\nTraining until validation scores don't improve for 100 rounds.\n"
     ]
    },
    {
     "name": "stdout",
     "output_type": "stream",
     "text": [
      "Early stopping, best iteration is:\n[590]\ttraining's l2: 5.84022e-05\tvalid_1's l2: 0.000140167\nfold n°3\nTraining until validation scores don't improve for 100 rounds."
     ]
    },
    {
     "name": "stdout",
     "output_type": "stream",
     "text": [
      "\n"
     ]
    },
    {
     "ename": "KeyboardInterrupt",
     "evalue": "",
     "traceback": [
      "\u001b[1;31m---------------------------------------------------------------------------\u001b[0m",
      "\u001b[1;31mKeyboardInterrupt\u001b[0m                         Traceback (most recent call last)",
      "\u001b[1;32m<ipython-input-132-53332c14e336>\u001b[0m in \u001b[0;36m<module>\u001b[1;34m\u001b[0m\n\u001b[0;32m      1\u001b[0m \u001b[1;31m#是否进行特征筛选\u001b[0m\u001b[1;33m\u001b[0m\u001b[1;33m\u001b[0m\u001b[0m\n\u001b[0;32m      2\u001b[0m \u001b[0mtrain_columns_list\u001b[0m \u001b[1;33m=\u001b[0m \u001b[0mmean_columns\u001b[0m\u001b[1;33m+\u001b[0m\u001b[0mnumerical_columns\u001b[0m\u001b[1;33m\u001b[0m\u001b[0m\n\u001b[1;32m----> 3\u001b[1;33m \u001b[0mbest_features\u001b[0m \u001b[1;33m=\u001b[0m \u001b[0mfeatureSelect\u001b[0m\u001b[1;33m(\u001b[0m\u001b[0mtrain_columns_list\u001b[0m\u001b[1;33m)\u001b[0m\u001b[1;33m\u001b[0m\u001b[0m\n\u001b[0m\u001b[0;32m      4\u001b[0m \u001b[0mmean_columns\u001b[0m \u001b[1;33m=\u001b[0m \u001b[1;33m[\u001b[0m\u001b[0mx\u001b[0m \u001b[1;32mfor\u001b[0m \u001b[0mx\u001b[0m \u001b[1;32min\u001b[0m \u001b[0mmean_columns\u001b[0m \u001b[1;32mif\u001b[0m \u001b[0mx\u001b[0m \u001b[1;32min\u001b[0m \u001b[0mbest_features\u001b[0m\u001b[1;33m]\u001b[0m\u001b[1;33m\u001b[0m\u001b[0m\n\u001b[0;32m      5\u001b[0m \u001b[0mprint\u001b[0m\u001b[1;33m(\u001b[0m\u001b[0mlen\u001b[0m\u001b[1;33m(\u001b[0m\u001b[0mmean_columns\u001b[0m\u001b[1;33m)\u001b[0m\u001b[1;33m)\u001b[0m\u001b[1;33m\u001b[0m\u001b[0m\n",
      "\u001b[1;32m<ipython-input-102-a2b35588947f>\u001b[0m in \u001b[0;36mfeatureSelect\u001b[1;34m(init_cols)\u001b[0m\n\u001b[0;32m     32\u001b[0m              \"verbosity\": -1}\n\u001b[0;32m     33\u001b[0m     \u001b[0mbest_cols\u001b[0m \u001b[1;33m=\u001b[0m \u001b[0minit_cols\u001b[0m\u001b[1;33m.\u001b[0m\u001b[0mcopy\u001b[0m\u001b[1;33m(\u001b[0m\u001b[1;33m)\u001b[0m\u001b[1;33m\u001b[0m\u001b[0m\n\u001b[1;32m---> 34\u001b[1;33m     \u001b[0mbest_score\u001b[0m \u001b[1;33m=\u001b[0m \u001b[0mmodeling_cross_validation\u001b[0m\u001b[1;33m(\u001b[0m\u001b[0mparams\u001b[0m\u001b[1;33m,\u001b[0m \u001b[0mtrain\u001b[0m\u001b[1;33m[\u001b[0m\u001b[0minit_cols\u001b[0m\u001b[1;33m]\u001b[0m\u001b[1;33m.\u001b[0m\u001b[0mvalues\u001b[0m\u001b[1;33m,\u001b[0m \u001b[0mtarget\u001b[0m\u001b[1;33m.\u001b[0m\u001b[0mvalues\u001b[0m\u001b[1;33m,\u001b[0m \u001b[0mnr_folds\u001b[0m\u001b[1;33m=\u001b[0m\u001b[1;36m5\u001b[0m\u001b[1;33m)\u001b[0m\u001b[1;33m\u001b[0m\u001b[0m\n\u001b[0m\u001b[0;32m     35\u001b[0m     \u001b[0mprint\u001b[0m\u001b[1;33m(\u001b[0m\u001b[1;34m\"初始CV score: {:<8.8f}\"\u001b[0m\u001b[1;33m.\u001b[0m\u001b[0mformat\u001b[0m\u001b[1;33m(\u001b[0m\u001b[0mbest_score\u001b[0m\u001b[1;33m)\u001b[0m\u001b[1;33m)\u001b[0m\u001b[1;33m\u001b[0m\u001b[0m\n\u001b[0;32m     36\u001b[0m     \u001b[1;32mfor\u001b[0m \u001b[0mf\u001b[0m \u001b[1;32min\u001b[0m \u001b[0minit_cols\u001b[0m\u001b[1;33m:\u001b[0m\u001b[1;33m\u001b[0m\u001b[0m\n",
      "\u001b[1;32m<ipython-input-102-a2b35588947f>\u001b[0m in \u001b[0;36mmodeling_cross_validation\u001b[1;34m(params, X, y, nr_folds)\u001b[0m\n\u001b[0;32m     11\u001b[0m \u001b[1;33m\u001b[0m\u001b[0m\n\u001b[0;32m     12\u001b[0m         \u001b[0mnum_round\u001b[0m \u001b[1;33m=\u001b[0m \u001b[1;36m20000\u001b[0m\u001b[1;33m\u001b[0m\u001b[0m\n\u001b[1;32m---> 13\u001b[1;33m         \u001b[0mclf\u001b[0m \u001b[1;33m=\u001b[0m \u001b[0mlgb\u001b[0m\u001b[1;33m.\u001b[0m\u001b[0mtrain\u001b[0m\u001b[1;33m(\u001b[0m\u001b[0mparams\u001b[0m\u001b[1;33m,\u001b[0m \u001b[0mtrn_data\u001b[0m\u001b[1;33m,\u001b[0m \u001b[0mnum_round\u001b[0m\u001b[1;33m,\u001b[0m \u001b[0mvalid_sets\u001b[0m \u001b[1;33m=\u001b[0m \u001b[1;33m[\u001b[0m\u001b[0mtrn_data\u001b[0m\u001b[1;33m,\u001b[0m \u001b[0mval_data\u001b[0m\u001b[1;33m]\u001b[0m\u001b[1;33m,\u001b[0m \u001b[0mverbose_eval\u001b[0m\u001b[1;33m=\u001b[0m\u001b[1;36m1000\u001b[0m\u001b[1;33m,\u001b[0m \u001b[0mearly_stopping_rounds\u001b[0m \u001b[1;33m=\u001b[0m \u001b[1;36m100\u001b[0m\u001b[1;33m)\u001b[0m\u001b[1;33m\u001b[0m\u001b[0m\n\u001b[0m\u001b[0;32m     14\u001b[0m         \u001b[0moof_preds\u001b[0m\u001b[1;33m[\u001b[0m\u001b[0mval_idx\u001b[0m\u001b[1;33m]\u001b[0m \u001b[1;33m=\u001b[0m \u001b[0mclf\u001b[0m\u001b[1;33m.\u001b[0m\u001b[0mpredict\u001b[0m\u001b[1;33m(\u001b[0m\u001b[0mX\u001b[0m\u001b[1;33m[\u001b[0m\u001b[0mval_idx\u001b[0m\u001b[1;33m]\u001b[0m\u001b[1;33m,\u001b[0m \u001b[0mnum_iteration\u001b[0m\u001b[1;33m=\u001b[0m\u001b[0mclf\u001b[0m\u001b[1;33m.\u001b[0m\u001b[0mbest_iteration\u001b[0m\u001b[1;33m)\u001b[0m\u001b[1;33m\u001b[0m\u001b[0m\n\u001b[0;32m     15\u001b[0m \u001b[1;33m\u001b[0m\u001b[0m\n",
      "\u001b[1;32mD:\\soft\\python\\lib\\site-packages\\lightgbm\\engine.py\u001b[0m in \u001b[0;36mtrain\u001b[1;34m(params, train_set, num_boost_round, valid_sets, valid_names, fobj, feval, init_model, feature_name, categorical_feature, early_stopping_rounds, evals_result, verbose_eval, learning_rates, keep_training_booster, callbacks)\u001b[0m\n\u001b[0;32m    214\u001b[0m                                     evaluation_result_list=None))\n\u001b[0;32m    215\u001b[0m \u001b[1;33m\u001b[0m\u001b[0m\n\u001b[1;32m--> 216\u001b[1;33m         \u001b[0mbooster\u001b[0m\u001b[1;33m.\u001b[0m\u001b[0mupdate\u001b[0m\u001b[1;33m(\u001b[0m\u001b[0mfobj\u001b[0m\u001b[1;33m=\u001b[0m\u001b[0mfobj\u001b[0m\u001b[1;33m)\u001b[0m\u001b[1;33m\u001b[0m\u001b[0m\n\u001b[0m\u001b[0;32m    217\u001b[0m \u001b[1;33m\u001b[0m\u001b[0m\n\u001b[0;32m    218\u001b[0m         \u001b[0mevaluation_result_list\u001b[0m \u001b[1;33m=\u001b[0m \u001b[1;33m[\u001b[0m\u001b[1;33m]\u001b[0m\u001b[1;33m\u001b[0m\u001b[0m\n",
      "\u001b[1;32mD:\\soft\\python\\lib\\site-packages\\lightgbm\\basic.py\u001b[0m in \u001b[0;36mupdate\u001b[1;34m(self, train_set, fobj)\u001b[0m\n\u001b[0;32m   1758\u001b[0m             _safe_call(_LIB.LGBM_BoosterUpdateOneIter(\n\u001b[0;32m   1759\u001b[0m                 \u001b[0mself\u001b[0m\u001b[1;33m.\u001b[0m\u001b[0mhandle\u001b[0m\u001b[1;33m,\u001b[0m\u001b[1;33m\u001b[0m\u001b[0m\n\u001b[1;32m-> 1760\u001b[1;33m                 ctypes.byref(is_finished)))\n\u001b[0m\u001b[0;32m   1761\u001b[0m             \u001b[0mself\u001b[0m\u001b[1;33m.\u001b[0m\u001b[0m__is_predicted_cur_iter\u001b[0m \u001b[1;33m=\u001b[0m \u001b[1;33m[\u001b[0m\u001b[1;32mFalse\u001b[0m \u001b[1;32mfor\u001b[0m \u001b[0m_\u001b[0m \u001b[1;32min\u001b[0m \u001b[0mrange_\u001b[0m\u001b[1;33m(\u001b[0m\u001b[0mself\u001b[0m\u001b[1;33m.\u001b[0m\u001b[0m__num_dataset\u001b[0m\u001b[1;33m)\u001b[0m\u001b[1;33m]\u001b[0m\u001b[1;33m\u001b[0m\u001b[0m\n\u001b[0;32m   1762\u001b[0m             \u001b[1;32mreturn\u001b[0m \u001b[0mis_finished\u001b[0m\u001b[1;33m.\u001b[0m\u001b[0mvalue\u001b[0m \u001b[1;33m==\u001b[0m \u001b[1;36m1\u001b[0m\u001b[1;33m\u001b[0m\u001b[0m\n",
      "\u001b[1;31mKeyboardInterrupt\u001b[0m: "
     ],
     "output_type": "error"
    }
   ],
   "source": [
    "#是否进行特征筛选\n",
    "train_columns_list = mean_columns+numerical_columns\n",
    "best_features = featureSelect(train_columns_list)\n",
    "mean_columns = [x for x in mean_columns if x in best_features]\n",
    "print(len(mean_columns))\n",
    "numerical_columns = [x for x in numerical_columns if x in best_features]\n",
    "print(len(numerical_columns))\n",
    "print(numerical_columns)"
   ]
  },
  {
   "cell_type": "code",
   "execution_count": 223,
   "metadata": {
    "collapsed": false
   },
   "outputs": [],
   "source": [
    "#X_train = train[mean_columns+numerical_columns].values\n",
    "#X_test = test[mean_columns+numerical_columns].values+column_mean_std +column_mean_std\n",
    "X_train = train[numerical_columns +mean_columns + mean_column_cross].values\n",
    "X_test = test[numerical_columns +mean_columns+ mean_column_cross].values"
   ]
  },
  {
   "cell_type": "code",
   "execution_count": 224,
   "metadata": {},
   "outputs": [
    {
     "data": {
      "text/plain": [
       "(1381, 297)"
      ]
     },
     "execution_count": 224,
     "metadata": {},
     "output_type": "execute_result"
    }
   ],
   "source": [
    "train.shape"
   ]
  },
  {
   "cell_type": "code",
   "execution_count": 225,
   "metadata": {},
   "outputs": [
    {
     "name": "stdout",
     "output_type": "stream",
     "text": [
      "(150, 1395)\n(1381, 1395)\n"
     ]
    }
   ],
   "source": [
    "# one hot\n",
    "enc = OneHotEncoder()\n",
    "for f in categorical_columns:\n",
    "    enc.fit(data[f].values.reshape(-1, 1))\n",
    "    X_train = sparse.hstack((X_train, enc.transform(train[f].values.reshape(-1, 1))), 'csr')\n",
    "    X_test = sparse.hstack((X_test, enc.transform(test[f].values.reshape(-1, 1))), 'csr')\n",
    "print(X_test.shape)\n",
    "print(X_train.shape)"
   ]
  },
  {
   "cell_type": "code",
   "execution_count": 234,
   "metadata": {
    "collapsed": false
   },
   "outputs": [
    {
     "name": "stdout",
     "output_type": "stream",
     "text": [
      "fold n°1\nTraining until validation scores don't improve for 100 rounds.\n"
     ]
    },
    {
     "name": "stdout",
     "output_type": "stream",
     "text": [
      "[200]\ttraining's l2: 0.000172398\tvalid_1's l2: 0.000192847\n"
     ]
    },
    {
     "name": "stdout",
     "output_type": "stream",
     "text": [
      "[400]\ttraining's l2: 0.000113595\tvalid_1's l2: 0.000143294\n"
     ]
    },
    {
     "name": "stdout",
     "output_type": "stream",
     "text": [
      "[600]\ttraining's l2: 9.01588e-05\tvalid_1's l2: 0.000126951\n"
     ]
    },
    {
     "name": "stdout",
     "output_type": "stream",
     "text": [
      "[800]\ttraining's l2: 7.94373e-05\tvalid_1's l2: 0.000121297\n"
     ]
    },
    {
     "name": "stdout",
     "output_type": "stream",
     "text": [
      "[1000]\ttraining's l2: 7.25727e-05\tvalid_1's l2: 0.000118376\n"
     ]
    },
    {
     "name": "stdout",
     "output_type": "stream",
     "text": [
      "[1200]\ttraining's l2: 6.78481e-05\tvalid_1's l2: 0.000116255\n"
     ]
    },
    {
     "name": "stdout",
     "output_type": "stream",
     "text": [
      "[1400]\ttraining's l2: 6.4348e-05\tvalid_1's l2: 0.000114743\n"
     ]
    },
    {
     "name": "stdout",
     "output_type": "stream",
     "text": [
      "[1600]\ttraining's l2: 6.1557e-05\tvalid_1's l2: 0.000113509\n"
     ]
    },
    {
     "name": "stdout",
     "output_type": "stream",
     "text": [
      "[1800]\ttraining's l2: 5.92918e-05\tvalid_1's l2: 0.00011264\n"
     ]
    },
    {
     "name": "stdout",
     "output_type": "stream",
     "text": [
      "[2000]\ttraining's l2: 5.74161e-05\tvalid_1's l2: 0.00011214\n"
     ]
    },
    {
     "name": "stdout",
     "output_type": "stream",
     "text": [
      "[2200]\ttraining's l2: 5.58194e-05\tvalid_1's l2: 0.000111562\n"
     ]
    },
    {
     "name": "stdout",
     "output_type": "stream",
     "text": [
      "[2400]\ttraining's l2: 5.44379e-05\tvalid_1's l2: 0.000111286\n[2600]\ttraining's l2: 5.34546e-05\tvalid_1's l2: 0.000110894"
     ]
    },
    {
     "name": "stdout",
     "output_type": "stream",
     "text": [
      "\nEarly stopping, best iteration is:\n[2557]\ttraining's l2: 5.34546e-05\tvalid_1's l2: 0.000110894\n"
     ]
    },
    {
     "name": "stdout",
     "output_type": "stream",
     "text": [
      "fold n°2\nTraining until validation scores don't improve for 100 rounds.\n"
     ]
    },
    {
     "name": "stdout",
     "output_type": "stream",
     "text": [
      "[200]\ttraining's l2: 0.00016636\tvalid_1's l2: 0.000202841\n"
     ]
    },
    {
     "name": "stdout",
     "output_type": "stream",
     "text": [
      "[400]\ttraining's l2: 0.000105124\tvalid_1's l2: 0.00016668\n"
     ]
    },
    {
     "name": "stdout",
     "output_type": "stream",
     "text": [
      "[600]\ttraining's l2: 8.25755e-05\tvalid_1's l2: 0.000157074\n"
     ]
    },
    {
     "name": "stdout",
     "output_type": "stream",
     "text": [
      "[800]\ttraining's l2: 7.20753e-05\tvalid_1's l2: 0.000155147\n"
     ]
    },
    {
     "name": "stdout",
     "output_type": "stream",
     "text": [
      "[1000]\ttraining's l2: 6.52363e-05\tvalid_1's l2: 0.00015381\n"
     ]
    },
    {
     "name": "stdout",
     "output_type": "stream",
     "text": [
      "[1200]\ttraining's l2: 6.03481e-05\tvalid_1's l2: 0.000152958\n"
     ]
    },
    {
     "name": "stdout",
     "output_type": "stream",
     "text": [
      "[1400]\ttraining's l2: 5.67706e-05\tvalid_1's l2: 0.000152488\n"
     ]
    },
    {
     "name": "stdout",
     "output_type": "stream",
     "text": [
      "[1600]\ttraining's l2: 5.40837e-05\tvalid_1's l2: 0.000152315\nEarly stopping, best iteration is:\n[1533]\ttraining's l2: 5.48825e-05\tvalid_1's l2: 0.000152228\n"
     ]
    },
    {
     "name": "stdout",
     "output_type": "stream",
     "text": [
      "fold n°3\nTraining until validation scores don't improve for 100 rounds.\n"
     ]
    },
    {
     "name": "stdout",
     "output_type": "stream",
     "text": [
      "[200]\ttraining's l2: 0.000165434\tvalid_1's l2: 0.000199149\n"
     ]
    },
    {
     "name": "stdout",
     "output_type": "stream",
     "text": [
      "[400]\ttraining's l2: 0.000106724\tvalid_1's l2: 0.000159121\n"
     ]
    },
    {
     "name": "stdout",
     "output_type": "stream",
     "text": [
      "[600]\ttraining's l2: 8.40747e-05\tvalid_1's l2: 0.000145582\n"
     ]
    },
    {
     "name": "stdout",
     "output_type": "stream",
     "text": [
      "[800]\ttraining's l2: 7.40068e-05\tvalid_1's l2: 0.00014153\n"
     ]
    },
    {
     "name": "stdout",
     "output_type": "stream",
     "text": [
      "[1000]\ttraining's l2: 6.7592e-05\tvalid_1's l2: 0.000139097\n"
     ]
    },
    {
     "name": "stdout",
     "output_type": "stream",
     "text": [
      "[1200]\ttraining's l2: 6.31931e-05\tvalid_1's l2: 0.000137749\n"
     ]
    },
    {
     "name": "stdout",
     "output_type": "stream",
     "text": [
      "[1400]\ttraining's l2: 5.9708e-05\tvalid_1's l2: 0.000136799\n"
     ]
    },
    {
     "name": "stdout",
     "output_type": "stream",
     "text": [
      "[1600]\ttraining's l2: 5.71379e-05\tvalid_1's l2: 0.000136211\n"
     ]
    },
    {
     "name": "stdout",
     "output_type": "stream",
     "text": [
      "[1800]\ttraining's l2: 5.50785e-05\tvalid_1's l2: 0.000135815\n"
     ]
    },
    {
     "name": "stdout",
     "output_type": "stream",
     "text": [
      "[2000]\ttraining's l2: 5.33339e-05\tvalid_1's l2: 0.000135521\n"
     ]
    },
    {
     "name": "stdout",
     "output_type": "stream",
     "text": [
      "[2200]\ttraining's l2: 5.18084e-05\tvalid_1's l2: 0.000135178\nEarly stopping, best iteration is:\n[2251]\ttraining's l2: 5.14617e-05\tvalid_1's l2: 0.000135053\n"
     ]
    },
    {
     "name": "stdout",
     "output_type": "stream",
     "text": [
      "fold n°4\nTraining until validation scores don't improve for 100 rounds.\n"
     ]
    },
    {
     "name": "stdout",
     "output_type": "stream",
     "text": [
      "[200]\ttraining's l2: 0.000169167\tvalid_1's l2: 0.000198752\n"
     ]
    },
    {
     "name": "stdout",
     "output_type": "stream",
     "text": [
      "[400]\ttraining's l2: 0.000110865\tvalid_1's l2: 0.000158841\n"
     ]
    },
    {
     "name": "stdout",
     "output_type": "stream",
     "text": [
      "[600]\ttraining's l2: 8.6712e-05\tvalid_1's l2: 0.000143874\n"
     ]
    },
    {
     "name": "stdout",
     "output_type": "stream",
     "text": [
      "[800]\ttraining's l2: 7.52413e-05\tvalid_1's l2: 0.000137619\n"
     ]
    },
    {
     "name": "stdout",
     "output_type": "stream",
     "text": [
      "[1000]\ttraining's l2: 6.81688e-05\tvalid_1's l2: 0.000134793\n"
     ]
    },
    {
     "name": "stdout",
     "output_type": "stream",
     "text": [
      "[1200]\ttraining's l2: 6.31867e-05\tvalid_1's l2: 0.000133023\n"
     ]
    },
    {
     "name": "stdout",
     "output_type": "stream",
     "text": [
      "[1400]\ttraining's l2: 5.93677e-05\tvalid_1's l2: 0.000132073\n"
     ]
    },
    {
     "name": "stdout",
     "output_type": "stream",
     "text": [
      "[1600]\ttraining's l2: 5.64496e-05\tvalid_1's l2: 0.000131307\n"
     ]
    },
    {
     "name": "stdout",
     "output_type": "stream",
     "text": [
      "[1800]\ttraining's l2: 5.42238e-05\tvalid_1's l2: 0.000130816\n"
     ]
    },
    {
     "name": "stdout",
     "output_type": "stream",
     "text": [
      "[2000]\ttraining's l2: 5.24294e-05\tvalid_1's l2: 0.000130643\n"
     ]
    },
    {
     "name": "stdout",
     "output_type": "stream",
     "text": [
      "[2200]\ttraining's l2: 5.08828e-05\tvalid_1's l2: 0.000130425\n"
     ]
    },
    {
     "name": "stdout",
     "output_type": "stream",
     "text": [
      "[2400]\ttraining's l2: 4.95117e-05\tvalid_1's l2: 0.000130158\nEarly stopping, best iteration is:\n[2385]\ttraining's l2: 4.96044e-05\tvalid_1's l2: 0.000130121\n"
     ]
    },
    {
     "name": "stdout",
     "output_type": "stream",
     "text": [
      "fold n°5\nTraining until validation scores don't improve for 100 rounds.\n"
     ]
    },
    {
     "name": "stdout",
     "output_type": "stream",
     "text": [
      "[200]\ttraining's l2: 0.000174392\tvalid_1's l2: 0.000177883\n"
     ]
    },
    {
     "name": "stdout",
     "output_type": "stream",
     "text": [
      "[400]\ttraining's l2: 0.00011555\tvalid_1's l2: 0.000120543\n"
     ]
    },
    {
     "name": "stdout",
     "output_type": "stream",
     "text": [
      "[600]\ttraining's l2: 9.01011e-05\tvalid_1's l2: 0.000103412\n"
     ]
    },
    {
     "name": "stdout",
     "output_type": "stream",
     "text": [
      "[800]\ttraining's l2: 7.85161e-05\tvalid_1's l2: 0.000100102\n"
     ]
    },
    {
     "name": "stdout",
     "output_type": "stream",
     "text": [
      "[1000]\ttraining's l2: 7.12435e-05\tvalid_1's l2: 9.8923e-05\n"
     ]
    },
    {
     "name": "stdout",
     "output_type": "stream",
     "text": [
      "[1200]\ttraining's l2: 6.6535e-05\tvalid_1's l2: 9.84596e-05\n"
     ]
    },
    {
     "name": "stdout",
     "output_type": "stream",
     "text": [
      "[1400]\ttraining's l2: 6.27281e-05\tvalid_1's l2: 9.82748e-05\n"
     ]
    },
    {
     "name": "stdout",
     "output_type": "stream",
     "text": [
      "[1600]\ttraining's l2: 5.97576e-05\tvalid_1's l2: 9.79511e-05\n"
     ]
    },
    {
     "name": "stdout",
     "output_type": "stream",
     "text": [
      "Early stopping, best iteration is:\n[1671]\ttraining's l2: 5.88681e-05\tvalid_1's l2: 9.78891e-05\n"
     ]
    },
    {
     "name": "stdout",
     "output_type": "stream",
     "text": [
      "CV score: 0.00012523\n"
     ]
    }
   ],
   "source": [
    "param = {'num_leaves': 120,\n",
    "         'min_data_in_leaf': 30, \n",
    "         'objective':'regression',\n",
    "         'max_depth': -1,\n",
    "         'learning_rate': 0.01,\n",
    "         \"min_child_samples\": 30,\n",
    "         \"boosting\": \"gbdt\",\n",
    "         \"feature_fraction\": 0.9,\n",
    "         \"bagging_freq\": 1,\n",
    "         \"bagging_fraction\": 0.9 ,\n",
    "         \"bagging_seed\": 11,\n",
    "         \"metric\": 'mse',\n",
    "         \"lambda_l1\": 0.1,\n",
    "         \"verbosity\": -1}\n",
    "folds = KFold(n_splits=5, shuffle=True, random_state=2018)\n",
    "oof_lgb = np.zeros(len(train))\n",
    "predictions_lgb = np.zeros(len(test))\n",
    "y_train = target.values\n",
    "for fold_, (trn_idx, val_idx) in enumerate(folds.split(X_train, y_train)):\n",
    "    print(\"fold n°{}\".format(fold_+1))\n",
    "    trn_data = lgb.Dataset(X_train[trn_idx], y_train[trn_idx])\n",
    "    val_data = lgb.Dataset(X_train[val_idx], y_train[val_idx])\n",
    "    num_round = 10000\n",
    "    clf = lgb.train(param, trn_data, num_round, valid_sets = [trn_data, val_data], verbose_eval=200, early_stopping_rounds = 100)\n",
    "    oof_lgb[val_idx] = clf.predict(X_train[val_idx], num_iteration=clf.best_iteration)\n",
    "    predictions_lgb += clf.predict(X_test, num_iteration=clf.best_iteration) / folds.n_splits\n",
    "print(\"CV score: {:<8.8f}\".format(mean_squared_error(oof_lgb, y_train)))"
   ]
  },
  {
   "cell_type": "code",
   "execution_count": 228,
   "metadata": {
    "collapsed": false
   },
   "outputs": [
    {
     "name": "stdout",
     "output_type": "stream",
     "text": [
      "fold n°1\n[0]\ttrain-rmse:0.422932\tvalid_data-rmse:0.423819\n"
     ]
    },
    {
     "name": "stdout",
     "output_type": "stream",
     "text": [
      "Multiple eval metrics have been passed: 'valid_data-rmse' will be used for early stopping.\n\n"
     ]
    },
    {
     "name": "stdout",
     "output_type": "stream",
     "text": [
      "Will train until valid_data-rmse hasn't improved in 200 rounds.\n"
     ]
    },
    {
     "name": "stdout",
     "output_type": "stream",
     "text": [
      "[100]\ttrain-rmse:0.256988\tvalid_data-rmse:0.257757\n"
     ]
    },
    {
     "name": "stdout",
     "output_type": "stream",
     "text": [
      "[200]\ttrain-rmse:0.156508\tvalid_data-rmse:0.157407\n"
     ]
    },
    {
     "name": "stdout",
     "output_type": "stream",
     "text": [
      "[300]\ttrain-rmse:0.095711\tvalid_data-rmse:0.096547\n"
     ]
    },
    {
     "name": "stdout",
     "output_type": "stream",
     "text": [
      "[400]\ttrain-rmse:0.059111\tvalid_data-rmse:0.059933\n"
     ]
    },
    {
     "name": "stdout",
     "output_type": "stream",
     "text": [
      "[500]\ttrain-rmse:0.037143\tvalid_data-rmse:0.038138\n"
     ]
    },
    {
     "name": "stdout",
     "output_type": "stream",
     "text": [
      "[600]\ttrain-rmse:0.023935\tvalid_data-rmse:0.025369\n"
     ]
    },
    {
     "name": "stdout",
     "output_type": "stream",
     "text": [
      "[700]\ttrain-rmse:0.016042\tvalid_data-rmse:0.018181\n"
     ]
    },
    {
     "name": "stdout",
     "output_type": "stream",
     "text": [
      "[800]\ttrain-rmse:0.01132\tvalid_data-rmse:0.014395\n"
     ]
    },
    {
     "name": "stdout",
     "output_type": "stream",
     "text": [
      "[900]\ttrain-rmse:0.008549\tvalid_data-rmse:0.012518\n"
     ]
    },
    {
     "name": "stdout",
     "output_type": "stream",
     "text": [
      "[1000]\ttrain-rmse:0.006923\tvalid_data-rmse:0.011652\n"
     ]
    },
    {
     "name": "stdout",
     "output_type": "stream",
     "text": [
      "[1100]\ttrain-rmse:0.005932\tvalid_data-rmse:0.011245\n"
     ]
    },
    {
     "name": "stdout",
     "output_type": "stream",
     "text": [
      "[1200]\ttrain-rmse:0.005286\tvalid_data-rmse:0.011058\n"
     ]
    },
    {
     "name": "stdout",
     "output_type": "stream",
     "text": [
      "[1300]\ttrain-rmse:0.004828\tvalid_data-rmse:0.010969\n"
     ]
    },
    {
     "name": "stdout",
     "output_type": "stream",
     "text": [
      "[1400]\ttrain-rmse:0.004467\tvalid_data-rmse:0.010925\n"
     ]
    },
    {
     "name": "stdout",
     "output_type": "stream",
     "text": [
      "[1500]\ttrain-rmse:0.004134\tvalid_data-rmse:0.010886\n"
     ]
    },
    {
     "name": "stdout",
     "output_type": "stream",
     "text": [
      "[1600]\ttrain-rmse:0.003848\tvalid_data-rmse:0.010873\n"
     ]
    },
    {
     "name": "stdout",
     "output_type": "stream",
     "text": [
      "[1700]\ttrain-rmse:0.003559\tvalid_data-rmse:0.010866\n"
     ]
    },
    {
     "name": "stdout",
     "output_type": "stream",
     "text": [
      "[1800]\ttrain-rmse:0.003296\tvalid_data-rmse:0.010876\n"
     ]
    },
    {
     "name": "stdout",
     "output_type": "stream",
     "text": [
      "[1900]\ttrain-rmse:0.003038\tvalid_data-rmse:0.010873\n"
     ]
    },
    {
     "name": "stdout",
     "output_type": "stream",
     "text": [
      "Stopping. Best iteration:\n[1702]\ttrain-rmse:0.003555\tvalid_data-rmse:0.010865\n\n"
     ]
    },
    {
     "name": "stdout",
     "output_type": "stream",
     "text": [
      "fold n°2\n"
     ]
    },
    {
     "name": "stdout",
     "output_type": "stream",
     "text": [
      "[0]\ttrain-rmse:0.424042\tvalid_data-rmse:0.419362\n"
     ]
    },
    {
     "name": "stdout",
     "output_type": "stream",
     "text": [
      "Multiple eval metrics have been passed: 'valid_data-rmse' will be used for early stopping.\n\n"
     ]
    },
    {
     "name": "stdout",
     "output_type": "stream",
     "text": [
      "Will train until valid_data-rmse hasn't improved in 200 rounds.\n"
     ]
    },
    {
     "name": "stdout",
     "output_type": "stream",
     "text": [
      "[100]\ttrain-rmse:0.257691\tvalid_data-rmse:0.254128\n"
     ]
    },
    {
     "name": "stdout",
     "output_type": "stream",
     "text": [
      "[200]\ttrain-rmse:0.156922\tvalid_data-rmse:0.153992\n"
     ]
    },
    {
     "name": "stdout",
     "output_type": "stream",
     "text": [
      "[300]\ttrain-rmse:0.095938\tvalid_data-rmse:0.093478\n"
     ]
    },
    {
     "name": "stdout",
     "output_type": "stream",
     "text": [
      "[400]\ttrain-rmse:0.059204\tvalid_data-rmse:0.057244\n"
     ]
    },
    {
     "name": "stdout",
     "output_type": "stream",
     "text": [
      "[500]\ttrain-rmse:0.037146\tvalid_data-rmse:0.03596\n"
     ]
    },
    {
     "name": "stdout",
     "output_type": "stream",
     "text": [
      "[600]\ttrain-rmse:0.023863\tvalid_data-rmse:0.023825\n"
     ]
    },
    {
     "name": "stdout",
     "output_type": "stream",
     "text": [
      "[700]\ttrain-rmse:0.015876\tvalid_data-rmse:0.017277\n"
     ]
    },
    {
     "name": "stdout",
     "output_type": "stream",
     "text": [
      "[800]\ttrain-rmse:0.011084\tvalid_data-rmse:0.014026\n"
     ]
    },
    {
     "name": "stdout",
     "output_type": "stream",
     "text": [
      "[900]\ttrain-rmse:0.008228\tvalid_data-rmse:0.012562\n"
     ]
    },
    {
     "name": "stdout",
     "output_type": "stream",
     "text": [
      "[1000]\ttrain-rmse:0.00653\tvalid_data-rmse:0.011964\n"
     ]
    },
    {
     "name": "stdout",
     "output_type": "stream",
     "text": [
      "[1100]\ttrain-rmse:0.005506\tvalid_data-rmse:0.011729\n"
     ]
    },
    {
     "name": "stdout",
     "output_type": "stream",
     "text": [
      "[1200]\ttrain-rmse:0.004875\tvalid_data-rmse:0.011655\n"
     ]
    },
    {
     "name": "stdout",
     "output_type": "stream",
     "text": [
      "[1300]\ttrain-rmse:0.004411\tvalid_data-rmse:0.011636\n"
     ]
    },
    {
     "name": "stdout",
     "output_type": "stream",
     "text": [
      "[1400]\ttrain-rmse:0.004073\tvalid_data-rmse:0.011643\n"
     ]
    },
    {
     "name": "stdout",
     "output_type": "stream",
     "text": [
      "[1500]\ttrain-rmse:0.003767\tvalid_data-rmse:0.011657\n"
     ]
    },
    {
     "name": "stdout",
     "output_type": "stream",
     "text": [
      "Stopping. Best iteration:\n[1326]\ttrain-rmse:0.004307\tvalid_data-rmse:0.011634\n\n"
     ]
    },
    {
     "name": "stdout",
     "output_type": "stream",
     "text": [
      "fold n°3\n"
     ]
    },
    {
     "name": "stdout",
     "output_type": "stream",
     "text": [
      "[0]\ttrain-rmse:0.422401\tvalid_data-rmse:0.425951\n"
     ]
    },
    {
     "name": "stdout",
     "output_type": "stream",
     "text": [
      "Multiple eval metrics have been passed: 'valid_data-rmse' will be used for early stopping.\n\n"
     ]
    },
    {
     "name": "stdout",
     "output_type": "stream",
     "text": [
      "Will train until valid_data-rmse hasn't improved in 200 rounds.\n"
     ]
    },
    {
     "name": "stdout",
     "output_type": "stream",
     "text": [
      "[100]\ttrain-rmse:0.256656\tvalid_data-rmse:0.259775\n"
     ]
    },
    {
     "name": "stdout",
     "output_type": "stream",
     "text": [
      "[200]\ttrain-rmse:0.156289\tvalid_data-rmse:0.159013\n"
     ]
    },
    {
     "name": "stdout",
     "output_type": "stream",
     "text": [
      "[300]\ttrain-rmse:0.095584\tvalid_data-rmse:0.097881\n"
     ]
    },
    {
     "name": "stdout",
     "output_type": "stream",
     "text": [
      "[400]\ttrain-rmse:0.059016\tvalid_data-rmse:0.061023\n"
     ]
    },
    {
     "name": "stdout",
     "output_type": "stream",
     "text": [
      "[500]\ttrain-rmse:0.037073\tvalid_data-rmse:0.03899\n"
     ]
    },
    {
     "name": "stdout",
     "output_type": "stream",
     "text": [
      "[600]\ttrain-rmse:0.023876\tvalid_data-rmse:0.025978\n"
     ]
    },
    {
     "name": "stdout",
     "output_type": "stream",
     "text": [
      "[700]\ttrain-rmse:0.015954\tvalid_data-rmse:0.018689\n"
     ]
    },
    {
     "name": "stdout",
     "output_type": "stream",
     "text": [
      "[800]\ttrain-rmse:0.011232\tvalid_data-rmse:0.014858\n"
     ]
    },
    {
     "name": "stdout",
     "output_type": "stream",
     "text": [
      "[900]\ttrain-rmse:0.008435\tvalid_data-rmse:0.013024\n"
     ]
    },
    {
     "name": "stdout",
     "output_type": "stream",
     "text": [
      "[1000]\ttrain-rmse:0.006761\tvalid_data-rmse:0.012196\n"
     ]
    },
    {
     "name": "stdout",
     "output_type": "stream",
     "text": [
      "[1100]\ttrain-rmse:0.005723\tvalid_data-rmse:0.011845\n"
     ]
    },
    {
     "name": "stdout",
     "output_type": "stream",
     "text": [
      "[1200]\ttrain-rmse:0.005067\tvalid_data-rmse:0.011705\n"
     ]
    },
    {
     "name": "stdout",
     "output_type": "stream",
     "text": [
      "[1300]\ttrain-rmse:0.004634\tvalid_data-rmse:0.011643\n"
     ]
    },
    {
     "name": "stdout",
     "output_type": "stream",
     "text": [
      "[1400]\ttrain-rmse:0.004292\tvalid_data-rmse:0.011621\n"
     ]
    },
    {
     "name": "stdout",
     "output_type": "stream",
     "text": [
      "[1500]\ttrain-rmse:0.003996\tvalid_data-rmse:0.011619\n"
     ]
    },
    {
     "name": "stdout",
     "output_type": "stream",
     "text": [
      "[1600]\ttrain-rmse:0.003726\tvalid_data-rmse:0.011628\n"
     ]
    },
    {
     "name": "stdout",
     "output_type": "stream",
     "text": [
      "Stopping. Best iteration:\n[1466]\ttrain-rmse:0.004095\tvalid_data-rmse:0.011617\n\n"
     ]
    },
    {
     "name": "stdout",
     "output_type": "stream",
     "text": [
      "fold n°4"
     ]
    },
    {
     "name": "stdout",
     "output_type": "stream",
     "text": [
      "\n"
     ]
    },
    {
     "name": "stdout",
     "output_type": "stream",
     "text": [
      "[0]\ttrain-rmse:0.422949\tvalid_data-rmse:0.423757\n"
     ]
    },
    {
     "name": "stdout",
     "output_type": "stream",
     "text": [
      "Multiple eval metrics have been passed: 'valid_data-rmse' will be used for early stopping.\n\n"
     ]
    },
    {
     "name": "stdout",
     "output_type": "stream",
     "text": [
      "Will train until valid_data-rmse hasn't improved in 200 rounds.\n"
     ]
    },
    {
     "name": "stdout",
     "output_type": "stream",
     "text": [
      "[100]\ttrain-rmse:0.257\tvalid_data-rmse:0.256924\n"
     ]
    },
    {
     "name": "stdout",
     "output_type": "stream",
     "text": [
      "[200]\ttrain-rmse:0.156478\tvalid_data-rmse:0.156244\n"
     ]
    },
    {
     "name": "stdout",
     "output_type": "stream",
     "text": [
      "[300]\ttrain-rmse:0.095695\tvalid_data-rmse:0.095517\n"
     ]
    },
    {
     "name": "stdout",
     "output_type": "stream",
     "text": [
      "[400]\ttrain-rmse:0.059075\tvalid_data-rmse:0.058954\n"
     ]
    },
    {
     "name": "stdout",
     "output_type": "stream",
     "text": [
      "[500]\ttrain-rmse:0.037096\tvalid_data-rmse:0.037285\n"
     ]
    },
    {
     "name": "stdout",
     "output_type": "stream",
     "text": [
      "[600]\ttrain-rmse:0.023876\tvalid_data-rmse:0.024699\n"
     ]
    },
    {
     "name": "stdout",
     "output_type": "stream",
     "text": [
      "[700]\ttrain-rmse:0.015944\tvalid_data-rmse:0.017811\n"
     ]
    },
    {
     "name": "stdout",
     "output_type": "stream",
     "text": [
      "[800]\ttrain-rmse:0.01117\tvalid_data-rmse:0.014308\n"
     ]
    },
    {
     "name": "stdout",
     "output_type": "stream",
     "text": [
      "[900]\ttrain-rmse:0.008339\tvalid_data-rmse:0.012669\n"
     ]
    },
    {
     "name": "stdout",
     "output_type": "stream",
     "text": [
      "[1000]\ttrain-rmse:0.006652\tvalid_data-rmse:0.011962\n"
     ]
    },
    {
     "name": "stdout",
     "output_type": "stream",
     "text": [
      "[1100]\ttrain-rmse:0.005656\tvalid_data-rmse:0.011675\n"
     ]
    },
    {
     "name": "stdout",
     "output_type": "stream",
     "text": [
      "[1200]\ttrain-rmse:0.005009\tvalid_data-rmse:0.011558\n"
     ]
    },
    {
     "name": "stdout",
     "output_type": "stream",
     "text": [
      "[1300]\ttrain-rmse:0.004536\tvalid_data-rmse:0.011513\n"
     ]
    },
    {
     "name": "stdout",
     "output_type": "stream",
     "text": [
      "[1400]\ttrain-rmse:0.004152\tvalid_data-rmse:0.011497\n"
     ]
    },
    {
     "name": "stdout",
     "output_type": "stream",
     "text": [
      "[1500]\ttrain-rmse:0.003845\tvalid_data-rmse:0.011494\n"
     ]
    },
    {
     "name": "stdout",
     "output_type": "stream",
     "text": [
      "[1600]\ttrain-rmse:0.003532\tvalid_data-rmse:0.011499\n"
     ]
    },
    {
     "name": "stdout",
     "output_type": "stream",
     "text": [
      "Stopping. Best iteration:\n[1475]\ttrain-rmse:0.003902\tvalid_data-rmse:0.011492\n\n"
     ]
    },
    {
     "name": "stdout",
     "output_type": "stream",
     "text": [
      "fold n°5\n"
     ]
    },
    {
     "name": "stdout",
     "output_type": "stream",
     "text": [
      "[0]\ttrain-rmse:0.423228\tvalid_data-rmse:0.422635\n"
     ]
    },
    {
     "name": "stdout",
     "output_type": "stream",
     "text": [
      "Multiple eval metrics have been passed: 'valid_data-rmse' will be used for early stopping.\n\n"
     ]
    },
    {
     "name": "stdout",
     "output_type": "stream",
     "text": [
      "Will train until valid_data-rmse hasn't improved in 200 rounds.\n"
     ]
    },
    {
     "name": "stdout",
     "output_type": "stream",
     "text": [
      "[100]\ttrain-rmse:0.257149\tvalid_data-rmse:0.256825\n"
     ]
    },
    {
     "name": "stdout",
     "output_type": "stream",
     "text": [
      "[200]\ttrain-rmse:0.156582\tvalid_data-rmse:0.156303\n"
     ]
    },
    {
     "name": "stdout",
     "output_type": "stream",
     "text": [
      "[300]\ttrain-rmse:0.095762\tvalid_data-rmse:0.095538\n"
     ]
    },
    {
     "name": "stdout",
     "output_type": "stream",
     "text": [
      "[400]\ttrain-rmse:0.059137\tvalid_data-rmse:0.059132\n"
     ]
    },
    {
     "name": "stdout",
     "output_type": "stream",
     "text": [
      "[500]\ttrain-rmse:0.037172\tvalid_data-rmse:0.037535\n"
     ]
    },
    {
     "name": "stdout",
     "output_type": "stream",
     "text": [
      "[600]\ttrain-rmse:0.023966\tvalid_data-rmse:0.024847\n"
     ]
    },
    {
     "name": "stdout",
     "output_type": "stream",
     "text": [
      "[700]\ttrain-rmse:0.016066\tvalid_data-rmse:0.017635\n"
     ]
    },
    {
     "name": "stdout",
     "output_type": "stream",
     "text": [
      "[800]\ttrain-rmse:0.011359\tvalid_data-rmse:0.013826\n"
     ]
    },
    {
     "name": "stdout",
     "output_type": "stream",
     "text": [
      "[900]\ttrain-rmse:0.008569\tvalid_data-rmse:0.011909\n"
     ]
    },
    {
     "name": "stdout",
     "output_type": "stream",
     "text": [
      "[1000]\ttrain-rmse:0.006914\tvalid_data-rmse:0.01102\n"
     ]
    },
    {
     "name": "stdout",
     "output_type": "stream",
     "text": [
      "[1100]\ttrain-rmse:0.005914\tvalid_data-rmse:0.010611\n"
     ]
    },
    {
     "name": "stdout",
     "output_type": "stream",
     "text": [
      "[1200]\ttrain-rmse:0.005267\tvalid_data-rmse:0.010434\n"
     ]
    },
    {
     "name": "stdout",
     "output_type": "stream",
     "text": [
      "[1300]\ttrain-rmse:0.004806\tvalid_data-rmse:0.010364\n"
     ]
    },
    {
     "name": "stdout",
     "output_type": "stream",
     "text": [
      "[1400]\ttrain-rmse:0.004492\tvalid_data-rmse:0.010339\n"
     ]
    },
    {
     "name": "stdout",
     "output_type": "stream",
     "text": [
      "[1500]\ttrain-rmse:0.004185\tvalid_data-rmse:0.010323\n"
     ]
    },
    {
     "name": "stdout",
     "output_type": "stream",
     "text": [
      "[1600]\ttrain-rmse:0.003912\tvalid_data-rmse:0.010338\n"
     ]
    },
    {
     "name": "stdout",
     "output_type": "stream",
     "text": [
      "Stopping. Best iteration:\n[1469]\ttrain-rmse:0.004276\tvalid_data-rmse:0.010321\n\n"
     ]
    },
    {
     "name": "stdout",
     "output_type": "stream",
     "text": [
      "CV score: 0.00012539\n"
     ]
    }
   ],
   "source": [
    "##### xgb\n",
    "xgb_params = {'eta': 0.005, 'max_depth': 10, 'subsample': 0.8, 'colsample_bytree': 0.8, \n",
    "          'objective': 'reg:linear', 'eval_metric': 'rmse', 'silent': True, 'nthread': 4,}\n",
    "\n",
    "folds = KFold(n_splits=5, shuffle=True, random_state=2018)\n",
    "oof_xgb = np.zeros(len(train))\n",
    "predictions_xgb = np.zeros(len(test))\n",
    "\n",
    "for fold_, (trn_idx, val_idx) in enumerate(folds.split(X_train, y_train)):\n",
    "    print(\"fold n°{}\".format(fold_+1))\n",
    "    trn_data = xgb.DMatrix(X_train[trn_idx], y_train[trn_idx])\n",
    "    val_data = xgb.DMatrix(X_train[val_idx], y_train[val_idx])\n",
    "\n",
    "    watchlist = [(trn_data, 'train'), (val_data, 'valid_data')]\n",
    "    clf = xgb.train(dtrain=trn_data, num_boost_round=20000, evals=watchlist, early_stopping_rounds=200, verbose_eval=100, params=xgb_params)\n",
    "    oof_xgb[val_idx] = clf.predict(xgb.DMatrix(X_train[val_idx]), ntree_limit=clf.best_ntree_limit)\n",
    "    predictions_xgb += clf.predict(xgb.DMatrix(X_test), ntree_limit=clf.best_ntree_limit) / folds.n_splits\n",
    "\n",
    "print(\"CV score: {:<8.8f}\".format(mean_squared_error(oof_xgb, y_train)))"
   ]
  },
  {
   "cell_type": "code",
   "execution_count": 235,
   "metadata": {},
   "outputs": [
    {
     "name": "stdout",
     "output_type": "stream",
     "text": [
      "fold 0\nfold 1\nfold 2\nfold 3\nfold 4\nfold 5\nfold 6\nfold 7\nfold 8\nfold 9\n0.00012143562790058093\n"
     ]
    }
   ],
   "source": [
    "# 将lgb和xgb的结果进行stacking\n",
    "train_stack = np.vstack([oof_lgb,oof_xgb]).transpose()\n",
    "test_stack = np.vstack([predictions_lgb, predictions_xgb]).transpose()\n",
    "folds_stack = RepeatedKFold(n_splits=5, n_repeats=2, random_state=4590)\n",
    "oof_stack = np.zeros(train_stack.shape[0])\n",
    "predictions = np.zeros(test_stack.shape[0])\n",
    "for fold_, (trn_idx, val_idx) in enumerate(folds_stack.split(train_stack,y_train)):\n",
    "    print(\"fold {}\".format(fold_))\n",
    "    trn_data, trn_y = train_stack[trn_idx], y_train[trn_idx]\n",
    "    val_data, val_y = train_stack[val_idx], y_train[val_idx]\n",
    "    \n",
    "    clf_3 = BayesianRidge()\n",
    "    clf_3.fit(trn_data, trn_y)\n",
    "    \n",
    "    oof_stack[val_idx] = clf_3.predict(val_data)\n",
    "    predictions += clf_3.predict(test_stack) / 10\n",
    "print(mean_squared_error(y_train, oof_stack))"
   ]
  },
  {
   "cell_type": "code",
   "execution_count": 215,
   "metadata": {},
   "outputs": [],
   "source": [
    "sub_df = pd.read_csv('./jinnan_round1_submit_20181227.csv', header=None)\n",
    "sub_df[1] = predictions\n",
    "sub_df[1] = sub_df[1].apply(lambda x:round(x, 3))"
   ]
  },
  {
   "cell_type": "code",
   "execution_count": null,
   "metadata": {},
   "outputs": [],
   "source": [
    ""
   ]
  },
  {
   "cell_type": "code",
   "execution_count": 300,
   "metadata": {},
   "outputs": [],
   "source": [
    "sub_df.to_csv('solution.csv',index=False,header=False,encoding='gbk')"
   ]
  },
  {
   "cell_type": "code",
   "execution_count": 216,
   "metadata": {},
   "outputs": [],
   "source": [
    "def modeling_cross_validation(params, X, y, nr_folds=5):\n",
    "    \n",
    "    oof_preds = np.zeros(X.shape[0])\n",
    "    # Split data with kfold\n",
    "    folds = KFold(n_splits=nr_folds, shuffle=False, random_state=4096)\n",
    "    \n",
    "    for fold_, (trn_idx, val_idx) in enumerate(folds.split(X, y)):\n",
    "        print(\"fold n°{}\".format(fold_+1))\n",
    "        trn_data = lgb.Dataset(X[trn_idx], y[trn_idx])\n",
    "        val_data = lgb.Dataset(X[val_idx], y[val_idx])\n",
    "\n",
    "        num_round = 20000\n",
    "        clf = lgb.train(params, trn_data, num_round, valid_sets = [trn_data, val_data], verbose_eval=1000, early_stopping_rounds = 100)\n",
    "        oof_preds[val_idx] = clf.predict(X[val_idx], num_iteration=clf.best_iteration)\n",
    "\n",
    "    score = mean_squared_error(oof_preds, target)\n",
    "    \n",
    "    return  score/2"
   ]
  },
  {
   "cell_type": "code",
   "execution_count": 217,
   "metadata": {},
   "outputs": [],
   "source": [
    ""
   ]
  },
  {
   "cell_type": "code",
   "execution_count": 217,
   "metadata": {
    "collapsed": true
   },
   "outputs": [
    {
     "name": "stdout",
     "output_type": "stream",
     "text": [
      "fold n°1\nTraining until validation scores don't improve for 100 rounds.\n"
     ]
    },
    {
     "name": "stdout",
     "output_type": "stream",
     "text": [
      "Early stopping, best iteration is:\n[145]\ttraining's l2: 4.8731e-05\tvalid_1's l2: 0.000139679\nfold n°2\nTraining until validation scores don't improve for 100 rounds.\n"
     ]
    },
    {
     "name": "stdout",
     "output_type": "stream",
     "text": [
      "Early stopping, best iteration is:\n[261]\ttraining's l2: 3.18783e-05\tvalid_1's l2: 0.000146147\nfold n°3\nTraining until validation scores don't improve for 100 rounds.\n"
     ]
    },
    {
     "name": "stdout",
     "output_type": "stream",
     "text": [
      "Early stopping, best iteration is:\n[198]\ttraining's l2: 4.25328e-05\tvalid_1's l2: 0.000108349\nfold n°4\nTraining until validation scores don't improve for 100 rounds.\n"
     ]
    },
    {
     "name": "stdout",
     "output_type": "stream",
     "text": [
      "Early stopping, best iteration is:\n[252]\ttraining's l2: 3.59626e-05\tvalid_1's l2: 0.000108142\nfold n°5\nTraining until validation scores don't improve for 100 rounds.\n"
     ]
    },
    {
     "name": "stdout",
     "output_type": "stream",
     "text": [
      "Early stopping, best iteration is:\n[150]\ttraining's l2: 4.79744e-05\tvalid_1's l2: 0.000151928\n初始CV score: 0.00006543\nfold n°1\nTraining until validation scores don't improve for 100 rounds.\n"
     ]
    },
    {
     "name": "stdout",
     "output_type": "stream",
     "text": [
      "Early stopping, best iteration is:\n[94]\ttraining's l2: 0.000104955\tvalid_1's l2: 0.000187568\nfold n°2\nTraining until validation scores don't improve for 100 rounds.\n"
     ]
    },
    {
     "name": "stdout",
     "output_type": "stream",
     "text": [
      "Early stopping, best iteration is:\n[70]\ttraining's l2: 0.000116033\tvalid_1's l2: 0.000213429\nfold n°3\nTraining until validation scores don't improve for 100 rounds.\n"
     ]
    },
    {
     "name": "stdout",
     "output_type": "stream",
     "text": [
      "Early stopping, best iteration is:\n[151]\ttraining's l2: 8.99778e-05\tvalid_1's l2: 0.000150948\nfold n°4\nTraining until validation scores don't improve for 100 rounds.\n"
     ]
    },
    {
     "name": "stdout",
     "output_type": "stream",
     "text": [
      "Early stopping, best iteration is:\n[130]\ttraining's l2: 9.78968e-05\tvalid_1's l2: 0.000143683\nfold n°5\nTraining until validation scores don't improve for 100 rounds.\n"
     ]
    },
    {
     "name": "stdout",
     "output_type": "stream",
     "text": [
      "Early stopping, best iteration is:\n[95]\ttraining's l2: 0.000103692\tvalid_1's l2: 0.000193651\n----------\n当前移除特征: 样本id, CV score: 0.00008893, 最佳cv score: 0.00006543, 没效果,保留！！\nfold n°1\nTraining until validation scores don't improve for 100 rounds.\n"
     ]
    },
    {
     "name": "stdout",
     "output_type": "stream",
     "text": [
      "Early stopping, best iteration is:\n[151]\ttraining's l2: 4.81598e-05\tvalid_1's l2: 0.000138943\nfold n°2\nTraining until validation scores don't improve for 100 rounds.\n"
     ]
    },
    {
     "name": "stdout",
     "output_type": "stream",
     "text": [
      "Early stopping, best iteration is:\n[242]\ttraining's l2: 3.40958e-05\tvalid_1's l2: 0.00014715\nfold n°3\nTraining until validation scores don't improve for 100 rounds.\n"
     ]
    },
    {
     "name": "stdout",
     "output_type": "stream",
     "text": [
      "Early stopping, best iteration is:\n[219]\ttraining's l2: 4.07106e-05\tvalid_1's l2: 0.000109614\nfold n°4\nTraining until validation scores don't improve for 100 rounds.\n"
     ]
    },
    {
     "name": "stdout",
     "output_type": "stream",
     "text": [
      "Early stopping, best iteration is:\n[336]\ttraining's l2: 2.9912e-05\tvalid_1's l2: 0.000108578\nfold n°5\nTraining until validation scores don't improve for 100 rounds.\n"
     ]
    },
    {
     "name": "stdout",
     "output_type": "stream",
     "text": [
      "Early stopping, best iteration is:\n[154]\ttraining's l2: 4.76177e-05\tvalid_1's l2: 0.00015233\n----------\n当前移除特征: wendu_mean, CV score: 0.00006566, 最佳cv score: 0.00006543, 没效果,保留！！\nfold n°1\nTraining until validation scores don't improve for 100 rounds.\n"
     ]
    },
    {
     "name": "stdout",
     "output_type": "stream",
     "text": [
      "Early stopping, best iteration is:\n[141]\ttraining's l2: 5.02991e-05\tvalid_1's l2: 0.000138313\nfold n°2\nTraining until validation scores don't improve for 100 rounds.\n"
     ]
    },
    {
     "name": "stdout",
     "output_type": "stream",
     "text": [
      "Early stopping, best iteration is:\n[242]\ttraining's l2: 3.34321e-05\tvalid_1's l2: 0.000148376\nfold n°3\nTraining until validation scores don't improve for 100 rounds.\n"
     ]
    },
    {
     "name": "stdout",
     "output_type": "stream",
     "text": [
      "Early stopping, best iteration is:\n[189]\ttraining's l2: 4.43375e-05\tvalid_1's l2: 0.000103848\nfold n°4\nTraining until validation scores don't improve for 100 rounds.\n"
     ]
    },
    {
     "name": "stdout",
     "output_type": "stream",
     "text": [
      "Early stopping, best iteration is:\n[255]\ttraining's l2: 3.57801e-05\tvalid_1's l2: 0.000111655\nfold n°5\nTraining until validation scores don't improve for 100 rounds.\n"
     ]
    },
    {
     "name": "stdout",
     "output_type": "stream",
     "text": [
      "Early stopping, best iteration is:\n[134]\ttraining's l2: 5.22897e-05\tvalid_1's l2: 0.000154314\n----------\n当前移除特征: b14/a1_a3_a4_a19_b1_b12, CV score: 0.00006565, 最佳cv score: 0.00006543, 没效果,保留！！\nfold n°1\nTraining until validation scores don't improve for 100 rounds.\n"
     ]
    },
    {
     "name": "stdout",
     "output_type": "stream",
     "text": [
      "Early stopping, best iteration is:\n[141]\ttraining's l2: 5.07526e-05\tvalid_1's l2: 0.000140741\nfold n°2\nTraining until validation scores don't improve for 100 rounds.\n"
     ]
    },
    {
     "name": "stdout",
     "output_type": "stream",
     "text": [
      "Early stopping, best iteration is:\n[220]\ttraining's l2: 3.63654e-05\tvalid_1's l2: 0.000145646\nfold n°3\nTraining until validation scores don't improve for 100 rounds.\n"
     ]
    },
    {
     "name": "stdout",
     "output_type": "stream",
     "text": [
      "Early stopping, best iteration is:\n[216]\ttraining's l2: 4.01798e-05\tvalid_1's l2: 0.000106142\nfold n°4\nTraining until validation scores don't improve for 100 rounds.\n"
     ]
    },
    {
     "name": "stdout",
     "output_type": "stream",
     "text": [
      "Early stopping, best iteration is:\n[384]\ttraining's l2: 2.68059e-05\tvalid_1's l2: 0.00010982\nfold n°5\nTraining until validation scores don't improve for 100 rounds.\n"
     ]
    },
    {
     "name": "stdout",
     "output_type": "stream",
     "text": [
      "Early stopping, best iteration is:\n[130]\ttraining's l2: 5.3208e-05\tvalid_1's l2: 0.000153434\n----------\n当前移除特征: A5_mean, CV score: 0.00006558, 最佳cv score: 0.00006543, 没效果,保留！！\nfold n°1\nTraining until validation scores don't improve for 100 rounds.\n"
     ]
    },
    {
     "name": "stdout",
     "output_type": "stream",
     "text": [
      "Early stopping, best iteration is:\n[147]\ttraining's l2: 4.7803e-05\tvalid_1's l2: 0.000139807\nfold n°2\nTraining until validation scores don't improve for 100 rounds.\n"
     ]
    },
    {
     "name": "stdout",
     "output_type": "stream",
     "text": [
      "Early stopping, best iteration is:\n[191]\ttraining's l2: 4.01214e-05\tvalid_1's l2: 0.000147283\nfold n°3\nTraining until validation scores don't improve for 100 rounds.\n"
     ]
    },
    {
     "name": "stdout",
     "output_type": "stream",
     "text": [
      "Early stopping, best iteration is:\n[153]\ttraining's l2: 5.1629e-05\tvalid_1's l2: 0.000106578\nfold n°4\nTraining until validation scores don't improve for 100 rounds.\n"
     ]
    },
    {
     "name": "stdout",
     "output_type": "stream",
     "text": [
      "Early stopping, best iteration is:\n[259]\ttraining's l2: 3.5232e-05\tvalid_1's l2: 0.000109717\nfold n°5\nTraining until validation scores don't improve for 100 rounds.\n"
     ]
    },
    {
     "name": "stdout",
     "output_type": "stream",
     "text": [
      "Early stopping, best iteration is:\n[172]\ttraining's l2: 4.41414e-05\tvalid_1's l2: 0.000151115\n----------\n当前移除特征: A5_std, CV score: 0.00006545, 最佳cv score: 0.00006543, 没效果,保留！！\nfold n°1\nTraining until validation scores don't improve for 100 rounds.\n"
     ]
    },
    {
     "name": "stdout",
     "output_type": "stream",
     "text": [
      "Early stopping, best iteration is:\n[136]\ttraining's l2: 5.1208e-05\tvalid_1's l2: 0.000140911\nfold n°2\nTraining until validation scores don't improve for 100 rounds.\n"
     ]
    },
    {
     "name": "stdout",
     "output_type": "stream",
     "text": [
      "Early stopping, best iteration is:\n[271]\ttraining's l2: 3.09568e-05\tvalid_1's l2: 0.000144112\nfold n°3\nTraining until validation scores don't improve for 100 rounds.\n"
     ]
    },
    {
     "name": "stdout",
     "output_type": "stream",
     "text": [
      "Early stopping, best iteration is:\n[197]\ttraining's l2: 4.32146e-05\tvalid_1's l2: 0.000106842\nfold n°4\nTraining until validation scores don't improve for 100 rounds.\n"
     ]
    },
    {
     "name": "stdout",
     "output_type": "stream",
     "text": [
      "Early stopping, best iteration is:\n[274]\ttraining's l2: 3.41257e-05\tvalid_1's l2: 0.000108406\nfold n°5\nTraining until validation scores don't improve for 100 rounds.\n"
     ]
    },
    {
     "name": "stdout",
     "output_type": "stream",
     "text": [
      "Early stopping, best iteration is:\n[132]\ttraining's l2: 5.25253e-05\tvalid_1's l2: 0.000154927\n----------\n当前移除特征: A7_mean, CV score: 0.00006552, 最佳cv score: 0.00006543, 没效果,保留！！\nfold n°1\nTraining until validation scores don't improve for 100 rounds.\n"
     ]
    },
    {
     "name": "stdout",
     "output_type": "stream",
     "text": [
      "Early stopping, best iteration is:\n[153]\ttraining's l2: 4.71195e-05\tvalid_1's l2: 0.000140503\nfold n°2\nTraining until validation scores don't improve for 100 rounds.\n"
     ]
    },
    {
     "name": "stdout",
     "output_type": "stream",
     "text": [
      "Early stopping, best iteration is:\n[302]\ttraining's l2: 2.83273e-05\tvalid_1's l2: 0.000149685\nfold n°3\nTraining until validation scores don't improve for 100 rounds.\n"
     ]
    },
    {
     "name": "stdout",
     "output_type": "stream",
     "text": [
      "Early stopping, best iteration is:\n[190]\ttraining's l2: 4.43442e-05\tvalid_1's l2: 0.000102935\nfold n°4\nTraining until validation scores don't improve for 100 rounds.\n"
     ]
    },
    {
     "name": "stdout",
     "output_type": "stream",
     "text": [
      "Early stopping, best iteration is:\n[181]\ttraining's l2: 4.61556e-05\tvalid_1's l2: 0.000109303\nfold n°5\nTraining until validation scores don't improve for 100 rounds.\n"
     ]
    },
    {
     "name": "stdout",
     "output_type": "stream",
     "text": [
      "Early stopping, best iteration is:\n[162]\ttraining's l2: 4.56341e-05\tvalid_1's l2: 0.000153183\n----------\n当前移除特征: A7_std, CV score: 0.00006556, 最佳cv score: 0.00006543, 没效果,保留！！\nfold n°1\nTraining until validation scores don't improve for 100 rounds.\n"
     ]
    },
    {
     "name": "stdout",
     "output_type": "stream",
     "text": [
      "Early stopping, best iteration is:\n[142]\ttraining's l2: 4.92352e-05\tvalid_1's l2: 0.000139862\nfold n°2\nTraining until validation scores don't improve for 100 rounds.\n"
     ]
    },
    {
     "name": "stdout",
     "output_type": "stream",
     "text": [
      "Early stopping, best iteration is:\n[273]\ttraining's l2: 3.05544e-05\tvalid_1's l2: 0.000149199\nfold n°3\nTraining until validation scores don't improve for 100 rounds.\n"
     ]
    },
    {
     "name": "stdout",
     "output_type": "stream",
     "text": [
      "Early stopping, best iteration is:\n[195]\ttraining's l2: 4.30665e-05\tvalid_1's l2: 0.000107141\nfold n°4\nTraining until validation scores don't improve for 100 rounds.\n"
     ]
    },
    {
     "name": "stdout",
     "output_type": "stream",
     "text": [
      "Early stopping, best iteration is:\n[486]\ttraining's l2: 2.30124e-05\tvalid_1's l2: 0.000107346\nfold n°5\nTraining until validation scores don't improve for 100 rounds.\n"
     ]
    },
    {
     "name": "stdout",
     "output_type": "stream",
     "text": [
      "Early stopping, best iteration is:\n[202]\ttraining's l2: 3.84083e-05\tvalid_1's l2: 0.000151073\n----------\n当前移除特征: A9_mean, CV score: 0.00006547, 最佳cv score: 0.00006543, 没效果,保留！！\nfold n°1\nTraining until validation scores don't improve for 100 rounds.\n"
     ]
    },
    {
     "name": "stdout",
     "output_type": "stream",
     "text": [
      "Early stopping, best iteration is:\n[106]\ttraining's l2: 6.32993e-05\tvalid_1's l2: 0.000141778\nfold n°2\nTraining until validation scores don't improve for 100 rounds.\n"
     ]
    },
    {
     "name": "stdout",
     "output_type": "stream",
     "text": [
      "Early stopping, best iteration is:\n[287]\ttraining's l2: 2.98442e-05\tvalid_1's l2: 0.000144762\nfold n°3\nTraining until validation scores don't improve for 100 rounds.\n"
     ]
    },
    {
     "name": "stdout",
     "output_type": "stream",
     "text": [
      "Early stopping, best iteration is:\n[195]\ttraining's l2: 4.34867e-05\tvalid_1's l2: 0.000105403\nfold n°4\nTraining until validation scores don't improve for 100 rounds.\n"
     ]
    },
    {
     "name": "stdout",
     "output_type": "stream",
     "text": [
      "Early stopping, best iteration is:\n[529]\ttraining's l2: 2.19377e-05\tvalid_1's l2: 0.000108633\nfold n°5\nTraining until validation scores don't improve for 100 rounds.\n"
     ]
    },
    {
     "name": "stdout",
     "output_type": "stream",
     "text": [
      "Early stopping, best iteration is:\n[98]\ttraining's l2: 6.4313e-05\tvalid_1's l2: 0.000152417\n----------\n当前移除特征: A9_std, CV score: 0.00006530, 最佳cv score: 0.00006543, 有效果,删除！！\nfold n°1\nTraining until validation scores don't improve for 100 rounds.\n"
     ]
    },
    {
     "name": "stdout",
     "output_type": "stream",
     "text": [
      "Early stopping, best iteration is:\n[141]\ttraining's l2: 4.93775e-05\tvalid_1's l2: 0.000141145\nfold n°2\nTraining until validation scores don't improve for 100 rounds.\n"
     ]
    },
    {
     "name": "stdout",
     "output_type": "stream",
     "text": [
      "Early stopping, best iteration is:\n[217]\ttraining's l2: 3.6782e-05\tvalid_1's l2: 0.000146685\nfold n°3\nTraining until validation scores don't improve for 100 rounds.\n"
     ]
    },
    {
     "name": "stdout",
     "output_type": "stream",
     "text": [
      "Early stopping, best iteration is:\n[193]\ttraining's l2: 4.38312e-05\tvalid_1's l2: 0.000105139\nfold n°4\nTraining until validation scores don't improve for 100 rounds.\n"
     ]
    },
    {
     "name": "stdout",
     "output_type": "stream",
     "text": [
      "Early stopping, best iteration is:\n[334]\ttraining's l2: 2.93658e-05\tvalid_1's l2: 0.000107781\nfold n°5\nTraining until validation scores don't improve for 100 rounds.\n"
     ]
    },
    {
     "name": "stdout",
     "output_type": "stream",
     "text": [
      "Early stopping, best iteration is:\n[124]\ttraining's l2: 5.53176e-05\tvalid_1's l2: 0.000151147\n----------\n当前移除特征: A11_mean, CV score: 0.00006519, 最佳cv score: 0.00006530, 有效果,删除！！\nfold n°1\nTraining until validation scores don't improve for 100 rounds.\n"
     ]
    },
    {
     "name": "stdout",
     "output_type": "stream",
     "text": [
      "Early stopping, best iteration is:\n[147]\ttraining's l2: 4.89279e-05\tvalid_1's l2: 0.00014221\nfold n°2\nTraining until validation scores don't improve for 100 rounds.\n"
     ]
    },
    {
     "name": "stdout",
     "output_type": "stream",
     "text": [
      "Early stopping, best iteration is:\n[346]\ttraining's l2: 2.60751e-05\tvalid_1's l2: 0.000148341\nfold n°3\nTraining until validation scores don't improve for 100 rounds.\n"
     ]
    },
    {
     "name": "stdout",
     "output_type": "stream",
     "text": [
      "Early stopping, best iteration is:\n[196]\ttraining's l2: 4.31389e-05\tvalid_1's l2: 0.000107295\nfold n°4\nTraining until validation scores don't improve for 100 rounds.\n"
     ]
    },
    {
     "name": "stdout",
     "output_type": "stream",
     "text": [
      "Early stopping, best iteration is:\n[183]\ttraining's l2: 4.54916e-05\tvalid_1's l2: 0.000110801\nfold n°5\nTraining until validation scores don't improve for 100 rounds.\n"
     ]
    },
    {
     "name": "stdout",
     "output_type": "stream",
     "text": [
      "Early stopping, best iteration is:\n[125]\ttraining's l2: 5.43057e-05\tvalid_1's l2: 0.000153043\n----------\n当前移除特征: A11_std, CV score: 0.00006617, 最佳cv score: 0.00006519, 没效果,保留！！\nfold n°1\nTraining until validation scores don't improve for 100 rounds.\n"
     ]
    },
    {
     "name": "stdout",
     "output_type": "stream",
     "text": [
      "Early stopping, best iteration is:\n[181]\ttraining's l2: 4.15085e-05\tvalid_1's l2: 0.000142191\nfold n°2\nTraining until validation scores don't improve for 100 rounds.\n"
     ]
    },
    {
     "name": "stdout",
     "output_type": "stream",
     "text": [
      "Early stopping, best iteration is:\n[222]\ttraining's l2: 3.55635e-05\tvalid_1's l2: 0.000146019\nfold n°3\nTraining until validation scores don't improve for 100 rounds.\n"
     ]
    },
    {
     "name": "stdout",
     "output_type": "stream",
     "text": [
      "Early stopping, best iteration is:\n[195]\ttraining's l2: 4.35811e-05\tvalid_1's l2: 0.000108085\nfold n°4\nTraining until validation scores don't improve for 100 rounds.\n"
     ]
    },
    {
     "name": "stdout",
     "output_type": "stream",
     "text": [
      "Early stopping, best iteration is:\n[333]\ttraining's l2: 2.95145e-05\tvalid_1's l2: 0.000112593\nfold n°5\nTraining until validation scores don't improve for 100 rounds.\n"
     ]
    },
    {
     "name": "stdout",
     "output_type": "stream",
     "text": [
      "Early stopping, best iteration is:\n[138]\ttraining's l2: 5.18271e-05\tvalid_1's l2: 0.000154369\n----------\n当前移除特征: A14_mean, CV score: 0.00006633, 最佳cv score: 0.00006519, 没效果,保留！！\nfold n°1\nTraining until validation scores don't improve for 100 rounds.\n"
     ]
    },
    {
     "name": "stdout",
     "output_type": "stream",
     "text": [
      "Early stopping, best iteration is:\n[138]\ttraining's l2: 5.11974e-05\tvalid_1's l2: 0.000140519\nfold n°2\nTraining until validation scores don't improve for 100 rounds.\n"
     ]
    },
    {
     "name": "stdout",
     "output_type": "stream",
     "text": [
      "Early stopping, best iteration is:\n[302]\ttraining's l2: 2.87078e-05\tvalid_1's l2: 0.000148748\nfold n°3\nTraining until validation scores don't improve for 100 rounds.\n"
     ]
    },
    {
     "name": "stdout",
     "output_type": "stream",
     "text": [
      "Early stopping, best iteration is:\n[183]\ttraining's l2: 4.52822e-05\tvalid_1's l2: 0.000104482\nfold n°4\nTraining until validation scores don't improve for 100 rounds.\n"
     ]
    },
    {
     "name": "stdout",
     "output_type": "stream",
     "text": [
      "Early stopping, best iteration is:\n[250]\ttraining's l2: 3.65326e-05\tvalid_1's l2: 0.000110292\nfold n°5\nTraining until validation scores don't improve for 100 rounds.\n"
     ]
    },
    {
     "name": "stdout",
     "output_type": "stream",
     "text": [
      "Early stopping, best iteration is:\n[114]\ttraining's l2: 5.83249e-05\tvalid_1's l2: 0.00015136\n----------\n当前移除特征: A14_std, CV score: 0.00006554, 最佳cv score: 0.00006519, 没效果,保留！！\nfold n°1\nTraining until validation scores don't improve for 100 rounds.\n"
     ]
    },
    {
     "name": "stdout",
     "output_type": "stream",
     "text": [
      "Early stopping, best iteration is:\n[156]\ttraining's l2: 4.58873e-05\tvalid_1's l2: 0.00013922\nfold n°2\nTraining until validation scores don't improve for 100 rounds.\n"
     ]
    },
    {
     "name": "stdout",
     "output_type": "stream",
     "text": [
      "Early stopping, best iteration is:\n[231]\ttraining's l2: 3.5202e-05\tvalid_1's l2: 0.000148875\nfold n°3\nTraining until validation scores don't improve for 100 rounds.\n"
     ]
    },
    {
     "name": "stdout",
     "output_type": "stream",
     "text": [
      "Early stopping, best iteration is:\n[186]\ttraining's l2: 4.50544e-05\tvalid_1's l2: 0.000107006\nfold n°4\nTraining until validation scores don't improve for 100 rounds.\n"
     ]
    },
    {
     "name": "stdout",
     "output_type": "stream",
     "text": [
      "Early stopping, best iteration is:\n[190]\ttraining's l2: 4.38529e-05\tvalid_1's l2: 0.000109574\nfold n°5\nTraining until validation scores don't improve for 100 rounds.\n"
     ]
    },
    {
     "name": "stdout",
     "output_type": "stream",
     "text": [
      "Early stopping, best iteration is:\n[114]\ttraining's l2: 5.81816e-05\tvalid_1's l2: 0.000154056\n----------\n当前移除特征: A16_mean, CV score: 0.00006588, 最佳cv score: 0.00006519, 没效果,保留！！\nfold n°1\nTraining until validation scores don't improve for 100 rounds.\n"
     ]
    },
    {
     "name": "stdout",
     "output_type": "stream",
     "text": [
      "Early stopping, best iteration is:\n[138]\ttraining's l2: 5.14865e-05\tvalid_1's l2: 0.000139202\nfold n°2\nTraining until validation scores don't improve for 100 rounds.\n"
     ]
    },
    {
     "name": "stdout",
     "output_type": "stream",
     "text": [
      "Early stopping, best iteration is:\n[258]\ttraining's l2: 3.19758e-05\tvalid_1's l2: 0.000145411\nfold n°3\nTraining until validation scores don't improve for 100 rounds.\n"
     ]
    },
    {
     "name": "stdout",
     "output_type": "stream",
     "text": [
      "Early stopping, best iteration is:\n[195]\ttraining's l2: 4.3255e-05\tvalid_1's l2: 0.000104226\nfold n°4\nTraining until validation scores don't improve for 100 rounds.\n"
     ]
    },
    {
     "name": "stdout",
     "output_type": "stream",
     "text": [
      "Early stopping, best iteration is:\n[312]\ttraining's l2: 3.11749e-05\tvalid_1's l2: 0.000110011\nfold n°5\nTraining until validation scores don't improve for 100 rounds.\n"
     ]
    },
    {
     "name": "stdout",
     "output_type": "stream",
     "text": [
      "Early stopping, best iteration is:\n[162]\ttraining's l2: 4.59065e-05\tvalid_1's l2: 0.000153604\n----------\n当前移除特征: A16_std, CV score: 0.00006525, 最佳cv score: 0.00006519, 没效果,保留！！\nfold n°1\nTraining until validation scores don't improve for 100 rounds.\n"
     ]
    },
    {
     "name": "stdout",
     "output_type": "stream",
     "text": [
      "Early stopping, best iteration is:\n[141]\ttraining's l2: 4.99759e-05\tvalid_1's l2: 0.000136618\nfold n°2\nTraining until validation scores don't improve for 100 rounds.\n"
     ]
    },
    {
     "name": "stdout",
     "output_type": "stream",
     "text": [
      "Early stopping, best iteration is:\n[257]\ttraining's l2: 3.23344e-05\tvalid_1's l2: 0.00014716\nfold n°3\nTraining until validation scores don't improve for 100 rounds.\n"
     ]
    },
    {
     "name": "stdout",
     "output_type": "stream",
     "text": [
      "Early stopping, best iteration is:\n[189]\ttraining's l2: 4.40276e-05\tvalid_1's l2: 0.000109098\nfold n°4\nTraining until validation scores don't improve for 100 rounds.\n"
     ]
    },
    {
     "name": "stdout",
     "output_type": "stream",
     "text": [
      "Early stopping, best iteration is:\n[355]\ttraining's l2: 2.82706e-05\tvalid_1's l2: 0.000111588\nfold n°5\nTraining until validation scores don't improve for 100 rounds.\n"
     ]
    },
    {
     "name": "stdout",
     "output_type": "stream",
     "text": [
      "Early stopping, best iteration is:\n[157]\ttraining's l2: 4.71741e-05\tvalid_1's l2: 0.000154726\n----------\n当前移除特征: A24_mean, CV score: 0.00006592, 最佳cv score: 0.00006519, 没效果,保留！！\nfold n°1\nTraining until validation scores don't improve for 100 rounds.\n"
     ]
    },
    {
     "name": "stdout",
     "output_type": "stream",
     "text": [
      "Early stopping, best iteration is:\n[127]\ttraining's l2: 5.55459e-05\tvalid_1's l2: 0.000145037\nfold n°2\nTraining until validation scores don't improve for 100 rounds.\n"
     ]
    },
    {
     "name": "stdout",
     "output_type": "stream",
     "text": [
      "Early stopping, best iteration is:\n[347]\ttraining's l2: 2.59364e-05\tvalid_1's l2: 0.000146391\nfold n°3\nTraining until validation scores don't improve for 100 rounds.\n"
     ]
    },
    {
     "name": "stdout",
     "output_type": "stream",
     "text": [
      "Early stopping, best iteration is:\n[216]\ttraining's l2: 4.01751e-05\tvalid_1's l2: 0.000109817\nfold n°4\nTraining until validation scores don't improve for 100 rounds.\n"
     ]
    },
    {
     "name": "stdout",
     "output_type": "stream",
     "text": [
      "Early stopping, best iteration is:\n[339]\ttraining's l2: 2.93196e-05\tvalid_1's l2: 0.000107751\nfold n°5\nTraining until validation scores don't improve for 100 rounds.\n"
     ]
    },
    {
     "name": "stdout",
     "output_type": "stream",
     "text": [
      "Early stopping, best iteration is:\n[125]\ttraining's l2: 5.52718e-05\tvalid_1's l2: 0.000154508\n----------\n当前移除特征: A24_std, CV score: 0.00006635, 最佳cv score: 0.00006519, 没效果,保留！！\nfold n°1\nTraining until validation scores don't improve for 100 rounds.\n"
     ]
    },
    {
     "name": "stdout",
     "output_type": "stream",
     "text": [
      "Early stopping, best iteration is:\n[139]\ttraining's l2: 5.15458e-05\tvalid_1's l2: 0.00014139\nfold n°2\nTraining until validation scores don't improve for 100 rounds.\n"
     ]
    },
    {
     "name": "stdout",
     "output_type": "stream",
     "text": [
      "Early stopping, best iteration is:\n[424]\ttraining's l2: 2.27553e-05\tvalid_1's l2: 0.000146516\nfold n°3\nTraining until validation scores don't improve for 100 rounds.\n"
     ]
    },
    {
     "name": "stdout",
     "output_type": "stream",
     "text": [
      "Early stopping, best iteration is:\n[196]\ttraining's l2: 4.37824e-05\tvalid_1's l2: 0.000107403\nfold n°4\nTraining until validation scores don't improve for 100 rounds.\n"
     ]
    },
    {
     "name": "stdout",
     "output_type": "stream",
     "text": [
      "Early stopping, best iteration is:\n[289]\ttraining's l2: 3.25185e-05\tvalid_1's l2: 0.000110799\nfold n°5\nTraining until validation scores don't improve for 100 rounds.\n"
     ]
    },
    {
     "name": "stdout",
     "output_type": "stream",
     "text": [
      "Early stopping, best iteration is:\n[130]\ttraining's l2: 5.26822e-05\tvalid_1's l2: 0.00015118\n----------\n当前移除特征: A26_mean, CV score: 0.00006573, 最佳cv score: 0.00006519, 没效果,保留！！\nfold n°1\nTraining until validation scores don't improve for 100 rounds.\n"
     ]
    },
    {
     "name": "stdout",
     "output_type": "stream",
     "text": [
      "Early stopping, best iteration is:\n[123]\ttraining's l2: 5.60263e-05\tvalid_1's l2: 0.000141442\nfold n°2\nTraining until validation scores don't improve for 100 rounds.\n"
     ]
    },
    {
     "name": "stdout",
     "output_type": "stream",
     "text": [
      "Early stopping, best iteration is:\n[222]\ttraining's l2: 3.63191e-05\tvalid_1's l2: 0.000148562\nfold n°3\nTraining until validation scores don't improve for 100 rounds.\n"
     ]
    },
    {
     "name": "stdout",
     "output_type": "stream",
     "text": [
      "Early stopping, best iteration is:\n[181]\ttraining's l2: 4.56064e-05\tvalid_1's l2: 0.000106177\nfold n°4\nTraining until validation scores don't improve for 100 rounds.\n"
     ]
    },
    {
     "name": "stdout",
     "output_type": "stream",
     "text": [
      "Early stopping, best iteration is:\n[183]\ttraining's l2: 4.5189e-05\tvalid_1's l2: 0.00010904\nfold n°5\nTraining until validation scores don't improve for 100 rounds.\n"
     ]
    },
    {
     "name": "stdout",
     "output_type": "stream",
     "text": [
      "Early stopping, best iteration is:\n[112]\ttraining's l2: 5.95686e-05\tvalid_1's l2: 0.000155385\n----------\n当前移除特征: A26_std, CV score: 0.00006606, 最佳cv score: 0.00006519, 没效果,保留！！\nfold n°1\nTraining until validation scores don't improve for 100 rounds.\n"
     ]
    },
    {
     "name": "stdout",
     "output_type": "stream",
     "text": [
      "Early stopping, best iteration is:\n[141]\ttraining's l2: 4.98926e-05\tvalid_1's l2: 0.00013993\nfold n°2\nTraining until validation scores don't improve for 100 rounds.\n"
     ]
    },
    {
     "name": "stdout",
     "output_type": "stream",
     "text": [
      "Early stopping, best iteration is:\n[383]\ttraining's l2: 2.42801e-05\tvalid_1's l2: 0.000149183\nfold n°3\nTraining until validation scores don't improve for 100 rounds.\n"
     ]
    },
    {
     "name": "stdout",
     "output_type": "stream",
     "text": [
      "Early stopping, best iteration is:\n[215]\ttraining's l2: 4.05806e-05\tvalid_1's l2: 0.000104275\nfold n°4\nTraining until validation scores don't improve for 100 rounds.\n"
     ]
    },
    {
     "name": "stdout",
     "output_type": "stream",
     "text": [
      "Early stopping, best iteration is:\n[185]\ttraining's l2: 4.5207e-05\tvalid_1's l2: 0.000108435\nfold n°5\nTraining until validation scores don't improve for 100 rounds.\n"
     ]
    },
    {
     "name": "stdout",
     "output_type": "stream",
     "text": [
      "Early stopping, best iteration is:\n[212]\ttraining's l2: 3.7633e-05\tvalid_1's l2: 0.000151469\n----------\n当前移除特征: B5_mean, CV score: 0.00006533, 最佳cv score: 0.00006519, 没效果,保留！！\nfold n°1\nTraining until validation scores don't improve for 100 rounds.\n"
     ]
    },
    {
     "name": "stdout",
     "output_type": "stream",
     "text": [
      "Early stopping, best iteration is:\n[154]\ttraining's l2: 4.60175e-05\tvalid_1's l2: 0.000139415\nfold n°2\nTraining until validation scores don't improve for 100 rounds.\n"
     ]
    },
    {
     "name": "stdout",
     "output_type": "stream",
     "text": [
      "Early stopping, best iteration is:\n[227]\ttraining's l2: 3.50432e-05\tvalid_1's l2: 0.000143523\nfold n°3\nTraining until validation scores don't improve for 100 rounds.\n"
     ]
    },
    {
     "name": "stdout",
     "output_type": "stream",
     "text": [
      "Early stopping, best iteration is:\n[216]\ttraining's l2: 3.97681e-05\tvalid_1's l2: 0.00010498\nfold n°4\nTraining until validation scores don't improve for 100 rounds.\n"
     ]
    },
    {
     "name": "stdout",
     "output_type": "stream",
     "text": [
      "Early stopping, best iteration is:\n[223]\ttraining's l2: 3.92334e-05\tvalid_1's l2: 0.000107146\nfold n°5\nTraining until validation scores don't improve for 100 rounds.\n"
     ]
    },
    {
     "name": "stdout",
     "output_type": "stream",
     "text": [
      "Early stopping, best iteration is:\n[146]\ttraining's l2: 4.86885e-05\tvalid_1's l2: 0.000151922\n----------\n当前移除特征: B5_std, CV score: 0.00006470, 最佳cv score: 0.00006519, 有效果,删除！！\nfold n°1\nTraining until validation scores don't improve for 100 rounds.\n"
     ]
    },
    {
     "name": "stdout",
     "output_type": "stream",
     "text": [
      "Early stopping, best iteration is:\n[151]\ttraining's l2: 4.82425e-05\tvalid_1's l2: 0.000140044\nfold n°2\nTraining until validation scores don't improve for 100 rounds.\n"
     ]
    },
    {
     "name": "stdout",
     "output_type": "stream",
     "text": [
      "Early stopping, best iteration is:\n[241]\ttraining's l2: 3.39938e-05\tvalid_1's l2: 0.000144181\nfold n°3\nTraining until validation scores don't improve for 100 rounds.\n"
     ]
    },
    {
     "name": "stdout",
     "output_type": "stream",
     "text": [
      "Early stopping, best iteration is:\n[195]\ttraining's l2: 4.34892e-05\tvalid_1's l2: 0.000104377\nfold n°4\nTraining until validation scores don't improve for 100 rounds.\n"
     ]
    },
    {
     "name": "stdout",
     "output_type": "stream",
     "text": [
      "Early stopping, best iteration is:\n[354]\ttraining's l2: 2.82634e-05\tvalid_1's l2: 0.000110647\nfold n°5\nTraining until validation scores don't improve for 100 rounds.\n"
     ]
    },
    {
     "name": "stdout",
     "output_type": "stream",
     "text": [
      "Early stopping, best iteration is:\n[134]\ttraining's l2: 5.15943e-05\tvalid_1's l2: 0.000157586\n----------\n当前移除特征: B7_mean, CV score: 0.00006569, 最佳cv score: 0.00006470, 没效果,保留！！\nfold n°1\nTraining until validation scores don't improve for 100 rounds.\n"
     ]
    },
    {
     "name": "stdout",
     "output_type": "stream",
     "text": [
      "Early stopping, best iteration is:\n[155]\ttraining's l2: 4.66718e-05\tvalid_1's l2: 0.000139899\nfold n°2\nTraining until validation scores don't improve for 100 rounds.\n"
     ]
    },
    {
     "name": "stdout",
     "output_type": "stream",
     "text": [
      "Early stopping, best iteration is:\n[301]\ttraining's l2: 2.86743e-05\tvalid_1's l2: 0.000148152\nfold n°3\nTraining until validation scores don't improve for 100 rounds.\n"
     ]
    },
    {
     "name": "stdout",
     "output_type": "stream",
     "text": [
      "Early stopping, best iteration is:\n[241]\ttraining's l2: 3.72387e-05\tvalid_1's l2: 0.000105549\nfold n°4\nTraining until validation scores don't improve for 100 rounds.\n"
     ]
    },
    {
     "name": "stdout",
     "output_type": "stream",
     "text": [
      "Early stopping, best iteration is:\n[231]\ttraining's l2: 3.83095e-05\tvalid_1's l2: 0.000106684\nfold n°5\nTraining until validation scores don't improve for 100 rounds.\n"
     ]
    },
    {
     "name": "stdout",
     "output_type": "stream",
     "text": [
      "Early stopping, best iteration is:\n[171]\ttraining's l2: 4.42984e-05\tvalid_1's l2: 0.000152443\n----------\n当前移除特征: B7_std, CV score: 0.00006528, 最佳cv score: 0.00006470, 没效果,保留！！\nfold n°1\nTraining until validation scores don't improve for 100 rounds.\n"
     ]
    },
    {
     "name": "stdout",
     "output_type": "stream",
     "text": [
      "Early stopping, best iteration is:\n[140]\ttraining's l2: 5.07488e-05\tvalid_1's l2: 0.000140832\nfold n°2\nTraining until validation scores don't improve for 100 rounds.\n"
     ]
    },
    {
     "name": "stdout",
     "output_type": "stream",
     "text": [
      "Early stopping, best iteration is:\n[366]\ttraining's l2: 2.51268e-05\tvalid_1's l2: 0.000143594\nfold n°3\nTraining until validation scores don't improve for 100 rounds.\n"
     ]
    },
    {
     "name": "stdout",
     "output_type": "stream",
     "text": [
      "Early stopping, best iteration is:\n[162]\ttraining's l2: 4.95578e-05\tvalid_1's l2: 0.000103912\nfold n°4\nTraining until validation scores don't improve for 100 rounds.\n"
     ]
    },
    {
     "name": "stdout",
     "output_type": "stream",
     "text": [
      "Early stopping, best iteration is:\n[267]\ttraining's l2: 3.46681e-05\tvalid_1's l2: 0.000109633\nfold n°5\nTraining until validation scores don't improve for 100 rounds.\n"
     ]
    },
    {
     "name": "stdout",
     "output_type": "stream",
     "text": [
      "Early stopping, best iteration is:\n[139]\ttraining's l2: 5.03107e-05\tvalid_1's l2: 0.000154161\n----------\n当前移除特征: A20_mean, CV score: 0.00006522, 最佳cv score: 0.00006470, 没效果,保留！！\nfold n°1\nTraining until validation scores don't improve for 100 rounds.\n"
     ]
    },
    {
     "name": "stdout",
     "output_type": "stream",
     "text": [
      "Early stopping, best iteration is:\n[142]\ttraining's l2: 5.01189e-05\tvalid_1's l2: 0.000141818\nfold n°2\nTraining until validation scores don't improve for 100 rounds.\n"
     ]
    },
    {
     "name": "stdout",
     "output_type": "stream",
     "text": [
      "Early stopping, best iteration is:\n[301]\ttraining's l2: 2.87606e-05\tvalid_1's l2: 0.000146974\nfold n°3\nTraining until validation scores don't improve for 100 rounds.\n"
     ]
    },
    {
     "name": "stdout",
     "output_type": "stream",
     "text": [
      "Early stopping, best iteration is:\n[216]\ttraining's l2: 4.05976e-05\tvalid_1's l2: 0.000104476\nfold n°4\nTraining until validation scores don't improve for 100 rounds.\n"
     ]
    },
    {
     "name": "stdout",
     "output_type": "stream",
     "text": [
      "Early stopping, best iteration is:\n[172]\ttraining's l2: 4.80506e-05\tvalid_1's l2: 0.000108614\nfold n°5\nTraining until validation scores don't improve for 100 rounds.\n"
     ]
    },
    {
     "name": "stdout",
     "output_type": "stream",
     "text": [
      "Early stopping, best iteration is:\n[143]\ttraining's l2: 4.93544e-05\tvalid_1's l2: 0.000152618\n----------\n当前移除特征: A20_std, CV score: 0.00006545, 最佳cv score: 0.00006470, 没效果,保留！！\nfold n°1\nTraining until validation scores don't improve for 100 rounds.\n"
     ]
    },
    {
     "name": "stdout",
     "output_type": "stream",
     "text": [
      "Early stopping, best iteration is:\n[147]\ttraining's l2: 4.84165e-05\tvalid_1's l2: 0.000137937\nfold n°2\nTraining until validation scores don't improve for 100 rounds.\n"
     ]
    },
    {
     "name": "stdout",
     "output_type": "stream",
     "text": [
      "Early stopping, best iteration is:\n[216]\ttraining's l2: 3.61372e-05\tvalid_1's l2: 0.000147178\nfold n°3\nTraining until validation scores don't improve for 100 rounds.\n"
     ]
    },
    {
     "name": "stdout",
     "output_type": "stream",
     "text": [
      "Early stopping, best iteration is:\n[195]\ttraining's l2: 4.33995e-05\tvalid_1's l2: 0.000105855\nfold n°4\nTraining until validation scores don't improve for 100 rounds.\n"
     ]
    },
    {
     "name": "stdout",
     "output_type": "stream",
     "text": [
      "Early stopping, best iteration is:\n[333]\ttraining's l2: 2.97523e-05\tvalid_1's l2: 0.000108405\nfold n°5\nTraining until validation scores don't improve for 100 rounds.\n"
     ]
    },
    {
     "name": "stdout",
     "output_type": "stream",
     "text": [
      "Early stopping, best iteration is:\n[139]\ttraining's l2: 5.04968e-05\tvalid_1's l2: 0.000151241\n----------\n当前移除特征: A28_mean, CV score: 0.00006506, 最佳cv score: 0.00006470, 没效果,保留！！\nfold n°1\nTraining until validation scores don't improve for 100 rounds.\n"
     ]
    },
    {
     "name": "stdout",
     "output_type": "stream",
     "text": [
      "Early stopping, best iteration is:\n[147]\ttraining's l2: 4.88595e-05\tvalid_1's l2: 0.000139574\nfold n°2\nTraining until validation scores don't improve for 100 rounds.\n"
     ]
    },
    {
     "name": "stdout",
     "output_type": "stream",
     "text": [
      "Early stopping, best iteration is:\n[287]\ttraining's l2: 2.97343e-05\tvalid_1's l2: 0.000144133\nfold n°3\nTraining until validation scores don't improve for 100 rounds.\n"
     ]
    },
    {
     "name": "stdout",
     "output_type": "stream",
     "text": [
      "Early stopping, best iteration is:\n[167]\ttraining's l2: 4.86052e-05\tvalid_1's l2: 0.000105397\nfold n°4\nTraining until validation scores don't improve for 100 rounds.\n"
     ]
    },
    {
     "name": "stdout",
     "output_type": "stream",
     "text": [
      "Early stopping, best iteration is:\n[300]\ttraining's l2: 3.18784e-05\tvalid_1's l2: 0.000110142\nfold n°5\nTraining until validation scores don't improve for 100 rounds.\n"
     ]
    },
    {
     "name": "stdout",
     "output_type": "stream",
     "text": [
      "Early stopping, best iteration is:\n[124]\ttraining's l2: 5.48223e-05\tvalid_1's l2: 0.000154637\n----------\n当前移除特征: A28_std, CV score: 0.00006539, 最佳cv score: 0.00006470, 没效果,保留！！\nfold n°1\nTraining until validation scores don't improve for 100 rounds.\n"
     ]
    },
    {
     "name": "stdout",
     "output_type": "stream",
     "text": [
      "Early stopping, best iteration is:\n[156]\ttraining's l2: 4.58201e-05\tvalid_1's l2: 0.000138774\nfold n°2\nTraining until validation scores don't improve for 100 rounds.\n"
     ]
    },
    {
     "name": "stdout",
     "output_type": "stream",
     "text": [
      "Early stopping, best iteration is:\n[287]\ttraining's l2: 2.996e-05\tvalid_1's l2: 0.000144776\nfold n°3\nTraining until validation scores don't improve for 100 rounds.\n"
     ]
    },
    {
     "name": "stdout",
     "output_type": "stream",
     "text": [
      "Early stopping, best iteration is:\n[229]\ttraining's l2: 3.87264e-05\tvalid_1's l2: 0.000105391\nfold n°4\nTraining until validation scores don't improve for 100 rounds.\n"
     ]
    },
    {
     "name": "stdout",
     "output_type": "stream",
     "text": [
      "Early stopping, best iteration is:\n[335]\ttraining's l2: 2.9458e-05\tvalid_1's l2: 0.000109495\nfold n°5\nTraining until validation scores don't improve for 100 rounds.\n"
     ]
    },
    {
     "name": "stdout",
     "output_type": "stream",
     "text": [
      "Early stopping, best iteration is:\n[128]\ttraining's l2: 5.39757e-05\tvalid_1's l2: 0.000153016\n----------\n当前移除特征: B4_mean, CV score: 0.00006515, 最佳cv score: 0.00006470, 没效果,保留！！\nfold n°1\nTraining until validation scores don't improve for 100 rounds.\n"
     ]
    },
    {
     "name": "stdout",
     "output_type": "stream",
     "text": [
      "Early stopping, best iteration is:\n[157]\ttraining's l2: 4.64181e-05\tvalid_1's l2: 0.000141686\nfold n°2\nTraining until validation scores don't improve for 100 rounds.\n"
     ]
    },
    {
     "name": "stdout",
     "output_type": "stream",
     "text": [
      "Early stopping, best iteration is:\n[384]\ttraining's l2: 2.46904e-05\tvalid_1's l2: 0.000150771\nfold n°3\nTraining until validation scores don't improve for 100 rounds.\n"
     ]
    },
    {
     "name": "stdout",
     "output_type": "stream",
     "text": [
      "Early stopping, best iteration is:\n[186]\ttraining's l2: 4.5355e-05\tvalid_1's l2: 0.00010993\nfold n°4\nTraining until validation scores don't improve for 100 rounds.\n"
     ]
    },
    {
     "name": "stdout",
     "output_type": "stream",
     "text": [
      "Early stopping, best iteration is:\n[274]\ttraining's l2: 3.38075e-05\tvalid_1's l2: 0.00010998\nfold n°5\nTraining until validation scores don't improve for 100 rounds.\n"
     ]
    },
    {
     "name": "stdout",
     "output_type": "stream",
     "text": [
      "Early stopping, best iteration is:\n[173]\ttraining's l2: 4.35826e-05\tvalid_1's l2: 0.000152047\n----------\n当前移除特征: B4_std, CV score: 0.00006644, 最佳cv score: 0.00006470, 没效果,保留！！\nfold n°1\nTraining until validation scores don't improve for 100 rounds.\n"
     ]
    },
    {
     "name": "stdout",
     "output_type": "stream",
     "text": [
      "Early stopping, best iteration is:\n[142]\ttraining's l2: 5.00968e-05\tvalid_1's l2: 0.000140096\nfold n°2\nTraining until validation scores don't improve for 100 rounds.\n"
     ]
    },
    {
     "name": "stdout",
     "output_type": "stream",
     "text": [
      "Early stopping, best iteration is:\n[239]\ttraining's l2: 3.4335e-05\tvalid_1's l2: 0.000147416\nfold n°3\nTraining until validation scores don't improve for 100 rounds.\n"
     ]
    },
    {
     "name": "stdout",
     "output_type": "stream",
     "text": [
      "Early stopping, best iteration is:\n[217]\ttraining's l2: 4.0094e-05\tvalid_1's l2: 0.000104921\nfold n°4\nTraining until validation scores don't improve for 100 rounds.\n"
     ]
    },
    {
     "name": "stdout",
     "output_type": "stream",
     "text": [
      "Early stopping, best iteration is:\n[179]\ttraining's l2: 4.58476e-05\tvalid_1's l2: 0.000107938\nfold n°5\nTraining until validation scores don't improve for 100 rounds.\n"
     ]
    },
    {
     "name": "stdout",
     "output_type": "stream",
     "text": [
      "Early stopping, best iteration is:\n[131]\ttraining's l2: 5.29794e-05\tvalid_1's l2: 0.000153507\n----------\n当前移除特征: B9_mean, CV score: 0.00006539, 最佳cv score: 0.00006470, 没效果,保留！！\nfold n°1\nTraining until validation scores don't improve for 100 rounds.\n"
     ]
    },
    {
     "name": "stdout",
     "output_type": "stream",
     "text": [
      "Early stopping, best iteration is:\n[148]\ttraining's l2: 4.7816e-05\tvalid_1's l2: 0.000139143\nfold n°2\nTraining until validation scores don't improve for 100 rounds.\n"
     ]
    },
    {
     "name": "stdout",
     "output_type": "stream",
     "text": [
      "Early stopping, best iteration is:\n[257]\ttraining's l2: 3.25458e-05\tvalid_1's l2: 0.000146676\nfold n°3\nTraining until validation scores don't improve for 100 rounds.\n"
     ]
    },
    {
     "name": "stdout",
     "output_type": "stream",
     "text": [
      "Early stopping, best iteration is:\n[196]\ttraining's l2: 4.32011e-05\tvalid_1's l2: 0.000106041\nfold n°4\nTraining until validation scores don't improve for 100 rounds.\n"
     ]
    },
    {
     "name": "stdout",
     "output_type": "stream",
     "text": [
      "Early stopping, best iteration is:\n[255]\ttraining's l2: 3.62404e-05\tvalid_1's l2: 0.000106899\nfold n°5\nTraining until validation scores don't improve for 100 rounds.\n"
     ]
    },
    {
     "name": "stdout",
     "output_type": "stream",
     "text": [
      "Early stopping, best iteration is:\n[130]\ttraining's l2: 5.33375e-05\tvalid_1's l2: 0.00015292\n----------\n当前移除特征: B9_std, CV score: 0.00006517, 最佳cv score: 0.00006470, 没效果,保留！！\nfold n°1\nTraining until validation scores don't improve for 100 rounds.\n"
     ]
    },
    {
     "name": "stdout",
     "output_type": "stream",
     "text": [
      "Early stopping, best iteration is:\n[139]\ttraining's l2: 5.01804e-05\tvalid_1's l2: 0.000138817\nfold n°2\nTraining until validation scores don't improve for 100 rounds.\n"
     ]
    },
    {
     "name": "stdout",
     "output_type": "stream",
     "text": [
      "Early stopping, best iteration is:\n[261]\ttraining's l2: 3.16552e-05\tvalid_1's l2: 0.000145438\nfold n°3\nTraining until validation scores don't improve for 100 rounds.\n"
     ]
    },
    {
     "name": "stdout",
     "output_type": "stream",
     "text": [
      "Early stopping, best iteration is:\n[193]\ttraining's l2: 4.38506e-05\tvalid_1's l2: 0.000107961\nfold n°4\nTraining until validation scores don't improve for 100 rounds.\n"
     ]
    },
    {
     "name": "stdout",
     "output_type": "stream",
     "text": [
      "Early stopping, best iteration is:\n[252]\ttraining's l2: 3.57705e-05\tvalid_1's l2: 0.000107257\nfold n°5\nTraining until validation scores don't improve for 100 rounds.\n"
     ]
    },
    {
     "name": "stdout",
     "output_type": "stream",
     "text": [
      "Early stopping, best iteration is:\n[173]\ttraining's l2: 4.38565e-05\tvalid_1's l2: 0.00015269\n----------\n当前移除特征: B10_mean, CV score: 0.00006522, 最佳cv score: 0.00006470, 没效果,保留！！\nfold n°1\nTraining until validation scores don't improve for 100 rounds.\n"
     ]
    },
    {
     "name": "stdout",
     "output_type": "stream",
     "text": [
      "Early stopping, best iteration is:\n[145]\ttraining's l2: 4.94445e-05\tvalid_1's l2: 0.000140284\nfold n°2\nTraining until validation scores don't improve for 100 rounds.\n"
     ]
    },
    {
     "name": "stdout",
     "output_type": "stream",
     "text": [
      "Early stopping, best iteration is:\n[230]\ttraining's l2: 3.5132e-05\tvalid_1's l2: 0.000148621\nfold n°3\nTraining until validation scores don't improve for 100 rounds.\n"
     ]
    },
    {
     "name": "stdout",
     "output_type": "stream",
     "text": [
      "Early stopping, best iteration is:\n[196]\ttraining's l2: 4.37936e-05\tvalid_1's l2: 0.000104051\nfold n°4\nTraining until validation scores don't improve for 100 rounds.\n"
     ]
    },
    {
     "name": "stdout",
     "output_type": "stream",
     "text": [
      "Early stopping, best iteration is:\n[385]\ttraining's l2: 2.71681e-05\tvalid_1's l2: 0.000113954\nfold n°5\nTraining until validation scores don't improve for 100 rounds.\n"
     ]
    },
    {
     "name": "stdout",
     "output_type": "stream",
     "text": [
      "Early stopping, best iteration is:\n[179]\ttraining's l2: 4.28975e-05\tvalid_1's l2: 0.000150928\n----------\n当前移除特征: B10_std, CV score: 0.00006579, 最佳cv score: 0.00006470, 没效果,保留！！\nfold n°1\nTraining until validation scores don't improve for 100 rounds.\n"
     ]
    },
    {
     "name": "stdout",
     "output_type": "stream",
     "text": [
      "Early stopping, best iteration is:\n[156]\ttraining's l2: 4.6683e-05\tvalid_1's l2: 0.000137988\nfold n°2\nTraining until validation scores don't improve for 100 rounds.\n"
     ]
    },
    {
     "name": "stdout",
     "output_type": "stream",
     "text": [
      "Early stopping, best iteration is:\n[383]\ttraining's l2: 2.43773e-05\tvalid_1's l2: 0.000147254\nfold n°3\nTraining until validation scores don't improve for 100 rounds.\n"
     ]
    },
    {
     "name": "stdout",
     "output_type": "stream",
     "text": [
      "Early stopping, best iteration is:\n[189]\ttraining's l2: 4.46503e-05\tvalid_1's l2: 0.000104516\nfold n°4\nTraining until validation scores don't improve for 100 rounds.\n"
     ]
    },
    {
     "name": "stdout",
     "output_type": "stream",
     "text": [
      "Early stopping, best iteration is:\n[297]\ttraining's l2: 3.20774e-05\tvalid_1's l2: 0.000109365\nfold n°5\nTraining until validation scores don't improve for 100 rounds.\n"
     ]
    },
    {
     "name": "stdout",
     "output_type": "stream",
     "text": [
      "Early stopping, best iteration is:\n[180]\ttraining's l2: 4.21213e-05\tvalid_1's l2: 0.000152569\n----------\n当前移除特征: B11_mean, CV score: 0.00006517, 最佳cv score: 0.00006470, 没效果,保留！！\nfold n°1\nTraining until validation scores don't improve for 100 rounds.\n"
     ]
    },
    {
     "name": "stdout",
     "output_type": "stream",
     "text": [
      "Early stopping, best iteration is:\n[117]\ttraining's l2: 5.83993e-05\tvalid_1's l2: 0.000140595\nfold n°2\nTraining until validation scores don't improve for 100 rounds.\n"
     ]
    },
    {
     "name": "stdout",
     "output_type": "stream",
     "text": [
      "Early stopping, best iteration is:\n[249]\ttraining's l2: 3.30749e-05\tvalid_1's l2: 0.00014671\nfold n°3\nTraining until validation scores don't improve for 100 rounds.\n"
     ]
    },
    {
     "name": "stdout",
     "output_type": "stream",
     "text": [
      "Early stopping, best iteration is:\n[182]\ttraining's l2: 4.58236e-05\tvalid_1's l2: 0.000107265\nfold n°4\nTraining until validation scores don't improve for 100 rounds.\n"
     ]
    },
    {
     "name": "stdout",
     "output_type": "stream",
     "text": [
      "Early stopping, best iteration is:\n[409]\ttraining's l2: 2.5835e-05\tvalid_1's l2: 0.000107193\nfold n°5\nTraining until validation scores don't improve for 100 rounds.\n"
     ]
    },
    {
     "name": "stdout",
     "output_type": "stream",
     "text": [
      "Early stopping, best iteration is:\n[160]\ttraining's l2: 4.59342e-05\tvalid_1's l2: 0.000154732\n----------\n当前移除特征: B11_std, CV score: 0.00006565, 最佳cv score: 0.00006470, 没效果,保留！！\nfold n°1\nTraining until validation scores don't improve for 100 rounds.\n"
     ]
    },
    {
     "name": "stdout",
     "output_type": "stream",
     "text": [
      "Early stopping, best iteration is:\n[141]\ttraining's l2: 5.0074e-05\tvalid_1's l2: 0.000141785\nfold n°2\nTraining until validation scores don't improve for 100 rounds.\n"
     ]
    },
    {
     "name": "stdout",
     "output_type": "stream",
     "text": [
      "Early stopping, best iteration is:\n[271]\ttraining's l2: 3.10236e-05\tvalid_1's l2: 0.000144909\nfold n°3\nTraining until validation scores don't improve for 100 rounds.\n"
     ]
    },
    {
     "name": "stdout",
     "output_type": "stream",
     "text": [
      "Early stopping, best iteration is:\n[213]\ttraining's l2: 4.07348e-05\tvalid_1's l2: 0.000107451\nfold n°4\nTraining until validation scores don't improve for 100 rounds.\n"
     ]
    },
    {
     "name": "stdout",
     "output_type": "stream",
     "text": [
      "Early stopping, best iteration is:\n[252]\ttraining's l2: 3.62651e-05\tvalid_1's l2: 0.000112776\nfold n°5\nTraining until validation scores don't improve for 100 rounds.\n"
     ]
    },
    {
     "name": "stdout",
     "output_type": "stream",
     "text": [
      "Early stopping, best iteration is:\n[171]\ttraining's l2: 4.42121e-05\tvalid_1's l2: 0.000151888\n----------\n当前移除特征: B14_to_A5_intTarget_0.0_mean, CV score: 0.00006588, 最佳cv score: 0.00006470, 没效果,保留！！\nfold n°1\nTraining until validation scores don't improve for 100 rounds.\n"
     ]
    },
    {
     "name": "stdout",
     "output_type": "stream",
     "text": [
      "Early stopping, best iteration is:\n[142]\ttraining's l2: 5.00328e-05\tvalid_1's l2: 0.000138072\nfold n°2\nTraining until validation scores don't improve for 100 rounds.\n"
     ]
    },
    {
     "name": "stdout",
     "output_type": "stream",
     "text": [
      "Early stopping, best iteration is:\n[278]\ttraining's l2: 3.06261e-05\tvalid_1's l2: 0.000145827\nfold n°3\nTraining until validation scores don't improve for 100 rounds.\n"
     ]
    },
    {
     "name": "stdout",
     "output_type": "stream",
     "text": [
      "Early stopping, best iteration is:\n[217]\ttraining's l2: 4.00682e-05\tvalid_1's l2: 0.000105901\nfold n°4\nTraining until validation scores don't improve for 100 rounds.\n"
     ]
    },
    {
     "name": "stdout",
     "output_type": "stream",
     "text": [
      "Early stopping, best iteration is:\n[406]\ttraining's l2: 2.61753e-05\tvalid_1's l2: 0.00010791\nfold n°5\nTraining until validation scores don't improve for 100 rounds.\n"
     ]
    },
    {
     "name": "stdout",
     "output_type": "stream",
     "text": [
      "Early stopping, best iteration is:\n[138]\ttraining's l2: 5.12328e-05\tvalid_1's l2: 0.000153985\n----------\n当前移除特征: B14_to_A5_intTarget_1.0_mean, CV score: 0.00006517, 最佳cv score: 0.00006470, 没效果,保留！！\nfold n°1\nTraining until validation scores don't improve for 100 rounds.\n"
     ]
    },
    {
     "name": "stdout",
     "output_type": "stream",
     "text": [
      "Early stopping, best iteration is:\n[139]\ttraining's l2: 5.02106e-05\tvalid_1's l2: 0.000140564\nfold n°2\nTraining until validation scores don't improve for 100 rounds.\n"
     ]
    },
    {
     "name": "stdout",
     "output_type": "stream",
     "text": [
      "Early stopping, best iteration is:\n[235]\ttraining's l2: 3.42986e-05\tvalid_1's l2: 0.000143922\nfold n°3\nTraining until validation scores don't improve for 100 rounds.\n"
     ]
    },
    {
     "name": "stdout",
     "output_type": "stream",
     "text": [
      "Early stopping, best iteration is:\n[169]\ttraining's l2: 4.80249e-05\tvalid_1's l2: 0.000104267\nfold n°4\nTraining until validation scores don't improve for 100 rounds.\n"
     ]
    },
    {
     "name": "stdout",
     "output_type": "stream",
     "text": [
      "Early stopping, best iteration is:\n[513]\ttraining's l2: 2.23117e-05\tvalid_1's l2: 0.000110149\nfold n°5\nTraining until validation scores don't improve for 100 rounds.\n"
     ]
    },
    {
     "name": "stdout",
     "output_type": "stream",
     "text": [
      "Early stopping, best iteration is:\n[107]\ttraining's l2: 6.09982e-05\tvalid_1's l2: 0.000152699\n----------\n当前移除特征: B14_to_A5_intTarget_2.0_mean, CV score: 0.00006516, 最佳cv score: 0.00006470, 没效果,保留！！\nfold n°1\nTraining until validation scores don't improve for 100 rounds.\n"
     ]
    },
    {
     "name": "stdout",
     "output_type": "stream",
     "text": [
      "Early stopping, best iteration is:\n[156]\ttraining's l2: 4.63323e-05\tvalid_1's l2: 0.00014185\nfold n°2\nTraining until validation scores don't improve for 100 rounds.\n"
     ]
    },
    {
     "name": "stdout",
     "output_type": "stream",
     "text": [
      "Early stopping, best iteration is:\n[242]\ttraining's l2: 3.35617e-05\tvalid_1's l2: 0.000144525\nfold n°3\nTraining until validation scores don't improve for 100 rounds.\n"
     ]
    },
    {
     "name": "stdout",
     "output_type": "stream",
     "text": [
      "Early stopping, best iteration is:\n[194]\ttraining's l2: 4.39497e-05\tvalid_1's l2: 0.000105874\nfold n°4\nTraining until validation scores don't improve for 100 rounds.\n"
     ]
    },
    {
     "name": "stdout",
     "output_type": "stream",
     "text": [
      "Early stopping, best iteration is:\n[231]\ttraining's l2: 3.79544e-05\tvalid_1's l2: 0.000110361\nfold n°5\nTraining until validation scores don't improve for 100 rounds.\n"
     ]
    },
    {
     "name": "stdout",
     "output_type": "stream",
     "text": [
      "Early stopping, best iteration is:\n[261]\ttraining's l2: 3.25919e-05\tvalid_1's l2: 0.000151241\n----------\n当前移除特征: B14_to_A5_intTarget_3.0_mean, CV score: 0.00006539, 最佳cv score: 0.00006470, 没效果,保留！！\nfold n°1\nTraining until validation scores don't improve for 100 rounds.\n"
     ]
    },
    {
     "name": "stdout",
     "output_type": "stream",
     "text": [
      "Early stopping, best iteration is:\n[140]\ttraining's l2: 5.07256e-05\tvalid_1's l2: 0.000140786\nfold n°2\nTraining until validation scores don't improve for 100 rounds.\n"
     ]
    },
    {
     "name": "stdout",
     "output_type": "stream",
     "text": [
      "Early stopping, best iteration is:\n[241]\ttraining's l2: 3.37875e-05\tvalid_1's l2: 0.000149884\nfold n°3\nTraining until validation scores don't improve for 100 rounds.\n"
     ]
    },
    {
     "name": "stdout",
     "output_type": "stream",
     "text": [
      "Early stopping, best iteration is:\n[190]\ttraining's l2: 4.44904e-05\tvalid_1's l2: 0.000103936\nfold n°4\nTraining until validation scores don't improve for 100 rounds.\n"
     ]
    },
    {
     "name": "stdout",
     "output_type": "stream",
     "text": [
      "Early stopping, best iteration is:\n[334]\ttraining's l2: 2.98301e-05\tvalid_1's l2: 0.000106332\nfold n°5\nTraining until validation scores don't improve for 100 rounds.\n"
     ]
    },
    {
     "name": "stdout",
     "output_type": "stream",
     "text": [
      "Early stopping, best iteration is:\n[125]\ttraining's l2: 5.46027e-05\tvalid_1's l2: 0.000151292\n----------\n当前移除特征: B14_to_A5_intTarget_4.0_mean, CV score: 0.00006523, 最佳cv score: 0.00006470, 没效果,保留！！\nfold n°1\nTraining until validation scores don't improve for 100 rounds.\n"
     ]
    },
    {
     "name": "stdout",
     "output_type": "stream",
     "text": [
      "Early stopping, best iteration is:\n[156]\ttraining's l2: 4.62641e-05\tvalid_1's l2: 0.000141602\nfold n°2\nTraining until validation scores don't improve for 100 rounds.\n"
     ]
    },
    {
     "name": "stdout",
     "output_type": "stream",
     "text": [
      "Early stopping, best iteration is:\n[287]\ttraining's l2: 2.96834e-05\tvalid_1's l2: 0.0001472\nfold n°3\nTraining until validation scores don't improve for 100 rounds.\n"
     ]
    },
    {
     "name": "stdout",
     "output_type": "stream",
     "text": [
      "Early stopping, best iteration is:\n[215]\ttraining's l2: 4.04641e-05\tvalid_1's l2: 0.000105258\nfold n°4\nTraining until validation scores don't improve for 100 rounds.\n"
     ]
    },
    {
     "name": "stdout",
     "output_type": "stream",
     "text": [
      "Early stopping, best iteration is:\n[183]\ttraining's l2: 4.5564e-05\tvalid_1's l2: 0.000110023\nfold n°5\nTraining until validation scores don't improve for 100 rounds.\n"
     ]
    },
    {
     "name": "stdout",
     "output_type": "stream",
     "text": [
      "Early stopping, best iteration is:\n[286]\ttraining's l2: 3.05028e-05\tvalid_1's l2: 0.000154641\n----------\n当前移除特征: B14_to_A6_intTarget_0.0_mean, CV score: 0.00006588, 最佳cv score: 0.00006470, 没效果,保留！！\nfold n°1\nTraining until validation scores don't improve for 100 rounds.\n"
     ]
    },
    {
     "name": "stdout",
     "output_type": "stream",
     "text": [
      "Early stopping, best iteration is:\n[123]\ttraining's l2: 5.61839e-05\tvalid_1's l2: 0.000141982\nfold n°2\nTraining until validation scores don't improve for 100 rounds.\n"
     ]
    },
    {
     "name": "stdout",
     "output_type": "stream",
     "text": [
      "Early stopping, best iteration is:\n[212]\ttraining's l2: 3.67704e-05\tvalid_1's l2: 0.000148454\nfold n°3\nTraining until validation scores don't improve for 100 rounds.\n"
     ]
    },
    {
     "name": "stdout",
     "output_type": "stream",
     "text": [
      "Early stopping, best iteration is:\n[180]\ttraining's l2: 4.6243e-05\tvalid_1's l2: 0.000105785\nfold n°4\nTraining until validation scores don't improve for 100 rounds.\n"
     ]
    },
    {
     "name": "stdout",
     "output_type": "stream",
     "text": [
      "Early stopping, best iteration is:\n[328]\ttraining's l2: 3.00036e-05\tvalid_1's l2: 0.000107193\nfold n°5\nTraining until validation scores don't improve for 100 rounds.\n"
     ]
    },
    {
     "name": "stdout",
     "output_type": "stream",
     "text": [
      "Early stopping, best iteration is:\n[106]\ttraining's l2: 6.15805e-05\tvalid_1's l2: 0.000152329\n----------\n当前移除特征: B14_to_A6_intTarget_1.0_mean, CV score: 0.00006558, 最佳cv score: 0.00006470, 没效果,保留！！\nfold n°1\nTraining until validation scores don't improve for 100 rounds.\n"
     ]
    },
    {
     "name": "stdout",
     "output_type": "stream",
     "text": [
      "Early stopping, best iteration is:\n[135]\ttraining's l2: 5.1526e-05\tvalid_1's l2: 0.000138955\nfold n°2\nTraining until validation scores don't improve for 100 rounds.\n"
     ]
    },
    {
     "name": "stdout",
     "output_type": "stream",
     "text": [
      "Early stopping, best iteration is:\n[235]\ttraining's l2: 3.44807e-05\tvalid_1's l2: 0.00014586\nfold n°3\nTraining until validation scores don't improve for 100 rounds.\n"
     ]
    },
    {
     "name": "stdout",
     "output_type": "stream",
     "text": [
      "Early stopping, best iteration is:\n[165]\ttraining's l2: 4.92492e-05\tvalid_1's l2: 0.000108764\nfold n°4\nTraining until validation scores don't improve for 100 rounds.\n"
     ]
    },
    {
     "name": "stdout",
     "output_type": "stream",
     "text": [
      "Early stopping, best iteration is:\n[291]\ttraining's l2: 3.23802e-05\tvalid_1's l2: 0.000109108\nfold n°5\nTraining until validation scores don't improve for 100 rounds.\n"
     ]
    },
    {
     "name": "stdout",
     "output_type": "stream",
     "text": [
      "Early stopping, best iteration is:\n[124]\ttraining's l2: 5.46508e-05\tvalid_1's l2: 0.000152298\n----------\n当前移除特征: B14_to_A6_intTarget_2.0_mean, CV score: 0.00006550, 最佳cv score: 0.00006470, 没效果,保留！！\nfold n°1\nTraining until validation scores don't improve for 100 rounds.\n"
     ]
    },
    {
     "name": "stdout",
     "output_type": "stream",
     "text": [
      "Early stopping, best iteration is:\n[152]\ttraining's l2: 4.65905e-05\tvalid_1's l2: 0.000135775\nfold n°2\nTraining until validation scores don't improve for 100 rounds.\n"
     ]
    },
    {
     "name": "stdout",
     "output_type": "stream",
     "text": [
      "Early stopping, best iteration is:\n[291]\ttraining's l2: 2.91416e-05\tvalid_1's l2: 0.000146766\nfold n°3\nTraining until validation scores don't improve for 100 rounds.\n"
     ]
    },
    {
     "name": "stdout",
     "output_type": "stream",
     "text": [
      "Early stopping, best iteration is:\n[183]\ttraining's l2: 4.54032e-05\tvalid_1's l2: 0.000104909\nfold n°4\nTraining until validation scores don't improve for 100 rounds.\n"
     ]
    },
    {
     "name": "stdout",
     "output_type": "stream",
     "text": [
      "Early stopping, best iteration is:\n[356]\ttraining's l2: 2.80121e-05\tvalid_1's l2: 0.000111087\nfold n°5\nTraining until validation scores don't improve for 100 rounds.\n"
     ]
    },
    {
     "name": "stdout",
     "output_type": "stream",
     "text": [
      "Early stopping, best iteration is:\n[171]\ttraining's l2: 4.40673e-05\tvalid_1's l2: 0.000151745\n----------\n当前移除特征: B14_to_A6_intTarget_3.0_mean, CV score: 0.00006503, 最佳cv score: 0.00006470, 没效果,保留！！\nfold n°1\nTraining until validation scores don't improve for 100 rounds.\n"
     ]
    },
    {
     "name": "stdout",
     "output_type": "stream",
     "text": [
      "Early stopping, best iteration is:\n[152]\ttraining's l2: 4.75095e-05\tvalid_1's l2: 0.000138452\nfold n°2\nTraining until validation scores don't improve for 100 rounds.\n"
     ]
    },
    {
     "name": "stdout",
     "output_type": "stream",
     "text": [
      "Early stopping, best iteration is:\n[216]\ttraining's l2: 3.6341e-05\tvalid_1's l2: 0.000148222\nfold n°3\nTraining until validation scores don't improve for 100 rounds.\n"
     ]
    },
    {
     "name": "stdout",
     "output_type": "stream",
     "text": [
      "Early stopping, best iteration is:\n[194]\ttraining's l2: 4.36872e-05\tvalid_1's l2: 0.00010636\nfold n°4\nTraining until validation scores don't improve for 100 rounds.\n"
     ]
    },
    {
     "name": "stdout",
     "output_type": "stream",
     "text": [
      "Early stopping, best iteration is:\n[182]\ttraining's l2: 4.58317e-05\tvalid_1's l2: 0.000109755\nfold n°5\nTraining until validation scores don't improve for 100 rounds.\n"
     ]
    },
    {
     "name": "stdout",
     "output_type": "stream",
     "text": [
      "Early stopping, best iteration is:\n[237]\ttraining's l2: 3.50124e-05\tvalid_1's l2: 0.00015302\n----------\n当前移除特征: B14_to_A6_intTarget_4.0_mean, CV score: 0.00006558, 最佳cv score: 0.00006470, 没效果,保留！！\nfold n°1\nTraining until validation scores don't improve for 100 rounds.\n"
     ]
    },
    {
     "name": "stdout",
     "output_type": "stream",
     "text": [
      "Early stopping, best iteration is:\n[154]\ttraining's l2: 4.66757e-05\tvalid_1's l2: 0.000140457\nfold n°2\nTraining until validation scores don't improve for 100 rounds.\n"
     ]
    },
    {
     "name": "stdout",
     "output_type": "stream",
     "text": [
      "Early stopping, best iteration is:\n[228]\ttraining's l2: 3.488e-05\tvalid_1's l2: 0.000144027\nfold n°3\nTraining until validation scores don't improve for 100 rounds.\n"
     ]
    },
    {
     "name": "stdout",
     "output_type": "stream",
     "text": [
      "Early stopping, best iteration is:\n[196]\ttraining's l2: 4.35042e-05\tvalid_1's l2: 0.000106742\nfold n°4\nTraining until validation scores don't improve for 100 rounds.\n"
     ]
    },
    {
     "name": "stdout",
     "output_type": "stream",
     "text": [
      "Early stopping, best iteration is:\n[333]\ttraining's l2: 2.96921e-05\tvalid_1's l2: 0.000108794\nfold n°5\nTraining until validation scores don't improve for 100 rounds.\n"
     ]
    },
    {
     "name": "stdout",
     "output_type": "stream",
     "text": [
      "Early stopping, best iteration is:\n[190]\ttraining's l2: 4.04917e-05\tvalid_1's l2: 0.000153945\n----------\n当前移除特征: B14_to_A7_intTarget_0.0_mean, CV score: 0.00006540, 最佳cv score: 0.00006470, 没效果,保留！！\nfold n°1\nTraining until validation scores don't improve for 100 rounds.\n"
     ]
    },
    {
     "name": "stdout",
     "output_type": "stream",
     "text": [
      "Early stopping, best iteration is:\n[141]\ttraining's l2: 4.99039e-05\tvalid_1's l2: 0.000139333\nfold n°2\nTraining until validation scores don't improve for 100 rounds.\n"
     ]
    },
    {
     "name": "stdout",
     "output_type": "stream",
     "text": [
      "Early stopping, best iteration is:\n[211]\ttraining's l2: 3.70961e-05\tvalid_1's l2: 0.000147604\nfold n°3\nTraining until validation scores don't improve for 100 rounds.\n"
     ]
    },
    {
     "name": "stdout",
     "output_type": "stream",
     "text": [
      "Early stopping, best iteration is:\n[185]\ttraining's l2: 4.50751e-05\tvalid_1's l2: 0.000108521\nfold n°4\nTraining until validation scores don't improve for 100 rounds.\n"
     ]
    },
    {
     "name": "stdout",
     "output_type": "stream",
     "text": [
      "Early stopping, best iteration is:\n[333]\ttraining's l2: 2.96077e-05\tvalid_1's l2: 0.000108812\nfold n°5\nTraining until validation scores don't improve for 100 rounds.\n"
     ]
    },
    {
     "name": "stdout",
     "output_type": "stream",
     "text": [
      "Early stopping, best iteration is:\n[177]\ttraining's l2: 4.27773e-05\tvalid_1's l2: 0.00015309\n----------\n当前移除特征: B14_to_A7_intTarget_1.0_mean, CV score: 0.00006574, 最佳cv score: 0.00006470, 没效果,保留！！\nfold n°1\nTraining until validation scores don't improve for 100 rounds.\n"
     ]
    },
    {
     "name": "stdout",
     "output_type": "stream",
     "text": [
      "Early stopping, best iteration is:\n[143]\ttraining's l2: 4.94567e-05\tvalid_1's l2: 0.000140981\nfold n°2\nTraining until validation scores don't improve for 100 rounds.\n"
     ]
    },
    {
     "name": "stdout",
     "output_type": "stream",
     "text": [
      "Early stopping, best iteration is:\n[299]\ttraining's l2: 2.91174e-05\tvalid_1's l2: 0.000147631\nfold n°3\nTraining until validation scores don't improve for 100 rounds.\n"
     ]
    },
    {
     "name": "stdout",
     "output_type": "stream",
     "text": [
      "Early stopping, best iteration is:\n[151]\ttraining's l2: 5.29472e-05\tvalid_1's l2: 0.000105219\nfold n°4\nTraining until validation scores don't improve for 100 rounds.\n"
     ]
    },
    {
     "name": "stdout",
     "output_type": "stream",
     "text": [
      "Early stopping, best iteration is:\n[391]\ttraining's l2: 2.64169e-05\tvalid_1's l2: 0.000111257\nfold n°5\nTraining until validation scores don't improve for 100 rounds.\n"
     ]
    },
    {
     "name": "stdout",
     "output_type": "stream",
     "text": [
      "Early stopping, best iteration is:\n[117]\ttraining's l2: 5.77331e-05\tvalid_1's l2: 0.000151952\n----------\n当前移除特征: B14_to_A7_intTarget_2.0_mean, CV score: 0.00006571, 最佳cv score: 0.00006470, 没效果,保留！！\nfold n°1\nTraining until validation scores don't improve for 100 rounds.\n"
     ]
    },
    {
     "name": "stdout",
     "output_type": "stream",
     "text": [
      "Early stopping, best iteration is:\n[156]\ttraining's l2: 4.63494e-05\tvalid_1's l2: 0.000140136\nfold n°2\nTraining until validation scores don't improve for 100 rounds.\n"
     ]
    },
    {
     "name": "stdout",
     "output_type": "stream",
     "text": [
      "Early stopping, best iteration is:\n[312]\ttraining's l2: 2.8282e-05\tvalid_1's l2: 0.000146965\nfold n°3\nTraining until validation scores don't improve for 100 rounds.\n"
     ]
    },
    {
     "name": "stdout",
     "output_type": "stream",
     "text": [
      "Early stopping, best iteration is:\n[194]\ttraining's l2: 4.33585e-05\tvalid_1's l2: 0.000107113\nfold n°4\nTraining until validation scores don't improve for 100 rounds.\n"
     ]
    },
    {
     "name": "stdout",
     "output_type": "stream",
     "text": [
      "Early stopping, best iteration is:\n[381]\ttraining's l2: 2.69905e-05\tvalid_1's l2: 0.000108059\nfold n°5\nTraining until validation scores don't improve for 100 rounds.\n"
     ]
    },
    {
     "name": "stdout",
     "output_type": "stream",
     "text": [
      "Early stopping, best iteration is:\n[232]\ttraining's l2: 3.57225e-05\tvalid_1's l2: 0.000153489\n----------\n当前移除特征: B14_to_A7_intTarget_3.0_mean, CV score: 0.00006558, 最佳cv score: 0.00006470, 没效果,保留！！\nfold n°1\nTraining until validation scores don't improve for 100 rounds.\n"
     ]
    },
    {
     "name": "stdout",
     "output_type": "stream",
     "text": [
      "Early stopping, best iteration is:\n[136]\ttraining's l2: 5.16605e-05\tvalid_1's l2: 0.000137499\nfold n°2\nTraining until validation scores don't improve for 100 rounds.\n"
     ]
    },
    {
     "name": "stdout",
     "output_type": "stream",
     "text": [
      "Early stopping, best iteration is:\n[212]\ttraining's l2: 3.70774e-05\tvalid_1's l2: 0.000147409\nfold n°3\nTraining until validation scores don't improve for 100 rounds.\n"
     ]
    },
    {
     "name": "stdout",
     "output_type": "stream",
     "text": [
      "Early stopping, best iteration is:\n[221]\ttraining's l2: 3.97967e-05\tvalid_1's l2: 0.000105903\nfold n°4\nTraining until validation scores don't improve for 100 rounds.\n"
     ]
    },
    {
     "name": "stdout",
     "output_type": "stream",
     "text": [
      "Early stopping, best iteration is:\n[404]\ttraining's l2: 2.58897e-05\tvalid_1's l2: 0.000108989\nfold n°5\nTraining until validation scores don't improve for 100 rounds.\n"
     ]
    },
    {
     "name": "stdout",
     "output_type": "stream",
     "text": [
      "Early stopping, best iteration is:\n[188]\ttraining's l2: 4.10711e-05\tvalid_1's l2: 0.000154329\n----------\n当前移除特征: B14_to_A7_intTarget_4.0_mean, CV score: 0.00006542, 最佳cv score: 0.00006470, 没效果,保留！！\nfold n°1\nTraining until validation scores don't improve for 100 rounds.\n"
     ]
    },
    {
     "name": "stdout",
     "output_type": "stream",
     "text": [
      "Early stopping, best iteration is:\n[152]\ttraining's l2: 4.76041e-05\tvalid_1's l2: 0.000139537\nfold n°2\nTraining until validation scores don't improve for 100 rounds.\n"
     ]
    },
    {
     "name": "stdout",
     "output_type": "stream",
     "text": [
      "Early stopping, best iteration is:\n[270]\ttraining's l2: 3.11178e-05\tvalid_1's l2: 0.000147427\nfold n°3\nTraining until validation scores don't improve for 100 rounds.\n"
     ]
    },
    {
     "name": "stdout",
     "output_type": "stream",
     "text": [
      "Early stopping, best iteration is:\n[207]\ttraining's l2: 4.23967e-05\tvalid_1's l2: 0.000107579\nfold n°4\nTraining until validation scores don't improve for 100 rounds.\n"
     ]
    },
    {
     "name": "stdout",
     "output_type": "stream",
     "text": [
      "Early stopping, best iteration is:\n[394]\ttraining's l2: 2.64434e-05\tvalid_1's l2: 0.000108258\nfold n°5\nTraining until validation scores don't improve for 100 rounds.\n"
     ]
    },
    {
     "name": "stdout",
     "output_type": "stream",
     "text": [
      "Early stopping, best iteration is:\n[149]\ttraining's l2: 4.83185e-05\tvalid_1's l2: 0.000152702\n----------\n当前移除特征: B14_to_A9_intTarget_0.0_mean, CV score: 0.00006555, 最佳cv score: 0.00006470, 没效果,保留！！\nfold n°1\nTraining until validation scores don't improve for 100 rounds.\n"
     ]
    },
    {
     "name": "stdout",
     "output_type": "stream",
     "text": [
      "Early stopping, best iteration is:\n[147]\ttraining's l2: 4.83281e-05\tvalid_1's l2: 0.000139107\nfold n°2\nTraining until validation scores don't improve for 100 rounds.\n"
     ]
    },
    {
     "name": "stdout",
     "output_type": "stream",
     "text": [
      "Early stopping, best iteration is:\n[239]\ttraining's l2: 3.39658e-05\tvalid_1's l2: 0.000146882\nfold n°3\nTraining until validation scores don't improve for 100 rounds.\n"
     ]
    },
    {
     "name": "stdout",
     "output_type": "stream",
     "text": [
      "Early stopping, best iteration is:\n[196]\ttraining's l2: 4.30524e-05\tvalid_1's l2: 0.000105813\nfold n°4\nTraining until validation scores don't improve for 100 rounds.\n"
     ]
    },
    {
     "name": "stdout",
     "output_type": "stream",
     "text": [
      "Early stopping, best iteration is:\n[296]\ttraining's l2: 3.20533e-05\tvalid_1's l2: 0.000110478\nfold n°5\nTraining until validation scores don't improve for 100 rounds.\n"
     ]
    },
    {
     "name": "stdout",
     "output_type": "stream",
     "text": [
      "Early stopping, best iteration is:\n[114]\ttraining's l2: 5.77839e-05\tvalid_1's l2: 0.000153499\n----------\n当前移除特征: B14_to_A9_intTarget_1.0_mean, CV score: 0.00006558, 最佳cv score: 0.00006470, 没效果,保留！！\nfold n°1\nTraining until validation scores don't improve for 100 rounds.\n"
     ]
    },
    {
     "name": "stdout",
     "output_type": "stream",
     "text": [
      "Early stopping, best iteration is:\n[160]\ttraining's l2: 4.47023e-05\tvalid_1's l2: 0.000138973\nfold n°2\nTraining until validation scores don't improve for 100 rounds.\n"
     ]
    },
    {
     "name": "stdout",
     "output_type": "stream",
     "text": [
      "Early stopping, best iteration is:\n[279]\ttraining's l2: 3.0121e-05\tvalid_1's l2: 0.000146402\nfold n°3\nTraining until validation scores don't improve for 100 rounds.\n"
     ]
    },
    {
     "name": "stdout",
     "output_type": "stream",
     "text": [
      "Early stopping, best iteration is:\n[194]\ttraining's l2: 4.35615e-05\tvalid_1's l2: 0.000106161\nfold n°4\nTraining until validation scores don't improve for 100 rounds.\n"
     ]
    },
    {
     "name": "stdout",
     "output_type": "stream",
     "text": [
      "Early stopping, best iteration is:\n[267]\ttraining's l2: 3.48909e-05\tvalid_1's l2: 0.000109541\nfold n°5\nTraining until validation scores don't improve for 100 rounds.\n"
     ]
    },
    {
     "name": "stdout",
     "output_type": "stream",
     "text": [
      "Early stopping, best iteration is:\n[121]\ttraining's l2: 5.63496e-05\tvalid_1's l2: 0.000151851\n----------\n当前移除特征: B14_to_A9_intTarget_2.0_mean, CV score: 0.00006530, 最佳cv score: 0.00006470, 没效果,保留！！\nfold n°1\nTraining until validation scores don't improve for 100 rounds.\n"
     ]
    },
    {
     "name": "stdout",
     "output_type": "stream",
     "text": [
      "Early stopping, best iteration is:\n[156]\ttraining's l2: 4.5428e-05\tvalid_1's l2: 0.000139454\nfold n°2\nTraining until validation scores don't improve for 100 rounds.\n"
     ]
    },
    {
     "name": "stdout",
     "output_type": "stream",
     "text": [
      "Early stopping, best iteration is:\n[330]\ttraining's l2: 2.72843e-05\tvalid_1's l2: 0.000145036\nfold n°3\nTraining until validation scores don't improve for 100 rounds.\n"
     ]
    },
    {
     "name": "stdout",
     "output_type": "stream",
     "text": [
      "Early stopping, best iteration is:\n[184]\ttraining's l2: 4.5487e-05\tvalid_1's l2: 0.000105105\nfold n°4\nTraining until validation scores don't improve for 100 rounds.\n"
     ]
    },
    {
     "name": "stdout",
     "output_type": "stream",
     "text": [
      "Early stopping, best iteration is:\n[253]\ttraining's l2: 3.57337e-05\tvalid_1's l2: 0.000111212\nfold n°5\nTraining until validation scores don't improve for 100 rounds.\n"
     ]
    },
    {
     "name": "stdout",
     "output_type": "stream",
     "text": [
      "Early stopping, best iteration is:\n[174]\ttraining's l2: 4.31764e-05\tvalid_1's l2: 0.000150833\n----------\n当前移除特征: B14_to_A9_intTarget_3.0_mean, CV score: 0.00006517, 最佳cv score: 0.00006470, 没效果,保留！！\nfold n°1\nTraining until validation scores don't improve for 100 rounds.\n"
     ]
    },
    {
     "name": "stdout",
     "output_type": "stream",
     "text": [
      "Early stopping, best iteration is:\n[156]\ttraining's l2: 4.59573e-05\tvalid_1's l2: 0.000140296\nfold n°2\nTraining until validation scores don't improve for 100 rounds.\n"
     ]
    },
    {
     "name": "stdout",
     "output_type": "stream",
     "text": [
      "Early stopping, best iteration is:\n[287]\ttraining's l2: 3.016e-05\tvalid_1's l2: 0.000146056\nfold n°3\nTraining until validation scores don't improve for 100 rounds.\n"
     ]
    },
    {
     "name": "stdout",
     "output_type": "stream",
     "text": [
      "Early stopping, best iteration is:\n[211]\ttraining's l2: 4.12358e-05\tvalid_1's l2: 0.000107768\nfold n°4\nTraining until validation scores don't improve for 100 rounds.\n"
     ]
    },
    {
     "name": "stdout",
     "output_type": "stream",
     "text": [
      "Early stopping, best iteration is:\n[185]\ttraining's l2: 4.55844e-05\tvalid_1's l2: 0.000110205\nfold n°5\nTraining until validation scores don't improve for 100 rounds.\n"
     ]
    },
    {
     "name": "stdout",
     "output_type": "stream",
     "text": [
      "Early stopping, best iteration is:\n[172]\ttraining's l2: 4.3766e-05\tvalid_1's l2: 0.000156213\n----------\n当前移除特征: B14_to_A9_intTarget_4.0_mean, CV score: 0.00006606, 最佳cv score: 0.00006470, 没效果,保留！！\nfold n°1\nTraining until validation scores don't improve for 100 rounds.\n"
     ]
    },
    {
     "name": "stdout",
     "output_type": "stream",
     "text": [
      "Early stopping, best iteration is:\n[157]\ttraining's l2: 4.61413e-05\tvalid_1's l2: 0.00013864\nfold n°2\nTraining until validation scores don't improve for 100 rounds.\n"
     ]
    },
    {
     "name": "stdout",
     "output_type": "stream",
     "text": [
      "Early stopping, best iteration is:\n[328]\ttraining's l2: 2.70264e-05\tvalid_1's l2: 0.000148951\nfold n°3\nTraining until validation scores don't improve for 100 rounds.\n"
     ]
    },
    {
     "name": "stdout",
     "output_type": "stream",
     "text": [
      "Early stopping, best iteration is:\n[216]\ttraining's l2: 4.02234e-05\tvalid_1's l2: 0.000105975\nfold n°4\nTraining until validation scores don't improve for 100 rounds.\n"
     ]
    },
    {
     "name": "stdout",
     "output_type": "stream",
     "text": [
      "Early stopping, best iteration is:\n[232]\ttraining's l2: 3.7692e-05\tvalid_1's l2: 0.00010922\nfold n°5\nTraining until validation scores don't improve for 100 rounds.\n"
     ]
    },
    {
     "name": "stdout",
     "output_type": "stream",
     "text": [
      "Early stopping, best iteration is:\n[113]\ttraining's l2: 5.88605e-05\tvalid_1's l2: 0.000152924\n----------\n当前移除特征: B14_to_A11_intTarget_0.0_mean, CV score: 0.00006557, 最佳cv score: 0.00006470, 没效果,保留！！\nfold n°1\nTraining until validation scores don't improve for 100 rounds.\n"
     ]
    },
    {
     "name": "stdout",
     "output_type": "stream",
     "text": [
      "Early stopping, best iteration is:\n[156]\ttraining's l2: 4.67179e-05\tvalid_1's l2: 0.000141615\nfold n°2\nTraining until validation scores don't improve for 100 rounds.\n"
     ]
    },
    {
     "name": "stdout",
     "output_type": "stream",
     "text": [
      "Early stopping, best iteration is:\n[282]\ttraining's l2: 2.99307e-05\tvalid_1's l2: 0.000146816\nfold n°3\nTraining until validation scores don't improve for 100 rounds.\n"
     ]
    },
    {
     "name": "stdout",
     "output_type": "stream",
     "text": [
      "Early stopping, best iteration is:\n[196]\ttraining's l2: 4.37115e-05\tvalid_1's l2: 0.000103993\nfold n°4\nTraining until validation scores don't improve for 100 rounds.\n"
     ]
    },
    {
     "name": "stdout",
     "output_type": "stream",
     "text": [
      "Early stopping, best iteration is:\n[260]\ttraining's l2: 3.51589e-05\tvalid_1's l2: 0.000109887\nfold n°5\nTraining until validation scores don't improve for 100 rounds.\n"
     ]
    },
    {
     "name": "stdout",
     "output_type": "stream",
     "text": [
      "Early stopping, best iteration is:\n[139]\ttraining's l2: 5.12669e-05\tvalid_1's l2: 0.000153315\n----------\n当前移除特征: B14_to_A11_intTarget_1.0_mean, CV score: 0.00006557, 最佳cv score: 0.00006470, 没效果,保留！！\nfold n°1\nTraining until validation scores don't improve for 100 rounds.\n"
     ]
    },
    {
     "name": "stdout",
     "output_type": "stream",
     "text": [
      "Early stopping, best iteration is:\n[138]\ttraining's l2: 5.09358e-05\tvalid_1's l2: 0.000139767\nfold n°2\nTraining until validation scores don't improve for 100 rounds.\n"
     ]
    },
    {
     "name": "stdout",
     "output_type": "stream",
     "text": [
      "Early stopping, best iteration is:\n[415]\ttraining's l2: 2.30244e-05\tvalid_1's l2: 0.0001497\nfold n°3\nTraining until validation scores don't improve for 100 rounds.\n"
     ]
    },
    {
     "name": "stdout",
     "output_type": "stream",
     "text": [
      "Early stopping, best iteration is:\n[213]\ttraining's l2: 4.08523e-05\tvalid_1's l2: 0.000107358\nfold n°4\nTraining until validation scores don't improve for 100 rounds.\n"
     ]
    },
    {
     "name": "stdout",
     "output_type": "stream",
     "text": [
      "Early stopping, best iteration is:\n[333]\ttraining's l2: 2.9401e-05\tvalid_1's l2: 0.000106931\nfold n°5\nTraining until validation scores don't improve for 100 rounds.\n"
     ]
    },
    {
     "name": "stdout",
     "output_type": "stream",
     "text": [
      "Early stopping, best iteration is:\n[124]\ttraining's l2: 5.52194e-05\tvalid_1's l2: 0.000149853\n----------\n当前移除特征: B14_to_A11_intTarget_2.0_mean, CV score: 0.00006536, 最佳cv score: 0.00006470, 没效果,保留！！\nfold n°1\nTraining until validation scores don't improve for 100 rounds.\n"
     ]
    },
    {
     "name": "stdout",
     "output_type": "stream",
     "text": [
      "Early stopping, best iteration is:\n[138]\ttraining's l2: 5.06217e-05\tvalid_1's l2: 0.000139805\nfold n°2\nTraining until validation scores don't improve for 100 rounds.\n"
     ]
    },
    {
     "name": "stdout",
     "output_type": "stream",
     "text": [
      "Early stopping, best iteration is:\n[347]\ttraining's l2: 2.59478e-05\tvalid_1's l2: 0.000146773\nfold n°3\nTraining until validation scores don't improve for 100 rounds.\n"
     ]
    },
    {
     "name": "stdout",
     "output_type": "stream",
     "text": [
      "Early stopping, best iteration is:\n[209]\ttraining's l2: 4.18563e-05\tvalid_1's l2: 0.000106524\nfold n°4\nTraining until validation scores don't improve for 100 rounds.\n"
     ]
    },
    {
     "name": "stdout",
     "output_type": "stream",
     "text": [
      "Early stopping, best iteration is:\n[234]\ttraining's l2: 3.85862e-05\tvalid_1's l2: 0.000111376\nfold n°5\nTraining until validation scores don't improve for 100 rounds.\n"
     ]
    },
    {
     "name": "stdout",
     "output_type": "stream",
     "text": [
      "Early stopping, best iteration is:\n[181]\ttraining's l2: 4.26895e-05\tvalid_1's l2: 0.000153531\n----------\n当前移除特征: B14_to_A11_intTarget_3.0_mean, CV score: 0.00006580, 最佳cv score: 0.00006470, 没效果,保留！！\nfold n°1\nTraining until validation scores don't improve for 100 rounds.\n"
     ]
    },
    {
     "name": "stdout",
     "output_type": "stream",
     "text": [
      "Early stopping, best iteration is:\n[156]\ttraining's l2: 4.62042e-05\tvalid_1's l2: 0.000140454\nfold n°2\nTraining until validation scores don't improve for 100 rounds.\n"
     ]
    },
    {
     "name": "stdout",
     "output_type": "stream",
     "text": [
      "Early stopping, best iteration is:\n[217]\ttraining's l2: 3.62234e-05\tvalid_1's l2: 0.000144424\nfold n°3\nTraining until validation scores don't improve for 100 rounds.\n"
     ]
    },
    {
     "name": "stdout",
     "output_type": "stream",
     "text": [
      "Early stopping, best iteration is:\n[196]\ttraining's l2: 4.28075e-05\tvalid_1's l2: 0.00010789\nfold n°4\nTraining until validation scores don't improve for 100 rounds.\n"
     ]
    },
    {
     "name": "stdout",
     "output_type": "stream",
     "text": [
      "Early stopping, best iteration is:\n[266]\ttraining's l2: 3.45316e-05\tvalid_1's l2: 0.00010985\nfold n°5\nTraining until validation scores don't improve for 100 rounds.\n"
     ]
    },
    {
     "name": "stdout",
     "output_type": "stream",
     "text": [
      "Early stopping, best iteration is:\n[125]\ttraining's l2: 5.45095e-05\tvalid_1's l2: 0.000155596\n----------\n当前移除特征: B14_to_A11_intTarget_4.0_mean, CV score: 0.00006582, 最佳cv score: 0.00006470, 没效果,保留！！\nfold n°1\nTraining until validation scores don't improve for 100 rounds.\n"
     ]
    },
    {
     "name": "stdout",
     "output_type": "stream",
     "text": [
      "Early stopping, best iteration is:\n[155]\ttraining's l2: 4.66196e-05\tvalid_1's l2: 0.000140504\nfold n°2\nTraining until validation scores don't improve for 100 rounds.\n"
     ]
    },
    {
     "name": "stdout",
     "output_type": "stream",
     "text": [
      "Early stopping, best iteration is:\n[220]\ttraining's l2: 3.62232e-05\tvalid_1's l2: 0.000148737\nfold n°3\nTraining until validation scores don't improve for 100 rounds.\n"
     ]
    },
    {
     "name": "stdout",
     "output_type": "stream",
     "text": [
      "Early stopping, best iteration is:\n[152]\ttraining's l2: 5.2425e-05\tvalid_1's l2: 0.000105918\nfold n°4\nTraining until validation scores don't improve for 100 rounds.\n"
     ]
    },
    {
     "name": "stdout",
     "output_type": "stream",
     "text": [
      "Early stopping, best iteration is:\n[334]\ttraining's l2: 2.99196e-05\tvalid_1's l2: 0.000106953\nfold n°5\nTraining until validation scores don't improve for 100 rounds.\n"
     ]
    },
    {
     "name": "stdout",
     "output_type": "stream",
     "text": [
      "Early stopping, best iteration is:\n[232]\ttraining's l2: 3.54393e-05\tvalid_1's l2: 0.00015004\n----------\n当前移除特征: B14_to_A14_intTarget_0.0_mean, CV score: 0.00006522, 最佳cv score: 0.00006470, 没效果,保留！！\nfold n°1\nTraining until validation scores don't improve for 100 rounds.\n"
     ]
    },
    {
     "name": "stdout",
     "output_type": "stream",
     "text": [
      "Early stopping, best iteration is:\n[132]\ttraining's l2: 5.25168e-05\tvalid_1's l2: 0.000139041\nfold n°2\nTraining until validation scores don't improve for 100 rounds.\n"
     ]
    },
    {
     "name": "stdout",
     "output_type": "stream",
     "text": [
      "Early stopping, best iteration is:\n[242]\ttraining's l2: 3.34078e-05\tvalid_1's l2: 0.000144806\nfold n°3\nTraining until validation scores don't improve for 100 rounds.\n"
     ]
    },
    {
     "name": "stdout",
     "output_type": "stream",
     "text": [
      "Early stopping, best iteration is:\n[177]\ttraining's l2: 4.67446e-05\tvalid_1's l2: 0.000106111\nfold n°4\nTraining until validation scores don't improve for 100 rounds.\n"
     ]
    },
    {
     "name": "stdout",
     "output_type": "stream",
     "text": [
      "Early stopping, best iteration is:\n[216]\ttraining's l2: 4.04032e-05\tvalid_1's l2: 0.00010781\nfold n°5\nTraining until validation scores don't improve for 100 rounds.\n"
     ]
    },
    {
     "name": "stdout",
     "output_type": "stream",
     "text": [
      "Early stopping, best iteration is:\n[238]\ttraining's l2: 3.45635e-05\tvalid_1's l2: 0.000152723\n----------\n当前移除特征: B14_to_A14_intTarget_1.0_mean, CV score: 0.00006505, 最佳cv score: 0.00006470, 没效果,保留！！\nfold n°1\nTraining until validation scores don't improve for 100 rounds.\n"
     ]
    },
    {
     "name": "stdout",
     "output_type": "stream",
     "text": [
      "Early stopping, best iteration is:\n[142]\ttraining's l2: 4.94954e-05\tvalid_1's l2: 0.000138859\nfold n°2\nTraining until validation scores don't improve for 100 rounds.\n"
     ]
    },
    {
     "name": "stdout",
     "output_type": "stream",
     "text": [
      "Early stopping, best iteration is:\n[350]\ttraining's l2: 2.57931e-05\tvalid_1's l2: 0.000144819\nfold n°3\nTraining until validation scores don't improve for 100 rounds.\n"
     ]
    },
    {
     "name": "stdout",
     "output_type": "stream",
     "text": [
      "Early stopping, best iteration is:\n[129]\ttraining's l2: 5.98445e-05\tvalid_1's l2: 0.000109587\nfold n°4\nTraining until validation scores don't improve for 100 rounds.\n"
     ]
    },
    {
     "name": "stdout",
     "output_type": "stream",
     "text": [
      "Early stopping, best iteration is:\n[403]\ttraining's l2: 2.59455e-05\tvalid_1's l2: 0.000110438\nfold n°5\nTraining until validation scores don't improve for 100 rounds.\n"
     ]
    },
    {
     "name": "stdout",
     "output_type": "stream",
     "text": [
      "Early stopping, best iteration is:\n[169]\ttraining's l2: 4.44549e-05\tvalid_1's l2: 0.000153638\n----------\n当前移除特征: B14_to_A14_intTarget_2.0_mean, CV score: 0.00006574, 最佳cv score: 0.00006470, 没效果,保留！！\nfold n°1\nTraining until validation scores don't improve for 100 rounds.\n"
     ]
    },
    {
     "name": "stdout",
     "output_type": "stream",
     "text": [
      "Early stopping, best iteration is:\n[139]\ttraining's l2: 5.139e-05\tvalid_1's l2: 0.000140662\nfold n°2\nTraining until validation scores don't improve for 100 rounds.\n"
     ]
    },
    {
     "name": "stdout",
     "output_type": "stream",
     "text": [
      "Early stopping, best iteration is:\n[239]\ttraining's l2: 3.40559e-05\tvalid_1's l2: 0.00014566\nfold n°3\nTraining until validation scores don't improve for 100 rounds.\n"
     ]
    },
    {
     "name": "stdout",
     "output_type": "stream",
     "text": [
      "Early stopping, best iteration is:\n[197]\ttraining's l2: 4.31492e-05\tvalid_1's l2: 0.000109465\nfold n°4\nTraining until validation scores don't improve for 100 rounds.\n"
     ]
    },
    {
     "name": "stdout",
     "output_type": "stream",
     "text": [
      "Early stopping, best iteration is:\n[507]\ttraining's l2: 2.24791e-05\tvalid_1's l2: 0.000108001\nfold n°5\nTraining until validation scores don't improve for 100 rounds.\n"
     ]
    },
    {
     "name": "stdout",
     "output_type": "stream",
     "text": [
      "Early stopping, best iteration is:\n[206]\ttraining's l2: 3.84944e-05\tvalid_1's l2: 0.000151215\n----------\n当前移除特征: B14_to_A14_intTarget_3.0_mean, CV score: 0.00006550, 最佳cv score: 0.00006470, 没效果,保留！！\nfold n°1\nTraining until validation scores don't improve for 100 rounds.\n"
     ]
    },
    {
     "name": "stdout",
     "output_type": "stream",
     "text": [
      "Early stopping, best iteration is:\n[147]\ttraining's l2: 4.89451e-05\tvalid_1's l2: 0.000139409\nfold n°2\nTraining until validation scores don't improve for 100 rounds.\n"
     ]
    },
    {
     "name": "stdout",
     "output_type": "stream",
     "text": [
      "Early stopping, best iteration is:\n[252]\ttraining's l2: 3.22691e-05\tvalid_1's l2: 0.000149198\nfold n°3\nTraining until validation scores don't improve for 100 rounds.\n"
     ]
    },
    {
     "name": "stdout",
     "output_type": "stream",
     "text": [
      "Early stopping, best iteration is:\n[190]\ttraining's l2: 4.43887e-05\tvalid_1's l2: 0.00010595\nfold n°4\nTraining until validation scores don't improve for 100 rounds.\n"
     ]
    },
    {
     "name": "stdout",
     "output_type": "stream",
     "text": [
      "Early stopping, best iteration is:\n[272]\ttraining's l2: 3.44313e-05\tvalid_1's l2: 0.000111035\nfold n°5\nTraining until validation scores don't improve for 100 rounds.\n"
     ]
    },
    {
     "name": "stdout",
     "output_type": "stream",
     "text": [
      "Early stopping, best iteration is:\n[231]\ttraining's l2: 3.55175e-05\tvalid_1's l2: 0.000154686\n----------\n当前移除特征: B14_to_A14_intTarget_4.0_mean, CV score: 0.00006603, 最佳cv score: 0.00006470, 没效果,保留！！\nfold n°1\nTraining until validation scores don't improve for 100 rounds.\n"
     ]
    },
    {
     "name": "stdout",
     "output_type": "stream",
     "text": [
      "Early stopping, best iteration is:\n[127]\ttraining's l2: 5.39385e-05\tvalid_1's l2: 0.000137485\nfold n°2\nTraining until validation scores don't improve for 100 rounds.\n"
     ]
    },
    {
     "name": "stdout",
     "output_type": "stream",
     "text": [
      "Early stopping, best iteration is:\n[241]\ttraining's l2: 3.34432e-05\tvalid_1's l2: 0.00014766\nfold n°3\nTraining until validation scores don't improve for 100 rounds.\n"
     ]
    },
    {
     "name": "stdout",
     "output_type": "stream",
     "text": [
      "Early stopping, best iteration is:\n[229]\ttraining's l2: 3.82737e-05\tvalid_1's l2: 0.000104104\nfold n°4\nTraining until validation scores don't improve for 100 rounds.\n"
     ]
    },
    {
     "name": "stdout",
     "output_type": "stream",
     "text": [
      "Early stopping, best iteration is:\n[179]\ttraining's l2: 4.64428e-05\tvalid_1's l2: 0.000110566\nfold n°5\nTraining until validation scores don't improve for 100 rounds.\n"
     ]
    },
    {
     "name": "stdout",
     "output_type": "stream",
     "text": [
      "Early stopping, best iteration is:\n[180]\ttraining's l2: 4.16221e-05\tvalid_1's l2: 0.000150872\n----------\n当前移除特征: B14_to_A16_intTarget_0.0_mean, CV score: 0.00006507, 最佳cv score: 0.00006470, 没效果,保留！！\nfold n°1\nTraining until validation scores don't improve for 100 rounds.\n"
     ]
    },
    {
     "name": "stdout",
     "output_type": "stream",
     "text": [
      "Early stopping, best iteration is:\n[184]\ttraining's l2: 4.11126e-05\tvalid_1's l2: 0.000139943\nfold n°2\nTraining until validation scores don't improve for 100 rounds.\n"
     ]
    },
    {
     "name": "stdout",
     "output_type": "stream",
     "text": [
      "Early stopping, best iteration is:\n[217]\ttraining's l2: 3.67142e-05\tvalid_1's l2: 0.000147463\nfold n°3\nTraining until validation scores don't improve for 100 rounds.\n"
     ]
    },
    {
     "name": "stdout",
     "output_type": "stream",
     "text": [
      "Early stopping, best iteration is:\n[217]\ttraining's l2: 4.03475e-05\tvalid_1's l2: 0.000106893\nfold n°4\nTraining until validation scores don't improve for 100 rounds.\n"
     ]
    },
    {
     "name": "stdout",
     "output_type": "stream",
     "text": [
      "Early stopping, best iteration is:\n[217]\ttraining's l2: 4.00941e-05\tvalid_1's l2: 0.000109582\nfold n°5\nTraining until validation scores don't improve for 100 rounds.\n"
     ]
    },
    {
     "name": "stdout",
     "output_type": "stream",
     "text": [
      "Early stopping, best iteration is:\n[180]\ttraining's l2: 4.2608e-05\tvalid_1's l2: 0.000154355\n----------\n当前移除特征: B14_to_A16_intTarget_1.0_mean, CV score: 0.00006583, 最佳cv score: 0.00006470, 没效果,保留！！\nfold n°1\nTraining until validation scores don't improve for 100 rounds.\n"
     ]
    },
    {
     "name": "stdout",
     "output_type": "stream",
     "text": [
      "Early stopping, best iteration is:\n[155]\ttraining's l2: 4.66022e-05\tvalid_1's l2: 0.000139702\nfold n°2\nTraining until validation scores don't improve for 100 rounds.\n"
     ]
    },
    {
     "name": "stdout",
     "output_type": "stream",
     "text": [
      "Early stopping, best iteration is:\n[228]\ttraining's l2: 3.48764e-05\tvalid_1's l2: 0.000147591\nfold n°3\nTraining until validation scores don't improve for 100 rounds.\n"
     ]
    },
    {
     "name": "stdout",
     "output_type": "stream",
     "text": [
      "Early stopping, best iteration is:\n[196]\ttraining's l2: 4.30774e-05\tvalid_1's l2: 0.000106621\nfold n°4\nTraining until validation scores don't improve for 100 rounds.\n"
     ]
    },
    {
     "name": "stdout",
     "output_type": "stream",
     "text": [
      "Early stopping, best iteration is:\n[333]\ttraining's l2: 2.98736e-05\tvalid_1's l2: 0.000109399\nfold n°5\nTraining until validation scores don't improve for 100 rounds.\n"
     ]
    },
    {
     "name": "stdout",
     "output_type": "stream",
     "text": [
      "Early stopping, best iteration is:\n[193]\ttraining's l2: 4.04544e-05\tvalid_1's l2: 0.000155354\n----------\n当前移除特征: B14_to_A16_intTarget_2.0_mean, CV score: 0.00006587, 最佳cv score: 0.00006470, 没效果,保留！！\nfold n°1\nTraining until validation scores don't improve for 100 rounds.\n"
     ]
    },
    {
     "name": "stdout",
     "output_type": "stream",
     "text": [
      "Early stopping, best iteration is:\n[116]\ttraining's l2: 5.85078e-05\tvalid_1's l2: 0.000143273\nfold n°2\nTraining until validation scores don't improve for 100 rounds.\n"
     ]
    },
    {
     "name": "stdout",
     "output_type": "stream",
     "text": [
      "Early stopping, best iteration is:\n[362]\ttraining's l2: 2.53337e-05\tvalid_1's l2: 0.000148073\nfold n°3\nTraining until validation scores don't improve for 100 rounds.\n"
     ]
    },
    {
     "name": "stdout",
     "output_type": "stream",
     "text": [
      "Early stopping, best iteration is:\n[195]\ttraining's l2: 4.32407e-05\tvalid_1's l2: 0.000105109\nfold n°4\nTraining until validation scores don't improve for 100 rounds.\n"
     ]
    },
    {
     "name": "stdout",
     "output_type": "stream",
     "text": [
      "Early stopping, best iteration is:\n[267]\ttraining's l2: 3.48507e-05\tvalid_1's l2: 0.000108507\nfold n°5\nTraining until validation scores don't improve for 100 rounds.\n"
     ]
    },
    {
     "name": "stdout",
     "output_type": "stream",
     "text": [
      "Early stopping, best iteration is:\n[139]\ttraining's l2: 5.04863e-05\tvalid_1's l2: 0.000149637\n----------\n当前移除特征: B14_to_A16_intTarget_3.0_mean, CV score: 0.00006546, 最佳cv score: 0.00006470, 没效果,保留！！\nfold n°1\nTraining until validation scores don't improve for 100 rounds.\n"
     ]
    },
    {
     "name": "stdout",
     "output_type": "stream",
     "text": [
      "Early stopping, best iteration is:\n[147]\ttraining's l2: 4.80739e-05\tvalid_1's l2: 0.000140169\nfold n°2\nTraining until validation scores don't improve for 100 rounds.\n"
     ]
    },
    {
     "name": "stdout",
     "output_type": "stream",
     "text": [
      "Early stopping, best iteration is:\n[372]\ttraining's l2: 2.5024e-05\tvalid_1's l2: 0.00014785\nfold n°3\nTraining until validation scores don't improve for 100 rounds.\n"
     ]
    },
    {
     "name": "stdout",
     "output_type": "stream",
     "text": [
      "Early stopping, best iteration is:\n[162]\ttraining's l2: 4.95098e-05\tvalid_1's l2: 0.000103179\nfold n°4\nTraining until validation scores don't improve for 100 rounds.\n"
     ]
    },
    {
     "name": "stdout",
     "output_type": "stream",
     "text": [
      "Early stopping, best iteration is:\n[209]\ttraining's l2: 4.05474e-05\tvalid_1's l2: 0.000109804\nfold n°5\nTraining until validation scores don't improve for 100 rounds.\n"
     ]
    },
    {
     "name": "stdout",
     "output_type": "stream",
     "text": [
      "Early stopping, best iteration is:\n[114]\ttraining's l2: 5.83257e-05\tvalid_1's l2: 0.000152075\n----------\n当前移除特征: B14_to_A16_intTarget_4.0_mean, CV score: 0.00006531, 最佳cv score: 0.00006470, 没效果,保留！！\nfold n°1\nTraining until validation scores don't improve for 100 rounds.\n"
     ]
    },
    {
     "name": "stdout",
     "output_type": "stream",
     "text": [
      "Early stopping, best iteration is:\n[140]\ttraining's l2: 5.05687e-05\tvalid_1's l2: 0.000141115\nfold n°2\nTraining until validation scores don't improve for 100 rounds.\n"
     ]
    },
    {
     "name": "stdout",
     "output_type": "stream",
     "text": [
      "Early stopping, best iteration is:\n[294]\ttraining's l2: 2.93993e-05\tvalid_1's l2: 0.000146377\nfold n°3\nTraining until validation scores don't improve for 100 rounds.\n"
     ]
    },
    {
     "name": "stdout",
     "output_type": "stream",
     "text": [
      "Early stopping, best iteration is:\n[193]\ttraining's l2: 4.37947e-05\tvalid_1's l2: 0.000105562\nfold n°4\nTraining until validation scores don't improve for 100 rounds.\n"
     ]
    },
    {
     "name": "stdout",
     "output_type": "stream",
     "text": [
      "Early stopping, best iteration is:\n[265]\ttraining's l2: 3.47646e-05\tvalid_1's l2: 0.000109653\nfold n°5\nTraining until validation scores don't improve for 100 rounds.\n"
     ]
    },
    {
     "name": "stdout",
     "output_type": "stream",
     "text": [
      "Early stopping, best iteration is:\n[199]\ttraining's l2: 3.88919e-05\tvalid_1's l2: 0.000152888\n----------\n当前移除特征: B14_to_A24_intTarget_0.0_mean, CV score: 0.00006556, 最佳cv score: 0.00006470, 没效果,保留！！\nfold n°1\nTraining until validation scores don't improve for 100 rounds.\n"
     ]
    },
    {
     "name": "stdout",
     "output_type": "stream",
     "text": [
      "Early stopping, best iteration is:\n[179]\ttraining's l2: 4.11668e-05\tvalid_1's l2: 0.000141731\nfold n°2\nTraining until validation scores don't improve for 100 rounds.\n"
     ]
    },
    {
     "name": "stdout",
     "output_type": "stream",
     "text": [
      "Early stopping, best iteration is:\n[213]\ttraining's l2: 3.70167e-05\tvalid_1's l2: 0.000146005\nfold n°3\nTraining until validation scores don't improve for 100 rounds.\n"
     ]
    },
    {
     "name": "stdout",
     "output_type": "stream",
     "text": [
      "Early stopping, best iteration is:\n[219]\ttraining's l2: 3.97198e-05\tvalid_1's l2: 0.00010301\nfold n°4\nTraining until validation scores don't improve for 100 rounds.\n"
     ]
    },
    {
     "name": "stdout",
     "output_type": "stream",
     "text": [
      "Early stopping, best iteration is:\n[336]\ttraining's l2: 2.95993e-05\tvalid_1's l2: 0.000109748\nfold n°5\nTraining until validation scores don't improve for 100 rounds.\n"
     ]
    },
    {
     "name": "stdout",
     "output_type": "stream",
     "text": [
      "Early stopping, best iteration is:\n[125]\ttraining's l2: 5.4685e-05\tvalid_1's l2: 0.000150228\n----------\n当前移除特征: B14_to_A24_intTarget_1.0_mean, CV score: 0.00006508, 最佳cv score: 0.00006470, 没效果,保留！！\nfold n°1\nTraining until validation scores don't improve for 100 rounds.\n"
     ]
    },
    {
     "name": "stdout",
     "output_type": "stream",
     "text": [
      "Early stopping, best iteration is:\n[140]\ttraining's l2: 4.99409e-05\tvalid_1's l2: 0.000140388\nfold n°2\nTraining until validation scores don't improve for 100 rounds.\n"
     ]
    },
    {
     "name": "stdout",
     "output_type": "stream",
     "text": [
      "Early stopping, best iteration is:\n[241]\ttraining's l2: 3.36475e-05\tvalid_1's l2: 0.00014737\nfold n°3\nTraining until validation scores don't improve for 100 rounds.\n"
     ]
    },
    {
     "name": "stdout",
     "output_type": "stream",
     "text": [
      "Early stopping, best iteration is:\n[197]\ttraining's l2: 4.26916e-05\tvalid_1's l2: 0.000106542\nfold n°4\nTraining until validation scores don't improve for 100 rounds.\n"
     ]
    },
    {
     "name": "stdout",
     "output_type": "stream",
     "text": [
      "Early stopping, best iteration is:\n[329]\ttraining's l2: 2.97486e-05\tvalid_1's l2: 0.000108535\nfold n°5\nTraining until validation scores don't improve for 100 rounds.\n"
     ]
    },
    {
     "name": "stdout",
     "output_type": "stream",
     "text": [
      "Early stopping, best iteration is:\n[97]\ttraining's l2: 6.45577e-05\tvalid_1's l2: 0.000153539\n----------\n当前移除特征: B14_to_A24_intTarget_2.0_mean, CV score: 0.00006564, 最佳cv score: 0.00006470, 没效果,保留！！\nfold n°1\nTraining until validation scores don't improve for 100 rounds.\n"
     ]
    },
    {
     "name": "stdout",
     "output_type": "stream",
     "text": [
      "Early stopping, best iteration is:\n[121]\ttraining's l2: 5.65742e-05\tvalid_1's l2: 0.000140878\nfold n°2\nTraining until validation scores don't improve for 100 rounds.\n"
     ]
    },
    {
     "name": "stdout",
     "output_type": "stream",
     "text": [
      "Early stopping, best iteration is:\n[209]\ttraining's l2: 3.7665e-05\tvalid_1's l2: 0.000147624\nfold n°3\nTraining until validation scores don't improve for 100 rounds.\n"
     ]
    },
    {
     "name": "stdout",
     "output_type": "stream",
     "text": [
      "Early stopping, best iteration is:\n[186]\ttraining's l2: 4.47061e-05\tvalid_1's l2: 0.00010644\nfold n°4\nTraining until validation scores don't improve for 100 rounds.\n"
     ]
    },
    {
     "name": "stdout",
     "output_type": "stream",
     "text": [
      "Early stopping, best iteration is:\n[227]\ttraining's l2: 3.87996e-05\tvalid_1's l2: 0.000108153\nfold n°5\nTraining until validation scores don't improve for 100 rounds.\n"
     ]
    },
    {
     "name": "stdout",
     "output_type": "stream",
     "text": [
      "Early stopping, best iteration is:\n[121]\ttraining's l2: 5.54161e-05\tvalid_1's l2: 0.000154817\n----------\n当前移除特征: B14_to_A24_intTarget_3.0_mean, CV score: 0.00006579, 最佳cv score: 0.00006470, 没效果,保留！！\nfold n°1\nTraining until validation scores don't improve for 100 rounds.\n"
     ]
    },
    {
     "name": "stdout",
     "output_type": "stream",
     "text": [
      "Early stopping, best iteration is:\n[154]\ttraining's l2: 4.6721e-05\tvalid_1's l2: 0.000141041\nfold n°2\nTraining until validation scores don't improve for 100 rounds.\n"
     ]
    },
    {
     "name": "stdout",
     "output_type": "stream",
     "text": [
      "Early stopping, best iteration is:\n[371]\ttraining's l2: 2.48189e-05\tvalid_1's l2: 0.00014267\nfold n°3\nTraining until validation scores don't improve for 100 rounds.\n"
     ]
    },
    {
     "name": "stdout",
     "output_type": "stream",
     "text": [
      "Early stopping, best iteration is:\n[200]\ttraining's l2: 4.23486e-05\tvalid_1's l2: 0.000103334\nfold n°4\nTraining until validation scores don't improve for 100 rounds.\n"
     ]
    },
    {
     "name": "stdout",
     "output_type": "stream",
     "text": [
      "Early stopping, best iteration is:\n[268]\ttraining's l2: 3.46933e-05\tvalid_1's l2: 0.000109246\nfold n°5\nTraining until validation scores don't improve for 100 rounds.\n"
     ]
    },
    {
     "name": "stdout",
     "output_type": "stream",
     "text": [
      "Early stopping, best iteration is:\n[178]\ttraining's l2: 4.24662e-05\tvalid_1's l2: 0.000151418\n----------\n当前移除特征: B14_to_A24_intTarget_4.0_mean, CV score: 0.00006477, 最佳cv score: 0.00006470, 没效果,保留！！\nfold n°1\nTraining until validation scores don't improve for 100 rounds.\n"
     ]
    },
    {
     "name": "stdout",
     "output_type": "stream",
     "text": [
      "Early stopping, best iteration is:\n[136]\ttraining's l2: 5.15237e-05\tvalid_1's l2: 0.000138512\nfold n°2\nTraining until validation scores don't improve for 100 rounds.\n"
     ]
    },
    {
     "name": "stdout",
     "output_type": "stream",
     "text": [
      "Early stopping, best iteration is:\n[250]\ttraining's l2: 3.30694e-05\tvalid_1's l2: 0.000143058\nfold n°3\nTraining until validation scores don't improve for 100 rounds.\n"
     ]
    },
    {
     "name": "stdout",
     "output_type": "stream",
     "text": [
      "Early stopping, best iteration is:\n[212]\ttraining's l2: 4.10808e-05\tvalid_1's l2: 0.000108508\nfold n°4\nTraining until validation scores don't improve for 100 rounds.\n"
     ]
    },
    {
     "name": "stdout",
     "output_type": "stream",
     "text": [
      "Early stopping, best iteration is:\n[266]\ttraining's l2: 3.44959e-05\tvalid_1's l2: 0.000109434\nfold n°5\nTraining until validation scores don't improve for 100 rounds.\n"
     ]
    },
    {
     "name": "stdout",
     "output_type": "stream",
     "text": [
      "Early stopping, best iteration is:\n[162]\ttraining's l2: 4.53355e-05\tvalid_1's l2: 0.000153468\n----------\n当前移除特征: B14_to_A26_intTarget_0.0_mean, CV score: 0.00006530, 最佳cv score: 0.00006470, 没效果,保留！！\nfold n°1\nTraining until validation scores don't improve for 100 rounds.\n"
     ]
    },
    {
     "name": "stdout",
     "output_type": "stream",
     "text": [
      "Early stopping, best iteration is:\n[162]\ttraining's l2: 4.53704e-05\tvalid_1's l2: 0.00014326\nfold n°2\nTraining until validation scores don't improve for 100 rounds.\n"
     ]
    },
    {
     "name": "stdout",
     "output_type": "stream",
     "text": [
      "Early stopping, best iteration is:\n[223]\ttraining's l2: 3.5624e-05\tvalid_1's l2: 0.00014549\nfold n°3\nTraining until validation scores don't improve for 100 rounds.\n"
     ]
    },
    {
     "name": "stdout",
     "output_type": "stream",
     "text": [
      "Early stopping, best iteration is:\n[189]\ttraining's l2: 4.43841e-05\tvalid_1's l2: 0.00010335\nfold n°4\nTraining until validation scores don't improve for 100 rounds.\n"
     ]
    },
    {
     "name": "stdout",
     "output_type": "stream",
     "text": [
      "Early stopping, best iteration is:\n[252]\ttraining's l2: 3.66542e-05\tvalid_1's l2: 0.000111182\nfold n°5\nTraining until validation scores don't improve for 100 rounds.\n"
     ]
    },
    {
     "name": "stdout",
     "output_type": "stream",
     "text": [
      "Early stopping, best iteration is:\n[127]\ttraining's l2: 5.4261e-05\tvalid_1's l2: 0.000152979\n----------\n当前移除特征: B14_to_A26_intTarget_1.0_mean, CV score: 0.00006563, 最佳cv score: 0.00006470, 没效果,保留！！\nfold n°1\nTraining until validation scores don't improve for 100 rounds.\n"
     ]
    },
    {
     "name": "stdout",
     "output_type": "stream",
     "text": [
      "Early stopping, best iteration is:\n[155]\ttraining's l2: 4.67637e-05\tvalid_1's l2: 0.000141137\nfold n°2\nTraining until validation scores don't improve for 100 rounds.\n"
     ]
    },
    {
     "name": "stdout",
     "output_type": "stream",
     "text": [
      "Early stopping, best iteration is:\n[271]\ttraining's l2: 3.07728e-05\tvalid_1's l2: 0.00014729\nfold n°3\nTraining until validation scores don't improve for 100 rounds.\n"
     ]
    },
    {
     "name": "stdout",
     "output_type": "stream",
     "text": [
      "Early stopping, best iteration is:\n[231]\ttraining's l2: 3.84169e-05\tvalid_1's l2: 0.000107267\nfold n°4\nTraining until validation scores don't improve for 100 rounds.\n"
     ]
    },
    {
     "name": "stdout",
     "output_type": "stream",
     "text": [
      "Early stopping, best iteration is:\n[350]\ttraining's l2: 2.87216e-05\tvalid_1's l2: 0.000110938\nfold n°5\nTraining until validation scores don't improve for 100 rounds.\n"
     ]
    },
    {
     "name": "stdout",
     "output_type": "stream",
     "text": [
      "Early stopping, best iteration is:\n[138]\ttraining's l2: 5.12055e-05\tvalid_1's l2: 0.000153244\n----------\n当前移除特征: B14_to_A26_intTarget_2.0_mean, CV score: 0.00006599, 最佳cv score: 0.00006470, 没效果,保留！！\nfold n°1\nTraining until validation scores don't improve for 100 rounds.\n"
     ]
    },
    {
     "name": "stdout",
     "output_type": "stream",
     "text": [
      "Early stopping, best iteration is:\n[116]\ttraining's l2: 5.87523e-05\tvalid_1's l2: 0.000142373\nfold n°2\nTraining until validation scores don't improve for 100 rounds.\n"
     ]
    },
    {
     "name": "stdout",
     "output_type": "stream",
     "text": [
      "Early stopping, best iteration is:\n[301]\ttraining's l2: 2.90389e-05\tvalid_1's l2: 0.000145926\nfold n°3\nTraining until validation scores don't improve for 100 rounds.\n"
     ]
    },
    {
     "name": "stdout",
     "output_type": "stream",
     "text": [
      "Early stopping, best iteration is:\n[168]\ttraining's l2: 4.82044e-05\tvalid_1's l2: 0.000106122\nfold n°4\nTraining until validation scores don't improve for 100 rounds.\n"
     ]
    },
    {
     "name": "stdout",
     "output_type": "stream",
     "text": [
      "Early stopping, best iteration is:\n[254]\ttraining's l2: 3.58982e-05\tvalid_1's l2: 0.000109029\nfold n°5\nTraining until validation scores don't improve for 100 rounds.\n"
     ]
    },
    {
     "name": "stdout",
     "output_type": "stream",
     "text": [
      "Early stopping, best iteration is:\n[151]\ttraining's l2: 4.78018e-05\tvalid_1's l2: 0.000154591\n----------\n当前移除特征: B14_to_A26_intTarget_3.0_mean, CV score: 0.00006581, 最佳cv score: 0.00006470, 没效果,保留！！\nfold n°1\nTraining until validation scores don't improve for 100 rounds.\n"
     ]
    },
    {
     "name": "stdout",
     "output_type": "stream",
     "text": [
      "Early stopping, best iteration is:\n[152]\ttraining's l2: 4.73109e-05\tvalid_1's l2: 0.000141198\nfold n°2\nTraining until validation scores don't improve for 100 rounds.\n"
     ]
    },
    {
     "name": "stdout",
     "output_type": "stream",
     "text": [
      "Early stopping, best iteration is:\n[253]\ttraining's l2: 3.29309e-05\tvalid_1's l2: 0.000144557\nfold n°3\nTraining until validation scores don't improve for 100 rounds.\n"
     ]
    },
    {
     "name": "stdout",
     "output_type": "stream",
     "text": [
      "Early stopping, best iteration is:\n[189]\ttraining's l2: 4.4258e-05\tvalid_1's l2: 0.000106602\nfold n°4\nTraining until validation scores don't improve for 100 rounds.\n"
     ]
    },
    {
     "name": "stdout",
     "output_type": "stream",
     "text": [
      "Early stopping, best iteration is:\n[354]\ttraining's l2: 2.84211e-05\tvalid_1's l2: 0.000107608\nfold n°5\nTraining until validation scores don't improve for 100 rounds.\n"
     ]
    },
    {
     "name": "stdout",
     "output_type": "stream",
     "text": [
      "Early stopping, best iteration is:\n[114]\ttraining's l2: 5.81412e-05\tvalid_1's l2: 0.000151539\n----------\n当前移除特征: B14_to_A26_intTarget_4.0_mean, CV score: 0.00006515, 最佳cv score: 0.00006470, 没效果,保留！！\nfold n°1\nTraining until validation scores don't improve for 100 rounds.\n"
     ]
    },
    {
     "name": "stdout",
     "output_type": "stream",
     "text": [
      "Early stopping, best iteration is:\n[124]\ttraining's l2: 5.51646e-05\tvalid_1's l2: 0.000138835\nfold n°2\nTraining until validation scores don't improve for 100 rounds.\n"
     ]
    },
    {
     "name": "stdout",
     "output_type": "stream",
     "text": [
      "Early stopping, best iteration is:\n[219]\ttraining's l2: 3.59119e-05\tvalid_1's l2: 0.000146393\nfold n°3\nTraining until validation scores don't improve for 100 rounds.\n"
     ]
    },
    {
     "name": "stdout",
     "output_type": "stream",
     "text": [
      "Early stopping, best iteration is:\n[196]\ttraining's l2: 4.34655e-05\tvalid_1's l2: 0.000106045\nfold n°4\nTraining until validation scores don't improve for 100 rounds.\n"
     ]
    },
    {
     "name": "stdout",
     "output_type": "stream",
     "text": [
      "Early stopping, best iteration is:\n[377]\ttraining's l2: 2.73285e-05\tvalid_1's l2: 0.000108066\nfold n°5\nTraining until validation scores don't improve for 100 rounds.\n"
     ]
    },
    {
     "name": "stdout",
     "output_type": "stream",
     "text": [
      "Early stopping, best iteration is:\n[178]\ttraining's l2: 4.2393e-05\tvalid_1's l2: 0.00015229\n----------\n当前移除特征: B14_to_B1_intTarget_0.0_mean, CV score: 0.00006517, 最佳cv score: 0.00006470, 没效果,保留！！\nfold n°1\nTraining until validation scores don't improve for 100 rounds.\n"
     ]
    },
    {
     "name": "stdout",
     "output_type": "stream",
     "text": [
      "Early stopping, best iteration is:\n[157]\ttraining's l2: 4.65378e-05\tvalid_1's l2: 0.000140172\nfold n°2\nTraining until validation scores don't improve for 100 rounds.\n"
     ]
    },
    {
     "name": "stdout",
     "output_type": "stream",
     "text": [
      "Early stopping, best iteration is:\n[257]\ttraining's l2: 3.15559e-05\tvalid_1's l2: 0.00014566\nfold n°3\nTraining until validation scores don't improve for 100 rounds.\n"
     ]
    },
    {
     "name": "stdout",
     "output_type": "stream",
     "text": [
      "Early stopping, best iteration is:\n[194]\ttraining's l2: 4.34969e-05\tvalid_1's l2: 0.00010738\nfold n°4\nTraining until validation scores don't improve for 100 rounds.\n"
     ]
    },
    {
     "name": "stdout",
     "output_type": "stream",
     "text": [
      "Early stopping, best iteration is:\n[206]\ttraining's l2: 4.182e-05\tvalid_1's l2: 0.000108618\nfold n°5\nTraining until validation scores don't improve for 100 rounds.\n"
     ]
    },
    {
     "name": "stdout",
     "output_type": "stream",
     "text": [
      "Early stopping, best iteration is:\n[114]\ttraining's l2: 5.84854e-05\tvalid_1's l2: 0.00015281\n----------\n当前移除特征: B14_to_B1_intTarget_1.0_mean, CV score: 0.00006547, 最佳cv score: 0.00006470, 没效果,保留！！\nfold n°1\nTraining until validation scores don't improve for 100 rounds.\n"
     ]
    },
    {
     "name": "stdout",
     "output_type": "stream",
     "text": [
      "Early stopping, best iteration is:\n[157]\ttraining's l2: 4.6372e-05\tvalid_1's l2: 0.000139711\nfold n°2\nTraining until validation scores don't improve for 100 rounds.\n"
     ]
    },
    {
     "name": "stdout",
     "output_type": "stream",
     "text": [
      "Early stopping, best iteration is:\n[382]\ttraining's l2: 2.4682e-05\tvalid_1's l2: 0.000145235\nfold n°3\nTraining until validation scores don't improve for 100 rounds.\n"
     ]
    },
    {
     "name": "stdout",
     "output_type": "stream",
     "text": [
      "Early stopping, best iteration is:\n[195]\ttraining's l2: 4.36456e-05\tvalid_1's l2: 0.000107168\nfold n°4\nTraining until validation scores don't improve for 100 rounds.\n"
     ]
    },
    {
     "name": "stdout",
     "output_type": "stream",
     "text": [
      "Early stopping, best iteration is:\n[334]\ttraining's l2: 2.9946e-05\tvalid_1's l2: 0.000107946\nfold n°5\nTraining until validation scores don't improve for 100 rounds.\n"
     ]
    },
    {
     "name": "stdout",
     "output_type": "stream",
     "text": [
      "Early stopping, best iteration is:\n[172]\ttraining's l2: 4.39869e-05\tvalid_1's l2: 0.000155958\n----------\n当前移除特征: B14_to_B1_intTarget_2.0_mean, CV score: 0.00006560, 最佳cv score: 0.00006470, 没效果,保留！！\nfold n°1\nTraining until validation scores don't improve for 100 rounds.\n"
     ]
    },
    {
     "name": "stdout",
     "output_type": "stream",
     "text": [
      "Early stopping, best iteration is:\n[159]\ttraining's l2: 4.56311e-05\tvalid_1's l2: 0.000141948\nfold n°2\nTraining until validation scores don't improve for 100 rounds.\n"
     ]
    },
    {
     "name": "stdout",
     "output_type": "stream",
     "text": [
      "Early stopping, best iteration is:\n[301]\ttraining's l2: 2.89069e-05\tvalid_1's l2: 0.000143379\nfold n°3\nTraining until validation scores don't improve for 100 rounds.\n"
     ]
    },
    {
     "name": "stdout",
     "output_type": "stream",
     "text": [
      "Early stopping, best iteration is:\n[164]\ttraining's l2: 4.95454e-05\tvalid_1's l2: 0.00011009\nfold n°4\nTraining until validation scores don't improve for 100 rounds.\n"
     ]
    },
    {
     "name": "stdout",
     "output_type": "stream",
     "text": [
      "Early stopping, best iteration is:\n[391]\ttraining's l2: 2.66063e-05\tvalid_1's l2: 0.00010976\nfold n°5\nTraining until validation scores don't improve for 100 rounds.\n"
     ]
    },
    {
     "name": "stdout",
     "output_type": "stream",
     "text": [
      "Early stopping, best iteration is:\n[179]\ttraining's l2: 4.27321e-05\tvalid_1's l2: 0.000151345\n----------\n当前移除特征: B14_to_B1_intTarget_3.0_mean, CV score: 0.00006566, 最佳cv score: 0.00006470, 没效果,保留！！\nfold n°1\nTraining until validation scores don't improve for 100 rounds.\n"
     ]
    },
    {
     "name": "stdout",
     "output_type": "stream",
     "text": [
      "Early stopping, best iteration is:\n[151]\ttraining's l2: 4.72226e-05\tvalid_1's l2: 0.000137402\nfold n°2\nTraining until validation scores don't improve for 100 rounds.\n"
     ]
    },
    {
     "name": "stdout",
     "output_type": "stream",
     "text": [
      "Early stopping, best iteration is:\n[239]\ttraining's l2: 3.38683e-05\tvalid_1's l2: 0.000146724\nfold n°3\nTraining until validation scores don't improve for 100 rounds.\n"
     ]
    },
    {
     "name": "stdout",
     "output_type": "stream",
     "text": [
      "Early stopping, best iteration is:\n[167]\ttraining's l2: 4.88813e-05\tvalid_1's l2: 0.000108316\nfold n°4\nTraining until validation scores don't improve for 100 rounds.\n"
     ]
    },
    {
     "name": "stdout",
     "output_type": "stream",
     "text": [
      "Early stopping, best iteration is:\n[230]\ttraining's l2: 3.83903e-05\tvalid_1's l2: 0.000109739\nfold n°5\nTraining until validation scores don't improve for 100 rounds.\n"
     ]
    },
    {
     "name": "stdout",
     "output_type": "stream",
     "text": [
      "Early stopping, best iteration is:\n[116]\ttraining's l2: 5.7799e-05\tvalid_1's l2: 0.000153912\n----------\n当前移除特征: B14_to_B1_intTarget_4.0_mean, CV score: 0.00006561, 最佳cv score: 0.00006470, 没效果,保留！！\nfold n°1\nTraining until validation scores don't improve for 100 rounds.\n"
     ]
    },
    {
     "name": "stdout",
     "output_type": "stream",
     "text": [
      "Early stopping, best iteration is:\n[111]\ttraining's l2: 6.0213e-05\tvalid_1's l2: 0.000139621\nfold n°2\nTraining until validation scores don't improve for 100 rounds.\n"
     ]
    },
    {
     "name": "stdout",
     "output_type": "stream",
     "text": [
      "Early stopping, best iteration is:\n[273]\ttraining's l2: 3.0858e-05\tvalid_1's l2: 0.000147778\nfold n°3\nTraining until validation scores don't improve for 100 rounds.\n"
     ]
    },
    {
     "name": "stdout",
     "output_type": "stream",
     "text": [
      "Early stopping, best iteration is:\n[219]\ttraining's l2: 4.02499e-05\tvalid_1's l2: 0.000106171\nfold n°4\nTraining until validation scores don't improve for 100 rounds.\n"
     ]
    },
    {
     "name": "stdout",
     "output_type": "stream",
     "text": [
      "Early stopping, best iteration is:\n[337]\ttraining's l2: 2.93286e-05\tvalid_1's l2: 0.000108178\nfold n°5\nTraining until validation scores don't improve for 100 rounds.\n"
     ]
    },
    {
     "name": "stdout",
     "output_type": "stream",
     "text": [
      "Early stopping, best iteration is:\n[226]\ttraining's l2: 3.60371e-05\tvalid_1's l2: 0.000152735\n----------\n当前移除特征: B14_to_B5_intTarget_0.0_mean, CV score: 0.00006545, 最佳cv score: 0.00006470, 没效果,保留！！\nfold n°1\nTraining until validation scores don't improve for 100 rounds.\n"
     ]
    },
    {
     "name": "stdout",
     "output_type": "stream",
     "text": [
      "Early stopping, best iteration is:\n[138]\ttraining's l2: 5.11163e-05\tvalid_1's l2: 0.000141151\nfold n°2\nTraining until validation scores don't improve for 100 rounds.\n"
     ]
    },
    {
     "name": "stdout",
     "output_type": "stream",
     "text": [
      "Early stopping, best iteration is:\n[282]\ttraining's l2: 2.99931e-05\tvalid_1's l2: 0.000144814\nfold n°3\nTraining until validation scores don't improve for 100 rounds.\n"
     ]
    },
    {
     "name": "stdout",
     "output_type": "stream",
     "text": [
      "Early stopping, best iteration is:\n[181]\ttraining's l2: 4.54444e-05\tvalid_1's l2: 0.000104562\nfold n°4\nTraining until validation scores don't improve for 100 rounds.\n"
     ]
    },
    {
     "name": "stdout",
     "output_type": "stream",
     "text": [
      "Early stopping, best iteration is:\n[291]\ttraining's l2: 3.26382e-05\tvalid_1's l2: 0.000108919\nfold n°5\nTraining until validation scores don't improve for 100 rounds.\n"
     ]
    },
    {
     "name": "stdout",
     "output_type": "stream",
     "text": [
      "Early stopping, best iteration is:\n[160]\ttraining's l2: 4.63565e-05\tvalid_1's l2: 0.000153417\n----------\n当前移除特征: B14_to_B5_intTarget_1.0_mean, CV score: 0.00006529, 最佳cv score: 0.00006470, 没效果,保留！！\nfold n°1\nTraining until validation scores don't improve for 100 rounds.\n"
     ]
    },
    {
     "name": "stdout",
     "output_type": "stream",
     "text": [
      "Early stopping, best iteration is:\n[139]\ttraining's l2: 5.07798e-05\tvalid_1's l2: 0.000141036\nfold n°2\nTraining until validation scores don't improve for 100 rounds.\n"
     ]
    },
    {
     "name": "stdout",
     "output_type": "stream",
     "text": [
      "Early stopping, best iteration is:\n[230]\ttraining's l2: 3.4963e-05\tvalid_1's l2: 0.000147903\nfold n°3\nTraining until validation scores don't improve for 100 rounds.\n"
     ]
    },
    {
     "name": "stdout",
     "output_type": "stream",
     "text": [
      "Early stopping, best iteration is:\n[197]\ttraining's l2: 4.29449e-05\tvalid_1's l2: 0.000106784\nfold n°4\nTraining until validation scores don't improve for 100 rounds.\n"
     ]
    },
    {
     "name": "stdout",
     "output_type": "stream",
     "text": [
      "Early stopping, best iteration is:\n[188]\ttraining's l2: 4.42333e-05\tvalid_1's l2: 0.000108214\nfold n°5\nTraining until validation scores don't improve for 100 rounds.\n"
     ]
    },
    {
     "name": "stdout",
     "output_type": "stream",
     "text": [
      "Early stopping, best iteration is:\n[137]\ttraining's l2: 5.09568e-05\tvalid_1's l2: 0.000153569\n----------\n当前移除特征: B14_to_B5_intTarget_2.0_mean, CV score: 0.00006575, 最佳cv score: 0.00006470, 没效果,保留！！\nfold n°1\nTraining until validation scores don't improve for 100 rounds.\n"
     ]
    },
    {
     "name": "stdout",
     "output_type": "stream",
     "text": [
      "Early stopping, best iteration is:\n[124]\ttraining's l2: 5.50006e-05\tvalid_1's l2: 0.000140571\nfold n°2\nTraining until validation scores don't improve for 100 rounds.\n"
     ]
    },
    {
     "name": "stdout",
     "output_type": "stream",
     "text": [
      "Early stopping, best iteration is:\n[288]\ttraining's l2: 2.95851e-05\tvalid_1's l2: 0.000147415\nfold n°3\nTraining until validation scores don't improve for 100 rounds.\n"
     ]
    },
    {
     "name": "stdout",
     "output_type": "stream",
     "text": [
      "Early stopping, best iteration is:\n[217]\ttraining's l2: 4.04317e-05\tvalid_1's l2: 0.000107396\nfold n°4\nTraining until validation scores don't improve for 100 rounds.\n"
     ]
    },
    {
     "name": "stdout",
     "output_type": "stream",
     "text": [
      "Early stopping, best iteration is:\n[496]\ttraining's l2: 2.30892e-05\tvalid_1's l2: 0.000109187\nfold n°5\nTraining until validation scores don't improve for 100 rounds.\n"
     ]
    },
    {
     "name": "stdout",
     "output_type": "stream",
     "text": [
      "Early stopping, best iteration is:\n[151]\ttraining's l2: 4.82668e-05\tvalid_1's l2: 0.000152901\n----------\n当前移除特征: B14_to_B5_intTarget_3.0_mean, CV score: 0.00006575, 最佳cv score: 0.00006470, 没效果,保留！！\nfold n°1\nTraining until validation scores don't improve for 100 rounds.\n"
     ]
    },
    {
     "name": "stdout",
     "output_type": "stream",
     "text": [
      "Early stopping, best iteration is:\n[111]\ttraining's l2: 6.08134e-05\tvalid_1's l2: 0.000141609\nfold n°2\nTraining until validation scores don't improve for 100 rounds.\n"
     ]
    },
    {
     "name": "stdout",
     "output_type": "stream",
     "text": [
      "Early stopping, best iteration is:\n[253]\ttraining's l2: 3.26675e-05\tvalid_1's l2: 0.000146072\nfold n°3\nTraining until validation scores don't improve for 100 rounds.\n"
     ]
    },
    {
     "name": "stdout",
     "output_type": "stream",
     "text": [
      "Early stopping, best iteration is:\n[195]\ttraining's l2: 4.31824e-05\tvalid_1's l2: 0.000107134\nfold n°4\nTraining until validation scores don't improve for 100 rounds.\n"
     ]
    },
    {
     "name": "stdout",
     "output_type": "stream",
     "text": [
      "Early stopping, best iteration is:\n[213]\ttraining's l2: 4.09994e-05\tvalid_1's l2: 0.000110323\nfold n°5\nTraining until validation scores don't improve for 100 rounds.\n"
     ]
    },
    {
     "name": "stdout",
     "output_type": "stream",
     "text": [
      "Early stopping, best iteration is:\n[147]\ttraining's l2: 4.92655e-05\tvalid_1's l2: 0.000153523\n----------\n当前移除特征: B14_to_B5_intTarget_4.0_mean, CV score: 0.00006587, 最佳cv score: 0.00006470, 没效果,保留！！\nfold n°1\nTraining until validation scores don't improve for 100 rounds.\n"
     ]
    },
    {
     "name": "stdout",
     "output_type": "stream",
     "text": [
      "Early stopping, best iteration is:\n[161]\ttraining's l2: 4.57118e-05\tvalid_1's l2: 0.000138139\nfold n°2\nTraining until validation scores don't improve for 100 rounds.\n"
     ]
    },
    {
     "name": "stdout",
     "output_type": "stream",
     "text": [
      "Early stopping, best iteration is:\n[301]\ttraining's l2: 2.86857e-05\tvalid_1's l2: 0.000147282\nfold n°3\nTraining until validation scores don't improve for 100 rounds.\n"
     ]
    },
    {
     "name": "stdout",
     "output_type": "stream",
     "text": [
      "Early stopping, best iteration is:\n[188]\ttraining's l2: 4.42927e-05\tvalid_1's l2: 0.000104757\nfold n°4\nTraining until validation scores don't improve for 100 rounds.\n"
     ]
    },
    {
     "name": "stdout",
     "output_type": "stream",
     "text": [
      "Early stopping, best iteration is:\n[198]\ttraining's l2: 4.3334e-05\tvalid_1's l2: 0.000111748\nfold n°5\nTraining until validation scores don't improve for 100 rounds.\n"
     ]
    },
    {
     "name": "stdout",
     "output_type": "stream",
     "text": [
      "Early stopping, best iteration is:\n[130]\ttraining's l2: 5.33885e-05\tvalid_1's l2: 0.000153025\n----------\n当前移除特征: B14_to_B6_intTarget_0.0_mean, CV score: 0.00006550, 最佳cv score: 0.00006470, 没效果,保留！！\nfold n°1\nTraining until validation scores don't improve for 100 rounds.\n"
     ]
    },
    {
     "name": "stdout",
     "output_type": "stream",
     "text": [
      "Early stopping, best iteration is:\n[140]\ttraining's l2: 4.9614e-05\tvalid_1's l2: 0.000140397\nfold n°2\nTraining until validation scores don't improve for 100 rounds.\n"
     ]
    },
    {
     "name": "stdout",
     "output_type": "stream",
     "text": [
      "Early stopping, best iteration is:\n[347]\ttraining's l2: 2.60643e-05\tvalid_1's l2: 0.000146341\nfold n°3\nTraining until validation scores don't improve for 100 rounds.\n"
     ]
    },
    {
     "name": "stdout",
     "output_type": "stream",
     "text": [
      "Early stopping, best iteration is:\n[135]\ttraining's l2: 5.71569e-05\tvalid_1's l2: 0.000107534\nfold n°4\nTraining until validation scores don't improve for 100 rounds.\n"
     ]
    },
    {
     "name": "stdout",
     "output_type": "stream",
     "text": [
      "Early stopping, best iteration is:\n[403]\ttraining's l2: 2.60557e-05\tvalid_1's l2: 0.000108703\nfold n°5\nTraining until validation scores don't improve for 100 rounds.\n"
     ]
    },
    {
     "name": "stdout",
     "output_type": "stream",
     "text": [
      "Early stopping, best iteration is:\n[116]\ttraining's l2: 5.759e-05\tvalid_1's l2: 0.000154468\n----------\n当前移除特征: B14_to_B6_intTarget_1.0_mean, CV score: 0.00006575, 最佳cv score: 0.00006470, 没效果,保留！！\nfold n°1\nTraining until validation scores don't improve for 100 rounds.\n"
     ]
    },
    {
     "name": "stdout",
     "output_type": "stream",
     "text": [
      "Early stopping, best iteration is:\n[109]\ttraining's l2: 6.17365e-05\tvalid_1's l2: 0.000142441\nfold n°2\nTraining until validation scores don't improve for 100 rounds.\n"
     ]
    },
    {
     "name": "stdout",
     "output_type": "stream",
     "text": [
      "Early stopping, best iteration is:\n[312]\ttraining's l2: 2.79714e-05\tvalid_1's l2: 0.000150875\nfold n°3\nTraining until validation scores don't improve for 100 rounds.\n"
     ]
    },
    {
     "name": "stdout",
     "output_type": "stream",
     "text": [
      "Early stopping, best iteration is:\n[185]\ttraining's l2: 4.51131e-05\tvalid_1's l2: 0.00010368\nfold n°4\nTraining until validation scores don't improve for 100 rounds.\n"
     ]
    },
    {
     "name": "stdout",
     "output_type": "stream",
     "text": [
      "Early stopping, best iteration is:\n[356]\ttraining's l2: 2.77837e-05\tvalid_1's l2: 0.000107404\nfold n°5\nTraining until validation scores don't improve for 100 rounds.\n"
     ]
    },
    {
     "name": "stdout",
     "output_type": "stream",
     "text": [
      "Early stopping, best iteration is:\n[145]\ttraining's l2: 4.93312e-05\tvalid_1's l2: 0.000152031\n----------\n当前移除特征: B14_to_B6_intTarget_2.0_mean, CV score: 0.00006565, 最佳cv score: 0.00006470, 没效果,保留！！\nfold n°1\nTraining until validation scores don't improve for 100 rounds.\n"
     ]
    },
    {
     "name": "stdout",
     "output_type": "stream",
     "text": [
      "Early stopping, best iteration is:\n[111]\ttraining's l2: 5.94472e-05\tvalid_1's l2: 0.000143055\nfold n°2\nTraining until validation scores don't improve for 100 rounds.\n"
     ]
    },
    {
     "name": "stdout",
     "output_type": "stream",
     "text": [
      "Early stopping, best iteration is:\n[218]\ttraining's l2: 3.5946e-05\tvalid_1's l2: 0.000144121\nfold n°3\nTraining until validation scores don't improve for 100 rounds.\n"
     ]
    },
    {
     "name": "stdout",
     "output_type": "stream",
     "text": [
      "Early stopping, best iteration is:\n[195]\ttraining's l2: 4.31034e-05\tvalid_1's l2: 0.000104952\nfold n°4\nTraining until validation scores don't improve for 100 rounds.\n"
     ]
    },
    {
     "name": "stdout",
     "output_type": "stream",
     "text": [
      "Early stopping, best iteration is:\n[385]\ttraining's l2: 2.66883e-05\tvalid_1's l2: 0.000109418\nfold n°5\nTraining until validation scores don't improve for 100 rounds.\n"
     ]
    },
    {
     "name": "stdout",
     "output_type": "stream",
     "text": [
      "Early stopping, best iteration is:\n[125]\ttraining's l2: 5.50842e-05\tvalid_1's l2: 0.000152374\n----------\n当前移除特征: B14_to_B6_intTarget_3.0_mean, CV score: 0.00006540, 最佳cv score: 0.00006470, 没效果,保留！！\nfold n°1\nTraining until validation scores don't improve for 100 rounds.\n"
     ]
    },
    {
     "name": "stdout",
     "output_type": "stream",
     "text": [
      "Early stopping, best iteration is:\n[143]\ttraining's l2: 4.95416e-05\tvalid_1's l2: 0.00013847\nfold n°2\nTraining until validation scores don't improve for 100 rounds.\n"
     ]
    },
    {
     "name": "stdout",
     "output_type": "stream",
     "text": [
      "Early stopping, best iteration is:\n[242]\ttraining's l2: 3.341e-05\tvalid_1's l2: 0.000146733\nfold n°3\nTraining until validation scores don't improve for 100 rounds.\n"
     ]
    },
    {
     "name": "stdout",
     "output_type": "stream",
     "text": [
      "Early stopping, best iteration is:\n[167]\ttraining's l2: 4.88633e-05\tvalid_1's l2: 0.000104452\nfold n°4\nTraining until validation scores don't improve for 100 rounds.\n"
     ]
    },
    {
     "name": "stdout",
     "output_type": "stream",
     "text": [
      "Early stopping, best iteration is:\n[269]\ttraining's l2: 3.42386e-05\tvalid_1's l2: 0.000110553\nfold n°5\nTraining until validation scores don't improve for 100 rounds.\n"
     ]
    },
    {
     "name": "stdout",
     "output_type": "stream",
     "text": [
      "Early stopping, best iteration is:\n[133]\ttraining's l2: 5.18292e-05\tvalid_1's l2: 0.000150963\n----------\n当前移除特征: B14_to_B6_intTarget_4.0_mean, CV score: 0.00006512, 最佳cv score: 0.00006470, 没效果,保留！！\nfold n°1\nTraining until validation scores don't improve for 100 rounds.\n"
     ]
    },
    {
     "name": "stdout",
     "output_type": "stream",
     "text": [
      "Early stopping, best iteration is:\n[139]\ttraining's l2: 5.08299e-05\tvalid_1's l2: 0.000139997\nfold n°2\nTraining until validation scores don't improve for 100 rounds.\n"
     ]
    },
    {
     "name": "stdout",
     "output_type": "stream",
     "text": [
      "Early stopping, best iteration is:\n[182]\ttraining's l2: 4.12469e-05\tvalid_1's l2: 0.000144885\nfold n°3\nTraining until validation scores don't improve for 100 rounds.\n"
     ]
    },
    {
     "name": "stdout",
     "output_type": "stream",
     "text": [
      "Early stopping, best iteration is:\n[195]\ttraining's l2: 4.30961e-05\tvalid_1's l2: 0.000104981\nfold n°4\nTraining until validation scores don't improve for 100 rounds.\n"
     ]
    },
    {
     "name": "stdout",
     "output_type": "stream",
     "text": [
      "Early stopping, best iteration is:\n[267]\ttraining's l2: 3.38952e-05\tvalid_1's l2: 0.000109894\nfold n°5\nTraining until validation scores don't improve for 100 rounds.\n"
     ]
    },
    {
     "name": "stdout",
     "output_type": "stream",
     "text": [
      "Early stopping, best iteration is:\n[253]\ttraining's l2: 3.33689e-05\tvalid_1's l2: 0.000152691\n----------\n当前移除特征: B14_to_B7_intTarget_0.0_mean, CV score: 0.00006525, 最佳cv score: 0.00006470, 没效果,保留！！\nfold n°1\nTraining until validation scores don't improve for 100 rounds.\n"
     ]
    },
    {
     "name": "stdout",
     "output_type": "stream",
     "text": [
      "Early stopping, best iteration is:\n[157]\ttraining's l2: 4.59634e-05\tvalid_1's l2: 0.00013905\nfold n°2\nTraining until validation scores don't improve for 100 rounds.\n"
     ]
    },
    {
     "name": "stdout",
     "output_type": "stream",
     "text": [
      "Early stopping, best iteration is:\n[242]\ttraining's l2: 3.33926e-05\tvalid_1's l2: 0.000147411\nfold n°3\nTraining until validation scores don't improve for 100 rounds.\n"
     ]
    },
    {
     "name": "stdout",
     "output_type": "stream",
     "text": [
      "Early stopping, best iteration is:\n[195]\ttraining's l2: 4.38016e-05\tvalid_1's l2: 0.000106748\nfold n°4\nTraining until validation scores don't improve for 100 rounds.\n"
     ]
    },
    {
     "name": "stdout",
     "output_type": "stream",
     "text": [
      "Early stopping, best iteration is:\n[375]\ttraining's l2: 2.72713e-05\tvalid_1's l2: 0.000107939\nfold n°5\nTraining until validation scores don't improve for 100 rounds.\n"
     ]
    },
    {
     "name": "stdout",
     "output_type": "stream",
     "text": [
      "Early stopping, best iteration is:\n[113]\ttraining's l2: 5.91486e-05\tvalid_1's l2: 0.000154333\n----------\n当前移除特征: B14_to_B7_intTarget_1.0_mean, CV score: 0.00006555, 最佳cv score: 0.00006470, 没效果,保留！！\nfold n°1\nTraining until validation scores don't improve for 100 rounds.\n"
     ]
    },
    {
     "name": "stdout",
     "output_type": "stream",
     "text": [
      "Early stopping, best iteration is:\n[152]\ttraining's l2: 4.75917e-05\tvalid_1's l2: 0.00013886\nfold n°2\nTraining until validation scores don't improve for 100 rounds.\n"
     ]
    },
    {
     "name": "stdout",
     "output_type": "stream",
     "text": [
      "Early stopping, best iteration is:\n[261]\ttraining's l2: 3.19715e-05\tvalid_1's l2: 0.000144699\nfold n°3\nTraining until validation scores don't improve for 100 rounds.\n"
     ]
    },
    {
     "name": "stdout",
     "output_type": "stream",
     "text": [
      "Early stopping, best iteration is:\n[194]\ttraining's l2: 4.3628e-05\tvalid_1's l2: 0.000107348\nfold n°4\nTraining until validation scores don't improve for 100 rounds.\n"
     ]
    },
    {
     "name": "stdout",
     "output_type": "stream",
     "text": [
      "Early stopping, best iteration is:\n[252]\ttraining's l2: 3.58248e-05\tvalid_1's l2: 0.00010835\nfold n°5\nTraining until validation scores don't improve for 100 rounds.\n"
     ]
    },
    {
     "name": "stdout",
     "output_type": "stream",
     "text": [
      "Early stopping, best iteration is:\n[115]\ttraining's l2: 5.75813e-05\tvalid_1's l2: 0.000150774\n----------\n当前移除特征: B14_to_B7_intTarget_2.0_mean, CV score: 0.00006501, 最佳cv score: 0.00006470, 没效果,保留！！\nfold n°1\nTraining until validation scores don't improve for 100 rounds.\n"
     ]
    },
    {
     "name": "stdout",
     "output_type": "stream",
     "text": [
      "Early stopping, best iteration is:\n[155]\ttraining's l2: 4.68029e-05\tvalid_1's l2: 0.000138606\nfold n°2\nTraining until validation scores don't improve for 100 rounds.\n"
     ]
    },
    {
     "name": "stdout",
     "output_type": "stream",
     "text": [
      "Early stopping, best iteration is:\n[241]\ttraining's l2: 3.37685e-05\tvalid_1's l2: 0.000150278\nfold n°3\nTraining until validation scores don't improve for 100 rounds.\n"
     ]
    },
    {
     "name": "stdout",
     "output_type": "stream",
     "text": [
      "Early stopping, best iteration is:\n[194]\ttraining's l2: 4.38617e-05\tvalid_1's l2: 0.00010734\nfold n°4\nTraining until validation scores don't improve for 100 rounds.\n"
     ]
    },
    {
     "name": "stdout",
     "output_type": "stream",
     "text": [
      "Early stopping, best iteration is:\n[192]\ttraining's l2: 4.4513e-05\tvalid_1's l2: 0.000108191\nfold n°5\nTraining until validation scores don't improve for 100 rounds.\n"
     ]
    },
    {
     "name": "stdout",
     "output_type": "stream",
     "text": [
      "Early stopping, best iteration is:\n[149]\ttraining's l2: 4.85186e-05\tvalid_1's l2: 0.00015332\n----------\n当前移除特征: B14_to_B7_intTarget_3.0_mean, CV score: 0.00006578, 最佳cv score: 0.00006470, 没效果,保留！！\nfold n°1\nTraining until validation scores don't improve for 100 rounds.\n"
     ]
    },
    {
     "name": "stdout",
     "output_type": "stream",
     "text": [
      "Early stopping, best iteration is:\n[123]\ttraining's l2: 5.70197e-05\tvalid_1's l2: 0.000143234\nfold n°2\nTraining until validation scores don't improve for 100 rounds.\n"
     ]
    },
    {
     "name": "stdout",
     "output_type": "stream",
     "text": [
      "Early stopping, best iteration is:\n[249]\ttraining's l2: 3.39073e-05\tvalid_1's l2: 0.000148669\nfold n°3\nTraining until validation scores don't improve for 100 rounds.\n"
     ]
    },
    {
     "name": "stdout",
     "output_type": "stream",
     "text": [
      "Early stopping, best iteration is:\n[213]\ttraining's l2: 4.11558e-05\tvalid_1's l2: 0.000119342\nfold n°4\nTraining until validation scores don't improve for 100 rounds.\n"
     ]
    },
    {
     "name": "stdout",
     "output_type": "stream",
     "text": [
      "Early stopping, best iteration is:\n[181]\ttraining's l2: 4.66328e-05\tvalid_1's l2: 0.000120701\nfold n°5\nTraining until validation scores don't improve for 100 rounds.\n"
     ]
    },
    {
     "name": "stdout",
     "output_type": "stream",
     "text": [
      "Early stopping, best iteration is:\n[94]\ttraining's l2: 6.88757e-05\tvalid_1's l2: 0.000166012\n----------\n当前移除特征: B14_to_B7_intTarget_4.0_mean, CV score: 0.00006980, 最佳cv score: 0.00006470, 没效果,保留！！\nfold n°1\nTraining until validation scores don't improve for 100 rounds.\n"
     ]
    },
    {
     "name": "stdout",
     "output_type": "stream",
     "text": [
      "Early stopping, best iteration is:\n[139]\ttraining's l2: 5.11911e-05\tvalid_1's l2: 0.000138832\nfold n°2\nTraining until validation scores don't improve for 100 rounds.\n"
     ]
    },
    {
     "name": "stdout",
     "output_type": "stream",
     "text": [
      "Early stopping, best iteration is:\n[237]\ttraining's l2: 3.43685e-05\tvalid_1's l2: 0.000146489\nfold n°3\nTraining until validation scores don't improve for 100 rounds.\n"
     ]
    },
    {
     "name": "stdout",
     "output_type": "stream",
     "text": [
      "Early stopping, best iteration is:\n[195]\ttraining's l2: 4.31817e-05\tvalid_1's l2: 0.000104211\nfold n°4\nTraining until validation scores don't improve for 100 rounds.\n"
     ]
    },
    {
     "name": "stdout",
     "output_type": "stream",
     "text": [
      "Early stopping, best iteration is:\n[274]\ttraining's l2: 3.37111e-05\tvalid_1's l2: 0.000110294\nfold n°5\nTraining until validation scores don't improve for 100 rounds.\n"
     ]
    },
    {
     "name": "stdout",
     "output_type": "stream",
     "text": [
      "Early stopping, best iteration is:\n[180]\ttraining's l2: 4.2487e-05\tvalid_1's l2: 0.000151575\n----------\n当前移除特征: B14_to_B8_intTarget_0.0_mean, CV score: 0.00006514, 最佳cv score: 0.00006470, 没效果,保留！！\nfold n°1\nTraining until validation scores don't improve for 100 rounds.\n"
     ]
    },
    {
     "name": "stdout",
     "output_type": "stream",
     "text": [
      "Early stopping, best iteration is:\n[143]\ttraining's l2: 4.93144e-05\tvalid_1's l2: 0.000140376\nfold n°2\nTraining until validation scores don't improve for 100 rounds.\n"
     ]
    },
    {
     "name": "stdout",
     "output_type": "stream",
     "text": [
      "Early stopping, best iteration is:\n[363]\ttraining's l2: 2.53604e-05\tvalid_1's l2: 0.000148338\nfold n°3\nTraining until validation scores don't improve for 100 rounds.\n"
     ]
    },
    {
     "name": "stdout",
     "output_type": "stream",
     "text": [
      "Early stopping, best iteration is:\n[199]\ttraining's l2: 4.30873e-05\tvalid_1's l2: 0.000107274\nfold n°4\nTraining until validation scores don't improve for 100 rounds.\n"
     ]
    },
    {
     "name": "stdout",
     "output_type": "stream",
     "text": [
      "Early stopping, best iteration is:\n[374]\ttraining's l2: 2.74032e-05\tvalid_1's l2: 0.000108304\nfold n°5\nTraining until validation scores don't improve for 100 rounds.\n"
     ]
    },
    {
     "name": "stdout",
     "output_type": "stream",
     "text": [
      "Early stopping, best iteration is:\n[179]\ttraining's l2: 4.27355e-05\tvalid_1's l2: 0.000153555\n----------\n当前移除特征: B14_to_B8_intTarget_1.0_mean, CV score: 0.00006579, 最佳cv score: 0.00006470, 没效果,保留！！\nfold n°1\nTraining until validation scores don't improve for 100 rounds.\n"
     ]
    },
    {
     "name": "stdout",
     "output_type": "stream",
     "text": [
      "Early stopping, best iteration is:\n[157]\ttraining's l2: 4.57474e-05\tvalid_1's l2: 0.00014\nfold n°2\nTraining until validation scores don't improve for 100 rounds.\n"
     ]
    },
    {
     "name": "stdout",
     "output_type": "stream",
     "text": [
      "Early stopping, best iteration is:\n[292]\ttraining's l2: 2.93061e-05\tvalid_1's l2: 0.000148762\nfold n°3\nTraining until validation scores don't improve for 100 rounds.\n"
     ]
    },
    {
     "name": "stdout",
     "output_type": "stream",
     "text": [
      "Early stopping, best iteration is:\n[167]\ttraining's l2: 4.86935e-05\tvalid_1's l2: 0.000106962\nfold n°4\nTraining until validation scores don't improve for 100 rounds.\n"
     ]
    },
    {
     "name": "stdout",
     "output_type": "stream",
     "text": [
      "Early stopping, best iteration is:\n[374]\ttraining's l2: 2.7488e-05\tvalid_1's l2: 0.000109285\nfold n°5\nTraining until validation scores don't improve for 100 rounds.\n"
     ]
    },
    {
     "name": "stdout",
     "output_type": "stream",
     "text": [
      "Early stopping, best iteration is:\n[137]\ttraining's l2: 5.06983e-05\tvalid_1's l2: 0.000151796\n----------\n当前移除特征: B14_to_B8_intTarget_2.0_mean, CV score: 0.00006568, 最佳cv score: 0.00006470, 没效果,保留！！\nfold n°1\nTraining until validation scores don't improve for 100 rounds.\n"
     ]
    },
    {
     "name": "stdout",
     "output_type": "stream",
     "text": [
      "Early stopping, best iteration is:\n[111]\ttraining's l2: 6.03376e-05\tvalid_1's l2: 0.000139831\nfold n°2\nTraining until validation scores don't improve for 100 rounds.\n"
     ]
    },
    {
     "name": "stdout",
     "output_type": "stream",
     "text": [
      "Early stopping, best iteration is:\n[228]\ttraining's l2: 3.4833e-05\tvalid_1's l2: 0.000144388\nfold n°3\nTraining until validation scores don't improve for 100 rounds.\n"
     ]
    },
    {
     "name": "stdout",
     "output_type": "stream",
     "text": [
      "Early stopping, best iteration is:\n[194]\ttraining's l2: 4.37166e-05\tvalid_1's l2: 0.000105496\nfold n°4\nTraining until validation scores don't improve for 100 rounds.\n"
     ]
    },
    {
     "name": "stdout",
     "output_type": "stream",
     "text": [
      "Early stopping, best iteration is:\n[388]\ttraining's l2: 2.6513e-05\tvalid_1's l2: 0.000108412\nfold n°5\nTraining until validation scores don't improve for 100 rounds.\n"
     ]
    },
    {
     "name": "stdout",
     "output_type": "stream",
     "text": [
      "Early stopping, best iteration is:\n[179]\ttraining's l2: 4.22536e-05\tvalid_1's l2: 0.000153623\n----------\n当前移除特征: B14_to_B8_intTarget_3.0_mean, CV score: 0.00006518, 最佳cv score: 0.00006470, 没效果,保留！！\nfold n°1\nTraining until validation scores don't improve for 100 rounds.\n"
     ]
    },
    {
     "name": "stdout",
     "output_type": "stream",
     "text": [
      "Early stopping, best iteration is:\n[140]\ttraining's l2: 5.08088e-05\tvalid_1's l2: 0.000142442\nfold n°2\nTraining until validation scores don't improve for 100 rounds.\n"
     ]
    },
    {
     "name": "stdout",
     "output_type": "stream",
     "text": [
      "Early stopping, best iteration is:\n[287]\ttraining's l2: 2.97914e-05\tvalid_1's l2: 0.000146731\nfold n°3\nTraining until validation scores don't improve for 100 rounds.\n"
     ]
    },
    {
     "name": "stdout",
     "output_type": "stream",
     "text": [
      "Early stopping, best iteration is:\n[195]\ttraining's l2: 4.40022e-05\tvalid_1's l2: 0.000109244\nfold n°4\nTraining until validation scores don't improve for 100 rounds.\n"
     ]
    },
    {
     "name": "stdout",
     "output_type": "stream",
     "text": [
      "Early stopping, best iteration is:\n[242]\ttraining's l2: 3.74291e-05\tvalid_1's l2: 0.000109002\nfold n°5\nTraining until validation scores don't improve for 100 rounds.\n"
     ]
    },
    {
     "name": "stdout",
     "output_type": "stream",
     "text": [
      "Early stopping, best iteration is:\n[198]\ttraining's l2: 3.98807e-05\tvalid_1's l2: 0.000153027\n----------\n当前移除特征: B14_to_B8_intTarget_4.0_mean, CV score: 0.00006605, 最佳cv score: 0.00006470, 没效果,保留！！\nfold n°1\nTraining until validation scores don't improve for 100 rounds.\n"
     ]
    },
    {
     "name": "stdout",
     "output_type": "stream",
     "text": [
      "Early stopping, best iteration is:\n[138]\ttraining's l2: 5.16264e-05\tvalid_1's l2: 0.000138338\nfold n°2\nTraining until validation scores don't improve for 100 rounds.\n"
     ]
    },
    {
     "name": "stdout",
     "output_type": "stream",
     "text": [
      "Early stopping, best iteration is:\n[218]\ttraining's l2: 3.61286e-05\tvalid_1's l2: 0.000145642\nfold n°3\nTraining until validation scores don't improve for 100 rounds.\n"
     ]
    },
    {
     "name": "stdout",
     "output_type": "stream",
     "text": [
      "Early stopping, best iteration is:\n[184]\ttraining's l2: 4.57403e-05\tvalid_1's l2: 0.000109022\nfold n°4\nTraining until validation scores don't improve for 100 rounds.\n"
     ]
    },
    {
     "name": "stdout",
     "output_type": "stream",
     "text": [
      "Early stopping, best iteration is:\n[249]\ttraining's l2: 3.66681e-05\tvalid_1's l2: 0.000109704\nfold n°5\nTraining until validation scores don't improve for 100 rounds.\n"
     ]
    },
    {
     "name": "stdout",
     "output_type": "stream",
     "text": [
      "Early stopping, best iteration is:\n[126]\ttraining's l2: 5.42058e-05\tvalid_1's l2: 0.000152879\n----------\n当前移除特征: B14_to_B14_intTarget_0.0_mean, CV score: 0.00006556, 最佳cv score: 0.00006470, 没效果,保留！！\nfold n°1\nTraining until validation scores don't improve for 100 rounds.\n"
     ]
    },
    {
     "name": "stdout",
     "output_type": "stream",
     "text": [
      "Early stopping, best iteration is:\n[115]\ttraining's l2: 5.87449e-05\tvalid_1's l2: 0.00014024\nfold n°2\nTraining until validation scores don't improve for 100 rounds.\n"
     ]
    },
    {
     "name": "stdout",
     "output_type": "stream",
     "text": [
      "Early stopping, best iteration is:\n[185]\ttraining's l2: 4.08974e-05\tvalid_1's l2: 0.000148429\nfold n°3\nTraining until validation scores don't improve for 100 rounds.\n"
     ]
    },
    {
     "name": "stdout",
     "output_type": "stream",
     "text": [
      "Early stopping, best iteration is:\n[189]\ttraining's l2: 4.37228e-05\tvalid_1's l2: 0.000102484\nfold n°4\nTraining until validation scores don't improve for 100 rounds.\n"
     ]
    },
    {
     "name": "stdout",
     "output_type": "stream",
     "text": [
      "Early stopping, best iteration is:\n[254]\ttraining's l2: 3.57585e-05\tvalid_1's l2: 0.000110122\nfold n°5\nTraining until validation scores don't improve for 100 rounds.\n"
     ]
    },
    {
     "name": "stdout",
     "output_type": "stream",
     "text": [
      "Early stopping, best iteration is:\n[183]\ttraining's l2: 4.164e-05\tvalid_1's l2: 0.000154308\n----------\n当前移除特征: B14_to_B14_intTarget_1.0_mean, CV score: 0.00006556, 最佳cv score: 0.00006470, 没效果,保留！！\nfold n°1\nTraining until validation scores don't improve for 100 rounds.\n"
     ]
    },
    {
     "name": "stdout",
     "output_type": "stream",
     "text": [
      "Early stopping, best iteration is:\n[109]\ttraining's l2: 6.12535e-05\tvalid_1's l2: 0.000140378\nfold n°2\nTraining until validation scores don't improve for 100 rounds.\n"
     ]
    },
    {
     "name": "stdout",
     "output_type": "stream",
     "text": [
      "Early stopping, best iteration is:\n[378]\ttraining's l2: 2.47895e-05\tvalid_1's l2: 0.000147047\nfold n°3\nTraining until validation scores don't improve for 100 rounds.\n"
     ]
    },
    {
     "name": "stdout",
     "output_type": "stream",
     "text": [
      "Early stopping, best iteration is:\n[193]\ttraining's l2: 4.37343e-05\tvalid_1's l2: 0.000106577\nfold n°4\nTraining until validation scores don't improve for 100 rounds.\n"
     ]
    },
    {
     "name": "stdout",
     "output_type": "stream",
     "text": [
      "Early stopping, best iteration is:\n[232]\ttraining's l2: 3.86178e-05\tvalid_1's l2: 0.000109711\nfold n°5\nTraining until validation scores don't improve for 100 rounds.\n"
     ]
    },
    {
     "name": "stdout",
     "output_type": "stream",
     "text": [
      "Early stopping, best iteration is:\n[137]\ttraining's l2: 5.10971e-05\tvalid_1's l2: 0.000155457\n----------\n当前移除特征: B14_to_B14_intTarget_2.0_mean, CV score: 0.00006592, 最佳cv score: 0.00006470, 没效果,保留！！\nfold n°1\nTraining until validation scores don't improve for 100 rounds.\n"
     ]
    },
    {
     "name": "stdout",
     "output_type": "stream",
     "text": [
      "Early stopping, best iteration is:\n[139]\ttraining's l2: 5.09046e-05\tvalid_1's l2: 0.000140629\nfold n°2\nTraining until validation scores don't improve for 100 rounds.\n"
     ]
    },
    {
     "name": "stdout",
     "output_type": "stream",
     "text": [
      "Early stopping, best iteration is:\n[301]\ttraining's l2: 2.88078e-05\tvalid_1's l2: 0.000142929\nfold n°3\nTraining until validation scores don't improve for 100 rounds.\n"
     ]
    },
    {
     "name": "stdout",
     "output_type": "stream",
     "text": [
      "Early stopping, best iteration is:\n[123]\ttraining's l2: 6.06247e-05\tvalid_1's l2: 0.000107446\nfold n°4\nTraining until validation scores don't improve for 100 rounds.\n"
     ]
    },
    {
     "name": "stdout",
     "output_type": "stream",
     "text": [
      "Early stopping, best iteration is:\n[345]\ttraining's l2: 2.94629e-05\tvalid_1's l2: 0.000107302\nfold n°5\nTraining until validation scores don't improve for 100 rounds.\n"
     ]
    },
    {
     "name": "stdout",
     "output_type": "stream",
     "text": [
      "Early stopping, best iteration is:\n[197]\ttraining's l2: 3.97003e-05\tvalid_1's l2: 0.000150769\n----------\n当前移除特征: B14_to_B14_intTarget_3.0_mean, CV score: 0.00006491, 最佳cv score: 0.00006470, 没效果,保留！！\nfold n°1\nTraining until validation scores don't improve for 100 rounds.\n"
     ]
    },
    {
     "name": "stdout",
     "output_type": "stream",
     "text": [
      "Early stopping, best iteration is:\n[152]\ttraining's l2: 4.69193e-05\tvalid_1's l2: 0.000138913\nfold n°2\nTraining until validation scores don't improve for 100 rounds.\n"
     ]
    },
    {
     "name": "stdout",
     "output_type": "stream",
     "text": [
      "Early stopping, best iteration is:\n[239]\ttraining's l2: 3.41875e-05\tvalid_1's l2: 0.000147587\nfold n°3\nTraining until validation scores don't improve for 100 rounds.\n"
     ]
    },
    {
     "name": "stdout",
     "output_type": "stream",
     "text": [
      "Early stopping, best iteration is:\n[186]\ttraining's l2: 4.5078e-05\tvalid_1's l2: 0.000105126\nfold n°4\nTraining until validation scores don't improve for 100 rounds.\n"
     ]
    },
    {
     "name": "stdout",
     "output_type": "stream",
     "text": [
      "Early stopping, best iteration is:\n[336]\ttraining's l2: 2.93249e-05\tvalid_1's l2: 0.000108404\nfold n°5\nTraining until validation scores don't improve for 100 rounds.\n"
     ]
    },
    {
     "name": "stdout",
     "output_type": "stream",
     "text": [
      "Early stopping, best iteration is:\n[181]\ttraining's l2: 4.22571e-05\tvalid_1's l2: 0.000152173\n----------\n当前移除特征: B14_to_B14_intTarget_4.0_mean, CV score: 0.00006522, 最佳cv score: 0.00006470, 没效果,保留！！\nfold n°1\nTraining until validation scores don't improve for 100 rounds.\n"
     ]
    },
    {
     "name": "stdout",
     "output_type": "stream",
     "text": [
      "Early stopping, best iteration is:\n[141]\ttraining's l2: 5.0975e-05\tvalid_1's l2: 0.000141711\nfold n°2\nTraining until validation scores don't improve for 100 rounds.\n"
     ]
    },
    {
     "name": "stdout",
     "output_type": "stream",
     "text": [
      "Early stopping, best iteration is:\n[221]\ttraining's l2: 3.60187e-05\tvalid_1's l2: 0.000145064\nfold n°3\nTraining until validation scores don't improve for 100 rounds.\n"
     ]
    },
    {
     "name": "stdout",
     "output_type": "stream",
     "text": [
      "Early stopping, best iteration is:\n[183]\ttraining's l2: 4.58146e-05\tvalid_1's l2: 0.000108174\nfold n°4\nTraining until validation scores don't improve for 100 rounds.\n"
     ]
    },
    {
     "name": "stdout",
     "output_type": "stream",
     "text": [
      "Early stopping, best iteration is:\n[334]\ttraining's l2: 2.96084e-05\tvalid_1's l2: 0.000108819\nfold n°5\nTraining until validation scores don't improve for 100 rounds.\n"
     ]
    },
    {
     "name": "stdout",
     "output_type": "stream",
     "text": [
      "Early stopping, best iteration is:\n[212]\ttraining's l2: 3.7913e-05\tvalid_1's l2: 0.000153164\n----------\n当前移除特征: B14_A5_intTarget_0.0_mean, CV score: 0.00006570, 最佳cv score: 0.00006470, 没效果,保留！！\nfold n°1\nTraining until validation scores don't improve for 100 rounds.\n"
     ]
    },
    {
     "name": "stdout",
     "output_type": "stream",
     "text": [
      "Early stopping, best iteration is:\n[139]\ttraining's l2: 5.09243e-05\tvalid_1's l2: 0.000138933\nfold n°2\nTraining until validation scores don't improve for 100 rounds.\n"
     ]
    },
    {
     "name": "stdout",
     "output_type": "stream",
     "text": [
      "Early stopping, best iteration is:\n[251]\ttraining's l2: 3.27017e-05\tvalid_1's l2: 0.000146453\nfold n°3\nTraining until validation scores don't improve for 100 rounds.\n"
     ]
    },
    {
     "name": "stdout",
     "output_type": "stream",
     "text": [
      "Early stopping, best iteration is:\n[219]\ttraining's l2: 3.97498e-05\tvalid_1's l2: 0.000107878\nfold n°4\nTraining until validation scores don't improve for 100 rounds.\n"
     ]
    },
    {
     "name": "stdout",
     "output_type": "stream",
     "text": [
      "Early stopping, best iteration is:\n[310]\ttraining's l2: 3.14771e-05\tvalid_1's l2: 0.000111294\nfold n°5\nTraining until validation scores don't improve for 100 rounds.\n"
     ]
    },
    {
     "name": "stdout",
     "output_type": "stream",
     "text": [
      "Early stopping, best iteration is:\n[138]\ttraining's l2: 5.18224e-05\tvalid_1's l2: 0.000151403\n----------\n当前移除特征: B14_A5_intTarget_1.0_mean, CV score: 0.00006560, 最佳cv score: 0.00006470, 没效果,保留！！\nfold n°1\nTraining until validation scores don't improve for 100 rounds.\n"
     ]
    },
    {
     "name": "stdout",
     "output_type": "stream",
     "text": [
      "Early stopping, best iteration is:\n[153]\ttraining's l2: 4.72361e-05\tvalid_1's l2: 0.000139938\nfold n°2\nTraining until validation scores don't improve for 100 rounds.\n"
     ]
    },
    {
     "name": "stdout",
     "output_type": "stream",
     "text": [
      "Early stopping, best iteration is:\n[283]\ttraining's l2: 2.99396e-05\tvalid_1's l2: 0.000145812\nfold n°3\nTraining until validation scores don't improve for 100 rounds.\n"
     ]
    },
    {
     "name": "stdout",
     "output_type": "stream",
     "text": [
      "Early stopping, best iteration is:\n[193]\ttraining's l2: 4.35763e-05\tvalid_1's l2: 0.000108375\nfold n°4\nTraining until validation scores don't improve for 100 rounds.\n"
     ]
    },
    {
     "name": "stdout",
     "output_type": "stream",
     "text": [
      "Early stopping, best iteration is:\n[377]\ttraining's l2: 2.73217e-05\tvalid_1's l2: 0.00010727\nfold n°5\nTraining until validation scores don't improve for 100 rounds.\n"
     ]
    },
    {
     "name": "stdout",
     "output_type": "stream",
     "text": [
      "Early stopping, best iteration is:\n[186]\ttraining's l2: 4.16439e-05\tvalid_1's l2: 0.000151448\n----------\n当前移除特征: B14_A5_intTarget_2.0_mean, CV score: 0.00006529, 最佳cv score: 0.00006470, 没效果,保留！！\nfold n°1\nTraining until validation scores don't improve for 100 rounds.\n"
     ]
    },
    {
     "name": "stdout",
     "output_type": "stream",
     "text": [
      "Early stopping, best iteration is:\n[119]\ttraining's l2: 5.80655e-05\tvalid_1's l2: 0.000140633\nfold n°2\nTraining until validation scores don't improve for 100 rounds.\n"
     ]
    },
    {
     "name": "stdout",
     "output_type": "stream",
     "text": [
      "Early stopping, best iteration is:\n[242]\ttraining's l2: 3.38672e-05\tvalid_1's l2: 0.000146221\nfold n°3\nTraining until validation scores don't improve for 100 rounds.\n"
     ]
    },
    {
     "name": "stdout",
     "output_type": "stream",
     "text": [
      "Early stopping, best iteration is:\n[196]\ttraining's l2: 4.29306e-05\tvalid_1's l2: 0.00010382\nfold n°4\nTraining until validation scores don't improve for 100 rounds.\n"
     ]
    },
    {
     "name": "stdout",
     "output_type": "stream",
     "text": [
      "Early stopping, best iteration is:\n[294]\ttraining's l2: 3.20255e-05\tvalid_1's l2: 0.000107426\nfold n°5\nTraining until validation scores don't improve for 100 rounds.\n"
     ]
    },
    {
     "name": "stdout",
     "output_type": "stream",
     "text": [
      "Early stopping, best iteration is:\n[124]\ttraining's l2: 5.43108e-05\tvalid_1's l2: 0.000152608\n----------\n当前移除特征: B14_A5_intTarget_3.0_mean, CV score: 0.00006507, 最佳cv score: 0.00006470, 没效果,保留！！\nfold n°1\nTraining until validation scores don't improve for 100 rounds.\n"
     ]
    },
    {
     "name": "stdout",
     "output_type": "stream",
     "text": [
      "Early stopping, best iteration is:\n[112]\ttraining's l2: 5.99388e-05\tvalid_1's l2: 0.000142527\nfold n°2\nTraining until validation scores don't improve for 100 rounds.\n"
     ]
    },
    {
     "name": "stdout",
     "output_type": "stream",
     "text": [
      "Early stopping, best iteration is:\n[258]\ttraining's l2: 3.21518e-05\tvalid_1's l2: 0.000144731\nfold n°3\nTraining until validation scores don't improve for 100 rounds.\n"
     ]
    },
    {
     "name": "stdout",
     "output_type": "stream",
     "text": [
      "Early stopping, best iteration is:\n[152]\ttraining's l2: 5.206e-05\tvalid_1's l2: 0.000103915\nfold n°4\nTraining until validation scores don't improve for 100 rounds.\n"
     ]
    },
    {
     "name": "stdout",
     "output_type": "stream",
     "text": [
      "Early stopping, best iteration is:\n[213]\ttraining's l2: 4.06772e-05\tvalid_1's l2: 0.000108518\nfold n°5\nTraining until validation scores don't improve for 100 rounds.\n"
     ]
    },
    {
     "name": "stdout",
     "output_type": "stream",
     "text": [
      "Early stopping, best iteration is:\n[159]\ttraining's l2: 4.56319e-05\tvalid_1's l2: 0.00015151\n----------\n当前移除特征: B14_A5_intTarget_4.0_mean, CV score: 0.00006512, 最佳cv score: 0.00006470, 没效果,保留！！\nfold n°1\nTraining until validation scores don't improve for 100 rounds.\n"
     ]
    },
    {
     "name": "stdout",
     "output_type": "stream",
     "text": [
      "Early stopping, best iteration is:\n[119]\ttraining's l2: 5.7223e-05\tvalid_1's l2: 0.000139183\nfold n°2\nTraining until validation scores don't improve for 100 rounds.\n"
     ]
    },
    {
     "name": "stdout",
     "output_type": "stream",
     "text": [
      "Early stopping, best iteration is:\n[248]\ttraining's l2: 3.36838e-05\tvalid_1's l2: 0.000146917\nfold n°3\nTraining until validation scores don't improve for 100 rounds.\n"
     ]
    },
    {
     "name": "stdout",
     "output_type": "stream",
     "text": [
      "Early stopping, best iteration is:\n[193]\ttraining's l2: 4.3375e-05\tvalid_1's l2: 0.000107312\nfold n°4\nTraining until validation scores don't improve for 100 rounds.\n"
     ]
    },
    {
     "name": "stdout",
     "output_type": "stream",
     "text": [
      "Early stopping, best iteration is:\n[229]\ttraining's l2: 3.92357e-05\tvalid_1's l2: 0.000111815\nfold n°5\nTraining until validation scores don't improve for 100 rounds.\n"
     ]
    },
    {
     "name": "stdout",
     "output_type": "stream",
     "text": [
      "Early stopping, best iteration is:\n[212]\ttraining's l2: 3.86104e-05\tvalid_1's l2: 0.000150356\n----------\n当前移除特征: B14_A6_intTarget_0.0_mean, CV score: 0.00006556, 最佳cv score: 0.00006470, 没效果,保留！！\nfold n°1\nTraining until validation scores don't improve for 100 rounds.\n"
     ]
    },
    {
     "name": "stdout",
     "output_type": "stream",
     "text": [
      "Early stopping, best iteration is:\n[155]\ttraining's l2: 4.65766e-05\tvalid_1's l2: 0.000141338\nfold n°2\nTraining until validation scores don't improve for 100 rounds.\n"
     ]
    },
    {
     "name": "stdout",
     "output_type": "stream",
     "text": [
      "Early stopping, best iteration is:\n[294]\ttraining's l2: 2.93991e-05\tvalid_1's l2: 0.000145691\nfold n°3\nTraining until validation scores don't improve for 100 rounds.\n"
     ]
    },
    {
     "name": "stdout",
     "output_type": "stream",
     "text": [
      "Early stopping, best iteration is:\n[220]\ttraining's l2: 4.03854e-05\tvalid_1's l2: 0.00010709\nfold n°4\nTraining until validation scores don't improve for 100 rounds.\n"
     ]
    },
    {
     "name": "stdout",
     "output_type": "stream",
     "text": [
      "Early stopping, best iteration is:\n[181]\ttraining's l2: 4.60783e-05\tvalid_1's l2: 0.000109481\nfold n°5\nTraining until validation scores don't improve for 100 rounds.\n"
     ]
    },
    {
     "name": "stdout",
     "output_type": "stream",
     "text": [
      "Early stopping, best iteration is:\n[172]\ttraining's l2: 4.37365e-05\tvalid_1's l2: 0.000152958\n----------\n当前移除特征: B14_A6_intTarget_1.0_mean, CV score: 0.00006566, 最佳cv score: 0.00006470, 没效果,保留！！\nfold n°1\nTraining until validation scores don't improve for 100 rounds.\n"
     ]
    },
    {
     "name": "stdout",
     "output_type": "stream",
     "text": [
      "Early stopping, best iteration is:\n[156]\ttraining's l2: 4.68714e-05\tvalid_1's l2: 0.000141255\nfold n°2\nTraining until validation scores don't improve for 100 rounds.\n"
     ]
    },
    {
     "name": "stdout",
     "output_type": "stream",
     "text": [
      "Early stopping, best iteration is:\n[241]\ttraining's l2: 3.37779e-05\tvalid_1's l2: 0.000146746\nfold n°3\nTraining until validation scores don't improve for 100 rounds.\n"
     ]
    },
    {
     "name": "stdout",
     "output_type": "stream",
     "text": [
      "Early stopping, best iteration is:\n[207]\ttraining's l2: 4.183e-05\tvalid_1's l2: 0.00010526\nfold n°4\nTraining until validation scores don't improve for 100 rounds.\n"
     ]
    },
    {
     "name": "stdout",
     "output_type": "stream",
     "text": [
      "Early stopping, best iteration is:\n[404]\ttraining's l2: 2.60579e-05\tvalid_1's l2: 0.000107381\nfold n°5\nTraining until validation scores don't improve for 100 rounds.\n"
     ]
    },
    {
     "name": "stdout",
     "output_type": "stream",
     "text": [
      "Early stopping, best iteration is:\n[116]\ttraining's l2: 5.75917e-05\tvalid_1's l2: 0.000154464\n----------\n当前移除特征: B14_A6_intTarget_2.0_mean, CV score: 0.00006551, 最佳cv score: 0.00006470, 没效果,保留！！\nfold n°1\nTraining until validation scores don't improve for 100 rounds.\n"
     ]
    },
    {
     "name": "stdout",
     "output_type": "stream",
     "text": [
      "Early stopping, best iteration is:\n[135]\ttraining's l2: 5.21115e-05\tvalid_1's l2: 0.00013782\nfold n°2\nTraining until validation scores don't improve for 100 rounds.\n"
     ]
    },
    {
     "name": "stdout",
     "output_type": "stream",
     "text": [
      "Early stopping, best iteration is:\n[248]\ttraining's l2: 3.3472e-05\tvalid_1's l2: 0.00014535\nfold n°3\nTraining until validation scores don't improve for 100 rounds.\n"
     ]
    },
    {
     "name": "stdout",
     "output_type": "stream",
     "text": [
      "Early stopping, best iteration is:\n[158]\ttraining's l2: 5.07828e-05\tvalid_1's l2: 0.000108378\nfold n°4\nTraining until validation scores don't improve for 100 rounds.\n"
     ]
    },
    {
     "name": "stdout",
     "output_type": "stream",
     "text": [
      "Early stopping, best iteration is:\n[232]\ttraining's l2: 3.78795e-05\tvalid_1's l2: 0.00010676\nfold n°5\nTraining until validation scores don't improve for 100 rounds.\n"
     ]
    },
    {
     "name": "stdout",
     "output_type": "stream",
     "text": [
      "Early stopping, best iteration is:\n[130]\ttraining's l2: 5.39317e-05\tvalid_1's l2: 0.000153934\n----------\n当前移除特征: B14_A6_intTarget_3.0_mean, CV score: 0.00006523, 最佳cv score: 0.00006470, 没效果,保留！！\nfold n°1\nTraining until validation scores don't improve for 100 rounds.\n"
     ]
    },
    {
     "name": "stdout",
     "output_type": "stream",
     "text": [
      "Early stopping, best iteration is:\n[156]\ttraining's l2: 4.62008e-05\tvalid_1's l2: 0.000138737\nfold n°2\nTraining until validation scores don't improve for 100 rounds.\n"
     ]
    },
    {
     "name": "stdout",
     "output_type": "stream",
     "text": [
      "Early stopping, best iteration is:\n[467]\ttraining's l2: 2.13611e-05\tvalid_1's l2: 0.000147832\nfold n°3\nTraining until validation scores don't improve for 100 rounds.\n"
     ]
    },
    {
     "name": "stdout",
     "output_type": "stream",
     "text": [
      "Early stopping, best iteration is:\n[160]\ttraining's l2: 5.08397e-05\tvalid_1's l2: 0.000106681\nfold n°4\nTraining until validation scores don't improve for 100 rounds.\n"
     ]
    },
    {
     "name": "stdout",
     "output_type": "stream",
     "text": [
      "Early stopping, best iteration is:\n[297]\ttraining's l2: 3.22156e-05\tvalid_1's l2: 0.000109658\nfold n°5\nTraining until validation scores don't improve for 100 rounds.\n"
     ]
    },
    {
     "name": "stdout",
     "output_type": "stream",
     "text": [
      "Early stopping, best iteration is:\n[143]\ttraining's l2: 5.06924e-05\tvalid_1's l2: 0.000153994\n----------\n当前移除特征: B14_A6_intTarget_4.0_mean, CV score: 0.00006569, 最佳cv score: 0.00006470, 没效果,保留！！\nfold n°1\nTraining until validation scores don't improve for 100 rounds.\n"
     ]
    },
    {
     "name": "stdout",
     "output_type": "stream",
     "text": [
      "Early stopping, best iteration is:\n[157]\ttraining's l2: 4.67439e-05\tvalid_1's l2: 0.000139343\nfold n°2\nTraining until validation scores don't improve for 100 rounds.\n"
     ]
    },
    {
     "name": "stdout",
     "output_type": "stream",
     "text": [
      "Early stopping, best iteration is:\n[375]\ttraining's l2: 2.46545e-05\tvalid_1's l2: 0.000147345\nfold n°3\nTraining until validation scores don't improve for 100 rounds.\n"
     ]
    },
    {
     "name": "stdout",
     "output_type": "stream",
     "text": [
      "Early stopping, best iteration is:\n[182]\ttraining's l2: 4.53634e-05\tvalid_1's l2: 0.000107233\nfold n°4\nTraining until validation scores don't improve for 100 rounds.\n"
     ]
    },
    {
     "name": "stdout",
     "output_type": "stream",
     "text": [
      "Early stopping, best iteration is:\n[327]\ttraining's l2: 2.99854e-05\tvalid_1's l2: 0.00010552\nfold n°5\nTraining until validation scores don't improve for 100 rounds.\n"
     ]
    },
    {
     "name": "stdout",
     "output_type": "stream",
     "text": [
      "Early stopping, best iteration is:\n[185]\ttraining's l2: 4.18733e-05\tvalid_1's l2: 0.000151519\n----------\n当前移除特征: B14_A7_intTarget_0.0_mean, CV score: 0.00006510, 最佳cv score: 0.00006470, 没效果,保留！！\nfold n°1\nTraining until validation scores don't improve for 100 rounds.\n"
     ]
    },
    {
     "name": "stdout",
     "output_type": "stream",
     "text": [
      "Early stopping, best iteration is:\n[126]\ttraining's l2: 5.44406e-05\tvalid_1's l2: 0.000139711\nfold n°2\nTraining until validation scores don't improve for 100 rounds.\n"
     ]
    },
    {
     "name": "stdout",
     "output_type": "stream",
     "text": [
      "Early stopping, best iteration is:\n[266]\ttraining's l2: 3.12472e-05\tvalid_1's l2: 0.000146746\nfold n°3\nTraining until validation scores don't improve for 100 rounds.\n"
     ]
    },
    {
     "name": "stdout",
     "output_type": "stream",
     "text": [
      "Early stopping, best iteration is:\n[217]\ttraining's l2: 3.99641e-05\tvalid_1's l2: 0.000108181\nfold n°4\nTraining until validation scores don't improve for 100 rounds.\n"
     ]
    },
    {
     "name": "stdout",
     "output_type": "stream",
     "text": [
      "Early stopping, best iteration is:\n[488]\ttraining's l2: 2.32086e-05\tvalid_1's l2: 0.000108496\nfold n°5\nTraining until validation scores don't improve for 100 rounds.\n"
     ]
    },
    {
     "name": "stdout",
     "output_type": "stream",
     "text": [
      "Early stopping, best iteration is:\n[114]\ttraining's l2: 5.75925e-05\tvalid_1's l2: 0.000153469\n----------\n当前移除特征: B14_A7_intTarget_1.0_mean, CV score: 0.00006566, 最佳cv score: 0.00006470, 没效果,保留！！\nfold n°1\nTraining until validation scores don't improve for 100 rounds.\n"
     ]
    },
    {
     "name": "stdout",
     "output_type": "stream",
     "text": [
      "Early stopping, best iteration is:\n[187]\ttraining's l2: 4.04297e-05\tvalid_1's l2: 0.000139966\nfold n°2\nTraining until validation scores don't improve for 100 rounds.\n"
     ]
    },
    {
     "name": "stdout",
     "output_type": "stream",
     "text": [
      "Early stopping, best iteration is:\n[237]\ttraining's l2: 3.45578e-05\tvalid_1's l2: 0.000147394\nfold n°3\nTraining until validation scores don't improve for 100 rounds.\n"
     ]
    },
    {
     "name": "stdout",
     "output_type": "stream",
     "text": [
      "Early stopping, best iteration is:\n[194]\ttraining's l2: 4.29416e-05\tvalid_1's l2: 0.000105561\nfold n°4\nTraining until validation scores don't improve for 100 rounds.\n"
     ]
    },
    {
     "name": "stdout",
     "output_type": "stream",
     "text": [
      "Early stopping, best iteration is:\n[328]\ttraining's l2: 3.02561e-05\tvalid_1's l2: 0.000107253\nfold n°5\nTraining until validation scores don't improve for 100 rounds.\n"
     ]
    },
    {
     "name": "stdout",
     "output_type": "stream",
     "text": [
      "Early stopping, best iteration is:\n[177]\ttraining's l2: 4.29751e-05\tvalid_1's l2: 0.000153268\n----------\n当前移除特征: B14_A7_intTarget_2.0_mean, CV score: 0.00006535, 最佳cv score: 0.00006470, 没效果,保留！！\nfold n°1\nTraining until validation scores don't improve for 100 rounds.\n"
     ]
    },
    {
     "name": "stdout",
     "output_type": "stream",
     "text": [
      "Early stopping, best iteration is:\n[133]\ttraining's l2: 5.27407e-05\tvalid_1's l2: 0.000138251\nfold n°2\nTraining until validation scores don't improve for 100 rounds.\n"
     ]
    },
    {
     "name": "stdout",
     "output_type": "stream",
     "text": [
      "Early stopping, best iteration is:\n[362]\ttraining's l2: 2.52339e-05\tvalid_1's l2: 0.000144057\nfold n°3\nTraining until validation scores don't improve for 100 rounds.\n"
     ]
    },
    {
     "name": "stdout",
     "output_type": "stream",
     "text": [
      "Early stopping, best iteration is:\n[167]\ttraining's l2: 4.87223e-05\tvalid_1's l2: 0.000107351\nfold n°4\nTraining until validation scores don't improve for 100 rounds.\n"
     ]
    },
    {
     "name": "stdout",
     "output_type": "stream",
     "text": [
      "Early stopping, best iteration is:\n[179]\ttraining's l2: 4.61606e-05\tvalid_1's l2: 0.000109886\nfold n°5\nTraining until validation scores don't improve for 100 rounds.\n"
     ]
    },
    {
     "name": "stdout",
     "output_type": "stream",
     "text": [
      "Early stopping, best iteration is:\n[172]\ttraining's l2: 4.36177e-05\tvalid_1's l2: 0.00015243\n----------\n当前移除特征: B14_A7_intTarget_3.0_mean, CV score: 0.00006520, 最佳cv score: 0.00006470, 没效果,保留！！\nfold n°1\nTraining until validation scores don't improve for 100 rounds.\n"
     ]
    },
    {
     "name": "stdout",
     "output_type": "stream",
     "text": [
      "Early stopping, best iteration is:\n[136]\ttraining's l2: 5.23755e-05\tvalid_1's l2: 0.000138394\nfold n°2\nTraining until validation scores don't improve for 100 rounds.\n"
     ]
    },
    {
     "name": "stdout",
     "output_type": "stream",
     "text": [
      "Early stopping, best iteration is:\n[213]\ttraining's l2: 3.73735e-05\tvalid_1's l2: 0.000146031\nfold n°3\nTraining until validation scores don't improve for 100 rounds.\n"
     ]
    },
    {
     "name": "stdout",
     "output_type": "stream",
     "text": [
      "Early stopping, best iteration is:\n[169]\ttraining's l2: 4.8197e-05\tvalid_1's l2: 0.000106766\nfold n°4\nTraining until validation scores don't improve for 100 rounds.\n"
     ]
    },
    {
     "name": "stdout",
     "output_type": "stream",
     "text": [
      "Early stopping, best iteration is:\n[204]\ttraining's l2: 4.22657e-05\tvalid_1's l2: 0.000111519\nfold n°5\nTraining until validation scores don't improve for 100 rounds.\n"
     ]
    },
    {
     "name": "stdout",
     "output_type": "stream",
     "text": [
      "Early stopping, best iteration is:\n[170]\ttraining's l2: 4.38968e-05\tvalid_1's l2: 0.000150644\n----------\n当前移除特征: B14_A7_intTarget_4.0_mean, CV score: 0.00006534, 最佳cv score: 0.00006470, 没效果,保留！！\nfold n°1\nTraining until validation scores don't improve for 100 rounds.\n"
     ]
    },
    {
     "name": "stdout",
     "output_type": "stream",
     "text": [
      "Early stopping, best iteration is:\n[138]\ttraining's l2: 5.01851e-05\tvalid_1's l2: 0.000140464\nfold n°2\nTraining until validation scores don't improve for 100 rounds.\n"
     ]
    },
    {
     "name": "stdout",
     "output_type": "stream",
     "text": [
      "Early stopping, best iteration is:\n[259]\ttraining's l2: 3.18355e-05\tvalid_1's l2: 0.000145801\nfold n°3\nTraining until validation scores don't improve for 100 rounds.\n"
     ]
    },
    {
     "name": "stdout",
     "output_type": "stream",
     "text": [
      "Early stopping, best iteration is:\n[215]\ttraining's l2: 4.03501e-05\tvalid_1's l2: 0.000104545\nfold n°4\nTraining until validation scores don't improve for 100 rounds.\n"
     ]
    },
    {
     "name": "stdout",
     "output_type": "stream",
     "text": [
      "Early stopping, best iteration is:\n[380]\ttraining's l2: 2.72142e-05\tvalid_1's l2: 0.000111882\nfold n°5\nTraining until validation scores don't improve for 100 rounds.\n"
     ]
    },
    {
     "name": "stdout",
     "output_type": "stream",
     "text": [
      "Early stopping, best iteration is:\n[125]\ttraining's l2: 5.45742e-05\tvalid_1's l2: 0.000153784\n----------\n当前移除特征: B14_A8_intTarget_0.0_mean, CV score: 0.00006565, 最佳cv score: 0.00006470, 没效果,保留！！\nfold n°1\nTraining until validation scores don't improve for 100 rounds.\n"
     ]
    },
    {
     "name": "stdout",
     "output_type": "stream",
     "text": [
      "Early stopping, best iteration is:\n[117]\ttraining's l2: 5.78007e-05\tvalid_1's l2: 0.000137177\nfold n°2\nTraining until validation scores don't improve for 100 rounds.\n"
     ]
    },
    {
     "name": "stdout",
     "output_type": "stream",
     "text": [
      "Early stopping, best iteration is:\n[298]\ttraining's l2: 2.90396e-05\tvalid_1's l2: 0.000146143\nfold n°3\nTraining until validation scores don't improve for 100 rounds.\n"
     ]
    },
    {
     "name": "stdout",
     "output_type": "stream",
     "text": [
      "Early stopping, best iteration is:\n[190]\ttraining's l2: 4.40809e-05\tvalid_1's l2: 0.000105933\nfold n°4\nTraining until validation scores don't improve for 100 rounds.\n"
     ]
    },
    {
     "name": "stdout",
     "output_type": "stream",
     "text": [
      "Early stopping, best iteration is:\n[250]\ttraining's l2: 3.5996e-05\tvalid_1's l2: 0.000110109\nfold n°5\nTraining until validation scores don't improve for 100 rounds.\n"
     ]
    },
    {
     "name": "stdout",
     "output_type": "stream",
     "text": [
      "Early stopping, best iteration is:\n[211]\ttraining's l2: 3.78862e-05\tvalid_1's l2: 0.000153704\n----------\n当前移除特征: B14_A8_intTarget_1.0_mean, CV score: 0.00006531, 最佳cv score: 0.00006470, 没效果,保留！！\nfold n°1\nTraining until validation scores don't improve for 100 rounds.\n"
     ]
    },
    {
     "name": "stdout",
     "output_type": "stream",
     "text": [
      "Early stopping, best iteration is:\n[141]\ttraining's l2: 5.07165e-05\tvalid_1's l2: 0.000140203\nfold n°2\nTraining until validation scores don't improve for 100 rounds.\n"
     ]
    },
    {
     "name": "stdout",
     "output_type": "stream",
     "text": [
      "Early stopping, best iteration is:\n[267]\ttraining's l2: 3.14489e-05\tvalid_1's l2: 0.000147753\nfold n°3\nTraining until validation scores don't improve for 100 rounds.\n"
     ]
    },
    {
     "name": "stdout",
     "output_type": "stream",
     "text": [
      "Early stopping, best iteration is:\n[195]\ttraining's l2: 4.32489e-05\tvalid_1's l2: 0.000108353\nfold n°4\nTraining until validation scores don't improve for 100 rounds.\n"
     ]
    },
    {
     "name": "stdout",
     "output_type": "stream",
     "text": [
      "Early stopping, best iteration is:\n[254]\ttraining's l2: 3.57045e-05\tvalid_1's l2: 0.000110299\nfold n°5\nTraining until validation scores don't improve for 100 rounds.\n"
     ]
    },
    {
     "name": "stdout",
     "output_type": "stream",
     "text": [
      "Early stopping, best iteration is:\n[134]\ttraining's l2: 5.24857e-05\tvalid_1's l2: 0.000155355\n----------\n当前移除特征: B14_A8_intTarget_2.0_mean, CV score: 0.00006620, 最佳cv score: 0.00006470, 没效果,保留！！\nfold n°1\nTraining until validation scores don't improve for 100 rounds.\n"
     ]
    },
    {
     "name": "stdout",
     "output_type": "stream",
     "text": [
      "Early stopping, best iteration is:\n[139]\ttraining's l2: 5.09857e-05\tvalid_1's l2: 0.000138634\nfold n°2\nTraining until validation scores don't improve for 100 rounds.\n"
     ]
    },
    {
     "name": "stdout",
     "output_type": "stream",
     "text": [
      "Early stopping, best iteration is:\n[216]\ttraining's l2: 3.6586e-05\tvalid_1's l2: 0.000147448\nfold n°3\nTraining until validation scores don't improve for 100 rounds.\n"
     ]
    },
    {
     "name": "stdout",
     "output_type": "stream",
     "text": [
      "Early stopping, best iteration is:\n[168]\ttraining's l2: 4.83243e-05\tvalid_1's l2: 0.000103646\nfold n°4\nTraining until validation scores don't improve for 100 rounds.\n"
     ]
    },
    {
     "name": "stdout",
     "output_type": "stream",
     "text": [
      "Early stopping, best iteration is:\n[373]\ttraining's l2: 2.742e-05\tvalid_1's l2: 0.000106607\nfold n°5\nTraining until validation scores don't improve for 100 rounds.\n"
     ]
    },
    {
     "name": "stdout",
     "output_type": "stream",
     "text": [
      "Early stopping, best iteration is:\n[95]\ttraining's l2: 6.59538e-05\tvalid_1's l2: 0.000152367\n----------\n当前移除特征: B14_A8_intTarget_3.0_mean, CV score: 0.00006487, 最佳cv score: 0.00006470, 没效果,保留！！\nfold n°1\nTraining until validation scores don't improve for 100 rounds.\n"
     ]
    },
    {
     "name": "stdout",
     "output_type": "stream",
     "text": [
      "Early stopping, best iteration is:\n[158]\ttraining's l2: 4.64069e-05\tvalid_1's l2: 0.000139098\nfold n°2\nTraining until validation scores don't improve for 100 rounds.\n"
     ]
    },
    {
     "name": "stdout",
     "output_type": "stream",
     "text": [
      "Early stopping, best iteration is:\n[244]\ttraining's l2: 3.36196e-05\tvalid_1's l2: 0.000148381\nfold n°3\nTraining until validation scores don't improve for 100 rounds.\n"
     ]
    },
    {
     "name": "stdout",
     "output_type": "stream",
     "text": [
      "Early stopping, best iteration is:\n[207]\ttraining's l2: 4.14357e-05\tvalid_1's l2: 0.000105575\nfold n°4\nTraining until validation scores don't improve for 100 rounds.\n"
     ]
    },
    {
     "name": "stdout",
     "output_type": "stream",
     "text": [
      "Early stopping, best iteration is:\n[320]\ttraining's l2: 3.05648e-05\tvalid_1's l2: 0.000108371\nfold n°5\nTraining until validation scores don't improve for 100 rounds.\n"
     ]
    },
    {
     "name": "stdout",
     "output_type": "stream",
     "text": [
      "Early stopping, best iteration is:\n[325]\ttraining's l2: 2.83202e-05\tvalid_1's l2: 0.000153836\n----------\n当前移除特征: B14_A8_intTarget_4.0_mean, CV score: 0.00006553, 最佳cv score: 0.00006470, 没效果,保留！！\nfold n°1\nTraining until validation scores don't improve for 100 rounds.\n"
     ]
    },
    {
     "name": "stdout",
     "output_type": "stream",
     "text": [
      "Early stopping, best iteration is:\n[155]\ttraining's l2: 4.72543e-05\tvalid_1's l2: 0.000137836\nfold n°2\nTraining until validation scores don't improve for 100 rounds.\n"
     ]
    },
    {
     "name": "stdout",
     "output_type": "stream",
     "text": [
      "Early stopping, best iteration is:\n[247]\ttraining's l2: 3.34248e-05\tvalid_1's l2: 0.000145754\nfold n°3\nTraining until validation scores don't improve for 100 rounds.\n"
     ]
    },
    {
     "name": "stdout",
     "output_type": "stream",
     "text": [
      "Early stopping, best iteration is:\n[225]\ttraining's l2: 3.94899e-05\tvalid_1's l2: 0.000106233\nfold n°4\nTraining until validation scores don't improve for 100 rounds.\n"
     ]
    },
    {
     "name": "stdout",
     "output_type": "stream",
     "text": [
      "Early stopping, best iteration is:\n[402]\ttraining's l2: 2.60866e-05\tvalid_1's l2: 0.000108064\nfold n°5\nTraining until validation scores don't improve for 100 rounds.\n"
     ]
    },
    {
     "name": "stdout",
     "output_type": "stream",
     "text": [
      "Early stopping, best iteration is:\n[173]\ttraining's l2: 4.35909e-05\tvalid_1's l2: 0.000152131\n----------\n当前移除特征: B14_A9_intTarget_0.0_mean, CV score: 0.00006500, 最佳cv score: 0.00006470, 没效果,保留！！\nfold n°1\nTraining until validation scores don't improve for 100 rounds.\n"
     ]
    },
    {
     "name": "stdout",
     "output_type": "stream",
     "text": [
      "Early stopping, best iteration is:\n[117]\ttraining's l2: 5.73745e-05\tvalid_1's l2: 0.00013983\nfold n°2\nTraining until validation scores don't improve for 100 rounds.\n"
     ]
    },
    {
     "name": "stdout",
     "output_type": "stream",
     "text": [
      "Early stopping, best iteration is:\n[231]\ttraining's l2: 3.46848e-05\tvalid_1's l2: 0.000144713\nfold n°3\nTraining until validation scores don't improve for 100 rounds.\n"
     ]
    },
    {
     "name": "stdout",
     "output_type": "stream",
     "text": [
      "Early stopping, best iteration is:\n[170]\ttraining's l2: 4.73309e-05\tvalid_1's l2: 0.000109912\nfold n°4\nTraining until validation scores don't improve for 100 rounds.\n"
     ]
    },
    {
     "name": "stdout",
     "output_type": "stream",
     "text": [
      "Early stopping, best iteration is:\n[198]\ttraining's l2: 4.31047e-05\tvalid_1's l2: 0.000109725\nfold n°5\nTraining until validation scores don't improve for 100 rounds.\n"
     ]
    },
    {
     "name": "stdout",
     "output_type": "stream",
     "text": [
      "Early stopping, best iteration is:\n[178]\ttraining's l2: 4.30472e-05\tvalid_1's l2: 0.000152758\n----------\n当前移除特征: B14_A9_intTarget_1.0_mean, CV score: 0.00006570, 最佳cv score: 0.00006470, 没效果,保留！！\nfold n°1\nTraining until validation scores don't improve for 100 rounds.\n"
     ]
    },
    {
     "name": "stdout",
     "output_type": "stream",
     "text": [
      "Early stopping, best iteration is:\n[159]\ttraining's l2: 4.51505e-05\tvalid_1's l2: 0.000139887\nfold n°2\nTraining until validation scores don't improve for 100 rounds.\n"
     ]
    },
    {
     "name": "stdout",
     "output_type": "stream",
     "text": [
      "Early stopping, best iteration is:\n[227]\ttraining's l2: 3.54316e-05\tvalid_1's l2: 0.000146272\nfold n°3\nTraining until validation scores don't improve for 100 rounds.\n"
     ]
    },
    {
     "name": "stdout",
     "output_type": "stream",
     "text": [
      "Early stopping, best iteration is:\n[168]\ttraining's l2: 4.86905e-05\tvalid_1's l2: 0.00010627\nfold n°4\nTraining until validation scores don't improve for 100 rounds.\n"
     ]
    },
    {
     "name": "stdout",
     "output_type": "stream",
     "text": [
      "Early stopping, best iteration is:\n[438]\ttraining's l2: 2.46556e-05\tvalid_1's l2: 0.000108003\nfold n°5\nTraining until validation scores don't improve for 100 rounds.\n"
     ]
    },
    {
     "name": "stdout",
     "output_type": "stream",
     "text": [
      "Early stopping, best iteration is:\n[181]\ttraining's l2: 4.20428e-05\tvalid_1's l2: 0.000153006\n----------\n当前移除特征: B14_A9_intTarget_2.0_mean, CV score: 0.00006535, 最佳cv score: 0.00006470, 没效果,保留！！\nfold n°1\nTraining until validation scores don't improve for 100 rounds.\n"
     ]
    },
    {
     "name": "stdout",
     "output_type": "stream",
     "text": [
      "Early stopping, best iteration is:\n[156]\ttraining's l2: 4.60487e-05\tvalid_1's l2: 0.000139825\nfold n°2\nTraining until validation scores don't improve for 100 rounds.\n"
     ]
    },
    {
     "name": "stdout",
     "output_type": "stream",
     "text": [
      "Early stopping, best iteration is:\n[273]\ttraining's l2: 3.07483e-05\tvalid_1's l2: 0.000144156\nfold n°3\nTraining until validation scores don't improve for 100 rounds.\n"
     ]
    },
    {
     "name": "stdout",
     "output_type": "stream",
     "text": [
      "Early stopping, best iteration is:\n[190]\ttraining's l2: 4.46507e-05\tvalid_1's l2: 0.000109245\nfold n°4\nTraining until validation scores don't improve for 100 rounds.\n"
     ]
    },
    {
     "name": "stdout",
     "output_type": "stream",
     "text": [
      "Early stopping, best iteration is:\n[208]\ttraining's l2: 4.17764e-05\tvalid_1's l2: 0.000109848\nfold n°5\nTraining until validation scores don't improve for 100 rounds.\n"
     ]
    },
    {
     "name": "stdout",
     "output_type": "stream",
     "text": [
      "Early stopping, best iteration is:\n[95]\ttraining's l2: 6.64476e-05\tvalid_1's l2: 0.000154298\n----------\n当前移除特征: B14_A9_intTarget_3.0_mean, CV score: 0.00006574, 最佳cv score: 0.00006470, 没效果,保留！！\nfold n°1\nTraining until validation scores don't improve for 100 rounds.\n"
     ]
    },
    {
     "name": "stdout",
     "output_type": "stream",
     "text": [
      "Early stopping, best iteration is:\n[139]\ttraining's l2: 5.04526e-05\tvalid_1's l2: 0.000140115\nfold n°2\nTraining until validation scores don't improve for 100 rounds.\n"
     ]
    },
    {
     "name": "stdout",
     "output_type": "stream",
     "text": [
      "Early stopping, best iteration is:\n[278]\ttraining's l2: 3.04891e-05\tvalid_1's l2: 0.000147219\nfold n°3\nTraining until validation scores don't improve for 100 rounds.\n"
     ]
    },
    {
     "name": "stdout",
     "output_type": "stream",
     "text": [
      "Early stopping, best iteration is:\n[195]\ttraining's l2: 4.32651e-05\tvalid_1's l2: 0.000107745\nfold n°4\nTraining until validation scores don't improve for 100 rounds.\n"
     ]
    },
    {
     "name": "stdout",
     "output_type": "stream",
     "text": [
      "Early stopping, best iteration is:\n[267]\ttraining's l2: 3.46765e-05\tvalid_1's l2: 0.000110093\nfold n°5\nTraining until validation scores don't improve for 100 rounds.\n"
     ]
    },
    {
     "name": "stdout",
     "output_type": "stream",
     "text": [
      "Early stopping, best iteration is:\n[312]\ttraining's l2: 2.89095e-05\tvalid_1's l2: 0.000152384\n----------\n当前移除特征: B14_A9_intTarget_4.0_mean, CV score: 0.00006576, 最佳cv score: 0.00006470, 没效果,保留！！\nfold n°1\nTraining until validation scores don't improve for 100 rounds.\n"
     ]
    },
    {
     "name": "stdout",
     "output_type": "stream",
     "text": [
      "Early stopping, best iteration is:\n[139]\ttraining's l2: 5.0778e-05\tvalid_1's l2: 0.000139781\nfold n°2\nTraining until validation scores don't improve for 100 rounds.\n"
     ]
    },
    {
     "name": "stdout",
     "output_type": "stream",
     "text": [
      "Early stopping, best iteration is:\n[283]\ttraining's l2: 3.014e-05\tvalid_1's l2: 0.000146201\nfold n°3\nTraining until validation scores don't improve for 100 rounds.\n"
     ]
    },
    {
     "name": "stdout",
     "output_type": "stream",
     "text": [
      "Early stopping, best iteration is:\n[217]\ttraining's l2: 4.06027e-05\tvalid_1's l2: 0.000102319\nfold n°4\nTraining until validation scores don't improve for 100 rounds.\n"
     ]
    },
    {
     "name": "stdout",
     "output_type": "stream",
     "text": [
      "Early stopping, best iteration is:\n[384]\ttraining's l2: 2.6986e-05\tvalid_1's l2: 0.000107579\nfold n°5\nTraining until validation scores don't improve for 100 rounds.\n"
     ]
    },
    {
     "name": "stdout",
     "output_type": "stream",
     "text": [
      "Early stopping, best iteration is:\n[141]\ttraining's l2: 4.9951e-05\tvalid_1's l2: 0.000155907\n----------\n当前移除特征: B14_A10_intTarget_0.0_mean, CV score: 0.00006518, 最佳cv score: 0.00006470, 没效果,保留！！\nfold n°1\nTraining until validation scores don't improve for 100 rounds.\n"
     ]
    },
    {
     "name": "stdout",
     "output_type": "stream",
     "text": [
      "Early stopping, best iteration is:\n[141]\ttraining's l2: 5.00262e-05\tvalid_1's l2: 0.000140414\nfold n°2\nTraining until validation scores don't improve for 100 rounds.\n"
     ]
    },
    {
     "name": "stdout",
     "output_type": "stream",
     "text": [
      "Early stopping, best iteration is:\n[346]\ttraining's l2: 2.62619e-05\tvalid_1's l2: 0.000149666\nfold n°3\nTraining until validation scores don't improve for 100 rounds.\n"
     ]
    },
    {
     "name": "stdout",
     "output_type": "stream",
     "text": [
      "Early stopping, best iteration is:\n[224]\ttraining's l2: 3.93067e-05\tvalid_1's l2: 0.000105578\nfold n°4\nTraining until validation scores don't improve for 100 rounds.\n"
     ]
    },
    {
     "name": "stdout",
     "output_type": "stream",
     "text": [
      "Early stopping, best iteration is:\n[185]\ttraining's l2: 4.53262e-05\tvalid_1's l2: 0.000107935\nfold n°5\nTraining until validation scores don't improve for 100 rounds.\n"
     ]
    },
    {
     "name": "stdout",
     "output_type": "stream",
     "text": [
      "Early stopping, best iteration is:\n[138]\ttraining's l2: 5.17014e-05\tvalid_1's l2: 0.000149414\n----------\n当前移除特征: B14_A10_intTarget_1.0_mean, CV score: 0.00006530, 最佳cv score: 0.00006470, 没效果,保留！！\nfold n°1\nTraining until validation scores don't improve for 100 rounds.\n"
     ]
    },
    {
     "name": "stdout",
     "output_type": "stream",
     "text": [
      "Early stopping, best iteration is:\n[147]\ttraining's l2: 4.84358e-05\tvalid_1's l2: 0.000138575\nfold n°2\nTraining until validation scores don't improve for 100 rounds.\n"
     ]
    },
    {
     "name": "stdout",
     "output_type": "stream",
     "text": [
      "Early stopping, best iteration is:\n[278]\ttraining's l2: 3.05139e-05\tvalid_1's l2: 0.000149288\nfold n°3\nTraining until validation scores don't improve for 100 rounds.\n"
     ]
    },
    {
     "name": "stdout",
     "output_type": "stream",
     "text": [
      "Early stopping, best iteration is:\n[180]\ttraining's l2: 4.63769e-05\tvalid_1's l2: 0.000106862\nfold n°4\nTraining until validation scores don't improve for 100 rounds.\n"
     ]
    },
    {
     "name": "stdout",
     "output_type": "stream",
     "text": [
      "Early stopping, best iteration is:\n[343]\ttraining's l2: 2.91392e-05\tvalid_1's l2: 0.000110395\nfold n°5\nTraining until validation scores don't improve for 100 rounds.\n"
     ]
    },
    {
     "name": "stdout",
     "output_type": "stream",
     "text": [
      "Early stopping, best iteration is:\n[169]\ttraining's l2: 4.3744e-05\tvalid_1's l2: 0.000150869\n----------\n当前移除特征: B14_A10_intTarget_2.0_mean, CV score: 0.00006560, 最佳cv score: 0.00006470, 没效果,保留！！\nfold n°1\nTraining until validation scores don't improve for 100 rounds.\n"
     ]
    },
    {
     "name": "stdout",
     "output_type": "stream",
     "text": [
      "Early stopping, best iteration is:\n[110]\ttraining's l2: 6.06666e-05\tvalid_1's l2: 0.000139584\nfold n°2\nTraining until validation scores don't improve for 100 rounds.\n"
     ]
    },
    {
     "name": "stdout",
     "output_type": "stream",
     "text": [
      "Early stopping, best iteration is:\n[287]\ttraining's l2: 3.02827e-05\tvalid_1's l2: 0.000147516\nfold n°3\nTraining until validation scores don't improve for 100 rounds.\n"
     ]
    },
    {
     "name": "stdout",
     "output_type": "stream",
     "text": [
      "Early stopping, best iteration is:\n[196]\ttraining's l2: 4.38587e-05\tvalid_1's l2: 0.000105035\nfold n°4\nTraining until validation scores don't improve for 100 rounds.\n"
     ]
    },
    {
     "name": "stdout",
     "output_type": "stream",
     "text": [
      "Early stopping, best iteration is:\n[231]\ttraining's l2: 3.82052e-05\tvalid_1's l2: 0.000110774\nfold n°5\nTraining until validation scores don't improve for 100 rounds.\n"
     ]
    },
    {
     "name": "stdout",
     "output_type": "stream",
     "text": [
      "Early stopping, best iteration is:\n[177]\ttraining's l2: 4.30896e-05\tvalid_1's l2: 0.000152543\n----------\n当前移除特征: B14_A10_intTarget_3.0_mean, CV score: 0.00006555, 最佳cv score: 0.00006470, 没效果,保留！！\nfold n°1\nTraining until validation scores don't improve for 100 rounds.\n"
     ]
    },
    {
     "name": "stdout",
     "output_type": "stream",
     "text": [
      "Early stopping, best iteration is:\n[156]\ttraining's l2: 4.65246e-05\tvalid_1's l2: 0.000138463\nfold n°2\nTraining until validation scores don't improve for 100 rounds.\n"
     ]
    },
    {
     "name": "stdout",
     "output_type": "stream",
     "text": [
      "Early stopping, best iteration is:\n[249]\ttraining's l2: 3.29065e-05\tvalid_1's l2: 0.000145915\nfold n°3\nTraining until validation scores don't improve for 100 rounds.\n"
     ]
    },
    {
     "name": "stdout",
     "output_type": "stream",
     "text": [
      "Early stopping, best iteration is:\n[194]\ttraining's l2: 4.40166e-05\tvalid_1's l2: 0.000106608\nfold n°4\nTraining until validation scores don't improve for 100 rounds.\n"
     ]
    },
    {
     "name": "stdout",
     "output_type": "stream",
     "text": [
      "Early stopping, best iteration is:\n[300]\ttraining's l2: 3.18439e-05\tvalid_1's l2: 0.000108589\nfold n°5\nTraining until validation scores don't improve for 100 rounds.\n"
     ]
    },
    {
     "name": "stdout",
     "output_type": "stream",
     "text": [
      "Early stopping, best iteration is:\n[139]\ttraining's l2: 5.05385e-05\tvalid_1's l2: 0.000154736\n----------\n当前移除特征: B14_A10_intTarget_4.0_mean, CV score: 0.00006543, 最佳cv score: 0.00006470, 没效果,保留！！\nfold n°1\nTraining until validation scores don't improve for 100 rounds.\n"
     ]
    },
    {
     "name": "stdout",
     "output_type": "stream",
     "text": [
      "Early stopping, best iteration is:\n[141]\ttraining's l2: 5.03538e-05\tvalid_1's l2: 0.000139979\nfold n°2\nTraining until validation scores don't improve for 100 rounds.\n"
     ]
    },
    {
     "name": "stdout",
     "output_type": "stream",
     "text": [
      "Early stopping, best iteration is:\n[292]\ttraining's l2: 2.92729e-05\tvalid_1's l2: 0.000147536\nfold n°3\nTraining until validation scores don't improve for 100 rounds.\n"
     ]
    },
    {
     "name": "stdout",
     "output_type": "stream",
     "text": [
      "Early stopping, best iteration is:\n[174]\ttraining's l2: 4.68606e-05\tvalid_1's l2: 0.000103849\nfold n°4\nTraining until validation scores don't improve for 100 rounds.\n"
     ]
    },
    {
     "name": "stdout",
     "output_type": "stream",
     "text": [
      "Early stopping, best iteration is:\n[329]\ttraining's l2: 2.99766e-05\tvalid_1's l2: 0.000109449\nfold n°5\nTraining until validation scores don't improve for 100 rounds.\n"
     ]
    },
    {
     "name": "stdout",
     "output_type": "stream",
     "text": [
      "Early stopping, best iteration is:\n[132]\ttraining's l2: 5.24171e-05\tvalid_1's l2: 0.000151667\n----------\n当前移除特征: B14_A11_intTarget_0.0_mean, CV score: 0.00006525, 最佳cv score: 0.00006470, 没效果,保留！！\nfold n°1\nTraining until validation scores don't improve for 100 rounds.\n"
     ]
    },
    {
     "name": "stdout",
     "output_type": "stream",
     "text": [
      "Early stopping, best iteration is:\n[154]\ttraining's l2: 4.73006e-05\tvalid_1's l2: 0.000138378\nfold n°2\nTraining until validation scores don't improve for 100 rounds.\n"
     ]
    },
    {
     "name": "stdout",
     "output_type": "stream",
     "text": [
      "Early stopping, best iteration is:\n[302]\ttraining's l2: 2.86546e-05\tvalid_1's l2: 0.000142141\nfold n°3\nTraining until validation scores don't improve for 100 rounds.\n"
     ]
    },
    {
     "name": "stdout",
     "output_type": "stream",
     "text": [
      "Early stopping, best iteration is:\n[169]\ttraining's l2: 4.81334e-05\tvalid_1's l2: 0.00010848\nfold n°4\nTraining until validation scores don't improve for 100 rounds.\n"
     ]
    },
    {
     "name": "stdout",
     "output_type": "stream",
     "text": [
      "Early stopping, best iteration is:\n[265]\ttraining's l2: 3.47669e-05\tvalid_1's l2: 0.00010826\nfold n°5\nTraining until validation scores don't improve for 100 rounds.\n"
     ]
    },
    {
     "name": "stdout",
     "output_type": "stream",
     "text": [
      "Early stopping, best iteration is:\n[178]\ttraining's l2: 4.26713e-05\tvalid_1's l2: 0.000152289\n----------\n当前移除特征: B14_A11_intTarget_1.0_mean, CV score: 0.00006496, 最佳cv score: 0.00006470, 没效果,保留！！\nfold n°1\nTraining until validation scores don't improve for 100 rounds.\n"
     ]
    },
    {
     "name": "stdout",
     "output_type": "stream",
     "text": [
      "Early stopping, best iteration is:\n[152]\ttraining's l2: 4.71569e-05\tvalid_1's l2: 0.000142363\nfold n°2\nTraining until validation scores don't improve for 100 rounds.\n"
     ]
    },
    {
     "name": "stdout",
     "output_type": "stream",
     "text": [
      "Early stopping, best iteration is:\n[226]\ttraining's l2: 3.57485e-05\tvalid_1's l2: 0.000146927\nfold n°3\nTraining until validation scores don't improve for 100 rounds.\n"
     ]
    },
    {
     "name": "stdout",
     "output_type": "stream",
     "text": [
      "Early stopping, best iteration is:\n[194]\ttraining's l2: 4.38405e-05\tvalid_1's l2: 0.000104839\nfold n°4\nTraining until validation scores don't improve for 100 rounds.\n"
     ]
    },
    {
     "name": "stdout",
     "output_type": "stream",
     "text": [
      "Early stopping, best iteration is:\n[246]\ttraining's l2: 3.70342e-05\tvalid_1's l2: 0.000107491\nfold n°5\nTraining until validation scores don't improve for 100 rounds.\n"
     ]
    },
    {
     "name": "stdout",
     "output_type": "stream",
     "text": [
      "Early stopping, best iteration is:\n[162]\ttraining's l2: 4.62129e-05\tvalid_1's l2: 0.000152183\n----------\n当前移除特征: B14_A11_intTarget_2.0_mean, CV score: 0.00006538, 最佳cv score: 0.00006470, 没效果,保留！！\nfold n°1\nTraining until validation scores don't improve for 100 rounds.\n"
     ]
    },
    {
     "name": "stdout",
     "output_type": "stream",
     "text": [
      "Early stopping, best iteration is:\n[156]\ttraining's l2: 4.64486e-05\tvalid_1's l2: 0.000140263\nfold n°2\nTraining until validation scores don't improve for 100 rounds.\n"
     ]
    },
    {
     "name": "stdout",
     "output_type": "stream",
     "text": [
      "Early stopping, best iteration is:\n[282]\ttraining's l2: 3.02464e-05\tvalid_1's l2: 0.000144681\nfold n°3\nTraining until validation scores don't improve for 100 rounds.\n"
     ]
    },
    {
     "name": "stdout",
     "output_type": "stream",
     "text": [
      "Early stopping, best iteration is:\n[193]\ttraining's l2: 4.31422e-05\tvalid_1's l2: 0.000103896\nfold n°4\nTraining until validation scores don't improve for 100 rounds.\n"
     ]
    },
    {
     "name": "stdout",
     "output_type": "stream",
     "text": [
      "Early stopping, best iteration is:\n[324]\ttraining's l2: 3.00591e-05\tvalid_1's l2: 0.000108085\nfold n°5\nTraining until validation scores don't improve for 100 rounds.\n"
     ]
    },
    {
     "name": "stdout",
     "output_type": "stream",
     "text": [
      "Early stopping, best iteration is:\n[179]\ttraining's l2: 4.29953e-05\tvalid_1's l2: 0.000153935\n----------\n当前移除特征: B14_A11_intTarget_3.0_mean, CV score: 0.00006509, 最佳cv score: 0.00006470, 没效果,保留！！\nfold n°1\nTraining until validation scores don't improve for 100 rounds.\n"
     ]
    },
    {
     "name": "stdout",
     "output_type": "stream",
     "text": [
      "Early stopping, best iteration is:\n[141]\ttraining's l2: 5.03102e-05\tvalid_1's l2: 0.000139806\nfold n°2\nTraining until validation scores don't improve for 100 rounds.\n"
     ]
    },
    {
     "name": "stdout",
     "output_type": "stream",
     "text": [
      "Early stopping, best iteration is:\n[350]\ttraining's l2: 2.58376e-05\tvalid_1's l2: 0.000146838\nfold n°3\nTraining until validation scores don't improve for 100 rounds.\n"
     ]
    },
    {
     "name": "stdout",
     "output_type": "stream",
     "text": [
      "Early stopping, best iteration is:\n[194]\ttraining's l2: 4.38256e-05\tvalid_1's l2: 0.000107726\nfold n°4\nTraining until validation scores don't improve for 100 rounds.\n"
     ]
    },
    {
     "name": "stdout",
     "output_type": "stream",
     "text": [
      "Early stopping, best iteration is:\n[424]\ttraining's l2: 2.54355e-05\tvalid_1's l2: 0.000105769\nfold n°5\nTraining until validation scores don't improve for 100 rounds.\n"
     ]
    },
    {
     "name": "stdout",
     "output_type": "stream",
     "text": [
      "Early stopping, best iteration is:\n[172]\ttraining's l2: 4.34745e-05\tvalid_1's l2: 0.000152566\n----------\n当前移除特征: B14_A11_intTarget_4.0_mean, CV score: 0.00006527, 最佳cv score: 0.00006470, 没效果,保留！！\nfold n°1\nTraining until validation scores don't improve for 100 rounds.\n"
     ]
    },
    {
     "name": "stdout",
     "output_type": "stream",
     "text": [
      "Early stopping, best iteration is:\n[122]\ttraining's l2: 5.63926e-05\tvalid_1's l2: 0.000142305\nfold n°2\nTraining until validation scores don't improve for 100 rounds.\n"
     ]
    },
    {
     "name": "stdout",
     "output_type": "stream",
     "text": [
      "Early stopping, best iteration is:\n[241]\ttraining's l2: 3.37266e-05\tvalid_1's l2: 0.000145181\nfold n°3\nTraining until validation scores don't improve for 100 rounds.\n"
     ]
    },
    {
     "name": "stdout",
     "output_type": "stream",
     "text": [
      "Early stopping, best iteration is:\n[221]\ttraining's l2: 3.93136e-05\tvalid_1's l2: 0.000105624\nfold n°4\nTraining until validation scores don't improve for 100 rounds.\n"
     ]
    },
    {
     "name": "stdout",
     "output_type": "stream",
     "text": [
      "Early stopping, best iteration is:\n[351]\ttraining's l2: 2.87664e-05\tvalid_1's l2: 0.000108524\nfold n°5\nTraining until validation scores don't improve for 100 rounds.\n"
     ]
    },
    {
     "name": "stdout",
     "output_type": "stream",
     "text": [
      "Early stopping, best iteration is:\n[189]\ttraining's l2: 4.10828e-05\tvalid_1's l2: 0.000153023\n----------\n当前移除特征: B14_A12_intTarget_0.0_mean, CV score: 0.00006547, 最佳cv score: 0.00006470, 没效果,保留！！\nfold n°1\nTraining until validation scores don't improve for 100 rounds.\n"
     ]
    },
    {
     "name": "stdout",
     "output_type": "stream",
     "text": [
      "Early stopping, best iteration is:\n[157]\ttraining's l2: 4.61698e-05\tvalid_1's l2: 0.000140856\nfold n°2\nTraining until validation scores don't improve for 100 rounds.\n"
     ]
    },
    {
     "name": "stdout",
     "output_type": "stream",
     "text": [
      "Early stopping, best iteration is:\n[299]\ttraining's l2: 2.90211e-05\tvalid_1's l2: 0.000145096\nfold n°3\nTraining until validation scores don't improve for 100 rounds.\n"
     ]
    },
    {
     "name": "stdout",
     "output_type": "stream",
     "text": [
      "Early stopping, best iteration is:\n[182]\ttraining's l2: 4.59762e-05\tvalid_1's l2: 0.000105748\nfold n°4\nTraining until validation scores don't improve for 100 rounds.\n"
     ]
    },
    {
     "name": "stdout",
     "output_type": "stream",
     "text": [
      "Early stopping, best iteration is:\n[191]\ttraining's l2: 4.39934e-05\tvalid_1's l2: 0.000110025\nfold n°5\nTraining until validation scores don't improve for 100 rounds.\n"
     ]
    },
    {
     "name": "stdout",
     "output_type": "stream",
     "text": [
      "Early stopping, best iteration is:\n[180]\ttraining's l2: 4.23924e-05\tvalid_1's l2: 0.000149815\n----------\n当前移除特征: B14_A12_intTarget_1.0_mean, CV score: 0.00006516, 最佳cv score: 0.00006470, 没效果,保留！！\nfold n°1\nTraining until validation scores don't improve for 100 rounds.\n"
     ]
    },
    {
     "name": "stdout",
     "output_type": "stream",
     "text": [
      "Early stopping, best iteration is:\n[139]\ttraining's l2: 5.0771e-05\tvalid_1's l2: 0.000136347\nfold n°2\nTraining until validation scores don't improve for 100 rounds.\n"
     ]
    },
    {
     "name": "stdout",
     "output_type": "stream",
     "text": [
      "Early stopping, best iteration is:\n[220]\ttraining's l2: 3.60876e-05\tvalid_1's l2: 0.000147161\nfold n°3\nTraining until validation scores don't improve for 100 rounds.\n"
     ]
    },
    {
     "name": "stdout",
     "output_type": "stream",
     "text": [
      "Early stopping, best iteration is:\n[196]\ttraining's l2: 4.34922e-05\tvalid_1's l2: 0.000109471\nfold n°4\nTraining until validation scores don't improve for 100 rounds.\n"
     ]
    },
    {
     "name": "stdout",
     "output_type": "stream",
     "text": [
      "Early stopping, best iteration is:\n[383]\ttraining's l2: 2.68409e-05\tvalid_1's l2: 0.000107907\nfold n°5\nTraining until validation scores don't improve for 100 rounds.\n"
     ]
    },
    {
     "name": "stdout",
     "output_type": "stream",
     "text": [
      "Early stopping, best iteration is:\n[211]\ttraining's l2: 3.79957e-05\tvalid_1's l2: 0.000154305\n----------\n当前移除特征: B14_A12_intTarget_2.0_mean, CV score: 0.00006552, 最佳cv score: 0.00006470, 没效果,保留！！\nfold n°1\nTraining until validation scores don't improve for 100 rounds.\n"
     ]
    },
    {
     "name": "stdout",
     "output_type": "stream",
     "text": [
      "Early stopping, best iteration is:\n[135]\ttraining's l2: 5.1932e-05\tvalid_1's l2: 0.000141606\nfold n°2\nTraining until validation scores don't improve for 100 rounds.\n"
     ]
    },
    {
     "name": "stdout",
     "output_type": "stream",
     "text": [
      "Early stopping, best iteration is:\n[239]\ttraining's l2: 3.40331e-05\tvalid_1's l2: 0.000147466\nfold n°3\nTraining until validation scores don't improve for 100 rounds.\n"
     ]
    },
    {
     "name": "stdout",
     "output_type": "stream",
     "text": [
      "Early stopping, best iteration is:\n[219]\ttraining's l2: 4.04274e-05\tvalid_1's l2: 0.000106645\nfold n°4\nTraining until validation scores don't improve for 100 rounds.\n"
     ]
    },
    {
     "name": "stdout",
     "output_type": "stream",
     "text": [
      "Early stopping, best iteration is:\n[200]\ttraining's l2: 4.28447e-05\tvalid_1's l2: 0.00010952\nfold n°5\nTraining until validation scores don't improve for 100 rounds.\n"
     ]
    },
    {
     "name": "stdout",
     "output_type": "stream",
     "text": [
      "Early stopping, best iteration is:\n[142]\ttraining's l2: 5.02602e-05\tvalid_1's l2: 0.000153723\n----------\n当前移除特征: B14_A12_intTarget_3.0_mean, CV score: 0.00006590, 最佳cv score: 0.00006470, 没效果,保留！！\nfold n°1\nTraining until validation scores don't improve for 100 rounds.\n"
     ]
    },
    {
     "name": "stdout",
     "output_type": "stream",
     "text": [
      "Early stopping, best iteration is:\n[156]\ttraining's l2: 4.62604e-05\tvalid_1's l2: 0.000138531\nfold n°2\nTraining until validation scores don't improve for 100 rounds.\n"
     ]
    },
    {
     "name": "stdout",
     "output_type": "stream",
     "text": [
      "Early stopping, best iteration is:\n[258]\ttraining's l2: 3.23143e-05\tvalid_1's l2: 0.000146744\nfold n°3\nTraining until validation scores don't improve for 100 rounds.\n"
     ]
    },
    {
     "name": "stdout",
     "output_type": "stream",
     "text": [
      "Early stopping, best iteration is:\n[195]\ttraining's l2: 4.32943e-05\tvalid_1's l2: 0.000106192\nfold n°4\nTraining until validation scores don't improve for 100 rounds.\n"
     ]
    },
    {
     "name": "stdout",
     "output_type": "stream",
     "text": [
      "Early stopping, best iteration is:\n[407]\ttraining's l2: 2.61724e-05\tvalid_1's l2: 0.000110726\nfold n°5\nTraining until validation scores don't improve for 100 rounds.\n"
     ]
    },
    {
     "name": "stdout",
     "output_type": "stream",
     "text": [
      "Early stopping, best iteration is:\n[147]\ttraining's l2: 4.89587e-05\tvalid_1's l2: 0.000148019\n----------\n当前移除特征: B14_A12_intTarget_4.0_mean, CV score: 0.00006502, 最佳cv score: 0.00006470, 没效果,保留！！\nfold n°1\nTraining until validation scores don't improve for 100 rounds.\n"
     ]
    },
    {
     "name": "stdout",
     "output_type": "stream",
     "text": [
      "Early stopping, best iteration is:\n[111]\ttraining's l2: 6.01949e-05\tvalid_1's l2: 0.000139651\nfold n°2\nTraining until validation scores don't improve for 100 rounds.\n"
     ]
    },
    {
     "name": "stdout",
     "output_type": "stream",
     "text": [
      "Early stopping, best iteration is:\n[257]\ttraining's l2: 3.19125e-05\tvalid_1's l2: 0.000149162\nfold n°3\nTraining until validation scores don't improve for 100 rounds.\n"
     ]
    },
    {
     "name": "stdout",
     "output_type": "stream",
     "text": [
      "Early stopping, best iteration is:\n[212]\ttraining's l2: 4.11631e-05\tvalid_1's l2: 0.000107135\nfold n°4\nTraining until validation scores don't improve for 100 rounds.\n"
     ]
    },
    {
     "name": "stdout",
     "output_type": "stream",
     "text": [
      "Early stopping, best iteration is:\n[183]\ttraining's l2: 4.53776e-05\tvalid_1's l2: 0.000108988\nfold n°5\nTraining until validation scores don't improve for 100 rounds.\n"
     ]
    },
    {
     "name": "stdout",
     "output_type": "stream",
     "text": [
      "Early stopping, best iteration is:\n[180]\ttraining's l2: 4.21871e-05\tvalid_1's l2: 0.000154172\n----------\n当前移除特征: B14_A14_intTarget_0.0_mean, CV score: 0.00006591, 最佳cv score: 0.00006470, 没效果,保留！！\nfold n°1\nTraining until validation scores don't improve for 100 rounds.\n"
     ]
    },
    {
     "name": "stdout",
     "output_type": "stream",
     "text": [
      "Early stopping, best iteration is:\n[141]\ttraining's l2: 5.02628e-05\tvalid_1's l2: 0.000140229\nfold n°2\nTraining until validation scores don't improve for 100 rounds.\n"
     ]
    },
    {
     "name": "stdout",
     "output_type": "stream",
     "text": [
      "Early stopping, best iteration is:\n[220]\ttraining's l2: 3.5797e-05\tvalid_1's l2: 0.000145253\nfold n°3\nTraining until validation scores don't improve for 100 rounds.\n"
     ]
    },
    {
     "name": "stdout",
     "output_type": "stream",
     "text": [
      "Early stopping, best iteration is:\n[182]\ttraining's l2: 4.56731e-05\tvalid_1's l2: 0.000107754\nfold n°4\nTraining until validation scores don't improve for 100 rounds.\n"
     ]
    },
    {
     "name": "stdout",
     "output_type": "stream",
     "text": [
      "Early stopping, best iteration is:\n[254]\ttraining's l2: 3.56625e-05\tvalid_1's l2: 0.000107524\nfold n°5\nTraining until validation scores don't improve for 100 rounds.\n"
     ]
    },
    {
     "name": "stdout",
     "output_type": "stream",
     "text": [
      "Early stopping, best iteration is:\n[116]\ttraining's l2: 5.76516e-05\tvalid_1's l2: 0.00015229\n----------\n当前移除特征: B14_A14_intTarget_1.0_mean, CV score: 0.00006531, 最佳cv score: 0.00006470, 没效果,保留！！\nfold n°1\nTraining until validation scores don't improve for 100 rounds.\n"
     ]
    },
    {
     "name": "stdout",
     "output_type": "stream",
     "text": [
      "Early stopping, best iteration is:\n[177]\ttraining's l2: 4.19361e-05\tvalid_1's l2: 0.000139899\nfold n°2\nTraining until validation scores don't improve for 100 rounds.\n"
     ]
    },
    {
     "name": "stdout",
     "output_type": "stream",
     "text": [
      "Early stopping, best iteration is:\n[273]\ttraining's l2: 3.04761e-05\tvalid_1's l2: 0.000141691\nfold n°3\nTraining until validation scores don't improve for 100 rounds.\n"
     ]
    },
    {
     "name": "stdout",
     "output_type": "stream",
     "text": [
      "Early stopping, best iteration is:\n[208]\ttraining's l2: 4.14236e-05\tvalid_1's l2: 0.000104619\nfold n°4\nTraining until validation scores don't improve for 100 rounds.\n"
     ]
    },
    {
     "name": "stdout",
     "output_type": "stream",
     "text": [
      "Early stopping, best iteration is:\n[374]\ttraining's l2: 2.71886e-05\tvalid_1's l2: 0.000108892\nfold n°5\nTraining until validation scores don't improve for 100 rounds.\n"
     ]
    },
    {
     "name": "stdout",
     "output_type": "stream",
     "text": [
      "Early stopping, best iteration is:\n[133]\ttraining's l2: 5.27138e-05\tvalid_1's l2: 0.000150809\n----------\n当前移除特征: B14_A14_intTarget_2.0_mean, CV score: 0.00006459, 最佳cv score: 0.00006470, 有效果,删除！！\nfold n°1\nTraining until validation scores don't improve for 100 rounds.\n"
     ]
    },
    {
     "name": "stdout",
     "output_type": "stream",
     "text": [
      "Early stopping, best iteration is:\n[139]\ttraining's l2: 5.06639e-05\tvalid_1's l2: 0.000139701\nfold n°2\nTraining until validation scores don't improve for 100 rounds.\n"
     ]
    },
    {
     "name": "stdout",
     "output_type": "stream",
     "text": [
      "Early stopping, best iteration is:\n[220]\ttraining's l2: 3.59811e-05\tvalid_1's l2: 0.000147754\nfold n°3\nTraining until validation scores don't improve for 100 rounds.\n"
     ]
    },
    {
     "name": "stdout",
     "output_type": "stream",
     "text": [
      "Early stopping, best iteration is:\n[181]\ttraining's l2: 4.61436e-05\tvalid_1's l2: 0.000108304\nfold n°4\nTraining until validation scores don't improve for 100 rounds.\n"
     ]
    },
    {
     "name": "stdout",
     "output_type": "stream",
     "text": [
      "Early stopping, best iteration is:\n[334]\ttraining's l2: 2.95001e-05\tvalid_1's l2: 0.000108897\nfold n°5\nTraining until validation scores don't improve for 100 rounds.\n"
     ]
    },
    {
     "name": "stdout",
     "output_type": "stream",
     "text": [
      "Early stopping, best iteration is:\n[125]\ttraining's l2: 5.44729e-05\tvalid_1's l2: 0.000155462\n----------\n当前移除特征: B14_A14_intTarget_3.0_mean, CV score: 0.00006601, 最佳cv score: 0.00006459, 没效果,保留！！\nfold n°1\nTraining until validation scores don't improve for 100 rounds.\n"
     ]
    },
    {
     "name": "stdout",
     "output_type": "stream",
     "text": [
      "Early stopping, best iteration is:\n[139]\ttraining's l2: 5.00403e-05\tvalid_1's l2: 0.000137151\nfold n°2\nTraining until validation scores don't improve for 100 rounds.\n"
     ]
    },
    {
     "name": "stdout",
     "output_type": "stream",
     "text": [
      "Early stopping, best iteration is:\n[243]\ttraining's l2: 3.36125e-05\tvalid_1's l2: 0.000147166\nfold n°3\nTraining until validation scores don't improve for 100 rounds.\n"
     ]
    },
    {
     "name": "stdout",
     "output_type": "stream",
     "text": [
      "Early stopping, best iteration is:\n[198]\ttraining's l2: 4.26518e-05\tvalid_1's l2: 0.000108424\nfold n°4\nTraining until validation scores don't improve for 100 rounds.\n"
     ]
    },
    {
     "name": "stdout",
     "output_type": "stream",
     "text": [
      "Early stopping, best iteration is:\n[296]\ttraining's l2: 3.19906e-05\tvalid_1's l2: 0.000108219\nfold n°5\nTraining until validation scores don't improve for 100 rounds.\n"
     ]
    },
    {
     "name": "stdout",
     "output_type": "stream",
     "text": [
      "Early stopping, best iteration is:\n[180]\ttraining's l2: 4.28157e-05\tvalid_1's l2: 0.00015368\n----------\n当前移除特征: B14_A14_intTarget_4.0_mean, CV score: 0.00006547, 最佳cv score: 0.00006459, 没效果,保留！！\nfold n°1\nTraining until validation scores don't improve for 100 rounds.\n"
     ]
    },
    {
     "name": "stdout",
     "output_type": "stream",
     "text": [
      "Early stopping, best iteration is:\n[141]\ttraining's l2: 5.05931e-05\tvalid_1's l2: 0.000136609\nfold n°2\nTraining until validation scores don't improve for 100 rounds.\n"
     ]
    },
    {
     "name": "stdout",
     "output_type": "stream",
     "text": [
      "Early stopping, best iteration is:\n[241]\ttraining's l2: 3.37611e-05\tvalid_1's l2: 0.000146325\nfold n°3\nTraining until validation scores don't improve for 100 rounds.\n"
     ]
    },
    {
     "name": "stdout",
     "output_type": "stream",
     "text": [
      "Early stopping, best iteration is:\n[195]\ttraining's l2: 4.3438e-05\tvalid_1's l2: 0.000108505\nfold n°4\nTraining until validation scores don't improve for 100 rounds.\n"
     ]
    },
    {
     "name": "stdout",
     "output_type": "stream",
     "text": [
      "Early stopping, best iteration is:\n[227]\ttraining's l2: 3.92422e-05\tvalid_1's l2: 0.000111029\nfold n°5\nTraining until validation scores don't improve for 100 rounds.\n"
     ]
    },
    {
     "name": "stdout",
     "output_type": "stream",
     "text": [
      "Early stopping, best iteration is:\n[140]\ttraining's l2: 5.05099e-05\tvalid_1's l2: 0.000154236\n----------\n当前移除特征: B14_A15_intTarget_0.0_mean, CV score: 0.00006567, 最佳cv score: 0.00006459, 没效果,保留！！\nfold n°1\nTraining until validation scores don't improve for 100 rounds.\n"
     ]
    },
    {
     "name": "stdout",
     "output_type": "stream",
     "text": [
      "Early stopping, best iteration is:\n[139]\ttraining's l2: 5.1301e-05\tvalid_1's l2: 0.000138973\nfold n°2\nTraining until validation scores don't improve for 100 rounds.\n"
     ]
    },
    {
     "name": "stdout",
     "output_type": "stream",
     "text": [
      "Early stopping, best iteration is:\n[298]\ttraining's l2: 2.8981e-05\tvalid_1's l2: 0.000146093\nfold n°3\nTraining until validation scores don't improve for 100 rounds.\n"
     ]
    },
    {
     "name": "stdout",
     "output_type": "stream",
     "text": [
      "Early stopping, best iteration is:\n[195]\ttraining's l2: 4.36146e-05\tvalid_1's l2: 0.000105667\nfold n°4\nTraining until validation scores don't improve for 100 rounds.\n"
     ]
    },
    {
     "name": "stdout",
     "output_type": "stream",
     "text": [
      "Early stopping, best iteration is:\n[334]\ttraining's l2: 2.9535e-05\tvalid_1's l2: 0.000109566\nfold n°5\nTraining until validation scores don't improve for 100 rounds.\n"
     ]
    },
    {
     "name": "stdout",
     "output_type": "stream",
     "text": [
      "Early stopping, best iteration is:\n[131]\ttraining's l2: 5.2738e-05\tvalid_1's l2: 0.000151762\n----------\n当前移除特征: B14_A15_intTarget_1.0_mean, CV score: 0.00006521, 最佳cv score: 0.00006459, 没效果,保留！！\nfold n°1\nTraining until validation scores don't improve for 100 rounds.\n"
     ]
    },
    {
     "name": "stdout",
     "output_type": "stream",
     "text": [
      "Early stopping, best iteration is:\n[142]\ttraining's l2: 4.94641e-05\tvalid_1's l2: 0.000139639\nfold n°2\nTraining until validation scores don't improve for 100 rounds.\n"
     ]
    },
    {
     "name": "stdout",
     "output_type": "stream",
     "text": [
      "Early stopping, best iteration is:\n[273]\ttraining's l2: 3.11328e-05\tvalid_1's l2: 0.00014686\nfold n°3\nTraining until validation scores don't improve for 100 rounds.\n"
     ]
    },
    {
     "name": "stdout",
     "output_type": "stream",
     "text": [
      "Early stopping, best iteration is:\n[167]\ttraining's l2: 4.85635e-05\tvalid_1's l2: 0.000105158\nfold n°4\nTraining until validation scores don't improve for 100 rounds.\n"
     ]
    },
    {
     "name": "stdout",
     "output_type": "stream",
     "text": [
      "Early stopping, best iteration is:\n[250]\ttraining's l2: 3.65753e-05\tvalid_1's l2: 0.000109683\nfold n°5\nTraining until validation scores don't improve for 100 rounds.\n"
     ]
    },
    {
     "name": "stdout",
     "output_type": "stream",
     "text": [
      "Early stopping, best iteration is:\n[136]\ttraining's l2: 5.16597e-05\tvalid_1's l2: 0.000152144\n----------\n当前移除特征: B14_A15_intTarget_2.0_mean, CV score: 0.00006535, 最佳cv score: 0.00006459, 没效果,保留！！\nfold n°1\nTraining until validation scores don't improve for 100 rounds.\n"
     ]
    },
    {
     "name": "stdout",
     "output_type": "stream",
     "text": [
      "Early stopping, best iteration is:\n[133]\ttraining's l2: 5.21856e-05\tvalid_1's l2: 0.000139437\nfold n°2\nTraining until validation scores don't improve for 100 rounds.\n"
     ]
    },
    {
     "name": "stdout",
     "output_type": "stream",
     "text": [
      "Early stopping, best iteration is:\n[253]\ttraining's l2: 3.26559e-05\tvalid_1's l2: 0.000148714\nfold n°3\nTraining until validation scores don't improve for 100 rounds.\n"
     ]
    },
    {
     "name": "stdout",
     "output_type": "stream",
     "text": [
      "Early stopping, best iteration is:\n[207]\ttraining's l2: 4.22216e-05\tvalid_1's l2: 0.000106243\nfold n°4\nTraining until validation scores don't improve for 100 rounds.\n"
     ]
    },
    {
     "name": "stdout",
     "output_type": "stream",
     "text": [
      "Early stopping, best iteration is:\n[407]\ttraining's l2: 2.61159e-05\tvalid_1's l2: 0.000110572\nfold n°5\nTraining until validation scores don't improve for 100 rounds.\n"
     ]
    },
    {
     "name": "stdout",
     "output_type": "stream",
     "text": [
      "Early stopping, best iteration is:\n[125]\ttraining's l2: 5.5031e-05\tvalid_1's l2: 0.000153871\n----------\n当前移除特征: B14_A15_intTarget_3.0_mean, CV score: 0.00006589, 最佳cv score: 0.00006459, 没效果,保留！！\nfold n°1\nTraining until validation scores don't improve for 100 rounds.\n"
     ]
    },
    {
     "name": "stdout",
     "output_type": "stream",
     "text": [
      "Early stopping, best iteration is:\n[157]\ttraining's l2: 4.62267e-05\tvalid_1's l2: 0.00013873\nfold n°2\nTraining until validation scores don't improve for 100 rounds.\n"
     ]
    },
    {
     "name": "stdout",
     "output_type": "stream",
     "text": [
      "Early stopping, best iteration is:\n[301]\ttraining's l2: 2.87379e-05\tvalid_1's l2: 0.000146921\nfold n°3\nTraining until validation scores don't improve for 100 rounds.\n"
     ]
    },
    {
     "name": "stdout",
     "output_type": "stream",
     "text": [
      "Early stopping, best iteration is:\n[196]\ttraining's l2: 4.35088e-05\tvalid_1's l2: 0.000106164\nfold n°4\nTraining until validation scores don't improve for 100 rounds.\n"
     ]
    },
    {
     "name": "stdout",
     "output_type": "stream",
     "text": [
      "Early stopping, best iteration is:\n[231]\ttraining's l2: 3.82053e-05\tvalid_1's l2: 0.000108533\nfold n°5\nTraining until validation scores don't improve for 100 rounds.\n"
     ]
    },
    {
     "name": "stdout",
     "output_type": "stream",
     "text": [
      "Early stopping, best iteration is:\n[174]\ttraining's l2: 4.3543e-05\tvalid_1's l2: 0.0001513\n----------\n当前移除特征: B14_A15_intTarget_4.0_mean, CV score: 0.00006517, 最佳cv score: 0.00006459, 没效果,保留！！\nfold n°1\nTraining until validation scores don't improve for 100 rounds.\n"
     ]
    },
    {
     "name": "stdout",
     "output_type": "stream",
     "text": [
      "Early stopping, best iteration is:\n[127]\ttraining's l2: 5.45216e-05\tvalid_1's l2: 0.000143234\nfold n°2\nTraining until validation scores don't improve for 100 rounds.\n"
     ]
    },
    {
     "name": "stdout",
     "output_type": "stream",
     "text": [
      "Early stopping, best iteration is:\n[216]\ttraining's l2: 3.64254e-05\tvalid_1's l2: 0.000144604\nfold n°3\nTraining until validation scores don't improve for 100 rounds.\n"
     ]
    },
    {
     "name": "stdout",
     "output_type": "stream",
     "text": [
      "Early stopping, best iteration is:\n[189]\ttraining's l2: 4.42609e-05\tvalid_1's l2: 0.000105068\nfold n°4\nTraining until validation scores don't improve for 100 rounds.\n"
     ]
    },
    {
     "name": "stdout",
     "output_type": "stream",
     "text": [
      "Early stopping, best iteration is:\n[183]\ttraining's l2: 4.54557e-05\tvalid_1's l2: 0.000107373\nfold n°5\nTraining until validation scores don't improve for 100 rounds.\n"
     ]
    },
    {
     "name": "stdout",
     "output_type": "stream",
     "text": [
      "Early stopping, best iteration is:\n[165]\ttraining's l2: 4.46863e-05\tvalid_1's l2: 0.000152413\n----------\n当前移除特征: B14_A16_intTarget_0.0_mean, CV score: 0.00006527, 最佳cv score: 0.00006459, 没效果,保留！！\nfold n°1\nTraining until validation scores don't improve for 100 rounds.\n"
     ]
    },
    {
     "name": "stdout",
     "output_type": "stream",
     "text": [
      "Early stopping, best iteration is:\n[132]\ttraining's l2: 5.26339e-05\tvalid_1's l2: 0.0001392\nfold n°2\nTraining until validation scores don't improve for 100 rounds.\n"
     ]
    },
    {
     "name": "stdout",
     "output_type": "stream",
     "text": [
      "Early stopping, best iteration is:\n[216]\ttraining's l2: 3.69357e-05\tvalid_1's l2: 0.000147464\nfold n°3\nTraining until validation scores don't improve for 100 rounds.\n"
     ]
    },
    {
     "name": "stdout",
     "output_type": "stream",
     "text": [
      "Early stopping, best iteration is:\n[147]\ttraining's l2: 5.38825e-05\tvalid_1's l2: 0.000106261\nfold n°4\nTraining until validation scores don't improve for 100 rounds.\n"
     ]
    },
    {
     "name": "stdout",
     "output_type": "stream",
     "text": [
      "Early stopping, best iteration is:\n[297]\ttraining's l2: 3.21844e-05\tvalid_1's l2: 0.000108059\nfold n°5\nTraining until validation scores don't improve for 100 rounds.\n"
     ]
    },
    {
     "name": "stdout",
     "output_type": "stream",
     "text": [
      "Early stopping, best iteration is:\n[125]\ttraining's l2: 5.41174e-05\tvalid_1's l2: 0.00015138\n----------\n当前移除特征: B14_A16_intTarget_1.0_mean, CV score: 0.00006524, 最佳cv score: 0.00006459, 没效果,保留！！\nfold n°1\nTraining until validation scores don't improve for 100 rounds.\n"
     ]
    },
    {
     "name": "stdout",
     "output_type": "stream",
     "text": [
      "Early stopping, best iteration is:\n[156]\ttraining's l2: 4.59163e-05\tvalid_1's l2: 0.000144969\nfold n°2\nTraining until validation scores don't improve for 100 rounds.\n"
     ]
    },
    {
     "name": "stdout",
     "output_type": "stream",
     "text": [
      "Early stopping, best iteration is:\n[186]\ttraining's l2: 4.02784e-05\tvalid_1's l2: 0.000146782\nfold n°3\nTraining until validation scores don't improve for 100 rounds.\n"
     ]
    },
    {
     "name": "stdout",
     "output_type": "stream",
     "text": [
      "Early stopping, best iteration is:\n[194]\ttraining's l2: 4.33877e-05\tvalid_1's l2: 0.000106943\nfold n°4\nTraining until validation scores don't improve for 100 rounds.\n"
     ]
    },
    {
     "name": "stdout",
     "output_type": "stream",
     "text": [
      "Early stopping, best iteration is:\n[231]\ttraining's l2: 3.80703e-05\tvalid_1's l2: 0.000109206\nfold n°5\nTraining until validation scores don't improve for 100 rounds.\n"
     ]
    },
    {
     "name": "stdout",
     "output_type": "stream",
     "text": [
      "Early stopping, best iteration is:\n[244]\ttraining's l2: 3.44097e-05\tvalid_1's l2: 0.000151601\n----------\n当前移除特征: B14_A16_intTarget_2.0_mean, CV score: 0.00006595, 最佳cv score: 0.00006459, 没效果,保留！！\nfold n°1\nTraining until validation scores don't improve for 100 rounds.\n"
     ]
    },
    {
     "name": "stdout",
     "output_type": "stream",
     "text": [
      "Early stopping, best iteration is:\n[167]\ttraining's l2: 4.44306e-05\tvalid_1's l2: 0.000139429\nfold n°2\nTraining until validation scores don't improve for 100 rounds.\n"
     ]
    },
    {
     "name": "stdout",
     "output_type": "stream",
     "text": [
      "Early stopping, best iteration is:\n[350]\ttraining's l2: 2.59596e-05\tvalid_1's l2: 0.000143224\nfold n°3\nTraining until validation scores don't improve for 100 rounds.\n"
     ]
    },
    {
     "name": "stdout",
     "output_type": "stream",
     "text": [
      "Early stopping, best iteration is:\n[220]\ttraining's l2: 3.96921e-05\tvalid_1's l2: 0.000105579\nfold n°4\nTraining until validation scores don't improve for 100 rounds.\n"
     ]
    },
    {
     "name": "stdout",
     "output_type": "stream",
     "text": [
      "Early stopping, best iteration is:\n[202]\ttraining's l2: 4.26673e-05\tvalid_1's l2: 0.000109774\nfold n°5\nTraining until validation scores don't improve for 100 rounds.\n"
     ]
    },
    {
     "name": "stdout",
     "output_type": "stream",
     "text": [
      "Early stopping, best iteration is:\n[133]\ttraining's l2: 5.21849e-05\tvalid_1's l2: 0.000152721\n----------\n当前移除特征: B14_A16_intTarget_3.0_mean, CV score: 0.00006508, 最佳cv score: 0.00006459, 没效果,保留！！\nfold n°1\nTraining until validation scores don't improve for 100 rounds.\n"
     ]
    },
    {
     "name": "stdout",
     "output_type": "stream",
     "text": [
      "Early stopping, best iteration is:\n[147]\ttraining's l2: 4.8688e-05\tvalid_1's l2: 0.000138237\nfold n°2\nTraining until validation scores don't improve for 100 rounds.\n"
     ]
    },
    {
     "name": "stdout",
     "output_type": "stream",
     "text": [
      "Early stopping, best iteration is:\n[216]\ttraining's l2: 3.65253e-05\tvalid_1's l2: 0.000146654\nfold n°3\nTraining until validation scores don't improve for 100 rounds.\n"
     ]
    },
    {
     "name": "stdout",
     "output_type": "stream",
     "text": [
      "Early stopping, best iteration is:\n[216]\ttraining's l2: 4.01018e-05\tvalid_1's l2: 0.000106799\nfold n°4\nTraining until validation scores don't improve for 100 rounds.\n"
     ]
    },
    {
     "name": "stdout",
     "output_type": "stream",
     "text": [
      "Early stopping, best iteration is:\n[335]\ttraining's l2: 2.98515e-05\tvalid_1's l2: 0.000107265\nfold n°5\nTraining until validation scores don't improve for 100 rounds.\n"
     ]
    },
    {
     "name": "stdout",
     "output_type": "stream",
     "text": [
      "Early stopping, best iteration is:\n[125]\ttraining's l2: 5.43317e-05\tvalid_1's l2: 0.000151842\n----------\n当前移除特征: B14_A16_intTarget_4.0_mean, CV score: 0.00006508, 最佳cv score: 0.00006459, 没效果,保留！！\nfold n°1\nTraining until validation scores don't improve for 100 rounds.\n"
     ]
    },
    {
     "name": "stdout",
     "output_type": "stream",
     "text": [
      "Early stopping, best iteration is:\n[156]\ttraining's l2: 4.58521e-05\tvalid_1's l2: 0.000138884\nfold n°2\nTraining until validation scores don't improve for 100 rounds.\n"
     ]
    },
    {
     "name": "stdout",
     "output_type": "stream",
     "text": [
      "Early stopping, best iteration is:\n[216]\ttraining's l2: 3.63926e-05\tvalid_1's l2: 0.000146083\nfold n°3\nTraining until validation scores don't improve for 100 rounds.\n"
     ]
    },
    {
     "name": "stdout",
     "output_type": "stream",
     "text": [
      "Early stopping, best iteration is:\n[195]\ttraining's l2: 4.35086e-05\tvalid_1's l2: 0.000107425\nfold n°4\nTraining until validation scores don't improve for 100 rounds.\n"
     ]
    },
    {
     "name": "stdout",
     "output_type": "stream",
     "text": [
      "Early stopping, best iteration is:\n[339]\ttraining's l2: 2.9205e-05\tvalid_1's l2: 0.000108742\nfold n°5\nTraining until validation scores don't improve for 100 rounds.\n"
     ]
    },
    {
     "name": "stdout",
     "output_type": "stream",
     "text": [
      "Early stopping, best iteration is:\n[190]\ttraining's l2: 4.06185e-05\tvalid_1's l2: 0.000153117\n----------\n当前移除特征: B14_A17_intTarget_0.0_mean, CV score: 0.00006543, 最佳cv score: 0.00006459, 没效果,保留！！\nfold n°1\nTraining until validation scores don't improve for 100 rounds.\n"
     ]
    },
    {
     "name": "stdout",
     "output_type": "stream",
     "text": [
      "Early stopping, best iteration is:\n[149]\ttraining's l2: 4.73829e-05\tvalid_1's l2: 0.000140377\nfold n°2\nTraining until validation scores don't improve for 100 rounds.\n"
     ]
    },
    {
     "name": "stdout",
     "output_type": "stream",
     "text": [
      "Early stopping, best iteration is:\n[216]\ttraining's l2: 3.67634e-05\tvalid_1's l2: 0.000148124\nfold n°3\nTraining until validation scores don't improve for 100 rounds.\n"
     ]
    },
    {
     "name": "stdout",
     "output_type": "stream",
     "text": [
      "Early stopping, best iteration is:\n[216]\ttraining's l2: 4.07258e-05\tvalid_1's l2: 0.000108379\nfold n°4\nTraining until validation scores don't improve for 100 rounds.\n"
     ]
    },
    {
     "name": "stdout",
     "output_type": "stream",
     "text": [
      "Early stopping, best iteration is:\n[183]\ttraining's l2: 4.565e-05\tvalid_1's l2: 0.000111379\nfold n°5\nTraining until validation scores don't improve for 100 rounds.\n"
     ]
    },
    {
     "name": "stdout",
     "output_type": "stream",
     "text": [
      "Early stopping, best iteration is:\n[190]\ttraining's l2: 4.09282e-05\tvalid_1's l2: 0.000153802\n----------\n当前移除特征: B14_A17_intTarget_1.0_mean, CV score: 0.00006621, 最佳cv score: 0.00006459, 没效果,保留！！\nfold n°1\nTraining until validation scores don't improve for 100 rounds.\n"
     ]
    },
    {
     "name": "stdout",
     "output_type": "stream",
     "text": [
      "Early stopping, best iteration is:\n[139]\ttraining's l2: 5.06892e-05\tvalid_1's l2: 0.000141084\nfold n°2\nTraining until validation scores don't improve for 100 rounds.\n"
     ]
    },
    {
     "name": "stdout",
     "output_type": "stream",
     "text": [
      "Early stopping, best iteration is:\n[241]\ttraining's l2: 3.41434e-05\tvalid_1's l2: 0.000145858\nfold n°3\nTraining until validation scores don't improve for 100 rounds.\n"
     ]
    },
    {
     "name": "stdout",
     "output_type": "stream",
     "text": [
      "Early stopping, best iteration is:\n[209]\ttraining's l2: 4.17495e-05\tvalid_1's l2: 0.000108059\nfold n°4\nTraining until validation scores don't improve for 100 rounds.\n"
     ]
    },
    {
     "name": "stdout",
     "output_type": "stream",
     "text": [
      "Early stopping, best iteration is:\n[406]\ttraining's l2: 2.59066e-05\tvalid_1's l2: 0.000110867\nfold n°5\nTraining until validation scores don't improve for 100 rounds.\n"
     ]
    },
    {
     "name": "stdout",
     "output_type": "stream",
     "text": [
      "Early stopping, best iteration is:\n[169]\ttraining's l2: 4.49447e-05\tvalid_1's l2: 0.000152227\n----------\n当前移除特征: B14_A17_intTarget_2.0_mean, CV score: 0.00006581, 最佳cv score: 0.00006459, 没效果,保留！！\nfold n°1\nTraining until validation scores don't improve for 100 rounds.\n"
     ]
    },
    {
     "name": "stdout",
     "output_type": "stream",
     "text": [
      "Early stopping, best iteration is:\n[111]\ttraining's l2: 6.08164e-05\tvalid_1's l2: 0.000142153\nfold n°2\nTraining until validation scores don't improve for 100 rounds.\n"
     ]
    },
    {
     "name": "stdout",
     "output_type": "stream",
     "text": [
      "Early stopping, best iteration is:\n[396]\ttraining's l2: 2.39574e-05\tvalid_1's l2: 0.000144636\nfold n°3\nTraining until validation scores don't improve for 100 rounds.\n"
     ]
    },
    {
     "name": "stdout",
     "output_type": "stream",
     "text": [
      "Early stopping, best iteration is:\n[196]\ttraining's l2: 4.36087e-05\tvalid_1's l2: 0.000106173\nfold n°4\nTraining until validation scores don't improve for 100 rounds.\n"
     ]
    },
    {
     "name": "stdout",
     "output_type": "stream",
     "text": [
      "Early stopping, best iteration is:\n[276]\ttraining's l2: 3.36894e-05\tvalid_1's l2: 0.000107798\nfold n°5\nTraining until validation scores don't improve for 100 rounds.\n"
     ]
    },
    {
     "name": "stdout",
     "output_type": "stream",
     "text": [
      "Early stopping, best iteration is:\n[110]\ttraining's l2: 5.91553e-05\tvalid_1's l2: 0.000152326\n----------\n当前移除特征: B14_A17_intTarget_3.0_mean, CV score: 0.00006531, 最佳cv score: 0.00006459, 没效果,保留！！\nfold n°1\nTraining until validation scores don't improve for 100 rounds.\n"
     ]
    },
    {
     "name": "stdout",
     "output_type": "stream",
     "text": [
      "Early stopping, best iteration is:\n[160]\ttraining's l2: 4.55763e-05\tvalid_1's l2: 0.000140717\nfold n°2\nTraining until validation scores don't improve for 100 rounds.\n"
     ]
    },
    {
     "name": "stdout",
     "output_type": "stream",
     "text": [
      "Early stopping, best iteration is:\n[224]\ttraining's l2: 3.56363e-05\tvalid_1's l2: 0.000145293\nfold n°3\nTraining until validation scores don't improve for 100 rounds.\n"
     ]
    },
    {
     "name": "stdout",
     "output_type": "stream",
     "text": [
      "Early stopping, best iteration is:\n[217]\ttraining's l2: 4.07788e-05\tvalid_1's l2: 0.000105201\nfold n°4\nTraining until validation scores don't improve for 100 rounds.\n"
     ]
    },
    {
     "name": "stdout",
     "output_type": "stream",
     "text": [
      "Early stopping, best iteration is:\n[274]\ttraining's l2: 3.43061e-05\tvalid_1's l2: 0.000108762\nfold n°5\nTraining until validation scores don't improve for 100 rounds.\n"
     ]
    },
    {
     "name": "stdout",
     "output_type": "stream",
     "text": [
      "Early stopping, best iteration is:\n[149]\ttraining's l2: 4.82546e-05\tvalid_1's l2: 0.000155163\n----------\n当前移除特征: B14_A17_intTarget_4.0_mean, CV score: 0.00006552, 最佳cv score: 0.00006459, 没效果,保留！！\nfold n°1\nTraining until validation scores don't improve for 100 rounds.\n"
     ]
    },
    {
     "name": "stdout",
     "output_type": "stream",
     "text": [
      "Early stopping, best iteration is:\n[139]\ttraining's l2: 5.09598e-05\tvalid_1's l2: 0.000139661\nfold n°2\nTraining until validation scores don't improve for 100 rounds.\n"
     ]
    },
    {
     "name": "stdout",
     "output_type": "stream",
     "text": [
      "Early stopping, best iteration is:\n[222]\ttraining's l2: 3.58163e-05\tvalid_1's l2: 0.00014609\nfold n°3\nTraining until validation scores don't improve for 100 rounds.\n"
     ]
    },
    {
     "name": "stdout",
     "output_type": "stream",
     "text": [
      "Early stopping, best iteration is:\n[189]\ttraining's l2: 4.4415e-05\tvalid_1's l2: 0.000107996\nfold n°4\nTraining until validation scores don't improve for 100 rounds.\n"
     ]
    },
    {
     "name": "stdout",
     "output_type": "stream",
     "text": [
      "Early stopping, best iteration is:\n[281]\ttraining's l2: 3.32485e-05\tvalid_1's l2: 0.000108869\nfold n°5\nTraining until validation scores don't improve for 100 rounds.\n"
     ]
    },
    {
     "name": "stdout",
     "output_type": "stream",
     "text": [
      "Early stopping, best iteration is:\n[114]\ttraining's l2: 5.82031e-05\tvalid_1's l2: 0.000155976\n----------\n当前移除特征: B14_A19_intTarget_0.0_mean, CV score: 0.00006586, 最佳cv score: 0.00006459, 没效果,保留！！\nfold n°1\nTraining until validation scores don't improve for 100 rounds.\n"
     ]
    },
    {
     "name": "stdout",
     "output_type": "stream",
     "text": [
      "Early stopping, best iteration is:\n[95]\ttraining's l2: 6.78952e-05\tvalid_1's l2: 0.000141429\nfold n°2\nTraining until validation scores don't improve for 100 rounds.\n"
     ]
    },
    {
     "name": "stdout",
     "output_type": "stream",
     "text": [
      "Early stopping, best iteration is:\n[266]\ttraining's l2: 3.15976e-05\tvalid_1's l2: 0.000146898\nfold n°3\nTraining until validation scores don't improve for 100 rounds.\n"
     ]
    },
    {
     "name": "stdout",
     "output_type": "stream",
     "text": [
      "Early stopping, best iteration is:\n[208]\ttraining's l2: 4.21095e-05\tvalid_1's l2: 0.000108932\nfold n°4\nTraining until validation scores don't improve for 100 rounds.\n"
     ]
    },
    {
     "name": "stdout",
     "output_type": "stream",
     "text": [
      "Early stopping, best iteration is:\n[176]\ttraining's l2: 4.68052e-05\tvalid_1's l2: 0.000110462\nfold n°5\nTraining until validation scores don't improve for 100 rounds.\n"
     ]
    },
    {
     "name": "stdout",
     "output_type": "stream",
     "text": [
      "Early stopping, best iteration is:\n[133]\ttraining's l2: 5.18285e-05\tvalid_1's l2: 0.000154135\n----------\n当前移除特征: B14_A19_intTarget_1.0_mean, CV score: 0.00006619, 最佳cv score: 0.00006459, 没效果,保留！！\nfold n°1\nTraining until validation scores don't improve for 100 rounds.\n"
     ]
    },
    {
     "name": "stdout",
     "output_type": "stream",
     "text": [
      "Early stopping, best iteration is:\n[156]\ttraining's l2: 4.65178e-05\tvalid_1's l2: 0.000141006\nfold n°2\nTraining until validation scores don't improve for 100 rounds.\n"
     ]
    },
    {
     "name": "stdout",
     "output_type": "stream",
     "text": [
      "Early stopping, best iteration is:\n[282]\ttraining's l2: 3.03241e-05\tvalid_1's l2: 0.000145985\nfold n°3\nTraining until validation scores don't improve for 100 rounds.\n"
     ]
    },
    {
     "name": "stdout",
     "output_type": "stream",
     "text": [
      "Early stopping, best iteration is:\n[167]\ttraining's l2: 4.96355e-05\tvalid_1's l2: 0.000105128\nfold n°4\nTraining until validation scores don't improve for 100 rounds.\n"
     ]
    },
    {
     "name": "stdout",
     "output_type": "stream",
     "text": [
      "Early stopping, best iteration is:\n[260]\ttraining's l2: 3.5356e-05\tvalid_1's l2: 0.000109387\nfold n°5\nTraining until validation scores don't improve for 100 rounds.\n"
     ]
    },
    {
     "name": "stdout",
     "output_type": "stream",
     "text": [
      "Early stopping, best iteration is:\n[116]\ttraining's l2: 5.7489e-05\tvalid_1's l2: 0.000151752\n----------\n当前移除特征: B14_A19_intTarget_2.0_mean, CV score: 0.00006533, 最佳cv score: 0.00006459, 没效果,保留！！\nfold n°1\nTraining until validation scores don't improve for 100 rounds.\n"
     ]
    },
    {
     "name": "stdout",
     "output_type": "stream",
     "text": [
      "Early stopping, best iteration is:\n[156]\ttraining's l2: 4.59501e-05\tvalid_1's l2: 0.000141068\nfold n°2\nTraining until validation scores don't improve for 100 rounds.\n"
     ]
    },
    {
     "name": "stdout",
     "output_type": "stream",
     "text": [
      "Early stopping, best iteration is:\n[380]\ttraining's l2: 2.43466e-05\tvalid_1's l2: 0.000149355\nfold n°3\nTraining until validation scores don't improve for 100 rounds.\n"
     ]
    },
    {
     "name": "stdout",
     "output_type": "stream",
     "text": [
      "Early stopping, best iteration is:\n[213]\ttraining's l2: 4.06399e-05\tvalid_1's l2: 0.000107183\nfold n°4\nTraining until validation scores don't improve for 100 rounds.\n"
     ]
    },
    {
     "name": "stdout",
     "output_type": "stream",
     "text": [
      "Early stopping, best iteration is:\n[403]\ttraining's l2: 2.6003e-05\tvalid_1's l2: 0.000106361\nfold n°5\nTraining until validation scores don't improve for 100 rounds.\n"
     ]
    },
    {
     "name": "stdout",
     "output_type": "stream",
     "text": [
      "Early stopping, best iteration is:\n[142]\ttraining's l2: 4.92419e-05\tvalid_1's l2: 0.000152247\n----------\n当前移除特征: B14_A19_intTarget_3.0_mean, CV score: 0.00006562, 最佳cv score: 0.00006459, 没效果,保留！！\nfold n°1\nTraining until validation scores don't improve for 100 rounds.\n"
     ]
    },
    {
     "name": "stdout",
     "output_type": "stream",
     "text": [
      "Early stopping, best iteration is:\n[142]\ttraining's l2: 5.07143e-05\tvalid_1's l2: 0.000141676\nfold n°2\nTraining until validation scores don't improve for 100 rounds.\n"
     ]
    },
    {
     "name": "stdout",
     "output_type": "stream",
     "text": [
      "Early stopping, best iteration is:\n[239]\ttraining's l2: 3.40386e-05\tvalid_1's l2: 0.000145686\nfold n°3\nTraining until validation scores don't improve for 100 rounds.\n"
     ]
    },
    {
     "name": "stdout",
     "output_type": "stream",
     "text": [
      "Early stopping, best iteration is:\n[211]\ttraining's l2: 4.1856e-05\tvalid_1's l2: 0.000104301\nfold n°4\nTraining until validation scores don't improve for 100 rounds.\n"
     ]
    },
    {
     "name": "stdout",
     "output_type": "stream",
     "text": [
      "Early stopping, best iteration is:\n[272]\ttraining's l2: 3.37846e-05\tvalid_1's l2: 0.000105897\nfold n°5\nTraining until validation scores don't improve for 100 rounds.\n"
     ]
    },
    {
     "name": "stdout",
     "output_type": "stream",
     "text": [
      "Early stopping, best iteration is:\n[165]\ttraining's l2: 4.49096e-05\tvalid_1's l2: 0.000151419\n----------\n当前移除特征: B14_A19_intTarget_4.0_mean, CV score: 0.00006490, 最佳cv score: 0.00006459, 没效果,保留！！\nfold n°1\nTraining until validation scores don't improve for 100 rounds.\n"
     ]
    },
    {
     "name": "stdout",
     "output_type": "stream",
     "text": [
      "Early stopping, best iteration is:\n[139]\ttraining's l2: 5.08232e-05\tvalid_1's l2: 0.0001391\nfold n°2\nTraining until validation scores don't improve for 100 rounds.\n"
     ]
    },
    {
     "name": "stdout",
     "output_type": "stream",
     "text": [
      "Early stopping, best iteration is:\n[257]\ttraining's l2: 3.24154e-05\tvalid_1's l2: 0.000147821\nfold n°3\nTraining until validation scores don't improve for 100 rounds.\n"
     ]
    },
    {
     "name": "stdout",
     "output_type": "stream",
     "text": [
      "Early stopping, best iteration is:\n[162]\ttraining's l2: 4.99638e-05\tvalid_1's l2: 0.000105111\nfold n°4\nTraining until validation scores don't improve for 100 rounds.\n"
     ]
    },
    {
     "name": "stdout",
     "output_type": "stream",
     "text": [
      "Early stopping, best iteration is:\n[231]\ttraining's l2: 3.82737e-05\tvalid_1's l2: 0.000108394\nfold n°5\nTraining until validation scores don't improve for 100 rounds.\n"
     ]
    },
    {
     "name": "stdout",
     "output_type": "stream",
     "text": [
      "Early stopping, best iteration is:\n[134]\ttraining's l2: 5.13196e-05\tvalid_1's l2: 0.000153181\n----------\n当前移除特征: B14_A20_intTarget_0.0_mean, CV score: 0.00006536, 最佳cv score: 0.00006459, 没效果,保留！！\nfold n°1\nTraining until validation scores don't improve for 100 rounds.\n"
     ]
    },
    {
     "name": "stdout",
     "output_type": "stream",
     "text": [
      "Early stopping, best iteration is:\n[150]\ttraining's l2: 4.80752e-05\tvalid_1's l2: 0.000138744\nfold n°2\nTraining until validation scores don't improve for 100 rounds.\n"
     ]
    },
    {
     "name": "stdout",
     "output_type": "stream",
     "text": [
      "Early stopping, best iteration is:\n[278]\ttraining's l2: 3.06031e-05\tvalid_1's l2: 0.000151452\nfold n°3\nTraining until validation scores don't improve for 100 rounds.\n"
     ]
    },
    {
     "name": "stdout",
     "output_type": "stream",
     "text": [
      "Early stopping, best iteration is:\n[231]\ttraining's l2: 3.82166e-05\tvalid_1's l2: 0.000108497\nfold n°4\nTraining until validation scores don't improve for 100 rounds.\n"
     ]
    },
    {
     "name": "stdout",
     "output_type": "stream",
     "text": [
      "Early stopping, best iteration is:\n[297]\ttraining's l2: 3.20894e-05\tvalid_1's l2: 0.000113698\nfold n°5\nTraining until validation scores don't improve for 100 rounds.\n"
     ]
    },
    {
     "name": "stdout",
     "output_type": "stream",
     "text": [
      "Early stopping, best iteration is:\n[129]\ttraining's l2: 5.36879e-05\tvalid_1's l2: 0.000151487\n----------\n当前移除特征: B14_A20_intTarget_1.0_mean, CV score: 0.00006639, 最佳cv score: 0.00006459, 没效果,保留！！\nfold n°1\nTraining until validation scores don't improve for 100 rounds.\n"
     ]
    },
    {
     "name": "stdout",
     "output_type": "stream",
     "text": [
      "Early stopping, best iteration is:\n[117]\ttraining's l2: 5.84288e-05\tvalid_1's l2: 0.000139809\nfold n°2\nTraining until validation scores don't improve for 100 rounds.\n"
     ]
    },
    {
     "name": "stdout",
     "output_type": "stream",
     "text": [
      "Early stopping, best iteration is:\n[273]\ttraining's l2: 3.05763e-05\tvalid_1's l2: 0.000146132\nfold n°3\nTraining until validation scores don't improve for 100 rounds.\n"
     ]
    },
    {
     "name": "stdout",
     "output_type": "stream",
     "text": [
      "Early stopping, best iteration is:\n[162]\ttraining's l2: 4.95213e-05\tvalid_1's l2: 0.000105907\nfold n°4\nTraining until validation scores don't improve for 100 rounds.\n"
     ]
    },
    {
     "name": "stdout",
     "output_type": "stream",
     "text": [
      "Early stopping, best iteration is:\n[254]\ttraining's l2: 3.58715e-05\tvalid_1's l2: 0.000109302\nfold n°5\nTraining until validation scores don't improve for 100 rounds.\n"
     ]
    },
    {
     "name": "stdout",
     "output_type": "stream",
     "text": [
      "Early stopping, best iteration is:\n[132]\ttraining's l2: 5.23783e-05\tvalid_1's l2: 0.000150121\n----------\n当前移除特征: B14_A20_intTarget_2.0_mean, CV score: 0.00006513, 最佳cv score: 0.00006459, 没效果,保留！！\nfold n°1\nTraining until validation scores don't improve for 100 rounds.\n"
     ]
    },
    {
     "name": "stdout",
     "output_type": "stream",
     "text": [
      "Early stopping, best iteration is:\n[160]\ttraining's l2: 4.57451e-05\tvalid_1's l2: 0.000141245\nfold n°2\nTraining until validation scores don't improve for 100 rounds.\n"
     ]
    },
    {
     "name": "stdout",
     "output_type": "stream",
     "text": [
      "Early stopping, best iteration is:\n[218]\ttraining's l2: 3.62638e-05\tvalid_1's l2: 0.000146647\nfold n°3\nTraining until validation scores don't improve for 100 rounds.\n"
     ]
    },
    {
     "name": "stdout",
     "output_type": "stream",
     "text": [
      "Early stopping, best iteration is:\n[198]\ttraining's l2: 4.30137e-05\tvalid_1's l2: 0.000105156\nfold n°4\nTraining until validation scores don't improve for 100 rounds.\n"
     ]
    },
    {
     "name": "stdout",
     "output_type": "stream",
     "text": [
      "Early stopping, best iteration is:\n[484]\ttraining's l2: 2.30364e-05\tvalid_1's l2: 0.000109408\nfold n°5\nTraining until validation scores don't improve for 100 rounds.\n"
     ]
    },
    {
     "name": "stdout",
     "output_type": "stream",
     "text": [
      "Early stopping, best iteration is:\n[179]\ttraining's l2: 4.22302e-05\tvalid_1's l2: 0.000152464\n----------\n当前移除特征: B14_A20_intTarget_3.0_mean, CV score: 0.00006550, 最佳cv score: 0.00006459, 没效果,保留！！\nfold n°1\nTraining until validation scores don't improve for 100 rounds.\n"
     ]
    },
    {
     "name": "stdout",
     "output_type": "stream",
     "text": [
      "Early stopping, best iteration is:\n[117]\ttraining's l2: 5.80717e-05\tvalid_1's l2: 0.000140689\nfold n°2\nTraining until validation scores don't improve for 100 rounds.\n"
     ]
    },
    {
     "name": "stdout",
     "output_type": "stream",
     "text": [
      "Early stopping, best iteration is:\n[219]\ttraining's l2: 3.63863e-05\tvalid_1's l2: 0.000147329\nfold n°3\nTraining until validation scores don't improve for 100 rounds.\n"
     ]
    },
    {
     "name": "stdout",
     "output_type": "stream",
     "text": [
      "Early stopping, best iteration is:\n[188]\ttraining's l2: 4.46282e-05\tvalid_1's l2: 0.000106357\nfold n°4\nTraining until validation scores don't improve for 100 rounds.\n"
     ]
    },
    {
     "name": "stdout",
     "output_type": "stream",
     "text": [
      "Early stopping, best iteration is:\n[338]\ttraining's l2: 2.93399e-05\tvalid_1's l2: 0.000109141\nfold n°5\nTraining until validation scores don't improve for 100 rounds.\n"
     ]
    },
    {
     "name": "stdout",
     "output_type": "stream",
     "text": [
      "Early stopping, best iteration is:\n[149]\ttraining's l2: 4.86025e-05\tvalid_1's l2: 0.000153005\n----------\n当前移除特征: B14_A20_intTarget_4.0_mean, CV score: 0.00006566, 最佳cv score: 0.00006459, 没效果,保留！！\nfold n°1\nTraining until validation scores don't improve for 100 rounds.\n"
     ]
    },
    {
     "name": "stdout",
     "output_type": "stream",
     "text": [
      "Early stopping, best iteration is:\n[156]\ttraining's l2: 4.58297e-05\tvalid_1's l2: 0.0001397\nfold n°2\nTraining until validation scores don't improve for 100 rounds.\n"
     ]
    },
    {
     "name": "stdout",
     "output_type": "stream",
     "text": [
      "Early stopping, best iteration is:\n[266]\ttraining's l2: 3.12539e-05\tvalid_1's l2: 0.000148718\nfold n°3\nTraining until validation scores don't improve for 100 rounds.\n"
     ]
    },
    {
     "name": "stdout",
     "output_type": "stream",
     "text": [
      "Early stopping, best iteration is:\n[206]\ttraining's l2: 4.18041e-05\tvalid_1's l2: 0.000106132\nfold n°4\nTraining until validation scores don't improve for 100 rounds.\n"
     ]
    },
    {
     "name": "stdout",
     "output_type": "stream",
     "text": [
      "Early stopping, best iteration is:\n[406]\ttraining's l2: 2.58946e-05\tvalid_1's l2: 0.000109185\nfold n°5\nTraining until validation scores don't improve for 100 rounds.\n"
     ]
    },
    {
     "name": "stdout",
     "output_type": "stream",
     "text": [
      "Early stopping, best iteration is:\n[105]\ttraining's l2: 6.25166e-05\tvalid_1's l2: 0.000153394\n----------\n当前移除特征: B14_A21_intTarget_0.0_mean, CV score: 0.00006572, 最佳cv score: 0.00006459, 没效果,保留！！\nfold n°1\nTraining until validation scores don't improve for 100 rounds.\n"
     ]
    },
    {
     "name": "stdout",
     "output_type": "stream",
     "text": [
      "Early stopping, best iteration is:\n[139]\ttraining's l2: 5.11534e-05\tvalid_1's l2: 0.000139162\nfold n°2\nTraining until validation scores don't improve for 100 rounds.\n"
     ]
    },
    {
     "name": "stdout",
     "output_type": "stream",
     "text": [
      "Early stopping, best iteration is:\n[226]\ttraining's l2: 3.52783e-05\tvalid_1's l2: 0.000146462\nfold n°3\nTraining until validation scores don't improve for 100 rounds.\n"
     ]
    },
    {
     "name": "stdout",
     "output_type": "stream",
     "text": [
      "Early stopping, best iteration is:\n[195]\ttraining's l2: 4.34364e-05\tvalid_1's l2: 0.000109431\nfold n°4\nTraining until validation scores don't improve for 100 rounds.\n"
     ]
    },
    {
     "name": "stdout",
     "output_type": "stream",
     "text": [
      "Early stopping, best iteration is:\n[232]\ttraining's l2: 3.81602e-05\tvalid_1's l2: 0.000107959\nfold n°5\nTraining until validation scores don't improve for 100 rounds.\n"
     ]
    },
    {
     "name": "stdout",
     "output_type": "stream",
     "text": [
      "Early stopping, best iteration is:\n[138]\ttraining's l2: 5.15141e-05\tvalid_1's l2: 0.000151526\n----------\n当前移除特征: B14_A21_intTarget_1.0_mean, CV score: 0.00006546, 最佳cv score: 0.00006459, 没效果,保留！！\nfold n°1\nTraining until validation scores don't improve for 100 rounds.\n"
     ]
    },
    {
     "name": "stdout",
     "output_type": "stream",
     "text": [
      "Early stopping, best iteration is:\n[157]\ttraining's l2: 4.63126e-05\tvalid_1's l2: 0.000142356\nfold n°2\nTraining until validation scores don't improve for 100 rounds.\n"
     ]
    },
    {
     "name": "stdout",
     "output_type": "stream",
     "text": [
      "Early stopping, best iteration is:\n[228]\ttraining's l2: 3.48771e-05\tvalid_1's l2: 0.000148296\nfold n°3\nTraining until validation scores don't improve for 100 rounds.\n"
     ]
    },
    {
     "name": "stdout",
     "output_type": "stream",
     "text": [
      "Early stopping, best iteration is:\n[183]\ttraining's l2: 4.58639e-05\tvalid_1's l2: 0.000105811\nfold n°4\nTraining until validation scores don't improve for 100 rounds.\n"
     ]
    },
    {
     "name": "stdout",
     "output_type": "stream",
     "text": [
      "Early stopping, best iteration is:\n[187]\ttraining's l2: 4.46986e-05\tvalid_1's l2: 0.000110348\nfold n°5\nTraining until validation scores don't improve for 100 rounds.\n"
     ]
    },
    {
     "name": "stdout",
     "output_type": "stream",
     "text": [
      "Early stopping, best iteration is:\n[160]\ttraining's l2: 4.63067e-05\tvalid_1's l2: 0.000150203\n----------\n当前移除特征: B14_A21_intTarget_2.0_mean, CV score: 0.00006571, 最佳cv score: 0.00006459, 没效果,保留！！\nfold n°1\nTraining until validation scores don't improve for 100 rounds.\n"
     ]
    },
    {
     "name": "stdout",
     "output_type": "stream",
     "text": [
      "Early stopping, best iteration is:\n[140]\ttraining's l2: 5.02412e-05\tvalid_1's l2: 0.000138534\nfold n°2\nTraining until validation scores don't improve for 100 rounds.\n"
     ]
    },
    {
     "name": "stdout",
     "output_type": "stream",
     "text": [
      "Early stopping, best iteration is:\n[276]\ttraining's l2: 3.06344e-05\tvalid_1's l2: 0.00014844\nfold n°3\nTraining until validation scores don't improve for 100 rounds.\n"
     ]
    },
    {
     "name": "stdout",
     "output_type": "stream",
     "text": [
      "Early stopping, best iteration is:\n[209]\ttraining's l2: 4.1564e-05\tvalid_1's l2: 0.000106733\nfold n°4\nTraining until validation scores don't improve for 100 rounds.\n"
     ]
    },
    {
     "name": "stdout",
     "output_type": "stream",
     "text": [
      "Early stopping, best iteration is:\n[333]\ttraining's l2: 2.98831e-05\tvalid_1's l2: 0.00010825\nfold n°5\nTraining until validation scores don't improve for 100 rounds.\n"
     ]
    },
    {
     "name": "stdout",
     "output_type": "stream",
     "text": [
      "Early stopping, best iteration is:\n[124]\ttraining's l2: 5.54129e-05\tvalid_1's l2: 0.000151258\n----------\n当前移除特征: B14_A21_intTarget_3.0_mean, CV score: 0.00006532, 最佳cv score: 0.00006459, 没效果,保留！！\nfold n°1\nTraining until validation scores don't improve for 100 rounds.\n"
     ]
    },
    {
     "name": "stdout",
     "output_type": "stream",
     "text": [
      "Early stopping, best iteration is:\n[139]\ttraining's l2: 5.10107e-05\tvalid_1's l2: 0.000140162\nfold n°2\nTraining until validation scores don't improve for 100 rounds.\n"
     ]
    },
    {
     "name": "stdout",
     "output_type": "stream",
     "text": [
      "Early stopping, best iteration is:\n[241]\ttraining's l2: 3.38914e-05\tvalid_1's l2: 0.000148206\nfold n°3\nTraining until validation scores don't improve for 100 rounds.\n"
     ]
    },
    {
     "name": "stdout",
     "output_type": "stream",
     "text": [
      "Early stopping, best iteration is:\n[196]\ttraining's l2: 4.34125e-05\tvalid_1's l2: 0.000104821\nfold n°4\nTraining until validation scores don't improve for 100 rounds.\n"
     ]
    },
    {
     "name": "stdout",
     "output_type": "stream",
     "text": [
      "Early stopping, best iteration is:\n[232]\ttraining's l2: 3.89206e-05\tvalid_1's l2: 0.000109471\nfold n°5\nTraining until validation scores don't improve for 100 rounds.\n"
     ]
    },
    {
     "name": "stdout",
     "output_type": "stream",
     "text": [
      "Early stopping, best iteration is:\n[137]\ttraining's l2: 5.12228e-05\tvalid_1's l2: 0.000153903\n----------\n当前移除特征: B14_A21_intTarget_4.0_mean, CV score: 0.00006566, 最佳cv score: 0.00006459, 没效果,保留！！\nfold n°1\nTraining until validation scores don't improve for 100 rounds.\n"
     ]
    },
    {
     "name": "stdout",
     "output_type": "stream",
     "text": [
      "Early stopping, best iteration is:\n[117]\ttraining's l2: 5.83333e-05\tvalid_1's l2: 0.000140363\nfold n°2\nTraining until validation scores don't improve for 100 rounds.\n"
     ]
    },
    {
     "name": "stdout",
     "output_type": "stream",
     "text": [
      "Early stopping, best iteration is:\n[287]\ttraining's l2: 2.97814e-05\tvalid_1's l2: 0.000150687\nfold n°3\nTraining until validation scores don't improve for 100 rounds.\n"
     ]
    },
    {
     "name": "stdout",
     "output_type": "stream",
     "text": [
      "Early stopping, best iteration is:\n[227]\ttraining's l2: 3.90284e-05\tvalid_1's l2: 0.000105178\nfold n°4\nTraining until validation scores don't improve for 100 rounds.\n"
     ]
    },
    {
     "name": "stdout",
     "output_type": "stream",
     "text": [
      "Early stopping, best iteration is:\n[252]\ttraining's l2: 3.60977e-05\tvalid_1's l2: 0.000109261\nfold n°5\nTraining until validation scores don't improve for 100 rounds.\n"
     ]
    },
    {
     "name": "stdout",
     "output_type": "stream",
     "text": [
      "Early stopping, best iteration is:\n[106]\ttraining's l2: 6.19439e-05\tvalid_1's l2: 0.000155473\n----------\n当前移除特征: B14_A22_intTarget_0.0_mean, CV score: 0.00006610, 最佳cv score: 0.00006459, 没效果,保留！！\nfold n°1\nTraining until validation scores don't improve for 100 rounds.\n"
     ]
    },
    {
     "name": "stdout",
     "output_type": "stream",
     "text": [
      "Early stopping, best iteration is:\n[154]\ttraining's l2: 4.6614e-05\tvalid_1's l2: 0.000137962\nfold n°2\nTraining until validation scores don't improve for 100 rounds.\n"
     ]
    },
    {
     "name": "stdout",
     "output_type": "stream",
     "text": [
      "Early stopping, best iteration is:\n[242]\ttraining's l2: 3.37962e-05\tvalid_1's l2: 0.000145455\nfold n°3\nTraining until validation scores don't improve for 100 rounds.\n"
     ]
    },
    {
     "name": "stdout",
     "output_type": "stream",
     "text": [
      "Early stopping, best iteration is:\n[235]\ttraining's l2: 3.82684e-05\tvalid_1's l2: 0.0001112\nfold n°4\nTraining until validation scores don't improve for 100 rounds.\n"
     ]
    },
    {
     "name": "stdout",
     "output_type": "stream",
     "text": [
      "Early stopping, best iteration is:\n[200]\ttraining's l2: 4.25837e-05\tvalid_1's l2: 0.000111101\nfold n°5\nTraining until validation scores don't improve for 100 rounds.\n"
     ]
    },
    {
     "name": "stdout",
     "output_type": "stream",
     "text": [
      "Early stopping, best iteration is:\n[178]\ttraining's l2: 4.31821e-05\tvalid_1's l2: 0.000151937\n----------\n当前移除特征: B14_A22_intTarget_1.0_mean, CV score: 0.00006577, 最佳cv score: 0.00006459, 没效果,保留！！\nfold n°1\nTraining until validation scores don't improve for 100 rounds.\n"
     ]
    },
    {
     "name": "stdout",
     "output_type": "stream",
     "text": [
      "Early stopping, best iteration is:\n[185]\ttraining's l2: 4.05274e-05\tvalid_1's l2: 0.000138763\nfold n°2\nTraining until validation scores don't improve for 100 rounds.\n"
     ]
    },
    {
     "name": "stdout",
     "output_type": "stream",
     "text": [
      "Early stopping, best iteration is:\n[301]\ttraining's l2: 2.8724e-05\tvalid_1's l2: 0.000145038\nfold n°3\nTraining until validation scores don't improve for 100 rounds.\n"
     ]
    },
    {
     "name": "stdout",
     "output_type": "stream",
     "text": [
      "Early stopping, best iteration is:\n[167]\ttraining's l2: 4.87191e-05\tvalid_1's l2: 0.000106878\nfold n°4\nTraining until validation scores don't improve for 100 rounds.\n"
     ]
    },
    {
     "name": "stdout",
     "output_type": "stream",
     "text": [
      "Early stopping, best iteration is:\n[185]\ttraining's l2: 4.55222e-05\tvalid_1's l2: 0.00011127\nfold n°5\nTraining until validation scores don't improve for 100 rounds.\n"
     ]
    },
    {
     "name": "stdout",
     "output_type": "stream",
     "text": [
      "Early stopping, best iteration is:\n[172]\ttraining's l2: 4.36914e-05\tvalid_1's l2: 0.000154635\n----------\n当前移除特征: B14_A22_intTarget_2.0_mean, CV score: 0.00006566, 最佳cv score: 0.00006459, 没效果,保留！！\nfold n°1\nTraining until validation scores don't improve for 100 rounds.\n"
     ]
    },
    {
     "name": "stdout",
     "output_type": "stream",
     "text": [
      "Early stopping, best iteration is:\n[142]\ttraining's l2: 4.98068e-05\tvalid_1's l2: 0.000137541\nfold n°2\nTraining until validation scores don't improve for 100 rounds.\n"
     ]
    },
    {
     "name": "stdout",
     "output_type": "stream",
     "text": [
      "Early stopping, best iteration is:\n[227]\ttraining's l2: 3.493e-05\tvalid_1's l2: 0.000146409\nfold n°3\nTraining until validation scores don't improve for 100 rounds.\n"
     ]
    },
    {
     "name": "stdout",
     "output_type": "stream",
     "text": [
      "Early stopping, best iteration is:\n[195]\ttraining's l2: 4.35341e-05\tvalid_1's l2: 0.000106374\nfold n°4\nTraining until validation scores don't improve for 100 rounds.\n"
     ]
    },
    {
     "name": "stdout",
     "output_type": "stream",
     "text": [
      "Early stopping, best iteration is:\n[188]\ttraining's l2: 4.4482e-05\tvalid_1's l2: 0.000109073\nfold n°5\nTraining until validation scores don't improve for 100 rounds.\n"
     ]
    },
    {
     "name": "stdout",
     "output_type": "stream",
     "text": [
      "Early stopping, best iteration is:\n[139]\ttraining's l2: 5.11764e-05\tvalid_1's l2: 0.000150881\n----------\n当前移除特征: B14_A22_intTarget_3.0_mean, CV score: 0.00006503, 最佳cv score: 0.00006459, 没效果,保留！！\nfold n°1\nTraining until validation scores don't improve for 100 rounds.\n"
     ]
    },
    {
     "name": "stdout",
     "output_type": "stream",
     "text": [
      "Early stopping, best iteration is:\n[156]\ttraining's l2: 4.62429e-05\tvalid_1's l2: 0.000138358\nfold n°2\nTraining until validation scores don't improve for 100 rounds.\n"
     ]
    },
    {
     "name": "stdout",
     "output_type": "stream",
     "text": [
      "Early stopping, best iteration is:\n[223]\ttraining's l2: 3.55616e-05\tvalid_1's l2: 0.000151939\nfold n°3\nTraining until validation scores don't improve for 100 rounds.\n"
     ]
    },
    {
     "name": "stdout",
     "output_type": "stream",
     "text": [
      "Early stopping, best iteration is:\n[223]\ttraining's l2: 3.91554e-05\tvalid_1's l2: 0.000106175\nfold n°4\nTraining until validation scores don't improve for 100 rounds.\n"
     ]
    },
    {
     "name": "stdout",
     "output_type": "stream",
     "text": [
      "Early stopping, best iteration is:\n[236]\ttraining's l2: 3.77245e-05\tvalid_1's l2: 0.000108202\nfold n°5\nTraining until validation scores don't improve for 100 rounds.\n"
     ]
    },
    {
     "name": "stdout",
     "output_type": "stream",
     "text": [
      "Early stopping, best iteration is:\n[161]\ttraining's l2: 4.57457e-05\tvalid_1's l2: 0.000152026\n----------\n当前移除特征: B14_A22_intTarget_4.0_mean, CV score: 0.00006567, 最佳cv score: 0.00006459, 没效果,保留！！\nfold n°1\nTraining until validation scores don't improve for 100 rounds.\n"
     ]
    },
    {
     "name": "stdout",
     "output_type": "stream",
     "text": [
      "Early stopping, best iteration is:\n[151]\ttraining's l2: 4.86068e-05\tvalid_1's l2: 0.000140791\nfold n°2\nTraining until validation scores don't improve for 100 rounds.\n"
     ]
    },
    {
     "name": "stdout",
     "output_type": "stream",
     "text": [
      "Early stopping, best iteration is:\n[373]\ttraining's l2: 2.48001e-05\tvalid_1's l2: 0.000145881\nfold n°3\nTraining until validation scores don't improve for 100 rounds.\n"
     ]
    },
    {
     "name": "stdout",
     "output_type": "stream",
     "text": [
      "Early stopping, best iteration is:\n[160]\ttraining's l2: 5.04216e-05\tvalid_1's l2: 0.000104497\nfold n°4\nTraining until validation scores don't improve for 100 rounds.\n"
     ]
    },
    {
     "name": "stdout",
     "output_type": "stream",
     "text": [
      "Early stopping, best iteration is:\n[232]\ttraining's l2: 3.84496e-05\tvalid_1's l2: 0.000105749\nfold n°5\nTraining until validation scores don't improve for 100 rounds.\n"
     ]
    },
    {
     "name": "stdout",
     "output_type": "stream",
     "text": [
      "Early stopping, best iteration is:\n[125]\ttraining's l2: 5.53165e-05\tvalid_1's l2: 0.000153504\n----------\n当前移除特征: B14_A24_intTarget_0.0_mean, CV score: 0.00006505, 最佳cv score: 0.00006459, 没效果,保留！！\nfold n°1\nTraining until validation scores don't improve for 100 rounds.\n"
     ]
    },
    {
     "name": "stdout",
     "output_type": "stream",
     "text": [
      "Early stopping, best iteration is:\n[139]\ttraining's l2: 5.05517e-05\tvalid_1's l2: 0.000139616\nfold n°2\nTraining until validation scores don't improve for 100 rounds.\n"
     ]
    },
    {
     "name": "stdout",
     "output_type": "stream",
     "text": [
      "Early stopping, best iteration is:\n[216]\ttraining's l2: 3.63781e-05\tvalid_1's l2: 0.00014561\nfold n°3\nTraining until validation scores don't improve for 100 rounds.\n"
     ]
    },
    {
     "name": "stdout",
     "output_type": "stream",
     "text": [
      "Early stopping, best iteration is:\n[219]\ttraining's l2: 3.96803e-05\tvalid_1's l2: 0.000107679\nfold n°4\nTraining until validation scores don't improve for 100 rounds.\n"
     ]
    },
    {
     "name": "stdout",
     "output_type": "stream",
     "text": [
      "Early stopping, best iteration is:\n[267]\ttraining's l2: 3.47642e-05\tvalid_1's l2: 0.00010666\nfold n°5\nTraining until validation scores don't improve for 100 rounds.\n"
     ]
    },
    {
     "name": "stdout",
     "output_type": "stream",
     "text": [
      "Early stopping, best iteration is:\n[205]\ttraining's l2: 3.87177e-05\tvalid_1's l2: 0.00015197\n----------\n当前移除特征: B14_A24_intTarget_1.0_mean, CV score: 0.00006516, 最佳cv score: 0.00006459, 没效果,保留！！\nfold n°1\nTraining until validation scores don't improve for 100 rounds.\n"
     ]
    },
    {
     "name": "stdout",
     "output_type": "stream",
     "text": [
      "Early stopping, best iteration is:\n[141]\ttraining's l2: 5.0344e-05\tvalid_1's l2: 0.00013891\nfold n°2\nTraining until validation scores don't improve for 100 rounds.\n"
     ]
    },
    {
     "name": "stdout",
     "output_type": "stream",
     "text": [
      "Early stopping, best iteration is:\n[287]\ttraining's l2: 2.95476e-05\tvalid_1's l2: 0.000145202\nfold n°3\nTraining until validation scores don't improve for 100 rounds.\n"
     ]
    },
    {
     "name": "stdout",
     "output_type": "stream",
     "text": [
      "Early stopping, best iteration is:\n[184]\ttraining's l2: 4.51156e-05\tvalid_1's l2: 0.00010854\nfold n°4\nTraining until validation scores don't improve for 100 rounds.\n"
     ]
    },
    {
     "name": "stdout",
     "output_type": "stream",
     "text": [
      "Early stopping, best iteration is:\n[336]\ttraining's l2: 2.92349e-05\tvalid_1's l2: 0.000107566\nfold n°5\nTraining until validation scores don't improve for 100 rounds.\n"
     ]
    },
    {
     "name": "stdout",
     "output_type": "stream",
     "text": [
      "Early stopping, best iteration is:\n[208]\ttraining's l2: 3.80249e-05\tvalid_1's l2: 0.000153158\n----------\n当前移除特征: B14_A24_intTarget_2.0_mean, CV score: 0.00006534, 最佳cv score: 0.00006459, 没效果,保留！！\nfold n°1\nTraining until validation scores don't improve for 100 rounds.\n"
     ]
    },
    {
     "name": "stdout",
     "output_type": "stream",
     "text": [
      "Early stopping, best iteration is:\n[121]\ttraining's l2: 5.74176e-05\tvalid_1's l2: 0.00014051\nfold n°2\nTraining until validation scores don't improve for 100 rounds.\n"
     ]
    },
    {
     "name": "stdout",
     "output_type": "stream",
     "text": [
      "Early stopping, best iteration is:\n[192]\ttraining's l2: 3.98031e-05\tvalid_1's l2: 0.000146826\nfold n°3\nTraining until validation scores don't improve for 100 rounds.\n"
     ]
    },
    {
     "name": "stdout",
     "output_type": "stream",
     "text": [
      "Early stopping, best iteration is:\n[187]\ttraining's l2: 4.52357e-05\tvalid_1's l2: 0.000105872\nfold n°4\nTraining until validation scores don't improve for 100 rounds.\n"
     ]
    },
    {
     "name": "stdout",
     "output_type": "stream",
     "text": [
      "Early stopping, best iteration is:\n[406]\ttraining's l2: 2.59604e-05\tvalid_1's l2: 0.000108825\nfold n°5\nTraining until validation scores don't improve for 100 rounds.\n"
     ]
    },
    {
     "name": "stdout",
     "output_type": "stream",
     "text": [
      "Early stopping, best iteration is:\n[238]\ttraining's l2: 3.52014e-05\tvalid_1's l2: 0.000153443\n----------\n当前移除特征: B14_A24_intTarget_3.0_mean, CV score: 0.00006555, 最佳cv score: 0.00006459, 没效果,保留！！\nfold n°1\nTraining until validation scores don't improve for 100 rounds.\n"
     ]
    },
    {
     "name": "stdout",
     "output_type": "stream",
     "text": [
      "Early stopping, best iteration is:\n[151]\ttraining's l2: 4.77029e-05\tvalid_1's l2: 0.000137943\nfold n°2\nTraining until validation scores don't improve for 100 rounds.\n"
     ]
    },
    {
     "name": "stdout",
     "output_type": "stream",
     "text": [
      "Early stopping, best iteration is:\n[365]\ttraining's l2: 2.5099e-05\tvalid_1's l2: 0.00014675\nfold n°3\nTraining until validation scores don't improve for 100 rounds.\n"
     ]
    },
    {
     "name": "stdout",
     "output_type": "stream",
     "text": [
      "Early stopping, best iteration is:\n[196]\ttraining's l2: 4.3189e-05\tvalid_1's l2: 0.000103032\nfold n°4\nTraining until validation scores don't improve for 100 rounds.\n"
     ]
    },
    {
     "name": "stdout",
     "output_type": "stream",
     "text": [
      "Early stopping, best iteration is:\n[342]\ttraining's l2: 2.9019e-05\tvalid_1's l2: 0.0001099\nfold n°5\nTraining until validation scores don't improve for 100 rounds.\n"
     ]
    },
    {
     "name": "stdout",
     "output_type": "stream",
     "text": [
      "Early stopping, best iteration is:\n[139]\ttraining's l2: 5.12542e-05\tvalid_1's l2: 0.000152303\n----------\n当前移除特征: B14_A24_intTarget_4.0_mean, CV score: 0.00006500, 最佳cv score: 0.00006459, 没效果,保留！！\nfold n°1\nTraining until validation scores don't improve for 100 rounds.\n"
     ]
    },
    {
     "name": "stdout",
     "output_type": "stream",
     "text": [
      "Early stopping, best iteration is:\n[160]\ttraining's l2: 4.47854e-05\tvalid_1's l2: 0.000137676\nfold n°2\nTraining until validation scores don't improve for 100 rounds.\n"
     ]
    },
    {
     "name": "stdout",
     "output_type": "stream",
     "text": [
      "Early stopping, best iteration is:\n[249]\ttraining's l2: 3.31358e-05\tvalid_1's l2: 0.000147573\nfold n°3\nTraining until validation scores don't improve for 100 rounds.\n"
     ]
    },
    {
     "name": "stdout",
     "output_type": "stream",
     "text": [
      "Early stopping, best iteration is:\n[196]\ttraining's l2: 4.34926e-05\tvalid_1's l2: 0.000106811\nfold n°4\nTraining until validation scores don't improve for 100 rounds.\n"
     ]
    },
    {
     "name": "stdout",
     "output_type": "stream",
     "text": [
      "Early stopping, best iteration is:\n[178]\ttraining's l2: 4.6798e-05\tvalid_1's l2: 0.000109318\nfold n°5\nTraining until validation scores don't improve for 100 rounds.\n"
     ]
    },
    {
     "name": "stdout",
     "output_type": "stream",
     "text": [
      "Early stopping, best iteration is:\n[213]\ttraining's l2: 3.7718e-05\tvalid_1's l2: 0.000152497\n----------\n当前移除特征: B14_A25_intTarget_0.0_mean, CV score: 0.00006539, 最佳cv score: 0.00006459, 没效果,保留！！\nfold n°1\nTraining until validation scores don't improve for 100 rounds.\n"
     ]
    },
    {
     "name": "stdout",
     "output_type": "stream",
     "text": [
      "Early stopping, best iteration is:\n[139]\ttraining's l2: 5.08345e-05\tvalid_1's l2: 0.000137556\nfold n°2\nTraining until validation scores don't improve for 100 rounds.\n"
     ]
    },
    {
     "name": "stdout",
     "output_type": "stream",
     "text": [
      "Early stopping, best iteration is:\n[372]\ttraining's l2: 2.50137e-05\tvalid_1's l2: 0.00014769\nfold n°3\nTraining until validation scores don't improve for 100 rounds.\n"
     ]
    },
    {
     "name": "stdout",
     "output_type": "stream",
     "text": [
      "Early stopping, best iteration is:\n[124]\ttraining's l2: 6.06963e-05\tvalid_1's l2: 0.000105809\nfold n°4\nTraining until validation scores don't improve for 100 rounds.\n"
     ]
    },
    {
     "name": "stdout",
     "output_type": "stream",
     "text": [
      "Early stopping, best iteration is:\n[258]\ttraining's l2: 3.56898e-05\tvalid_1's l2: 0.000110048\nfold n°5\nTraining until validation scores don't improve for 100 rounds.\n"
     ]
    },
    {
     "name": "stdout",
     "output_type": "stream",
     "text": [
      "Early stopping, best iteration is:\n[93]\ttraining's l2: 6.72987e-05\tvalid_1's l2: 0.000154635\n----------\n当前移除特征: B14_A25_intTarget_1.0_mean, CV score: 0.00006558, 最佳cv score: 0.00006459, 没效果,保留！！\nfold n°1\nTraining until validation scores don't improve for 100 rounds.\n"
     ]
    },
    {
     "name": "stdout",
     "output_type": "stream",
     "text": [
      "Early stopping, best iteration is:\n[157]\ttraining's l2: 4.57767e-05\tvalid_1's l2: 0.000141418\nfold n°2\nTraining until validation scores don't improve for 100 rounds.\n"
     ]
    },
    {
     "name": "stdout",
     "output_type": "stream",
     "text": [
      "Early stopping, best iteration is:\n[346]\ttraining's l2: 2.62531e-05\tvalid_1's l2: 0.000145729\nfold n°3\nTraining until validation scores don't improve for 100 rounds.\n"
     ]
    },
    {
     "name": "stdout",
     "output_type": "stream",
     "text": [
      "Early stopping, best iteration is:\n[186]\ttraining's l2: 4.5169e-05\tvalid_1's l2: 0.00010507\nfold n°4\nTraining until validation scores don't improve for 100 rounds.\n"
     ]
    },
    {
     "name": "stdout",
     "output_type": "stream",
     "text": [
      "Early stopping, best iteration is:\n[195]\ttraining's l2: 4.33402e-05\tvalid_1's l2: 0.000109021\nfold n°5\nTraining until validation scores don't improve for 100 rounds.\n"
     ]
    },
    {
     "name": "stdout",
     "output_type": "stream",
     "text": [
      "Early stopping, best iteration is:\n[149]\ttraining's l2: 4.76874e-05\tvalid_1's l2: 0.00015332\n----------\n当前移除特征: B14_A25_intTarget_2.0_mean, CV score: 0.00006546, 最佳cv score: 0.00006459, 没效果,保留！！\nfold n°1\nTraining until validation scores don't improve for 100 rounds.\n"
     ]
    },
    {
     "name": "stdout",
     "output_type": "stream",
     "text": [
      "Early stopping, best iteration is:\n[132]\ttraining's l2: 5.25235e-05\tvalid_1's l2: 0.000138408\nfold n°2\nTraining until validation scores don't improve for 100 rounds.\n"
     ]
    },
    {
     "name": "stdout",
     "output_type": "stream",
     "text": [
      "Early stopping, best iteration is:\n[228]\ttraining's l2: 3.46275e-05\tvalid_1's l2: 0.000144886\nfold n°3\nTraining until validation scores don't improve for 100 rounds.\n"
     ]
    },
    {
     "name": "stdout",
     "output_type": "stream",
     "text": [
      "Early stopping, best iteration is:\n[195]\ttraining's l2: 4.35516e-05\tvalid_1's l2: 0.000105431\nfold n°4\nTraining until validation scores don't improve for 100 rounds.\n"
     ]
    },
    {
     "name": "stdout",
     "output_type": "stream",
     "text": [
      "Early stopping, best iteration is:\n[256]\ttraining's l2: 3.56337e-05\tvalid_1's l2: 0.000106611\nfold n°5\nTraining until validation scores don't improve for 100 rounds.\n"
     ]
    },
    {
     "name": "stdout",
     "output_type": "stream",
     "text": [
      "Early stopping, best iteration is:\n[133]\ttraining's l2: 5.12755e-05\tvalid_1's l2: 0.000157061\n----------\n当前移除特征: B14_A25_intTarget_3.0_mean, CV score: 0.00006524, 最佳cv score: 0.00006459, 没效果,保留！！\nfold n°1\nTraining until validation scores don't improve for 100 rounds.\n"
     ]
    },
    {
     "name": "stdout",
     "output_type": "stream",
     "text": [
      "Early stopping, best iteration is:\n[139]\ttraining's l2: 5.06492e-05\tvalid_1's l2: 0.000139501\nfold n°2\nTraining until validation scores don't improve for 100 rounds.\n"
     ]
    },
    {
     "name": "stdout",
     "output_type": "stream",
     "text": [
      "Early stopping, best iteration is:\n[233]\ttraining's l2: 3.45487e-05\tvalid_1's l2: 0.000146909\nfold n°3\nTraining until validation scores don't improve for 100 rounds.\n"
     ]
    },
    {
     "name": "stdout",
     "output_type": "stream",
     "text": [
      "Early stopping, best iteration is:\n[189]\ttraining's l2: 4.48285e-05\tvalid_1's l2: 0.000106864\nfold n°4\nTraining until validation scores don't improve for 100 rounds.\n"
     ]
    },
    {
     "name": "stdout",
     "output_type": "stream",
     "text": [
      "Early stopping, best iteration is:\n[268]\ttraining's l2: 3.44028e-05\tvalid_1's l2: 0.000108862\nfold n°5\nTraining until validation scores don't improve for 100 rounds.\n"
     ]
    },
    {
     "name": "stdout",
     "output_type": "stream",
     "text": [
      "Early stopping, best iteration is:\n[111]\ttraining's l2: 6.01196e-05\tvalid_1's l2: 0.00015421\n----------\n当前移除特征: B14_A25_intTarget_4.0_mean, CV score: 0.00006564, 最佳cv score: 0.00006459, 没效果,保留！！\nfold n°1\nTraining until validation scores don't improve for 100 rounds.\n"
     ]
    },
    {
     "name": "stdout",
     "output_type": "stream",
     "text": [
      "Early stopping, best iteration is:\n[139]\ttraining's l2: 5.04996e-05\tvalid_1's l2: 0.000141631\nfold n°2\nTraining until validation scores don't improve for 100 rounds.\n"
     ]
    },
    {
     "name": "stdout",
     "output_type": "stream",
     "text": [
      "Early stopping, best iteration is:\n[204]\ttraining's l2: 3.78135e-05\tvalid_1's l2: 0.000144648\nfold n°3\nTraining until validation scores don't improve for 100 rounds.\n"
     ]
    },
    {
     "name": "stdout",
     "output_type": "stream",
     "text": [
      "Early stopping, best iteration is:\n[195]\ttraining's l2: 4.32626e-05\tvalid_1's l2: 0.000104895\nfold n°4\nTraining until validation scores don't improve for 100 rounds.\n"
     ]
    },
    {
     "name": "stdout",
     "output_type": "stream",
     "text": [
      "Early stopping, best iteration is:\n[183]\ttraining's l2: 4.54691e-05\tvalid_1's l2: 0.000109255\nfold n°5\nTraining until validation scores don't improve for 100 rounds.\n"
     ]
    },
    {
     "name": "stdout",
     "output_type": "stream",
     "text": [
      "Early stopping, best iteration is:\n[114]\ttraining's l2: 5.83882e-05\tvalid_1's l2: 0.000152915\n----------\n当前移除特征: B14_A26_intTarget_0.0_mean, CV score: 0.00006534, 最佳cv score: 0.00006459, 没效果,保留！！\nfold n°1\nTraining until validation scores don't improve for 100 rounds.\n"
     ]
    },
    {
     "name": "stdout",
     "output_type": "stream",
     "text": [
      "Early stopping, best iteration is:\n[157]\ttraining's l2: 4.58902e-05\tvalid_1's l2: 0.000140267\nfold n°2\nTraining until validation scores don't improve for 100 rounds.\n"
     ]
    },
    {
     "name": "stdout",
     "output_type": "stream",
     "text": [
      "Early stopping, best iteration is:\n[242]\ttraining's l2: 3.34286e-05\tvalid_1's l2: 0.000147341\nfold n°3\nTraining until validation scores don't improve for 100 rounds.\n"
     ]
    },
    {
     "name": "stdout",
     "output_type": "stream",
     "text": [
      "Early stopping, best iteration is:\n[196]\ttraining's l2: 4.33027e-05\tvalid_1's l2: 0.000104172\nfold n°4\nTraining until validation scores don't improve for 100 rounds.\n"
     ]
    },
    {
     "name": "stdout",
     "output_type": "stream",
     "text": [
      "Early stopping, best iteration is:\n[189]\ttraining's l2: 4.42982e-05\tvalid_1's l2: 0.000109974\nfold n°5\nTraining until validation scores don't improve for 100 rounds.\n"
     ]
    },
    {
     "name": "stdout",
     "output_type": "stream",
     "text": [
      "Early stopping, best iteration is:\n[125]\ttraining's l2: 5.48272e-05\tvalid_1's l2: 0.000153783\n----------\n当前移除特征: B14_A26_intTarget_1.0_mean, CV score: 0.00006556, 最佳cv score: 0.00006459, 没效果,保留！！\nfold n°1\nTraining until validation scores don't improve for 100 rounds.\n"
     ]
    },
    {
     "name": "stdout",
     "output_type": "stream",
     "text": [
      "Early stopping, best iteration is:\n[127]\ttraining's l2: 5.49106e-05\tvalid_1's l2: 0.00014019\nfold n°2\nTraining until validation scores don't improve for 100 rounds.\n"
     ]
    },
    {
     "name": "stdout",
     "output_type": "stream",
     "text": [
      "Early stopping, best iteration is:\n[218]\ttraining's l2: 3.6029e-05\tvalid_1's l2: 0.000148681\nfold n°3\nTraining until validation scores don't improve for 100 rounds.\n"
     ]
    },
    {
     "name": "stdout",
     "output_type": "stream",
     "text": [
      "Early stopping, best iteration is:\n[185]\ttraining's l2: 4.52513e-05\tvalid_1's l2: 0.000108129\nfold n°4\nTraining until validation scores don't improve for 100 rounds.\n"
     ]
    },
    {
     "name": "stdout",
     "output_type": "stream",
     "text": [
      "Early stopping, best iteration is:\n[231]\ttraining's l2: 3.84141e-05\tvalid_1's l2: 0.000109935\nfold n°5\nTraining until validation scores don't improve for 100 rounds.\n"
     ]
    },
    {
     "name": "stdout",
     "output_type": "stream",
     "text": [
      "Early stopping, best iteration is:\n[163]\ttraining's l2: 4.52204e-05\tvalid_1's l2: 0.000153692\n----------\n当前移除特征: B14_A26_intTarget_2.0_mean, CV score: 0.00006607, 最佳cv score: 0.00006459, 没效果,保留！！\nfold n°1\nTraining until validation scores don't improve for 100 rounds.\n"
     ]
    },
    {
     "name": "stdout",
     "output_type": "stream",
     "text": [
      "Early stopping, best iteration is:\n[140]\ttraining's l2: 5.04985e-05\tvalid_1's l2: 0.000141348\nfold n°2\nTraining until validation scores don't improve for 100 rounds.\n"
     ]
    },
    {
     "name": "stdout",
     "output_type": "stream",
     "text": [
      "Early stopping, best iteration is:\n[330]\ttraining's l2: 2.68931e-05\tvalid_1's l2: 0.000145722\nfold n°3\nTraining until validation scores don't improve for 100 rounds.\n"
     ]
    },
    {
     "name": "stdout",
     "output_type": "stream",
     "text": [
      "Early stopping, best iteration is:\n[171]\ttraining's l2: 4.81872e-05\tvalid_1's l2: 0.000108343\nfold n°4\nTraining until validation scores don't improve for 100 rounds.\n"
     ]
    },
    {
     "name": "stdout",
     "output_type": "stream",
     "text": [
      "Early stopping, best iteration is:\n[178]\ttraining's l2: 4.66634e-05\tvalid_1's l2: 0.000108339\nfold n°5\nTraining until validation scores don't improve for 100 rounds.\n"
     ]
    },
    {
     "name": "stdout",
     "output_type": "stream",
     "text": [
      "Early stopping, best iteration is:\n[133]\ttraining's l2: 5.28797e-05\tvalid_1's l2: 0.000153822\n----------\n当前移除特征: B14_A26_intTarget_3.0_mean, CV score: 0.00006576, 最佳cv score: 0.00006459, 没效果,保留！！\nfold n°1\nTraining until validation scores don't improve for 100 rounds.\n"
     ]
    },
    {
     "name": "stdout",
     "output_type": "stream",
     "text": [
      "Early stopping, best iteration is:\n[139]\ttraining's l2: 5.10685e-05\tvalid_1's l2: 0.000139267\nfold n°2\nTraining until validation scores don't improve for 100 rounds.\n"
     ]
    },
    {
     "name": "stdout",
     "output_type": "stream",
     "text": [
      "Early stopping, best iteration is:\n[243]\ttraining's l2: 3.31906e-05\tvalid_1's l2: 0.000145616\nfold n°3\nTraining until validation scores don't improve for 100 rounds.\n"
     ]
    },
    {
     "name": "stdout",
     "output_type": "stream",
     "text": [
      "Early stopping, best iteration is:\n[172]\ttraining's l2: 4.78799e-05\tvalid_1's l2: 0.000107802\nfold n°4\nTraining until validation scores don't improve for 100 rounds.\n"
     ]
    },
    {
     "name": "stdout",
     "output_type": "stream",
     "text": [
      "Early stopping, best iteration is:\n[343]\ttraining's l2: 2.89518e-05\tvalid_1's l2: 0.000108694\nfold n°5\nTraining until validation scores don't improve for 100 rounds.\n"
     ]
    },
    {
     "name": "stdout",
     "output_type": "stream",
     "text": [
      "Early stopping, best iteration is:\n[174]\ttraining's l2: 4.37635e-05\tvalid_1's l2: 0.000152508\n----------\n当前移除特征: B14_A26_intTarget_4.0_mean, CV score: 0.00006539, 最佳cv score: 0.00006459, 没效果,保留！！\nfold n°1\nTraining until validation scores don't improve for 100 rounds.\n"
     ]
    },
    {
     "name": "stdout",
     "output_type": "stream",
     "text": [
      "Early stopping, best iteration is:\n[141]\ttraining's l2: 4.95743e-05\tvalid_1's l2: 0.000139141\nfold n°2\nTraining until validation scores don't improve for 100 rounds.\n"
     ]
    },
    {
     "name": "stdout",
     "output_type": "stream",
     "text": [
      "Early stopping, best iteration is:\n[311]\ttraining's l2: 2.81659e-05\tvalid_1's l2: 0.000146741\nfold n°3\nTraining until validation scores don't improve for 100 rounds.\n"
     ]
    },
    {
     "name": "stdout",
     "output_type": "stream",
     "text": [
      "Early stopping, best iteration is:\n[215]\ttraining's l2: 4.07903e-05\tvalid_1's l2: 0.000107933\nfold n°4\nTraining until validation scores don't improve for 100 rounds.\n"
     ]
    },
    {
     "name": "stdout",
     "output_type": "stream",
     "text": [
      "Early stopping, best iteration is:\n[403]\ttraining's l2: 2.59482e-05\tvalid_1's l2: 0.000109655\nfold n°5\nTraining until validation scores don't improve for 100 rounds.\n"
     ]
    },
    {
     "name": "stdout",
     "output_type": "stream",
     "text": [
      "Early stopping, best iteration is:\n[124]\ttraining's l2: 5.43034e-05\tvalid_1's l2: 0.000152669\n----------\n当前移除特征: B14_A27_intTarget_0.0_mean, CV score: 0.00006562, 最佳cv score: 0.00006459, 没效果,保留！！\nfold n°1\nTraining until validation scores don't improve for 100 rounds.\n"
     ]
    },
    {
     "name": "stdout",
     "output_type": "stream",
     "text": [
      "Early stopping, best iteration is:\n[113]\ttraining's l2: 5.97376e-05\tvalid_1's l2: 0.000136899\nfold n°2\nTraining until validation scores don't improve for 100 rounds.\n"
     ]
    },
    {
     "name": "stdout",
     "output_type": "stream",
     "text": [
      "Early stopping, best iteration is:\n[243]\ttraining's l2: 3.33813e-05\tvalid_1's l2: 0.000146535\nfold n°3\nTraining until validation scores don't improve for 100 rounds.\n"
     ]
    },
    {
     "name": "stdout",
     "output_type": "stream",
     "text": [
      "Early stopping, best iteration is:\n[189]\ttraining's l2: 4.44822e-05\tvalid_1's l2: 0.000105848\nfold n°4\nTraining until validation scores don't improve for 100 rounds.\n"
     ]
    },
    {
     "name": "stdout",
     "output_type": "stream",
     "text": [
      "Early stopping, best iteration is:\n[299]\ttraining's l2: 3.19821e-05\tvalid_1's l2: 0.000105638\nfold n°5\nTraining until validation scores don't improve for 100 rounds.\n"
     ]
    },
    {
     "name": "stdout",
     "output_type": "stream",
     "text": [
      "Early stopping, best iteration is:\n[183]\ttraining's l2: 4.22405e-05\tvalid_1's l2: 0.00015083\n----------\n当前移除特征: B14_A27_intTarget_1.0_mean, CV score: 0.00006458, 最佳cv score: 0.00006459, 没效果,保留！！\nfold n°1\nTraining until validation scores don't improve for 100 rounds.\n"
     ]
    },
    {
     "name": "stdout",
     "output_type": "stream",
     "text": [
      "Early stopping, best iteration is:\n[156]\ttraining's l2: 4.66428e-05\tvalid_1's l2: 0.000137825\nfold n°2\nTraining until validation scores don't improve for 100 rounds.\n"
     ]
    },
    {
     "name": "stdout",
     "output_type": "stream",
     "text": [
      "Early stopping, best iteration is:\n[245]\ttraining's l2: 3.39846e-05\tvalid_1's l2: 0.000148543\nfold n°3\nTraining until validation scores don't improve for 100 rounds.\n"
     ]
    },
    {
     "name": "stdout",
     "output_type": "stream",
     "text": [
      "Early stopping, best iteration is:\n[195]\ttraining's l2: 4.37533e-05\tvalid_1's l2: 0.000106354\nfold n°4\nTraining until validation scores don't improve for 100 rounds.\n"
     ]
    },
    {
     "name": "stdout",
     "output_type": "stream",
     "text": [
      "Early stopping, best iteration is:\n[334]\ttraining's l2: 2.97285e-05\tvalid_1's l2: 0.000110536\nfold n°5\nTraining until validation scores don't improve for 100 rounds.\n"
     ]
    },
    {
     "name": "stdout",
     "output_type": "stream",
     "text": [
      "Early stopping, best iteration is:\n[137]\ttraining's l2: 5.14773e-05\tvalid_1's l2: 0.000151\n----------\n当前移除特征: B14_A27_intTarget_2.0_mean, CV score: 0.00006543, 最佳cv score: 0.00006459, 没效果,保留！！\nfold n°1\nTraining until validation scores don't improve for 100 rounds.\n"
     ]
    },
    {
     "name": "stdout",
     "output_type": "stream",
     "text": [
      "Early stopping, best iteration is:\n[143]\ttraining's l2: 4.924e-05\tvalid_1's l2: 0.000140338\nfold n°2\nTraining until validation scores don't improve for 100 rounds.\n"
     ]
    },
    {
     "name": "stdout",
     "output_type": "stream",
     "text": [
      "Early stopping, best iteration is:\n[271]\ttraining's l2: 3.12349e-05\tvalid_1's l2: 0.000146495\nfold n°3\nTraining until validation scores don't improve for 100 rounds.\n"
     ]
    },
    {
     "name": "stdout",
     "output_type": "stream",
     "text": [
      "Early stopping, best iteration is:\n[194]\ttraining's l2: 4.37845e-05\tvalid_1's l2: 0.000104956\nfold n°4\nTraining until validation scores don't improve for 100 rounds.\n"
     ]
    },
    {
     "name": "stdout",
     "output_type": "stream",
     "text": [
      "Early stopping, best iteration is:\n[325]\ttraining's l2: 2.99842e-05\tvalid_1's l2: 0.000107256\nfold n°5\nTraining until validation scores don't improve for 100 rounds.\n"
     ]
    },
    {
     "name": "stdout",
     "output_type": "stream",
     "text": [
      "Early stopping, best iteration is:\n[178]\ttraining's l2: 4.25723e-05\tvalid_1's l2: 0.000151992\n----------\n当前移除特征: B14_A27_intTarget_3.0_mean, CV score: 0.00006511, 最佳cv score: 0.00006459, 没效果,保留！！\nfold n°1\nTraining until validation scores don't improve for 100 rounds.\n"
     ]
    },
    {
     "name": "stdout",
     "output_type": "stream",
     "text": [
      "Early stopping, best iteration is:\n[145]\ttraining's l2: 4.94318e-05\tvalid_1's l2: 0.000138172\nfold n°2\nTraining until validation scores don't improve for 100 rounds.\n"
     ]
    },
    {
     "name": "stdout",
     "output_type": "stream",
     "text": [
      "Early stopping, best iteration is:\n[216]\ttraining's l2: 3.69206e-05\tvalid_1's l2: 0.000147759\nfold n°3\nTraining until validation scores don't improve for 100 rounds.\n"
     ]
    },
    {
     "name": "stdout",
     "output_type": "stream",
     "text": [
      "Early stopping, best iteration is:\n[225]\ttraining's l2: 3.96084e-05\tvalid_1's l2: 0.000104755\nfold n°4\nTraining until validation scores don't improve for 100 rounds.\n"
     ]
    },
    {
     "name": "stdout",
     "output_type": "stream",
     "text": [
      "Early stopping, best iteration is:\n[381]\ttraining's l2: 2.69124e-05\tvalid_1's l2: 0.000109463\nfold n°5\nTraining until validation scores don't improve for 100 rounds.\n"
     ]
    },
    {
     "name": "stdout",
     "output_type": "stream",
     "text": [
      "Early stopping, best iteration is:\n[111]\ttraining's l2: 5.95686e-05\tvalid_1's l2: 0.000154485\n----------\n当前移除特征: B14_A27_intTarget_4.0_mean, CV score: 0.00006547, 最佳cv score: 0.00006459, 没效果,保留！！\nfold n°1\nTraining until validation scores don't improve for 100 rounds.\n"
     ]
    },
    {
     "name": "stdout",
     "output_type": "stream",
     "text": [
      "Early stopping, best iteration is:\n[137]\ttraining's l2: 5.17418e-05\tvalid_1's l2: 0.000140914\nfold n°2\nTraining until validation scores don't improve for 100 rounds.\n"
     ]
    },
    {
     "name": "stdout",
     "output_type": "stream",
     "text": [
      "Early stopping, best iteration is:\n[242]\ttraining's l2: 3.36996e-05\tvalid_1's l2: 0.000147045\nfold n°3\nTraining until validation scores don't improve for 100 rounds.\n"
     ]
    },
    {
     "name": "stdout",
     "output_type": "stream",
     "text": [
      "Early stopping, best iteration is:\n[196]\ttraining's l2: 4.33543e-05\tvalid_1's l2: 0.000107371\nfold n°4\nTraining until validation scores don't improve for 100 rounds.\n"
     ]
    },
    {
     "name": "stdout",
     "output_type": "stream",
     "text": [
      "Early stopping, best iteration is:\n[354]\ttraining's l2: 2.89211e-05\tvalid_1's l2: 0.000110137\nfold n°5\nTraining until validation scores don't improve for 100 rounds.\n"
     ]
    },
    {
     "name": "stdout",
     "output_type": "stream",
     "text": [
      "Early stopping, best iteration is:\n[165]\ttraining's l2: 4.4848e-05\tvalid_1's l2: 0.000150745\n----------\n当前移除特征: B14_A28_intTarget_0.0_mean, CV score: 0.00006562, 最佳cv score: 0.00006459, 没效果,保留！！\nfold n°1\nTraining until validation scores don't improve for 100 rounds.\n"
     ]
    },
    {
     "name": "stdout",
     "output_type": "stream",
     "text": [
      "Early stopping, best iteration is:\n[142]\ttraining's l2: 5.00868e-05\tvalid_1's l2: 0.00013929\nfold n°2\nTraining until validation scores don't improve for 100 rounds.\n"
     ]
    },
    {
     "name": "stdout",
     "output_type": "stream",
     "text": [
      "Early stopping, best iteration is:\n[257]\ttraining's l2: 3.2529e-05\tvalid_1's l2: 0.000148228\nfold n°3\nTraining until validation scores don't improve for 100 rounds.\n"
     ]
    },
    {
     "name": "stdout",
     "output_type": "stream",
     "text": [
      "Early stopping, best iteration is:\n[194]\ttraining's l2: 4.37897e-05\tvalid_1's l2: 0.000110247\nfold n°4\nTraining until validation scores don't improve for 100 rounds.\n"
     ]
    },
    {
     "name": "stdout",
     "output_type": "stream",
     "text": [
      "Early stopping, best iteration is:\n[232]\ttraining's l2: 3.84897e-05\tvalid_1's l2: 0.00010954\nfold n°5\nTraining until validation scores don't improve for 100 rounds.\n"
     ]
    },
    {
     "name": "stdout",
     "output_type": "stream",
     "text": [
      "Early stopping, best iteration is:\n[130]\ttraining's l2: 5.39079e-05\tvalid_1's l2: 0.000151749\n----------\n当前移除特征: B14_A28_intTarget_1.0_mean, CV score: 0.00006591, 最佳cv score: 0.00006459, 没效果,保留！！\nfold n°1\nTraining until validation scores don't improve for 100 rounds.\n"
     ]
    },
    {
     "name": "stdout",
     "output_type": "stream",
     "text": [
      "Early stopping, best iteration is:\n[104]\ttraining's l2: 6.33188e-05\tvalid_1's l2: 0.000140295\nfold n°2\nTraining until validation scores don't improve for 100 rounds.\n"
     ]
    },
    {
     "name": "stdout",
     "output_type": "stream",
     "text": [
      "Early stopping, best iteration is:\n[242]\ttraining's l2: 3.32241e-05\tvalid_1's l2: 0.000147035\nfold n°3\nTraining until validation scores don't improve for 100 rounds.\n"
     ]
    },
    {
     "name": "stdout",
     "output_type": "stream",
     "text": [
      "Early stopping, best iteration is:\n[180]\ttraining's l2: 4.57792e-05\tvalid_1's l2: 0.000106059\nfold n°4\nTraining until validation scores don't improve for 100 rounds.\n"
     ]
    },
    {
     "name": "stdout",
     "output_type": "stream",
     "text": [
      "Early stopping, best iteration is:\n[256]\ttraining's l2: 3.55015e-05\tvalid_1's l2: 0.000109672\nfold n°5\nTraining until validation scores don't improve for 100 rounds.\n"
     ]
    },
    {
     "name": "stdout",
     "output_type": "stream",
     "text": [
      "Early stopping, best iteration is:\n[180]\ttraining's l2: 4.2131e-05\tvalid_1's l2: 0.000151624\n----------\n当前移除特征: B14_A28_intTarget_2.0_mean, CV score: 0.00006547, 最佳cv score: 0.00006459, 没效果,保留！！\nfold n°1\nTraining until validation scores don't improve for 100 rounds.\n"
     ]
    },
    {
     "name": "stdout",
     "output_type": "stream",
     "text": [
      "Early stopping, best iteration is:\n[159]\ttraining's l2: 4.57169e-05\tvalid_1's l2: 0.000139041\nfold n°2\nTraining until validation scores don't improve for 100 rounds.\n"
     ]
    },
    {
     "name": "stdout",
     "output_type": "stream",
     "text": [
      "Early stopping, best iteration is:\n[257]\ttraining's l2: 3.18945e-05\tvalid_1's l2: 0.000146043\nfold n°3\nTraining until validation scores don't improve for 100 rounds.\n"
     ]
    },
    {
     "name": "stdout",
     "output_type": "stream",
     "text": [
      "Early stopping, best iteration is:\n[158]\ttraining's l2: 5.05813e-05\tvalid_1's l2: 0.000106986\nfold n°4\nTraining until validation scores don't improve for 100 rounds.\n"
     ]
    },
    {
     "name": "stdout",
     "output_type": "stream",
     "text": [
      "Early stopping, best iteration is:\n[355]\ttraining's l2: 2.82919e-05\tvalid_1's l2: 0.000109878\nfold n°5\nTraining until validation scores don't improve for 100 rounds.\n"
     ]
    },
    {
     "name": "stdout",
     "output_type": "stream",
     "text": [
      "Early stopping, best iteration is:\n[180]\ttraining's l2: 4.20161e-05\tvalid_1's l2: 0.000151338\n----------\n当前移除特征: B14_A28_intTarget_3.0_mean, CV score: 0.00006533, 最佳cv score: 0.00006459, 没效果,保留！！\nfold n°1\nTraining until validation scores don't improve for 100 rounds.\n"
     ]
    },
    {
     "name": "stdout",
     "output_type": "stream",
     "text": [
      "Early stopping, best iteration is:\n[129]\ttraining's l2: 5.40808e-05\tvalid_1's l2: 0.000141919\nfold n°2\nTraining until validation scores don't improve for 100 rounds.\n"
     ]
    },
    {
     "name": "stdout",
     "output_type": "stream",
     "text": [
      "Early stopping, best iteration is:\n[240]\ttraining's l2: 3.39797e-05\tvalid_1's l2: 0.000145736\nfold n°3\nTraining until validation scores don't improve for 100 rounds.\n"
     ]
    },
    {
     "name": "stdout",
     "output_type": "stream",
     "text": [
      "Early stopping, best iteration is:\n[194]\ttraining's l2: 4.35168e-05\tvalid_1's l2: 0.000106961\nfold n°4\nTraining until validation scores don't improve for 100 rounds.\n"
     ]
    },
    {
     "name": "stdout",
     "output_type": "stream",
     "text": [
      "Early stopping, best iteration is:\n[242]\ttraining's l2: 3.73654e-05\tvalid_1's l2: 0.000108553\nfold n°5\nTraining until validation scores don't improve for 100 rounds.\n"
     ]
    },
    {
     "name": "stdout",
     "output_type": "stream",
     "text": [
      "Early stopping, best iteration is:\n[226]\ttraining's l2: 3.63355e-05\tvalid_1's l2: 0.000151261\n----------\n当前移除特征: B14_A28_intTarget_4.0_mean, CV score: 0.00006545, 最佳cv score: 0.00006459, 没效果,保留！！\nfold n°1\nTraining until validation scores don't improve for 100 rounds.\n"
     ]
    },
    {
     "name": "stdout",
     "output_type": "stream",
     "text": [
      "Early stopping, best iteration is:\n[156]\ttraining's l2: 4.61614e-05\tvalid_1's l2: 0.000137995\nfold n°2\nTraining until validation scores don't improve for 100 rounds.\n"
     ]
    },
    {
     "name": "stdout",
     "output_type": "stream",
     "text": [
      "Early stopping, best iteration is:\n[273]\ttraining's l2: 3.11912e-05\tvalid_1's l2: 0.000146898\nfold n°3\nTraining until validation scores don't improve for 100 rounds.\n"
     ]
    },
    {
     "name": "stdout",
     "output_type": "stream",
     "text": [
      "Early stopping, best iteration is:\n[193]\ttraining's l2: 4.42225e-05\tvalid_1's l2: 0.000106215\nfold n°4\nTraining until validation scores don't improve for 100 rounds.\n"
     ]
    },
    {
     "name": "stdout",
     "output_type": "stream",
     "text": [
      "Early stopping, best iteration is:\n[259]\ttraining's l2: 3.54215e-05\tvalid_1's l2: 0.000109573\nfold n°5\nTraining until validation scores don't improve for 100 rounds.\n"
     ]
    },
    {
     "name": "stdout",
     "output_type": "stream",
     "text": [
      "Early stopping, best iteration is:\n[302]\ttraining's l2: 2.95942e-05\tvalid_1's l2: 0.000154523\n----------\n当前移除特征: B14_B1_intTarget_0.0_mean, CV score: 0.00006552, 最佳cv score: 0.00006459, 没效果,保留！！\nfold n°1\nTraining until validation scores don't improve for 100 rounds.\n"
     ]
    },
    {
     "name": "stdout",
     "output_type": "stream",
     "text": [
      "Early stopping, best iteration is:\n[138]\ttraining's l2: 5.07174e-05\tvalid_1's l2: 0.000142239\nfold n°2\nTraining until validation scores don't improve for 100 rounds.\n"
     ]
    },
    {
     "name": "stdout",
     "output_type": "stream",
     "text": [
      "Early stopping, best iteration is:\n[279]\ttraining's l2: 3.02038e-05\tvalid_1's l2: 0.000145633\nfold n°3\nTraining until validation scores don't improve for 100 rounds.\n"
     ]
    },
    {
     "name": "stdout",
     "output_type": "stream",
     "text": [
      "Early stopping, best iteration is:\n[194]\ttraining's l2: 4.37459e-05\tvalid_1's l2: 0.00010607\nfold n°4\nTraining until validation scores don't improve for 100 rounds.\n"
     ]
    },
    {
     "name": "stdout",
     "output_type": "stream",
     "text": [
      "Early stopping, best iteration is:\n[242]\ttraining's l2: 3.68651e-05\tvalid_1's l2: 0.000110748\nfold n°5\nTraining until validation scores don't improve for 100 rounds.\n"
     ]
    },
    {
     "name": "stdout",
     "output_type": "stream",
     "text": [
      "Early stopping, best iteration is:\n[172]\ttraining's l2: 4.32568e-05\tvalid_1's l2: 0.000154405\n----------\n当前移除特征: B14_B1_intTarget_1.0_mean, CV score: 0.00006591, 最佳cv score: 0.00006459, 没效果,保留！！\nfold n°1\nTraining until validation scores don't improve for 100 rounds.\n"
     ]
    },
    {
     "name": "stdout",
     "output_type": "stream",
     "text": [
      "Early stopping, best iteration is:\n[139]\ttraining's l2: 5.09386e-05\tvalid_1's l2: 0.000138763\nfold n°2\nTraining until validation scores don't improve for 100 rounds.\n"
     ]
    },
    {
     "name": "stdout",
     "output_type": "stream",
     "text": [
      "Early stopping, best iteration is:\n[245]\ttraining's l2: 3.34968e-05\tvalid_1's l2: 0.000145727\nfold n°3\nTraining until validation scores don't improve for 100 rounds.\n"
     ]
    },
    {
     "name": "stdout",
     "output_type": "stream",
     "text": [
      "Early stopping, best iteration is:\n[220]\ttraining's l2: 3.9929e-05\tvalid_1's l2: 0.000105516\nfold n°4\nTraining until validation scores don't improve for 100 rounds.\n"
     ]
    },
    {
     "name": "stdout",
     "output_type": "stream",
     "text": [
      "Early stopping, best iteration is:\n[356]\ttraining's l2: 2.85635e-05\tvalid_1's l2: 0.000108974\nfold n°5\nTraining until validation scores don't improve for 100 rounds.\n"
     ]
    },
    {
     "name": "stdout",
     "output_type": "stream",
     "text": [
      "Early stopping, best iteration is:\n[192]\ttraining's l2: 4.02794e-05\tvalid_1's l2: 0.000151551\n----------\n当前移除特征: B14_B1_intTarget_2.0_mean, CV score: 0.00006506, 最佳cv score: 0.00006459, 没效果,保留！！\nfold n°1\nTraining until validation scores don't improve for 100 rounds.\n"
     ]
    },
    {
     "name": "stdout",
     "output_type": "stream",
     "text": [
      "Early stopping, best iteration is:\n[140]\ttraining's l2: 5.02455e-05\tvalid_1's l2: 0.00014077\nfold n°2\nTraining until validation scores don't improve for 100 rounds.\n"
     ]
    },
    {
     "name": "stdout",
     "output_type": "stream",
     "text": [
      "Early stopping, best iteration is:\n[301]\ttraining's l2: 2.86317e-05\tvalid_1's l2: 0.000146693\nfold n°3\nTraining until validation scores don't improve for 100 rounds.\n"
     ]
    },
    {
     "name": "stdout",
     "output_type": "stream",
     "text": [
      "Early stopping, best iteration is:\n[185]\ttraining's l2: 4.51232e-05\tvalid_1's l2: 0.000105007\nfold n°4\nTraining until validation scores don't improve for 100 rounds.\n"
     ]
    },
    {
     "name": "stdout",
     "output_type": "stream",
     "text": [
      "Early stopping, best iteration is:\n[169]\ttraining's l2: 4.8674e-05\tvalid_1's l2: 0.000111482\nfold n°5\nTraining until validation scores don't improve for 100 rounds.\n"
     ]
    },
    {
     "name": "stdout",
     "output_type": "stream",
     "text": [
      "Early stopping, best iteration is:\n[171]\ttraining's l2: 4.37218e-05\tvalid_1's l2: 0.000153902\n----------\n当前移除特征: B14_B1_intTarget_3.0_mean, CV score: 0.00006579, 最佳cv score: 0.00006459, 没效果,保留！！\nfold n°1\nTraining until validation scores don't improve for 100 rounds.\n"
     ]
    },
    {
     "name": "stdout",
     "output_type": "stream",
     "text": [
      "Early stopping, best iteration is:\n[135]\ttraining's l2: 5.19976e-05\tvalid_1's l2: 0.000141493\nfold n°2\nTraining until validation scores don't improve for 100 rounds.\n"
     ]
    },
    {
     "name": "stdout",
     "output_type": "stream",
     "text": [
      "Early stopping, best iteration is:\n[383]\ttraining's l2: 2.43615e-05\tvalid_1's l2: 0.000145181\nfold n°3\nTraining until validation scores don't improve for 100 rounds.\n"
     ]
    },
    {
     "name": "stdout",
     "output_type": "stream",
     "text": [
      "Early stopping, best iteration is:\n[198]\ttraining's l2: 4.33378e-05\tvalid_1's l2: 0.00010816\nfold n°4\nTraining until validation scores don't improve for 100 rounds.\n"
     ]
    },
    {
     "name": "stdout",
     "output_type": "stream",
     "text": [
      "Early stopping, best iteration is:\n[203]\ttraining's l2: 4.22073e-05\tvalid_1's l2: 0.000110784\nfold n°5\nTraining until validation scores don't improve for 100 rounds.\n"
     ]
    },
    {
     "name": "stdout",
     "output_type": "stream",
     "text": [
      "Early stopping, best iteration is:\n[140]\ttraining's l2: 5.07916e-05\tvalid_1's l2: 0.000154484\n----------\n当前移除特征: B14_B1_intTarget_4.0_mean, CV score: 0.00006601, 最佳cv score: 0.00006459, 没效果,保留！！\nfold n°1\nTraining until validation scores don't improve for 100 rounds.\n"
     ]
    },
    {
     "name": "stdout",
     "output_type": "stream",
     "text": [
      "Early stopping, best iteration is:\n[147]\ttraining's l2: 4.84383e-05\tvalid_1's l2: 0.000138931\nfold n°2\nTraining until validation scores don't improve for 100 rounds.\n"
     ]
    },
    {
     "name": "stdout",
     "output_type": "stream",
     "text": [
      "Early stopping, best iteration is:\n[287]\ttraining's l2: 3.00384e-05\tvalid_1's l2: 0.000147346\nfold n°3\nTraining until validation scores don't improve for 100 rounds.\n"
     ]
    },
    {
     "name": "stdout",
     "output_type": "stream",
     "text": [
      "Early stopping, best iteration is:\n[167]\ttraining's l2: 4.80147e-05\tvalid_1's l2: 0.00010598\nfold n°4\nTraining until validation scores don't improve for 100 rounds.\n"
     ]
    },
    {
     "name": "stdout",
     "output_type": "stream",
     "text": [
      "Early stopping, best iteration is:\n[342]\ttraining's l2: 2.9014e-05\tvalid_1's l2: 0.000108232\nfold n°5\nTraining until validation scores don't improve for 100 rounds.\n"
     ]
    },
    {
     "name": "stdout",
     "output_type": "stream",
     "text": [
      "Early stopping, best iteration is:\n[138]\ttraining's l2: 5.09829e-05\tvalid_1's l2: 0.000153245\n----------\n当前移除特征: B14_B4_intTarget_0.0_mean, CV score: 0.00006538, 最佳cv score: 0.00006459, 没效果,保留！！\nfold n°1\nTraining until validation scores don't improve for 100 rounds.\n"
     ]
    },
    {
     "name": "stdout",
     "output_type": "stream",
     "text": [
      "Early stopping, best iteration is:\n[135]\ttraining's l2: 5.16033e-05\tvalid_1's l2: 0.000141452\nfold n°2\nTraining until validation scores don't improve for 100 rounds.\n"
     ]
    },
    {
     "name": "stdout",
     "output_type": "stream",
     "text": [
      "Early stopping, best iteration is:\n[241]\ttraining's l2: 3.36105e-05\tvalid_1's l2: 0.000149098\nfold n°3\nTraining until validation scores don't improve for 100 rounds.\n"
     ]
    },
    {
     "name": "stdout",
     "output_type": "stream",
     "text": [
      "Early stopping, best iteration is:\n[196]\ttraining's l2: 4.30168e-05\tvalid_1's l2: 0.000107905\nfold n°4\nTraining until validation scores don't improve for 100 rounds.\n"
     ]
    },
    {
     "name": "stdout",
     "output_type": "stream",
     "text": [
      "Early stopping, best iteration is:\n[363]\ttraining's l2: 2.80207e-05\tvalid_1's l2: 0.000108429\nfold n°5\nTraining until validation scores don't improve for 100 rounds.\n"
     ]
    },
    {
     "name": "stdout",
     "output_type": "stream",
     "text": [
      "Early stopping, best iteration is:\n[136]\ttraining's l2: 5.10225e-05\tvalid_1's l2: 0.000154222\n----------\n当前移除特征: B14_B4_intTarget_1.0_mean, CV score: 0.00006611, 最佳cv score: 0.00006459, 没效果,保留！！\nfold n°1\nTraining until validation scores don't improve for 100 rounds.\n"
     ]
    },
    {
     "name": "stdout",
     "output_type": "stream",
     "text": [
      "Early stopping, best iteration is:\n[142]\ttraining's l2: 4.98368e-05\tvalid_1's l2: 0.000138655\nfold n°2\nTraining until validation scores don't improve for 100 rounds.\n"
     ]
    },
    {
     "name": "stdout",
     "output_type": "stream",
     "text": [
      "Early stopping, best iteration is:\n[218]\ttraining's l2: 3.6035e-05\tvalid_1's l2: 0.000147278\nfold n°3\nTraining until validation scores don't improve for 100 rounds.\n"
     ]
    },
    {
     "name": "stdout",
     "output_type": "stream",
     "text": [
      "Early stopping, best iteration is:\n[196]\ttraining's l2: 4.35221e-05\tvalid_1's l2: 0.000106781\nfold n°4\nTraining until validation scores don't improve for 100 rounds.\n"
     ]
    },
    {
     "name": "stdout",
     "output_type": "stream",
     "text": [
      "Early stopping, best iteration is:\n[298]\ttraining's l2: 3.18769e-05\tvalid_1's l2: 0.000107267\nfold n°5\nTraining until validation scores don't improve for 100 rounds.\n"
     ]
    },
    {
     "name": "stdout",
     "output_type": "stream",
     "text": [
      "Early stopping, best iteration is:\n[118]\ttraining's l2: 5.64006e-05\tvalid_1's l2: 0.000153059\n----------\n当前移除特征: B14_B4_intTarget_2.0_mean, CV score: 0.00006531, 最佳cv score: 0.00006459, 没效果,保留！！\nfold n°1\nTraining until validation scores don't improve for 100 rounds.\n"
     ]
    },
    {
     "name": "stdout",
     "output_type": "stream",
     "text": [
      "Early stopping, best iteration is:\n[140]\ttraining's l2: 5.04015e-05\tvalid_1's l2: 0.000140405\nfold n°2\nTraining until validation scores don't improve for 100 rounds.\n"
     ]
    },
    {
     "name": "stdout",
     "output_type": "stream",
     "text": [
      "Early stopping, best iteration is:\n[258]\ttraining's l2: 3.21134e-05\tvalid_1's l2: 0.000147811\nfold n°3\nTraining until validation scores don't improve for 100 rounds.\n"
     ]
    },
    {
     "name": "stdout",
     "output_type": "stream",
     "text": [
      "Early stopping, best iteration is:\n[195]\ttraining's l2: 4.39829e-05\tvalid_1's l2: 0.000107381\nfold n°4\nTraining until validation scores don't improve for 100 rounds.\n"
     ]
    },
    {
     "name": "stdout",
     "output_type": "stream",
     "text": [
      "Early stopping, best iteration is:\n[351]\ttraining's l2: 2.85489e-05\tvalid_1's l2: 0.000108402\nfold n°5\nTraining until validation scores don't improve for 100 rounds.\n"
     ]
    },
    {
     "name": "stdout",
     "output_type": "stream",
     "text": [
      "Early stopping, best iteration is:\n[162]\ttraining's l2: 4.57215e-05\tvalid_1's l2: 0.000151725\n----------\n当前移除特征: B14_B4_intTarget_3.0_mean, CV score: 0.00006558, 最佳cv score: 0.00006459, 没效果,保留！！\nfold n°1\nTraining until validation scores don't improve for 100 rounds.\n"
     ]
    },
    {
     "name": "stdout",
     "output_type": "stream",
     "text": [
      "Early stopping, best iteration is:\n[116]\ttraining's l2: 5.74668e-05\tvalid_1's l2: 0.000139952\nfold n°2\nTraining until validation scores don't improve for 100 rounds.\n"
     ]
    },
    {
     "name": "stdout",
     "output_type": "stream",
     "text": [
      "Early stopping, best iteration is:\n[251]\ttraining's l2: 3.24155e-05\tvalid_1's l2: 0.000142937\nfold n°3\nTraining until validation scores don't improve for 100 rounds.\n"
     ]
    },
    {
     "name": "stdout",
     "output_type": "stream",
     "text": [
      "Early stopping, best iteration is:\n[219]\ttraining's l2: 3.98014e-05\tvalid_1's l2: 0.000103997\nfold n°4\nTraining until validation scores don't improve for 100 rounds.\n"
     ]
    },
    {
     "name": "stdout",
     "output_type": "stream",
     "text": [
      "Early stopping, best iteration is:\n[389]\ttraining's l2: 2.66073e-05\tvalid_1's l2: 0.000105675\nfold n°5\nTraining until validation scores don't improve for 100 rounds.\n"
     ]
    },
    {
     "name": "stdout",
     "output_type": "stream",
     "text": [
      "Early stopping, best iteration is:\n[150]\ttraining's l2: 4.80027e-05\tvalid_1's l2: 0.000152328\n----------\n当前移除特征: B14_B4_intTarget_4.0_mean, CV score: 0.00006449, 最佳cv score: 0.00006459, 有效果,删除！！\nfold n°1\nTraining until validation scores don't improve for 100 rounds.\n"
     ]
    },
    {
     "name": "stdout",
     "output_type": "stream",
     "text": [
      "Early stopping, best iteration is:\n[156]\ttraining's l2: 4.63923e-05\tvalid_1's l2: 0.00013943\nfold n°2\nTraining until validation scores don't improve for 100 rounds.\n"
     ]
    },
    {
     "name": "stdout",
     "output_type": "stream",
     "text": [
      "Early stopping, best iteration is:\n[240]\ttraining's l2: 3.37425e-05\tvalid_1's l2: 0.000147119\nfold n°3\nTraining until validation scores don't improve for 100 rounds.\n"
     ]
    },
    {
     "name": "stdout",
     "output_type": "stream",
     "text": [
      "Early stopping, best iteration is:\n[196]\ttraining's l2: 4.36519e-05\tvalid_1's l2: 0.000107187\nfold n°4\nTraining until validation scores don't improve for 100 rounds.\n"
     ]
    },
    {
     "name": "stdout",
     "output_type": "stream",
     "text": [
      "Early stopping, best iteration is:\n[207]\ttraining's l2: 4.15917e-05\tvalid_1's l2: 0.000108276\nfold n°5\nTraining until validation scores don't improve for 100 rounds.\n"
     ]
    },
    {
     "name": "stdout",
     "output_type": "stream",
     "text": [
      "Early stopping, best iteration is:\n[212]\ttraining's l2: 3.77791e-05\tvalid_1's l2: 0.00015234\n----------\n当前移除特征: B14_B5_intTarget_0.0_mean, CV score: 0.00006544, 最佳cv score: 0.00006449, 没效果,保留！！\nfold n°1\nTraining until validation scores don't improve for 100 rounds.\n"
     ]
    },
    {
     "name": "stdout",
     "output_type": "stream",
     "text": [
      "Early stopping, best iteration is:\n[135]\ttraining's l2: 5.1014e-05\tvalid_1's l2: 0.000141561\nfold n°2\nTraining until validation scores don't improve for 100 rounds.\n"
     ]
    },
    {
     "name": "stdout",
     "output_type": "stream",
     "text": [
      "Early stopping, best iteration is:\n[301]\ttraining's l2: 2.88911e-05\tvalid_1's l2: 0.000147122\nfold n°3\nTraining until validation scores don't improve for 100 rounds.\n"
     ]
    },
    {
     "name": "stdout",
     "output_type": "stream",
     "text": [
      "Early stopping, best iteration is:\n[197]\ttraining's l2: 4.26013e-05\tvalid_1's l2: 0.000106525\nfold n°4\nTraining until validation scores don't improve for 100 rounds.\n"
     ]
    },
    {
     "name": "stdout",
     "output_type": "stream",
     "text": [
      "Early stopping, best iteration is:\n[406]\ttraining's l2: 2.58835e-05\tvalid_1's l2: 0.000109679\nfold n°5\nTraining until validation scores don't improve for 100 rounds.\n"
     ]
    },
    {
     "name": "stdout",
     "output_type": "stream",
     "text": [
      "Early stopping, best iteration is:\n[147]\ttraining's l2: 4.9095e-05\tvalid_1's l2: 0.000152609\n----------\n当前移除特征: B14_B5_intTarget_1.0_mean, CV score: 0.00006575, 最佳cv score: 0.00006449, 没效果,保留！！\nfold n°1\nTraining until validation scores don't improve for 100 rounds.\n"
     ]
    },
    {
     "name": "stdout",
     "output_type": "stream",
     "text": [
      "Early stopping, best iteration is:\n[160]\ttraining's l2: 4.51691e-05\tvalid_1's l2: 0.000138653\nfold n°2\nTraining until validation scores don't improve for 100 rounds.\n"
     ]
    },
    {
     "name": "stdout",
     "output_type": "stream",
     "text": [
      "Early stopping, best iteration is:\n[299]\ttraining's l2: 2.89928e-05\tvalid_1's l2: 0.000147007\nfold n°3\nTraining until validation scores don't improve for 100 rounds.\n"
     ]
    },
    {
     "name": "stdout",
     "output_type": "stream",
     "text": [
      "Early stopping, best iteration is:\n[216]\ttraining's l2: 3.97698e-05\tvalid_1's l2: 0.000106787\nfold n°4\nTraining until validation scores don't improve for 100 rounds.\n"
     ]
    },
    {
     "name": "stdout",
     "output_type": "stream",
     "text": [
      "Early stopping, best iteration is:\n[329]\ttraining's l2: 3.01976e-05\tvalid_1's l2: 0.000110175\nfold n°5\nTraining until validation scores don't improve for 100 rounds.\n"
     ]
    },
    {
     "name": "stdout",
     "output_type": "stream",
     "text": [
      "Early stopping, best iteration is:\n[125]\ttraining's l2: 5.48433e-05\tvalid_1's l2: 0.00015266\n----------\n当前移除特征: B14_B5_intTarget_2.0_mean, CV score: 0.00006553, 最佳cv score: 0.00006449, 没效果,保留！！\nfold n°1\nTraining until validation scores don't improve for 100 rounds.\n"
     ]
    },
    {
     "name": "stdout",
     "output_type": "stream",
     "text": [
      "Early stopping, best iteration is:\n[139]\ttraining's l2: 5.0812e-05\tvalid_1's l2: 0.00013973\nfold n°2\nTraining until validation scores don't improve for 100 rounds.\n"
     ]
    },
    {
     "name": "stdout",
     "output_type": "stream",
     "text": [
      "Early stopping, best iteration is:\n[241]\ttraining's l2: 3.3867e-05\tvalid_1's l2: 0.000147755\nfold n°3\nTraining until validation scores don't improve for 100 rounds.\n"
     ]
    },
    {
     "name": "stdout",
     "output_type": "stream",
     "text": [
      "Early stopping, best iteration is:\n[144]\ttraining's l2: 5.40088e-05\tvalid_1's l2: 0.000106672\nfold n°4\nTraining until validation scores don't improve for 100 rounds.\n"
     ]
    },
    {
     "name": "stdout",
     "output_type": "stream",
     "text": [
      "Early stopping, best iteration is:\n[191]\ttraining's l2: 4.43155e-05\tvalid_1's l2: 0.000110302\nfold n°5\nTraining until validation scores don't improve for 100 rounds.\n"
     ]
    },
    {
     "name": "stdout",
     "output_type": "stream",
     "text": [
      "Early stopping, best iteration is:\n[117]\ttraining's l2: 5.78484e-05\tvalid_1's l2: 0.000153608\n----------\n当前移除特征: B14_B5_intTarget_3.0_mean, CV score: 0.00006581, 最佳cv score: 0.00006449, 没效果,保留！！\nfold n°1\nTraining until validation scores don't improve for 100 rounds.\n"
     ]
    },
    {
     "name": "stdout",
     "output_type": "stream",
     "text": [
      "Early stopping, best iteration is:\n[140]\ttraining's l2: 5.04156e-05\tvalid_1's l2: 0.000139209\nfold n°2\nTraining until validation scores don't improve for 100 rounds.\n"
     ]
    },
    {
     "name": "stdout",
     "output_type": "stream",
     "text": [
      "Early stopping, best iteration is:\n[219]\ttraining's l2: 3.65217e-05\tvalid_1's l2: 0.000146801\nfold n°3\nTraining until validation scores don't improve for 100 rounds.\n"
     ]
    },
    {
     "name": "stdout",
     "output_type": "stream",
     "text": [
      "Early stopping, best iteration is:\n[162]\ttraining's l2: 4.97747e-05\tvalid_1's l2: 0.000104683\nfold n°4\nTraining until validation scores don't improve for 100 rounds.\n"
     ]
    },
    {
     "name": "stdout",
     "output_type": "stream",
     "text": [
      "Early stopping, best iteration is:\n[470]\ttraining's l2: 2.36144e-05\tvalid_1's l2: 0.000108408\nfold n°5\nTraining until validation scores don't improve for 100 rounds.\n"
     ]
    },
    {
     "name": "stdout",
     "output_type": "stream",
     "text": [
      "Early stopping, best iteration is:\n[130]\ttraining's l2: 5.21902e-05\tvalid_1's l2: 0.000155018\n----------\n当前移除特征: B14_B5_intTarget_4.0_mean, CV score: 0.00006541, 最佳cv score: 0.00006449, 没效果,保留！！\nfold n°1\nTraining until validation scores don't improve for 100 rounds.\n"
     ]
    },
    {
     "name": "stdout",
     "output_type": "stream",
     "text": [
      "Early stopping, best iteration is:\n[156]\ttraining's l2: 4.63459e-05\tvalid_1's l2: 0.00014192\nfold n°2\nTraining until validation scores don't improve for 100 rounds.\n"
     ]
    },
    {
     "name": "stdout",
     "output_type": "stream",
     "text": [
      "Early stopping, best iteration is:\n[273]\ttraining's l2: 3.082e-05\tvalid_1's l2: 0.000146478\nfold n°3\nTraining until validation scores don't improve for 100 rounds.\n"
     ]
    },
    {
     "name": "stdout",
     "output_type": "stream",
     "text": [
      "Early stopping, best iteration is:\n[193]\ttraining's l2: 4.38362e-05\tvalid_1's l2: 0.000106358\nfold n°4\nTraining until validation scores don't improve for 100 rounds.\n"
     ]
    },
    {
     "name": "stdout",
     "output_type": "stream",
     "text": [
      "Early stopping, best iteration is:\n[334]\ttraining's l2: 2.97607e-05\tvalid_1's l2: 0.000109271\nfold n°5\nTraining until validation scores don't improve for 100 rounds.\n"
     ]
    },
    {
     "name": "stdout",
     "output_type": "stream",
     "text": [
      "Early stopping, best iteration is:\n[254]\ttraining's l2: 3.34803e-05\tvalid_1's l2: 0.000153012\n----------\n当前移除特征: B14_B6_intTarget_0.0_mean, CV score: 0.00006571, 最佳cv score: 0.00006449, 没效果,保留！！\nfold n°1\nTraining until validation scores don't improve for 100 rounds.\n"
     ]
    },
    {
     "name": "stdout",
     "output_type": "stream",
     "text": [
      "Early stopping, best iteration is:\n[122]\ttraining's l2: 5.65229e-05\tvalid_1's l2: 0.000140234\nfold n°2\nTraining until validation scores don't improve for 100 rounds.\n"
     ]
    },
    {
     "name": "stdout",
     "output_type": "stream",
     "text": [
      "Early stopping, best iteration is:\n[241]\ttraining's l2: 3.38886e-05\tvalid_1's l2: 0.000144954\nfold n°3\nTraining until validation scores don't improve for 100 rounds.\n"
     ]
    },
    {
     "name": "stdout",
     "output_type": "stream",
     "text": [
      "Early stopping, best iteration is:\n[162]\ttraining's l2: 4.97878e-05\tvalid_1's l2: 0.000103102\nfold n°4\nTraining until validation scores don't improve for 100 rounds.\n"
     ]
    },
    {
     "name": "stdout",
     "output_type": "stream",
     "text": [
      "Early stopping, best iteration is:\n[266]\ttraining's l2: 3.48335e-05\tvalid_1's l2: 0.000107998\nfold n°5\nTraining until validation scores don't improve for 100 rounds.\n"
     ]
    },
    {
     "name": "stdout",
     "output_type": "stream",
     "text": [
      "Early stopping, best iteration is:\n[106]\ttraining's l2: 6.12038e-05\tvalid_1's l2: 0.000155684\n----------\n当前移除特征: B14_B6_intTarget_1.0_mean, CV score: 0.00006520, 最佳cv score: 0.00006449, 没效果,保留！！\nfold n°1\nTraining until validation scores don't improve for 100 rounds.\n"
     ]
    },
    {
     "name": "stdout",
     "output_type": "stream",
     "text": [
      "Early stopping, best iteration is:\n[135]\ttraining's l2: 5.17699e-05\tvalid_1's l2: 0.000140633\nfold n°2\nTraining until validation scores don't improve for 100 rounds.\n"
     ]
    },
    {
     "name": "stdout",
     "output_type": "stream",
     "text": [
      "Early stopping, best iteration is:\n[287]\ttraining's l2: 2.98281e-05\tvalid_1's l2: 0.000146168\nfold n°3\nTraining until validation scores don't improve for 100 rounds.\n"
     ]
    },
    {
     "name": "stdout",
     "output_type": "stream",
     "text": [
      "Early stopping, best iteration is:\n[219]\ttraining's l2: 4.03794e-05\tvalid_1's l2: 0.000106673\nfold n°4\nTraining until validation scores don't improve for 100 rounds.\n"
     ]
    },
    {
     "name": "stdout",
     "output_type": "stream",
     "text": [
      "Early stopping, best iteration is:\n[223]\ttraining's l2: 3.94127e-05\tvalid_1's l2: 0.000110559\nfold n°5\nTraining until validation scores don't improve for 100 rounds.\n"
     ]
    },
    {
     "name": "stdout",
     "output_type": "stream",
     "text": [
      "Early stopping, best iteration is:\n[178]\ttraining's l2: 4.32397e-05\tvalid_1's l2: 0.000153311\n----------\n当前移除特征: B14_B6_intTarget_2.0_mean, CV score: 0.00006574, 最佳cv score: 0.00006449, 没效果,保留！！\nfold n°1\nTraining until validation scores don't improve for 100 rounds.\n"
     ]
    },
    {
     "name": "stdout",
     "output_type": "stream",
     "text": [
      "Early stopping, best iteration is:\n[139]\ttraining's l2: 5.12453e-05\tvalid_1's l2: 0.000141529\nfold n°2\nTraining until validation scores don't improve for 100 rounds.\n"
     ]
    },
    {
     "name": "stdout",
     "output_type": "stream",
     "text": [
      "Early stopping, best iteration is:\n[240]\ttraining's l2: 3.39026e-05\tvalid_1's l2: 0.000148416\nfold n°3\nTraining until validation scores don't improve for 100 rounds.\n"
     ]
    },
    {
     "name": "stdout",
     "output_type": "stream",
     "text": [
      "Early stopping, best iteration is:\n[146]\ttraining's l2: 5.41868e-05\tvalid_1's l2: 0.000108009\nfold n°4\nTraining until validation scores don't improve for 100 rounds.\n"
     ]
    },
    {
     "name": "stdout",
     "output_type": "stream",
     "text": [
      "Early stopping, best iteration is:\n[183]\ttraining's l2: 4.49674e-05\tvalid_1's l2: 0.000110206\nfold n°5\nTraining until validation scores don't improve for 100 rounds.\n"
     ]
    },
    {
     "name": "stdout",
     "output_type": "stream",
     "text": [
      "Early stopping, best iteration is:\n[133]\ttraining's l2: 5.2458e-05\tvalid_1's l2: 0.000152511\n----------\n当前移除特征: B14_B6_intTarget_3.0_mean, CV score: 0.00006607, 最佳cv score: 0.00006449, 没效果,保留！！\nfold n°1\nTraining until validation scores don't improve for 100 rounds.\n"
     ]
    },
    {
     "name": "stdout",
     "output_type": "stream",
     "text": [
      "Early stopping, best iteration is:\n[139]\ttraining's l2: 5.06297e-05\tvalid_1's l2: 0.000140943\nfold n°2\nTraining until validation scores don't improve for 100 rounds.\n"
     ]
    },
    {
     "name": "stdout",
     "output_type": "stream",
     "text": [
      "Early stopping, best iteration is:\n[249]\ttraining's l2: 3.31641e-05\tvalid_1's l2: 0.000144607\nfold n°3\nTraining until validation scores don't improve for 100 rounds.\n"
     ]
    },
    {
     "name": "stdout",
     "output_type": "stream",
     "text": [
      "Early stopping, best iteration is:\n[194]\ttraining's l2: 4.33511e-05\tvalid_1's l2: 0.000104923\nfold n°4\nTraining until validation scores don't improve for 100 rounds.\n"
     ]
    },
    {
     "name": "stdout",
     "output_type": "stream",
     "text": [
      "Early stopping, best iteration is:\n[303]\ttraining's l2: 3.1494e-05\tvalid_1's l2: 0.000104889\nfold n°5\nTraining until validation scores don't improve for 100 rounds.\n"
     ]
    },
    {
     "name": "stdout",
     "output_type": "stream",
     "text": [
      "Early stopping, best iteration is:\n[179]\ttraining's l2: 4.28014e-05\tvalid_1's l2: 0.000152538\n----------\n当前移除特征: B14_B6_intTarget_4.0_mean, CV score: 0.00006479, 最佳cv score: 0.00006449, 没效果,保留！！\nfold n°1\nTraining until validation scores don't improve for 100 rounds.\n"
     ]
    },
    {
     "name": "stdout",
     "output_type": "stream",
     "text": [
      "Early stopping, best iteration is:\n[116]\ttraining's l2: 5.90984e-05\tvalid_1's l2: 0.000141733\nfold n°2\nTraining until validation scores don't improve for 100 rounds.\n"
     ]
    },
    {
     "name": "stdout",
     "output_type": "stream",
     "text": [
      "Early stopping, best iteration is:\n[282]\ttraining's l2: 3.02305e-05\tvalid_1's l2: 0.000147478\nfold n°3\nTraining until validation scores don't improve for 100 rounds.\n"
     ]
    },
    {
     "name": "stdout",
     "output_type": "stream",
     "text": [
      "Early stopping, best iteration is:\n[195]\ttraining's l2: 4.35153e-05\tvalid_1's l2: 0.0001066\nfold n°4\nTraining until validation scores don't improve for 100 rounds.\n"
     ]
    },
    {
     "name": "stdout",
     "output_type": "stream",
     "text": [
      "Early stopping, best iteration is:\n[281]\ttraining's l2: 3.30156e-05\tvalid_1's l2: 0.000110779\nfold n°5\nTraining until validation scores don't improve for 100 rounds.\n"
     ]
    },
    {
     "name": "stdout",
     "output_type": "stream",
     "text": [
      "Early stopping, best iteration is:\n[179]\ttraining's l2: 4.22935e-05\tvalid_1's l2: 0.000153097\n----------\n当前移除特征: B14_B7_intTarget_0.0_mean, CV score: 0.00006597, 最佳cv score: 0.00006449, 没效果,保留！！\nfold n°1\nTraining until validation scores don't improve for 100 rounds.\n"
     ]
    },
    {
     "name": "stdout",
     "output_type": "stream",
     "text": [
      "Early stopping, best iteration is:\n[139]\ttraining's l2: 5.04509e-05\tvalid_1's l2: 0.000140955\nfold n°2\nTraining until validation scores don't improve for 100 rounds.\n"
     ]
    },
    {
     "name": "stdout",
     "output_type": "stream",
     "text": [
      "Early stopping, best iteration is:\n[287]\ttraining's l2: 2.98575e-05\tvalid_1's l2: 0.000142869\nfold n°3\nTraining until validation scores don't improve for 100 rounds.\n"
     ]
    },
    {
     "name": "stdout",
     "output_type": "stream",
     "text": [
      "Early stopping, best iteration is:\n[164]\ttraining's l2: 4.95907e-05\tvalid_1's l2: 0.000104316\nfold n°4\nTraining until validation scores don't improve for 100 rounds.\n"
     ]
    },
    {
     "name": "stdout",
     "output_type": "stream",
     "text": [
      "Early stopping, best iteration is:\n[392]\ttraining's l2: 2.64974e-05\tvalid_1's l2: 0.000108008\nfold n°5\nTraining until validation scores don't improve for 100 rounds.\n"
     ]
    },
    {
     "name": "stdout",
     "output_type": "stream",
     "text": [
      "Early stopping, best iteration is:\n[107]\ttraining's l2: 6.07464e-05\tvalid_1's l2: 0.000152415\n----------\n当前移除特征: B14_B7_intTarget_1.0_mean, CV score: 0.00006486, 最佳cv score: 0.00006449, 没效果,保留！！\nfold n°1\nTraining until validation scores don't improve for 100 rounds.\n"
     ]
    },
    {
     "name": "stdout",
     "output_type": "stream",
     "text": [
      "Early stopping, best iteration is:\n[132]\ttraining's l2: 5.27273e-05\tvalid_1's l2: 0.000140131\nfold n°2\nTraining until validation scores don't improve for 100 rounds.\n"
     ]
    },
    {
     "name": "stdout",
     "output_type": "stream",
     "text": [
      "Early stopping, best iteration is:\n[302]\ttraining's l2: 2.90677e-05\tvalid_1's l2: 0.000147113\nfold n°3\nTraining until validation scores don't improve for 100 rounds.\n"
     ]
    },
    {
     "name": "stdout",
     "output_type": "stream",
     "text": [
      "Early stopping, best iteration is:\n[189]\ttraining's l2: 4.48454e-05\tvalid_1's l2: 0.000107495\nfold n°4\nTraining until validation scores don't improve for 100 rounds.\n"
     ]
    },
    {
     "name": "stdout",
     "output_type": "stream",
     "text": [
      "Early stopping, best iteration is:\n[343]\ttraining's l2: 2.8965e-05\tvalid_1's l2: 0.000111317\nfold n°5\nTraining until validation scores don't improve for 100 rounds.\n"
     ]
    },
    {
     "name": "stdout",
     "output_type": "stream",
     "text": [
      "Early stopping, best iteration is:\n[175]\ttraining's l2: 4.32223e-05\tvalid_1's l2: 0.000153399\n----------\n当前移除特征: B14_B7_intTarget_2.0_mean, CV score: 0.00006595, 最佳cv score: 0.00006449, 没效果,保留！！\nfold n°1\nTraining until validation scores don't improve for 100 rounds.\n"
     ]
    },
    {
     "name": "stdout",
     "output_type": "stream",
     "text": [
      "Early stopping, best iteration is:\n[157]\ttraining's l2: 4.6297e-05\tvalid_1's l2: 0.000139513\nfold n°2\nTraining until validation scores don't improve for 100 rounds.\n"
     ]
    },
    {
     "name": "stdout",
     "output_type": "stream",
     "text": [
      "Early stopping, best iteration is:\n[227]\ttraining's l2: 3.5016e-05\tvalid_1's l2: 0.000145133\nfold n°3\nTraining until validation scores don't improve for 100 rounds.\n"
     ]
    },
    {
     "name": "stdout",
     "output_type": "stream",
     "text": [
      "Early stopping, best iteration is:\n[133]\ttraining's l2: 5.82048e-05\tvalid_1's l2: 0.000106341\nfold n°4\nTraining until validation scores don't improve for 100 rounds.\n"
     ]
    },
    {
     "name": "stdout",
     "output_type": "stream",
     "text": [
      "Early stopping, best iteration is:\n[232]\ttraining's l2: 3.83609e-05\tvalid_1's l2: 0.000107999\nfold n°5\nTraining until validation scores don't improve for 100 rounds.\n"
     ]
    },
    {
     "name": "stdout",
     "output_type": "stream",
     "text": [
      "Early stopping, best iteration is:\n[172]\ttraining's l2: 4.32057e-05\tvalid_1's l2: 0.000153286\n----------\n当前移除特征: B14_B7_intTarget_3.0_mean, CV score: 0.00006523, 最佳cv score: 0.00006449, 没效果,保留！！\nfold n°1\nTraining until validation scores don't improve for 100 rounds.\n"
     ]
    },
    {
     "name": "stdout",
     "output_type": "stream",
     "text": [
      "Early stopping, best iteration is:\n[142]\ttraining's l2: 5.0513e-05\tvalid_1's l2: 0.000139192\nfold n°2\nTraining until validation scores don't improve for 100 rounds.\n"
     ]
    },
    {
     "name": "stdout",
     "output_type": "stream",
     "text": [
      "Early stopping, best iteration is:\n[248]\ttraining's l2: 3.30097e-05\tvalid_1's l2: 0.00014964\nfold n°3\nTraining until validation scores don't improve for 100 rounds.\n"
     ]
    },
    {
     "name": "stdout",
     "output_type": "stream",
     "text": [
      "Early stopping, best iteration is:\n[152]\ttraining's l2: 5.28046e-05\tvalid_1's l2: 0.000108342\nfold n°4\nTraining until validation scores don't improve for 100 rounds.\n"
     ]
    },
    {
     "name": "stdout",
     "output_type": "stream",
     "text": [
      "Early stopping, best iteration is:\n[333]\ttraining's l2: 3.00009e-05\tvalid_1's l2: 0.00010851\nfold n°5\nTraining until validation scores don't improve for 100 rounds.\n"
     ]
    },
    {
     "name": "stdout",
     "output_type": "stream",
     "text": [
      "Early stopping, best iteration is:\n[155]\ttraining's l2: 4.7403e-05\tvalid_1's l2: 0.000151949\n----------\n当前移除特征: B14_B7_intTarget_4.0_mean, CV score: 0.00006577, 最佳cv score: 0.00006449, 没效果,保留！！\nfold n°1\nTraining until validation scores don't improve for 100 rounds.\n"
     ]
    },
    {
     "name": "stdout",
     "output_type": "stream",
     "text": [
      "Early stopping, best iteration is:\n[157]\ttraining's l2: 4.63012e-05\tvalid_1's l2: 0.000140071\nfold n°2\nTraining until validation scores don't improve for 100 rounds.\n"
     ]
    },
    {
     "name": "stdout",
     "output_type": "stream",
     "text": [
      "Early stopping, best iteration is:\n[295]\ttraining's l2: 2.9266e-05\tvalid_1's l2: 0.000145989\nfold n°3\nTraining until validation scores don't improve for 100 rounds.\n"
     ]
    },
    {
     "name": "stdout",
     "output_type": "stream",
     "text": [
      "Early stopping, best iteration is:\n[168]\ttraining's l2: 4.86062e-05\tvalid_1's l2: 0.000105567\nfold n°4\nTraining until validation scores don't improve for 100 rounds.\n"
     ]
    },
    {
     "name": "stdout",
     "output_type": "stream",
     "text": [
      "Early stopping, best iteration is:\n[189]\ttraining's l2: 4.43039e-05\tvalid_1's l2: 0.000109241\nfold n°5\nTraining until validation scores don't improve for 100 rounds.\n"
     ]
    },
    {
     "name": "stdout",
     "output_type": "stream",
     "text": [
      "Early stopping, best iteration is:\n[180]\ttraining's l2: 4.26024e-05\tvalid_1's l2: 0.00015163\n----------\n当前移除特征: B14_B8_intTarget_0.0_mean, CV score: 0.00006525, 最佳cv score: 0.00006449, 没效果,保留！！\nfold n°1\nTraining until validation scores don't improve for 100 rounds.\n"
     ]
    },
    {
     "name": "stdout",
     "output_type": "stream",
     "text": [
      "Early stopping, best iteration is:\n[139]\ttraining's l2: 5.02574e-05\tvalid_1's l2: 0.000139366\nfold n°2\nTraining until validation scores don't improve for 100 rounds.\n"
     ]
    },
    {
     "name": "stdout",
     "output_type": "stream",
     "text": [
      "Early stopping, best iteration is:\n[363]\ttraining's l2: 2.54927e-05\tvalid_1's l2: 0.000146473\nfold n°3\nTraining until validation scores don't improve for 100 rounds.\n"
     ]
    },
    {
     "name": "stdout",
     "output_type": "stream",
     "text": [
      "Early stopping, best iteration is:\n[218]\ttraining's l2: 4.04634e-05\tvalid_1's l2: 0.000107622\nfold n°4\nTraining until validation scores don't improve for 100 rounds.\n"
     ]
    },
    {
     "name": "stdout",
     "output_type": "stream",
     "text": [
      "Early stopping, best iteration is:\n[304]\ttraining's l2: 3.17359e-05\tvalid_1's l2: 0.000109095\nfold n°5\nTraining until validation scores don't improve for 100 rounds.\n"
     ]
    },
    {
     "name": "stdout",
     "output_type": "stream",
     "text": [
      "Early stopping, best iteration is:\n[151]\ttraining's l2: 4.84775e-05\tvalid_1's l2: 0.000152004\n----------\n当前移除特征: B14_B8_intTarget_1.0_mean, CV score: 0.00006546, 最佳cv score: 0.00006449, 没效果,保留！！\nfold n°1\nTraining until validation scores don't improve for 100 rounds.\n"
     ]
    },
    {
     "name": "stdout",
     "output_type": "stream",
     "text": [
      "Early stopping, best iteration is:\n[141]\ttraining's l2: 5.01106e-05\tvalid_1's l2: 0.000139618\nfold n°2\nTraining until validation scores don't improve for 100 rounds.\n"
     ]
    },
    {
     "name": "stdout",
     "output_type": "stream",
     "text": [
      "Early stopping, best iteration is:\n[386]\ttraining's l2: 2.4273e-05\tvalid_1's l2: 0.000146488\nfold n°3\nTraining until validation scores don't improve for 100 rounds.\n"
     ]
    },
    {
     "name": "stdout",
     "output_type": "stream",
     "text": [
      "Early stopping, best iteration is:\n[217]\ttraining's l2: 4.03177e-05\tvalid_1's l2: 0.000106877\nfold n°4\nTraining until validation scores don't improve for 100 rounds.\n"
     ]
    },
    {
     "name": "stdout",
     "output_type": "stream",
     "text": [
      "Early stopping, best iteration is:\n[253]\ttraining's l2: 3.62024e-05\tvalid_1's l2: 0.000109907\nfold n°5\nTraining until validation scores don't improve for 100 rounds.\n"
     ]
    },
    {
     "name": "stdout",
     "output_type": "stream",
     "text": [
      "Early stopping, best iteration is:\n[231]\ttraining's l2: 3.56008e-05\tvalid_1's l2: 0.000153075\n----------\n当前移除特征: B14_B8_intTarget_2.0_mean, CV score: 0.00006560, 最佳cv score: 0.00006449, 没效果,保留！！\nfold n°1\nTraining until validation scores don't improve for 100 rounds.\n"
     ]
    },
    {
     "name": "stdout",
     "output_type": "stream",
     "text": [
      "Early stopping, best iteration is:\n[157]\ttraining's l2: 4.58633e-05\tvalid_1's l2: 0.000137087\nfold n°2\nTraining until validation scores don't improve for 100 rounds.\n"
     ]
    },
    {
     "name": "stdout",
     "output_type": "stream",
     "text": [
      "Early stopping, best iteration is:\n[248]\ttraining's l2: 3.28619e-05\tvalid_1's l2: 0.000145534\nfold n°3\nTraining until validation scores don't improve for 100 rounds.\n"
     ]
    },
    {
     "name": "stdout",
     "output_type": "stream",
     "text": [
      "Early stopping, best iteration is:\n[162]\ttraining's l2: 4.99336e-05\tvalid_1's l2: 0.000106011\nfold n°4\nTraining until validation scores don't improve for 100 rounds.\n"
     ]
    },
    {
     "name": "stdout",
     "output_type": "stream",
     "text": [
      "Early stopping, best iteration is:\n[247]\ttraining's l2: 3.66698e-05\tvalid_1's l2: 0.000109188\nfold n°5\nTraining until validation scores don't improve for 100 rounds.\n"
     ]
    },
    {
     "name": "stdout",
     "output_type": "stream",
     "text": [
      "Early stopping, best iteration is:\n[181]\ttraining's l2: 4.22984e-05\tvalid_1's l2: 0.000154463\n----------\n当前移除特征: B14_B8_intTarget_3.0_mean, CV score: 0.00006523, 最佳cv score: 0.00006449, 没效果,保留！！\nfold n°1\nTraining until validation scores don't improve for 100 rounds.\n"
     ]
    },
    {
     "name": "stdout",
     "output_type": "stream",
     "text": [
      "Early stopping, best iteration is:\n[153]\ttraining's l2: 4.67007e-05\tvalid_1's l2: 0.0001401\nfold n°2\nTraining until validation scores don't improve for 100 rounds.\n"
     ]
    },
    {
     "name": "stdout",
     "output_type": "stream",
     "text": [
      "Early stopping, best iteration is:\n[212]\ttraining's l2: 3.70126e-05\tvalid_1's l2: 0.000146784\nfold n°3\nTraining until validation scores don't improve for 100 rounds.\n"
     ]
    },
    {
     "name": "stdout",
     "output_type": "stream",
     "text": [
      "Early stopping, best iteration is:\n[180]\ttraining's l2: 4.59424e-05\tvalid_1's l2: 0.000106166\nfold n°4\nTraining until validation scores don't improve for 100 rounds.\n"
     ]
    },
    {
     "name": "stdout",
     "output_type": "stream",
     "text": [
      "Early stopping, best iteration is:\n[320]\ttraining's l2: 3.06703e-05\tvalid_1's l2: 0.000108736\nfold n°5\nTraining until validation scores don't improve for 100 rounds.\n"
     ]
    },
    {
     "name": "stdout",
     "output_type": "stream",
     "text": [
      "Early stopping, best iteration is:\n[149]\ttraining's l2: 4.83174e-05\tvalid_1's l2: 0.000150593\n----------\n当前移除特征: B14_B8_intTarget_4.0_mean, CV score: 0.00006524, 最佳cv score: 0.00006449, 没效果,保留！！\nfold n°1\nTraining until validation scores don't improve for 100 rounds.\n"
     ]
    },
    {
     "name": "stdout",
     "output_type": "stream",
     "text": [
      "Early stopping, best iteration is:\n[153]\ttraining's l2: 4.70824e-05\tvalid_1's l2: 0.000138003\nfold n°2\nTraining until validation scores don't improve for 100 rounds.\n"
     ]
    },
    {
     "name": "stdout",
     "output_type": "stream",
     "text": [
      "Early stopping, best iteration is:\n[279]\ttraining's l2: 3.04896e-05\tvalid_1's l2: 0.000148841\nfold n°3\nTraining until validation scores don't improve for 100 rounds.\n"
     ]
    },
    {
     "name": "stdout",
     "output_type": "stream",
     "text": [
      "Early stopping, best iteration is:\n[185]\ttraining's l2: 4.52822e-05\tvalid_1's l2: 0.000105818\nfold n°4\nTraining until validation scores don't improve for 100 rounds.\n"
     ]
    },
    {
     "name": "stdout",
     "output_type": "stream",
     "text": [
      "Early stopping, best iteration is:\n[425]\ttraining's l2: 2.5404e-05\tvalid_1's l2: 0.000108903\nfold n°5\nTraining until validation scores don't improve for 100 rounds.\n"
     ]
    },
    {
     "name": "stdout",
     "output_type": "stream",
     "text": [
      "Early stopping, best iteration is:\n[125]\ttraining's l2: 5.44987e-05\tvalid_1's l2: 0.000154445\n----------\n当前移除特征: B14_B9_intTarget_0.0_mean, CV score: 0.00006560, 最佳cv score: 0.00006449, 没效果,保留！！\nfold n°1\nTraining until validation scores don't improve for 100 rounds.\n"
     ]
    },
    {
     "name": "stdout",
     "output_type": "stream",
     "text": [
      "Early stopping, best iteration is:\n[117]\ttraining's l2: 5.79832e-05\tvalid_1's l2: 0.00014006\nfold n°2\nTraining until validation scores don't improve for 100 rounds.\n"
     ]
    },
    {
     "name": "stdout",
     "output_type": "stream",
     "text": [
      "Early stopping, best iteration is:\n[290]\ttraining's l2: 2.95714e-05\tvalid_1's l2: 0.000144877\nfold n°3\nTraining until validation scores don't improve for 100 rounds.\n"
     ]
    },
    {
     "name": "stdout",
     "output_type": "stream",
     "text": [
      "Early stopping, best iteration is:\n[193]\ttraining's l2: 4.37326e-05\tvalid_1's l2: 0.000108408\nfold n°4\nTraining until validation scores don't improve for 100 rounds.\n"
     ]
    },
    {
     "name": "stdout",
     "output_type": "stream",
     "text": [
      "Early stopping, best iteration is:\n[265]\ttraining's l2: 3.47699e-05\tvalid_1's l2: 0.000107991\nfold n°5\nTraining until validation scores don't improve for 100 rounds.\n"
     ]
    },
    {
     "name": "stdout",
     "output_type": "stream",
     "text": [
      "Early stopping, best iteration is:\n[171]\ttraining's l2: 4.33732e-05\tvalid_1's l2: 0.000151582\n----------\n当前移除特征: B14_B9_intTarget_1.0_mean, CV score: 0.00006530, 最佳cv score: 0.00006449, 没效果,保留！！\nfold n°1\nTraining until validation scores don't improve for 100 rounds.\n"
     ]
    },
    {
     "name": "stdout",
     "output_type": "stream",
     "text": [
      "Early stopping, best iteration is:\n[135]\ttraining's l2: 5.17744e-05\tvalid_1's l2: 0.000139395\nfold n°2\nTraining until validation scores don't improve for 100 rounds.\n"
     ]
    },
    {
     "name": "stdout",
     "output_type": "stream",
     "text": [
      "Early stopping, best iteration is:\n[258]\ttraining's l2: 3.23728e-05\tvalid_1's l2: 0.00014301\nfold n°3\nTraining until validation scores don't improve for 100 rounds.\n"
     ]
    },
    {
     "name": "stdout",
     "output_type": "stream",
     "text": [
      "Early stopping, best iteration is:\n[193]\ttraining's l2: 4.46522e-05\tvalid_1's l2: 0.000106227\nfold n°4\nTraining until validation scores don't improve for 100 rounds.\n"
     ]
    },
    {
     "name": "stdout",
     "output_type": "stream",
     "text": [
      "Early stopping, best iteration is:\n[344]\ttraining's l2: 2.89633e-05\tvalid_1's l2: 0.000110637\nfold n°5\nTraining until validation scores don't improve for 100 rounds.\n"
     ]
    },
    {
     "name": "stdout",
     "output_type": "stream",
     "text": [
      "Early stopping, best iteration is:\n[149]\ttraining's l2: 4.82487e-05\tvalid_1's l2: 0.00014971\n----------\n当前移除特征: B14_B9_intTarget_2.0_mean, CV score: 0.00006490, 最佳cv score: 0.00006449, 没效果,保留！！\nfold n°1\nTraining until validation scores don't improve for 100 rounds.\n"
     ]
    },
    {
     "name": "stdout",
     "output_type": "stream",
     "text": [
      "Early stopping, best iteration is:\n[135]\ttraining's l2: 5.19828e-05\tvalid_1's l2: 0.000140922\nfold n°2\nTraining until validation scores don't improve for 100 rounds.\n"
     ]
    },
    {
     "name": "stdout",
     "output_type": "stream",
     "text": [
      "Early stopping, best iteration is:\n[258]\ttraining's l2: 3.18975e-05\tvalid_1's l2: 0.0001438\nfold n°3\nTraining until validation scores don't improve for 100 rounds.\n"
     ]
    },
    {
     "name": "stdout",
     "output_type": "stream",
     "text": [
      "Early stopping, best iteration is:\n[193]\ttraining's l2: 4.37019e-05\tvalid_1's l2: 0.000106145\nfold n°4\nTraining until validation scores don't improve for 100 rounds.\n"
     ]
    },
    {
     "name": "stdout",
     "output_type": "stream",
     "text": [
      "Early stopping, best iteration is:\n[230]\ttraining's l2: 3.86591e-05\tvalid_1's l2: 0.000109232\nfold n°5\nTraining until validation scores don't improve for 100 rounds.\n"
     ]
    },
    {
     "name": "stdout",
     "output_type": "stream",
     "text": [
      "Early stopping, best iteration is:\n[212]\ttraining's l2: 3.76671e-05\tvalid_1's l2: 0.000151897\n----------\n当前移除特征: B14_B9_intTarget_3.0_mean, CV score: 0.00006520, 最佳cv score: 0.00006449, 没效果,保留！！\nfold n°1\nTraining until validation scores don't improve for 100 rounds.\n"
     ]
    },
    {
     "name": "stdout",
     "output_type": "stream",
     "text": [
      "Early stopping, best iteration is:\n[138]\ttraining's l2: 5.0948e-05\tvalid_1's l2: 0.000138903\nfold n°2\nTraining until validation scores don't improve for 100 rounds.\n"
     ]
    },
    {
     "name": "stdout",
     "output_type": "stream",
     "text": [
      "Early stopping, best iteration is:\n[218]\ttraining's l2: 3.59329e-05\tvalid_1's l2: 0.000146299\nfold n°3\nTraining until validation scores don't improve for 100 rounds.\n"
     ]
    },
    {
     "name": "stdout",
     "output_type": "stream",
     "text": [
      "Early stopping, best iteration is:\n[193]\ttraining's l2: 4.36578e-05\tvalid_1's l2: 0.000107295\nfold n°4\nTraining until validation scores don't improve for 100 rounds.\n"
     ]
    },
    {
     "name": "stdout",
     "output_type": "stream",
     "text": [
      "Early stopping, best iteration is:\n[328]\ttraining's l2: 2.99671e-05\tvalid_1's l2: 0.000108024\nfold n°5\nTraining until validation scores don't improve for 100 rounds.\n"
     ]
    },
    {
     "name": "stdout",
     "output_type": "stream",
     "text": [
      "Early stopping, best iteration is:\n[212]\ttraining's l2: 3.78238e-05\tvalid_1's l2: 0.000155757\n----------\n当前移除特征: B14_B9_intTarget_4.0_mean, CV score: 0.00006563, 最佳cv score: 0.00006449, 没效果,保留！！\nfold n°1\nTraining until validation scores don't improve for 100 rounds.\n"
     ]
    },
    {
     "name": "stdout",
     "output_type": "stream",
     "text": [
      "Early stopping, best iteration is:\n[158]\ttraining's l2: 4.6316e-05\tvalid_1's l2: 0.000142118\nfold n°2\nTraining until validation scores don't improve for 100 rounds.\n"
     ]
    },
    {
     "name": "stdout",
     "output_type": "stream",
     "text": [
      "Early stopping, best iteration is:\n[241]\ttraining's l2: 3.35434e-05\tvalid_1's l2: 0.000147808\nfold n°3\nTraining until validation scores don't improve for 100 rounds.\n"
     ]
    },
    {
     "name": "stdout",
     "output_type": "stream",
     "text": [
      "Early stopping, best iteration is:\n[180]\ttraining's l2: 4.63036e-05\tvalid_1's l2: 0.000108118\nfold n°4\nTraining until validation scores don't improve for 100 rounds.\n"
     ]
    },
    {
     "name": "stdout",
     "output_type": "stream",
     "text": [
      "Early stopping, best iteration is:\n[406]\ttraining's l2: 2.56664e-05\tvalid_1's l2: 0.00010928\nfold n°5\nTraining until validation scores don't improve for 100 rounds.\n"
     ]
    },
    {
     "name": "stdout",
     "output_type": "stream",
     "text": [
      "Early stopping, best iteration is:\n[179]\ttraining's l2: 4.24405e-05\tvalid_1's l2: 0.000151742\n----------\n当前移除特征: B14_B10_intTarget_0.0_mean, CV score: 0.00006591, 最佳cv score: 0.00006449, 没效果,保留！！\nfold n°1\nTraining until validation scores don't improve for 100 rounds.\n"
     ]
    },
    {
     "name": "stdout",
     "output_type": "stream",
     "text": [
      "Early stopping, best iteration is:\n[138]\ttraining's l2: 5.14289e-05\tvalid_1's l2: 0.000139357\nfold n°2\nTraining until validation scores don't improve for 100 rounds.\n"
     ]
    },
    {
     "name": "stdout",
     "output_type": "stream",
     "text": [
      "Early stopping, best iteration is:\n[227]\ttraining's l2: 3.53654e-05\tvalid_1's l2: 0.000145927\nfold n°3\nTraining until validation scores don't improve for 100 rounds.\n"
     ]
    },
    {
     "name": "stdout",
     "output_type": "stream",
     "text": [
      "Early stopping, best iteration is:\n[193]\ttraining's l2: 4.39214e-05\tvalid_1's l2: 0.000107541\nfold n°4\nTraining until validation scores don't improve for 100 rounds.\n"
     ]
    },
    {
     "name": "stdout",
     "output_type": "stream",
     "text": [
      "Early stopping, best iteration is:\n[351]\ttraining's l2: 2.86416e-05\tvalid_1's l2: 0.000109576\nfold n°5\nTraining until validation scores don't improve for 100 rounds.\n"
     ]
    },
    {
     "name": "stdout",
     "output_type": "stream",
     "text": [
      "Early stopping, best iteration is:\n[134]\ttraining's l2: 5.15682e-05\tvalid_1's l2: 0.00015366\n----------\n当前移除特征: B14_B10_intTarget_1.0_mean, CV score: 0.00006561, 最佳cv score: 0.00006449, 没效果,保留！！\nfold n°1\nTraining until validation scores don't improve for 100 rounds.\n"
     ]
    },
    {
     "name": "stdout",
     "output_type": "stream",
     "text": [
      "Early stopping, best iteration is:\n[152]\ttraining's l2: 4.69391e-05\tvalid_1's l2: 0.00013992\nfold n°2\nTraining until validation scores don't improve for 100 rounds.\n"
     ]
    },
    {
     "name": "stdout",
     "output_type": "stream",
     "text": [
      "Early stopping, best iteration is:\n[243]\ttraining's l2: 3.34529e-05\tvalid_1's l2: 0.000146659\nfold n°3\nTraining until validation scores don't improve for 100 rounds.\n"
     ]
    },
    {
     "name": "stdout",
     "output_type": "stream",
     "text": [
      "Early stopping, best iteration is:\n[193]\ttraining's l2: 4.39788e-05\tvalid_1's l2: 0.000105822\nfold n°4\nTraining until validation scores don't improve for 100 rounds.\n"
     ]
    },
    {
     "name": "stdout",
     "output_type": "stream",
     "text": [
      "Early stopping, best iteration is:\n[190]\ttraining's l2: 4.46619e-05\tvalid_1's l2: 0.000111938\nfold n°5\nTraining until validation scores don't improve for 100 rounds.\n"
     ]
    },
    {
     "name": "stdout",
     "output_type": "stream",
     "text": [
      "Early stopping, best iteration is:\n[272]\ttraining's l2: 3.16743e-05\tvalid_1's l2: 0.000152401\n----------\n当前移除特征: B14_B10_intTarget_2.0_mean, CV score: 0.00006568, 最佳cv score: 0.00006449, 没效果,保留！！\nfold n°1\nTraining until validation scores don't improve for 100 rounds.\n"
     ]
    },
    {
     "name": "stdout",
     "output_type": "stream",
     "text": [
      "Early stopping, best iteration is:\n[139]\ttraining's l2: 5.06946e-05\tvalid_1's l2: 0.000139534\nfold n°2\nTraining until validation scores don't improve for 100 rounds.\n"
     ]
    },
    {
     "name": "stdout",
     "output_type": "stream",
     "text": [
      "Early stopping, best iteration is:\n[218]\ttraining's l2: 3.6424e-05\tvalid_1's l2: 0.000147729\nfold n°3\nTraining until validation scores don't improve for 100 rounds.\n"
     ]
    },
    {
     "name": "stdout",
     "output_type": "stream",
     "text": [
      "Early stopping, best iteration is:\n[172]\ttraining's l2: 4.77399e-05\tvalid_1's l2: 0.000106708\nfold n°4\nTraining until validation scores don't improve for 100 rounds.\n"
     ]
    },
    {
     "name": "stdout",
     "output_type": "stream",
     "text": [
      "Early stopping, best iteration is:\n[189]\ttraining's l2: 4.48192e-05\tvalid_1's l2: 0.00011\nfold n°5\nTraining until validation scores don't improve for 100 rounds.\n"
     ]
    },
    {
     "name": "stdout",
     "output_type": "stream",
     "text": [
      "Early stopping, best iteration is:\n[181]\ttraining's l2: 4.17198e-05\tvalid_1's l2: 0.000152817\n----------\n当前移除特征: B14_B10_intTarget_3.0_mean, CV score: 0.00006568, 最佳cv score: 0.00006449, 没效果,保留！！\nfold n°1\nTraining until validation scores don't improve for 100 rounds.\n"
     ]
    },
    {
     "name": "stdout",
     "output_type": "stream",
     "text": [
      "Early stopping, best iteration is:\n[151]\ttraining's l2: 4.70701e-05\tvalid_1's l2: 0.00014023\nfold n°2\nTraining until validation scores don't improve for 100 rounds.\n"
     ]
    },
    {
     "name": "stdout",
     "output_type": "stream",
     "text": [
      "Early stopping, best iteration is:\n[251]\ttraining's l2: 3.29836e-05\tvalid_1's l2: 0.000143081\nfold n°3\nTraining until validation scores don't improve for 100 rounds.\n"
     ]
    },
    {
     "name": "stdout",
     "output_type": "stream",
     "text": [
      "Early stopping, best iteration is:\n[185]\ttraining's l2: 4.48588e-05\tvalid_1's l2: 0.000104403\nfold n°4\nTraining until validation scores don't improve for 100 rounds.\n"
     ]
    },
    {
     "name": "stdout",
     "output_type": "stream",
     "text": [
      "Early stopping, best iteration is:\n[267]\ttraining's l2: 3.45709e-05\tvalid_1's l2: 0.000107201\nfold n°5\nTraining until validation scores don't improve for 100 rounds.\n"
     ]
    },
    {
     "name": "stdout",
     "output_type": "stream",
     "text": [
      "Early stopping, best iteration is:\n[180]\ttraining's l2: 4.22698e-05\tvalid_1's l2: 0.000151481\n----------\n当前移除特征: B14_B10_intTarget_4.0_mean, CV score: 0.00006464, 最佳cv score: 0.00006449, 没效果,保留！！\nfold n°1\nTraining until validation scores don't improve for 100 rounds.\n"
     ]
    },
    {
     "name": "stdout",
     "output_type": "stream",
     "text": [
      "Early stopping, best iteration is:\n[139]\ttraining's l2: 5.10784e-05\tvalid_1's l2: 0.000140105\nfold n°2\nTraining until validation scores don't improve for 100 rounds.\n"
     ]
    },
    {
     "name": "stdout",
     "output_type": "stream",
     "text": [
      "Early stopping, best iteration is:\n[257]\ttraining's l2: 3.25809e-05\tvalid_1's l2: 0.000144734\nfold n°3\nTraining until validation scores don't improve for 100 rounds.\n"
     ]
    },
    {
     "name": "stdout",
     "output_type": "stream",
     "text": [
      "Early stopping, best iteration is:\n[213]\ttraining's l2: 4.08525e-05\tvalid_1's l2: 0.000108183\nfold n°4\nTraining until validation scores don't improve for 100 rounds.\n"
     ]
    },
    {
     "name": "stdout",
     "output_type": "stream",
     "text": [
      "Early stopping, best iteration is:\n[231]\ttraining's l2: 3.83639e-05\tvalid_1's l2: 0.000110084\nfold n°5\nTraining until validation scores don't improve for 100 rounds.\n"
     ]
    },
    {
     "name": "stdout",
     "output_type": "stream",
     "text": [
      "Early stopping, best iteration is:\n[239]\ttraining's l2: 3.4724e-05\tvalid_1's l2: 0.000152937\n----------\n当前移除特征: B14_B11_intTarget_0.0_mean, CV score: 0.00006561, 最佳cv score: 0.00006449, 没效果,保留！！\nfold n°1\nTraining until validation scores don't improve for 100 rounds.\n"
     ]
    },
    {
     "name": "stdout",
     "output_type": "stream",
     "text": [
      "Early stopping, best iteration is:\n[156]\ttraining's l2: 4.55017e-05\tvalid_1's l2: 0.000141986\nfold n°2\nTraining until validation scores don't improve for 100 rounds.\n"
     ]
    },
    {
     "name": "stdout",
     "output_type": "stream",
     "text": [
      "Early stopping, best iteration is:\n[242]\ttraining's l2: 3.38709e-05\tvalid_1's l2: 0.000149995\nfold n°3\nTraining until validation scores don't improve for 100 rounds.\n"
     ]
    },
    {
     "name": "stdout",
     "output_type": "stream",
     "text": [
      "Early stopping, best iteration is:\n[172]\ttraining's l2: 4.73321e-05\tvalid_1's l2: 0.000105526\nfold n°4\nTraining until validation scores don't improve for 100 rounds.\n"
     ]
    },
    {
     "name": "stdout",
     "output_type": "stream",
     "text": [
      "Early stopping, best iteration is:\n[215]\ttraining's l2: 4.03175e-05\tvalid_1's l2: 0.000110908\nfold n°5\nTraining until validation scores don't improve for 100 rounds.\n"
     ]
    },
    {
     "name": "stdout",
     "output_type": "stream",
     "text": [
      "Early stopping, best iteration is:\n[178]\ttraining's l2: 4.23344e-05\tvalid_1's l2: 0.000150896\n----------\n当前移除特征: B14_B11_intTarget_1.0_mean, CV score: 0.00006593, 最佳cv score: 0.00006449, 没效果,保留！！\nfold n°1\nTraining until validation scores don't improve for 100 rounds.\n"
     ]
    },
    {
     "name": "stdout",
     "output_type": "stream",
     "text": [
      "Early stopping, best iteration is:\n[136]\ttraining's l2: 5.20308e-05\tvalid_1's l2: 0.000139606\nfold n°2\nTraining until validation scores don't improve for 100 rounds.\n"
     ]
    },
    {
     "name": "stdout",
     "output_type": "stream",
     "text": [
      "Early stopping, best iteration is:\n[267]\ttraining's l2: 3.10424e-05\tvalid_1's l2: 0.000147488\nfold n°3\nTraining until validation scores don't improve for 100 rounds.\n"
     ]
    },
    {
     "name": "stdout",
     "output_type": "stream",
     "text": [
      "Early stopping, best iteration is:\n[213]\ttraining's l2: 4.08491e-05\tvalid_1's l2: 0.000106455\nfold n°4\nTraining until validation scores don't improve for 100 rounds.\n"
     ]
    },
    {
     "name": "stdout",
     "output_type": "stream",
     "text": [
      "Early stopping, best iteration is:\n[345]\ttraining's l2: 2.88435e-05\tvalid_1's l2: 0.000106532\nfold n°5\nTraining until validation scores don't improve for 100 rounds.\n"
     ]
    },
    {
     "name": "stdout",
     "output_type": "stream",
     "text": [
      "Early stopping, best iteration is:\n[169]\ttraining's l2: 4.42443e-05\tvalid_1's l2: 0.000154909\n----------\n当前移除特征: B14_B11_intTarget_2.0_mean, CV score: 0.00006550, 最佳cv score: 0.00006449, 没效果,保留！！\nfold n°1\nTraining until validation scores don't improve for 100 rounds.\n"
     ]
    },
    {
     "name": "stdout",
     "output_type": "stream",
     "text": [
      "Early stopping, best iteration is:\n[109]\ttraining's l2: 6.12793e-05\tvalid_1's l2: 0.000138675\nfold n°2\nTraining until validation scores don't improve for 100 rounds.\n"
     ]
    },
    {
     "name": "stdout",
     "output_type": "stream",
     "text": [
      "Early stopping, best iteration is:\n[236]\ttraining's l2: 3.40005e-05\tvalid_1's l2: 0.000145432\nfold n°3\nTraining until validation scores don't improve for 100 rounds.\n"
     ]
    },
    {
     "name": "stdout",
     "output_type": "stream",
     "text": [
      "Early stopping, best iteration is:\n[169]\ttraining's l2: 4.84688e-05\tvalid_1's l2: 0.000110278\nfold n°4\nTraining until validation scores don't improve for 100 rounds.\n"
     ]
    },
    {
     "name": "stdout",
     "output_type": "stream",
     "text": [
      "Early stopping, best iteration is:\n[275]\ttraining's l2: 3.35493e-05\tvalid_1's l2: 0.000111375\nfold n°5\nTraining until validation scores don't improve for 100 rounds.\n"
     ]
    },
    {
     "name": "stdout",
     "output_type": "stream",
     "text": [
      "Early stopping, best iteration is:\n[180]\ttraining's l2: 4.24474e-05\tvalid_1's l2: 0.000149014\n----------\n当前移除特征: B14_B11_intTarget_3.0_mean, CV score: 0.00006548, 最佳cv score: 0.00006449, 没效果,保留！！\nfold n°1\nTraining until validation scores don't improve for 100 rounds.\n"
     ]
    },
    {
     "name": "stdout",
     "output_type": "stream",
     "text": [
      "Early stopping, best iteration is:\n[143]\ttraining's l2: 4.94832e-05\tvalid_1's l2: 0.000137701\nfold n°2\nTraining until validation scores don't improve for 100 rounds.\n"
     ]
    },
    {
     "name": "stdout",
     "output_type": "stream",
     "text": [
      "Early stopping, best iteration is:\n[216]\ttraining's l2: 3.60832e-05\tvalid_1's l2: 0.000147913\nfold n°3\nTraining until validation scores don't improve for 100 rounds.\n"
     ]
    },
    {
     "name": "stdout",
     "output_type": "stream",
     "text": [
      "Early stopping, best iteration is:\n[195]\ttraining's l2: 4.38275e-05\tvalid_1's l2: 0.000104593\nfold n°4\nTraining until validation scores don't improve for 100 rounds.\n"
     ]
    },
    {
     "name": "stdout",
     "output_type": "stream",
     "text": [
      "Early stopping, best iteration is:\n[231]\ttraining's l2: 3.80705e-05\tvalid_1's l2: 0.000110801\nfold n°5\nTraining until validation scores don't improve for 100 rounds.\n"
     ]
    },
    {
     "name": "stdout",
     "output_type": "stream",
     "text": [
      "Early stopping, best iteration is:\n[116]\ttraining's l2: 5.75065e-05\tvalid_1's l2: 0.000151532\n----------\n当前移除特征: B14_B11_intTarget_4.0_mean, CV score: 0.00006526, 最佳cv score: 0.00006449, 没效果,保留！！\nfold n°1\nTraining until validation scores don't improve for 100 rounds.\n"
     ]
    },
    {
     "name": "stdout",
     "output_type": "stream",
     "text": [
      "Early stopping, best iteration is:\n[151]\ttraining's l2: 4.74569e-05\tvalid_1's l2: 0.000143858\nfold n°2\nTraining until validation scores don't improve for 100 rounds.\n"
     ]
    },
    {
     "name": "stdout",
     "output_type": "stream",
     "text": [
      "Early stopping, best iteration is:\n[217]\ttraining's l2: 3.65731e-05\tvalid_1's l2: 0.000146584\nfold n°3\nTraining until validation scores don't improve for 100 rounds.\n"
     ]
    },
    {
     "name": "stdout",
     "output_type": "stream",
     "text": [
      "Early stopping, best iteration is:\n[216]\ttraining's l2: 4.01878e-05\tvalid_1's l2: 0.000105654\nfold n°4\nTraining until validation scores don't improve for 100 rounds.\n"
     ]
    },
    {
     "name": "stdout",
     "output_type": "stream",
     "text": [
      "Early stopping, best iteration is:\n[332]\ttraining's l2: 2.97298e-05\tvalid_1's l2: 0.000109659\nfold n°5\nTraining until validation scores don't improve for 100 rounds.\n"
     ]
    },
    {
     "name": "stdout",
     "output_type": "stream",
     "text": [
      "Early stopping, best iteration is:\n[266]\ttraining's l2: 3.27946e-05\tvalid_1's l2: 0.000151103\n----------\n当前移除特征: B14_B12_intTarget_0.0_mean, CV score: 0.00006569, 最佳cv score: 0.00006449, 没效果,保留！！\nfold n°1\nTraining until validation scores don't improve for 100 rounds.\n"
     ]
    },
    {
     "name": "stdout",
     "output_type": "stream",
     "text": [
      "Early stopping, best iteration is:\n[132]\ttraining's l2: 5.31504e-05\tvalid_1's l2: 0.000142509\nfold n°2\nTraining until validation scores don't improve for 100 rounds.\n"
     ]
    },
    {
     "name": "stdout",
     "output_type": "stream",
     "text": [
      "Early stopping, best iteration is:\n[419]\ttraining's l2: 2.28753e-05\tvalid_1's l2: 0.000143867\nfold n°3\nTraining until validation scores don't improve for 100 rounds.\n"
     ]
    },
    {
     "name": "stdout",
     "output_type": "stream",
     "text": [
      "Early stopping, best iteration is:\n[196]\ttraining's l2: 4.36982e-05\tvalid_1's l2: 0.000103994\nfold n°4\nTraining until validation scores don't improve for 100 rounds.\n"
     ]
    },
    {
     "name": "stdout",
     "output_type": "stream",
     "text": [
      "Early stopping, best iteration is:\n[336]\ttraining's l2: 2.94303e-05\tvalid_1's l2: 0.000107808\nfold n°5\nTraining until validation scores don't improve for 100 rounds.\n"
     ]
    },
    {
     "name": "stdout",
     "output_type": "stream",
     "text": [
      "Early stopping, best iteration is:\n[107]\ttraining's l2: 6.1155e-05\tvalid_1's l2: 0.000154155\n----------\n当前移除特征: B14_B12_intTarget_1.0_mean, CV score: 0.00006524, 最佳cv score: 0.00006449, 没效果,保留！！\nfold n°1\nTraining until validation scores don't improve for 100 rounds.\n"
     ]
    },
    {
     "name": "stdout",
     "output_type": "stream",
     "text": [
      "Early stopping, best iteration is:\n[156]\ttraining's l2: 4.6731e-05\tvalid_1's l2: 0.000140948\nfold n°2\nTraining until validation scores don't improve for 100 rounds.\n"
     ]
    },
    {
     "name": "stdout",
     "output_type": "stream",
     "text": [
      "Early stopping, best iteration is:\n[278]\ttraining's l2: 3.06479e-05\tvalid_1's l2: 0.000145375\nfold n°3\nTraining until validation scores don't improve for 100 rounds.\n"
     ]
    },
    {
     "name": "stdout",
     "output_type": "stream",
     "text": [
      "Early stopping, best iteration is:\n[206]\ttraining's l2: 4.23341e-05\tvalid_1's l2: 0.000105296\nfold n°4\nTraining until validation scores don't improve for 100 rounds.\n"
     ]
    },
    {
     "name": "stdout",
     "output_type": "stream",
     "text": [
      "Early stopping, best iteration is:\n[354]\ttraining's l2: 2.84154e-05\tvalid_1's l2: 0.000108621\nfold n°5\nTraining until validation scores don't improve for 100 rounds.\n"
     ]
    },
    {
     "name": "stdout",
     "output_type": "stream",
     "text": [
      "Early stopping, best iteration is:\n[212]\ttraining's l2: 3.8096e-05\tvalid_1's l2: 0.000153661\n----------\n当前移除特征: B14_B12_intTarget_2.0_mean, CV score: 0.00006539, 最佳cv score: 0.00006449, 没效果,保留！！\nfold n°1\nTraining until validation scores don't improve for 100 rounds.\n"
     ]
    },
    {
     "name": "stdout",
     "output_type": "stream",
     "text": [
      "Early stopping, best iteration is:\n[160]\ttraining's l2: 4.52726e-05\tvalid_1's l2: 0.00014065\nfold n°2\nTraining until validation scores don't improve for 100 rounds.\n"
     ]
    },
    {
     "name": "stdout",
     "output_type": "stream",
     "text": [
      "Early stopping, best iteration is:\n[218]\ttraining's l2: 3.64734e-05\tvalid_1's l2: 0.000147276\nfold n°3\nTraining until validation scores don't improve for 100 rounds.\n"
     ]
    },
    {
     "name": "stdout",
     "output_type": "stream",
     "text": [
      "Early stopping, best iteration is:\n[204]\ttraining's l2: 4.2206e-05\tvalid_1's l2: 0.000107723\nfold n°4\nTraining until validation scores don't improve for 100 rounds.\n"
     ]
    },
    {
     "name": "stdout",
     "output_type": "stream",
     "text": [
      "Early stopping, best iteration is:\n[334]\ttraining's l2: 2.91797e-05\tvalid_1's l2: 0.000110018\nfold n°5\nTraining until validation scores don't improve for 100 rounds.\n"
     ]
    },
    {
     "name": "stdout",
     "output_type": "stream",
     "text": [
      "Early stopping, best iteration is:\n[168]\ttraining's l2: 4.39207e-05\tvalid_1's l2: 0.000155263\n----------\n当前移除特征: B14_B12_intTarget_3.0_mean, CV score: 0.00006610, 最佳cv score: 0.00006449, 没效果,保留！！\nfold n°1\nTraining until validation scores don't improve for 100 rounds.\n"
     ]
    },
    {
     "name": "stdout",
     "output_type": "stream",
     "text": [
      "Early stopping, best iteration is:\n[188]\ttraining's l2: 4.01749e-05\tvalid_1's l2: 0.000138599\nfold n°2\nTraining until validation scores don't improve for 100 rounds.\n"
     ]
    },
    {
     "name": "stdout",
     "output_type": "stream",
     "text": [
      "Early stopping, best iteration is:\n[273]\ttraining's l2: 3.10439e-05\tvalid_1's l2: 0.000148244\nfold n°3\nTraining until validation scores don't improve for 100 rounds.\n"
     ]
    },
    {
     "name": "stdout",
     "output_type": "stream",
     "text": [
      "Early stopping, best iteration is:\n[196]\ttraining's l2: 4.31591e-05\tvalid_1's l2: 0.000105344\nfold n°4\nTraining until validation scores don't improve for 100 rounds.\n"
     ]
    },
    {
     "name": "stdout",
     "output_type": "stream",
     "text": [
      "Early stopping, best iteration is:\n[403]\ttraining's l2: 2.59245e-05\tvalid_1's l2: 0.000109521\nfold n°5\nTraining until validation scores don't improve for 100 rounds.\n"
     ]
    },
    {
     "name": "stdout",
     "output_type": "stream",
     "text": [
      "Early stopping, best iteration is:\n[143]\ttraining's l2: 4.94699e-05\tvalid_1's l2: 0.000153332\n----------\n当前移除特征: B14_B12_intTarget_4.0_mean, CV score: 0.00006551, 最佳cv score: 0.00006449, 没效果,保留！！\n----------\n优化后CV score: 0.00006449\n"
     ]
    }
   ],
   "source": [
    "def featureSelect(init_cols):\n",
    "    params = {'num_leaves': 120,\n",
    "             'min_data_in_leaf': 30, \n",
    "             'objective':'regression',\n",
    "             'max_depth': -1,\n",
    "             'learning_rate': 0.05,\n",
    "             \"min_child_samples\": 30,\n",
    "             \"boosting\": \"gbdt\",\n",
    "             \"feature_fraction\": 0.9,\n",
    "             \"bagging_freq\": 1,\n",
    "             \"bagging_fraction\": 0.9 ,\n",
    "             \"bagging_seed\": 11,\n",
    "             \"metric\": 'mse',\n",
    "             \"lambda_l1\": 0.02,\n",
    "             \"verbosity\": -1}\n",
    "    best_cols = init_cols.copy()\n",
    "    best_score = modeling_cross_validation(params, train[init_cols].values, target.values, nr_folds=5)\n",
    "    print(\"初始CV score: {:<8.8f}\".format(best_score))\n",
    "    for f in init_cols:\n",
    "\n",
    "        best_cols.remove(f)\n",
    "        score = modeling_cross_validation(params, train[best_cols].values, target.values, nr_folds=5)\n",
    "        diff = best_score - score\n",
    "        print('-'*10)\n",
    "        if diff > 0.00000002:\n",
    "            print(\"当前移除特征: {}, CV score: {:<8.8f}, 最佳cv score: {:<8.8f}, 有效果,删除！！\".format(f,score,best_score))\n",
    "            best_score = score\n",
    "        else:\n",
    "            print(\"当前移除特征: {}, CV score: {:<8.8f}, 最佳cv score: {:<8.8f}, 没效果,保留！！\".format(f,score,best_score))\n",
    "            best_cols.append(f)\n",
    "    print('-'*10)\n",
    "    print(\"优化后CV score: {:<8.8f}\".format(best_score))\n",
    "    \n",
    "    return best_cols\n",
    "train_columns_list = numerical_columns +column_mean_std+mean_columns + mean_column_cross\n",
    "best_features = featureSelect(train_columns_list)"
   ]
  },
  {
   "cell_type": "code",
   "execution_count": 244,
   "metadata": {},
   "outputs": [
    {
     "name": "stdout",
     "output_type": "stream",
     "text": [
      "78\n74\n"
     ]
    }
   ],
   "source": [
    ""
   ]
  },
  {
   "cell_type": "code",
   "execution_count": 218,
   "metadata": {},
   "outputs": [],
   "source": [
    ""
   ]
  },
  {
   "cell_type": "code",
   "execution_count": 219,
   "metadata": {},
   "outputs": [
    {
     "name": "stdout",
     "output_type": "stream",
     "text": [
      "(1381, 1422)\n(150, 1422)\n"
     ]
    }
   ],
   "source": [
    "X_train = train[best_features].values\n",
    "X_test = test[best_features].values\n",
    "# one hot\n",
    "\n",
    "enc = OneHotEncoder()\n",
    "for f in categorical_columns:\n",
    "    enc.fit(data[f].values.reshape(-1, 1))\n",
    "    X_train = sparse.hstack((X_train, enc.transform(train[f].values.reshape(-1, 1))), 'csr')\n",
    "    X_test = sparse.hstack((X_test, enc.transform(test[f].values.reshape(-1, 1))), 'csr')\n",
    "print(X_train.shape)\n",
    "print(X_test.shape)"
   ]
  },
  {
   "cell_type": "code",
   "execution_count": 220,
   "metadata": {
    "collapsed": true
   },
   "outputs": [
    {
     "name": "stdout",
     "output_type": "stream",
     "text": [
      "fold n°1\nTraining until validation scores don't improve for 100 rounds.\n"
     ]
    },
    {
     "name": "stdout",
     "output_type": "stream",
     "text": [
      "[200]\ttraining's l2: 0.000168466\tvalid_1's l2: 0.000190224\n"
     ]
    },
    {
     "name": "stdout",
     "output_type": "stream",
     "text": [
      "[400]\ttraining's l2: 0.000108229\tvalid_1's l2: 0.000139796\n"
     ]
    },
    {
     "name": "stdout",
     "output_type": "stream",
     "text": [
      "[600]\ttraining's l2: 8.52306e-05\tvalid_1's l2: 0.000123952\n"
     ]
    },
    {
     "name": "stdout",
     "output_type": "stream",
     "text": [
      "[800]\ttraining's l2: 7.50376e-05\tvalid_1's l2: 0.00011917\n"
     ]
    },
    {
     "name": "stdout",
     "output_type": "stream",
     "text": [
      "[1000]\ttraining's l2: 6.84456e-05\tvalid_1's l2: 0.000116473\n"
     ]
    },
    {
     "name": "stdout",
     "output_type": "stream",
     "text": [
      "[1200]\ttraining's l2: 6.36953e-05\tvalid_1's l2: 0.000114446\n"
     ]
    },
    {
     "name": "stdout",
     "output_type": "stream",
     "text": [
      "[1400]\ttraining's l2: 6.0182e-05\tvalid_1's l2: 0.000113186\n"
     ]
    },
    {
     "name": "stdout",
     "output_type": "stream",
     "text": [
      "[1600]\ttraining's l2: 5.75916e-05\tvalid_1's l2: 0.000112328\n"
     ]
    },
    {
     "name": "stdout",
     "output_type": "stream",
     "text": [
      "[1800]\ttraining's l2: 5.54183e-05\tvalid_1's l2: 0.000111613\n"
     ]
    },
    {
     "name": "stdout",
     "output_type": "stream",
     "text": [
      "[2000]\ttraining's l2: 5.36643e-05\tvalid_1's l2: 0.00011114\n"
     ]
    },
    {
     "name": "stdout",
     "output_type": "stream",
     "text": [
      "[2200]\ttraining's l2: 5.21257e-05\tvalid_1's l2: 0.000110769\n"
     ]
    },
    {
     "name": "stdout",
     "output_type": "stream",
     "text": [
      "[2400]\ttraining's l2: 5.08242e-05\tvalid_1's l2: 0.000110482\n"
     ]
    },
    {
     "name": "stdout",
     "output_type": "stream",
     "text": [
      "[2600]\ttraining's l2: 4.99019e-05\tvalid_1's l2: 0.000110146\nEarly stopping, best iteration is:\n[2557]\ttraining's l2: 4.99019e-05\tvalid_1's l2: 0.000110146\n"
     ]
    },
    {
     "name": "stdout",
     "output_type": "stream",
     "text": [
      "fold n°2\nTraining until validation scores don't improve for 100 rounds.\n"
     ]
    },
    {
     "name": "stdout",
     "output_type": "stream",
     "text": [
      "[200]\ttraining's l2: 0.000162969\tvalid_1's l2: 0.000202733\n"
     ]
    },
    {
     "name": "stdout",
     "output_type": "stream",
     "text": [
      "[400]\ttraining's l2: 0.000102808\tvalid_1's l2: 0.00016677\n"
     ]
    },
    {
     "name": "stdout",
     "output_type": "stream",
     "text": [
      "[600]\ttraining's l2: 7.9807e-05\tvalid_1's l2: 0.000155758\n"
     ]
    },
    {
     "name": "stdout",
     "output_type": "stream",
     "text": [
      "[800]\ttraining's l2: 6.9211e-05\tvalid_1's l2: 0.000152745\n"
     ]
    },
    {
     "name": "stdout",
     "output_type": "stream",
     "text": [
      "[1000]\ttraining's l2: 6.24278e-05\tvalid_1's l2: 0.000151065\n"
     ]
    },
    {
     "name": "stdout",
     "output_type": "stream",
     "text": [
      "[1200]\ttraining's l2: 5.74588e-05\tvalid_1's l2: 0.000150299\n"
     ]
    },
    {
     "name": "stdout",
     "output_type": "stream",
     "text": [
      "[1400]\ttraining's l2: 5.38438e-05\tvalid_1's l2: 0.000149464\n"
     ]
    },
    {
     "name": "stdout",
     "output_type": "stream",
     "text": [
      "[1600]\ttraining's l2: 5.10513e-05\tvalid_1's l2: 0.000149119\n"
     ]
    },
    {
     "name": "stdout",
     "output_type": "stream",
     "text": [
      "[1800]\ttraining's l2: 4.88757e-05\tvalid_1's l2: 0.000149111\nEarly stopping, best iteration is:\n[1773]\ttraining's l2: 4.90986e-05\tvalid_1's l2: 0.000149038\n"
     ]
    },
    {
     "name": "stdout",
     "output_type": "stream",
     "text": [
      "fold n°3\nTraining until validation scores don't improve for 100 rounds.\n"
     ]
    },
    {
     "name": "stdout",
     "output_type": "stream",
     "text": [
      "[200]\ttraining's l2: 0.000163829\tvalid_1's l2: 0.000198529\n"
     ]
    },
    {
     "name": "stdout",
     "output_type": "stream",
     "text": [
      "[400]\ttraining's l2: 0.000104203\tvalid_1's l2: 0.000156663\n"
     ]
    },
    {
     "name": "stdout",
     "output_type": "stream",
     "text": [
      "[600]\ttraining's l2: 8.07289e-05\tvalid_1's l2: 0.000141999\n"
     ]
    },
    {
     "name": "stdout",
     "output_type": "stream",
     "text": [
      "[800]\ttraining's l2: 7.07248e-05\tvalid_1's l2: 0.000137754\n"
     ]
    },
    {
     "name": "stdout",
     "output_type": "stream",
     "text": [
      "[1000]\ttraining's l2: 6.44363e-05\tvalid_1's l2: 0.000135656\n"
     ]
    },
    {
     "name": "stdout",
     "output_type": "stream",
     "text": [
      "[1200]\ttraining's l2: 6.00742e-05\tvalid_1's l2: 0.000134326\n"
     ]
    },
    {
     "name": "stdout",
     "output_type": "stream",
     "text": [
      "[1400]\ttraining's l2: 5.65721e-05\tvalid_1's l2: 0.000133629\n"
     ]
    },
    {
     "name": "stdout",
     "output_type": "stream",
     "text": [
      "[1600]\ttraining's l2: 5.39859e-05\tvalid_1's l2: 0.000133098\n"
     ]
    },
    {
     "name": "stdout",
     "output_type": "stream",
     "text": [
      "[1800]\ttraining's l2: 5.18858e-05\tvalid_1's l2: 0.000132576\n"
     ]
    },
    {
     "name": "stdout",
     "output_type": "stream",
     "text": [
      "[2000]\ttraining's l2: 5.02423e-05\tvalid_1's l2: 0.000132365\n"
     ]
    },
    {
     "name": "stdout",
     "output_type": "stream",
     "text": [
      "[2200]\ttraining's l2: 4.88218e-05\tvalid_1's l2: 0.000132187\nEarly stopping, best iteration is:\n[2252]\ttraining's l2: 4.84743e-05\tvalid_1's l2: 0.000132053\n"
     ]
    },
    {
     "name": "stdout",
     "output_type": "stream",
     "text": [
      "fold n°4\nTraining until validation scores don't improve for 100 rounds.\n"
     ]
    },
    {
     "name": "stdout",
     "output_type": "stream",
     "text": [
      "[200]\ttraining's l2: 0.000167802\tvalid_1's l2: 0.000198434\n"
     ]
    },
    {
     "name": "stdout",
     "output_type": "stream",
     "text": [
      "[400]\ttraining's l2: 0.000107086\tvalid_1's l2: 0.000154771\n"
     ]
    },
    {
     "name": "stdout",
     "output_type": "stream",
     "text": [
      "[600]\ttraining's l2: 8.31407e-05\tvalid_1's l2: 0.000138683\n"
     ]
    },
    {
     "name": "stdout",
     "output_type": "stream",
     "text": [
      "[800]\ttraining's l2: 7.17404e-05\tvalid_1's l2: 0.000132614\n"
     ]
    },
    {
     "name": "stdout",
     "output_type": "stream",
     "text": [
      "[1000]\ttraining's l2: 6.49824e-05\tvalid_1's l2: 0.00012963\n"
     ]
    },
    {
     "name": "stdout",
     "output_type": "stream",
     "text": [
      "[1200]\ttraining's l2: 6.01446e-05\tvalid_1's l2: 0.000127863\n"
     ]
    },
    {
     "name": "stdout",
     "output_type": "stream",
     "text": [
      "[1400]\ttraining's l2: 5.65451e-05\tvalid_1's l2: 0.000126792\n"
     ]
    },
    {
     "name": "stdout",
     "output_type": "stream",
     "text": [
      "[1600]\ttraining's l2: 5.36953e-05\tvalid_1's l2: 0.000125955\n"
     ]
    },
    {
     "name": "stdout",
     "output_type": "stream",
     "text": [
      "[1800]\ttraining's l2: 5.14914e-05\tvalid_1's l2: 0.000125126\n"
     ]
    },
    {
     "name": "stdout",
     "output_type": "stream",
     "text": [
      "[2000]\ttraining's l2: 4.96869e-05\tvalid_1's l2: 0.000124918\n"
     ]
    },
    {
     "name": "stdout",
     "output_type": "stream",
     "text": [
      "[2200]\ttraining's l2: 4.81993e-05\tvalid_1's l2: 0.000124553\nEarly stopping, best iteration is:\n[2193]\ttraining's l2: 4.8251e-05\tvalid_1's l2: 0.000124513\n"
     ]
    },
    {
     "name": "stdout",
     "output_type": "stream",
     "text": [
      "fold n°5\nTraining until validation scores don't improve for 100 rounds.\n"
     ]
    },
    {
     "name": "stdout",
     "output_type": "stream",
     "text": [
      "[200]\ttraining's l2: 0.000169511\tvalid_1's l2: 0.000182218\n"
     ]
    },
    {
     "name": "stdout",
     "output_type": "stream",
     "text": [
      "[400]\ttraining's l2: 0.000110791\tvalid_1's l2: 0.000124932\n"
     ]
    },
    {
     "name": "stdout",
     "output_type": "stream",
     "text": [
      "[600]\ttraining's l2: 8.63843e-05\tvalid_1's l2: 0.000107997\n"
     ]
    },
    {
     "name": "stdout",
     "output_type": "stream",
     "text": [
      "[800]\ttraining's l2: 7.47083e-05\tvalid_1's l2: 0.000103972\n"
     ]
    },
    {
     "name": "stdout",
     "output_type": "stream",
     "text": [
      "[1000]\ttraining's l2: 6.76249e-05\tvalid_1's l2: 0.000102535\n"
     ]
    },
    {
     "name": "stdout",
     "output_type": "stream",
     "text": [
      "[1200]\ttraining's l2: 6.26587e-05\tvalid_1's l2: 0.000102032\n"
     ]
    },
    {
     "name": "stdout",
     "output_type": "stream",
     "text": [
      "[1400]\ttraining's l2: 5.88565e-05\tvalid_1's l2: 0.000101627\n"
     ]
    },
    {
     "name": "stdout",
     "output_type": "stream",
     "text": [
      "[1600]\ttraining's l2: 5.60394e-05\tvalid_1's l2: 0.00010153\nEarly stopping, best iteration is:\n[1549]\ttraining's l2: 5.66456e-05\tvalid_1's l2: 0.000101442\n"
     ]
    },
    {
     "name": "stdout",
     "output_type": "stream",
     "text": [
      "CV score: 0.00012343\n"
     ]
    }
   ],
   "source": [
    "param = {'num_leaves': 120,\n",
    "         'min_data_in_leaf': 30, \n",
    "         'objective':'regression',\n",
    "         'max_depth': -1,\n",
    "         'learning_rate': 0.01,\n",
    "         \"min_child_samples\": 30,\n",
    "         \"boosting\": \"gbdt\",\n",
    "         \"feature_fraction\": 0.9,\n",
    "         \"bagging_freq\": 1,\n",
    "         \"bagging_fraction\": 0.9 ,\n",
    "         \"bagging_seed\": 11,\n",
    "         \"metric\": 'mse',\n",
    "         \"lambda_l1\": 0.1,\n",
    "         \"verbosity\": -1}\n",
    "folds = KFold(n_splits=5, shuffle=True, random_state=2018)\n",
    "oof_lgb = np.zeros(len(train))\n",
    "predictions_lgb = np.zeros(len(test))\n",
    "\n",
    "for fold_, (trn_idx, val_idx) in enumerate(folds.split(X_train, y_train)):\n",
    "    print(\"fold n°{}\".format(fold_+1))\n",
    "    trn_data = lgb.Dataset(X_train[trn_idx], y_train[trn_idx])\n",
    "    val_data = lgb.Dataset(X_train[val_idx], y_train[val_idx])\n",
    "\n",
    "    num_round = 10000\n",
    "    clf = lgb.train(param, trn_data, num_round, valid_sets = [trn_data, val_data], verbose_eval=200, early_stopping_rounds = 100)\n",
    "    oof_lgb[val_idx] = clf.predict(X_train[val_idx], num_iteration=clf.best_iteration)\n",
    "    \n",
    "    predictions_lgb += clf.predict(X_test, num_iteration=clf.best_iteration) / folds.n_splits\n",
    "\n",
    "print(\"CV score: {:<8.8f}\".format(mean_squared_error(oof_lgb, y_train)))"
   ]
  },
  {
   "cell_type": "code",
   "execution_count": 221,
   "metadata": {
    "collapsed": true
   },
   "outputs": [
    {
     "name": "stdout",
     "output_type": "stream",
     "text": [
      "fold n°1\n[0]\ttrain-rmse:0.422932\tvalid_data-rmse:0.423819\n"
     ]
    },
    {
     "name": "stdout",
     "output_type": "stream",
     "text": [
      "Multiple eval metrics have been passed: 'valid_data-rmse' will be used for early stopping.\n\n"
     ]
    },
    {
     "name": "stdout",
     "output_type": "stream",
     "text": [
      "Will train until valid_data-rmse hasn't improved in 200 rounds.\n"
     ]
    },
    {
     "name": "stdout",
     "output_type": "stream",
     "text": [
      "[100]\ttrain-rmse:0.257015\tvalid_data-rmse:0.25777\n"
     ]
    },
    {
     "name": "stdout",
     "output_type": "stream",
     "text": [
      "[200]\ttrain-rmse:0.156524\tvalid_data-rmse:0.157413\n"
     ]
    },
    {
     "name": "stdout",
     "output_type": "stream",
     "text": [
      "[300]\ttrain-rmse:0.095736\tvalid_data-rmse:0.096605\n"
     ]
    },
    {
     "name": "stdout",
     "output_type": "stream",
     "text": [
      "[400]\ttrain-rmse:0.059109\tvalid_data-rmse:0.059917\n"
     ]
    },
    {
     "name": "stdout",
     "output_type": "stream",
     "text": [
      "[500]\ttrain-rmse:0.037095\tvalid_data-rmse:0.038065\n"
     ]
    },
    {
     "name": "stdout",
     "output_type": "stream",
     "text": [
      "[600]\ttrain-rmse:0.023897\tvalid_data-rmse:0.025325\n"
     ]
    },
    {
     "name": "stdout",
     "output_type": "stream",
     "text": [
      "[700]\ttrain-rmse:0.015971\tvalid_data-rmse:0.018097\n"
     ]
    },
    {
     "name": "stdout",
     "output_type": "stream",
     "text": [
      "[800]\ttrain-rmse:0.011226\tvalid_data-rmse:0.014294\n"
     ]
    },
    {
     "name": "stdout",
     "output_type": "stream",
     "text": [
      "[900]\ttrain-rmse:0.008403\tvalid_data-rmse:0.012395\n"
     ]
    },
    {
     "name": "stdout",
     "output_type": "stream",
     "text": [
      "[1000]\ttrain-rmse:0.006701\tvalid_data-rmse:0.011518\n"
     ]
    },
    {
     "name": "stdout",
     "output_type": "stream",
     "text": [
      "[1100]\ttrain-rmse:0.005684\tvalid_data-rmse:0.011105\n"
     ]
    },
    {
     "name": "stdout",
     "output_type": "stream",
     "text": [
      "[1200]\ttrain-rmse:0.005052\tvalid_data-rmse:0.010924\n"
     ]
    },
    {
     "name": "stdout",
     "output_type": "stream",
     "text": [
      "[1300]\ttrain-rmse:0.004594\tvalid_data-rmse:0.010847\n"
     ]
    },
    {
     "name": "stdout",
     "output_type": "stream",
     "text": [
      "[1400]\ttrain-rmse:0.004205\tvalid_data-rmse:0.010799\n"
     ]
    },
    {
     "name": "stdout",
     "output_type": "stream",
     "text": [
      "[1500]\ttrain-rmse:0.003885\tvalid_data-rmse:0.010784\n"
     ]
    },
    {
     "name": "stdout",
     "output_type": "stream",
     "text": [
      "[1600]\ttrain-rmse:0.003608\tvalid_data-rmse:0.010784\n"
     ]
    },
    {
     "name": "stdout",
     "output_type": "stream",
     "text": [
      "[1700]\ttrain-rmse:0.003331\tvalid_data-rmse:0.010776\n"
     ]
    },
    {
     "name": "stdout",
     "output_type": "stream",
     "text": [
      "[1800]\ttrain-rmse:0.003058\tvalid_data-rmse:0.010786\n"
     ]
    },
    {
     "name": "stdout",
     "output_type": "stream",
     "text": [
      "[1900]\ttrain-rmse:0.002828\tvalid_data-rmse:0.010799\n"
     ]
    },
    {
     "name": "stdout",
     "output_type": "stream",
     "text": [
      "Stopping. Best iteration:\n[1705]\ttrain-rmse:0.003319\tvalid_data-rmse:0.010774\n\n"
     ]
    },
    {
     "name": "stdout",
     "output_type": "stream",
     "text": [
      "fold n°2\n"
     ]
    },
    {
     "name": "stdout",
     "output_type": "stream",
     "text": [
      "[0]\ttrain-rmse:0.424042\tvalid_data-rmse:0.419362\n"
     ]
    },
    {
     "name": "stdout",
     "output_type": "stream",
     "text": [
      "Multiple eval metrics have been passed: 'valid_data-rmse' will be used for early stopping.\n\n"
     ]
    },
    {
     "name": "stdout",
     "output_type": "stream",
     "text": [
      "Will train until valid_data-rmse hasn't improved in 200 rounds.\n"
     ]
    },
    {
     "name": "stdout",
     "output_type": "stream",
     "text": [
      "[100]\ttrain-rmse:0.257679\tvalid_data-rmse:0.254114\n"
     ]
    },
    {
     "name": "stdout",
     "output_type": "stream",
     "text": [
      "[200]\ttrain-rmse:0.156906\tvalid_data-rmse:0.153972\n"
     ]
    },
    {
     "name": "stdout",
     "output_type": "stream",
     "text": [
      "[300]\ttrain-rmse:0.095927\tvalid_data-rmse:0.093464\n"
     ]
    },
    {
     "name": "stdout",
     "output_type": "stream",
     "text": [
      "[400]\ttrain-rmse:0.059185\tvalid_data-rmse:0.057224\n"
     ]
    },
    {
     "name": "stdout",
     "output_type": "stream",
     "text": [
      "[500]\ttrain-rmse:0.037098\tvalid_data-rmse:0.035884\n"
     ]
    },
    {
     "name": "stdout",
     "output_type": "stream",
     "text": [
      "[600]\ttrain-rmse:0.023798\tvalid_data-rmse:0.0237\n"
     ]
    },
    {
     "name": "stdout",
     "output_type": "stream",
     "text": [
      "[700]\ttrain-rmse:0.015824\tvalid_data-rmse:0.017106\n"
     ]
    },
    {
     "name": "stdout",
     "output_type": "stream",
     "text": [
      "[800]\ttrain-rmse:0.011012\tvalid_data-rmse:0.013885\n"
     ]
    },
    {
     "name": "stdout",
     "output_type": "stream",
     "text": [
      "[900]\ttrain-rmse:0.008131\tvalid_data-rmse:0.012434\n"
     ]
    },
    {
     "name": "stdout",
     "output_type": "stream",
     "text": [
      "[1000]\ttrain-rmse:0.00643\tvalid_data-rmse:0.011845\n"
     ]
    },
    {
     "name": "stdout",
     "output_type": "stream",
     "text": [
      "[1100]\ttrain-rmse:0.005384\tvalid_data-rmse:0.011633\n"
     ]
    },
    {
     "name": "stdout",
     "output_type": "stream",
     "text": [
      "[1200]\ttrain-rmse:0.004717\tvalid_data-rmse:0.011569\n"
     ]
    },
    {
     "name": "stdout",
     "output_type": "stream",
     "text": [
      "[1300]\ttrain-rmse:0.004256\tvalid_data-rmse:0.011573\n"
     ]
    },
    {
     "name": "stdout",
     "output_type": "stream",
     "text": [
      "[1400]\ttrain-rmse:0.0039\tvalid_data-rmse:0.011589\n"
     ]
    },
    {
     "name": "stdout",
     "output_type": "stream",
     "text": [
      "Stopping. Best iteration:\n[1233]\ttrain-rmse:0.004546\tvalid_data-rmse:0.011565\n\n"
     ]
    },
    {
     "name": "stdout",
     "output_type": "stream",
     "text": [
      "fold n°3\n"
     ]
    },
    {
     "name": "stdout",
     "output_type": "stream",
     "text": [
      "[0]\ttrain-rmse:0.422401\tvalid_data-rmse:0.425951\n"
     ]
    },
    {
     "name": "stdout",
     "output_type": "stream",
     "text": [
      "Multiple eval metrics have been passed: 'valid_data-rmse' will be used for early stopping.\n\n"
     ]
    },
    {
     "name": "stdout",
     "output_type": "stream",
     "text": [
      "Will train until valid_data-rmse hasn't improved in 200 rounds.\n"
     ]
    },
    {
     "name": "stdout",
     "output_type": "stream",
     "text": [
      "[100]\ttrain-rmse:0.256661\tvalid_data-rmse:0.259778\n"
     ]
    },
    {
     "name": "stdout",
     "output_type": "stream",
     "text": [
      "[200]\ttrain-rmse:0.156302\tvalid_data-rmse:0.159051\n"
     ]
    },
    {
     "name": "stdout",
     "output_type": "stream",
     "text": [
      "[300]\ttrain-rmse:0.095584\tvalid_data-rmse:0.097966\n"
     ]
    },
    {
     "name": "stdout",
     "output_type": "stream",
     "text": [
      "[400]\ttrain-rmse:0.059003\tvalid_data-rmse:0.061058\n"
     ]
    },
    {
     "name": "stdout",
     "output_type": "stream",
     "text": [
      "[500]\ttrain-rmse:0.037036\tvalid_data-rmse:0.039009\n"
     ]
    },
    {
     "name": "stdout",
     "output_type": "stream",
     "text": [
      "[600]\ttrain-rmse:0.023844\tvalid_data-rmse:0.025986\n"
     ]
    },
    {
     "name": "stdout",
     "output_type": "stream",
     "text": [
      "[700]\ttrain-rmse:0.015926\tvalid_data-rmse:0.018642\n"
     ]
    },
    {
     "name": "stdout",
     "output_type": "stream",
     "text": [
      "[800]\ttrain-rmse:0.011168\tvalid_data-rmse:0.01481\n"
     ]
    },
    {
     "name": "stdout",
     "output_type": "stream",
     "text": [
      "[900]\ttrain-rmse:0.008291\tvalid_data-rmse:0.012932\n"
     ]
    },
    {
     "name": "stdout",
     "output_type": "stream",
     "text": [
      "[1000]\ttrain-rmse:0.006584\tvalid_data-rmse:0.012097\n"
     ]
    },
    {
     "name": "stdout",
     "output_type": "stream",
     "text": [
      "[1100]\ttrain-rmse:0.005533\tvalid_data-rmse:0.011751\n"
     ]
    },
    {
     "name": "stdout",
     "output_type": "stream",
     "text": [
      "[1200]\ttrain-rmse:0.004861\tvalid_data-rmse:0.011589\n"
     ]
    },
    {
     "name": "stdout",
     "output_type": "stream",
     "text": [
      "[1300]\ttrain-rmse:0.004374\tvalid_data-rmse:0.011535\n"
     ]
    },
    {
     "name": "stdout",
     "output_type": "stream",
     "text": [
      "[1400]\ttrain-rmse:0.004038\tvalid_data-rmse:0.011525\n"
     ]
    },
    {
     "name": "stdout",
     "output_type": "stream",
     "text": [
      "[1500]\ttrain-rmse:0.003742\tvalid_data-rmse:0.011521\n"
     ]
    },
    {
     "name": "stdout",
     "output_type": "stream",
     "text": [
      "[1600]\ttrain-rmse:0.00349\tvalid_data-rmse:0.011535\n"
     ]
    },
    {
     "name": "stdout",
     "output_type": "stream",
     "text": [
      "Stopping. Best iteration:\n[1481]\ttrain-rmse:0.003786\tvalid_data-rmse:0.011518\n\n"
     ]
    },
    {
     "name": "stdout",
     "output_type": "stream",
     "text": [
      "fold n°4\n"
     ]
    },
    {
     "name": "stdout",
     "output_type": "stream",
     "text": [
      "[0]\ttrain-rmse:0.422949\tvalid_data-rmse:0.423757\n"
     ]
    },
    {
     "name": "stdout",
     "output_type": "stream",
     "text": [
      "Multiple eval metrics have been passed: 'valid_data-rmse' will be used for early stopping.\n\n"
     ]
    },
    {
     "name": "stdout",
     "output_type": "stream",
     "text": [
      "Will train until valid_data-rmse hasn't improved in 200 rounds.\n"
     ]
    },
    {
     "name": "stdout",
     "output_type": "stream",
     "text": [
      "[100]\ttrain-rmse:0.25699\tvalid_data-rmse:0.256929\n"
     ]
    },
    {
     "name": "stdout",
     "output_type": "stream",
     "text": [
      "[200]\ttrain-rmse:0.15649\tvalid_data-rmse:0.156286\n"
     ]
    },
    {
     "name": "stdout",
     "output_type": "stream",
     "text": [
      "[300]\ttrain-rmse:0.095706\tvalid_data-rmse:0.095612\n"
     ]
    },
    {
     "name": "stdout",
     "output_type": "stream",
     "text": [
      "[400]\ttrain-rmse:0.05909\tvalid_data-rmse:0.059059\n"
     ]
    },
    {
     "name": "stdout",
     "output_type": "stream",
     "text": [
      "[500]\ttrain-rmse:0.037083\tvalid_data-rmse:0.037361\n"
     ]
    },
    {
     "name": "stdout",
     "output_type": "stream",
     "text": [
      "[600]\ttrain-rmse:0.023842\tvalid_data-rmse:0.024731\n"
     ]
    },
    {
     "name": "stdout",
     "output_type": "stream",
     "text": [
      "[700]\ttrain-rmse:0.015909\tvalid_data-rmse:0.017769\n"
     ]
    },
    {
     "name": "stdout",
     "output_type": "stream",
     "text": [
      "[800]\ttrain-rmse:0.011127\tvalid_data-rmse:0.014192\n"
     ]
    },
    {
     "name": "stdout",
     "output_type": "stream",
     "text": [
      "[900]\ttrain-rmse:0.008231\tvalid_data-rmse:0.012499\n"
     ]
    },
    {
     "name": "stdout",
     "output_type": "stream",
     "text": [
      "[1000]\ttrain-rmse:0.00651\tvalid_data-rmse:0.01177\n"
     ]
    },
    {
     "name": "stdout",
     "output_type": "stream",
     "text": [
      "[1100]\ttrain-rmse:0.005437\tvalid_data-rmse:0.011445\n"
     ]
    },
    {
     "name": "stdout",
     "output_type": "stream",
     "text": [
      "[1200]\ttrain-rmse:0.00477\tvalid_data-rmse:0.011313\n"
     ]
    },
    {
     "name": "stdout",
     "output_type": "stream",
     "text": [
      "[1300]\ttrain-rmse:0.004297\tvalid_data-rmse:0.011258\n"
     ]
    },
    {
     "name": "stdout",
     "output_type": "stream",
     "text": [
      "[1400]\ttrain-rmse:0.003898\tvalid_data-rmse:0.011242\n"
     ]
    },
    {
     "name": "stdout",
     "output_type": "stream",
     "text": [
      "[1500]\ttrain-rmse:0.00358\tvalid_data-rmse:0.011238\n"
     ]
    },
    {
     "name": "stdout",
     "output_type": "stream",
     "text": [
      "[1600]\ttrain-rmse:0.003278\tvalid_data-rmse:0.011249\n"
     ]
    },
    {
     "name": "stdout",
     "output_type": "stream",
     "text": [
      "Stopping. Best iteration:\n[1473]\ttrain-rmse:0.00366\tvalid_data-rmse:0.011237\n\n"
     ]
    },
    {
     "name": "stdout",
     "output_type": "stream",
     "text": [
      "fold n°5\n"
     ]
    },
    {
     "name": "stdout",
     "output_type": "stream",
     "text": [
      "[0]\ttrain-rmse:0.423228\tvalid_data-rmse:0.422635\n"
     ]
    },
    {
     "name": "stdout",
     "output_type": "stream",
     "text": [
      "Multiple eval metrics have been passed: 'valid_data-rmse' will be used for early stopping.\n\n"
     ]
    },
    {
     "name": "stdout",
     "output_type": "stream",
     "text": [
      "Will train until valid_data-rmse hasn't improved in 200 rounds.\n"
     ]
    },
    {
     "name": "stdout",
     "output_type": "stream",
     "text": [
      "[100]\ttrain-rmse:0.257176\tvalid_data-rmse:0.256849\n"
     ]
    },
    {
     "name": "stdout",
     "output_type": "stream",
     "text": [
      "[200]\ttrain-rmse:0.156629\tvalid_data-rmse:0.156386\n"
     ]
    },
    {
     "name": "stdout",
     "output_type": "stream",
     "text": [
      "[300]\ttrain-rmse:0.095791\tvalid_data-rmse:0.095658\n"
     ]
    },
    {
     "name": "stdout",
     "output_type": "stream",
     "text": [
      "[400]\ttrain-rmse:0.059153\tvalid_data-rmse:0.059241\n"
     ]
    },
    {
     "name": "stdout",
     "output_type": "stream",
     "text": [
      "[500]\ttrain-rmse:0.037162\tvalid_data-rmse:0.037637\n"
     ]
    },
    {
     "name": "stdout",
     "output_type": "stream",
     "text": [
      "[600]\ttrain-rmse:0.023933\tvalid_data-rmse:0.024972\n"
     ]
    },
    {
     "name": "stdout",
     "output_type": "stream",
     "text": [
      "[700]\ttrain-rmse:0.016019\tvalid_data-rmse:0.017812\n"
     ]
    },
    {
     "name": "stdout",
     "output_type": "stream",
     "text": [
      "[800]\ttrain-rmse:0.011269\tvalid_data-rmse:0.013979\n"
     ]
    },
    {
     "name": "stdout",
     "output_type": "stream",
     "text": [
      "[900]\ttrain-rmse:0.008443\tvalid_data-rmse:0.012051\n"
     ]
    },
    {
     "name": "stdout",
     "output_type": "stream",
     "text": [
      "[1000]\ttrain-rmse:0.006772\tvalid_data-rmse:0.011104\n"
     ]
    },
    {
     "name": "stdout",
     "output_type": "stream",
     "text": [
      "[1100]\ttrain-rmse:0.005763\tvalid_data-rmse:0.01068\n"
     ]
    },
    {
     "name": "stdout",
     "output_type": "stream",
     "text": [
      "[1200]\ttrain-rmse:0.005114\tvalid_data-rmse:0.010485\n"
     ]
    },
    {
     "name": "stdout",
     "output_type": "stream",
     "text": [
      "[1300]\ttrain-rmse:0.004646\tvalid_data-rmse:0.010386\n"
     ]
    },
    {
     "name": "stdout",
     "output_type": "stream",
     "text": [
      "[1400]\ttrain-rmse:0.004304\tvalid_data-rmse:0.010344\n"
     ]
    },
    {
     "name": "stdout",
     "output_type": "stream",
     "text": [
      "[1500]\ttrain-rmse:0.004\tvalid_data-rmse:0.010331\n"
     ]
    },
    {
     "name": "stdout",
     "output_type": "stream",
     "text": [
      "[1600]\ttrain-rmse:0.003696\tvalid_data-rmse:0.010325\n"
     ]
    },
    {
     "name": "stdout",
     "output_type": "stream",
     "text": [
      "[1700]\ttrain-rmse:0.003394\tvalid_data-rmse:0.010334\n"
     ]
    },
    {
     "name": "stdout",
     "output_type": "stream",
     "text": [
      "Stopping. Best iteration:\n[1564]\ttrain-rmse:0.003801\tvalid_data-rmse:0.010322\n\n"
     ]
    },
    {
     "name": "stdout",
     "output_type": "stream",
     "text": [
      "CV score: 0.00012306\n"
     ]
    }
   ],
   "source": [
    "##### xgb\n",
    "xgb_params = {'eta': 0.005, 'max_depth': 10, 'subsample': 0.8, 'colsample_bytree': 0.8, \n",
    "          'objective': 'reg:linear', 'eval_metric': 'rmse', 'silent': True, 'nthread': 4}\n",
    "\n",
    "folds = KFold(n_splits=5, shuffle=True, random_state=2018)\n",
    "oof_xgb = np.zeros(len(train))\n",
    "predictions_xgb = np.zeros(len(test))\n",
    "\n",
    "for fold_, (trn_idx, val_idx) in enumerate(folds.split(X_train, y_train)):\n",
    "    print(\"fold n°{}\".format(fold_+1))\n",
    "    trn_data = xgb.DMatrix(X_train[trn_idx], y_train[trn_idx])\n",
    "    val_data = xgb.DMatrix(X_train[val_idx], y_train[val_idx])\n",
    "\n",
    "    watchlist = [(trn_data, 'train'), (val_data, 'valid_data')]\n",
    "    clf = xgb.train(dtrain=trn_data, num_boost_round=20000, evals=watchlist, early_stopping_rounds=200, verbose_eval=100, params=xgb_params)\n",
    "    oof_xgb[val_idx] = clf.predict(xgb.DMatrix(X_train[val_idx]), ntree_limit=clf.best_ntree_limit)\n",
    "    predictions_xgb += clf.predict(xgb.DMatrix(X_test), ntree_limit=clf.best_ntree_limit) / folds.n_splits\n",
    "    \n",
    "print(\"CV score: {:<8.8f}\".format(mean_squared_error(oof_xgb, y_train)))"
   ]
  },
  {
   "cell_type": "code",
   "execution_count": 222,
   "metadata": {},
   "outputs": [
    {
     "name": "stdout",
     "output_type": "stream",
     "text": [
      "fold 0\nfold 1\nfold 2\nfold 3\nfold 4\nfold 5\nfold 6\nfold 7\nfold 8\nfold 9\n"
     ]
    },
    {
     "data": {
      "text/plain": [
       "0.00011920924670034524"
      ]
     },
     "execution_count": 222,
     "metadata": {},
     "output_type": "execute_result"
    }
   ],
   "source": [
    "# 将lgb和xgb的结果进行stacking\n",
    "train_stack = np.vstack([oof_lgb,oof_xgb]).transpose()\n",
    "test_stack = np.vstack([predictions_lgb, predictions_xgb]).transpose()\n",
    "\n",
    "folds_stack = RepeatedKFold(n_splits=5, n_repeats=2, random_state=4590)\n",
    "oof_stack = np.zeros(train_stack.shape[0])\n",
    "predictions = np.zeros(test_stack.shape[0])\n",
    "\n",
    "for fold_, (trn_idx, val_idx) in enumerate(folds_stack.split(train_stack,target)):\n",
    "    print(\"fold {}\".format(fold_))\n",
    "    trn_data, trn_y = train_stack[trn_idx], target.iloc[trn_idx].values\n",
    "    val_data, val_y = train_stack[val_idx], target.iloc[val_idx].values\n",
    "    \n",
    "    clf_3 = BayesianRidge()\n",
    "    clf_3.fit(trn_data, trn_y)\n",
    "    \n",
    "    oof_stack[val_idx] = clf_3.predict(val_data)\n",
    "    predictions += clf_3.predict(test_stack) / 10\n",
    "    \n",
    "mean_squared_error(target.values, oof_stack)"
   ]
  },
  {
   "cell_type": "code",
   "execution_count": null,
   "metadata": {},
   "outputs": [],
   "source": [
    "def find_best_feature(feature_name, cv_fold):\n",
    "    xgb_model = XGBRegressor(learning_rate=0.005,\n",
    "                         seed=27,\n",
    "                         max_depth=20,\n",
    "                         gamma=0.01,\n",
    "                         subsample=0.8,\n",
    "                         n_estimators=20000,\n",
    "                        #reg_alpha = 0.1,\n",
    "                         #reg_lambda=2,\n",
    "                         n_jobs=3)\n",
    "    dtrain = xgb.DMatrix(train_data[feature_name], label=train_label)\n",
    "    xgb_param = xgb_model.get_xgb_params()\n",
    "    bst_xgb = xgb.cv(xgb_param, dtrain, num_boost_round=xgb_model.get_params()['n_estimators'], nfold=cv_fold,\n",
    "                          metrics='rmse', early_stopping_rounds=200, show_stdv=False,\n",
    "                          verbose_eval=100)\n",
    "    m2 = bst_xgb['test-rmse-mean'].values[-1]\n",
    "\n",
    "    return m2\n",
    "\n",
    "# 按重要性从前往后\n",
    "now_feature = []\n",
    "check = 0\n",
    "feature_num_limit = 120\n",
    "feature_importance = list(feature_importance['feature'].values)\n",
    "for i in range(len(feature_importance)):\n",
    "    if len(now_feature) >= feature_num_limit: break\n",
    "    if i == 0:\n",
    "        now_feature.append(feature_importance[i])\n",
    "        continue\n",
    "    now_feature.append(feature_importance[i])\n",
    "    current_score = find_best_feature(now_feature, 5)\n",
    "    if current_score > check:\n",
    "        print('目前特征长度为', len(now_feature), ' 最佳CV', current_score, ' 成功加入第', i + 1, '个', '增值为', current_score - check)\n",
    "        pd.DataFrame(now_feature, columns=['feature_names']).to_csv( 'new_cross_feature.csv')\n",
    "        check = current_score\n",
    "    else:\n",
    "        print('目前特征长度为', len(now_feature), '进度: ' + str(i), ' 最佳CV', current_score)\n",
    "        now_feature.pop()"
   ]
  }
 ],
 "metadata": {
  "kernelspec": {
   "display_name": "Python 2",
   "language": "python",
   "name": "python2"
  },
  "language_info": {
   "codemirror_mode": {
    "name": "ipython",
    "version": 2.0
   },
   "file_extension": ".py",
   "mimetype": "text/x-python",
   "name": "python",
   "nbconvert_exporter": "python",
   "pygments_lexer": "ipython2",
   "version": "2.7.6"
  }
 },
 "nbformat": 4,
 "nbformat_minor": 0
}