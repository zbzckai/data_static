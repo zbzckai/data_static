{
 "cells": [
  {
   "cell_type": "code",
   "execution_count": 164,
   "metadata": {
    "collapsed": true
   },
   "outputs": [
    {
     "data": {
      "text/html": [
       "<script type=\"text/javascript\">window.PlotlyConfig = {MathJaxConfig: 'local'};</script><script type=\"text/javascript\">if (window.MathJax) {MathJax.Hub.Config({SVG: {font: \"STIX-Web\"}});}</script><script>requirejs.config({paths: { 'plotly': ['https://cdn.plot.ly/plotly-latest.min']},});if(!window._Plotly) {require(['plotly'],function(plotly) {window._Plotly=plotly;});}</script>"
      ],
      "text/plain": [
       "<script type=\"text/javascript\">window.PlotlyConfig = {MathJaxConfig: 'local'};</script><script type=\"text/javascript\">if (window.MathJax) {MathJax.Hub.Config({SVG: {font: \"STIX-Web\"}});}</script><script>requirejs.config({paths: { 'plotly': ['https://cdn.plot.ly/plotly-latest.min']},});if(!window._Plotly) {require(['plotly'],function(plotly) {window._Plotly=plotly;});}</script>"
      ]
     },
     "execution_count": 0,
     "metadata": {},
     "output_type": "execute_result"
    }
   ],
   "source": [
    "import numpy as np \n",
    "import pandas as pd \n",
    "import lightgbm as lgb\n",
    "import xgboost as xgb\n",
    "from sklearn.linear_model import BayesianRidge\n",
    "from sklearn.model_selection import KFold, RepeatedKFold\n",
    "from sklearn.preprocessing import OneHotEncoder, LabelEncoder\n",
    "from scipy import sparse\n",
    "import warnings\n",
    "import time\n",
    "import sys\n",
    "import os\n",
    "import re\n",
    "import datetime\n",
    "import matplotlib.pyplot as plt\n",
    "import seaborn as sns\n",
    "import plotly.offline as py\n",
    "py.init_notebook_mode(connected=True)\n",
    "import plotly.graph_objs as go\n",
    "import plotly.tools as tls\n",
    "from sklearn.metrics import mean_squared_error\n",
    "from sklearn.metrics import log_loss\n",
    "warnings.simplefilter(action='ignore', category=FutureWarning)\n",
    "warnings.filterwarnings(\"ignore\")\n",
    "pd.set_option('display.max_columns',None)\n",
    "pd.set_option('max_colwidth',100)"
   ]
  },
  {
   "cell_type": "code",
   "execution_count": 165,
   "metadata": {},
   "outputs": [],
   "source": [
    "train = pd.read_csv('./jinnan_round1_train_20181227.csv', encoding = 'gb18030')\n",
    "test  = pd.read_csv('./jinnan_round1_testA_20181227.csv', encoding = 'gb18030')"
   ]
  },
  {
   "cell_type": "code",
   "execution_count": 166,
   "metadata": {},
   "outputs": [
    {
     "data": {
      "text/html": [
       "<div>\n",
       "<style scoped>\n",
       "    .dataframe tbody tr th:only-of-type {\n",
       "        vertical-align: middle;\n",
       "    }\n",
       "\n",
       "    .dataframe tbody tr th {\n",
       "        vertical-align: top;\n",
       "    }\n",
       "\n",
       "    .dataframe thead th {\n",
       "        text-align: right;\n",
       "    }\n",
       "</style>\n",
       "<table border=\"1\" class=\"dataframe\">\n",
       "  <thead>\n",
       "    <tr style=\"text-align: right;\">\n",
       "      <th></th>\n",
       "      <th>Feature</th>\n",
       "      <th>Unique_values</th>\n",
       "      <th>Percentage of missing values</th>\n",
       "      <th>Percentage of values in the biggest category</th>\n",
       "      <th>type</th>\n",
       "    </tr>\n",
       "  </thead>\n",
       "  <tbody>\n",
       "    <tr>\n",
       "      <th>2</th>\n",
       "      <td>A2</td>\n",
       "      <td>1</td>\n",
       "      <td>96.991404</td>\n",
       "      <td>96.991404</td>\n",
       "      <td>float64</td>\n",
       "    </tr>\n",
       "    <tr>\n",
       "      <th>7</th>\n",
       "      <td>A7</td>\n",
       "      <td>75</td>\n",
       "      <td>89.326648</td>\n",
       "      <td>89.326648</td>\n",
       "      <td>object</td>\n",
       "    </tr>\n",
       "    <tr>\n",
       "      <th>8</th>\n",
       "      <td>A8</td>\n",
       "      <td>8</td>\n",
       "      <td>89.326648</td>\n",
       "      <td>89.326648</td>\n",
       "      <td>float64</td>\n",
       "    </tr>\n",
       "    <tr>\n",
       "      <th>39</th>\n",
       "      <td>B11</td>\n",
       "      <td>37</td>\n",
       "      <td>60.816619</td>\n",
       "      <td>60.816619</td>\n",
       "      <td>object</td>\n",
       "    </tr>\n",
       "    <tr>\n",
       "      <th>38</th>\n",
       "      <td>B10</td>\n",
       "      <td>180</td>\n",
       "      <td>17.478510</td>\n",
       "      <td>17.478510</td>\n",
       "      <td>object</td>\n",
       "    </tr>\n",
       "    <tr>\n",
       "      <th>3</th>\n",
       "      <td>A3</td>\n",
       "      <td>3</td>\n",
       "      <td>3.008596</td>\n",
       "      <td>95.702006</td>\n",
       "      <td>float64</td>\n",
       "    </tr>\n",
       "    <tr>\n",
       "      <th>29</th>\n",
       "      <td>B1</td>\n",
       "      <td>21</td>\n",
       "      <td>0.716332</td>\n",
       "      <td>53.796562</td>\n",
       "      <td>float64</td>\n",
       "    </tr>\n",
       "    <tr>\n",
       "      <th>23</th>\n",
       "      <td>A23</td>\n",
       "      <td>3</td>\n",
       "      <td>0.214900</td>\n",
       "      <td>99.641834</td>\n",
       "      <td>float64</td>\n",
       "    </tr>\n",
       "    <tr>\n",
       "      <th>21</th>\n",
       "      <td>A21</td>\n",
       "      <td>12</td>\n",
       "      <td>0.214900</td>\n",
       "      <td>89.828080</td>\n",
       "      <td>float64</td>\n",
       "    </tr>\n",
       "    <tr>\n",
       "      <th>30</th>\n",
       "      <td>B2</td>\n",
       "      <td>3</td>\n",
       "      <td>0.143266</td>\n",
       "      <td>98.424069</td>\n",
       "      <td>float64</td>\n",
       "    </tr>\n",
       "  </tbody>\n",
       "</table>\n",
       "</div>"
      ],
      "text/plain": [
       "<div>\n",
       "<style scoped>\n",
       "    .dataframe tbody tr th:only-of-type {\n",
       "        vertical-align: middle;\n",
       "    }\n",
       "\n",
       "    .dataframe tbody tr th {\n",
       "        vertical-align: top;\n",
       "    }\n",
       "\n",
       "    .dataframe thead th {\n",
       "        text-align: right;\n",
       "    }\n",
       "</style>\n",
       "<table border=\"1\" class=\"dataframe\">\n",
       "  <thead>\n",
       "    <tr style=\"text-align: right;\">\n",
       "      <th></th>\n",
       "      <th>Feature</th>\n",
       "      <th>Unique_values</th>\n",
       "      <th>Percentage of missing values</th>\n",
       "      <th>Percentage of values in the biggest category</th>\n",
       "      <th>type</th>\n",
       "    </tr>\n",
       "  </thead>\n",
       "  <tbody>\n",
       "    <tr>\n",
       "      <th>2</th>\n",
       "      <td>A2</td>\n",
       "      <td>1</td>\n",
       "      <td>96.991404</td>\n",
       "      <td>96.991404</td>\n",
       "      <td>float64</td>\n",
       "    </tr>\n",
       "    <tr>\n",
       "      <th>7</th>\n",
       "      <td>A7</td>\n",
       "      <td>75</td>\n",
       "      <td>89.326648</td>\n",
       "      <td>89.326648</td>\n",
       "      <td>object</td>\n",
       "    </tr>\n",
       "    <tr>\n",
       "      <th>8</th>\n",
       "      <td>A8</td>\n",
       "      <td>8</td>\n",
       "      <td>89.326648</td>\n",
       "      <td>89.326648</td>\n",
       "      <td>float64</td>\n",
       "    </tr>\n",
       "    <tr>\n",
       "      <th>39</th>\n",
       "      <td>B11</td>\n",
       "      <td>37</td>\n",
       "      <td>60.816619</td>\n",
       "      <td>60.816619</td>\n",
       "      <td>object</td>\n",
       "    </tr>\n",
       "    <tr>\n",
       "      <th>38</th>\n",
       "      <td>B10</td>\n",
       "      <td>180</td>\n",
       "      <td>17.478510</td>\n",
       "      <td>17.478510</td>\n",
       "      <td>object</td>\n",
       "    </tr>\n",
       "    <tr>\n",
       "      <th>3</th>\n",
       "      <td>A3</td>\n",
       "      <td>3</td>\n",
       "      <td>3.008596</td>\n",
       "      <td>95.702006</td>\n",
       "      <td>float64</td>\n",
       "    </tr>\n",
       "    <tr>\n",
       "      <th>29</th>\n",
       "      <td>B1</td>\n",
       "      <td>21</td>\n",
       "      <td>0.716332</td>\n",
       "      <td>53.796562</td>\n",
       "      <td>float64</td>\n",
       "    </tr>\n",
       "    <tr>\n",
       "      <th>23</th>\n",
       "      <td>A23</td>\n",
       "      <td>3</td>\n",
       "      <td>0.214900</td>\n",
       "      <td>99.641834</td>\n",
       "      <td>float64</td>\n",
       "    </tr>\n",
       "    <tr>\n",
       "      <th>21</th>\n",
       "      <td>A21</td>\n",
       "      <td>12</td>\n",
       "      <td>0.214900</td>\n",
       "      <td>89.828080</td>\n",
       "      <td>float64</td>\n",
       "    </tr>\n",
       "    <tr>\n",
       "      <th>30</th>\n",
       "      <td>B2</td>\n",
       "      <td>3</td>\n",
       "      <td>0.143266</td>\n",
       "      <td>98.424069</td>\n",
       "      <td>float64</td>\n",
       "    </tr>\n",
       "  </tbody>\n",
       "</table>\n",
       "</div>"
      ]
     },
     "execution_count": 166,
     "metadata": {},
     "output_type": "execute_result"
    }
   ],
   "source": [
    "stats = []\n",
    "for col in train.columns:\n",
    "    stats.append((col, train[col].nunique(), train[col].isnull().sum() * 100 / train.shape[0], train[col].value_counts(normalize=True, dropna=False).values[0] * 100, train[col].dtype))\n",
    "    \n",
    "stats_df = pd.DataFrame(stats, columns=['Feature', 'Unique_values', 'Percentage of missing values', 'Percentage of values in the biggest category', 'type'])\n",
    "stats_df.sort_values('Percentage of missing values', ascending=False)[:10]"
   ]
  },
  {
   "cell_type": "code",
   "execution_count": 167,
   "metadata": {},
   "outputs": [
    {
     "data": {
      "text/html": [
       "<div>\n",
       "<style scoped>\n",
       "    .dataframe tbody tr th:only-of-type {\n",
       "        vertical-align: middle;\n",
       "    }\n",
       "\n",
       "    .dataframe tbody tr th {\n",
       "        vertical-align: top;\n",
       "    }\n",
       "\n",
       "    .dataframe thead th {\n",
       "        text-align: right;\n",
       "    }\n",
       "</style>\n",
       "<table border=\"1\" class=\"dataframe\">\n",
       "  <thead>\n",
       "    <tr style=\"text-align: right;\">\n",
       "      <th></th>\n",
       "      <th>Feature</th>\n",
       "      <th>Unique_values</th>\n",
       "      <th>Percentage of missing values</th>\n",
       "      <th>Percentage of values in the biggest category</th>\n",
       "      <th>type</th>\n",
       "    </tr>\n",
       "  </thead>\n",
       "  <tbody>\n",
       "    <tr>\n",
       "      <th>2</th>\n",
       "      <td>A2</td>\n",
       "      <td>1</td>\n",
       "      <td>98.000000</td>\n",
       "      <td>98.000000</td>\n",
       "      <td>float64</td>\n",
       "    </tr>\n",
       "    <tr>\n",
       "      <th>7</th>\n",
       "      <td>A7</td>\n",
       "      <td>15</td>\n",
       "      <td>88.000000</td>\n",
       "      <td>88.000000</td>\n",
       "      <td>object</td>\n",
       "    </tr>\n",
       "    <tr>\n",
       "      <th>8</th>\n",
       "      <td>A8</td>\n",
       "      <td>2</td>\n",
       "      <td>88.000000</td>\n",
       "      <td>88.000000</td>\n",
       "      <td>float64</td>\n",
       "    </tr>\n",
       "    <tr>\n",
       "      <th>39</th>\n",
       "      <td>B11</td>\n",
       "      <td>11</td>\n",
       "      <td>59.333333</td>\n",
       "      <td>59.333333</td>\n",
       "      <td>object</td>\n",
       "    </tr>\n",
       "    <tr>\n",
       "      <th>38</th>\n",
       "      <td>B10</td>\n",
       "      <td>50</td>\n",
       "      <td>14.666667</td>\n",
       "      <td>14.666667</td>\n",
       "      <td>object</td>\n",
       "    </tr>\n",
       "    <tr>\n",
       "      <th>3</th>\n",
       "      <td>A3</td>\n",
       "      <td>2</td>\n",
       "      <td>2.000000</td>\n",
       "      <td>97.333333</td>\n",
       "      <td>float64</td>\n",
       "    </tr>\n",
       "    <tr>\n",
       "      <th>25</th>\n",
       "      <td>A25</td>\n",
       "      <td>7</td>\n",
       "      <td>0.666667</td>\n",
       "      <td>42.000000</td>\n",
       "      <td>float64</td>\n",
       "    </tr>\n",
       "    <tr>\n",
       "      <th>27</th>\n",
       "      <td>A27</td>\n",
       "      <td>11</td>\n",
       "      <td>0.666667</td>\n",
       "      <td>47.333333</td>\n",
       "      <td>float64</td>\n",
       "    </tr>\n",
       "    <tr>\n",
       "      <th>20</th>\n",
       "      <td>A20</td>\n",
       "      <td>52</td>\n",
       "      <td>0.666667</td>\n",
       "      <td>20.000000</td>\n",
       "      <td>object</td>\n",
       "    </tr>\n",
       "    <tr>\n",
       "      <th>29</th>\n",
       "      <td>B1</td>\n",
       "      <td>13</td>\n",
       "      <td>0.666667</td>\n",
       "      <td>56.000000</td>\n",
       "      <td>float64</td>\n",
       "    </tr>\n",
       "  </tbody>\n",
       "</table>\n",
       "</div>"
      ],
      "text/plain": [
       "<div>\n",
       "<style scoped>\n",
       "    .dataframe tbody tr th:only-of-type {\n",
       "        vertical-align: middle;\n",
       "    }\n",
       "\n",
       "    .dataframe tbody tr th {\n",
       "        vertical-align: top;\n",
       "    }\n",
       "\n",
       "    .dataframe thead th {\n",
       "        text-align: right;\n",
       "    }\n",
       "</style>\n",
       "<table border=\"1\" class=\"dataframe\">\n",
       "  <thead>\n",
       "    <tr style=\"text-align: right;\">\n",
       "      <th></th>\n",
       "      <th>Feature</th>\n",
       "      <th>Unique_values</th>\n",
       "      <th>Percentage of missing values</th>\n",
       "      <th>Percentage of values in the biggest category</th>\n",
       "      <th>type</th>\n",
       "    </tr>\n",
       "  </thead>\n",
       "  <tbody>\n",
       "    <tr>\n",
       "      <th>2</th>\n",
       "      <td>A2</td>\n",
       "      <td>1</td>\n",
       "      <td>98.000000</td>\n",
       "      <td>98.000000</td>\n",
       "      <td>float64</td>\n",
       "    </tr>\n",
       "    <tr>\n",
       "      <th>7</th>\n",
       "      <td>A7</td>\n",
       "      <td>15</td>\n",
       "      <td>88.000000</td>\n",
       "      <td>88.000000</td>\n",
       "      <td>object</td>\n",
       "    </tr>\n",
       "    <tr>\n",
       "      <th>8</th>\n",
       "      <td>A8</td>\n",
       "      <td>2</td>\n",
       "      <td>88.000000</td>\n",
       "      <td>88.000000</td>\n",
       "      <td>float64</td>\n",
       "    </tr>\n",
       "    <tr>\n",
       "      <th>39</th>\n",
       "      <td>B11</td>\n",
       "      <td>11</td>\n",
       "      <td>59.333333</td>\n",
       "      <td>59.333333</td>\n",
       "      <td>object</td>\n",
       "    </tr>\n",
       "    <tr>\n",
       "      <th>38</th>\n",
       "      <td>B10</td>\n",
       "      <td>50</td>\n",
       "      <td>14.666667</td>\n",
       "      <td>14.666667</td>\n",
       "      <td>object</td>\n",
       "    </tr>\n",
       "    <tr>\n",
       "      <th>3</th>\n",
       "      <td>A3</td>\n",
       "      <td>2</td>\n",
       "      <td>2.000000</td>\n",
       "      <td>97.333333</td>\n",
       "      <td>float64</td>\n",
       "    </tr>\n",
       "    <tr>\n",
       "      <th>25</th>\n",
       "      <td>A25</td>\n",
       "      <td>7</td>\n",
       "      <td>0.666667</td>\n",
       "      <td>42.000000</td>\n",
       "      <td>float64</td>\n",
       "    </tr>\n",
       "    <tr>\n",
       "      <th>27</th>\n",
       "      <td>A27</td>\n",
       "      <td>11</td>\n",
       "      <td>0.666667</td>\n",
       "      <td>47.333333</td>\n",
       "      <td>float64</td>\n",
       "    </tr>\n",
       "    <tr>\n",
       "      <th>20</th>\n",
       "      <td>A20</td>\n",
       "      <td>52</td>\n",
       "      <td>0.666667</td>\n",
       "      <td>20.000000</td>\n",
       "      <td>object</td>\n",
       "    </tr>\n",
       "    <tr>\n",
       "      <th>29</th>\n",
       "      <td>B1</td>\n",
       "      <td>13</td>\n",
       "      <td>0.666667</td>\n",
       "      <td>56.000000</td>\n",
       "      <td>float64</td>\n",
       "    </tr>\n",
       "  </tbody>\n",
       "</table>\n",
       "</div>"
      ]
     },
     "execution_count": 167,
     "metadata": {},
     "output_type": "execute_result"
    }
   ],
   "source": [
    "stats = []\n",
    "for col in test.columns:\n",
    "    stats.append((col, test[col].nunique(), test[col].isnull().sum() * 100 / test.shape[0], test[col].value_counts(normalize=True, dropna=False).values[0] * 100, test[col].dtype))\n",
    "    \n",
    "stats_df = pd.DataFrame(stats, columns=['Feature', 'Unique_values', 'Percentage of missing values', 'Percentage of values in the biggest category', 'type'])\n",
    "stats_df.sort_values('Percentage of missing values', ascending=False)[:10]"
   ]
  },
  {
   "cell_type": "code",
   "execution_count": 168,
   "metadata": {},
   "outputs": [
    {
     "data": {
      "image/png": "[encoded data removed]",
      "text/plain": [
       "<Figure size 576x432 with 1 Axes>"
      ]
     },
     "metadata": {},
     "output_type": "display_data"
    }
   ],
   "source": [
    "target_col = \"收率\"\n",
    "\n",
    "plt.figure(figsize=(8,6))\n",
    "plt.scatter(range(train.shape[0]), np.sort(train[target_col].values))\n",
    "plt.xlabel('index', fontsize=12)\n",
    "plt.ylabel('yield', fontsize=12)\n",
    "plt.show()"
   ]
  },
  {
   "cell_type": "code",
   "execution_count": 169,
   "metadata": {},
   "outputs": [],
   "source": [
    ""
   ]
  },
  {
   "cell_type": "code",
   "execution_count": 169,
   "metadata": {},
   "outputs": [
    {
     "data": {
      "image/png": "[encoded data removed]",
      "text/plain": [
       "<Figure size 864x576 with 1 Axes>"
      ]
     },
     "metadata": {},
     "output_type": "display_data"
    }
   ],
   "source": [
    "plt.figure(figsize=(12,8))\n",
    "sns.distplot(train[target_col].values, bins=50, kde=False, color=\"red\")\n",
    "plt.title(\"Histogram of yield\")\n",
    "plt.xlabel('yield', fontsize=12)\n",
    "plt.show()"
   ]
  },
  {
   "cell_type": "code",
   "execution_count": 171,
   "metadata": {},
   "outputs": [
    {
     "data": {
      "image/png": "[encoded data removed]",
      "text/plain": [
       "<Figure size 576x432 with 1 Axes>"
      ]
     },
     "metadata": {},
     "output_type": "display_data"
    }
   ],
   "source": [
    "#train['样本id'] = train['样本id'].map(lambda x:x.split('_')[1])\n",
    "plt.figure(figsize=(8,6))\n",
    "plt.scatter(train['样本id'], train[target_col])\n",
    "plt.xlabel('index', fontsize=12)\n",
    "plt.ylabel('yield', fontsize=12)\n",
    "plt.show()"
   ]
  },
  {
   "cell_type": "code",
   "execution_count": 172,
   "metadata": {
    "collapsed": true
   },
   "outputs": [
    {
     "data": {
      "text/plain": [
       "\"\\ntmp = train[train[target_col]>0.92]\\ntmp['样本id']\\nplt.figure(figsize=(8,16))\\nplt.scatter(tmp['样本id'], tmp[target_col])\\nplt.xlabel('index', fontsize=12)\\nplt.ylabel('yield', fontsize=12)\\nplt.show()\\ntrain.to_csv('chakan.csv',encoding='gbk')\\ntmp = pd.DataFrame(np.zeros(2000))\\ntmp = tmp.reset_index()\\ntmp['index'] = tmp['index'] +1\\ntmp = tmp.merge(train[train[target_col]<=0.902],left_on='index' ,right_on= '样本id',how='left')\\ntmp.to_csv('aaa902.csv',encoding='gbk')\\ntmp = pd.DataFrame(np.zeros(2000))\\ntmp = tmp.reset_index()\\ntmp['index'] = tmp['index'] +1\\ntmp = tmp.merge(train[train[target_col]>0.902],left_on='index' ,right_on= '样本id',how='left')\\ntmp.to_csv('aaadayu902.csv',encoding='gbk')\\nnum = 560\\nprint(train.loc[865,target_col])\\n\\ntrain['target_feature'] = mean_num\\ntrain['target_feature']\\nfor num in range(500,600):\\n    pre_d_all = []\\n    for id in train[train[target_col]>0.92]['样本id'].values:\\n        sum_all = 0\\n        num_j = 0\\n        for i in [-3,-2,-1,1,2,3]:\\n            if (id + i * num) in train['样本id'].values:\\n                num_j+=1\\n                sum_all +=train.loc[train['样本id'] == id + i * num,target_col].values\\n        if num_j == 0:\\n            pre_d = mean_num\\n        else:\\n            pre_d = (sum_all/num_j)[0]\\n        pre_d_all.append([id,pre_d])\\n    pre_d_all = pd.DataFrame(pre_d_all)\\n    pre_d_all.columns =['id','pred']\\n    pre_d_all = pre_d_all.merge(train[['样本id',target_col]],left_on= 'id',right_on = '样本id',how='left')\\n    pre_d_all['mean'] = np.mean(pre_d_all[target_col])\\n    pre_d_all\\n\\n    print('============================',num)\\n    print(mean_squared_error(pre_d_all[target_col],pre_d_all['pred']))\\n    print(mean_squared_error(pre_d_all[target_col],pre_d_all['mean']))\\n    pre_d_all\\ntrain[train[target_col]>0.92]['样本id']\\npre_d_all = pd.DataFrame(pre_d_all)\\npre_d_all[target_col] = train[target_col]\\npre_d_all['mean'] = np.mean(pre_d_all[target_col])\\npre_d_all\\npre_d_all.columns =['id','pred' , '收率', 'mean']\\nprint(mean_squared_error(pre_d_all[target_col],pre_d_all['pred']))\\nprint(mean_squared_error(pre_d_all[target_col],pre_d_all['mean']))\""
      ]
     },
     "execution_count": 172,
     "metadata": {},
     "output_type": "execute_result"
    }
   ],
   "source": [
    "\"\"\"\n",
    "tmp = train[train[target_col]>0.92]\n",
    "tmp['样本id']\n",
    "plt.figure(figsize=(8,16))\n",
    "plt.scatter(tmp['样本id'], tmp[target_col])\n",
    "plt.xlabel('index', fontsize=12)\n",
    "plt.ylabel('yield', fontsize=12)\n",
    "plt.show()\n",
    "train.to_csv('chakan.csv',encoding='gbk')\n",
    "tmp = pd.DataFrame(np.zeros(2000))\n",
    "tmp = tmp.reset_index()\n",
    "tmp['index'] = tmp['index'] +1\n",
    "tmp = tmp.merge(train[train[target_col]<=0.902],left_on='index' ,right_on= '样本id',how='left')\n",
    "tmp.to_csv('aaa902.csv',encoding='gbk')\n",
    "tmp = pd.DataFrame(np.zeros(2000))\n",
    "tmp = tmp.reset_index()\n",
    "tmp['index'] = tmp['index'] +1\n",
    "tmp = tmp.merge(train[train[target_col]>0.902],left_on='index' ,right_on= '样本id',how='left')\n",
    "tmp.to_csv('aaadayu902.csv',encoding='gbk')\n",
    "num = 560\n",
    "print(train.loc[865,target_col])\n",
    "\n",
    "train['target_feature'] = mean_num\n",
    "train['target_feature']\n",
    "for num in range(500,600):\n",
    "    pre_d_all = []\n",
    "    for id in train[train[target_col]>0.92]['样本id'].values:\n",
    "        sum_all = 0\n",
    "        num_j = 0\n",
    "        for i in [-3,-2,-1,1,2,3]:\n",
    "            if (id + i * num) in train['样本id'].values:\n",
    "                num_j+=1\n",
    "                sum_all +=train.loc[train['样本id'] == id + i * num,target_col].values\n",
    "        if num_j == 0:\n",
    "            pre_d = mean_num\n",
    "        else:\n",
    "            pre_d = (sum_all/num_j)[0]\n",
    "        pre_d_all.append([id,pre_d])\n",
    "    pre_d_all = pd.DataFrame(pre_d_all)\n",
    "    pre_d_all.columns =['id','pred']\n",
    "    pre_d_all = pre_d_all.merge(train[['样本id',target_col]],left_on= 'id',right_on = '样本id',how='left')\n",
    "    pre_d_all['mean'] = np.mean(pre_d_all[target_col])\n",
    "    pre_d_all\n",
    "\n",
    "    print('============================',num)\n",
    "    print(mean_squared_error(pre_d_all[target_col],pre_d_all['pred']))\n",
    "    print(mean_squared_error(pre_d_all[target_col],pre_d_all['mean']))\n",
    "    pre_d_all\n",
    "train[train[target_col]>0.92]['样本id']\n",
    "pre_d_all = pd.DataFrame(pre_d_all)\n",
    "pre_d_all[target_col] = train[target_col]\n",
    "pre_d_all['mean'] = np.mean(pre_d_all[target_col])\n",
    "pre_d_all\n",
    "pre_d_all.columns =['id','pred' , '收率', 'mean']\n",
    "print(mean_squared_error(pre_d_all[target_col],pre_d_all['pred']))\n",
    "print(mean_squared_error(pre_d_all[target_col],pre_d_all['mean']))\"\"\""
   ]
  },
  {
   "cell_type": "code",
   "execution_count": 173,
   "metadata": {},
   "outputs": [],
   "source": [
    "# 删除类别唯一的特征\n",
    "for df in [train, test]:\n",
    "    df.drop(['B3', 'B13', 'A13', 'A18', 'A23'], axis=1, inplace=True)"
   ]
  },
  {
   "cell_type": "code",
   "execution_count": 174,
   "metadata": {},
   "outputs": [
    {
     "name": "stdout",
     "output_type": "stream",
     "text": [
      "A1 0.9863896848137536\nA2 0.9699140401146131\nA3 0.9570200573065902\nA4 0.9570200573065902\nB2 0.9842406876790831\n"
     ]
    }
   ],
   "source": [
    "# 删除某一类别占比超过90%的列\n",
    "good_cols = list(train.columns)\n",
    "for col in train.columns:\n",
    "    rate = train[col].value_counts(normalize=True, dropna=False).values[0]\n",
    "    if rate > 0.9:\n",
    "        good_cols.remove(col)\n",
    "        print(col,rate)\n",
    "\n",
    "# 暂时不删除，后面构造特征需要\n",
    "good_cols.append('A1')\n",
    "good_cols.append('A3')\n",
    "good_cols.append('A4')\n",
    "\n",
    "# 删除异常值\n",
    "train = train[train['收率']>0.87]\n",
    "        \n",
    "train = train[good_cols]\n",
    "good_cols.remove('收率')\n",
    "test  = test[good_cols]"
   ]
  },
  {
   "cell_type": "code",
   "execution_count": 175,
   "metadata": {},
   "outputs": [],
   "source": [
    "# 合并数据集\n",
    "target = train['收率']\n",
    "del train['收率']\n",
    "data = pd.concat([train,test],axis=0,ignore_index=True)\n",
    "data = data.fillna(-1)"
   ]
  },
  {
   "cell_type": "code",
   "execution_count": 176,
   "metadata": {},
   "outputs": [],
   "source": [
    "def timeTranSecond(t):\n",
    "    try:\n",
    "        t,m,s=t.split(\":\")\n",
    "    except:\n",
    "        if t=='1900/1/9 7:00':\n",
    "            return 7*3600/3600\n",
    "        elif t=='1900/1/1 2:30':\n",
    "            return (2*3600+30*60)/3600\n",
    "        elif t==-1:\n",
    "            return -1\n",
    "        else:\n",
    "            return 0\n",
    "    \n",
    "    try:\n",
    "        tm = (int(t)*3600+int(m)*60+int(s))/3600\n",
    "    except:\n",
    "        return (30*60)/3600\n",
    "    \n",
    "    return tm\n",
    "for f in ['A5','A7','A9','A11','A14','A16','A24','A26','B5','B7']:\n",
    "    try:\n",
    "        data[f] = data[f].apply(timeTranSecond)\n",
    "    except:\n",
    "        print(f,'应该在前面被删除了！')\n",
    "\n",
    "def getDuration(se):\n",
    "    try:\n",
    "        sh,sm,eh,em=re.findall(r\"\\d+\\.?\\d*\",se)\n",
    "    except:\n",
    "        if se == -1:\n",
    "            return -1 \n",
    "        \n",
    "    try:\n",
    "        if int(sh)>int(eh):\n",
    "            tm = (int(eh)*3600+int(em)*60-int(sm)*60-int(sh)*3600)/3600 + 24\n",
    "        else:\n",
    "            tm = (int(eh)*3600+int(em)*60-int(sm)*60-int(sh)*3600)/3600\n",
    "    except:\n",
    "        if se=='19:-20:05':\n",
    "            return 1\n",
    "        elif se=='15:00-1600':\n",
    "            return 1\n",
    "    \n",
    "    return tm\n",
    "for f in ['A20','A28','B4','B9','B10','B11']:\n",
    "    data[f] = data.apply(lambda df: getDuration(df[f]), axis=1)"
   ]
  },
  {
   "cell_type": "code",
   "execution_count": 177,
   "metadata": {},
   "outputs": [],
   "source": [
    "data['样本id'] = data['样本id'].apply(lambda x: int(x.split('_')[1]))\n",
    "\n",
    "categorical_columns = [f for f in data.columns if f not in ['样本id']]\n",
    "numerical_columns = [f for f in data.columns if f not in categorical_columns]"
   ]
  },
  {
   "cell_type": "code",
   "execution_count": 178,
   "metadata": {},
   "outputs": [],
   "source": [
    "# 有风的冬老哥，在群里无意爆出来的特征，让我提升了三个个点，当然也可以顺此继续扩展\n",
    "data['b14/a1_a3_a4_a19_b1_b12'] = data['B14']/(data['A1']+data['A3']+data['A4']+data['A19']+data['B1']+data['B12'])\n",
    "\n",
    "numerical_columns.append('b14/a1_a3_a4_a19_b1_b12')\n",
    "\n",
    "del data['A1']\n",
    "del data['A3']\n",
    "del data['A4']\n",
    "categorical_columns.remove('A1')\n",
    "categorical_columns.remove('A3')\n",
    "categorical_columns.remove('A4')"
   ]
  },
  {
   "cell_type": "code",
   "execution_count": 179,
   "metadata": {},
   "outputs": [
    {
     "name": "stdout",
     "output_type": "stream",
     "text": [
      "(1381, 34)\n(150, 34)\n"
     ]
    }
   ],
   "source": [
    "#label encoder\n",
    "for f in categorical_columns:\n",
    "    data[f] = data[f].map(dict(zip(data[f].unique(), range(0, data[f].nunique()))))\n",
    "train = data[:train.shape[0]]\n",
    "test  = data[train.shape[0]:]\n",
    "print(train.shape)\n",
    "print(test.shape)"
   ]
  },
  {
   "cell_type": "code",
   "execution_count": 180,
   "metadata": {},
   "outputs": [
    {
     "name": "stdout",
     "output_type": "stream",
     "text": [
      "(1381, 109)\n(150, 109)\n"
     ]
    }
   ],
   "source": [
    "#train['target'] = list(target) \n",
    "train['target'] = target\n",
    "train['intTarget'] = pd.cut(train['target'], 5, labels=False)\n",
    "train = pd.get_dummies(train, columns=['intTarget'])\n",
    "li = ['intTarget_0.0','intTarget_1.0','intTarget_2.0','intTarget_3.0','intTarget_4.0']\n",
    "mean_columns = []\n",
    "for f1 in categorical_columns:\n",
    "    cate_rate = train[f1].value_counts(normalize=True, dropna=False).values[0]\n",
    "    if cate_rate < 0.90:\n",
    "        for f2 in li:\n",
    "            col_name = 'B14_to_'+f1+\"_\"+f2+'_mean'\n",
    "            mean_columns.append(col_name)\n",
    "            order_label = train.groupby([f1])[f2].mean()\n",
    "            train[col_name] = train['B14'].map(order_label)\n",
    "            miss_rate = train[col_name].isnull().sum() * 100 / train[col_name].shape[0]\n",
    "            if miss_rate > 0:\n",
    "                train = train.drop([col_name], axis=1)\n",
    "                mean_columns.remove(col_name)\n",
    "            else:\n",
    "                test[col_name] = test['B14'].map(order_label)\n",
    "                \n",
    "train.drop(li+['target'], axis=1, inplace=True)\n",
    "print(train.shape)\n",
    "print(test.shape)"
   ]
  },
  {
   "cell_type": "code",
   "execution_count": 181,
   "metadata": {},
   "outputs": [
    {
     "name": "stdout",
     "output_type": "stream",
     "text": [
      "(1381, 1246)\n(150, 1246)\n"
     ]
    }
   ],
   "source": [
    "X_train = train[mean_columns+numerical_columns].values\n",
    "X_test = test[mean_columns+numerical_columns].values\n",
    "# one hot\n",
    "enc = OneHotEncoder()\n",
    "for f in categorical_columns:\n",
    "    enc.fit(data[f].values.reshape(-1, 1))\n",
    "    X_train = sparse.hstack((X_train, enc.transform(train[f].values.reshape(-1, 1))), 'csr')\n",
    "    X_test = sparse.hstack((X_test, enc.transform(test[f].values.reshape(-1, 1))), 'csr')\n",
    "print(X_train.shape)\n",
    "print(X_test.shape)"
   ]
  },
  {
   "cell_type": "code",
   "execution_count": 193,
   "metadata": {},
   "outputs": [
    {
     "name": "stdout",
     "output_type": "stream",
     "text": [
      "75\n2\n"
     ]
    }
   ],
   "source": [
    "train.columns\n",
    "print(len(mean_columns))\n",
    "print(len(numerical_columns))"
   ]
  },
  {
   "cell_type": "code",
   "execution_count": 182,
   "metadata": {},
   "outputs": [],
   "source": [
    "y_train = target.values"
   ]
  },
  {
   "cell_type": "code",
   "execution_count": 183,
   "metadata": {},
   "outputs": [
    {
     "name": "stdout",
     "output_type": "stream",
     "text": [
      "fold n°1\nTraining until validation scores don't improve for 100 rounds.\n[200]\ttraining's l2: 0.000193562\tvalid_1's l2: 0.000211955\n[400]\ttraining's l2: 0.000127595\tvalid_1's l2: 0.000145901\n"
     ]
    },
    {
     "name": "stdout",
     "output_type": "stream",
     "text": [
      "[600]\ttraining's l2: 0.000109162\tvalid_1's l2: 0.000128985\n[800]\ttraining's l2: 0.000101148\tvalid_1's l2: 0.000123493\n"
     ]
    },
    {
     "name": "stdout",
     "output_type": "stream",
     "text": [
      "[1000]\ttraining's l2: 9.63139e-05\tvalid_1's l2: 0.000120602\n"
     ]
    },
    {
     "name": "stdout",
     "output_type": "stream",
     "text": [
      "[1200]\ttraining's l2: 9.32305e-05\tvalid_1's l2: 0.000119063\n[1400]\ttraining's l2: 9.08085e-05\tvalid_1's l2: 0.000118055\n[1600]\ttraining's l2: 8.88322e-05\tvalid_1's l2: 0.000117276\n"
     ]
    },
    {
     "name": "stdout",
     "output_type": "stream",
     "text": [
      "[1800]\ttraining's l2: 8.73339e-05\tvalid_1's l2: 0.000116686\n[2000]\ttraining's l2: 8.60319e-05\tvalid_1's l2: 0.000116306\n[2200]\ttraining's l2: 8.49564e-05\tvalid_1's l2: 0.00011604\n[2400]\ttraining's l2: 8.39673e-05\tvalid_1's l2: 0.000115488\n"
     ]
    },
    {
     "name": "stdout",
     "output_type": "stream",
     "text": [
      "[2600]\ttraining's l2: 8.3056e-05\tvalid_1's l2: 0.000115247\n[2800]\ttraining's l2: 8.24558e-05\tvalid_1's l2: 0.000115062\nEarly stopping, best iteration is:\n[2736]\ttraining's l2: 8.24558e-05\tvalid_1's l2: 0.000115062\n"
     ]
    },
    {
     "name": "stdout",
     "output_type": "stream",
     "text": [
      "fold n°2\nTraining until validation scores don't improve for 100 rounds.\n[200]\ttraining's l2: 0.000188177\tvalid_1's l2: 0.000207844\n"
     ]
    },
    {
     "name": "stdout",
     "output_type": "stream",
     "text": [
      "[400]\ttraining's l2: 0.000122487\tvalid_1's l2: 0.000159511\n[600]\ttraining's l2: 0.000105057\tvalid_1's l2: 0.000149253\n[800]\ttraining's l2: 9.72443e-05\tvalid_1's l2: 0.00014575"
     ]
    },
    {
     "name": "stdout",
     "output_type": "stream",
     "text": [
      "\n[1000]\ttraining's l2: 9.24182e-05\tvalid_1's l2: 0.000143559\n[1200]\ttraining's l2: 8.92134e-05\tvalid_1's l2: 0.000141962\n[1400]\ttraining's l2: 8.68323e-05\tvalid_1's l2: 0.000140743\n"
     ]
    },
    {
     "name": "stdout",
     "output_type": "stream",
     "text": [
      "[1600]\ttraining's l2: 8.50641e-05\tvalid_1's l2: 0.000139953\n[1800]\ttraining's l2: 8.35839e-05\tvalid_1's l2: 0.000139607\nEarly stopping, best iteration is:\n[1843]\ttraining's l2: 8.33208e-05\tvalid_1's l2: 0.000139517\n"
     ]
    },
    {
     "name": "stdout",
     "output_type": "stream",
     "text": [
      "fold n°3\nTraining until validation scores don't improve for 100 rounds.\n[200]\ttraining's l2: 0.000183775\tvalid_1's l2: 0.000228847\n[400]\ttraining's l2: 0.000122008\tvalid_1's l2: 0.000164526\n"
     ]
    },
    {
     "name": "stdout",
     "output_type": "stream",
     "text": [
      "[600]\ttraining's l2: 0.000103856\tvalid_1's l2: 0.000147236\n[800]\ttraining's l2: 9.60211e-05\tvalid_1's l2: 0.000141159\n[1000]\ttraining's l2: 9.16083e-05\tvalid_1's l2: 0.000137965\n"
     ]
    },
    {
     "name": "stdout",
     "output_type": "stream",
     "text": [
      "[1200]\ttraining's l2: 8.85203e-05\tvalid_1's l2: 0.000136078\n[1400]\ttraining's l2: 8.64595e-05\tvalid_1's l2: 0.000134876\n[1600]\ttraining's l2: 8.4816e-05\tvalid_1's l2: 0.00013407\n"
     ]
    },
    {
     "name": "stdout",
     "output_type": "stream",
     "text": [
      "[1800]\ttraining's l2: 8.34496e-05\tvalid_1's l2: 0.000133327\n[2000]\ttraining's l2: 8.22876e-05\tvalid_1's l2: 0.000132661\nEarly stopping, best iteration is:\n[2044]\ttraining's l2: 8.20235e-05\tvalid_1's l2: 0.000132503\n"
     ]
    },
    {
     "name": "stdout",
     "output_type": "stream",
     "text": [
      "fold n°4\nTraining until validation scores don't improve for 100 rounds.\n[200]\ttraining's l2: 0.000190982\tvalid_1's l2: 0.000207999\n[400]\ttraining's l2: 0.00012847\tvalid_1's l2: 0.000157359\n"
     ]
    },
    {
     "name": "stdout",
     "output_type": "stream",
     "text": [
      "[600]\ttraining's l2: 0.000109944\tvalid_1's l2: 0.000141289\n[800]\ttraining's l2: 0.000102042\tvalid_1's l2: 0.000135283\n"
     ]
    },
    {
     "name": "stdout",
     "output_type": "stream",
     "text": [
      "[1000]\ttraining's l2: 9.72202e-05\tvalid_1's l2: 0.000131987\n[1200]\ttraining's l2: 9.37261e-05\tvalid_1's l2: 0.000129647\n[1400]\ttraining's l2: 9.12316e-05\tvalid_1's l2: 0.000128145\n[1600]\ttraining's l2: 8.89994e-05\tvalid_1's l2: 0.000127156"
     ]
    },
    {
     "name": "stdout",
     "output_type": "stream",
     "text": [
      "\n[1800]\ttraining's l2: 8.73206e-05\tvalid_1's l2: 0.000126362\n[2000]\ttraining's l2: 8.59058e-05\tvalid_1's l2: 0.000125854\nEarly stopping, best iteration is:\n[1965]\ttraining's l2: 8.60603e-05\tvalid_1's l2: 0.000125797\n"
     ]
    },
    {
     "name": "stdout",
     "output_type": "stream",
     "text": [
      "fold n°5\nTraining until validation scores don't improve for 100 rounds.\n[200]\ttraining's l2: 0.000192318\tvalid_1's l2: 0.00019332\n[400]\ttraining's l2: 0.000129691\tvalid_1's l2: 0.000127878\n"
     ]
    },
    {
     "name": "stdout",
     "output_type": "stream",
     "text": [
      "[600]\ttraining's l2: 0.000112029\tvalid_1's l2: 0.000112855\n[800]\ttraining's l2: 0.000103826\tvalid_1's l2: 0.000107591\n[1000]\ttraining's l2: 9.8779e-05\tvalid_1's l2: 0.000104754"
     ]
    },
    {
     "name": "stdout",
     "output_type": "stream",
     "text": [
      "\n[1200]\ttraining's l2: 9.51962e-05\tvalid_1's l2: 0.000103333\n[1400]\ttraining's l2: 9.25215e-05\tvalid_1's l2: 0.000102454\n"
     ]
    },
    {
     "name": "stdout",
     "output_type": "stream",
     "text": [
      "[1600]\ttraining's l2: 9.03429e-05\tvalid_1's l2: 0.000101645\n[1800]\ttraining's l2: 8.85518e-05\tvalid_1's l2: 0.00010119\nEarly stopping, best iteration is:\n[1849]\ttraining's l2: 8.81448e-05\tvalid_1's l2: 0.000101033\n"
     ]
    },
    {
     "name": "stdout",
     "output_type": "stream",
     "text": [
      "CV score: 0.00012278\n"
     ]
    }
   ],
   "source": [
    "param = {'num_leaves': 120,\n",
    "         'min_data_in_leaf': 30, \n",
    "         'objective':'regression',\n",
    "         'max_depth': -1,\n",
    "         'learning_rate': 0.01,\n",
    "         \"min_child_samples\": 30,\n",
    "         \"boosting\": \"gbdt\",\n",
    "         \"feature_fraction\": 0.9,\n",
    "         \"bagging_freq\": 1,\n",
    "         \"bagging_fraction\": 0.9 ,\n",
    "         \"bagging_seed\": 11,\n",
    "         \"metric\": 'mse',\n",
    "         \"lambda_l1\": 0.1,\n",
    "         \"verbosity\": -1}\n",
    "folds = KFold(n_splits=5, shuffle=True, random_state=2018)\n",
    "oof_lgb = np.zeros(len(train))\n",
    "predictions_lgb = np.zeros(len(test))\n",
    "\n",
    "for fold_, (trn_idx, val_idx) in enumerate(folds.split(X_train, y_train)):\n",
    "    print(\"fold n°{}\".format(fold_+1))\n",
    "    trn_data = lgb.Dataset(X_train[trn_idx], y_train[trn_idx])\n",
    "    val_data = lgb.Dataset(X_train[val_idx], y_train[val_idx])\n",
    "\n",
    "    num_round = 10000\n",
    "    clf = lgb.train(param, trn_data, num_round, valid_sets = [trn_data, val_data], verbose_eval=200, early_stopping_rounds = 100)\n",
    "    oof_lgb[val_idx] = clf.predict(X_train[val_idx], num_iteration=clf.best_iteration)\n",
    "    \n",
    "    predictions_lgb += clf.predict(X_test, num_iteration=clf.best_iteration) / folds.n_splits\n",
    "\n",
    "print(\"CV score: {:<8.8f}\".format(mean_squared_error(oof_lgb, target)))"
   ]
  },
  {
   "cell_type": "code",
   "execution_count": 184,
   "metadata": {
    "collapsed": true
   },
   "outputs": [
    {
     "name": "stdout",
     "output_type": "stream",
     "text": [
      "fold n°1\n[0]\ttrain-rmse:0.422932\tvalid_data-rmse:0.423819\n"
     ]
    },
    {
     "name": "stdout",
     "output_type": "stream",
     "text": [
      "Multiple eval metrics have been passed: 'valid_data-rmse' will be used for early stopping.\n\n"
     ]
    },
    {
     "name": "stdout",
     "output_type": "stream",
     "text": [
      "Will train until valid_data-rmse hasn't improved in 200 rounds.\n"
     ]
    },
    {
     "name": "stdout",
     "output_type": "stream",
     "text": [
      "[100]\ttrain-rmse:0.257007\tvalid_data-rmse:0.257742\n"
     ]
    },
    {
     "name": "stdout",
     "output_type": "stream",
     "text": [
      "[200]\ttrain-rmse:0.156628\tvalid_data-rmse:0.157354\n"
     ]
    },
    {
     "name": "stdout",
     "output_type": "stream",
     "text": [
      "[300]\ttrain-rmse:0.095903\tvalid_data-rmse:0.096731\n"
     ]
    },
    {
     "name": "stdout",
     "output_type": "stream",
     "text": [
      "[400]\ttrain-rmse:0.0593\tvalid_data-rmse:0.060161\n"
     ]
    },
    {
     "name": "stdout",
     "output_type": "stream",
     "text": [
      "[500]\ttrain-rmse:0.037281\tvalid_data-rmse:0.038261\n"
     ]
    },
    {
     "name": "stdout",
     "output_type": "stream",
     "text": [
      "[600]\ttrain-rmse:0.024073\tvalid_data-rmse:0.025378\n"
     ]
    },
    {
     "name": "stdout",
     "output_type": "stream",
     "text": [
      "[700]\ttrain-rmse:0.016218\tvalid_data-rmse:0.018097\n"
     ]
    },
    {
     "name": "stdout",
     "output_type": "stream",
     "text": [
      "[800]\ttrain-rmse:0.011605\tvalid_data-rmse:0.014251\n"
     ]
    },
    {
     "name": "stdout",
     "output_type": "stream",
     "text": [
      "[900]\ttrain-rmse:0.009006\tvalid_data-rmse:0.012425\n"
     ]
    },
    {
     "name": "stdout",
     "output_type": "stream",
     "text": [
      "[1000]\ttrain-rmse:0.007536\tvalid_data-rmse:0.011578\n"
     ]
    },
    {
     "name": "stdout",
     "output_type": "stream",
     "text": [
      "[1100]\ttrain-rmse:0.006684\tvalid_data-rmse:0.011195\n"
     ]
    },
    {
     "name": "stdout",
     "output_type": "stream",
     "text": [
      "[1200]\ttrain-rmse:0.006155\tvalid_data-rmse:0.011032\n"
     ]
    },
    {
     "name": "stdout",
     "output_type": "stream",
     "text": [
      "[1300]\ttrain-rmse:0.005783\tvalid_data-rmse:0.010948\n"
     ]
    },
    {
     "name": "stdout",
     "output_type": "stream",
     "text": [
      "[1400]\ttrain-rmse:0.005474\tvalid_data-rmse:0.010907\n"
     ]
    },
    {
     "name": "stdout",
     "output_type": "stream",
     "text": [
      "[1500]\ttrain-rmse:0.005201\tvalid_data-rmse:0.010887\n"
     ]
    },
    {
     "name": "stdout",
     "output_type": "stream",
     "text": [
      "[1600]\ttrain-rmse:0.004967\tvalid_data-rmse:0.010873\n"
     ]
    },
    {
     "name": "stdout",
     "output_type": "stream",
     "text": [
      "[1700]\ttrain-rmse:0.004762\tvalid_data-rmse:0.010863\n"
     ]
    },
    {
     "name": "stdout",
     "output_type": "stream",
     "text": [
      "[1800]\ttrain-rmse:0.00458\tvalid_data-rmse:0.010856\n"
     ]
    },
    {
     "name": "stdout",
     "output_type": "stream",
     "text": [
      "[1900]\ttrain-rmse:0.004383\tvalid_data-rmse:0.010854\n"
     ]
    },
    {
     "name": "stdout",
     "output_type": "stream",
     "text": [
      "[2000]\ttrain-rmse:0.004232\tvalid_data-rmse:0.010853\n"
     ]
    },
    {
     "name": "stdout",
     "output_type": "stream",
     "text": [
      "[2100]\ttrain-rmse:0.00409\tvalid_data-rmse:0.010852\n"
     ]
    },
    {
     "name": "stdout",
     "output_type": "stream",
     "text": [
      "[2200]\ttrain-rmse:0.003951\tvalid_data-rmse:0.010854\n"
     ]
    },
    {
     "name": "stdout",
     "output_type": "stream",
     "text": [
      "Stopping. Best iteration:\n[2061]\ttrain-rmse:0.004134\tvalid_data-rmse:0.010848\n\n"
     ]
    },
    {
     "name": "stdout",
     "output_type": "stream",
     "text": [
      "fold n°2\n[0]\ttrain-rmse:0.424042\tvalid_data-rmse:0.419362\n"
     ]
    },
    {
     "name": "stdout",
     "output_type": "stream",
     "text": [
      "Multiple eval metrics have been passed: 'valid_data-rmse' will be used for early stopping.\n\n"
     ]
    },
    {
     "name": "stdout",
     "output_type": "stream",
     "text": [
      "Will train until valid_data-rmse hasn't improved in 200 rounds.\n"
     ]
    },
    {
     "name": "stdout",
     "output_type": "stream",
     "text": [
      "[100]\ttrain-rmse:0.257673\tvalid_data-rmse:0.254133\n"
     ]
    },
    {
     "name": "stdout",
     "output_type": "stream",
     "text": [
      "[200]\ttrain-rmse:0.157021\tvalid_data-rmse:0.154246\n"
     ]
    },
    {
     "name": "stdout",
     "output_type": "stream",
     "text": [
      "[300]\ttrain-rmse:0.096156\tvalid_data-rmse:0.093817\n"
     ]
    },
    {
     "name": "stdout",
     "output_type": "stream",
     "text": [
      "[400]\ttrain-rmse:0.059446\tvalid_data-rmse:0.057652\n"
     ]
    },
    {
     "name": "stdout",
     "output_type": "stream",
     "text": [
      "[500]\ttrain-rmse:0.037303\tvalid_data-rmse:0.036199\n"
     ]
    },
    {
     "name": "stdout",
     "output_type": "stream",
     "text": [
      "[600]\ttrain-rmse:0.024012\tvalid_data-rmse:0.023764\n"
     ]
    },
    {
     "name": "stdout",
     "output_type": "stream",
     "text": [
      "[700]\ttrain-rmse:0.016122\tvalid_data-rmse:0.016988\n"
     ]
    },
    {
     "name": "stdout",
     "output_type": "stream",
     "text": [
      "[800]\ttrain-rmse:0.011489\tvalid_data-rmse:0.013632\n"
     ]
    },
    {
     "name": "stdout",
     "output_type": "stream",
     "text": [
      "[900]\ttrain-rmse:0.008834\tvalid_data-rmse:0.012136\n"
     ]
    },
    {
     "name": "stdout",
     "output_type": "stream",
     "text": [
      "[1000]\ttrain-rmse:0.007333\tvalid_data-rmse:0.011556\n"
     ]
    },
    {
     "name": "stdout",
     "output_type": "stream",
     "text": [
      "[1100]\ttrain-rmse:0.006478\tvalid_data-rmse:0.011354\n"
     ]
    },
    {
     "name": "stdout",
     "output_type": "stream",
     "text": [
      "[1200]\ttrain-rmse:0.005938\tvalid_data-rmse:0.011315\n"
     ]
    },
    {
     "name": "stdout",
     "output_type": "stream",
     "text": [
      "[1300]\ttrain-rmse:0.005572\tvalid_data-rmse:0.011321\n"
     ]
    },
    {
     "name": "stdout",
     "output_type": "stream",
     "text": [
      "[1400]\ttrain-rmse:0.005285\tvalid_data-rmse:0.011343\n"
     ]
    },
    {
     "name": "stdout",
     "output_type": "stream",
     "text": [
      "Stopping. Best iteration:\n[1222]\ttrain-rmse:0.005842\tvalid_data-rmse:0.011311\n\n"
     ]
    },
    {
     "name": "stdout",
     "output_type": "stream",
     "text": [
      "fold n°3\n[0]\ttrain-rmse:0.422401\tvalid_data-rmse:0.425951\n"
     ]
    },
    {
     "name": "stdout",
     "output_type": "stream",
     "text": [
      "Multiple eval metrics have been passed: 'valid_data-rmse' will be used for early stopping.\n\n"
     ]
    },
    {
     "name": "stdout",
     "output_type": "stream",
     "text": [
      "Will train until valid_data-rmse hasn't improved in 200 rounds.\n"
     ]
    },
    {
     "name": "stdout",
     "output_type": "stream",
     "text": [
      "[100]\ttrain-rmse:0.256678\tvalid_data-rmse:0.259802\n"
     ]
    },
    {
     "name": "stdout",
     "output_type": "stream",
     "text": [
      "[200]\ttrain-rmse:0.156388\tvalid_data-rmse:0.159198\n"
     ]
    },
    {
     "name": "stdout",
     "output_type": "stream",
     "text": [
      "[300]\ttrain-rmse:0.095756\tvalid_data-rmse:0.098402\n"
     ]
    },
    {
     "name": "stdout",
     "output_type": "stream",
     "text": [
      "[400]\ttrain-rmse:0.05921\tvalid_data-rmse:0.061441\n"
     ]
    },
    {
     "name": "stdout",
     "output_type": "stream",
     "text": [
      "[500]\ttrain-rmse:0.0372\tvalid_data-rmse:0.039042\n"
     ]
    },
    {
     "name": "stdout",
     "output_type": "stream",
     "text": [
      "[600]\ttrain-rmse:0.023988\tvalid_data-rmse:0.025762\n"
     ]
    },
    {
     "name": "stdout",
     "output_type": "stream",
     "text": [
      "[700]\ttrain-rmse:0.016104\tvalid_data-rmse:0.018278\n"
     ]
    },
    {
     "name": "stdout",
     "output_type": "stream",
     "text": [
      "[800]\ttrain-rmse:0.011481\tvalid_data-rmse:0.014388\n"
     ]
    },
    {
     "name": "stdout",
     "output_type": "stream",
     "text": [
      "[900]\ttrain-rmse:0.008842\tvalid_data-rmse:0.012598\n"
     ]
    },
    {
     "name": "stdout",
     "output_type": "stream",
     "text": [
      "[1000]\ttrain-rmse:0.007347\tvalid_data-rmse:0.011841\n"
     ]
    },
    {
     "name": "stdout",
     "output_type": "stream",
     "text": [
      "[1100]\ttrain-rmse:0.006489\tvalid_data-rmse:0.011563\n"
     ]
    },
    {
     "name": "stdout",
     "output_type": "stream",
     "text": [
      "[1200]\ttrain-rmse:0.005973\tvalid_data-rmse:0.011468\n"
     ]
    },
    {
     "name": "stdout",
     "output_type": "stream",
     "text": [
      "[1300]\ttrain-rmse:0.005611\tvalid_data-rmse:0.011444\n"
     ]
    },
    {
     "name": "stdout",
     "output_type": "stream",
     "text": [
      "[1400]\ttrain-rmse:0.005334\tvalid_data-rmse:0.011448\n"
     ]
    },
    {
     "name": "stdout",
     "output_type": "stream",
     "text": [
      "[1500]\ttrain-rmse:0.005093\tvalid_data-rmse:0.011463\n"
     ]
    },
    {
     "name": "stdout",
     "output_type": "stream",
     "text": [
      "Stopping. Best iteration:\n[1371]\ttrain-rmse:0.00541\tvalid_data-rmse:0.011441\n\n"
     ]
    },
    {
     "name": "stdout",
     "output_type": "stream",
     "text": [
      "fold n°4\n[0]\ttrain-rmse:0.422949\tvalid_data-rmse:0.423757\n"
     ]
    },
    {
     "name": "stdout",
     "output_type": "stream",
     "text": [
      "Multiple eval metrics have been passed: 'valid_data-rmse' will be used for early stopping.\n\n"
     ]
    },
    {
     "name": "stdout",
     "output_type": "stream",
     "text": [
      "Will train until valid_data-rmse hasn't improved in 200 rounds.\n"
     ]
    },
    {
     "name": "stdout",
     "output_type": "stream",
     "text": [
      "[100]\ttrain-rmse:0.257011\tvalid_data-rmse:0.256907\n"
     ]
    },
    {
     "name": "stdout",
     "output_type": "stream",
     "text": [
      "[200]\ttrain-rmse:0.156605\tvalid_data-rmse:0.155971\n"
     ]
    },
    {
     "name": "stdout",
     "output_type": "stream",
     "text": [
      "[300]\ttrain-rmse:0.095936\tvalid_data-rmse:0.095252\n"
     ]
    },
    {
     "name": "stdout",
     "output_type": "stream",
     "text": [
      "[400]\ttrain-rmse:0.059328\tvalid_data-rmse:0.058729\n"
     ]
    },
    {
     "name": "stdout",
     "output_type": "stream",
     "text": [
      "[500]\ttrain-rmse:0.037251\tvalid_data-rmse:0.03688\n"
     ]
    },
    {
     "name": "stdout",
     "output_type": "stream",
     "text": [
      "[600]\ttrain-rmse:0.02403\tvalid_data-rmse:0.02416\n"
     ]
    },
    {
     "name": "stdout",
     "output_type": "stream",
     "text": [
      "[700]\ttrain-rmse:0.016166\tvalid_data-rmse:0.017156\n"
     ]
    },
    {
     "name": "stdout",
     "output_type": "stream",
     "text": [
      "[800]\ttrain-rmse:0.011572\tvalid_data-rmse:0.013624\n"
     ]
    },
    {
     "name": "stdout",
     "output_type": "stream",
     "text": [
      "[900]\ttrain-rmse:0.008959\tvalid_data-rmse:0.012038\n"
     ]
    },
    {
     "name": "stdout",
     "output_type": "stream",
     "text": [
      "[1000]\ttrain-rmse:0.007449\tvalid_data-rmse:0.011378\n"
     ]
    },
    {
     "name": "stdout",
     "output_type": "stream",
     "text": [
      "[1100]\ttrain-rmse:0.006584\tvalid_data-rmse:0.011133\n"
     ]
    },
    {
     "name": "stdout",
     "output_type": "stream",
     "text": [
      "[1200]\ttrain-rmse:0.006066\tvalid_data-rmse:0.011044\n"
     ]
    },
    {
     "name": "stdout",
     "output_type": "stream",
     "text": [
      "[1300]\ttrain-rmse:0.00566\tvalid_data-rmse:0.011018\n"
     ]
    },
    {
     "name": "stdout",
     "output_type": "stream",
     "text": [
      "[1400]\ttrain-rmse:0.005361\tvalid_data-rmse:0.011022\n"
     ]
    },
    {
     "name": "stdout",
     "output_type": "stream",
     "text": [
      "Stopping. Best iteration:\n[1295]\ttrain-rmse:0.005681\tvalid_data-rmse:0.011018\n\n"
     ]
    },
    {
     "name": "stdout",
     "output_type": "stream",
     "text": [
      "fold n°5\n[0]\ttrain-rmse:0.423228\tvalid_data-rmse:0.422635\n"
     ]
    },
    {
     "name": "stdout",
     "output_type": "stream",
     "text": [
      "Multiple eval metrics have been passed: 'valid_data-rmse' will be used for early stopping.\n\n"
     ]
    },
    {
     "name": "stdout",
     "output_type": "stream",
     "text": [
      "Will train until valid_data-rmse hasn't improved in 200 rounds.\n"
     ]
    },
    {
     "name": "stdout",
     "output_type": "stream",
     "text": [
      "[100]\ttrain-rmse:0.25717\tvalid_data-rmse:0.256872\n"
     ]
    },
    {
     "name": "stdout",
     "output_type": "stream",
     "text": [
      "[200]\ttrain-rmse:0.156714\tvalid_data-rmse:0.156539\n"
     ]
    },
    {
     "name": "stdout",
     "output_type": "stream",
     "text": [
      "[300]\ttrain-rmse:0.096014\tvalid_data-rmse:0.095774\n"
     ]
    },
    {
     "name": "stdout",
     "output_type": "stream",
     "text": [
      "[400]\ttrain-rmse:0.059389\tvalid_data-rmse:0.059276\n"
     ]
    },
    {
     "name": "stdout",
     "output_type": "stream",
     "text": [
      "[500]\ttrain-rmse:0.037363\tvalid_data-rmse:0.037549\n"
     ]
    },
    {
     "name": "stdout",
     "output_type": "stream",
     "text": [
      "[600]\ttrain-rmse:0.024128\tvalid_data-rmse:0.024696\n"
     ]
    },
    {
     "name": "stdout",
     "output_type": "stream",
     "text": [
      "[700]\ttrain-rmse:0.01629\tvalid_data-rmse:0.017396\n"
     ]
    },
    {
     "name": "stdout",
     "output_type": "stream",
     "text": [
      "[800]\ttrain-rmse:0.011722\tvalid_data-rmse:0.013521\n"
     ]
    },
    {
     "name": "stdout",
     "output_type": "stream",
     "text": [
      "[900]\ttrain-rmse:0.009108\tvalid_data-rmse:0.011614\n"
     ]
    },
    {
     "name": "stdout",
     "output_type": "stream",
     "text": [
      "[1000]\ttrain-rmse:0.007601\tvalid_data-rmse:0.010725\n"
     ]
    },
    {
     "name": "stdout",
     "output_type": "stream",
     "text": [
      "[1100]\ttrain-rmse:0.006738\tvalid_data-rmse:0.010324\n"
     ]
    },
    {
     "name": "stdout",
     "output_type": "stream",
     "text": [
      "[1200]\ttrain-rmse:0.006213\tvalid_data-rmse:0.010161\n"
     ]
    },
    {
     "name": "stdout",
     "output_type": "stream",
     "text": [
      "[1300]\ttrain-rmse:0.005837\tvalid_data-rmse:0.010092\n"
     ]
    },
    {
     "name": "stdout",
     "output_type": "stream",
     "text": [
      "[1400]\ttrain-rmse:0.005538\tvalid_data-rmse:0.010067\n"
     ]
    },
    {
     "name": "stdout",
     "output_type": "stream",
     "text": [
      "[1500]\ttrain-rmse:0.005258\tvalid_data-rmse:0.010057\n"
     ]
    },
    {
     "name": "stdout",
     "output_type": "stream",
     "text": [
      "[1600]\ttrain-rmse:0.005039\tvalid_data-rmse:0.010065\n"
     ]
    },
    {
     "name": "stdout",
     "output_type": "stream",
     "text": [
      "[1700]\ttrain-rmse:0.004813\tvalid_data-rmse:0.010071\n"
     ]
    },
    {
     "name": "stdout",
     "output_type": "stream",
     "text": [
      "Stopping. Best iteration:\n[1503]\ttrain-rmse:0.005249\tvalid_data-rmse:0.010055\n\n"
     ]
    },
    {
     "name": "stdout",
     "output_type": "stream",
     "text": [
      "CV score: 0.00011980\n"
     ]
    }
   ],
   "source": [
    "##### xgb\n",
    "xgb_params = {'eta': 0.005, 'max_depth': 10, 'subsample': 0.8, 'colsample_bytree': 0.8, \n",
    "          'objective': 'reg:linear', 'eval_metric': 'rmse', 'silent': True, 'nthread': 4}\n",
    "\n",
    "folds = KFold(n_splits=5, shuffle=True, random_state=2018)\n",
    "oof_xgb = np.zeros(len(train))\n",
    "predictions_xgb = np.zeros(len(test))\n",
    "\n",
    "for fold_, (trn_idx, val_idx) in enumerate(folds.split(X_train, y_train)):\n",
    "    print(\"fold n°{}\".format(fold_+1))\n",
    "    trn_data = xgb.DMatrix(X_train[trn_idx], y_train[trn_idx])\n",
    "    val_data = xgb.DMatrix(X_train[val_idx], y_train[val_idx])\n",
    "\n",
    "    watchlist = [(trn_data, 'train'), (val_data, 'valid_data')]\n",
    "    clf = xgb.train(dtrain=trn_data, num_boost_round=20000, evals=watchlist, early_stopping_rounds=200, verbose_eval=100, params=xgb_params)\n",
    "    oof_xgb[val_idx] = clf.predict(xgb.DMatrix(X_train[val_idx]), ntree_limit=clf.best_ntree_limit)\n",
    "    predictions_xgb += clf.predict(xgb.DMatrix(X_test), ntree_limit=clf.best_ntree_limit) / folds.n_splits\n",
    "    \n",
    "print(\"CV score: {:<8.8f}\".format(mean_squared_error(oof_xgb, target)))"
   ]
  },
  {
   "cell_type": "code",
   "execution_count": 185,
   "metadata": {},
   "outputs": [
    {
     "name": "stdout",
     "output_type": "stream",
     "text": [
      "fold 0\nfold 1\nfold 2\nfold 3\nfold 4\nfold 5\nfold 6\nfold 7\nfold 8\nfold 9\n"
     ]
    },
    {
     "data": {
      "text/plain": [
       "0.00011593110970965297"
      ]
     },
     "execution_count": 185,
     "metadata": {},
     "output_type": "execute_result"
    }
   ],
   "source": [
    "# 将lgb和xgb的结果进行stacking\n",
    "train_stack = np.vstack([oof_lgb,oof_xgb]).transpose()\n",
    "test_stack = np.vstack([predictions_lgb, predictions_xgb]).transpose()\n",
    "\n",
    "folds_stack = RepeatedKFold(n_splits=5, n_repeats=2, random_state=4590)\n",
    "oof_stack = np.zeros(train_stack.shape[0])\n",
    "predictions = np.zeros(test_stack.shape[0])\n",
    "\n",
    "for fold_, (trn_idx, val_idx) in enumerate(folds_stack.split(train_stack,target)):\n",
    "    print(\"fold {}\".format(fold_))\n",
    "    trn_data, trn_y = train_stack[trn_idx], target.iloc[trn_idx].values\n",
    "    val_data, val_y = train_stack[val_idx], target.iloc[val_idx].values\n",
    "    \n",
    "    clf_3 = BayesianRidge()\n",
    "    clf_3.fit(trn_data, trn_y)\n",
    "    \n",
    "    oof_stack[val_idx] = clf_3.predict(val_data)\n",
    "    predictions += clf_3.predict(test_stack) / 10\n",
    "    \n",
    "mean_squared_error(target.values, oof_stack)"
   ]
  },
  {
   "cell_type": "code",
   "execution_count": 186,
   "metadata": {},
   "outputs": [],
   "source": [
    "sub_df = pd.read_csv('./jinnan_round1_submit_20181227.csv', header=None)\n",
    "sub_df[1] = predictions\n",
    "sub_df[1] = sub_df[1].apply(lambda x:round(x, 3))"
   ]
  },
  {
   "cell_type": "code",
   "execution_count": 187,
   "metadata": {},
   "outputs": [],
   "source": [
    "def modeling_cross_validation(params, X, y, nr_folds=5):\n",
    "    \n",
    "    oof_preds = np.zeros(X.shape[0])\n",
    "    # Split data with kfold\n",
    "    folds = KFold(n_splits=nr_folds, shuffle=False, random_state=4096)\n",
    "    \n",
    "    for fold_, (trn_idx, val_idx) in enumerate(folds.split(X, y)):\n",
    "        print(\"fold n°{}\".format(fold_+1))\n",
    "        trn_data = lgb.Dataset(X[trn_idx], y[trn_idx])\n",
    "        val_data = lgb.Dataset(X[val_idx], y[val_idx])\n",
    "\n",
    "        num_round = 20000\n",
    "        clf = lgb.train(params, trn_data, num_round, valid_sets = [trn_data, val_data], verbose_eval=1000, early_stopping_rounds = 100)\n",
    "        oof_preds[val_idx] = clf.predict(X[val_idx], num_iteration=clf.best_iteration)\n",
    "\n",
    "    score = mean_squared_error(oof_preds, target)\n",
    "    \n",
    "    return  score/2"
   ]
  },
  {
   "cell_type": "code",
   "execution_count": null,
   "metadata": {},
   "outputs": [],
   "source": [
    ""
   ]
  },
  {
   "cell_type": "code",
   "execution_count": 190,
   "metadata": {
    "collapsed": true
   },
   "outputs": [
    {
     "name": "stdout",
     "output_type": "stream",
     "text": [
      "fold n°1\nTraining until validation scores don't improve for 100 rounds.\n"
     ]
    },
    {
     "name": "stdout",
     "output_type": "stream",
     "text": [
      "Early stopping, best iteration is:\n[193]\ttraining's l2: 5.40003e-05\tvalid_1's l2: 0.000144782\nfold n°2\nTraining until validation scores don't improve for 100 rounds.\n"
     ]
    },
    {
     "name": "stdout",
     "output_type": "stream",
     "text": [
      "Early stopping, best iteration is:\n[199]\ttraining's l2: 5.22154e-05\tvalid_1's l2: 0.000134531\nfold n°3\nTraining until validation scores don't improve for 100 rounds.\n"
     ]
    },
    {
     "name": "stdout",
     "output_type": "stream",
     "text": [
      "Early stopping, best iteration is:\n[371]\ttraining's l2: 4.09579e-05\tvalid_1's l2: 0.000123256\nfold n°4\nTraining until validation scores don't improve for 100 rounds.\nEarly stopping, best iteration is:\n[172]\ttraining's l2: 6.3404e-05\tvalid_1's l2: 0.000113259\nfold n°5"
     ]
    },
    {
     "name": "stdout",
     "output_type": "stream",
     "text": [
      "\nTraining until validation scores don't improve for 100 rounds.\n"
     ]
    },
    {
     "name": "stdout",
     "output_type": "stream",
     "text": [
      "Early stopping, best iteration is:\n[189]\ttraining's l2: 5.63576e-05\tvalid_1's l2: 0.000145067\n初始CV score: 0.00006609\nfold n°1\nTraining until validation scores don't improve for 100 rounds.\nEarly stopping, best iteration is:\n[156]\ttraining's l2: 0.000107784\tvalid_1's l2: 0.000188472\nfold n°2\nTraining until validation scores don't improve for 100 rounds.\n"
     ]
    },
    {
     "name": "stdout",
     "output_type": "stream",
     "text": [
      "Early stopping, best iteration is:\n[142]\ttraining's l2: 0.000105921\tvalid_1's l2: 0.000218893\nfold n°3\nTraining until validation scores don't improve for 100 rounds.\nEarly stopping, best iteration is:\n[237]\ttraining's l2: 0.000100045\tvalid_1's l2: 0.00016032\nfold n°4\nTraining until validation scores don't improve for 100 rounds.\n"
     ]
    },
    {
     "name": "stdout",
     "output_type": "stream",
     "text": [
      "Early stopping, best iteration is:\n[135]\ttraining's l2: 0.000122662\tvalid_1's l2: 0.000143453\nfold n°5\nTraining until validation scores don't improve for 100 rounds.\nEarly stopping, best iteration is:\n[232]\ttraining's l2: 9.80047e-05\tvalid_1's l2: 0.000183783"
     ]
    },
    {
     "name": "stdout",
     "output_type": "stream",
     "text": [
      "\n----------\n当前移除特征: 样本id, CV score: 0.00008950, 最佳cv score: 0.00006609, 没效果,保留！！\nfold n°1\nTraining until validation scores don't improve for 100 rounds.\nEarly stopping, best iteration is:\n[134]\ttraining's l2: 6.68623e-05\tvalid_1's l2: 0.000146986\nfold n°2\nTraining until validation scores don't improve for 100 rounds."
     ]
    },
    {
     "name": "stdout",
     "output_type": "stream",
     "text": [
      "\n"
     ]
    },
    {
     "name": "stdout",
     "output_type": "stream",
     "text": [
      "Early stopping, best iteration is:\n[227]\ttraining's l2: 5.03729e-05\tvalid_1's l2: 0.000135757\nfold n°3\nTraining until validation scores don't improve for 100 rounds.\n"
     ]
    },
    {
     "name": "stdout",
     "output_type": "stream",
     "text": [
      "Early stopping, best iteration is:\n[342]\ttraining's l2: 4.40595e-05\tvalid_1's l2: 0.00012276\nfold n°4\nTraining until validation scores don't improve for 100 rounds.\nEarly stopping, best iteration is:\n[138]\ttraining's l2: 7.19427e-05\tvalid_1's l2: 0.000114633\nfold n°5\nTraining until validation scores don't improve for 100 rounds."
     ]
    },
    {
     "name": "stdout",
     "output_type": "stream",
     "text": [
      "\n"
     ]
    },
    {
     "name": "stdout",
     "output_type": "stream",
     "text": [
      "Early stopping, best iteration is:\n[179]\ttraining's l2: 5.92492e-05\tvalid_1's l2: 0.000144002\n----------\n当前移除特征: A5, CV score: 0.00006642, 最佳cv score: 0.00006609, 没效果,保留！！\nfold n°1\nTraining until validation scores don't improve for 100 rounds.\n"
     ]
    },
    {
     "name": "stdout",
     "output_type": "stream",
     "text": [
      "Early stopping, best iteration is:\n[228]\ttraining's l2: 5.05199e-05\tvalid_1's l2: 0.000146298\nfold n°2\nTraining until validation scores don't improve for 100 rounds.\n"
     ]
    },
    {
     "name": "stdout",
     "output_type": "stream",
     "text": [
      "Early stopping, best iteration is:\n[236]\ttraining's l2: 4.96473e-05\tvalid_1's l2: 0.000138225\nfold n°3\nTraining until validation scores don't improve for 100 rounds.\n"
     ]
    },
    {
     "name": "stdout",
     "output_type": "stream",
     "text": [
      "Early stopping, best iteration is:\n[288]\ttraining's l2: 5.00245e-05\tvalid_1's l2: 0.000116618\nfold n°4\nTraining until validation scores don't improve for 100 rounds.\nEarly stopping, best iteration is:\n[194]\ttraining's l2: 6.09497e-05\tvalid_1's l2: 0.000108464"
     ]
    },
    {
     "name": "stdout",
     "output_type": "stream",
     "text": [
      "\nfold n°5\nTraining until validation scores don't improve for 100 rounds.\n"
     ]
    },
    {
     "name": "stdout",
     "output_type": "stream",
     "text": [
      "Early stopping, best iteration is:\n[246]\ttraining's l2: 4.98714e-05\tvalid_1's l2: 0.000145543\n----------\n当前移除特征: A6, CV score: 0.00006552, 最佳cv score: 0.00006609, 有效果,删除！！\nfold n°1\nTraining until validation scores don't improve for 100 rounds.\nEarly stopping, best iteration is:\n[177]\ttraining's l2: 5.75361e-05\tvalid_1's l2: 0.000148163"
     ]
    },
    {
     "name": "stdout",
     "output_type": "stream",
     "text": [
      "\nfold n°2\nTraining until validation scores don't improve for 100 rounds.\nEarly stopping, best iteration is:\n[212]\ttraining's l2: 5.2302e-05\tvalid_1's l2: 0.000136787\nfold n°3"
     ]
    },
    {
     "name": "stdout",
     "output_type": "stream",
     "text": [
      "\nTraining until validation scores don't improve for 100 rounds.\n"
     ]
    },
    {
     "name": "stdout",
     "output_type": "stream",
     "text": [
      "Early stopping, best iteration is:\n[309]\ttraining's l2: 4.86592e-05\tvalid_1's l2: 0.000119416\nfold n°4\nTraining until validation scores don't improve for 100 rounds.\nEarly stopping, best iteration is:\n[169]\ttraining's l2: 6.54308e-05\tvalid_1's l2: 0.00011035\nfold n°5\nTraining until validation scores don't improve for 100 rounds."
     ]
    },
    {
     "name": "stdout",
     "output_type": "stream",
     "text": [
      "\nEarly stopping, best iteration is:\n[209]\ttraining's l2: 5.4833e-05\tvalid_1's l2: 0.00014654"
     ]
    },
    {
     "name": "stdout",
     "output_type": "stream",
     "text": [
      "\n----------\n当前移除特征: A7, CV score: 0.00006613, 最佳cv score: 0.00006552, 没效果,保留！！\nfold n°1\nTraining until validation scores don't improve for 100 rounds.\n"
     ]
    },
    {
     "name": "stdout",
     "output_type": "stream",
     "text": [
      "Early stopping, best iteration is:\n[231]\ttraining's l2: 5.02659e-05\tvalid_1's l2: 0.000145821\nfold n°2\nTraining until validation scores don't improve for 100 rounds.\nEarly stopping, best iteration is:\n[219]\ttraining's l2: 5.07417e-05\tvalid_1's l2: 0.000134234"
     ]
    },
    {
     "name": "stdout",
     "output_type": "stream",
     "text": [
      "\nfold n°3\nTraining until validation scores don't improve for 100 rounds.\n"
     ]
    },
    {
     "name": "stdout",
     "output_type": "stream",
     "text": [
      "Early stopping, best iteration is:\n[287]\ttraining's l2: 5.02393e-05\tvalid_1's l2: 0.000116053\nfold n°4\nTraining until validation scores don't improve for 100 rounds.\n"
     ]
    },
    {
     "name": "stdout",
     "output_type": "stream",
     "text": [
      "Early stopping, best iteration is:\n[165]\ttraining's l2: 6.569e-05\tvalid_1's l2: 0.000109976\nfold n°5\nTraining until validation scores don't improve for 100 rounds.\nEarly stopping, best iteration is:\n[235]\ttraining's l2: 5.11975e-05\tvalid_1's l2: 0.000143777"
     ]
    },
    {
     "name": "stdout",
     "output_type": "stream",
     "text": [
      "\n----------\n当前移除特征: A8, CV score: 0.00006499, 最佳cv score: 0.00006552, 有效果,删除！！\nfold n°1\nTraining until validation scores don't improve for 100 rounds.\n"
     ]
    },
    {
     "name": "stdout",
     "output_type": "stream",
     "text": [
      "Early stopping, best iteration is:\n[142]\ttraining's l2: 6.59556e-05\tvalid_1's l2: 0.000147816\nfold n°2\nTraining until validation scores don't improve for 100 rounds.\nEarly stopping, best iteration is:\n[176]\ttraining's l2: 5.82605e-05\tvalid_1's l2: 0.000135189"
     ]
    },
    {
     "name": "stdout",
     "output_type": "stream",
     "text": [
      "\nfold n°3\nTraining until validation scores don't improve for 100 rounds.\n"
     ]
    },
    {
     "name": "stdout",
     "output_type": "stream",
     "text": [
      "Early stopping, best iteration is:\n[238]\ttraining's l2: 5.60935e-05\tvalid_1's l2: 0.000118368\nfold n°4\nTraining until validation scores don't improve for 100 rounds.\nEarly stopping, best iteration is:\n[168]\ttraining's l2: 6.54692e-05\tvalid_1's l2: 0.000112061\nfold n°5"
     ]
    },
    {
     "name": "stdout",
     "output_type": "stream",
     "text": [
      "\nTraining until validation scores don't improve for 100 rounds.\nEarly stopping, best iteration is:\n[145]\ttraining's l2: 6.67478e-05\tvalid_1's l2: 0.00014568\n----------\n当前移除特征: A9, CV score: 0.00006592, 最佳cv score: 0.00006499, 没效果,保留！！\nfold n°1\nTraining until validation scores don't improve for 100 rounds.\n"
     ]
    },
    {
     "name": "stdout",
     "output_type": "stream",
     "text": [
      "Early stopping, best iteration is:\n[228]\ttraining's l2: 5.149e-05\tvalid_1's l2: 0.00014911\nfold n°2\nTraining until validation scores don't improve for 100 rounds.\nEarly stopping, best iteration is:\n[157]\ttraining's l2: 6.32244e-05\tvalid_1's l2: 0.00013573"
     ]
    },
    {
     "name": "stdout",
     "output_type": "stream",
     "text": [
      "\nfold n°3\nTraining until validation scores don't improve for 100 rounds.\n"
     ]
    },
    {
     "name": "stdout",
     "output_type": "stream",
     "text": [
      "Early stopping, best iteration is:\n[367]\ttraining's l2: 4.50412e-05\tvalid_1's l2: 0.000120777\nfold n°4\nTraining until validation scores don't improve for 100 rounds.\nEarly stopping, best iteration is:\n[218]\ttraining's l2: 5.81589e-05\tvalid_1's l2: 0.0001124"
     ]
    },
    {
     "name": "stdout",
     "output_type": "stream",
     "text": [
      "\nfold n°5\nTraining until validation scores don't improve for 100 rounds.\n"
     ]
    },
    {
     "name": "stdout",
     "output_type": "stream",
     "text": [
      "Early stopping, best iteration is:\n[268]\ttraining's l2: 5.02385e-05\tvalid_1's l2: 0.000144064\n----------\n当前移除特征: A10, CV score: 0.00006621, 最佳cv score: 0.00006499, 没效果,保留！！\nfold n°1\nTraining until validation scores don't improve for 100 rounds.\n"
     ]
    },
    {
     "name": "stdout",
     "output_type": "stream",
     "text": [
      "Early stopping, best iteration is:\n[289]\ttraining's l2: 4.43742e-05\tvalid_1's l2: 0.000145313\nfold n°2\nTraining until validation scores don't improve for 100 rounds.\n"
     ]
    },
    {
     "name": "stdout",
     "output_type": "stream",
     "text": [
      "Early stopping, best iteration is:\n[221]\ttraining's l2: 5.10943e-05\tvalid_1's l2: 0.000139343\nfold n°3\nTraining until validation scores don't improve for 100 rounds.\nEarly stopping, best iteration is:\n[229]\ttraining's l2: 5.76604e-05\tvalid_1's l2: 0.000116031"
     ]
    },
    {
     "name": "stdout",
     "output_type": "stream",
     "text": [
      "\nfold n°4\nTraining until validation scores don't improve for 100 rounds.\nEarly stopping, best iteration is:\n[172]\ttraining's l2: 6.49486e-05\tvalid_1's l2: 0.000110101\nfold n°5\n"
     ]
    },
    {
     "name": "stdout",
     "output_type": "stream",
     "text": [
      "Training until validation scores don't improve for 100 rounds.\n"
     ]
    },
    {
     "name": "stdout",
     "output_type": "stream",
     "text": [
      "Early stopping, best iteration is:\n[261]\ttraining's l2: 4.86298e-05\tvalid_1's l2: 0.000145357\n----------\n当前移除特征: A11, CV score: 0.00006562, 最佳cv score: 0.00006499, 没效果,保留！！\nfold n°1\nTraining until validation scores don't improve for 100 rounds.\n"
     ]
    },
    {
     "name": "stdout",
     "output_type": "stream",
     "text": [
      "Early stopping, best iteration is:\n[337]\ttraining's l2: 4.14532e-05\tvalid_1's l2: 0.000147827\nfold n°2\nTraining until validation scores don't improve for 100 rounds.\n"
     ]
    },
    {
     "name": "stdout",
     "output_type": "stream",
     "text": [
      "Early stopping, best iteration is:\n[234]\ttraining's l2: 4.91653e-05\tvalid_1's l2: 0.000135711\nfold n°3\nTraining until validation scores don't improve for 100 rounds.\n"
     ]
    },
    {
     "name": "stdout",
     "output_type": "stream",
     "text": [
      "Early stopping, best iteration is:\n[370]\ttraining's l2: 4.41332e-05\tvalid_1's l2: 0.000118241\nfold n°4\nTraining until validation scores don't improve for 100 rounds.\n"
     ]
    },
    {
     "name": "stdout",
     "output_type": "stream",
     "text": [
      "Early stopping, best iteration is:\n[161]\ttraining's l2: 6.66409e-05\tvalid_1's l2: 0.000110674\nfold n°5\nTraining until validation scores don't improve for 100 rounds.\nEarly stopping, best iteration is:\n[223]\ttraining's l2: 5.32895e-05\tvalid_1's l2: 0.000143376"
     ]
    },
    {
     "name": "stdout",
     "output_type": "stream",
     "text": [
      "\n----------\n当前移除特征: A12, CV score: 0.00006559, 最佳cv score: 0.00006499, 没效果,保留！！\nfold n°1\nTraining until validation scores don't improve for 100 rounds.\nEarly stopping, best iteration is:\n[145]\ttraining's l2: 6.43413e-05\tvalid_1's l2: 0.000148151\nfold n°2\nTraining until validation scores don't improve for 100 rounds."
     ]
    },
    {
     "name": "stdout",
     "output_type": "stream",
     "text": [
      "\nEarly stopping, best iteration is:\n[177]\ttraining's l2: 5.81789e-05\tvalid_1's l2: 0.00013701\nfold n°3\nTraining until validation scores don't improve for 100 rounds.\n"
     ]
    },
    {
     "name": "stdout",
     "output_type": "stream",
     "text": [
      "Early stopping, best iteration is:\n[302]\ttraining's l2: 4.87132e-05\tvalid_1's l2: 0.000117951\nfold n°4\nTraining until validation scores don't improve for 100 rounds.\nEarly stopping, best iteration is:\n[162]\ttraining's l2: 6.65333e-05\tvalid_1's l2: 0.000112411\nfold n°5"
     ]
    },
    {
     "name": "stdout",
     "output_type": "stream",
     "text": [
      "\nTraining until validation scores don't improve for 100 rounds.\nEarly stopping, best iteration is:\n[187]\ttraining's l2: 5.81003e-05\tvalid_1's l2: 0.000147528"
     ]
    },
    {
     "name": "stdout",
     "output_type": "stream",
     "text": [
      "\n----------\n当前移除特征: A14, CV score: 0.00006631, 最佳cv score: 0.00006499, 没效果,保留！！\nfold n°1\nTraining until validation scores don't improve for 100 rounds.\nEarly stopping, best iteration is:\n[181]\ttraining's l2: 5.79326e-05\tvalid_1's l2: 0.000146246"
     ]
    },
    {
     "name": "stdout",
     "output_type": "stream",
     "text": [
      "\nfold n°2\nTraining until validation scores don't improve for 100 rounds.\nEarly stopping, best iteration is:\n[185]\ttraining's l2: 5.67318e-05\tvalid_1's l2: 0.000135297"
     ]
    },
    {
     "name": "stdout",
     "output_type": "stream",
     "text": [
      "\nfold n°3\nTraining until validation scores don't improve for 100 rounds.\n"
     ]
    },
    {
     "name": "stdout",
     "output_type": "stream",
     "text": [
      "Early stopping, best iteration is:\n[237]\ttraining's l2: 5.62907e-05\tvalid_1's l2: 0.000116973\nfold n°4\nTraining until validation scores don't improve for 100 rounds.\nEarly stopping, best iteration is:\n[218]\ttraining's l2: 5.73036e-05\tvalid_1's l2: 0.000109291"
     ]
    },
    {
     "name": "stdout",
     "output_type": "stream",
     "text": [
      "\nfold n°5\nTraining until validation scores don't improve for 100 rounds.\n"
     ]
    },
    {
     "name": "stdout",
     "output_type": "stream",
     "text": [
      "Early stopping, best iteration is:\n[202]\ttraining's l2: 5.62027e-05\tvalid_1's l2: 0.000143943\n----------\n当前移除特征: A15, CV score: 0.00006518, 最佳cv score: 0.00006499, 没效果,保留！！\nfold n°1\nTraining until validation scores don't improve for 100 rounds.\nEarly stopping, best iteration is:\n[193]\ttraining's l2: 5.50534e-05\tvalid_1's l2: 0.000147237"
     ]
    },
    {
     "name": "stdout",
     "output_type": "stream",
     "text": [
      "\nfold n°2\nTraining until validation scores don't improve for 100 rounds.\n"
     ]
    },
    {
     "name": "stdout",
     "output_type": "stream",
     "text": [
      "Early stopping, best iteration is:\n[230]\ttraining's l2: 4.93254e-05\tvalid_1's l2: 0.00013809\nfold n°3\nTraining until validation scores don't improve for 100 rounds.\n"
     ]
    },
    {
     "name": "stdout",
     "output_type": "stream",
     "text": [
      "Early stopping, best iteration is:\n[288]\ttraining's l2: 5.02223e-05\tvalid_1's l2: 0.00011748\nfold n°4\nTraining until validation scores don't improve for 100 rounds.\nEarly stopping, best iteration is:\n[141]\ttraining's l2: 7.29932e-05\tvalid_1's l2: 0.000108897\nfold n°5\nTraining until validation scores don't improve for 100 rounds.\n"
     ]
    },
    {
     "name": "stdout",
     "output_type": "stream",
     "text": [
      "Early stopping, best iteration is:\n[235]\ttraining's l2: 5.13667e-05\tvalid_1's l2: 0.000146008\n----------\n当前移除特征: A16, CV score: 0.00006578, 最佳cv score: 0.00006499, 没效果,保留！！\nfold n°1\nTraining until validation scores don't improve for 100 rounds.\nEarly stopping, best iteration is:\n[193]\ttraining's l2: 5.55028e-05\tvalid_1's l2: 0.000147514"
     ]
    },
    {
     "name": "stdout",
     "output_type": "stream",
     "text": [
      "\nfold n°2\nTraining until validation scores don't improve for 100 rounds.\nEarly stopping, best iteration is:\n[214]\ttraining's l2: 5.21365e-05\tvalid_1's l2: 0.00013647"
     ]
    },
    {
     "name": "stdout",
     "output_type": "stream",
     "text": [
      "\nfold n°3\nTraining until validation scores don't improve for 100 rounds.\n"
     ]
    },
    {
     "name": "stdout",
     "output_type": "stream",
     "text": [
      "Early stopping, best iteration is:\n[295]\ttraining's l2: 5.05401e-05\tvalid_1's l2: 0.000113879\nfold n°4\nTraining until validation scores don't improve for 100 rounds.\nEarly stopping, best iteration is:\n[183]\ttraining's l2: 6.2461e-05\tvalid_1's l2: 0.000109396"
     ]
    },
    {
     "name": "stdout",
     "output_type": "stream",
     "text": [
      "\nfold n°5\nTraining until validation scores don't improve for 100 rounds.\n"
     ]
    },
    {
     "name": "stdout",
     "output_type": "stream",
     "text": [
      "Early stopping, best iteration is:\n[329]\ttraining's l2: 4.39341e-05\tvalid_1's l2: 0.000141046\n----------\n当前移除特征: A17, CV score: 0.00006484, 最佳cv score: 0.00006499, 有效果,删除！！\nfold n°1\nTraining until validation scores don't improve for 100 rounds.\n"
     ]
    },
    {
     "name": "stdout",
     "output_type": "stream",
     "text": [
      "Early stopping, best iteration is:\n[229]\ttraining's l2: 5.04551e-05\tvalid_1's l2: 0.00014749\nfold n°2\nTraining until validation scores don't improve for 100 rounds.\nEarly stopping, best iteration is:\n[248]\ttraining's l2: 4.8296e-05\tvalid_1's l2: 0.000138142"
     ]
    },
    {
     "name": "stdout",
     "output_type": "stream",
     "text": [
      "\nfold n°3\nTraining until validation scores don't improve for 100 rounds.\n"
     ]
    },
    {
     "name": "stdout",
     "output_type": "stream",
     "text": [
      "Early stopping, best iteration is:\n[254]\ttraining's l2: 5.46532e-05\tvalid_1's l2: 0.000113562\nfold n°4\nTraining until validation scores don't improve for 100 rounds.\n"
     ]
    },
    {
     "name": "stdout",
     "output_type": "stream",
     "text": [
      "Early stopping, best iteration is:\n[185]\ttraining's l2: 6.19814e-05\tvalid_1's l2: 0.000109034\nfold n°5\nTraining until validation scores don't improve for 100 rounds.\n"
     ]
    },
    {
     "name": "stdout",
     "output_type": "stream",
     "text": [
      "Early stopping, best iteration is:\n[238]\ttraining's l2: 5.19829e-05\tvalid_1's l2: 0.000142294\n----------\n当前移除特征: A19, CV score: 0.00006506, 最佳cv score: 0.00006484, 没效果,保留！！\nfold n°1\nTraining until validation scores don't improve for 100 rounds.\nEarly stopping, best iteration is:\n[159]\ttraining's l2: 6.20229e-05\tvalid_1's l2: 0.000146444\nfold n°2\nTraining until validation scores don't improve for 100 rounds."
     ]
    },
    {
     "name": "stdout",
     "output_type": "stream",
     "text": [
      "\n"
     ]
    },
    {
     "name": "stdout",
     "output_type": "stream",
     "text": [
      "Early stopping, best iteration is:\n[251]\ttraining's l2: 4.80969e-05\tvalid_1's l2: 0.000137211\nfold n°3\nTraining until validation scores don't improve for 100 rounds.\n"
     ]
    },
    {
     "name": "stdout",
     "output_type": "stream",
     "text": [
      "Early stopping, best iteration is:\n[284]\ttraining's l2: 5.1444e-05\tvalid_1's l2: 0.000117318\nfold n°4\nTraining until validation scores don't improve for 100 rounds.\nEarly stopping, best iteration is:\n[164]\ttraining's l2: 6.70219e-05\tvalid_1's l2: 0.000112719\nfold n°5\nTraining until validation scores don't improve for 100 rounds."
     ]
    },
    {
     "name": "stdout",
     "output_type": "stream",
     "text": [
      "\n"
     ]
    },
    {
     "name": "stdout",
     "output_type": "stream",
     "text": [
      "Early stopping, best iteration is:\n[259]\ttraining's l2: 5.01427e-05\tvalid_1's l2: 0.000140578\n----------\n当前移除特征: A20, CV score: 0.00006543, 最佳cv score: 0.00006484, 没效果,保留！！\nfold n°1\nTraining until validation scores don't improve for 100 rounds.\nEarly stopping, best iteration is:\n[201]\ttraining's l2: 5.45081e-05\tvalid_1's l2: 0.000147369"
     ]
    },
    {
     "name": "stdout",
     "output_type": "stream",
     "text": [
      "\nfold n°2\nTraining until validation scores don't improve for 100 rounds.\nEarly stopping, best iteration is:\n[177]\ttraining's l2: 5.89886e-05\tvalid_1's l2: 0.000135974\nfold n°3"
     ]
    },
    {
     "name": "stdout",
     "output_type": "stream",
     "text": [
      "\nTraining until validation scores don't improve for 100 rounds.\n"
     ]
    },
    {
     "name": "stdout",
     "output_type": "stream",
     "text": [
      "Early stopping, best iteration is:\n[287]\ttraining's l2: 5.08011e-05\tvalid_1's l2: 0.000117538\nfold n°4\nTraining until validation scores don't improve for 100 rounds.\n"
     ]
    },
    {
     "name": "stdout",
     "output_type": "stream",
     "text": [
      "Early stopping, best iteration is:\n[169]\ttraining's l2: 6.60958e-05\tvalid_1's l2: 0.000109377\nfold n°5\nTraining until validation scores don't improve for 100 rounds.\n"
     ]
    },
    {
     "name": "stdout",
     "output_type": "stream",
     "text": [
      "Early stopping, best iteration is:\n[275]\ttraining's l2: 4.8112e-05\tvalid_1's l2: 0.000143014\n----------\n当前移除特征: A21, CV score: 0.00006533, 最佳cv score: 0.00006484, 没效果,保留！！\nfold n°1\nTraining until validation scores don't improve for 100 rounds.\n"
     ]
    },
    {
     "name": "stdout",
     "output_type": "stream",
     "text": [
      "Early stopping, best iteration is:\n[201]\ttraining's l2: 5.47425e-05\tvalid_1's l2: 0.0001486\nfold n°2\nTraining until validation scores don't improve for 100 rounds.\nEarly stopping, best iteration is:\n[174]\ttraining's l2: 5.88951e-05\tvalid_1's l2: 0.000137942\nfold n°3"
     ]
    },
    {
     "name": "stdout",
     "output_type": "stream",
     "text": [
      "\nTraining until validation scores don't improve for 100 rounds.\n"
     ]
    },
    {
     "name": "stdout",
     "output_type": "stream",
     "text": [
      "Early stopping, best iteration is:\n[351]\ttraining's l2: 4.5354e-05\tvalid_1's l2: 0.000116768\nfold n°4\nTraining until validation scores don't improve for 100 rounds.\n"
     ]
    },
    {
     "name": "stdout",
     "output_type": "stream",
     "text": [
      "Early stopping, best iteration is:\n[230]\ttraining's l2: 5.56022e-05\tvalid_1's l2: 0.000106924\nfold n°5\nTraining until validation scores don't improve for 100 rounds.\nEarly stopping, best iteration is:\n[201]\ttraining's l2: 5.69187e-05\tvalid_1's l2: 0.00014642\n----------\n当前移除特征: A22, CV score: 0.00006567, 最佳cv score: 0.00006484, 没效果,保留！！\nfold n°1\nTraining until validation scores don't improve for 100 rounds."
     ]
    },
    {
     "name": "stdout",
     "output_type": "stream",
     "text": [
      "\n"
     ]
    },
    {
     "name": "stdout",
     "output_type": "stream",
     "text": [
      "Early stopping, best iteration is:\n[310]\ttraining's l2: 4.29675e-05\tvalid_1's l2: 0.000142056\nfold n°2\nTraining until validation scores don't improve for 100 rounds.\n"
     ]
    },
    {
     "name": "stdout",
     "output_type": "stream",
     "text": [
      "Early stopping, best iteration is:\n[184]\ttraining's l2: 5.71901e-05\tvalid_1's l2: 0.000135751\nfold n°3\nTraining until validation scores don't improve for 100 rounds.\n"
     ]
    },
    {
     "name": "stdout",
     "output_type": "stream",
     "text": [
      "Early stopping, best iteration is:\n[307]\ttraining's l2: 4.9071e-05\tvalid_1's l2: 0.000114979\nfold n°4\nTraining until validation scores don't improve for 100 rounds.\n"
     ]
    },
    {
     "name": "stdout",
     "output_type": "stream",
     "text": [
      "Early stopping, best iteration is:\n[242]\ttraining's l2: 5.43102e-05\tvalid_1's l2: 0.000110571\nfold n°5\nTraining until validation scores don't improve for 100 rounds.\n"
     ]
    },
    {
     "name": "stdout",
     "output_type": "stream",
     "text": [
      "Early stopping, best iteration is:\n[175]\ttraining's l2: 6.07671e-05\tvalid_1's l2: 0.000144463\n----------\n当前移除特征: A24, CV score: 0.00006479, 最佳cv score: 0.00006484, 有效果,删除！！\nfold n°1\nTraining until validation scores don't improve for 100 rounds.\nEarly stopping, best iteration is:\n[199]\ttraining's l2: 5.68269e-05\tvalid_1's l2: 0.000137926\nfold n°2"
     ]
    },
    {
     "name": "stdout",
     "output_type": "stream",
     "text": [
      "\nTraining until validation scores don't improve for 100 rounds.\n"
     ]
    },
    {
     "name": "stdout",
     "output_type": "stream",
     "text": [
      "Early stopping, best iteration is:\n[246]\ttraining's l2: 5.01165e-05\tvalid_1's l2: 0.000133174\nfold n°3\nTraining until validation scores don't improve for 100 rounds.\n"
     ]
    },
    {
     "name": "stdout",
     "output_type": "stream",
     "text": [
      "Early stopping, best iteration is:\n[288]\ttraining's l2: 5.31594e-05\tvalid_1's l2: 0.000113629\nfold n°4\nTraining until validation scores don't improve for 100 rounds.\n"
     ]
    },
    {
     "name": "stdout",
     "output_type": "stream",
     "text": [
      "Early stopping, best iteration is:\n[214]\ttraining's l2: 5.90382e-05\tvalid_1's l2: 0.000110352\nfold n°5\nTraining until validation scores don't improve for 100 rounds.\n"
     ]
    },
    {
     "name": "stdout",
     "output_type": "stream",
     "text": [
      "Early stopping, best iteration is:\n[286]\ttraining's l2: 4.88785e-05\tvalid_1's l2: 0.000141669\n----------\n当前移除特征: A25, CV score: 0.00006368, 最佳cv score: 0.00006479, 有效果,删除！！\nfold n°1\nTraining until validation scores don't improve for 100 rounds.\n"
     ]
    },
    {
     "name": "stdout",
     "output_type": "stream",
     "text": [
      "Early stopping, best iteration is:\n[139]\ttraining's l2: 6.88528e-05\tvalid_1's l2: 0.000145512\nfold n°2\nTraining until validation scores don't improve for 100 rounds.\nEarly stopping, best iteration is:\n[176]\ttraining's l2: 6.17804e-05\tvalid_1's l2: 0.000132716\nfold n°3"
     ]
    },
    {
     "name": "stdout",
     "output_type": "stream",
     "text": [
      "\nTraining until validation scores don't improve for 100 rounds.\n"
     ]
    },
    {
     "name": "stdout",
     "output_type": "stream",
     "text": [
      "Early stopping, best iteration is:\n[332]\ttraining's l2: 5.05081e-05\tvalid_1's l2: 0.00011423\nfold n°4\nTraining until validation scores don't improve for 100 rounds.\n"
     ]
    },
    {
     "name": "stdout",
     "output_type": "stream",
     "text": [
      "Early stopping, best iteration is:\n[186]\ttraining's l2: 6.39766e-05\tvalid_1's l2: 0.000111093\nfold n°5\nTraining until validation scores don't improve for 100 rounds.\n"
     ]
    },
    {
     "name": "stdout",
     "output_type": "stream",
     "text": [
      "Early stopping, best iteration is:\n[233]\ttraining's l2: 5.56431e-05\tvalid_1's l2: 0.00013865\n----------\n当前移除特征: A26, CV score: 0.00006423, 最佳cv score: 0.00006368, 没效果,保留！！\nfold n°1\nTraining until validation scores don't improve for 100 rounds.\nEarly stopping, best iteration is:\n[187]\ttraining's l2: 5.92107e-05\tvalid_1's l2: 0.000140608"
     ]
    },
    {
     "name": "stdout",
     "output_type": "stream",
     "text": [
      "\nfold n°2\nTraining until validation scores don't improve for 100 rounds.\nEarly stopping, best iteration is:\n[215]\ttraining's l2: 5.56543e-05\tvalid_1's l2: 0.000132159\nfold n°3"
     ]
    },
    {
     "name": "stdout",
     "output_type": "stream",
     "text": [
      "\nTraining until validation scores don't improve for 100 rounds.\n"
     ]
    },
    {
     "name": "stdout",
     "output_type": "stream",
     "text": [
      "Early stopping, best iteration is:\n[307]\ttraining's l2: 5.21834e-05\tvalid_1's l2: 0.000111871\nfold n°4\nTraining until validation scores don't improve for 100 rounds.\nEarly stopping, best iteration is:\n[158]\ttraining's l2: 7.03455e-05\tvalid_1's l2: 0.000109\nfold n°5"
     ]
    },
    {
     "name": "stdout",
     "output_type": "stream",
     "text": [
      "\nTraining until validation scores don't improve for 100 rounds.\n"
     ]
    },
    {
     "name": "stdout",
     "output_type": "stream",
     "text": [
      "Early stopping, best iteration is:\n[272]\ttraining's l2: 5.10407e-05\tvalid_1's l2: 0.000143553\n----------\n当前移除特征: A27, CV score: 0.00006372, 最佳cv score: 0.00006368, 没效果,保留！！\nfold n°1\nTraining until validation scores don't improve for 100 rounds.\nEarly stopping, best iteration is:\n[191]\ttraining's l2: 5.84062e-05\tvalid_1's l2: 0.000140745\nfold n°2"
     ]
    },
    {
     "name": "stdout",
     "output_type": "stream",
     "text": [
      "\nTraining until validation scores don't improve for 100 rounds.\n"
     ]
    },
    {
     "name": "stdout",
     "output_type": "stream",
     "text": [
      "Early stopping, best iteration is:\n[241]\ttraining's l2: 5.12391e-05\tvalid_1's l2: 0.00013225\nfold n°3\nTraining until validation scores don't improve for 100 rounds.\n"
     ]
    },
    {
     "name": "stdout",
     "output_type": "stream",
     "text": [
      "Early stopping, best iteration is:\n[292]\ttraining's l2: 5.22625e-05\tvalid_1's l2: 0.000115177\nfold n°4\nTraining until validation scores don't improve for 100 rounds.\n"
     ]
    },
    {
     "name": "stdout",
     "output_type": "stream",
     "text": [
      "Early stopping, best iteration is:\n[211]\ttraining's l2: 5.94608e-05\tvalid_1's l2: 0.000108553\nfold n°5\nTraining until validation scores don't improve for 100 rounds.\n"
     ]
    },
    {
     "name": "stdout",
     "output_type": "stream",
     "text": [
      "Early stopping, best iteration is:\n[218]\ttraining's l2: 5.58587e-05\tvalid_1's l2: 0.000143044\n----------\n当前移除特征: A28, CV score: 0.00006398, 最佳cv score: 0.00006368, 没效果,保留！！\nfold n°1\nTraining until validation scores don't improve for 100 rounds.\nEarly stopping, best iteration is:\n[180]\ttraining's l2: 6.00704e-05\tvalid_1's l2: 0.000140305"
     ]
    },
    {
     "name": "stdout",
     "output_type": "stream",
     "text": [
      "\nfold n°2\nTraining until validation scores don't improve for 100 rounds.\nEarly stopping, best iteration is:\n[237]\ttraining's l2: 5.20928e-05\tvalid_1's l2: 0.000136678"
     ]
    },
    {
     "name": "stdout",
     "output_type": "stream",
     "text": [
      "\nfold n°3\nTraining until validation scores don't improve for 100 rounds.\n"
     ]
    },
    {
     "name": "stdout",
     "output_type": "stream",
     "text": [
      "Early stopping, best iteration is:\n[336]\ttraining's l2: 4.96578e-05\tvalid_1's l2: 0.000111434\nfold n°4\nTraining until validation scores don't improve for 100 rounds.\n"
     ]
    },
    {
     "name": "stdout",
     "output_type": "stream",
     "text": [
      "Early stopping, best iteration is:\n[219]\ttraining's l2: 5.96803e-05\tvalid_1's l2: 0.000106469\nfold n°5\nTraining until validation scores don't improve for 100 rounds.\n"
     ]
    },
    {
     "name": "stdout",
     "output_type": "stream",
     "text": [
      "Early stopping, best iteration is:\n[328]\ttraining's l2: 4.65031e-05\tvalid_1's l2: 0.000142151\n----------\n当前移除特征: B1, CV score: 0.00006371, 最佳cv score: 0.00006368, 没效果,保留！！\nfold n°1\nTraining until validation scores don't improve for 100 rounds.\nEarly stopping, best iteration is:\n[210]\ttraining's l2: 5.55782e-05\tvalid_1's l2: 0.000143216"
     ]
    },
    {
     "name": "stdout",
     "output_type": "stream",
     "text": [
      "\nfold n°2\nTraining until validation scores don't improve for 100 rounds.\n"
     ]
    },
    {
     "name": "stdout",
     "output_type": "stream",
     "text": [
      "Early stopping, best iteration is:\n[241]\ttraining's l2: 5.1076e-05\tvalid_1's l2: 0.000132656\nfold n°3\nTraining until validation scores don't improve for 100 rounds.\n"
     ]
    },
    {
     "name": "stdout",
     "output_type": "stream",
     "text": [
      "Early stopping, best iteration is:\n[399]\ttraining's l2: 4.46236e-05\tvalid_1's l2: 0.000113543\nfold n°4\nTraining until validation scores don't improve for 100 rounds.\nEarly stopping, best iteration is:\n[218]\ttraining's l2: 5.91374e-05\tvalid_1's l2: 0.000109481"
     ]
    },
    {
     "name": "stdout",
     "output_type": "stream",
     "text": [
      "\nfold n°5\nTraining until validation scores don't improve for 100 rounds.\n"
     ]
    },
    {
     "name": "stdout",
     "output_type": "stream",
     "text": [
      "Early stopping, best iteration is:\n[240]\ttraining's l2: 5.37108e-05\tvalid_1's l2: 0.000141597\n----------\n当前移除特征: B4, CV score: 0.00006405, 最佳cv score: 0.00006368, 没效果,保留！！\nfold n°1\nTraining until validation scores don't improve for 100 rounds.\n"
     ]
    },
    {
     "name": "stdout",
     "output_type": "stream",
     "text": [
      "Early stopping, best iteration is:\n[339]\ttraining's l2: 4.44069e-05\tvalid_1's l2: 0.00013713\nfold n°2\nTraining until validation scores don't improve for 100 rounds.\n"
     ]
    },
    {
     "name": "stdout",
     "output_type": "stream",
     "text": [
      "Early stopping, best iteration is:\n[214]\ttraining's l2: 5.61096e-05\tvalid_1's l2: 0.000134702\nfold n°3\nTraining until validation scores don't improve for 100 rounds.\nEarly stopping, best iteration is:\n[220]\ttraining's l2: 6.21869e-05\tvalid_1's l2: 0.00011693"
     ]
    },
    {
     "name": "stdout",
     "output_type": "stream",
     "text": [
      "\nfold n°4\nTraining until validation scores don't improve for 100 rounds.\n"
     ]
    },
    {
     "name": "stdout",
     "output_type": "stream",
     "text": [
      "Early stopping, best iteration is:\n[220]\ttraining's l2: 6.00494e-05\tvalid_1's l2: 0.000109697\nfold n°5\nTraining until validation scores don't improve for 100 rounds.\n"
     ]
    },
    {
     "name": "stdout",
     "output_type": "stream",
     "text": [
      "Early stopping, best iteration is:\n[223]\ttraining's l2: 5.63673e-05\tvalid_1's l2: 0.000141953\n----------\n当前移除特征: B5, CV score: 0.00006404, 最佳cv score: 0.00006368, 没效果,保留！！\nfold n°1\nTraining until validation scores don't improve for 100 rounds.\nEarly stopping, best iteration is:\n[152]\ttraining's l2: 6.54723e-05\tvalid_1's l2: 0.000138665\nfold n°2\nTraining until validation scores don't improve for 100 rounds."
     ]
    },
    {
     "name": "stdout",
     "output_type": "stream",
     "text": [
      "\nEarly stopping, best iteration is:\n[192]\ttraining's l2: 5.78198e-05\tvalid_1's l2: 0.000130928\nfold n°3\n"
     ]
    },
    {
     "name": "stdout",
     "output_type": "stream",
     "text": [
      "Training until validation scores don't improve for 100 rounds.\n"
     ]
    },
    {
     "name": "stdout",
     "output_type": "stream",
     "text": [
      "Early stopping, best iteration is:\n[339]\ttraining's l2: 4.88787e-05\tvalid_1's l2: 0.000112275\nfold n°4\nTraining until validation scores don't improve for 100 rounds.\nEarly stopping, best iteration is:\n[161]\ttraining's l2: 6.88093e-05\tvalid_1's l2: 0.000106949\n"
     ]
    },
    {
     "name": "stdout",
     "output_type": "stream",
     "text": [
      "fold n°5\nTraining until validation scores don't improve for 100 rounds.\n"
     ]
    },
    {
     "name": "stdout",
     "output_type": "stream",
     "text": [
      "Early stopping, best iteration is:\n[263]\ttraining's l2: 5.10957e-05\tvalid_1's l2: 0.000143512\n----------\n当前移除特征: B6, CV score: 0.00006324, 最佳cv score: 0.00006368, 有效果,删除！！\nfold n°1\nTraining until validation scores don't improve for 100 rounds.\n"
     ]
    },
    {
     "name": "stdout",
     "output_type": "stream",
     "text": [
      "Early stopping, best iteration is:\n[207]\ttraining's l2: 5.74589e-05\tvalid_1's l2: 0.000133917\nfold n°2\nTraining until validation scores don't improve for 100 rounds.\n"
     ]
    },
    {
     "name": "stdout",
     "output_type": "stream",
     "text": [
      "Early stopping, best iteration is:\n[286]\ttraining's l2: 4.748e-05\tvalid_1's l2: 0.000133492\nfold n°3\nTraining until validation scores don't improve for 100 rounds.\n"
     ]
    },
    {
     "name": "stdout",
     "output_type": "stream",
     "text": [
      "Early stopping, best iteration is:\n[336]\ttraining's l2: 5.00218e-05\tvalid_1's l2: 0.000108592\nfold n°4\nTraining until validation scores don't improve for 100 rounds.\n"
     ]
    },
    {
     "name": "stdout",
     "output_type": "stream",
     "text": [
      "Early stopping, best iteration is:\n[265]\ttraining's l2: 5.40846e-05\tvalid_1's l2: 0.000105658\nfold n°5\nTraining until validation scores don't improve for 100 rounds.\n"
     ]
    },
    {
     "name": "stdout",
     "output_type": "stream",
     "text": [
      "Early stopping, best iteration is:\n[201]\ttraining's l2: 5.97651e-05\tvalid_1's l2: 0.000136857\n----------\n当前移除特征: B7, CV score: 0.00006186, 最佳cv score: 0.00006324, 有效果,删除！！\nfold n°1\nTraining until validation scores don't improve for 100 rounds.\n"
     ]
    },
    {
     "name": "stdout",
     "output_type": "stream",
     "text": [
      "Early stopping, best iteration is:\n[156]\ttraining's l2: 6.61413e-05\tvalid_1's l2: 0.000134184\nfold n°2\nTraining until validation scores don't improve for 100 rounds.\nEarly stopping, best iteration is:\n[215]\ttraining's l2: 5.57328e-05\tvalid_1's l2: 0.000134582\nfold n°3\n"
     ]
    },
    {
     "name": "stdout",
     "output_type": "stream",
     "text": [
      "Training until validation scores don't improve for 100 rounds.\n"
     ]
    },
    {
     "name": "stdout",
     "output_type": "stream",
     "text": [
      "Early stopping, best iteration is:\n[406]\ttraining's l2: 4.58256e-05\tvalid_1's l2: 0.000111191\nfold n°4\nTraining until validation scores don't improve for 100 rounds.\nEarly stopping, best iteration is:\n[222]\ttraining's l2: 5.91523e-05\tvalid_1's l2: 0.000107009\n"
     ]
    },
    {
     "name": "stdout",
     "output_type": "stream",
     "text": [
      "fold n°5\nTraining until validation scores don't improve for 100 rounds.\nEarly stopping, best iteration is:\n[238]\ttraining's l2: 5.48392e-05\tvalid_1's l2: 0.000137597"
     ]
    },
    {
     "name": "stdout",
     "output_type": "stream",
     "text": [
      "\n----------\n当前移除特征: B8, CV score: 0.00006246, 最佳cv score: 0.00006186, 没效果,保留！！\nfold n°1\nTraining until validation scores don't improve for 100 rounds.\n"
     ]
    },
    {
     "name": "stdout",
     "output_type": "stream",
     "text": [
      "Early stopping, best iteration is:\n[177]\ttraining's l2: 6.22995e-05\tvalid_1's l2: 0.000131336\nfold n°2\nTraining until validation scores don't improve for 100 rounds.\n"
     ]
    },
    {
     "name": "stdout",
     "output_type": "stream",
     "text": [
      "Early stopping, best iteration is:\n[295]\ttraining's l2: 4.73311e-05\tvalid_1's l2: 0.000133659\nfold n°3\nTraining until validation scores don't improve for 100 rounds.\n"
     ]
    },
    {
     "name": "stdout",
     "output_type": "stream",
     "text": [
      "Early stopping, best iteration is:\n[288]\ttraining's l2: 5.44055e-05\tvalid_1's l2: 0.000110095\nfold n°4\nTraining until validation scores don't improve for 100 rounds.\n"
     ]
    },
    {
     "name": "stdout",
     "output_type": "stream",
     "text": [
      "Early stopping, best iteration is:\n[182]\ttraining's l2: 6.52421e-05\tvalid_1's l2: 0.000106227\nfold n°5\nTraining until validation scores don't improve for 100 rounds.\n"
     ]
    },
    {
     "name": "stdout",
     "output_type": "stream",
     "text": [
      "Early stopping, best iteration is:\n[237]\ttraining's l2: 5.56099e-05\tvalid_1's l2: 0.000136863\n----------\n当前移除特征: B9, CV score: 0.00006182, 最佳cv score: 0.00006186, 有效果,删除！！\nfold n°1\nTraining until validation scores don't improve for 100 rounds.\nEarly stopping, best iteration is:\n[140]\ttraining's l2: 6.96206e-05\tvalid_1's l2: 0.000131714\nfold n°2\nTraining until validation scores don't improve for 100 rounds."
     ]
    },
    {
     "name": "stdout",
     "output_type": "stream",
     "text": [
      "\n"
     ]
    },
    {
     "name": "stdout",
     "output_type": "stream",
     "text": [
      "Early stopping, best iteration is:\n[282]\ttraining's l2: 4.8871e-05\tvalid_1's l2: 0.000135137\nfold n°3\nTraining until validation scores don't improve for 100 rounds.\n"
     ]
    },
    {
     "name": "stdout",
     "output_type": "stream",
     "text": [
      "Early stopping, best iteration is:\n[467]\ttraining's l2: 4.33332e-05\tvalid_1's l2: 0.000111164\nfold n°4\nTraining until validation scores don't improve for 100 rounds.\n"
     ]
    },
    {
     "name": "stdout",
     "output_type": "stream",
     "text": [
      "Early stopping, best iteration is:\n[211]\ttraining's l2: 5.97153e-05\tvalid_1's l2: 0.000102457\nfold n°5\nTraining until validation scores don't improve for 100 rounds.\n"
     ]
    },
    {
     "name": "stdout",
     "output_type": "stream",
     "text": [
      "Early stopping, best iteration is:\n[262]\ttraining's l2: 5.22607e-05\tvalid_1's l2: 0.000136151\n----------\n当前移除特征: B10, CV score: 0.00006167, 最佳cv score: 0.00006182, 有效果,删除！！\nfold n°1\nTraining until validation scores don't improve for 100 rounds.\nEarly stopping, best iteration is:\n[159]\ttraining's l2: 6.57927e-05\tvalid_1's l2: 0.000135777\nfold n°2\nTraining until validation scores don't improve for 100 rounds.\n"
     ]
    },
    {
     "name": "stdout",
     "output_type": "stream",
     "text": [
      "Early stopping, best iteration is:\n[286]\ttraining's l2: 4.85111e-05\tvalid_1's l2: 0.00013397\nfold n°3\nTraining until validation scores don't improve for 100 rounds.\n"
     ]
    },
    {
     "name": "stdout",
     "output_type": "stream",
     "text": [
      "Early stopping, best iteration is:\n[495]\ttraining's l2: 4.25291e-05\tvalid_1's l2: 0.000114494\nfold n°4\nTraining until validation scores don't improve for 100 rounds.\nEarly stopping, best iteration is:\n[193]\ttraining's l2: 6.34752e-05\tvalid_1's l2: 0.000105277\nfold n°5\nTraining until validation scores don't improve for 100 rounds."
     ]
    },
    {
     "name": "stdout",
     "output_type": "stream",
     "text": [
      "\nEarly stopping, best iteration is:\n[267]\ttraining's l2: 5.33263e-05\tvalid_1's l2: 0.000137624"
     ]
    },
    {
     "name": "stdout",
     "output_type": "stream",
     "text": [
      "\n----------\n当前移除特征: B11, CV score: 0.00006272, 最佳cv score: 0.00006167, 没效果,保留！！\nfold n°1\nTraining until validation scores don't improve for 100 rounds.\nEarly stopping, best iteration is:\n[149]\ttraining's l2: 6.78339e-05\tvalid_1's l2: 0.000128241\nfold n°2\nTraining until validation scores don't improve for 100 rounds.\n"
     ]
    },
    {
     "name": "stdout",
     "output_type": "stream",
     "text": [
      "Early stopping, best iteration is:\n[284]\ttraining's l2: 4.89885e-05\tvalid_1's l2: 0.000134046\nfold n°3\nTraining until validation scores don't improve for 100 rounds.\n"
     ]
    },
    {
     "name": "stdout",
     "output_type": "stream",
     "text": [
      "Early stopping, best iteration is:\n[413]\ttraining's l2: 4.58967e-05\tvalid_1's l2: 0.000110333\nfold n°4\nTraining until validation scores don't improve for 100 rounds.\n"
     ]
    },
    {
     "name": "stdout",
     "output_type": "stream",
     "text": [
      "Early stopping, best iteration is:\n[183]\ttraining's l2: 6.54117e-05\tvalid_1's l2: 0.00010162\nfold n°5\nTraining until validation scores don't improve for 100 rounds.\n"
     ]
    },
    {
     "name": "stdout",
     "output_type": "stream",
     "text": [
      "Early stopping, best iteration is:\n[269]\ttraining's l2: 5.22447e-05\tvalid_1's l2: 0.00013685\n----------\n当前移除特征: B12, CV score: 0.00006111, 最佳cv score: 0.00006167, 有效果,删除！！\nfold n°1\nTraining until validation scores don't improve for 100 rounds.\n"
     ]
    },
    {
     "name": "stdout",
     "output_type": "stream",
     "text": [
      "Early stopping, best iteration is:\n[136]\ttraining's l2: 7.04381e-05\tvalid_1's l2: 0.000129836\nfold n°2\nTraining until validation scores don't improve for 100 rounds.\n"
     ]
    },
    {
     "name": "stdout",
     "output_type": "stream",
     "text": [
      "Early stopping, best iteration is:\n[298]\ttraining's l2: 4.76033e-05\tvalid_1's l2: 0.000133545\nfold n°3\nTraining until validation scores don't improve for 100 rounds.\n"
     ]
    },
    {
     "name": "stdout",
     "output_type": "stream",
     "text": [
      "Early stopping, best iteration is:\n[444]\ttraining's l2: 4.44689e-05\tvalid_1's l2: 0.000107184\nfold n°4\nTraining until validation scores don't improve for 100 rounds.\n"
     ]
    },
    {
     "name": "stdout",
     "output_type": "stream",
     "text": [
      "Early stopping, best iteration is:\n[251]\ttraining's l2: 5.54433e-05\tvalid_1's l2: 0.000105316\nfold n°5\nTraining until validation scores don't improve for 100 rounds.\n"
     ]
    },
    {
     "name": "stdout",
     "output_type": "stream",
     "text": [
      "Early stopping, best iteration is:\n[240]\ttraining's l2: 5.45914e-05\tvalid_1's l2: 0.000138272\n----------\n当前移除特征: B14, CV score: 0.00006142, 最佳cv score: 0.00006111, 没效果,保留！！\nfold n°1\nTraining until validation scores don't improve for 100 rounds.\nEarly stopping, best iteration is:\n[149]\ttraining's l2: 6.71568e-05\tvalid_1's l2: 0.000131888\nfold n°2\nTraining until validation scores don't improve for 100 rounds.\n"
     ]
    },
    {
     "name": "stdout",
     "output_type": "stream",
     "text": [
      "Early stopping, best iteration is:\n[215]\ttraining's l2: 5.69679e-05\tvalid_1's l2: 0.000138164\nfold n°3\nTraining until validation scores don't improve for 100 rounds.\n"
     ]
    },
    {
     "name": "stdout",
     "output_type": "stream",
     "text": [
      "Early stopping, best iteration is:\n[413]\ttraining's l2: 4.6574e-05\tvalid_1's l2: 0.000112753\nfold n°4\nTraining until validation scores don't improve for 100 rounds.\nEarly stopping, best iteration is:\n[161]\ttraining's l2: 7.00845e-05\tvalid_1's l2: 0.00010576\nfold n°5\nTraining until validation scores don't improve for 100 rounds.\n"
     ]
    },
    {
     "name": "stdout",
     "output_type": "stream",
     "text": [
      "Early stopping, best iteration is:\n[320]\ttraining's l2: 4.9012e-05\tvalid_1's l2: 0.000139228\n----------\n当前移除特征: b14/a1_a3_a4_a19_b1_b12, CV score: 0.00006278, 最佳cv score: 0.00006111, 没效果,保留！！\nfold n°1\nTraining until validation scores don't improve for 100 rounds.\nEarly stopping, best iteration is:\n[156]\ttraining's l2: 6.59154e-05\tvalid_1's l2: 0.000129488\nfold n°2\nTraining until validation scores don't improve for 100 rounds.\n"
     ]
    },
    {
     "name": "stdout",
     "output_type": "stream",
     "text": [
      "Early stopping, best iteration is:\n[253]\ttraining's l2: 5.13478e-05\tvalid_1's l2: 0.000134302\nfold n°3\nTraining until validation scores don't improve for 100 rounds.\n"
     ]
    },
    {
     "name": "stdout",
     "output_type": "stream",
     "text": [
      "Early stopping, best iteration is:\n[406]\ttraining's l2: 4.63692e-05\tvalid_1's l2: 0.000109944\nfold n°4\nTraining until validation scores don't improve for 100 rounds.\n"
     ]
    },
    {
     "name": "stdout",
     "output_type": "stream",
     "text": [
      "Early stopping, best iteration is:\n[215]\ttraining's l2: 6.00172e-05\tvalid_1's l2: 0.000101624\nfold n°5\nTraining until validation scores don't improve for 100 rounds.\n"
     ]
    },
    {
     "name": "stdout",
     "output_type": "stream",
     "text": [
      "Early stopping, best iteration is:\n[273]\ttraining's l2: 5.15558e-05\tvalid_1's l2: 0.000134848\n----------\n当前移除特征: B14_to_A5_intTarget_0.0_mean, CV score: 0.00006102, 最佳cv score: 0.00006111, 有效果,删除！！\nfold n°1\nTraining until validation scores don't improve for 100 rounds.\nEarly stopping, best iteration is:\n[143]\ttraining's l2: 6.86109e-05\tvalid_1's l2: 0.000128245\nfold n°2"
     ]
    },
    {
     "name": "stdout",
     "output_type": "stream",
     "text": [
      "\nTraining until validation scores don't improve for 100 rounds.\nEarly stopping, best iteration is:\n[253]\ttraining's l2: 5.14619e-05\tvalid_1's l2: 0.000134266"
     ]
    },
    {
     "name": "stdout",
     "output_type": "stream",
     "text": [
      "\nfold n°3\nTraining until validation scores don't improve for 100 rounds.\n"
     ]
    },
    {
     "name": "stdout",
     "output_type": "stream",
     "text": [
      "Early stopping, best iteration is:\n[443]\ttraining's l2: 4.45086e-05\tvalid_1's l2: 0.00011073\nfold n°4\nTraining until validation scores don't improve for 100 rounds.\n"
     ]
    },
    {
     "name": "stdout",
     "output_type": "stream",
     "text": [
      "Early stopping, best iteration is:\n[208]\ttraining's l2: 6.09219e-05\tvalid_1's l2: 0.000101374\nfold n°5\nTraining until validation scores don't improve for 100 rounds.\nEarly stopping, best iteration is:\n[256]\ttraining's l2: 5.37261e-05\tvalid_1's l2: 0.00013499"
     ]
    },
    {
     "name": "stdout",
     "output_type": "stream",
     "text": [
      "\n----------\n当前移除特征: B14_to_A5_intTarget_1.0_mean, CV score: 0.00006096, 最佳cv score: 0.00006102, 有效果,删除！！\nfold n°1\nTraining until validation scores don't improve for 100 rounds.\nEarly stopping, best iteration is:\n[156]\ttraining's l2: 6.56359e-05\tvalid_1's l2: 0.000129453\nfold n°2\nTraining until validation scores don't improve for 100 rounds.\n"
     ]
    },
    {
     "name": "stdout",
     "output_type": "stream",
     "text": [
      "Early stopping, best iteration is:\n[287]\ttraining's l2: 4.78989e-05\tvalid_1's l2: 0.000132184\nfold n°3\nTraining until validation scores don't improve for 100 rounds.\n"
     ]
    },
    {
     "name": "stdout",
     "output_type": "stream",
     "text": [
      "Early stopping, best iteration is:\n[472]\ttraining's l2: 4.30302e-05\tvalid_1's l2: 0.000109667\nfold n°4\nTraining until validation scores don't improve for 100 rounds.\nEarly stopping, best iteration is:\n[210]\ttraining's l2: 6.05181e-05\tvalid_1's l2: 0.000102732"
     ]
    },
    {
     "name": "stdout",
     "output_type": "stream",
     "text": [
      "\nfold n°5\nTraining until validation scores don't improve for 100 rounds.\nEarly stopping, best iteration is:\n[261]\ttraining's l2: 5.24585e-05\tvalid_1's l2: 0.000133554"
     ]
    },
    {
     "name": "stdout",
     "output_type": "stream",
     "text": [
      "\n----------\n当前移除特征: B14_to_A5_intTarget_2.0_mean, CV score: 0.00006076, 最佳cv score: 0.00006096, 有效果,删除！！\nfold n°1\nTraining until validation scores don't improve for 100 rounds.\n"
     ]
    },
    {
     "name": "stdout",
     "output_type": "stream",
     "text": [
      "Early stopping, best iteration is:\n[142]\ttraining's l2: 6.87744e-05\tvalid_1's l2: 0.000131024\nfold n°2\nTraining until validation scores don't improve for 100 rounds.\nEarly stopping, best iteration is:\n[254]\ttraining's l2: 5.11205e-05\tvalid_1's l2: 0.000134802\n"
     ]
    },
    {
     "name": "stdout",
     "output_type": "stream",
     "text": [
      "fold n°3\nTraining until validation scores don't improve for 100 rounds.\n"
     ]
    },
    {
     "name": "stdout",
     "output_type": "stream",
     "text": [
      "Early stopping, best iteration is:\n[406]\ttraining's l2: 4.65686e-05\tvalid_1's l2: 0.000107846\nfold n°4\nTraining until validation scores don't improve for 100 rounds.\nEarly stopping, best iteration is:\n[207]\ttraining's l2: 6.05343e-05\tvalid_1's l2: 0.000102016\nfold n°5"
     ]
    },
    {
     "name": "stdout",
     "output_type": "stream",
     "text": [
      "\nTraining until validation scores don't improve for 100 rounds.\n"
     ]
    },
    {
     "name": "stdout",
     "output_type": "stream",
     "text": [
      "Early stopping, best iteration is:\n[240]\ttraining's l2: 5.47038e-05\tvalid_1's l2: 0.000136881\n----------\n当前移除特征: B14_to_A5_intTarget_3.0_mean, CV score: 0.00006126, 最佳cv score: 0.00006076, 没效果,保留！！\nfold n°1\nTraining until validation scores don't improve for 100 rounds.\nEarly stopping, best iteration is:\n[143]\ttraining's l2: 6.82622e-05\tvalid_1's l2: 0.000128403\n"
     ]
    },
    {
     "name": "stdout",
     "output_type": "stream",
     "text": [
      "fold n°2\nTraining until validation scores don't improve for 100 rounds.\nEarly stopping, best iteration is:\n[239]\ttraining's l2: 5.2526e-05\tvalid_1's l2: 0.000133009\nfold n°3\n"
     ]
    },
    {
     "name": "stdout",
     "output_type": "stream",
     "text": [
      "Training until validation scores don't improve for 100 rounds.\n"
     ]
    },
    {
     "name": "stdout",
     "output_type": "stream",
     "text": [
      "Early stopping, best iteration is:\n[470]\ttraining's l2: 4.25406e-05\tvalid_1's l2: 0.000109177\nfold n°4\nTraining until validation scores don't improve for 100 rounds.\nEarly stopping, best iteration is:\n[231]\ttraining's l2: 5.74824e-05\tvalid_1's l2: 0.000102002\nfold n°5\n"
     ]
    },
    {
     "name": "stdout",
     "output_type": "stream",
     "text": [
      "Training until validation scores don't improve for 100 rounds.\n"
     ]
    },
    {
     "name": "stdout",
     "output_type": "stream",
     "text": [
      "Early stopping, best iteration is:\n[281]\ttraining's l2: 5.1258e-05\tvalid_1's l2: 0.000135354\n----------\n当前移除特征: B14_to_A5_intTarget_4.0_mean, CV score: 0.00006080, 最佳cv score: 0.00006076, 没效果,保留！！\nfold n°1\nTraining until validation scores don't improve for 100 rounds.\nEarly stopping, best iteration is:\n[158]\ttraining's l2: 6.57524e-05\tvalid_1's l2: 0.000129535\nfold n°2\nTraining until validation scores don't improve for 100 rounds.\n"
     ]
    },
    {
     "name": "stdout",
     "output_type": "stream",
     "text": [
      "Early stopping, best iteration is:\n[273]\ttraining's l2: 4.97432e-05\tvalid_1's l2: 0.000132535\nfold n°3\nTraining until validation scores don't improve for 100 rounds.\n"
     ]
    },
    {
     "name": "stdout",
     "output_type": "stream",
     "text": [
      "Early stopping, best iteration is:\n[444]\ttraining's l2: 4.43252e-05\tvalid_1's l2: 0.000108415\nfold n°4\nTraining until validation scores don't improve for 100 rounds.\nEarly stopping, best iteration is:\n[185]\ttraining's l2: 6.45065e-05\tvalid_1's l2: 0.000102142"
     ]
    },
    {
     "name": "stdout",
     "output_type": "stream",
     "text": [
      "\nfold n°5\nTraining until validation scores don't improve for 100 rounds.\n"
     ]
    },
    {
     "name": "stdout",
     "output_type": "stream",
     "text": [
      "Early stopping, best iteration is:\n[197]\ttraining's l2: 6.05983e-05\tvalid_1's l2: 0.00013323\n----------\n当前移除特征: B14_to_A6_intTarget_0.0_mean, CV score: 0.00006059, 最佳cv score: 0.00006076, 有效果,删除！！\nfold n°1\nTraining until validation scores don't improve for 100 rounds.\nEarly stopping, best iteration is:\n[137]\ttraining's l2: 7.03438e-05\tvalid_1's l2: 0.000130617\nfold n°2\nTraining until validation scores don't improve for 100 rounds.\n"
     ]
    },
    {
     "name": "stdout",
     "output_type": "stream",
     "text": [
      "Early stopping, best iteration is:\n[241]\ttraining's l2: 5.24366e-05\tvalid_1's l2: 0.000136576\nfold n°3\nTraining until validation scores don't improve for 100 rounds.\n"
     ]
    },
    {
     "name": "stdout",
     "output_type": "stream",
     "text": [
      "Early stopping, best iteration is:\n[439]\ttraining's l2: 4.47686e-05\tvalid_1's l2: 0.000108084\nfold n°4\nTraining until validation scores don't improve for 100 rounds.\nEarly stopping, best iteration is:\n[173]\ttraining's l2: 6.64199e-05\tvalid_1's l2: 0.000104131\nfold n°5\nTraining until validation scores don't improve for 100 rounds.\n"
     ]
    },
    {
     "name": "stdout",
     "output_type": "stream",
     "text": [
      "Early stopping, best iteration is:\n[240]\ttraining's l2: 5.52235e-05\tvalid_1's l2: 0.000133872\n----------\n当前移除特征: B14_to_A6_intTarget_1.0_mean, CV score: 0.00006133, 最佳cv score: 0.00006059, 没效果,保留！！\nfold n°1\nTraining until validation scores don't improve for 100 rounds.\nEarly stopping, best iteration is:\n[185]\ttraining's l2: 6.08774e-05\tvalid_1's l2: 0.000131564"
     ]
    },
    {
     "name": "stdout",
     "output_type": "stream",
     "text": [
      "\nfold n°2\nTraining until validation scores don't improve for 100 rounds.\nEarly stopping, best iteration is:\n[240]\ttraining's l2: 5.25611e-05\tvalid_1's l2: 0.00013572\nfold n°3"
     ]
    },
    {
     "name": "stdout",
     "output_type": "stream",
     "text": [
      "\nTraining until validation scores don't improve for 100 rounds.\n"
     ]
    },
    {
     "name": "stdout",
     "output_type": "stream",
     "text": [
      "Early stopping, best iteration is:\n[443]\ttraining's l2: 4.44749e-05\tvalid_1's l2: 0.000107298\nfold n°4\nTraining until validation scores don't improve for 100 rounds.\nEarly stopping, best iteration is:\n[211]\ttraining's l2: 5.9564e-05\tvalid_1's l2: 0.000101862\n"
     ]
    },
    {
     "name": "stdout",
     "output_type": "stream",
     "text": [
      "fold n°5\nTraining until validation scores don't improve for 100 rounds.\nEarly stopping, best iteration is:\n[184]\ttraining's l2: 6.2031e-05\tvalid_1's l2: 0.000137742\n----------\n当前移除特征: B14_to_A6_intTarget_2.0_mean, CV score: 0.00006142, 最佳cv score: 0.00006059, 没效果,保留！！\nfold n°1\nTraining until validation scores don't improve for 100 rounds.\n"
     ]
    },
    {
     "name": "stdout",
     "output_type": "stream",
     "text": [
      "Early stopping, best iteration is:\n[145]\ttraining's l2: 6.89417e-05\tvalid_1's l2: 0.000131004\nfold n°2\nTraining until validation scores don't improve for 100 rounds.\n"
     ]
    },
    {
     "name": "stdout",
     "output_type": "stream",
     "text": [
      "Early stopping, best iteration is:\n[316]\ttraining's l2: 4.6088e-05\tvalid_1's l2: 0.000135656\nfold n°3\nTraining until validation scores don't improve for 100 rounds.\n"
     ]
    },
    {
     "name": "stdout",
     "output_type": "stream",
     "text": [
      "Early stopping, best iteration is:\n[444]\ttraining's l2: 4.44551e-05\tvalid_1's l2: 0.000108042\nfold n°4\nTraining until validation scores don't improve for 100 rounds.\nEarly stopping, best iteration is:\n[208]\ttraining's l2: 6.13965e-05\tvalid_1's l2: 0.000101564\n"
     ]
    },
    {
     "name": "stdout",
     "output_type": "stream",
     "text": [
      "fold n°5\nTraining until validation scores don't improve for 100 rounds.\nEarly stopping, best iteration is:\n[238]\ttraining's l2: 5.52437e-05\tvalid_1's l2: 0.000137142\n----------"
     ]
    },
    {
     "name": "stdout",
     "output_type": "stream",
     "text": [
      "\n当前移除特征: B14_to_A6_intTarget_3.0_mean, CV score: 0.00006134, 最佳cv score: 0.00006059, 没效果,保留！！\nfold n°1\nTraining until validation scores don't improve for 100 rounds.\nEarly stopping, best iteration is:\n[137]\ttraining's l2: 6.99913e-05\tvalid_1's l2: 0.000130156\nfold n°2\nTraining until validation scores don't improve for 100 rounds.\n"
     ]
    },
    {
     "name": "stdout",
     "output_type": "stream",
     "text": [
      "Early stopping, best iteration is:\n[284]\ttraining's l2: 4.80677e-05\tvalid_1's l2: 0.000135137\nfold n°3\nTraining until validation scores don't improve for 100 rounds.\n"
     ]
    },
    {
     "name": "stdout",
     "output_type": "stream",
     "text": [
      "Early stopping, best iteration is:\n[468]\ttraining's l2: 4.33211e-05\tvalid_1's l2: 0.000109585\nfold n°4\nTraining until validation scores don't improve for 100 rounds.\n"
     ]
    },
    {
     "name": "stdout",
     "output_type": "stream",
     "text": [
      "Early stopping, best iteration is:\n[224]\ttraining's l2: 5.87572e-05\tvalid_1's l2: 0.000102209\nfold n°5\nTraining until validation scores don't improve for 100 rounds.\n"
     ]
    },
    {
     "name": "stdout",
     "output_type": "stream",
     "text": [
      "Early stopping, best iteration is:\n[248]\ttraining's l2: 5.40932e-05\tvalid_1's l2: 0.000137045\n----------\n当前移除特征: B14_to_A6_intTarget_4.0_mean, CV score: 0.00006142, 最佳cv score: 0.00006059, 没效果,保留！！\nfold n°1\nTraining until validation scores don't improve for 100 rounds.\nEarly stopping, best iteration is:\n[157]\ttraining's l2: 6.54469e-05\tvalid_1's l2: 0.000128054\nfold n°2\nTraining until validation scores don't improve for 100 rounds.\n"
     ]
    },
    {
     "name": "stdout",
     "output_type": "stream",
     "text": [
      "Early stopping, best iteration is:\n[286]\ttraining's l2: 4.83241e-05\tvalid_1's l2: 0.000134111\nfold n°3\nTraining until validation scores don't improve for 100 rounds.\n"
     ]
    },
    {
     "name": "stdout",
     "output_type": "stream",
     "text": [
      "Early stopping, best iteration is:\n[472]\ttraining's l2: 4.32869e-05\tvalid_1's l2: 0.000109158\nfold n°4\nTraining until validation scores don't improve for 100 rounds.\n"
     ]
    },
    {
     "name": "stdout",
     "output_type": "stream",
     "text": [
      "Early stopping, best iteration is:\n[211]\ttraining's l2: 6.05217e-05\tvalid_1's l2: 0.000101555\nfold n°5\nTraining until validation scores don't improve for 100 rounds.\nEarly stopping, best iteration is:\n[176]\ttraining's l2: 6.31554e-05\tvalid_1's l2: 0.000136469\n----------\n当前移除特征: B14_to_A7_intTarget_0.0_mean, CV score: 0.00006094, 最佳cv score: 0.00006059, 没效果,保留！！\nfold n°1\nTraining until validation scores don't improve for 100 rounds.\n"
     ]
    },
    {
     "name": "stdout",
     "output_type": "stream",
     "text": [
      "Early stopping, best iteration is:\n[141]\ttraining's l2: 6.90786e-05\tvalid_1's l2: 0.000128105\nfold n°2\nTraining until validation scores don't improve for 100 rounds.\n"
     ]
    },
    {
     "name": "stdout",
     "output_type": "stream",
     "text": [
      "Early stopping, best iteration is:\n[291]\ttraining's l2: 4.7884e-05\tvalid_1's l2: 0.000132935\nfold n°3\nTraining until validation scores don't improve for 100 rounds.\n"
     ]
    },
    {
     "name": "stdout",
     "output_type": "stream",
     "text": [
      "Early stopping, best iteration is:\n[427]\ttraining's l2: 4.54852e-05\tvalid_1's l2: 0.000106377\nfold n°4\nTraining until validation scores don't improve for 100 rounds.\n"
     ]
    },
    {
     "name": "stdout",
     "output_type": "stream",
     "text": [
      "Early stopping, best iteration is:\n[250]\ttraining's l2: 5.585e-05\tvalid_1's l2: 0.000102092\nfold n°5\nTraining until validation scores don't improve for 100 rounds.\n"
     ]
    },
    {
     "name": "stdout",
     "output_type": "stream",
     "text": [
      "Early stopping, best iteration is:\n[262]\ttraining's l2: 5.28608e-05\tvalid_1's l2: 0.000135489\n----------\n当前移除特征: B14_to_A7_intTarget_1.0_mean, CV score: 0.00006050, 最佳cv score: 0.00006059, 有效果,删除！！\nfold n°1\nTraining until validation scores don't improve for 100 rounds.\nEarly stopping, best iteration is:\n[140]\ttraining's l2: 6.85576e-05\tvalid_1's l2: 0.000128717\nfold n°2\nTraining until validation scores don't improve for 100 rounds."
     ]
    },
    {
     "name": "stdout",
     "output_type": "stream",
     "text": [
      "\nEarly stopping, best iteration is:\n[221]\ttraining's l2: 5.52713e-05\tvalid_1's l2: 0.000133799\n"
     ]
    },
    {
     "name": "stdout",
     "output_type": "stream",
     "text": [
      "fold n°3\nTraining until validation scores don't improve for 100 rounds.\n"
     ]
    },
    {
     "name": "stdout",
     "output_type": "stream",
     "text": [
      "Early stopping, best iteration is:\n[452]\ttraining's l2: 4.39834e-05\tvalid_1's l2: 0.000106816\nfold n°4\nTraining until validation scores don't improve for 100 rounds.\nEarly stopping, best iteration is:\n[166]\ttraining's l2: 6.78757e-05\tvalid_1's l2: 0.000101807"
     ]
    },
    {
     "name": "stdout",
     "output_type": "stream",
     "text": [
      "\nfold n°5\nTraining until validation scores don't improve for 100 rounds.\nEarly stopping, best iteration is:\n[218]\ttraining's l2: 5.75895e-05\tvalid_1's l2: 0.000136423"
     ]
    },
    {
     "name": "stdout",
     "output_type": "stream",
     "text": [
      "\n----------\n当前移除特征: B14_to_A7_intTarget_2.0_mean, CV score: 0.00006076, 最佳cv score: 0.00006050, 没效果,保留！！\nfold n°1\nTraining until validation scores don't improve for 100 rounds.\nEarly stopping, best iteration is:\n[147]\ttraining's l2: 6.75504e-05\tvalid_1's l2: 0.000129192\nfold n°2\nTraining until validation scores don't improve for 100 rounds.\n"
     ]
    },
    {
     "name": "stdout",
     "output_type": "stream",
     "text": [
      "Early stopping, best iteration is:\n[241]\ttraining's l2: 5.19302e-05\tvalid_1's l2: 0.00013521\nfold n°3\nTraining until validation scores don't improve for 100 rounds.\n"
     ]
    },
    {
     "name": "stdout",
     "output_type": "stream",
     "text": [
      "Early stopping, best iteration is:\n[476]\ttraining's l2: 4.2677e-05\tvalid_1's l2: 0.000108771\nfold n°4\nTraining until validation scores don't improve for 100 rounds.\nEarly stopping, best iteration is:\n[158]\ttraining's l2: 6.8963e-05\tvalid_1's l2: 0.000101869\nfold n°5\nTraining until validation scores don't improve for 100 rounds.\n"
     ]
    },
    {
     "name": "stdout",
     "output_type": "stream",
     "text": [
      "Early stopping, best iteration is:\n[211]\ttraining's l2: 5.83824e-05\tvalid_1's l2: 0.000133431\n----------\n当前移除特征: B14_to_A7_intTarget_3.0_mean, CV score: 0.00006085, 最佳cv score: 0.00006050, 没效果,保留！！\nfold n°1\nTraining until validation scores don't improve for 100 rounds.\nEarly stopping, best iteration is:\n[156]\ttraining's l2: 6.6738e-05\tvalid_1's l2: 0.000131866\nfold n°2\nTraining until validation scores don't improve for 100 rounds.\n"
     ]
    },
    {
     "name": "stdout",
     "output_type": "stream",
     "text": [
      "Early stopping, best iteration is:\n[266]\ttraining's l2: 5.0166e-05\tvalid_1's l2: 0.000134296\nfold n°3\nTraining until validation scores don't improve for 100 rounds.\n"
     ]
    },
    {
     "name": "stdout",
     "output_type": "stream",
     "text": [
      "Early stopping, best iteration is:\n[339]\ttraining's l2: 5.06341e-05\tvalid_1's l2: 0.00010798\nfold n°4\nTraining until validation scores don't improve for 100 rounds.\nEarly stopping, best iteration is:\n[206]\ttraining's l2: 6.1048e-05\tvalid_1's l2: 0.000102861"
     ]
    },
    {
     "name": "stdout",
     "output_type": "stream",
     "text": [
      "\nfold n°5\nTraining until validation scores don't improve for 100 rounds.\nEarly stopping, best iteration is:\n[176]\ttraining's l2: 6.38295e-05\tvalid_1's l2: 0.000136218\n----------\n当前移除特征: B14_to_A7_intTarget_4.0_mean, CV score: 0.00006133, 最佳cv score: 0.00006050, 没效果,保留！！\nfold n°1\nTraining until validation scores don't improve for 100 rounds.\n"
     ]
    },
    {
     "name": "stdout",
     "output_type": "stream",
     "text": [
      "Early stopping, best iteration is:\n[177]\ttraining's l2: 6.2111e-05\tvalid_1's l2: 0.000129156\nfold n°2\nTraining until validation scores don't improve for 100 rounds.\n"
     ]
    },
    {
     "name": "stdout",
     "output_type": "stream",
     "text": [
      "Early stopping, best iteration is:\n[301]\ttraining's l2: 4.703e-05\tvalid_1's l2: 0.000135306\nfold n°3\nTraining until validation scores don't improve for 100 rounds.\n"
     ]
    },
    {
     "name": "stdout",
     "output_type": "stream",
     "text": [
      "Early stopping, best iteration is:\n[443]\ttraining's l2: 4.43544e-05\tvalid_1's l2: 0.000106413\nfold n°4\nTraining until validation scores don't improve for 100 rounds.\nEarly stopping, best iteration is:\n[150]\ttraining's l2: 7.13655e-05\tvalid_1's l2: 0.000104727"
     ]
    },
    {
     "name": "stdout",
     "output_type": "stream",
     "text": [
      "\nfold n°5\nTraining until validation scores don't improve for 100 rounds.\nEarly stopping, best iteration is:\n[213]\ttraining's l2: 5.82041e-05\tvalid_1's l2: 0.000134054\n----------"
     ]
    },
    {
     "name": "stdout",
     "output_type": "stream",
     "text": [
      "\n当前移除特征: B14_to_A9_intTarget_0.0_mean, CV score: 0.00006097, 最佳cv score: 0.00006050, 没效果,保留！！\nfold n°1\nTraining until validation scores don't improve for 100 rounds.\nEarly stopping, best iteration is:\n[239]\ttraining's l2: 5.38505e-05\tvalid_1's l2: 0.000128647\nfold n°2\nTraining until validation scores don't improve for 100 rounds."
     ]
    },
    {
     "name": "stdout",
     "output_type": "stream",
     "text": [
      "\nEarly stopping, best iteration is:\n[247]\ttraining's l2: 5.22554e-05\tvalid_1's l2: 0.000134151\nfold n°3"
     ]
    },
    {
     "name": "stdout",
     "output_type": "stream",
     "text": [
      "\nTraining until validation scores don't improve for 100 rounds.\n"
     ]
    },
    {
     "name": "stdout",
     "output_type": "stream",
     "text": [
      "Early stopping, best iteration is:\n[443]\ttraining's l2: 4.44036e-05\tvalid_1's l2: 0.000107188\nfold n°4\nTraining until validation scores don't improve for 100 rounds.\nEarly stopping, best iteration is:\n[214]\ttraining's l2: 6.04428e-05\tvalid_1's l2: 0.000102106\nfold n°5\nTraining until validation scores don't improve for 100 rounds."
     ]
    },
    {
     "name": "stdout",
     "output_type": "stream",
     "text": [
      "\nEarly stopping, best iteration is:\n[238]\ttraining's l2: 5.56565e-05\tvalid_1's l2: 0.000135567\n----------"
     ]
    },
    {
     "name": "stdout",
     "output_type": "stream",
     "text": [
      "\n当前移除特征: B14_to_A9_intTarget_1.0_mean, CV score: 0.00006077, 最佳cv score: 0.00006050, 没效果,保留！！\nfold n°1\nTraining until validation scores don't improve for 100 rounds.\nEarly stopping, best iteration is:\n[156]\ttraining's l2: 6.63663e-05\tvalid_1's l2: 0.00012954\nfold n°2\nTraining until validation scores don't improve for 100 rounds.\n"
     ]
    },
    {
     "name": "stdout",
     "output_type": "stream",
     "text": [
      "Early stopping, best iteration is:\n[284]\ttraining's l2: 4.85149e-05\tvalid_1's l2: 0.000134347\nfold n°3\nTraining until validation scores don't improve for 100 rounds.\n"
     ]
    },
    {
     "name": "stdout",
     "output_type": "stream",
     "text": [
      "Early stopping, best iteration is:\n[385]\ttraining's l2: 4.7572e-05\tvalid_1's l2: 0.000110334\nfold n°4\nTraining until validation scores don't improve for 100 rounds.\nEarly stopping, best iteration is:\n[206]\ttraining's l2: 6.13034e-05\tvalid_1's l2: 0.000100531"
     ]
    },
    {
     "name": "stdout",
     "output_type": "stream",
     "text": [
      "\nfold n°5\nTraining until validation scores don't improve for 100 rounds.\nEarly stopping, best iteration is:\n[201]\ttraining's l2: 5.93601e-05\tvalid_1's l2: 0.000134322\n----------"
     ]
    },
    {
     "name": "stdout",
     "output_type": "stream",
     "text": [
      "\n当前移除特征: B14_to_A9_intTarget_2.0_mean, CV score: 0.00006091, 最佳cv score: 0.00006050, 没效果,保留！！\nfold n°1\nTraining until validation scores don't improve for 100 rounds.\nEarly stopping, best iteration is:\n[183]\ttraining's l2: 6.03038e-05\tvalid_1's l2: 0.000129103\nfold n°2"
     ]
    },
    {
     "name": "stdout",
     "output_type": "stream",
     "text": [
      "\nTraining until validation scores don't improve for 100 rounds.\n"
     ]
    },
    {
     "name": "stdout",
     "output_type": "stream",
     "text": [
      "Early stopping, best iteration is:\n[280]\ttraining's l2: 4.85654e-05\tvalid_1's l2: 0.000135294\nfold n°3\nTraining until validation scores don't improve for 100 rounds.\n"
     ]
    },
    {
     "name": "stdout",
     "output_type": "stream",
     "text": [
      "Early stopping, best iteration is:\n[454]\ttraining's l2: 4.37851e-05\tvalid_1's l2: 0.000107639\nfold n°4\nTraining until validation scores don't improve for 100 rounds.\nEarly stopping, best iteration is:\n[181]\ttraining's l2: 6.43514e-05\tvalid_1's l2: 0.000102117\nfold n°5"
     ]
    },
    {
     "name": "stdout",
     "output_type": "stream",
     "text": [
      "\nTraining until validation scores don't improve for 100 rounds.\nEarly stopping, best iteration is:\n[205]\ttraining's l2: 5.8683e-05\tvalid_1's l2: 0.000135641\n----------\n当前移除特征: B14_to_A9_intTarget_3.0_mean, CV score: 0.00006098, 最佳cv score: 0.00006050, 没效果,保留！！\nfold n°1\nTraining until validation scores don't improve for 100 rounds.\n"
     ]
    },
    {
     "name": "stdout",
     "output_type": "stream",
     "text": [
      "Early stopping, best iteration is:\n[140]\ttraining's l2: 6.86375e-05\tvalid_1's l2: 0.000128898\nfold n°2\nTraining until validation scores don't improve for 100 rounds.\n"
     ]
    },
    {
     "name": "stdout",
     "output_type": "stream",
     "text": [
      "Early stopping, best iteration is:\n[300]\ttraining's l2: 4.73606e-05\tvalid_1's l2: 0.000136218\nfold n°3\nTraining until validation scores don't improve for 100 rounds.\n"
     ]
    },
    {
     "name": "stdout",
     "output_type": "stream",
     "text": [
      "Early stopping, best iteration is:\n[472]\ttraining's l2: 4.33777e-05\tvalid_1's l2: 0.000107569\nfold n°4\nTraining until validation scores don't improve for 100 rounds.\n"
     ]
    },
    {
     "name": "stdout",
     "output_type": "stream",
     "text": [
      "Early stopping, best iteration is:\n[231]\ttraining's l2: 5.75801e-05\tvalid_1's l2: 0.000100634\nfold n°5\nTraining until validation scores don't improve for 100 rounds.\nEarly stopping, best iteration is:\n[238]\ttraining's l2: 5.51914e-05\tvalid_1's l2: 0.000135657"
     ]
    },
    {
     "name": "stdout",
     "output_type": "stream",
     "text": [
      "\n----------\n当前移除特征: B14_to_A9_intTarget_4.0_mean, CV score: 0.00006090, 最佳cv score: 0.00006050, 没效果,保留！！\nfold n°1\nTraining until validation scores don't improve for 100 rounds.\nEarly stopping, best iteration is:\n[215]\ttraining's l2: 5.70587e-05\tvalid_1's l2: 0.000131667"
     ]
    },
    {
     "name": "stdout",
     "output_type": "stream",
     "text": [
      "\nfold n°2\nTraining until validation scores don't improve for 100 rounds.\n"
     ]
    },
    {
     "name": "stdout",
     "output_type": "stream",
     "text": [
      "Early stopping, best iteration is:\n[239]\ttraining's l2: 5.25553e-05\tvalid_1's l2: 0.000135043\nfold n°3\nTraining until validation scores don't improve for 100 rounds.\n"
     ]
    },
    {
     "name": "stdout",
     "output_type": "stream",
     "text": [
      "Early stopping, best iteration is:\n[472]\ttraining's l2: 4.33897e-05\tvalid_1's l2: 0.000107443\nfold n°4\nTraining until validation scores don't improve for 100 rounds.\nEarly stopping, best iteration is:\n[183]\ttraining's l2: 6.49316e-05\tvalid_1's l2: 0.000102839\nfold n°5"
     ]
    },
    {
     "name": "stdout",
     "output_type": "stream",
     "text": [
      "\nTraining until validation scores don't improve for 100 rounds.\n"
     ]
    },
    {
     "name": "stdout",
     "output_type": "stream",
     "text": [
      "Early stopping, best iteration is:\n[277]\ttraining's l2: 5.1753e-05\tvalid_1's l2: 0.000137223\n----------\n当前移除特征: B14_to_A11_intTarget_0.0_mean, CV score: 0.00006142, 最佳cv score: 0.00006050, 没效果,保留！！\nfold n°1\nTraining until validation scores don't improve for 100 rounds.\n"
     ]
    },
    {
     "name": "stdout",
     "output_type": "stream",
     "text": [
      "Early stopping, best iteration is:\n[193]\ttraining's l2: 5.96541e-05\tvalid_1's l2: 0.000129424\nfold n°2\nTraining until validation scores don't improve for 100 rounds.\nEarly stopping, best iteration is:\n[264]\ttraining's l2: 5.02366e-05\tvalid_1's l2: 0.000135045"
     ]
    },
    {
     "name": "stdout",
     "output_type": "stream",
     "text": [
      "\nfold n°3\nTraining until validation scores don't improve for 100 rounds.\n"
     ]
    },
    {
     "name": "stdout",
     "output_type": "stream",
     "text": [
      "Early stopping, best iteration is:\n[421]\ttraining's l2: 4.57042e-05\tvalid_1's l2: 0.000107074\nfold n°4\nTraining until validation scores don't improve for 100 rounds.\nEarly stopping, best iteration is:\n[206]\ttraining's l2: 6.12588e-05\tvalid_1's l2: 0.000101821\nfold n°5\n"
     ]
    },
    {
     "name": "stdout",
     "output_type": "stream",
     "text": [
      "Training until validation scores don't improve for 100 rounds.\nEarly stopping, best iteration is:\n[184]\ttraining's l2: 6.22368e-05\tvalid_1's l2: 0.000137807\n"
     ]
    },
    {
     "name": "stdout",
     "output_type": "stream",
     "text": [
      "----------\n当前移除特征: B14_to_A11_intTarget_1.0_mean, CV score: 0.00006112, 最佳cv score: 0.00006050, 没效果,保留！！\nfold n°1\nTraining until validation scores don't improve for 100 rounds.\nEarly stopping, best iteration is:\n[154]\ttraining's l2: 6.66454e-05\tvalid_1's l2: 0.000129513\nfold n°2\nTraining until validation scores don't improve for 100 rounds.\n"
     ]
    },
    {
     "name": "stdout",
     "output_type": "stream",
     "text": [
      "Early stopping, best iteration is:\n[263]\ttraining's l2: 5.02585e-05\tvalid_1's l2: 0.000135063\nfold n°3\nTraining until validation scores don't improve for 100 rounds.\n"
     ]
    },
    {
     "name": "stdout",
     "output_type": "stream",
     "text": [
      "Early stopping, best iteration is:\n[472]\ttraining's l2: 4.30556e-05\tvalid_1's l2: 0.000107297\nfold n°4\nTraining until validation scores don't improve for 100 rounds.\nEarly stopping, best iteration is:\n[164]\ttraining's l2: 6.87231e-05\tvalid_1's l2: 0.000101798\nfold n°5"
     ]
    },
    {
     "name": "stdout",
     "output_type": "stream",
     "text": [
      "\nTraining until validation scores don't improve for 100 rounds.\n"
     ]
    },
    {
     "name": "stdout",
     "output_type": "stream",
     "text": [
      "Early stopping, best iteration is:\n[284]\ttraining's l2: 5.07617e-05\tvalid_1's l2: 0.0001389\n----------\n当前移除特征: B14_to_A11_intTarget_2.0_mean, CV score: 0.00006126, 最佳cv score: 0.00006050, 没效果,保留！！\nfold n°1\nTraining until validation scores don't improve for 100 rounds.\nEarly stopping, best iteration is:\n[158]\ttraining's l2: 6.5575e-05\tvalid_1's l2: 0.000129374\nfold n°2"
     ]
    },
    {
     "name": "stdout",
     "output_type": "stream",
     "text": [
      "\nTraining until validation scores don't improve for 100 rounds.\n"
     ]
    },
    {
     "name": "stdout",
     "output_type": "stream",
     "text": [
      "Early stopping, best iteration is:\n[273]\ttraining's l2: 4.9368e-05\tvalid_1's l2: 0.000134053\nfold n°3\nTraining until validation scores don't improve for 100 rounds.\n"
     ]
    },
    {
     "name": "stdout",
     "output_type": "stream",
     "text": [
      "Early stopping, best iteration is:\n[337]\ttraining's l2: 5.05364e-05\tvalid_1's l2: 0.000106665\nfold n°4\nTraining until validation scores don't improve for 100 rounds.\nEarly stopping, best iteration is:\n[211]\ttraining's l2: 5.99293e-05\tvalid_1's l2: 0.000102672"
     ]
    },
    {
     "name": "stdout",
     "output_type": "stream",
     "text": [
      "\nfold n°5\nTraining until validation scores don't improve for 100 rounds.\n"
     ]
    },
    {
     "name": "stdout",
     "output_type": "stream",
     "text": [
      "Early stopping, best iteration is:\n[236]\ttraining's l2: 5.54906e-05\tvalid_1's l2: 0.000135285\n----------\n当前移除特征: B14_to_A11_intTarget_3.0_mean, CV score: 0.00006081, 最佳cv score: 0.00006050, 没效果,保留！！\nfold n°1\nTraining until validation scores don't improve for 100 rounds.\nEarly stopping, best iteration is:\n[157]\ttraining's l2: 6.59608e-05\tvalid_1's l2: 0.000131706\nfold n°2\nTraining until validation scores don't improve for 100 rounds.\n"
     ]
    },
    {
     "name": "stdout",
     "output_type": "stream",
     "text": [
      "Early stopping, best iteration is:\n[240]\ttraining's l2: 5.33331e-05\tvalid_1's l2: 0.000135588\nfold n°3\nTraining until validation scores don't improve for 100 rounds.\n"
     ]
    },
    {
     "name": "stdout",
     "output_type": "stream",
     "text": [
      "Early stopping, best iteration is:\n[426]\ttraining's l2: 4.54151e-05\tvalid_1's l2: 0.000108298\nfold n°4\nTraining until validation scores don't improve for 100 rounds.\n"
     ]
    },
    {
     "name": "stdout",
     "output_type": "stream",
     "text": [
      "Early stopping, best iteration is:\n[208]\ttraining's l2: 6.10996e-05\tvalid_1's l2: 0.000102228\nfold n°5\nTraining until validation scores don't improve for 100 rounds.\nEarly stopping, best iteration is:\n[236]\ttraining's l2: 5.57373e-05\tvalid_1's l2: 0.000136208\n----------"
     ]
    },
    {
     "name": "stdout",
     "output_type": "stream",
     "text": [
      "\n当前移除特征: B14_to_A11_intTarget_4.0_mean, CV score: 0.00006141, 最佳cv score: 0.00006050, 没效果,保留！！\nfold n°1\nTraining until validation scores don't improve for 100 rounds.\nEarly stopping, best iteration is:\n[160]\ttraining's l2: 6.49478e-05\tvalid_1's l2: 0.000130846\nfold n°2\nTraining until validation scores don't improve for 100 rounds.\n"
     ]
    },
    {
     "name": "stdout",
     "output_type": "stream",
     "text": [
      "Early stopping, best iteration is:\n[231]\ttraining's l2: 5.43006e-05\tvalid_1's l2: 0.000135407\nfold n°3\nTraining until validation scores don't improve for 100 rounds.\n"
     ]
    },
    {
     "name": "stdout",
     "output_type": "stream",
     "text": [
      "Early stopping, best iteration is:\n[469]\ttraining's l2: 4.3468e-05\tvalid_1's l2: 0.000105947\nfold n°4\nTraining until validation scores don't improve for 100 rounds.\n"
     ]
    },
    {
     "name": "stdout",
     "output_type": "stream",
     "text": [
      "Early stopping, best iteration is:\n[192]\ttraining's l2: 6.3645e-05\tvalid_1's l2: 0.000102749\nfold n°5\nTraining until validation scores don't improve for 100 rounds.\n"
     ]
    },
    {
     "name": "stdout",
     "output_type": "stream",
     "text": [
      "Early stopping, best iteration is:\n[246]\ttraining's l2: 5.4087e-05\tvalid_1's l2: 0.00013614\n----------\n当前移除特征: B14_to_A14_intTarget_0.0_mean, CV score: 0.00006111, 最佳cv score: 0.00006050, 没效果,保留！！\nfold n°1\nTraining until validation scores don't improve for 100 rounds.\nEarly stopping, best iteration is:\n[154]\ttraining's l2: 6.6478e-05\tvalid_1's l2: 0.00012939\nfold n°2\nTraining until validation scores don't improve for 100 rounds."
     ]
    },
    {
     "name": "stdout",
     "output_type": "stream",
     "text": [
      "\n"
     ]
    },
    {
     "name": "stdout",
     "output_type": "stream",
     "text": [
      "Early stopping, best iteration is:\n[238]\ttraining's l2: 5.25717e-05\tvalid_1's l2: 0.000132932\nfold n°3\nTraining until validation scores don't improve for 100 rounds.\n"
     ]
    },
    {
     "name": "stdout",
     "output_type": "stream",
     "text": [
      "Early stopping, best iteration is:\n[421]\ttraining's l2: 4.55459e-05\tvalid_1's l2: 0.000107891\nfold n°4\nTraining until validation scores don't improve for 100 rounds.\nEarly stopping, best iteration is:\n[164]\ttraining's l2: 6.85945e-05\tvalid_1's l2: 0.000103458"
     ]
    },
    {
     "name": "stdout",
     "output_type": "stream",
     "text": [
      "\nfold n°5\nTraining until validation scores don't improve for 100 rounds.\n"
     ]
    },
    {
     "name": "stdout",
     "output_type": "stream",
     "text": [
      "Early stopping, best iteration is:\n[246]\ttraining's l2: 5.40682e-05\tvalid_1's l2: 0.000136464\n----------\n当前移除特征: B14_to_A14_intTarget_1.0_mean, CV score: 0.00006102, 最佳cv score: 0.00006050, 没效果,保留！！\nfold n°1\nTraining until validation scores don't improve for 100 rounds.\nEarly stopping, best iteration is:\n[153]\ttraining's l2: 6.63612e-05\tvalid_1's l2: 0.000129693\nfold n°2\nTraining until validation scores don't improve for 100 rounds."
     ]
    },
    {
     "name": "stdout",
     "output_type": "stream",
     "text": [
      "\n"
     ]
    },
    {
     "name": "stdout",
     "output_type": "stream",
     "text": [
      "Early stopping, best iteration is:\n[209]\ttraining's l2: 5.67957e-05\tvalid_1's l2: 0.000134077\nfold n°3\nTraining until validation scores don't improve for 100 rounds.\n"
     ]
    },
    {
     "name": "stdout",
     "output_type": "stream",
     "text": [
      "Early stopping, best iteration is:\n[467]\ttraining's l2: 4.3294e-05\tvalid_1's l2: 0.000109939\nfold n°4\nTraining until validation scores don't improve for 100 rounds.\nEarly stopping, best iteration is:\n[169]\ttraining's l2: 6.6771e-05\tvalid_1's l2: 0.000102576\nfold n°5\n"
     ]
    },
    {
     "name": "stdout",
     "output_type": "stream",
     "text": [
      "Training until validation scores don't improve for 100 rounds.\nEarly stopping, best iteration is:\n[239]\ttraining's l2: 5.51364e-05\tvalid_1's l2: 0.000132702\n----------"
     ]
    },
    {
     "name": "stdout",
     "output_type": "stream",
     "text": [
      "\n当前移除特征: B14_to_A14_intTarget_2.0_mean, CV score: 0.00006090, 最佳cv score: 0.00006050, 没效果,保留！！\nfold n°1\nTraining until validation scores don't improve for 100 rounds.\nEarly stopping, best iteration is:\n[140]\ttraining's l2: 6.92202e-05\tvalid_1's l2: 0.000129474"
     ]
    },
    {
     "name": "stdout",
     "output_type": "stream",
     "text": [
      "\nfold n°2\nTraining until validation scores don't improve for 100 rounds.\nEarly stopping, best iteration is:\n[209]\ttraining's l2: 5.70158e-05\tvalid_1's l2: 0.000135641\nfold n°3"
     ]
    },
    {
     "name": "stdout",
     "output_type": "stream",
     "text": [
      "\nTraining until validation scores don't improve for 100 rounds.\n"
     ]
    },
    {
     "name": "stdout",
     "output_type": "stream",
     "text": [
      "Early stopping, best iteration is:\n[454]\ttraining's l2: 4.47151e-05\tvalid_1's l2: 0.000110306\nfold n°4\nTraining until validation scores don't improve for 100 rounds.\nEarly stopping, best iteration is:\n[164]\ttraining's l2: 6.91138e-05\tvalid_1's l2: 0.00010236\nfold n°5"
     ]
    },
    {
     "name": "stdout",
     "output_type": "stream",
     "text": [
      "\nTraining until validation scores don't improve for 100 rounds.\nEarly stopping, best iteration is:\n[241]\ttraining's l2: 5.52695e-05\tvalid_1's l2: 0.000135509"
     ]
    },
    {
     "name": "stdout",
     "output_type": "stream",
     "text": [
      "\n----------\n当前移除特征: B14_to_A14_intTarget_3.0_mean, CV score: 0.00006133, 最佳cv score: 0.00006050, 没效果,保留！！\nfold n°1\nTraining until validation scores don't improve for 100 rounds.\nEarly stopping, best iteration is:\n[145]\ttraining's l2: 6.84201e-05\tvalid_1's l2: 0.000129981\nfold n°2\nTraining until validation scores don't improve for 100 rounds."
     ]
    },
    {
     "name": "stdout",
     "output_type": "stream",
     "text": [
      "\n"
     ]
    },
    {
     "name": "stdout",
     "output_type": "stream",
     "text": [
      "Early stopping, best iteration is:\n[241]\ttraining's l2: 5.25232e-05\tvalid_1's l2: 0.000132169\nfold n°3\nTraining until validation scores don't improve for 100 rounds.\n"
     ]
    },
    {
     "name": "stdout",
     "output_type": "stream",
     "text": [
      "Early stopping, best iteration is:\n[385]\ttraining's l2: 4.73756e-05\tvalid_1's l2: 0.000106658\nfold n°4\nTraining until validation scores don't improve for 100 rounds.\n"
     ]
    },
    {
     "name": "stdout",
     "output_type": "stream",
     "text": [
      "Early stopping, best iteration is:\n[217]\ttraining's l2: 5.96523e-05\tvalid_1's l2: 0.000103601\nfold n°5\nTraining until validation scores don't improve for 100 rounds.\nEarly stopping, best iteration is:\n[232]\ttraining's l2: 5.60139e-05\tvalid_1's l2: 0.000134603"
     ]
    },
    {
     "name": "stdout",
     "output_type": "stream",
     "text": [
      "\n----------\n当前移除特征: B14_to_A14_intTarget_4.0_mean, CV score: 0.00006070, 最佳cv score: 0.00006050, 没效果,保留！！\nfold n°1\nTraining until validation scores don't improve for 100 rounds.\n"
     ]
    },
    {
     "name": "stdout",
     "output_type": "stream",
     "text": [
      "Early stopping, best iteration is:\n[182]\ttraining's l2: 6.12076e-05\tvalid_1's l2: 0.000128659\nfold n°2\nTraining until validation scores don't improve for 100 rounds.\nEarly stopping, best iteration is:\n[215]\ttraining's l2: 5.54781e-05\tvalid_1's l2: 0.000135553\nfold n°3\nTraining until validation scores don't improve for 100 rounds."
     ]
    },
    {
     "name": "stdout",
     "output_type": "stream",
     "text": [
      "\n"
     ]
    },
    {
     "name": "stdout",
     "output_type": "stream",
     "text": [
      "Early stopping, best iteration is:\n[453]\ttraining's l2: 4.39687e-05\tvalid_1's l2: 0.000108804\nfold n°4\nTraining until validation scores don't improve for 100 rounds.\n"
     ]
    },
    {
     "name": "stdout",
     "output_type": "stream",
     "text": [
      "Early stopping, best iteration is:\n[234]\ttraining's l2: 5.78824e-05\tvalid_1's l2: 0.000100974\nfold n°5\nTraining until validation scores don't improve for 100 rounds.\nEarly stopping, best iteration is:\n[221]\ttraining's l2: 5.70273e-05\tvalid_1's l2: 0.000133992\n----------"
     ]
    },
    {
     "name": "stdout",
     "output_type": "stream",
     "text": [
      "\n当前移除特征: B14_to_A16_intTarget_0.0_mean, CV score: 0.00006080, 最佳cv score: 0.00006050, 没效果,保留！！\nfold n°1\nTraining until validation scores don't improve for 100 rounds.\n"
     ]
    },
    {
     "name": "stdout",
     "output_type": "stream",
     "text": [
      "Early stopping, best iteration is:\n[141]\ttraining's l2: 6.91796e-05\tvalid_1's l2: 0.000131695\nfold n°2\nTraining until validation scores don't improve for 100 rounds.\nEarly stopping, best iteration is:\n[234]\ttraining's l2: 5.30907e-05\tvalid_1's l2: 0.000136016"
     ]
    },
    {
     "name": "stdout",
     "output_type": "stream",
     "text": [
      "\nfold n°3\nTraining until validation scores don't improve for 100 rounds.\n"
     ]
    },
    {
     "name": "stdout",
     "output_type": "stream",
     "text": [
      "Early stopping, best iteration is:\n[444]\ttraining's l2: 4.42292e-05\tvalid_1's l2: 0.000108237\nfold n°4\nTraining until validation scores don't improve for 100 rounds.\n"
     ]
    },
    {
     "name": "stdout",
     "output_type": "stream",
     "text": [
      "Early stopping, best iteration is:\n[187]\ttraining's l2: 6.37566e-05\tvalid_1's l2: 0.000102539\nfold n°5\nTraining until validation scores don't improve for 100 rounds.\n"
     ]
    },
    {
     "name": "stdout",
     "output_type": "stream",
     "text": [
      "Early stopping, best iteration is:\n[238]\ttraining's l2: 5.50812e-05\tvalid_1's l2: 0.000135784\n----------\n当前移除特征: B14_to_A16_intTarget_1.0_mean, CV score: 0.00006143, 最佳cv score: 0.00006050, 没效果,保留！！\nfold n°1\nTraining until validation scores don't improve for 100 rounds.\nEarly stopping, best iteration is:\n[140]\ttraining's l2: 6.92004e-05\tvalid_1's l2: 0.000130437\nfold n°2\nTraining until validation scores don't improve for 100 rounds.\n"
     ]
    },
    {
     "name": "stdout",
     "output_type": "stream",
     "text": [
      "Early stopping, best iteration is:\n[209]\ttraining's l2: 5.62693e-05\tvalid_1's l2: 0.00013343\nfold n°3\nTraining until validation scores don't improve for 100 rounds.\n"
     ]
    },
    {
     "name": "stdout",
     "output_type": "stream",
     "text": [
      "Early stopping, best iteration is:\n[443]\ttraining's l2: 4.4975e-05\tvalid_1's l2: 0.000109182\nfold n°4\nTraining until validation scores don't improve for 100 rounds.\nEarly stopping, best iteration is:\n[217]\ttraining's l2: 5.97064e-05\tvalid_1's l2: 0.000102302\nfold n°5\nTraining until validation scores don't improve for 100 rounds."
     ]
    },
    {
     "name": "stdout",
     "output_type": "stream",
     "text": [
      "\n"
     ]
    },
    {
     "name": "stdout",
     "output_type": "stream",
     "text": [
      "Early stopping, best iteration is:\n[238]\ttraining's l2: 5.53826e-05\tvalid_1's l2: 0.000134546\n----------\n当前移除特征: B14_to_A16_intTarget_2.0_mean, CV score: 0.00006099, 最佳cv score: 0.00006050, 没效果,保留！！\nfold n°1\nTraining until validation scores don't improve for 100 rounds.\nEarly stopping, best iteration is:\n[176]\ttraining's l2: 6.15424e-05\tvalid_1's l2: 0.000130107\nfold n°2"
     ]
    },
    {
     "name": "stdout",
     "output_type": "stream",
     "text": [
      "\nTraining until validation scores don't improve for 100 rounds.\n"
     ]
    },
    {
     "name": "stdout",
     "output_type": "stream",
     "text": [
      "Early stopping, best iteration is:\n[241]\ttraining's l2: 5.21638e-05\tvalid_1's l2: 0.000135472\nfold n°3\nTraining until validation scores don't improve for 100 rounds.\n"
     ]
    },
    {
     "name": "stdout",
     "output_type": "stream",
     "text": [
      "Early stopping, best iteration is:\n[469]\ttraining's l2: 4.31215e-05\tvalid_1's l2: 0.000107016\nfold n°4\nTraining until validation scores don't improve for 100 rounds.\n"
     ]
    },
    {
     "name": "stdout",
     "output_type": "stream",
     "text": [
      "Early stopping, best iteration is:\n[201]\ttraining's l2: 6.16497e-05\tvalid_1's l2: 0.00010162\nfold n°5\nTraining until validation scores don't improve for 100 rounds.\n"
     ]
    },
    {
     "name": "stdout",
     "output_type": "stream",
     "text": [
      "Early stopping, best iteration is:\n[232]\ttraining's l2: 5.5994e-05\tvalid_1's l2: 0.000135549\n----------\n当前移除特征: B14_to_A16_intTarget_3.0_mean, CV score: 0.00006098, 最佳cv score: 0.00006050, 没效果,保留！！\nfold n°1\nTraining until validation scores don't improve for 100 rounds.\nEarly stopping, best iteration is:\n[136]\ttraining's l2: 7.03208e-05\tvalid_1's l2: 0.000128643\nfold n°2\nTraining until validation scores don't improve for 100 rounds.\n"
     ]
    },
    {
     "name": "stdout",
     "output_type": "stream",
     "text": [
      "Early stopping, best iteration is:\n[240]\ttraining's l2: 5.28475e-05\tvalid_1's l2: 0.000135944\nfold n°3\nTraining until validation scores don't improve for 100 rounds.\n"
     ]
    },
    {
     "name": "stdout",
     "output_type": "stream",
     "text": [
      "Early stopping, best iteration is:\n[472]\ttraining's l2: 4.30869e-05\tvalid_1's l2: 0.000107591\nfold n°4\nTraining until validation scores don't improve for 100 rounds.\nEarly stopping, best iteration is:\n[169]\ttraining's l2: 6.71414e-05\tvalid_1's l2: 0.000102693"
     ]
    },
    {
     "name": "stdout",
     "output_type": "stream",
     "text": [
      "\nfold n°5\nTraining until validation scores don't improve for 100 rounds.\n"
     ]
    },
    {
     "name": "stdout",
     "output_type": "stream",
     "text": [
      "Early stopping, best iteration is:\n[240]\ttraining's l2: 5.5267e-05\tvalid_1's l2: 0.000136343\n----------\n当前移除特征: B14_to_A16_intTarget_4.0_mean, CV score: 0.00006112, 最佳cv score: 0.00006050, 没效果,保留！！\nfold n°1\nTraining until validation scores don't improve for 100 rounds.\nEarly stopping, best iteration is:\n[153]\ttraining's l2: 6.62431e-05\tvalid_1's l2: 0.000128026\nfold n°2\nTraining until validation scores don't improve for 100 rounds.\n"
     ]
    },
    {
     "name": "stdout",
     "output_type": "stream",
     "text": [
      "Early stopping, best iteration is:\n[219]\ttraining's l2: 5.59464e-05\tvalid_1's l2: 0.000133687\nfold n°3\nTraining until validation scores don't improve for 100 rounds.\n"
     ]
    },
    {
     "name": "stdout",
     "output_type": "stream",
     "text": [
      "Early stopping, best iteration is:\n[506]\ttraining's l2: 4.16177e-05\tvalid_1's l2: 0.000109706\nfold n°4\nTraining until validation scores don't improve for 100 rounds.\nEarly stopping, best iteration is:\n[146]\ttraining's l2: 7.18693e-05\tvalid_1's l2: 0.000102375\nfold n°5\nTraining until validation scores don't improve for 100 rounds.\n"
     ]
    },
    {
     "name": "stdout",
     "output_type": "stream",
     "text": [
      "Early stopping, best iteration is:\n[236]\ttraining's l2: 5.53768e-05\tvalid_1's l2: 0.0001333\n----------\n当前移除特征: B14_to_A24_intTarget_0.0_mean, CV score: 0.00006071, 最佳cv score: 0.00006050, 没效果,保留！！\nfold n°1\nTraining until validation scores don't improve for 100 rounds.\nEarly stopping, best iteration is:\n[194]\ttraining's l2: 5.90224e-05\tvalid_1's l2: 0.000129699\nfold n°2\nTraining until validation scores don't improve for 100 rounds."
     ]
    },
    {
     "name": "stdout",
     "output_type": "stream",
     "text": [
      "\n"
     ]
    },
    {
     "name": "stdout",
     "output_type": "stream",
     "text": [
      "Early stopping, best iteration is:\n[382]\ttraining's l2: 4.14679e-05\tvalid_1's l2: 0.000131586\nfold n°3\nTraining until validation scores don't improve for 100 rounds.\n"
     ]
    },
    {
     "name": "stdout",
     "output_type": "stream",
     "text": [
      "Early stopping, best iteration is:\n[444]\ttraining's l2: 4.41277e-05\tvalid_1's l2: 0.00010955\nfold n°4\nTraining until validation scores don't improve for 100 rounds.\nEarly stopping, best iteration is:\n[183]\ttraining's l2: 6.47037e-05\tvalid_1's l2: 0.000104416"
     ]
    },
    {
     "name": "stdout",
     "output_type": "stream",
     "text": [
      "\nfold n°5\nTraining until validation scores don't improve for 100 rounds.\n"
     ]
    },
    {
     "name": "stdout",
     "output_type": "stream",
     "text": [
      "Early stopping, best iteration is:\n[257]\ttraining's l2: 5.31928e-05\tvalid_1's l2: 0.000136413\n----------\n当前移除特征: B14_to_A24_intTarget_1.0_mean, CV score: 0.00006117, 最佳cv score: 0.00006050, 没效果,保留！！\nfold n°1\nTraining until validation scores don't improve for 100 rounds.\nEarly stopping, best iteration is:\n[183]\ttraining's l2: 6.06691e-05\tvalid_1's l2: 0.000129351\nfold n°2\n"
     ]
    },
    {
     "name": "stdout",
     "output_type": "stream",
     "text": [
      "Training until validation scores don't improve for 100 rounds.\n"
     ]
    },
    {
     "name": "stdout",
     "output_type": "stream",
     "text": [
      "Early stopping, best iteration is:\n[263]\ttraining's l2: 5.0135e-05\tvalid_1's l2: 0.000133821\nfold n°3\nTraining until validation scores don't improve for 100 rounds.\n"
     ]
    },
    {
     "name": "stdout",
     "output_type": "stream",
     "text": [
      "Early stopping, best iteration is:\n[470]\ttraining's l2: 4.31844e-05\tvalid_1's l2: 0.000108256\nfold n°4\nTraining until validation scores don't improve for 100 rounds.\n"
     ]
    },
    {
     "name": "stdout",
     "output_type": "stream",
     "text": [
      "Early stopping, best iteration is:\n[206]\ttraining's l2: 6.11226e-05\tvalid_1's l2: 0.000100565\nfold n°5\nTraining until validation scores don't improve for 100 rounds.\nEarly stopping, best iteration is:\n[237]\ttraining's l2: 5.5056e-05\tvalid_1's l2: 0.000136077\n----------"
     ]
    },
    {
     "name": "stdout",
     "output_type": "stream",
     "text": [
      "\n当前移除特征: B14_to_A24_intTarget_2.0_mean, CV score: 0.00006081, 最佳cv score: 0.00006050, 没效果,保留！！\nfold n°1\nTraining until validation scores don't improve for 100 rounds.\nEarly stopping, best iteration is:\n[147]\ttraining's l2: 6.8021e-05\tvalid_1's l2: 0.000129408\n"
     ]
    },
    {
     "name": "stdout",
     "output_type": "stream",
     "text": [
      "fold n°2\nTraining until validation scores don't improve for 100 rounds.\nEarly stopping, best iteration is:\n[284]\ttraining's l2: 4.87688e-05\tvalid_1's l2: 0.000136573"
     ]
    },
    {
     "name": "stdout",
     "output_type": "stream",
     "text": [
      "\nfold n°3\nTraining until validation scores don't improve for 100 rounds.\n"
     ]
    },
    {
     "name": "stdout",
     "output_type": "stream",
     "text": [
      "Early stopping, best iteration is:\n[443]\ttraining's l2: 4.42685e-05\tvalid_1's l2: 0.00010702\nfold n°4\nTraining until validation scores don't improve for 100 rounds.\nEarly stopping, best iteration is:\n[169]\ttraining's l2: 6.72775e-05\tvalid_1's l2: 0.000102332\n"
     ]
    },
    {
     "name": "stdout",
     "output_type": "stream",
     "text": [
      "fold n°5\nTraining until validation scores don't improve for 100 rounds.\n"
     ]
    },
    {
     "name": "stdout",
     "output_type": "stream",
     "text": [
      "Early stopping, best iteration is:\n[243]\ttraining's l2: 5.47094e-05\tvalid_1's l2: 0.000137415\n----------\n当前移除特征: B14_to_A24_intTarget_3.0_mean, CV score: 0.00006128, 最佳cv score: 0.00006050, 没效果,保留！！\nfold n°1\nTraining until validation scores don't improve for 100 rounds.\nEarly stopping, best iteration is:\n[150]\ttraining's l2: 6.74533e-05\tvalid_1's l2: 0.000132099\nfold n°2\nTraining until validation scores don't improve for 100 rounds.\n"
     ]
    },
    {
     "name": "stdout",
     "output_type": "stream",
     "text": [
      "Early stopping, best iteration is:\n[257]\ttraining's l2: 5.11164e-05\tvalid_1's l2: 0.000132855\nfold n°3\nTraining until validation scores don't improve for 100 rounds.\n"
     ]
    },
    {
     "name": "stdout",
     "output_type": "stream",
     "text": [
      "Early stopping, best iteration is:\n[472]\ttraining's l2: 4.28497e-05\tvalid_1's l2: 0.000106385\nfold n°4\nTraining until validation scores don't improve for 100 rounds.\nEarly stopping, best iteration is:\n[208]\ttraining's l2: 6.14501e-05\tvalid_1's l2: 0.000101327\nfold n°5\n"
     ]
    },
    {
     "name": "stdout",
     "output_type": "stream",
     "text": [
      "Training until validation scores don't improve for 100 rounds.\n"
     ]
    },
    {
     "name": "stdout",
     "output_type": "stream",
     "text": [
      "Early stopping, best iteration is:\n[260]\ttraining's l2: 5.26855e-05\tvalid_1's l2: 0.000134844\n----------\n当前移除特征: B14_to_A24_intTarget_4.0_mean, CV score: 0.00006075, 最佳cv score: 0.00006050, 没效果,保留！！\nfold n°1\nTraining until validation scores don't improve for 100 rounds.\nEarly stopping, best iteration is:\n[145]\ttraining's l2: 6.86211e-05\tvalid_1's l2: 0.000130943\nfold n°2\nTraining until validation scores don't improve for 100 rounds.\n"
     ]
    },
    {
     "name": "stdout",
     "output_type": "stream",
     "text": [
      "Early stopping, best iteration is:\n[253]\ttraining's l2: 5.16284e-05\tvalid_1's l2: 0.000134577\nfold n°3\nTraining until validation scores don't improve for 100 rounds.\n"
     ]
    },
    {
     "name": "stdout",
     "output_type": "stream",
     "text": [
      "Early stopping, best iteration is:\n[288]\ttraining's l2: 5.50594e-05\tvalid_1's l2: 0.00010754\nfold n°4\nTraining until validation scores don't improve for 100 rounds.\nEarly stopping, best iteration is:\n[169]\ttraining's l2: 6.72939e-05\tvalid_1's l2: 0.000101676\nfold n°5\nTraining until validation scores don't improve for 100 rounds.\n"
     ]
    },
    {
     "name": "stdout",
     "output_type": "stream",
     "text": [
      "Early stopping, best iteration is:\n[245]\ttraining's l2: 5.47374e-05\tvalid_1's l2: 0.000136703\n----------\n当前移除特征: B14_to_A26_intTarget_0.0_mean, CV score: 0.00006115, 最佳cv score: 0.00006050, 没效果,保留！！\nfold n°1\nTraining until validation scores don't improve for 100 rounds.\nEarly stopping, best iteration is:\n[147]\ttraining's l2: 6.7648e-05\tvalid_1's l2: 0.000129476\nfold n°2\nTraining until validation scores don't improve for 100 rounds.\n"
     ]
    },
    {
     "name": "stdout",
     "output_type": "stream",
     "text": [
      "Early stopping, best iteration is:\n[295]\ttraining's l2: 4.78167e-05\tvalid_1's l2: 0.00013342\nfold n°3\nTraining until validation scores don't improve for 100 rounds.\n"
     ]
    },
    {
     "name": "stdout",
     "output_type": "stream",
     "text": [
      "Early stopping, best iteration is:\n[475]\ttraining's l2: 4.27893e-05\tvalid_1's l2: 0.000107153\nfold n°4\nTraining until validation scores don't improve for 100 rounds.\nEarly stopping, best iteration is:\n[204]\ttraining's l2: 6.12669e-05\tvalid_1's l2: 0.000103036\nfold n°5\n"
     ]
    },
    {
     "name": "stdout",
     "output_type": "stream",
     "text": [
      "Training until validation scores don't improve for 100 rounds.\nEarly stopping, best iteration is:\n[239]\ttraining's l2: 5.47925e-05\tvalid_1's l2: 0.000136222"
     ]
    },
    {
     "name": "stdout",
     "output_type": "stream",
     "text": [
      "\n----------\n当前移除特征: B14_to_A26_intTarget_1.0_mean, CV score: 0.00006093, 最佳cv score: 0.00006050, 没效果,保留！！\nfold n°1\nTraining until validation scores don't improve for 100 rounds.\nEarly stopping, best iteration is:\n[143]\ttraining's l2: 6.90182e-05\tvalid_1's l2: 0.000131134"
     ]
    },
    {
     "name": "stdout",
     "output_type": "stream",
     "text": [
      "\nfold n°2\nTraining until validation scores don't improve for 100 rounds.\n"
     ]
    },
    {
     "name": "stdout",
     "output_type": "stream",
     "text": [
      "Early stopping, best iteration is:\n[240]\ttraining's l2: 5.27824e-05\tvalid_1's l2: 0.000131501\nfold n°3\nTraining until validation scores don't improve for 100 rounds.\n"
     ]
    },
    {
     "name": "stdout",
     "output_type": "stream",
     "text": [
      "Early stopping, best iteration is:\n[408]\ttraining's l2: 4.62016e-05\tvalid_1's l2: 0.000105191\nfold n°4\nTraining until validation scores don't improve for 100 rounds.\n"
     ]
    },
    {
     "name": "stdout",
     "output_type": "stream",
     "text": [
      "Early stopping, best iteration is:\n[172]\ttraining's l2: 6.70961e-05\tvalid_1's l2: 0.000104204\nfold n°5\nTraining until validation scores don't improve for 100 rounds.\nEarly stopping, best iteration is:\n[194]\ttraining's l2: 6.06274e-05\tvalid_1's l2: 0.000137458\n----------\n当前移除特征: B14_to_A26_intTarget_2.0_mean, CV score: 0.00006095, 最佳cv score: 0.00006050, 没效果,保留！！\nfold n°1\nTraining until validation scores don't improve for 100 rounds.\n"
     ]
    },
    {
     "name": "stdout",
     "output_type": "stream",
     "text": [
      "Early stopping, best iteration is:\n[140]\ttraining's l2: 6.92747e-05\tvalid_1's l2: 0.000131554\nfold n°2\nTraining until validation scores don't improve for 100 rounds.\nEarly stopping, best iteration is:\n[211]\ttraining's l2: 5.69163e-05\tvalid_1's l2: 0.000132171\nfold n°3"
     ]
    },
    {
     "name": "stdout",
     "output_type": "stream",
     "text": [
      "\nTraining until validation scores don't improve for 100 rounds.\n"
     ]
    },
    {
     "name": "stdout",
     "output_type": "stream",
     "text": [
      "Early stopping, best iteration is:\n[452]\ttraining's l2: 4.42353e-05\tvalid_1's l2: 0.000107451\nfold n°4\nTraining until validation scores don't improve for 100 rounds.\nEarly stopping, best iteration is:\n[211]\ttraining's l2: 6.08703e-05\tvalid_1's l2: 0.000101486\nfold n°5"
     ]
    },
    {
     "name": "stdout",
     "output_type": "stream",
     "text": [
      "\nTraining until validation scores don't improve for 100 rounds.\nEarly stopping, best iteration is:\n[232]\ttraining's l2: 5.58445e-05\tvalid_1's l2: 0.000137657"
     ]
    },
    {
     "name": "stdout",
     "output_type": "stream",
     "text": [
      "\n----------\n当前移除特征: B14_to_A26_intTarget_3.0_mean, CV score: 0.00006104, 最佳cv score: 0.00006050, 没效果,保留！！\nfold n°1\nTraining until validation scores don't improve for 100 rounds.\nEarly stopping, best iteration is:\n[156]\ttraining's l2: 6.59204e-05\tvalid_1's l2: 0.000131235"
     ]
    },
    {
     "name": "stdout",
     "output_type": "stream",
     "text": [
      "\nfold n°2\nTraining until validation scores don't improve for 100 rounds.\nEarly stopping, best iteration is:\n[239]\ttraining's l2: 5.27187e-05\tvalid_1's l2: 0.000133098\nfold n°3"
     ]
    },
    {
     "name": "stdout",
     "output_type": "stream",
     "text": [
      "\nTraining until validation scores don't improve for 100 rounds.\n"
     ]
    },
    {
     "name": "stdout",
     "output_type": "stream",
     "text": [
      "Early stopping, best iteration is:\n[447]\ttraining's l2: 4.47469e-05\tvalid_1's l2: 0.000108655\nfold n°4\nTraining until validation scores don't improve for 100 rounds.\n"
     ]
    },
    {
     "name": "stdout",
     "output_type": "stream",
     "text": [
      "Early stopping, best iteration is:\n[208]\ttraining's l2: 6.085e-05\tvalid_1's l2: 0.00010095\nfold n°5\nTraining until validation scores don't improve for 100 rounds.\n"
     ]
    },
    {
     "name": "stdout",
     "output_type": "stream",
     "text": [
      "Early stopping, best iteration is:\n[283]\ttraining's l2: 5.08547e-05\tvalid_1's l2: 0.000138836\n----------\n当前移除特征: B14_to_A26_intTarget_4.0_mean, CV score: 0.00006128, 最佳cv score: 0.00006050, 没效果,保留！！\nfold n°1\nTraining until validation scores don't improve for 100 rounds.\nEarly stopping, best iteration is:\n[154]\ttraining's l2: 6.67817e-05\tvalid_1's l2: 0.000128497"
     ]
    },
    {
     "name": "stdout",
     "output_type": "stream",
     "text": [
      "\nfold n°2\nTraining until validation scores don't improve for 100 rounds.\nEarly stopping, best iteration is:\n[253]\ttraining's l2: 5.14853e-05\tvalid_1's l2: 0.000134562"
     ]
    },
    {
     "name": "stdout",
     "output_type": "stream",
     "text": [
      "\nfold n°3\nTraining until validation scores don't improve for 100 rounds.\n"
     ]
    },
    {
     "name": "stdout",
     "output_type": "stream",
     "text": [
      "Early stopping, best iteration is:\n[399]\ttraining's l2: 4.71619e-05\tvalid_1's l2: 0.000108224\nfold n°4\nTraining until validation scores don't improve for 100 rounds.\n"
     ]
    },
    {
     "name": "stdout",
     "output_type": "stream",
     "text": [
      "Early stopping, best iteration is:\n[215]\ttraining's l2: 5.98754e-05\tvalid_1's l2: 0.000104875\nfold n°5\nTraining until validation scores don't improve for 100 rounds.\n"
     ]
    },
    {
     "name": "stdout",
     "output_type": "stream",
     "text": [
      "Early stopping, best iteration is:\n[353]\ttraining's l2: 4.61669e-05\tvalid_1's l2: 0.000136858\n----------\n当前移除特征: B14_to_B1_intTarget_0.0_mean, CV score: 0.00006130, 最佳cv score: 0.00006050, 没效果,保留！！\nfold n°1\nTraining until validation scores don't improve for 100 rounds.\n"
     ]
    },
    {
     "name": "stdout",
     "output_type": "stream",
     "text": [
      "Early stopping, best iteration is:\n[142]\ttraining's l2: 6.85827e-05\tvalid_1's l2: 0.000128392\nfold n°2\nTraining until validation scores don't improve for 100 rounds.\n"
     ]
    },
    {
     "name": "stdout",
     "output_type": "stream",
     "text": [
      "Early stopping, best iteration is:\n[262]\ttraining's l2: 5.03181e-05\tvalid_1's l2: 0.000131258\nfold n°3\nTraining until validation scores don't improve for 100 rounds.\n"
     ]
    },
    {
     "name": "stdout",
     "output_type": "stream",
     "text": [
      "Early stopping, best iteration is:\n[368]\ttraining's l2: 4.91466e-05\tvalid_1's l2: 0.000107699\nfold n°4\nTraining until validation scores don't improve for 100 rounds.\nEarly stopping, best iteration is:\n[169]\ttraining's l2: 6.75759e-05\tvalid_1's l2: 0.000102392\nfold n°5\nTraining until validation scores don't improve for 100 rounds.\n"
     ]
    },
    {
     "name": "stdout",
     "output_type": "stream",
     "text": [
      "Early stopping, best iteration is:\n[238]\ttraining's l2: 5.50344e-05\tvalid_1's l2: 0.000137301\n----------\n当前移除特征: B14_to_B1_intTarget_1.0_mean, CV score: 0.00006071, 最佳cv score: 0.00006050, 没效果,保留！！\nfold n°1\nTraining until validation scores don't improve for 100 rounds.\nEarly stopping, best iteration is:\n[148]\ttraining's l2: 6.78587e-05\tvalid_1's l2: 0.000127679\nfold n°2\nTraining until validation scores don't improve for 100 rounds.\n"
     ]
    },
    {
     "name": "stdout",
     "output_type": "stream",
     "text": [
      "Early stopping, best iteration is:\n[240]\ttraining's l2: 5.37238e-05\tvalid_1's l2: 0.000133254\nfold n°3\nTraining until validation scores don't improve for 100 rounds.\n"
     ]
    },
    {
     "name": "stdout",
     "output_type": "stream",
     "text": [
      "Early stopping, best iteration is:\n[444]\ttraining's l2: 4.42616e-05\tvalid_1's l2: 0.000106981\nfold n°4\nTraining until validation scores don't improve for 100 rounds.\nEarly stopping, best iteration is:\n[166]\ttraining's l2: 6.77978e-05\tvalid_1's l2: 0.000103101\nfold n°5\n"
     ]
    },
    {
     "name": "stdout",
     "output_type": "stream",
     "text": [
      "Training until validation scores don't improve for 100 rounds.\nEarly stopping, best iteration is:\n[201]\ttraining's l2: 5.99267e-05\tvalid_1's l2: 0.000135646\n"
     ]
    },
    {
     "name": "stdout",
     "output_type": "stream",
     "text": [
      "----------\n当前移除特征: B14_to_B1_intTarget_2.0_mean, CV score: 0.00006067, 最佳cv score: 0.00006050, 没效果,保留！！\nfold n°1\nTraining until validation scores don't improve for 100 rounds.\nEarly stopping, best iteration is:\n[200]\ttraining's l2: 5.83511e-05\tvalid_1's l2: 0.000127611\nfold n°2\nTraining until validation scores don't improve for 100 rounds."
     ]
    },
    {
     "name": "stdout",
     "output_type": "stream",
     "text": [
      "\n"
     ]
    },
    {
     "name": "stdout",
     "output_type": "stream",
     "text": [
      "Early stopping, best iteration is:\n[300]\ttraining's l2: 4.71191e-05\tvalid_1's l2: 0.000133089\nfold n°3\nTraining until validation scores don't improve for 100 rounds.\n"
     ]
    },
    {
     "name": "stdout",
     "output_type": "stream",
     "text": [
      "Early stopping, best iteration is:\n[452]\ttraining's l2: 4.41645e-05\tvalid_1's l2: 0.00010771\nfold n°4\nTraining until validation scores don't improve for 100 rounds.\n"
     ]
    },
    {
     "name": "stdout",
     "output_type": "stream",
     "text": [
      "Early stopping, best iteration is:\n[211]\ttraining's l2: 6.07337e-05\tvalid_1's l2: 0.000102779\nfold n°5\nTraining until validation scores don't improve for 100 rounds.\nEarly stopping, best iteration is:\n[238]\ttraining's l2: 5.51779e-05\tvalid_1's l2: 0.000136942\n----------"
     ]
    },
    {
     "name": "stdout",
     "output_type": "stream",
     "text": [
      "\n当前移除特征: B14_to_B1_intTarget_3.0_mean, CV score: 0.00006082, 最佳cv score: 0.00006050, 没效果,保留！！\nfold n°1\nTraining until validation scores don't improve for 100 rounds.\n"
     ]
    },
    {
     "name": "stdout",
     "output_type": "stream",
     "text": [
      "Early stopping, best iteration is:\n[202]\ttraining's l2: 5.81129e-05\tvalid_1's l2: 0.000127743\nfold n°2\nTraining until validation scores don't improve for 100 rounds.\nEarly stopping, best iteration is:\n[266]\ttraining's l2: 5.01882e-05\tvalid_1's l2: 0.000133489"
     ]
    },
    {
     "name": "stdout",
     "output_type": "stream",
     "text": [
      "\nfold n°3\nTraining until validation scores don't improve for 100 rounds.\n"
     ]
    },
    {
     "name": "stdout",
     "output_type": "stream",
     "text": [
      "Early stopping, best iteration is:\n[469]\ttraining's l2: 4.32157e-05\tvalid_1's l2: 0.000106047\nfold n°4\nTraining until validation scores don't improve for 100 rounds.\nEarly stopping, best iteration is:\n[208]\ttraining's l2: 6.04813e-05\tvalid_1's l2: 0.000103263\nfold n°5"
     ]
    },
    {
     "name": "stdout",
     "output_type": "stream",
     "text": [
      "\nTraining until validation scores don't improve for 100 rounds.\n"
     ]
    },
    {
     "name": "stdout",
     "output_type": "stream",
     "text": [
      "Early stopping, best iteration is:\n[240]\ttraining's l2: 5.50348e-05\tvalid_1's l2: 0.000136972\n----------\n当前移除特征: B14_to_B1_intTarget_4.0_mean, CV score: 0.00006075, 最佳cv score: 0.00006050, 没效果,保留！！\nfold n°1\nTraining until validation scores don't improve for 100 rounds.\nEarly stopping, best iteration is:\n[185]\ttraining's l2: 6.11188e-05\tvalid_1's l2: 0.000128691"
     ]
    },
    {
     "name": "stdout",
     "output_type": "stream",
     "text": [
      "\nfold n°2\nTraining until validation scores don't improve for 100 rounds.\n"
     ]
    },
    {
     "name": "stdout",
     "output_type": "stream",
     "text": [
      "Early stopping, best iteration is:\n[240]\ttraining's l2: 5.27643e-05\tvalid_1's l2: 0.000134308\nfold n°3\nTraining until validation scores don't improve for 100 rounds.\n"
     ]
    },
    {
     "name": "stdout",
     "output_type": "stream",
     "text": [
      "Early stopping, best iteration is:\n[472]\ttraining's l2: 4.30752e-05\tvalid_1's l2: 0.000107062\nfold n°4\nTraining until validation scores don't improve for 100 rounds.\nEarly stopping, best iteration is:\n[207]\ttraining's l2: 6.12331e-05\tvalid_1's l2: 0.000101051"
     ]
    },
    {
     "name": "stdout",
     "output_type": "stream",
     "text": [
      "\nfold n°5\nTraining until validation scores don't improve for 100 rounds.\n"
     ]
    },
    {
     "name": "stdout",
     "output_type": "stream",
     "text": [
      "Early stopping, best iteration is:\n[240]\ttraining's l2: 5.4975e-05\tvalid_1's l2: 0.000135462\n----------\n当前移除特征: B14_to_B5_intTarget_0.0_mean, CV score: 0.00006066, 最佳cv score: 0.00006050, 没效果,保留！！\nfold n°1\nTraining until validation scores don't improve for 100 rounds.\nEarly stopping, best iteration is:\n[148]\ttraining's l2: 6.78396e-05\tvalid_1's l2: 0.000130291\nfold n°2\nTraining until validation scores don't improve for 100 rounds.\n"
     ]
    },
    {
     "name": "stdout",
     "output_type": "stream",
     "text": [
      "Early stopping, best iteration is:\n[268]\ttraining's l2: 4.9897e-05\tvalid_1's l2: 0.000136384\nfold n°3\nTraining until validation scores don't improve for 100 rounds.\n"
     ]
    },
    {
     "name": "stdout",
     "output_type": "stream",
     "text": [
      "Early stopping, best iteration is:\n[443]\ttraining's l2: 4.45999e-05\tvalid_1's l2: 0.000106724\nfold n°4\nTraining until validation scores don't improve for 100 rounds.\n"
     ]
    },
    {
     "name": "stdout",
     "output_type": "stream",
     "text": [
      "Early stopping, best iteration is:\n[200]\ttraining's l2: 6.22476e-05\tvalid_1's l2: 0.000101693\nfold n°5\nTraining until validation scores don't improve for 100 rounds.\nEarly stopping, best iteration is:\n[201]\ttraining's l2: 5.977e-05\tvalid_1's l2: 0.000134562\n----------\n当前移除特征: B14_to_B5_intTarget_1.0_mean, CV score: 0.00006097, 最佳cv score: 0.00006050, 没效果,保留！！\nfold n°1\nTraining until validation scores don't improve for 100 rounds."
     ]
    },
    {
     "name": "stdout",
     "output_type": "stream",
     "text": [
      "\nEarly stopping, best iteration is:\n[140]\ttraining's l2: 6.96297e-05\tvalid_1's l2: 0.000129909\nfold n°2\nTraining until validation scores don't improve for 100 rounds.\n"
     ]
    },
    {
     "name": "stdout",
     "output_type": "stream",
     "text": [
      "Early stopping, best iteration is:\n[242]\ttraining's l2: 5.28835e-05\tvalid_1's l2: 0.000133651\nfold n°3\nTraining until validation scores don't improve for 100 rounds.\n"
     ]
    },
    {
     "name": "stdout",
     "output_type": "stream",
     "text": [
      "Early stopping, best iteration is:\n[473]\ttraining's l2: 4.27075e-05\tvalid_1's l2: 0.000105914\nfold n°4\nTraining until validation scores don't improve for 100 rounds.\n"
     ]
    },
    {
     "name": "stdout",
     "output_type": "stream",
     "text": [
      "Early stopping, best iteration is:\n[178]\ttraining's l2: 6.56567e-05\tvalid_1's l2: 0.000101596\nfold n°5\nTraining until validation scores don't improve for 100 rounds.\nEarly stopping, best iteration is:\n[175]\ttraining's l2: 6.34501e-05\tvalid_1's l2: 0.000134614\n----------\n当前移除特征: B14_to_B5_intTarget_2.0_mean, CV score: 0.00006057, 最佳cv score: 0.00006050, 没效果,保留！！\nfold n°1\nTraining until validation scores don't improve for 100 rounds.\n"
     ]
    },
    {
     "name": "stdout",
     "output_type": "stream",
     "text": [
      "Early stopping, best iteration is:\n[149]\ttraining's l2: 6.81949e-05\tvalid_1's l2: 0.000130373\nfold n°2\nTraining until validation scores don't improve for 100 rounds.\n"
     ]
    },
    {
     "name": "stdout",
     "output_type": "stream",
     "text": [
      "Early stopping, best iteration is:\n[275]\ttraining's l2: 4.95067e-05\tvalid_1's l2: 0.000133331\nfold n°3\nTraining until validation scores don't improve for 100 rounds.\n"
     ]
    },
    {
     "name": "stdout",
     "output_type": "stream",
     "text": [
      "Early stopping, best iteration is:\n[421]\ttraining's l2: 4.60934e-05\tvalid_1's l2: 0.00010682\nfold n°4\nTraining until validation scores don't improve for 100 rounds.\n"
     ]
    },
    {
     "name": "stdout",
     "output_type": "stream",
     "text": [
      "Early stopping, best iteration is:\n[207]\ttraining's l2: 6.1727e-05\tvalid_1's l2: 0.000102561\nfold n°5\nTraining until validation scores don't improve for 100 rounds.\n"
     ]
    },
    {
     "name": "stdout",
     "output_type": "stream",
     "text": [
      "Early stopping, best iteration is:\n[320]\ttraining's l2: 4.79668e-05\tvalid_1's l2: 0.000136504\n----------\n当前移除特征: B14_to_B5_intTarget_3.0_mean, CV score: 0.00006096, 最佳cv score: 0.00006050, 没效果,保留！！\nfold n°1\nTraining until validation scores don't improve for 100 rounds.\nEarly stopping, best iteration is:\n[135]\ttraining's l2: 7.06112e-05\tvalid_1's l2: 0.0001284"
     ]
    },
    {
     "name": "stdout",
     "output_type": "stream",
     "text": [
      "\nfold n°2\nTraining until validation scores don't improve for 100 rounds.\nEarly stopping, best iteration is:\n[241]\ttraining's l2: 5.30241e-05\tvalid_1's l2: 0.00013548"
     ]
    },
    {
     "name": "stdout",
     "output_type": "stream",
     "text": [
      "\nfold n°3\nTraining until validation scores don't improve for 100 rounds.\n"
     ]
    },
    {
     "name": "stdout",
     "output_type": "stream",
     "text": [
      "Early stopping, best iteration is:\n[443]\ttraining's l2: 4.41387e-05\tvalid_1's l2: 0.000107863\nfold n°4\nTraining until validation scores don't improve for 100 rounds.\nEarly stopping, best iteration is:\n[211]\ttraining's l2: 6.05303e-05\tvalid_1's l2: 0.000102803\nfold n°5\nTraining until validation scores don't improve for 100 rounds."
     ]
    },
    {
     "name": "stdout",
     "output_type": "stream",
     "text": [
      "\n"
     ]
    },
    {
     "name": "stdout",
     "output_type": "stream",
     "text": [
      "Early stopping, best iteration is:\n[338]\ttraining's l2: 4.63468e-05\tvalid_1's l2: 0.000135466\n----------\n当前移除特征: B14_to_B5_intTarget_4.0_mean, CV score: 0.00006100, 最佳cv score: 0.00006050, 没效果,保留！！\nfold n°1\nTraining until validation scores don't improve for 100 rounds.\nEarly stopping, best iteration is:\n[156]\ttraining's l2: 6.60162e-05\tvalid_1's l2: 0.000131159\nfold n°2\nTraining until validation scores don't improve for 100 rounds.\n"
     ]
    },
    {
     "name": "stdout",
     "output_type": "stream",
     "text": [
      "Early stopping, best iteration is:\n[287]\ttraining's l2: 4.83787e-05\tvalid_1's l2: 0.000135644\nfold n°3\nTraining until validation scores don't improve for 100 rounds.\n"
     ]
    },
    {
     "name": "stdout",
     "output_type": "stream",
     "text": [
      "Early stopping, best iteration is:\n[428]\ttraining's l2: 4.52463e-05\tvalid_1's l2: 0.000105322\nfold n°4\nTraining until validation scores don't improve for 100 rounds.\n"
     ]
    },
    {
     "name": "stdout",
     "output_type": "stream",
     "text": [
      "Early stopping, best iteration is:\n[211]\ttraining's l2: 6.03001e-05\tvalid_1's l2: 0.000101822\nfold n°5\nTraining until validation scores don't improve for 100 rounds.\nEarly stopping, best iteration is:\n[231]\ttraining's l2: 5.57197e-05\tvalid_1's l2: 0.000135262\n----------"
     ]
    },
    {
     "name": "stdout",
     "output_type": "stream",
     "text": [
      "\n当前移除特征: B14_to_B6_intTarget_0.0_mean, CV score: 0.00006092, 最佳cv score: 0.00006050, 没效果,保留！！\nfold n°1\nTraining until validation scores don't improve for 100 rounds.\nEarly stopping, best iteration is:\n[159]\ttraining's l2: 6.5641e-05\tvalid_1's l2: 0.000130303"
     ]
    },
    {
     "name": "stdout",
     "output_type": "stream",
     "text": [
      "\nfold n°2\nTraining until validation scores don't improve for 100 rounds.\n"
     ]
    },
    {
     "name": "stdout",
     "output_type": "stream",
     "text": [
      "Early stopping, best iteration is:\n[238]\ttraining's l2: 5.32567e-05\tvalid_1's l2: 0.000134983\nfold n°3\nTraining until validation scores don't improve for 100 rounds.\n"
     ]
    },
    {
     "name": "stdout",
     "output_type": "stream",
     "text": [
      "Early stopping, best iteration is:\n[470]\ttraining's l2: 4.29685e-05\tvalid_1's l2: 0.00010628\nfold n°4\nTraining until validation scores don't improve for 100 rounds.\nEarly stopping, best iteration is:\n[182]\ttraining's l2: 6.50653e-05\tvalid_1's l2: 0.000102109"
     ]
    },
    {
     "name": "stdout",
     "output_type": "stream",
     "text": [
      "\nfold n°5\nTraining until validation scores don't improve for 100 rounds.\n"
     ]
    },
    {
     "name": "stdout",
     "output_type": "stream",
     "text": [
      "Early stopping, best iteration is:\n[304]\ttraining's l2: 4.92532e-05\tvalid_1's l2: 0.000135011\n----------\n当前移除特征: B14_to_B6_intTarget_1.0_mean, CV score: 0.00006087, 最佳cv score: 0.00006050, 没效果,保留！！\nfold n°1\nTraining until validation scores don't improve for 100 rounds.\nEarly stopping, best iteration is:\n[137]\ttraining's l2: 7.02975e-05\tvalid_1's l2: 0.00012897\nfold n°2"
     ]
    },
    {
     "name": "stdout",
     "output_type": "stream",
     "text": [
      "\nTraining until validation scores don't improve for 100 rounds.\n"
     ]
    },
    {
     "name": "stdout",
     "output_type": "stream",
     "text": [
      "Early stopping, best iteration is:\n[240]\ttraining's l2: 5.27182e-05\tvalid_1's l2: 0.000136447\nfold n°3\nTraining until validation scores don't improve for 100 rounds.\n"
     ]
    },
    {
     "name": "stdout",
     "output_type": "stream",
     "text": [
      "Early stopping, best iteration is:\n[444]\ttraining's l2: 4.46211e-05\tvalid_1's l2: 0.000104966\nfold n°4\nTraining until validation scores don't improve for 100 rounds.\nEarly stopping, best iteration is:\n[209]\ttraining's l2: 6.05631e-05\tvalid_1's l2: 0.00010226"
     ]
    },
    {
     "name": "stdout",
     "output_type": "stream",
     "text": [
      "\nfold n°5\nTraining until validation scores don't improve for 100 rounds.\n"
     ]
    },
    {
     "name": "stdout",
     "output_type": "stream",
     "text": [
      "Early stopping, best iteration is:\n[286]\ttraining's l2: 5.08222e-05\tvalid_1's l2: 0.000135816\n----------\n当前移除特征: B14_to_B6_intTarget_2.0_mean, CV score: 0.00006085, 最佳cv score: 0.00006050, 没效果,保留！！\nfold n°1\nTraining until validation scores don't improve for 100 rounds.\n"
     ]
    },
    {
     "name": "stdout",
     "output_type": "stream",
     "text": [
      "Early stopping, best iteration is:\n[156]\ttraining's l2: 6.6076e-05\tvalid_1's l2: 0.00012945\nfold n°2\nTraining until validation scores don't improve for 100 rounds.\n"
     ]
    },
    {
     "name": "stdout",
     "output_type": "stream",
     "text": [
      "Early stopping, best iteration is:\n[282]\ttraining's l2: 4.90269e-05\tvalid_1's l2: 0.000134593\nfold n°3\nTraining until validation scores don't improve for 100 rounds.\n"
     ]
    },
    {
     "name": "stdout",
     "output_type": "stream",
     "text": [
      "Early stopping, best iteration is:\n[472]\ttraining's l2: 4.31436e-05\tvalid_1's l2: 0.000108304\nfold n°4\nTraining until validation scores don't improve for 100 rounds.\n"
     ]
    },
    {
     "name": "stdout",
     "output_type": "stream",
     "text": [
      "Early stopping, best iteration is:\n[217]\ttraining's l2: 5.95237e-05\tvalid_1's l2: 0.000101082\nfold n°5\nTraining until validation scores don't improve for 100 rounds.\n"
     ]
    },
    {
     "name": "stdout",
     "output_type": "stream",
     "text": [
      "Early stopping, best iteration is:\n[218]\ttraining's l2: 5.75137e-05\tvalid_1's l2: 0.00013436\n----------\n当前移除特征: B14_to_B6_intTarget_3.0_mean, CV score: 0.00006078, 最佳cv score: 0.00006050, 没效果,保留！！\nfold n°1\nTraining until validation scores don't improve for 100 rounds.\nEarly stopping, best iteration is:\n[163]\ttraining's l2: 6.41192e-05\tvalid_1's l2: 0.000129124\nfold n°2\nTraining until validation scores don't improve for 100 rounds."
     ]
    },
    {
     "name": "stdout",
     "output_type": "stream",
     "text": [
      "\n"
     ]
    },
    {
     "name": "stdout",
     "output_type": "stream",
     "text": [
      "Early stopping, best iteration is:\n[253]\ttraining's l2: 5.11479e-05\tvalid_1's l2: 0.000132854\nfold n°3\nTraining until validation scores don't improve for 100 rounds.\n"
     ]
    },
    {
     "name": "stdout",
     "output_type": "stream",
     "text": [
      "Early stopping, best iteration is:\n[454]\ttraining's l2: 4.39243e-05\tvalid_1's l2: 0.000105629\nfold n°4\nTraining until validation scores don't improve for 100 rounds.\nEarly stopping, best iteration is:\n[177]\ttraining's l2: 6.54322e-05\tvalid_1's l2: 0.000103481\nfold n°5\nTraining until validation scores don't improve for 100 rounds."
     ]
    },
    {
     "name": "stdout",
     "output_type": "stream",
     "text": [
      "\nEarly stopping, best iteration is:\n[238]\ttraining's l2: 5.49712e-05\tvalid_1's l2: 0.000137525\n----------"
     ]
    },
    {
     "name": "stdout",
     "output_type": "stream",
     "text": [
      "\n当前移除特征: B14_to_B6_intTarget_4.0_mean, CV score: 0.00006086, 最佳cv score: 0.00006050, 没效果,保留！！\nfold n°1\nTraining until validation scores don't improve for 100 rounds.\nEarly stopping, best iteration is:\n[160]\ttraining's l2: 6.47134e-05\tvalid_1's l2: 0.000129312\nfold n°2\nTraining until validation scores don't improve for 100 rounds.\n"
     ]
    },
    {
     "name": "stdout",
     "output_type": "stream",
     "text": [
      "Early stopping, best iteration is:\n[284]\ttraining's l2: 4.84216e-05\tvalid_1's l2: 0.00013331\nfold n°3\nTraining until validation scores don't improve for 100 rounds.\n"
     ]
    },
    {
     "name": "stdout",
     "output_type": "stream",
     "text": [
      "Early stopping, best iteration is:\n[443]\ttraining's l2: 4.47734e-05\tvalid_1's l2: 0.000106409\nfold n°4\nTraining until validation scores don't improve for 100 rounds.\nEarly stopping, best iteration is:\n[207]\ttraining's l2: 6.07636e-05\tvalid_1's l2: 0.000104952\nfold n°5"
     ]
    },
    {
     "name": "stdout",
     "output_type": "stream",
     "text": [
      "\nTraining until validation scores don't improve for 100 rounds.\nEarly stopping, best iteration is:\n[271]\ttraining's l2: 5.19588e-05\tvalid_1's l2: 0.000134843"
     ]
    },
    {
     "name": "stdout",
     "output_type": "stream",
     "text": [
      "\n----------\n当前移除特征: B14_to_B7_intTarget_0.0_mean, CV score: 0.00006089, 最佳cv score: 0.00006050, 没效果,保留！！\nfold n°1\nTraining until validation scores don't improve for 100 rounds.\nEarly stopping, best iteration is:\n[140]\ttraining's l2: 6.95701e-05\tvalid_1's l2: 0.00012971\nfold n°2"
     ]
    },
    {
     "name": "stdout",
     "output_type": "stream",
     "text": [
      "\nTraining until validation scores don't improve for 100 rounds.\nEarly stopping, best iteration is:\n[243]\ttraining's l2: 5.23023e-05\tvalid_1's l2: 0.000133906"
     ]
    },
    {
     "name": "stdout",
     "output_type": "stream",
     "text": [
      "\nfold n°3\nTraining until validation scores don't improve for 100 rounds.\n"
     ]
    },
    {
     "name": "stdout",
     "output_type": "stream",
     "text": [
      "Early stopping, best iteration is:\n[439]\ttraining's l2: 4.49223e-05\tvalid_1's l2: 0.000107161\nfold n°4\nTraining until validation scores don't improve for 100 rounds.\nEarly stopping, best iteration is:\n[211]\ttraining's l2: 6.07131e-05\tvalid_1's l2: 0.000101123"
     ]
    },
    {
     "name": "stdout",
     "output_type": "stream",
     "text": [
      "\nfold n°5\nTraining until validation scores don't improve for 100 rounds.\n"
     ]
    },
    {
     "name": "stdout",
     "output_type": "stream",
     "text": [
      "Early stopping, best iteration is:\n[240]\ttraining's l2: 5.47297e-05\tvalid_1's l2: 0.000137944\n----------\n当前移除特征: B14_to_B7_intTarget_1.0_mean, CV score: 0.00006099, 最佳cv score: 0.00006050, 没效果,保留！！\nfold n°1\nTraining until validation scores don't improve for 100 rounds.\nEarly stopping, best iteration is:\n[132]\ttraining's l2: 7.13972e-05\tvalid_1's l2: 0.00012948\nfold n°2\nTraining until validation scores don't improve for 100 rounds."
     ]
    },
    {
     "name": "stdout",
     "output_type": "stream",
     "text": [
      "\nEarly stopping, best iteration is:\n[241]\ttraining's l2: 5.23884e-05\tvalid_1's l2: 0.000132922"
     ]
    },
    {
     "name": "stdout",
     "output_type": "stream",
     "text": [
      "\nfold n°3\nTraining until validation scores don't improve for 100 rounds.\n"
     ]
    },
    {
     "name": "stdout",
     "output_type": "stream",
     "text": [
      "Early stopping, best iteration is:\n[338]\ttraining's l2: 5.0668e-05\tvalid_1's l2: 0.000109627\nfold n°4\nTraining until validation scores don't improve for 100 rounds.\nEarly stopping, best iteration is:\n[150]\ttraining's l2: 7.13549e-05\tvalid_1's l2: 0.000101815\nfold n°5\nTraining until validation scores don't improve for 100 rounds."
     ]
    },
    {
     "name": "stdout",
     "output_type": "stream",
     "text": [
      "\nEarly stopping, best iteration is:\n[237]\ttraining's l2: 5.51206e-05\tvalid_1's l2: 0.000137721\n----------"
     ]
    },
    {
     "name": "stdout",
     "output_type": "stream",
     "text": [
      "\n当前移除特征: B14_to_B7_intTarget_2.0_mean, CV score: 0.00006116, 最佳cv score: 0.00006050, 没效果,保留！！\nfold n°1\nTraining until validation scores don't improve for 100 rounds.\nEarly stopping, best iteration is:\n[131]\ttraining's l2: 7.18093e-05\tvalid_1's l2: 0.000128129\nfold n°2\nTraining until validation scores don't improve for 100 rounds.\n"
     ]
    },
    {
     "name": "stdout",
     "output_type": "stream",
     "text": [
      "Early stopping, best iteration is:\n[236]\ttraining's l2: 5.33625e-05\tvalid_1's l2: 0.000133409\nfold n°3\nTraining until validation scores don't improve for 100 rounds.\n"
     ]
    },
    {
     "name": "stdout",
     "output_type": "stream",
     "text": [
      "Early stopping, best iteration is:\n[336]\ttraining's l2: 5.09408e-05\tvalid_1's l2: 0.000108481\nfold n°4\nTraining until validation scores don't improve for 100 rounds.\nEarly stopping, best iteration is:\n[192]\ttraining's l2: 6.36187e-05\tvalid_1's l2: 0.000103897\nfold n°5\nTraining until validation scores don't improve for 100 rounds.\n"
     ]
    },
    {
     "name": "stdout",
     "output_type": "stream",
     "text": [
      "Early stopping, best iteration is:\n[231]\ttraining's l2: 5.5773e-05\tvalid_1's l2: 0.000137415\n----------\n当前移除特征: B14_to_B7_intTarget_3.0_mean, CV score: 0.00006114, 最佳cv score: 0.00006050, 没效果,保留！！\nfold n°1\nTraining until validation scores don't improve for 100 rounds.\n"
     ]
    },
    {
     "name": "stdout",
     "output_type": "stream",
     "text": [
      "Early stopping, best iteration is:\n[182]\ttraining's l2: 6.2319e-05\tvalid_1's l2: 0.000131025\nfold n°2\nTraining until validation scores don't improve for 100 rounds.\n"
     ]
    },
    {
     "name": "stdout",
     "output_type": "stream",
     "text": [
      "Early stopping, best iteration is:\n[277]\ttraining's l2: 4.99371e-05\tvalid_1's l2: 0.000131868\nfold n°3\nTraining until validation scores don't improve for 100 rounds.\n"
     ]
    },
    {
     "name": "stdout",
     "output_type": "stream",
     "text": [
      "Early stopping, best iteration is:\n[472]\ttraining's l2: 4.32244e-05\tvalid_1's l2: 0.000117168\nfold n°4\nTraining until validation scores don't improve for 100 rounds.\nEarly stopping, best iteration is:\n[215]\ttraining's l2: 6.10227e-05\tvalid_1's l2: 0.000115944"
     ]
    },
    {
     "name": "stdout",
     "output_type": "stream",
     "text": [
      "\nfold n°5\nTraining until validation scores don't improve for 100 rounds.\n"
     ]
    },
    {
     "name": "stdout",
     "output_type": "stream",
     "text": [
      "Early stopping, best iteration is:\n[283]\ttraining's l2: 5.15089e-05\tvalid_1's l2: 0.000146488\n----------\n当前移除特征: B14_to_B7_intTarget_4.0_mean, CV score: 0.00006425, 最佳cv score: 0.00006050, 没效果,保留！！\nfold n°1\nTraining until validation scores don't improve for 100 rounds.\nEarly stopping, best iteration is:\n[145]\ttraining's l2: 6.80264e-05\tvalid_1's l2: 0.000128377"
     ]
    },
    {
     "name": "stdout",
     "output_type": "stream",
     "text": [
      "\nfold n°2\nTraining until validation scores don't improve for 100 rounds.\n"
     ]
    },
    {
     "name": "stdout",
     "output_type": "stream",
     "text": [
      "Early stopping, best iteration is:\n[284]\ttraining's l2: 4.77082e-05\tvalid_1's l2: 0.000133775\nfold n°3\nTraining until validation scores don't improve for 100 rounds.\n"
     ]
    },
    {
     "name": "stdout",
     "output_type": "stream",
     "text": [
      "Early stopping, best iteration is:\n[406]\ttraining's l2: 4.61892e-05\tvalid_1's l2: 0.000107907\nfold n°4\nTraining until validation scores don't improve for 100 rounds.\nEarly stopping, best iteration is:\n[189]\ttraining's l2: 6.43028e-05\tvalid_1's l2: 0.000103118\nfold n°5"
     ]
    },
    {
     "name": "stdout",
     "output_type": "stream",
     "text": [
      "\nTraining until validation scores don't improve for 100 rounds.\n"
     ]
    },
    {
     "name": "stdout",
     "output_type": "stream",
     "text": [
      "Early stopping, best iteration is:\n[240]\ttraining's l2: 5.50181e-05\tvalid_1's l2: 0.00013737\n----------\n当前移除特征: B14_to_B8_intTarget_0.0_mean, CV score: 0.00006106, 最佳cv score: 0.00006050, 没效果,保留！！\nfold n°1\nTraining until validation scores don't improve for 100 rounds.\nEarly stopping, best iteration is:\n[149]\ttraining's l2: 6.66775e-05\tvalid_1's l2: 0.000129278\nfold n°2\nTraining until validation scores don't improve for 100 rounds.\n"
     ]
    },
    {
     "name": "stdout",
     "output_type": "stream",
     "text": [
      "Early stopping, best iteration is:\n[298]\ttraining's l2: 4.71133e-05\tvalid_1's l2: 0.000135159\nfold n°3\nTraining until validation scores don't improve for 100 rounds.\n"
     ]
    },
    {
     "name": "stdout",
     "output_type": "stream",
     "text": [
      "Early stopping, best iteration is:\n[428]\ttraining's l2: 4.50903e-05\tvalid_1's l2: 0.000108139\nfold n°4\nTraining until validation scores don't improve for 100 rounds.\nEarly stopping, best iteration is:\n[208]\ttraining's l2: 6.08505e-05\tvalid_1's l2: 0.000104974\nfold n°5\n"
     ]
    },
    {
     "name": "stdout",
     "output_type": "stream",
     "text": [
      "Training until validation scores don't improve for 100 rounds.\nEarly stopping, best iteration is:\n[194]\ttraining's l2: 6.09167e-05\tvalid_1's l2: 0.000134663\n----------\n当前移除特征: B14_to_B8_intTarget_1.0_mean, CV score: 0.00006122, 最佳cv score: 0.00006050, 没效果,保留！！\nfold n°1\nTraining until validation scores don't improve for 100 rounds.\n"
     ]
    },
    {
     "name": "stdout",
     "output_type": "stream",
     "text": [
      "Early stopping, best iteration is:\n[156]\ttraining's l2: 6.62306e-05\tvalid_1's l2: 0.000131581\nfold n°2\nTraining until validation scores don't improve for 100 rounds.\n"
     ]
    },
    {
     "name": "stdout",
     "output_type": "stream",
     "text": [
      "Early stopping, best iteration is:\n[222]\ttraining's l2: 5.48751e-05\tvalid_1's l2: 0.000134434\nfold n°3\nTraining until validation scores don't improve for 100 rounds.\n"
     ]
    },
    {
     "name": "stdout",
     "output_type": "stream",
     "text": [
      "Early stopping, best iteration is:\n[503]\ttraining's l2: 4.18986e-05\tvalid_1's l2: 0.000108047\nfold n°4\nTraining until validation scores don't improve for 100 rounds.\nEarly stopping, best iteration is:\n[169]\ttraining's l2: 6.73673e-05\tvalid_1's l2: 0.000102991\nfold n°5"
     ]
    },
    {
     "name": "stdout",
     "output_type": "stream",
     "text": [
      "\nTraining until validation scores don't improve for 100 rounds.\n"
     ]
    },
    {
     "name": "stdout",
     "output_type": "stream",
     "text": [
      "Early stopping, best iteration is:\n[242]\ttraining's l2: 5.46986e-05\tvalid_1's l2: 0.000135267\n----------\n当前移除特征: B14_to_B8_intTarget_2.0_mean, CV score: 0.00006124, 最佳cv score: 0.00006050, 没效果,保留！！\nfold n°1\nTraining until validation scores don't improve for 100 rounds.\nEarly stopping, best iteration is:\n[146]\ttraining's l2: 6.79484e-05\tvalid_1's l2: 0.000130474"
     ]
    },
    {
     "name": "stdout",
     "output_type": "stream",
     "text": [
      "\nfold n°2\nTraining until validation scores don't improve for 100 rounds.\n"
     ]
    },
    {
     "name": "stdout",
     "output_type": "stream",
     "text": [
      "Early stopping, best iteration is:\n[297]\ttraining's l2: 4.77195e-05\tvalid_1's l2: 0.000134959\nfold n°3\nTraining until validation scores don't improve for 100 rounds.\n"
     ]
    },
    {
     "name": "stdout",
     "output_type": "stream",
     "text": [
      "Early stopping, best iteration is:\n[336]\ttraining's l2: 5.11603e-05\tvalid_1's l2: 0.000108225\nfold n°4\nTraining until validation scores don't improve for 100 rounds.\nEarly stopping, best iteration is:\n[207]\ttraining's l2: 6.09825e-05\tvalid_1's l2: 0.000101685\nfold n°5"
     ]
    },
    {
     "name": "stdout",
     "output_type": "stream",
     "text": [
      "\nTraining until validation scores don't improve for 100 rounds.\n"
     ]
    },
    {
     "name": "stdout",
     "output_type": "stream",
     "text": [
      "Early stopping, best iteration is:\n[282]\ttraining's l2: 5.07973e-05\tvalid_1's l2: 0.000136183\n----------\n当前移除特征: B14_to_B8_intTarget_3.0_mean, CV score: 0.00006116, 最佳cv score: 0.00006050, 没效果,保留！！\nfold n°1\nTraining until validation scores don't improve for 100 rounds.\nEarly stopping, best iteration is:\n[146]\ttraining's l2: 6.7885e-05\tvalid_1's l2: 0.000128525\nfold n°2"
     ]
    },
    {
     "name": "stdout",
     "output_type": "stream",
     "text": [
      "\nTraining until validation scores don't improve for 100 rounds.\nEarly stopping, best iteration is:\n[209]\ttraining's l2: 5.63857e-05\tvalid_1's l2: 0.000133269\nfold n°3\nTraining until validation scores don't improve for 100 rounds.\n"
     ]
    },
    {
     "name": "stdout",
     "output_type": "stream",
     "text": [
      "Early stopping, best iteration is:\n[454]\ttraining's l2: 4.37995e-05\tvalid_1's l2: 0.000107527\nfold n°4\nTraining until validation scores don't improve for 100 rounds.\nEarly stopping, best iteration is:\n[177]\ttraining's l2: 6.54847e-05\tvalid_1's l2: 0.000101554\nfold n°5\nTraining until validation scores don't improve for 100 rounds.\n"
     ]
    },
    {
     "name": "stdout",
     "output_type": "stream",
     "text": [
      "Early stopping, best iteration is:\n[185]\ttraining's l2: 6.1726e-05\tvalid_1's l2: 0.000137024\n----------\n当前移除特征: B14_to_B8_intTarget_4.0_mean, CV score: 0.00006079, 最佳cv score: 0.00006050, 没效果,保留！！\nfold n°1\nTraining until validation scores don't improve for 100 rounds.\nEarly stopping, best iteration is:\n[138]\ttraining's l2: 6.9603e-05\tvalid_1's l2: 0.000130979\nfold n°2\nTraining until validation scores don't improve for 100 rounds."
     ]
    },
    {
     "name": "stdout",
     "output_type": "stream",
     "text": [
      "\nEarly stopping, best iteration is:\n[297]\ttraining's l2: 4.7602e-05\tvalid_1's l2: 0.000135423"
     ]
    },
    {
     "name": "stdout",
     "output_type": "stream",
     "text": [
      "\nfold n°3\nTraining until validation scores don't improve for 100 rounds.\n"
     ]
    },
    {
     "name": "stdout",
     "output_type": "stream",
     "text": [
      "Early stopping, best iteration is:\n[406]\ttraining's l2: 4.68525e-05\tvalid_1's l2: 0.000106638\nfold n°4\nTraining until validation scores don't improve for 100 rounds.\nEarly stopping, best iteration is:\n[209]\ttraining's l2: 6.11444e-05\tvalid_1's l2: 0.000103784\nfold n°5\nTraining until validation scores don't improve for 100 rounds."
     ]
    },
    {
     "name": "stdout",
     "output_type": "stream",
     "text": [
      "\n"
     ]
    },
    {
     "name": "stdout",
     "output_type": "stream",
     "text": [
      "Early stopping, best iteration is:\n[326]\ttraining's l2: 4.75579e-05\tvalid_1's l2: 0.000136215\n----------\n当前移除特征: B14_to_B14_intTarget_0.0_mean, CV score: 0.00006131, 最佳cv score: 0.00006050, 没效果,保留！！\nfold n°1\nTraining until validation scores don't improve for 100 rounds.\nEarly stopping, best iteration is:\n[142]\ttraining's l2: 6.83327e-05\tvalid_1's l2: 0.000130487\nfold n°2\nTraining until validation scores don't improve for 100 rounds.\n"
     ]
    },
    {
     "name": "stdout",
     "output_type": "stream",
     "text": [
      "Early stopping, best iteration is:\n[284]\ttraining's l2: 4.84924e-05\tvalid_1's l2: 0.000133375\nfold n°3\nTraining until validation scores don't improve for 100 rounds.\n"
     ]
    },
    {
     "name": "stdout",
     "output_type": "stream",
     "text": [
      "Early stopping, best iteration is:\n[441]\ttraining's l2: 4.44695e-05\tvalid_1's l2: 0.000108123\nfold n°4\nTraining until validation scores don't improve for 100 rounds.\nEarly stopping, best iteration is:\n[224]\ttraining's l2: 5.84973e-05\tvalid_1's l2: 0.000102867"
     ]
    },
    {
     "name": "stdout",
     "output_type": "stream",
     "text": [
      "\nfold n°5\nTraining until validation scores don't improve for 100 rounds.\n"
     ]
    },
    {
     "name": "stdout",
     "output_type": "stream",
     "text": [
      "Early stopping, best iteration is:\n[202]\ttraining's l2: 5.95054e-05\tvalid_1's l2: 0.000134696\n----------\n当前移除特征: B14_to_B14_intTarget_1.0_mean, CV score: 0.00006096, 最佳cv score: 0.00006050, 没效果,保留！！\nfold n°1\nTraining until validation scores don't improve for 100 rounds.\nEarly stopping, best iteration is:\n[138]\ttraining's l2: 7.01981e-05\tvalid_1's l2: 0.000130977\nfold n°2\nTraining until validation scores don't improve for 100 rounds.\n"
     ]
    },
    {
     "name": "stdout",
     "output_type": "stream",
     "text": [
      "Early stopping, best iteration is:\n[337]\ttraining's l2: 4.4747e-05\tvalid_1's l2: 0.000134969\nfold n°3\nTraining until validation scores don't improve for 100 rounds.\n"
     ]
    },
    {
     "name": "stdout",
     "output_type": "stream",
     "text": [
      "Early stopping, best iteration is:\n[498]\ttraining's l2: 4.22184e-05\tvalid_1's l2: 0.000108913\nfold n°4\nTraining until validation scores don't improve for 100 rounds.\nEarly stopping, best iteration is:\n[180]\ttraining's l2: 6.4683e-05\tvalid_1's l2: 0.000101489"
     ]
    },
    {
     "name": "stdout",
     "output_type": "stream",
     "text": [
      "\nfold n°5\nTraining until validation scores don't improve for 100 rounds.\n"
     ]
    },
    {
     "name": "stdout",
     "output_type": "stream",
     "text": [
      "Early stopping, best iteration is:\n[260]\ttraining's l2: 5.21538e-05\tvalid_1's l2: 0.000134214\n----------\n当前移除特征: B14_to_B14_intTarget_2.0_mean, CV score: 0.00006106, 最佳cv score: 0.00006050, 没效果,保留！！\nfold n°1\nTraining until validation scores don't improve for 100 rounds.\nEarly stopping, best iteration is:\n[160]\ttraining's l2: 6.50598e-05\tvalid_1's l2: 0.000130342\nfold n°2\nTraining until validation scores don't improve for 100 rounds.\n"
     ]
    },
    {
     "name": "stdout",
     "output_type": "stream",
     "text": [
      "Early stopping, best iteration is:\n[241]\ttraining's l2: 5.31105e-05\tvalid_1's l2: 0.000133342\nfold n°3\nTraining until validation scores don't improve for 100 rounds.\n"
     ]
    },
    {
     "name": "stdout",
     "output_type": "stream",
     "text": [
      "Early stopping, best iteration is:\n[452]\ttraining's l2: 4.43326e-05\tvalid_1's l2: 0.000108536\nfold n°4\nTraining until validation scores don't improve for 100 rounds.\n"
     ]
    },
    {
     "name": "stdout",
     "output_type": "stream",
     "text": [
      "Early stopping, best iteration is:\n[211]\ttraining's l2: 6.00937e-05\tvalid_1's l2: 0.000101694\nfold n°5\nTraining until validation scores don't improve for 100 rounds.\n"
     ]
    },
    {
     "name": "stdout",
     "output_type": "stream",
     "text": [
      "Early stopping, best iteration is:\n[278]\ttraining's l2: 5.16069e-05\tvalid_1's l2: 0.000134155\n----------\n当前移除特征: B14_to_B14_intTarget_3.0_mean, CV score: 0.00006081, 最佳cv score: 0.00006050, 没效果,保留！！\nfold n°1\nTraining until validation scores don't improve for 100 rounds.\nEarly stopping, best iteration is:\n[139]\ttraining's l2: 7.05883e-05\tvalid_1's l2: 0.000130467\n"
     ]
    },
    {
     "name": "stdout",
     "output_type": "stream",
     "text": [
      "fold n°2\nTraining until validation scores don't improve for 100 rounds.\nEarly stopping, best iteration is:\n[266]\ttraining's l2: 5.07467e-05\tvalid_1's l2: 0.000131431\nfold n°3"
     ]
    },
    {
     "name": "stdout",
     "output_type": "stream",
     "text": [
      "\nTraining until validation scores don't improve for 100 rounds.\n"
     ]
    },
    {
     "name": "stdout",
     "output_type": "stream",
     "text": [
      "Early stopping, best iteration is:\n[426]\ttraining's l2: 4.54842e-05\tvalid_1's l2: 0.000105837\nfold n°4\nTraining until validation scores don't improve for 100 rounds.\n"
     ]
    },
    {
     "name": "stdout",
     "output_type": "stream",
     "text": [
      "Early stopping, best iteration is:\n[211]\ttraining's l2: 6.10615e-05\tvalid_1's l2: 0.000101103\nfold n°5\nTraining until validation scores don't improve for 100 rounds.\nEarly stopping, best iteration is:\n[239]\ttraining's l2: 5.53814e-05\tvalid_1's l2: 0.000134093"
     ]
    },
    {
     "name": "stdout",
     "output_type": "stream",
     "text": [
      "\n----------\n当前移除特征: B14_to_B14_intTarget_4.0_mean, CV score: 0.00006030, 最佳cv score: 0.00006050, 有效果,删除！！\n----------\n优化后CV score: 0.00006030\n"
     ]
    }
   ],
   "source": [
    "def featureSelect(init_cols):\n",
    "    params = {'num_leaves': 120,\n",
    "             'min_data_in_leaf': 30, \n",
    "             'objective':'regression',\n",
    "             'max_depth': -1,\n",
    "             'learning_rate': 0.05,\n",
    "             \"min_child_samples\": 30,\n",
    "             \"boosting\": \"gbdt\",\n",
    "             \"feature_fraction\": 0.9,\n",
    "             \"bagging_freq\": 1,\n",
    "             \"bagging_fraction\": 0.9 ,\n",
    "             \"bagging_seed\": 11,\n",
    "             \"metric\": 'mse',\n",
    "             \"lambda_l1\": 0.02,\n",
    "             \"verbosity\": -1}\n",
    "    best_cols = init_cols.copy()\n",
    "    best_score = modeling_cross_validation(params, train[init_cols].values, target.values, nr_folds=5)\n",
    "    print(\"初始CV score: {:<8.8f}\".format(best_score))\n",
    "    for f in init_cols:\n",
    "\n",
    "        best_cols.remove(f)\n",
    "        score = modeling_cross_validation(params, train[best_cols].values, target.values, nr_folds=5)\n",
    "        diff = best_score - score\n",
    "        print('-'*10)\n",
    "        if diff > 0.00000002:\n",
    "            print(\"当前移除特征: {}, CV score: {:<8.8f}, 最佳cv score: {:<8.8f}, 有效果,删除！！\".format(f,score,best_score))\n",
    "            best_score = score\n",
    "        else:\n",
    "            print(\"当前移除特征: {}, CV score: {:<8.8f}, 最佳cv score: {:<8.8f}, 没效果,保留！！\".format(f,score,best_score))\n",
    "            best_cols.append(f)\n",
    "    print('-'*10)\n",
    "    print(\"优化后CV score: {:<8.8f}\".format(best_score))\n",
    "    \n",
    "    return best_cols\n",
    "    \n",
    "best_features = featureSelect(train.columns.tolist())"
   ]
  },
  {
   "cell_type": "code",
   "execution_count": 189,
   "metadata": {},
   "outputs": [
    {
     "data": {
      "text/plain": [
       "['样本id',\n 'A5',\n 'A7',\n 'A9',\n 'A10',\n 'A11',\n 'A12',\n 'A14',\n 'A15',\n 'A16',\n 'A17',\n 'A19',\n 'A20',\n 'A21',\n 'A22',\n 'A24',\n 'A25',\n 'A26',\n 'A27',\n 'A28',\n 'B1',\n 'B4',\n 'B5',\n 'B8',\n 'B10',\n 'B11',\n 'B12',\n 'B14',\n 'b14/a1_a3_a4_a19_b1_b12',\n 'B14_to_A5_intTarget_0.0_mean',\n 'B14_to_A5_intTarget_1.0_mean',\n 'B14_to_A5_intTarget_2.0_mean',\n 'B14_to_A5_intTarget_4.0_mean',\n 'B14_to_A6_intTarget_0.0_mean',\n 'B14_to_A6_intTarget_1.0_mean',\n 'B14_to_A6_intTarget_2.0_mean',\n 'B14_to_A6_intTarget_3.0_mean',\n 'B14_to_A6_intTarget_4.0_mean',\n 'B14_to_A7_intTarget_0.0_mean',\n 'B14_to_A7_intTarget_1.0_mean',\n 'B14_to_A7_intTarget_2.0_mean',\n 'B14_to_A7_intTarget_3.0_mean',\n 'B14_to_A7_intTarget_4.0_mean',\n 'B14_to_A9_intTarget_0.0_mean',\n 'B14_to_A9_intTarget_1.0_mean',\n 'B14_to_A9_intTarget_2.0_mean',\n 'B14_to_A9_intTarget_3.0_mean',\n 'B14_to_A9_intTarget_4.0_mean',\n 'B14_to_A11_intTarget_0.0_mean',\n 'B14_to_A11_intTarget_1.0_mean',\n 'B14_to_A11_intTarget_2.0_mean',\n 'B14_to_A11_intTarget_3.0_mean',\n 'B14_to_A11_intTarget_4.0_mean',\n 'B14_to_A14_intTarget_0.0_mean',\n 'B14_to_A14_intTarget_1.0_mean',\n 'B14_to_A14_intTarget_2.0_mean',\n 'B14_to_A14_intTarget_3.0_mean',\n 'B14_to_A14_intTarget_4.0_mean',\n 'B14_to_A16_intTarget_0.0_mean',\n 'B14_to_A16_intTarget_1.0_mean',\n 'B14_to_A16_intTarget_2.0_mean',\n 'B14_to_A16_intTarget_3.0_mean',\n 'B14_to_A16_intTarget_4.0_mean',\n 'B14_to_A24_intTarget_0.0_mean',\n 'B14_to_A24_intTarget_1.0_mean',\n 'B14_to_A24_intTarget_2.0_mean',\n 'B14_to_A24_intTarget_3.0_mean',\n 'B14_to_A24_intTarget_4.0_mean',\n 'B14_to_A26_intTarget_0.0_mean',\n 'B14_to_A26_intTarget_1.0_mean',\n 'B14_to_A26_intTarget_2.0_mean',\n 'B14_to_A26_intTarget_3.0_mean',\n 'B14_to_A26_intTarget_4.0_mean',\n 'B14_to_B1_intTarget_0.0_mean',\n 'B14_to_B1_intTarget_1.0_mean',\n 'B14_to_B1_intTarget_2.0_mean',\n 'B14_to_B1_intTarget_3.0_mean',\n 'B14_to_B1_intTarget_4.0_mean',\n 'B14_to_B5_intTarget_0.0_mean',\n 'B14_to_B5_intTarget_1.0_mean',\n 'B14_to_B5_intTarget_2.0_mean',\n 'B14_to_B5_intTarget_3.0_mean',\n 'B14_to_B5_intTarget_4.0_mean',\n 'B14_to_B6_intTarget_0.0_mean',\n 'B14_to_B6_intTarget_1.0_mean',\n 'B14_to_B6_intTarget_2.0_mean',\n 'B14_to_B6_intTarget_3.0_mean',\n 'B14_to_B6_intTarget_4.0_mean',\n 'B14_to_B7_intTarget_0.0_mean',\n 'B14_to_B7_intTarget_1.0_mean',\n 'B14_to_B7_intTarget_2.0_mean',\n 'B14_to_B7_intTarget_3.0_mean',\n 'B14_to_B7_intTarget_4.0_mean',\n 'B14_to_B8_intTarget_0.0_mean',\n 'B14_to_B8_intTarget_1.0_mean',\n 'B14_to_B8_intTarget_2.0_mean',\n 'B14_to_B8_intTarget_3.0_mean',\n 'B14_to_B8_intTarget_4.0_mean',\n 'B14_to_B14_intTarget_0.0_mean',\n 'B14_to_B14_intTarget_1.0_mean',\n 'B14_to_B14_intTarget_2.0_mean',\n 'B14_to_B14_intTarget_3.0_mean',\n 'B14_to_B14_intTarget_4.0_mean']"
      ]
     },
     "execution_count": 189,
     "metadata": {},
     "output_type": "execute_result"
    }
   ],
   "source": [
    "best_features"
   ]
  },
  {
   "cell_type": "code",
   "execution_count": 194,
   "metadata": {},
   "outputs": [
    {
     "name": "stdout",
     "output_type": "stream",
     "text": [
      "(1381, 1262)\n(150, 1262)\n"
     ]
    }
   ],
   "source": [
    "X_train = train[best_features].values\n",
    "X_test = test[best_features].values\n",
    "# one hot\n",
    "enc = OneHotEncoder()\n",
    "for f in categorical_columns:\n",
    "    enc.fit(data[f].values.reshape(-1, 1))\n",
    "    X_train = sparse.hstack((X_train, enc.transform(train[f].values.reshape(-1, 1))), 'csr')\n",
    "    X_test = sparse.hstack((X_test, enc.transform(test[f].values.reshape(-1, 1))), 'csr')\n",
    "print(X_train.shape)\n",
    "print(X_test.shape)"
   ]
  },
  {
   "cell_type": "code",
   "execution_count": 195,
   "metadata": {},
   "outputs": [
    {
     "name": "stdout",
     "output_type": "stream",
     "text": [
      "fold n°1\nTraining until validation scores don't improve for 100 rounds.\n"
     ]
    },
    {
     "name": "stdout",
     "output_type": "stream",
     "text": [
      "[200]\ttraining's l2: 0.000191213\tvalid_1's l2: 0.000209635\n"
     ]
    },
    {
     "name": "stdout",
     "output_type": "stream",
     "text": [
      "[400]\ttraining's l2: 0.000120603\tvalid_1's l2: 0.000139796\n[600]\ttraining's l2: 0.000100736\tvalid_1's l2: 0.00012278\n"
     ]
    },
    {
     "name": "stdout",
     "output_type": "stream",
     "text": [
      "[800]\ttraining's l2: 9.14471e-05\tvalid_1's l2: 0.000117266\n[1000]\ttraining's l2: 8.57607e-05\tvalid_1's l2: 0.000113971\n"
     ]
    },
    {
     "name": "stdout",
     "output_type": "stream",
     "text": [
      "[1200]\ttraining's l2: 8.19834e-05\tvalid_1's l2: 0.00011223\n"
     ]
    },
    {
     "name": "stdout",
     "output_type": "stream",
     "text": [
      "[1400]\ttraining's l2: 7.94368e-05\tvalid_1's l2: 0.000111239\n"
     ]
    },
    {
     "name": "stdout",
     "output_type": "stream",
     "text": [
      "[1600]\ttraining's l2: 7.73386e-05\tvalid_1's l2: 0.000110355\n[1800]\ttraining's l2: 7.61347e-05\tvalid_1's l2: 0.000109849"
     ]
    },
    {
     "name": "stdout",
     "output_type": "stream",
     "text": [
      "\nEarly stopping, best iteration is:\n[1731]\ttraining's l2: 7.61347e-05\tvalid_1's l2: 0.000109849\n"
     ]
    },
    {
     "name": "stdout",
     "output_type": "stream",
     "text": [
      "fold n°2\nTraining until validation scores don't improve for 100 rounds.\n"
     ]
    },
    {
     "name": "stdout",
     "output_type": "stream",
     "text": [
      "[200]\ttraining's l2: 0.000186094\tvalid_1's l2: 0.000207589\n[400]\ttraining's l2: 0.00011648\tvalid_1's l2: 0.000160139\n"
     ]
    },
    {
     "name": "stdout",
     "output_type": "stream",
     "text": [
      "[600]\ttraining's l2: 9.71042e-05\tvalid_1's l2: 0.000149129\n"
     ]
    },
    {
     "name": "stdout",
     "output_type": "stream",
     "text": [
      "[800]\ttraining's l2: 8.74035e-05\tvalid_1's l2: 0.000145502\n"
     ]
    },
    {
     "name": "stdout",
     "output_type": "stream",
     "text": [
      "[1000]\ttraining's l2: 8.14256e-05\tvalid_1's l2: 0.000143225\n"
     ]
    },
    {
     "name": "stdout",
     "output_type": "stream",
     "text": [
      "[1200]\ttraining's l2: 7.75111e-05\tvalid_1's l2: 0.000141801\n"
     ]
    },
    {
     "name": "stdout",
     "output_type": "stream",
     "text": [
      "[1400]\ttraining's l2: 7.47197e-05\tvalid_1's l2: 0.000140962\n[1600]\ttraining's l2: 7.24658e-05\tvalid_1's l2: 0.000140331\n[1800]\ttraining's l2: 7.0563e-05\tvalid_1's l2: 0.000139765\n"
     ]
    },
    {
     "name": "stdout",
     "output_type": "stream",
     "text": [
      "[2000]\ttraining's l2: 6.90367e-05\tvalid_1's l2: 0.000139375\n[2200]\ttraining's l2: 6.76862e-05\tvalid_1's l2: 0.00013922\nEarly stopping, best iteration is:\n[2170]\ttraining's l2: 6.78842e-05\tvalid_1's l2: 0.000139168\n"
     ]
    },
    {
     "name": "stdout",
     "output_type": "stream",
     "text": [
      "fold n°3\nTraining until validation scores don't improve for 100 rounds.\n[200]\ttraining's l2: 0.000183456\tvalid_1's l2: 0.000233706\n"
     ]
    },
    {
     "name": "stdout",
     "output_type": "stream",
     "text": [
      "[400]\ttraining's l2: 0.000115122\tvalid_1's l2: 0.000163195\n[600]\ttraining's l2: 9.5347e-05\tvalid_1's l2: 0.000146269\n"
     ]
    },
    {
     "name": "stdout",
     "output_type": "stream",
     "text": [
      "[800]\ttraining's l2: 8.67205e-05\tvalid_1's l2: 0.000140652\n[1000]\ttraining's l2: 8.14998e-05\tvalid_1's l2: 0.000137648\n[1200]\ttraining's l2: 7.77901e-05\tvalid_1's l2: 0.000135795\n"
     ]
    },
    {
     "name": "stdout",
     "output_type": "stream",
     "text": [
      "[1400]\ttraining's l2: 7.51392e-05\tvalid_1's l2: 0.000134596\n[1600]\ttraining's l2: 7.3194e-05\tvalid_1's l2: 0.000133631\n[1800]\ttraining's l2: 7.14989e-05\tvalid_1's l2: 0.000132965\n"
     ]
    },
    {
     "name": "stdout",
     "output_type": "stream",
     "text": [
      "[2000]\ttraining's l2: 7.01709e-05\tvalid_1's l2: 0.000132516\n[2200]\ttraining's l2: 6.90782e-05\tvalid_1's l2: 0.000132078\nEarly stopping, best iteration is:\n[2180]\ttraining's l2: 6.90782e-05\tvalid_1's l2: 0.000132078\n"
     ]
    },
    {
     "name": "stdout",
     "output_type": "stream",
     "text": [
      "fold n°4\nTraining until validation scores don't improve for 100 rounds.\n"
     ]
    },
    {
     "name": "stdout",
     "output_type": "stream",
     "text": [
      "[200]\ttraining's l2: 0.000191734\tvalid_1's l2: 0.000205286\n[400]\ttraining's l2: 0.000122291\tvalid_1's l2: 0.000150202\n"
     ]
    },
    {
     "name": "stdout",
     "output_type": "stream",
     "text": [
      "[600]\ttraining's l2: 0.000101639\tvalid_1's l2: 0.000135355\n[800]\ttraining's l2: 9.15589e-05\tvalid_1's l2: 0.000128919\n[1000]\ttraining's l2: 8.51705e-05\tvalid_1's l2: 0.00012582\n"
     ]
    },
    {
     "name": "stdout",
     "output_type": "stream",
     "text": [
      "[1200]\ttraining's l2: 8.0706e-05\tvalid_1's l2: 0.000124087\n[1400]\ttraining's l2: 7.74386e-05\tvalid_1's l2: 0.000122742\n[1600]\ttraining's l2: 7.48714e-05\tvalid_1's l2: 0.000122186\n[1800]\ttraining's l2: 7.27909e-05\tvalid_1's l2: 0.000121795\n"
     ]
    },
    {
     "name": "stdout",
     "output_type": "stream",
     "text": [
      "Early stopping, best iteration is:\n[1889]\ttraining's l2: 7.20074e-05\tvalid_1's l2: 0.000121626\nfold n°5\nTraining until validation scores don't improve for 100 rounds.\n"
     ]
    },
    {
     "name": "stdout",
     "output_type": "stream",
     "text": [
      "[200]\ttraining's l2: 0.000188366\tvalid_1's l2: 0.000206288\n[400]\ttraining's l2: 0.000121439\tvalid_1's l2: 0.000136698\n"
     ]
    },
    {
     "name": "stdout",
     "output_type": "stream",
     "text": [
      "[600]\ttraining's l2: 0.000101273\tvalid_1's l2: 0.000122273\n[800]\ttraining's l2: 9.17945e-05\tvalid_1's l2: 0.000117798\n[1000]\ttraining's l2: 8.60428e-05\tvalid_1's l2: 0.000115925"
     ]
    },
    {
     "name": "stdout",
     "output_type": "stream",
     "text": [
      "\n[1200]\ttraining's l2: 8.20296e-05\tvalid_1's l2: 0.000114774\n[1400]\ttraining's l2: 7.8857e-05\tvalid_1's l2: 0.000114017\n"
     ]
    },
    {
     "name": "stdout",
     "output_type": "stream",
     "text": [
      "[1600]\ttraining's l2: 7.6568e-05\tvalid_1's l2: 0.000113399\n[1800]\ttraining's l2: 7.45792e-05\tvalid_1's l2: 0.000113005\nEarly stopping, best iteration is:\n[1892]\ttraining's l2: 7.37941e-05\tvalid_1's l2: 0.000112765\n"
     ]
    },
    {
     "name": "stdout",
     "output_type": "stream",
     "text": [
      "CV score: 0.00012309\n"
     ]
    }
   ],
   "source": [
    "param = {'num_leaves': 120,\n",
    "         'min_data_in_leaf': 30, \n",
    "         'objective':'regression',\n",
    "         'max_depth': -1,\n",
    "         'learning_rate': 0.01,\n",
    "         \"min_child_samples\": 30,\n",
    "         \"boosting\": \"gbdt\",\n",
    "         \"feature_fraction\": 0.9,\n",
    "         \"bagging_freq\": 1,\n",
    "         \"bagging_fraction\": 0.9 ,\n",
    "         \"bagging_seed\": 11,\n",
    "         \"metric\": 'mse',\n",
    "         \"lambda_l1\": 0.1,\n",
    "         \"verbosity\": -1}\n",
    "folds = KFold(n_splits=5, shuffle=True, random_state=2018)\n",
    "oof_lgb = np.zeros(len(train))\n",
    "predictions_lgb = np.zeros(len(test))\n",
    "\n",
    "for fold_, (trn_idx, val_idx) in enumerate(folds.split(X_train, y_train)):\n",
    "    print(\"fold n°{}\".format(fold_+1))\n",
    "    trn_data = lgb.Dataset(X_train[trn_idx], y_train[trn_idx])\n",
    "    val_data = lgb.Dataset(X_train[val_idx], y_train[val_idx])\n",
    "\n",
    "    num_round = 10000\n",
    "    clf = lgb.train(param, trn_data, num_round, valid_sets = [trn_data, val_data], verbose_eval=200, early_stopping_rounds = 100)\n",
    "    oof_lgb[val_idx] = clf.predict(X_train[val_idx], num_iteration=clf.best_iteration)\n",
    "    \n",
    "    predictions_lgb += clf.predict(X_test, num_iteration=clf.best_iteration) / folds.n_splits\n",
    "\n",
    "print(\"CV score: {:<8.8f}\".format(mean_squared_error(oof_lgb, target)))"
   ]
  },
  {
   "cell_type": "code",
   "execution_count": 197,
   "metadata": {},
   "outputs": [
    {
     "name": "stdout",
     "output_type": "stream",
     "text": [
      "fold n°1\n[0]\ttrain-rmse:0.422932\tvalid_data-rmse:0.423819\n"
     ]
    },
    {
     "name": "stdout",
     "output_type": "stream",
     "text": [
      "Multiple eval metrics have been passed: 'valid_data-rmse' will be used for early stopping.\n\n"
     ]
    },
    {
     "name": "stdout",
     "output_type": "stream",
     "text": [
      "Will train until valid_data-rmse hasn't improved in 200 rounds.\n"
     ]
    },
    {
     "name": "stdout",
     "output_type": "stream",
     "text": [
      "[100]\ttrain-rmse:0.256977\tvalid_data-rmse:0.257702\n"
     ]
    },
    {
     "name": "stdout",
     "output_type": "stream",
     "text": [
      "[200]\ttrain-rmse:0.156576\tvalid_data-rmse:0.15724\n"
     ]
    },
    {
     "name": "stdout",
     "output_type": "stream",
     "text": [
      "[300]\ttrain-rmse:0.095947\tvalid_data-rmse:0.096512\n"
     ]
    },
    {
     "name": "stdout",
     "output_type": "stream",
     "text": [
      "[400]\ttrain-rmse:0.059389\tvalid_data-rmse:0.059938\n"
     ]
    },
    {
     "name": "stdout",
     "output_type": "stream",
     "text": [
      "[500]\ttrain-rmse:0.037345\tvalid_data-rmse:0.038115\n"
     ]
    },
    {
     "name": "stdout",
     "output_type": "stream",
     "text": [
      "[600]\ttrain-rmse:0.02412\tvalid_data-rmse:0.025314\n"
     ]
    },
    {
     "name": "stdout",
     "output_type": "stream",
     "text": [
      "[700]\ttrain-rmse:0.016245\tvalid_data-rmse:0.018095\n"
     ]
    },
    {
     "name": "stdout",
     "output_type": "stream",
     "text": [
      "[800]\ttrain-rmse:0.011623\tvalid_data-rmse:0.014313\n"
     ]
    },
    {
     "name": "stdout",
     "output_type": "stream",
     "text": [
      "[900]\ttrain-rmse:0.008995\tvalid_data-rmse:0.012488\n"
     ]
    },
    {
     "name": "stdout",
     "output_type": "stream",
     "text": [
      "[1000]\ttrain-rmse:0.007504\tvalid_data-rmse:0.01166\n"
     ]
    },
    {
     "name": "stdout",
     "output_type": "stream",
     "text": [
      "[1100]\ttrain-rmse:0.006631\tvalid_data-rmse:0.011292\n"
     ]
    },
    {
     "name": "stdout",
     "output_type": "stream",
     "text": [
      "[1200]\ttrain-rmse:0.006079\tvalid_data-rmse:0.011131\n"
     ]
    },
    {
     "name": "stdout",
     "output_type": "stream",
     "text": [
      "[1300]\ttrain-rmse:0.005682\tvalid_data-rmse:0.011066\n"
     ]
    },
    {
     "name": "stdout",
     "output_type": "stream",
     "text": [
      "[1400]\ttrain-rmse:0.005353\tvalid_data-rmse:0.011034\n"
     ]
    },
    {
     "name": "stdout",
     "output_type": "stream",
     "text": [
      "[1500]\ttrain-rmse:0.005045\tvalid_data-rmse:0.011007\n"
     ]
    },
    {
     "name": "stdout",
     "output_type": "stream",
     "text": [
      "[1600]\ttrain-rmse:0.004786\tvalid_data-rmse:0.011004\n"
     ]
    },
    {
     "name": "stdout",
     "output_type": "stream",
     "text": [
      "[1700]\ttrain-rmse:0.004547\tvalid_data-rmse:0.011006\n"
     ]
    },
    {
     "name": "stdout",
     "output_type": "stream",
     "text": [
      "[1800]\ttrain-rmse:0.004324\tvalid_data-rmse:0.011009\n"
     ]
    },
    {
     "name": "stdout",
     "output_type": "stream",
     "text": [
      "Stopping. Best iteration:\n[1622]\ttrain-rmse:0.004736\tvalid_data-rmse:0.011001\n\n"
     ]
    },
    {
     "name": "stdout",
     "output_type": "stream",
     "text": [
      "fold n°2\n[0]\ttrain-rmse:0.424042\tvalid_data-rmse:0.419362\n"
     ]
    },
    {
     "name": "stdout",
     "output_type": "stream",
     "text": [
      "Multiple eval metrics have been passed: 'valid_data-rmse' will be used for early stopping.\n\n"
     ]
    },
    {
     "name": "stdout",
     "output_type": "stream",
     "text": [
      "Will train until valid_data-rmse hasn't improved in 200 rounds.\n"
     ]
    },
    {
     "name": "stdout",
     "output_type": "stream",
     "text": [
      "[100]\ttrain-rmse:0.257679\tvalid_data-rmse:0.254171\n"
     ]
    },
    {
     "name": "stdout",
     "output_type": "stream",
     "text": [
      "[200]\ttrain-rmse:0.157043\tvalid_data-rmse:0.154363\n"
     ]
    },
    {
     "name": "stdout",
     "output_type": "stream",
     "text": [
      "[300]\ttrain-rmse:0.096195\tvalid_data-rmse:0.093936\n"
     ]
    },
    {
     "name": "stdout",
     "output_type": "stream",
     "text": [
      "[400]\ttrain-rmse:0.059509\tvalid_data-rmse:0.057757\n"
     ]
    },
    {
     "name": "stdout",
     "output_type": "stream",
     "text": [
      "[500]\ttrain-rmse:0.037378\tvalid_data-rmse:0.036308\n"
     ]
    },
    {
     "name": "stdout",
     "output_type": "stream",
     "text": [
      "[600]\ttrain-rmse:0.024073\tvalid_data-rmse:0.02388\n"
     ]
    },
    {
     "name": "stdout",
     "output_type": "stream",
     "text": [
      "[700]\ttrain-rmse:0.016126\tvalid_data-rmse:0.017125\n"
     ]
    },
    {
     "name": "stdout",
     "output_type": "stream",
     "text": [
      "[800]\ttrain-rmse:0.011441\tvalid_data-rmse:0.01377\n"
     ]
    },
    {
     "name": "stdout",
     "output_type": "stream",
     "text": [
      "[900]\ttrain-rmse:0.008751\tvalid_data-rmse:0.012281\n"
     ]
    },
    {
     "name": "stdout",
     "output_type": "stream",
     "text": [
      "[1000]\ttrain-rmse:0.007243\tvalid_data-rmse:0.011679\n"
     ]
    },
    {
     "name": "stdout",
     "output_type": "stream",
     "text": [
      "[1100]\ttrain-rmse:0.006338\tvalid_data-rmse:0.01146\n"
     ]
    },
    {
     "name": "stdout",
     "output_type": "stream",
     "text": [
      "[1200]\ttrain-rmse:0.00578\tvalid_data-rmse:0.011403\n"
     ]
    },
    {
     "name": "stdout",
     "output_type": "stream",
     "text": [
      "[1300]\ttrain-rmse:0.005372\tvalid_data-rmse:0.011399\n"
     ]
    },
    {
     "name": "stdout",
     "output_type": "stream",
     "text": [
      "[1400]\ttrain-rmse:0.005106\tvalid_data-rmse:0.011412\n"
     ]
    },
    {
     "name": "stdout",
     "output_type": "stream",
     "text": [
      "Stopping. Best iteration:\n[1260]\ttrain-rmse:0.005539\tvalid_data-rmse:0.011391\n\n"
     ]
    },
    {
     "name": "stdout",
     "output_type": "stream",
     "text": [
      "fold n°3\n[0]\ttrain-rmse:0.422401\tvalid_data-rmse:0.425951\n"
     ]
    },
    {
     "name": "stdout",
     "output_type": "stream",
     "text": [
      "Multiple eval metrics have been passed: 'valid_data-rmse' will be used for early stopping.\n\n"
     ]
    },
    {
     "name": "stdout",
     "output_type": "stream",
     "text": [
      "Will train until valid_data-rmse hasn't improved in 200 rounds.\n"
     ]
    },
    {
     "name": "stdout",
     "output_type": "stream",
     "text": [
      "[100]\ttrain-rmse:0.256685\tvalid_data-rmse:0.259837\n"
     ]
    },
    {
     "name": "stdout",
     "output_type": "stream",
     "text": [
      "[200]\ttrain-rmse:0.156391\tvalid_data-rmse:0.15923\n"
     ]
    },
    {
     "name": "stdout",
     "output_type": "stream",
     "text": [
      "[300]\ttrain-rmse:0.095788\tvalid_data-rmse:0.098472\n"
     ]
    },
    {
     "name": "stdout",
     "output_type": "stream",
     "text": [
      "[400]\ttrain-rmse:0.059283\tvalid_data-rmse:0.061542\n"
     ]
    },
    {
     "name": "stdout",
     "output_type": "stream",
     "text": [
      "[500]\ttrain-rmse:0.037301\tvalid_data-rmse:0.039083\n"
     ]
    },
    {
     "name": "stdout",
     "output_type": "stream",
     "text": [
      "[600]\ttrain-rmse:0.024051\tvalid_data-rmse:0.025709\n"
     ]
    },
    {
     "name": "stdout",
     "output_type": "stream",
     "text": [
      "[700]\ttrain-rmse:0.01614\tvalid_data-rmse:0.018219\n"
     ]
    },
    {
     "name": "stdout",
     "output_type": "stream",
     "text": [
      "[800]\ttrain-rmse:0.011467\tvalid_data-rmse:0.014339\n"
     ]
    },
    {
     "name": "stdout",
     "output_type": "stream",
     "text": [
      "[900]\ttrain-rmse:0.008769\tvalid_data-rmse:0.012531\n"
     ]
    },
    {
     "name": "stdout",
     "output_type": "stream",
     "text": [
      "[1000]\ttrain-rmse:0.007216\tvalid_data-rmse:0.011778\n"
     ]
    },
    {
     "name": "stdout",
     "output_type": "stream",
     "text": [
      "[1100]\ttrain-rmse:0.006306\tvalid_data-rmse:0.011474\n"
     ]
    },
    {
     "name": "stdout",
     "output_type": "stream",
     "text": [
      "[1200]\ttrain-rmse:0.00576\tvalid_data-rmse:0.01138\n"
     ]
    },
    {
     "name": "stdout",
     "output_type": "stream",
     "text": [
      "[1300]\ttrain-rmse:0.005384\tvalid_data-rmse:0.011357\n"
     ]
    },
    {
     "name": "stdout",
     "output_type": "stream",
     "text": [
      "[1400]\ttrain-rmse:0.005047\tvalid_data-rmse:0.011361\n"
     ]
    },
    {
     "name": "stdout",
     "output_type": "stream",
     "text": [
      "[1500]\ttrain-rmse:0.004807\tvalid_data-rmse:0.011383\n"
     ]
    },
    {
     "name": "stdout",
     "output_type": "stream",
     "text": [
      "Stopping. Best iteration:\n[1328]\ttrain-rmse:0.005276\tvalid_data-rmse:0.011352\n\n"
     ]
    },
    {
     "name": "stdout",
     "output_type": "stream",
     "text": [
      "fold n°4\n"
     ]
    },
    {
     "name": "stdout",
     "output_type": "stream",
     "text": [
      "[0]\ttrain-rmse:0.422949\tvalid_data-rmse:0.423757\n"
     ]
    },
    {
     "name": "stdout",
     "output_type": "stream",
     "text": [
      "Multiple eval metrics have been passed: 'valid_data-rmse' will be used for early stopping.\n\n"
     ]
    },
    {
     "name": "stdout",
     "output_type": "stream",
     "text": [
      "Will train until valid_data-rmse hasn't improved in 200 rounds.\n"
     ]
    },
    {
     "name": "stdout",
     "output_type": "stream",
     "text": [
      "[100]\ttrain-rmse:0.256997\tvalid_data-rmse:0.256885\n"
     ]
    },
    {
     "name": "stdout",
     "output_type": "stream",
     "text": [
      "[200]\ttrain-rmse:0.156615\tvalid_data-rmse:0.155978\n"
     ]
    },
    {
     "name": "stdout",
     "output_type": "stream",
     "text": [
      "[300]\ttrain-rmse:0.095965\tvalid_data-rmse:0.095197\n"
     ]
    },
    {
     "name": "stdout",
     "output_type": "stream",
     "text": [
      "[400]\ttrain-rmse:0.059386\tvalid_data-rmse:0.058704\n"
     ]
    },
    {
     "name": "stdout",
     "output_type": "stream",
     "text": [
      "[500]\ttrain-rmse:0.037358\tvalid_data-rmse:0.036944\n"
     ]
    },
    {
     "name": "stdout",
     "output_type": "stream",
     "text": [
      "[600]\ttrain-rmse:0.024112\tvalid_data-rmse:0.024198\n"
     ]
    },
    {
     "name": "stdout",
     "output_type": "stream",
     "text": [
      "[700]\ttrain-rmse:0.01623\tvalid_data-rmse:0.017135\n"
     ]
    },
    {
     "name": "stdout",
     "output_type": "stream",
     "text": [
      "[800]\ttrain-rmse:0.011554\tvalid_data-rmse:0.013528\n"
     ]
    },
    {
     "name": "stdout",
     "output_type": "stream",
     "text": [
      "[900]\ttrain-rmse:0.008834\tvalid_data-rmse:0.011865\n"
     ]
    },
    {
     "name": "stdout",
     "output_type": "stream",
     "text": [
      "[1000]\ttrain-rmse:0.007262\tvalid_data-rmse:0.011162\n"
     ]
    },
    {
     "name": "stdout",
     "output_type": "stream",
     "text": [
      "[1100]\ttrain-rmse:0.006366\tvalid_data-rmse:0.010884\n"
     ]
    },
    {
     "name": "stdout",
     "output_type": "stream",
     "text": [
      "[1200]\ttrain-rmse:0.005765\tvalid_data-rmse:0.010784\n"
     ]
    },
    {
     "name": "stdout",
     "output_type": "stream",
     "text": [
      "[1300]\ttrain-rmse:0.005351\tvalid_data-rmse:0.010745\n"
     ]
    },
    {
     "name": "stdout",
     "output_type": "stream",
     "text": [
      "[1400]\ttrain-rmse:0.005031\tvalid_data-rmse:0.01074\n"
     ]
    },
    {
     "name": "stdout",
     "output_type": "stream",
     "text": [
      "[1500]\ttrain-rmse:0.004727\tvalid_data-rmse:0.010747\n"
     ]
    },
    {
     "name": "stdout",
     "output_type": "stream",
     "text": [
      "[1600]\ttrain-rmse:0.004481\tvalid_data-rmse:0.010748\n"
     ]
    },
    {
     "name": "stdout",
     "output_type": "stream",
     "text": [
      "Stopping. Best iteration:\n[1414]\ttrain-rmse:0.004976\tvalid_data-rmse:0.010736\n\n"
     ]
    },
    {
     "name": "stdout",
     "output_type": "stream",
     "text": [
      "fold n°5\n[0]\ttrain-rmse:0.423228\tvalid_data-rmse:0.422635\n"
     ]
    },
    {
     "name": "stdout",
     "output_type": "stream",
     "text": [
      "Multiple eval metrics have been passed: 'valid_data-rmse' will be used for early stopping.\n\n"
     ]
    },
    {
     "name": "stdout",
     "output_type": "stream",
     "text": [
      "Will train until valid_data-rmse hasn't improved in 200 rounds.\n"
     ]
    },
    {
     "name": "stdout",
     "output_type": "stream",
     "text": [
      "[100]\ttrain-rmse:0.257195\tvalid_data-rmse:0.256882\n"
     ]
    },
    {
     "name": "stdout",
     "output_type": "stream",
     "text": [
      "[200]\ttrain-rmse:0.156718\tvalid_data-rmse:0.15654\n"
     ]
    },
    {
     "name": "stdout",
     "output_type": "stream",
     "text": [
      "[300]\ttrain-rmse:0.096023\tvalid_data-rmse:0.095974\n"
     ]
    },
    {
     "name": "stdout",
     "output_type": "stream",
     "text": [
      "[400]\ttrain-rmse:0.059427\tvalid_data-rmse:0.059738\n"
     ]
    },
    {
     "name": "stdout",
     "output_type": "stream",
     "text": [
      "[500]\ttrain-rmse:0.037402\tvalid_data-rmse:0.03822\n"
     ]
    },
    {
     "name": "stdout",
     "output_type": "stream",
     "text": [
      "[600]\ttrain-rmse:0.024159\tvalid_data-rmse:0.025561\n"
     ]
    },
    {
     "name": "stdout",
     "output_type": "stream",
     "text": [
      "[700]\ttrain-rmse:0.016269\tvalid_data-rmse:0.018403\n"
     ]
    },
    {
     "name": "stdout",
     "output_type": "stream",
     "text": [
      "[800]\ttrain-rmse:0.011655\tvalid_data-rmse:0.014619\n"
     ]
    },
    {
     "name": "stdout",
     "output_type": "stream",
     "text": [
      "[900]\ttrain-rmse:0.008983\tvalid_data-rmse:0.012737\n"
     ]
    },
    {
     "name": "stdout",
     "output_type": "stream",
     "text": [
      "[1000]\ttrain-rmse:0.007462\tvalid_data-rmse:0.011836\n"
     ]
    },
    {
     "name": "stdout",
     "output_type": "stream",
     "text": [
      "[1100]\ttrain-rmse:0.00656\tvalid_data-rmse:0.011404\n"
     ]
    },
    {
     "name": "stdout",
     "output_type": "stream",
     "text": [
      "[1200]\ttrain-rmse:0.006018\tvalid_data-rmse:0.011193\n"
     ]
    },
    {
     "name": "stdout",
     "output_type": "stream",
     "text": [
      "[1300]\ttrain-rmse:0.005618\tvalid_data-rmse:0.011069\n"
     ]
    },
    {
     "name": "stdout",
     "output_type": "stream",
     "text": [
      "[1400]\ttrain-rmse:0.005282\tvalid_data-rmse:0.011007\n"
     ]
    },
    {
     "name": "stdout",
     "output_type": "stream",
     "text": [
      "[1500]\ttrain-rmse:0.005\tvalid_data-rmse:0.010978\n"
     ]
    },
    {
     "name": "stdout",
     "output_type": "stream",
     "text": [
      "[1600]\ttrain-rmse:0.004745\tvalid_data-rmse:0.010958\n"
     ]
    },
    {
     "name": "stdout",
     "output_type": "stream",
     "text": [
      "[1700]\ttrain-rmse:0.004521\tvalid_data-rmse:0.010949\n"
     ]
    },
    {
     "name": "stdout",
     "output_type": "stream",
     "text": [
      "[1800]\ttrain-rmse:0.004306\tvalid_data-rmse:0.010947\n"
     ]
    },
    {
     "name": "stdout",
     "output_type": "stream",
     "text": [
      "[1900]\ttrain-rmse:0.00409\tvalid_data-rmse:0.010947\n"
     ]
    },
    {
     "name": "stdout",
     "output_type": "stream",
     "text": [
      "Stopping. Best iteration:\n[1788]\ttrain-rmse:0.004325\tvalid_data-rmse:0.010944\n\n"
     ]
    },
    {
     "name": "stdout",
     "output_type": "stream",
     "text": [
      "CV score: 0.00012294\n"
     ]
    }
   ],
   "source": [
    "##### xgb\n",
    "xgb_params = {'eta': 0.005, 'max_depth': 10, 'subsample': 0.8, 'colsample_bytree': 0.8, \n",
    "          'objective': 'reg:linear', 'eval_metric': 'rmse', 'silent': True, 'nthread': 4}\n",
    "\n",
    "folds = KFold(n_splits=5, shuffle=True, random_state=2018)\n",
    "oof_xgb = np.zeros(len(train))\n",
    "predictions_xgb = np.zeros(len(test))\n",
    "\n",
    "for fold_, (trn_idx, val_idx) in enumerate(folds.split(X_train, y_train)):\n",
    "    print(\"fold n°{}\".format(fold_+1))\n",
    "    trn_data = xgb.DMatrix(X_train[trn_idx], y_train[trn_idx])\n",
    "    val_data = xgb.DMatrix(X_train[val_idx], y_train[val_idx])\n",
    "\n",
    "    watchlist = [(trn_data, 'train'), (val_data, 'valid_data')]\n",
    "    clf = xgb.train(dtrain=trn_data, num_boost_round=20000, evals=watchlist, early_stopping_rounds=200, verbose_eval=100, params=xgb_params)\n",
    "    oof_xgb[val_idx] = clf.predict(xgb.DMatrix(X_train[val_idx]), ntree_limit=clf.best_ntree_limit)\n",
    "    predictions_xgb += clf.predict(xgb.DMatrix(X_test), ntree_limit=clf.best_ntree_limit) / folds.n_splits\n",
    "    \n",
    "print(\"CV score: {:<8.8f}\".format(mean_squared_error(oof_xgb, target)))"
   ]
  },
  {
   "cell_type": "code",
   "execution_count": 198,
   "metadata": {},
   "outputs": [
    {
     "name": "stdout",
     "output_type": "stream",
     "text": [
      "fold 0\nfold 1\nfold 2\nfold 3\nfold 4\nfold 5\nfold 6\nfold 7\nfold 8\nfold 9\n"
     ]
    },
    {
     "data": {
      "text/plain": [
       "0.00011878053576432117"
      ]
     },
     "execution_count": 198,
     "metadata": {},
     "output_type": "execute_result"
    }
   ],
   "source": [
    "# 将lgb和xgb的结果进行stacking\n",
    "train_stack = np.vstack([oof_lgb,oof_xgb]).transpose()\n",
    "test_stack = np.vstack([predictions_lgb, predictions_xgb]).transpose()\n",
    "\n",
    "folds_stack = RepeatedKFold(n_splits=5, n_repeats=2, random_state=4590)\n",
    "oof_stack = np.zeros(train_stack.shape[0])\n",
    "predictions = np.zeros(test_stack.shape[0])\n",
    "\n",
    "for fold_, (trn_idx, val_idx) in enumerate(folds_stack.split(train_stack,target)):\n",
    "    print(\"fold {}\".format(fold_))\n",
    "    trn_data, trn_y = train_stack[trn_idx], target.iloc[trn_idx].values\n",
    "    val_data, val_y = train_stack[val_idx], target.iloc[val_idx].values\n",
    "    \n",
    "    clf_3 = BayesianRidge()\n",
    "    clf_3.fit(trn_data, trn_y)\n",
    "    \n",
    "    oof_stack[val_idx] = clf_3.predict(val_data)\n",
    "    predictions += clf_3.predict(test_stack) / 10\n",
    "    \n",
    "mean_squared_error(target.values, oof_stack)"
   ]
  },
  {
   "cell_type": "code",
   "execution_count": null,
   "metadata": {},
   "outputs": [],
   "source": [
    ""
   ]
  }
 ],
 "metadata": {
  "kernelspec": {
   "display_name": "Python 2",
   "language": "python",
   "name": "python2"
  },
  "language_info": {
   "codemirror_mode": {
    "name": "ipython",
    "version": 2.0
   },
   "file_extension": ".py",
   "mimetype": "text/x-python",
   "name": "python",
   "nbconvert_exporter": "python",
   "pygments_lexer": "ipython2",
   "version": "2.7.6"
  }
 },
 "nbformat": 4,
 "nbformat_minor": 0
}