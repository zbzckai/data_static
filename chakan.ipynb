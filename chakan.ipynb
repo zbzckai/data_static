{
 "cells": [
  {
   "cell_type": "code",
   "execution_count": 63,
   "metadata": {
    "collapsed": true
   },
   "outputs": [
    {
     "data": {
      "text/html": [
       "<script type=\"text/javascript\">window.PlotlyConfig = {MathJaxConfig: 'local'};</script><script type=\"text/javascript\">if (window.MathJax) {MathJax.Hub.Config({SVG: {font: \"STIX-Web\"}});}</script><script>requirejs.config({paths: { 'plotly': ['https://cdn.plot.ly/plotly-latest.min']},});if(!window._Plotly) {require(['plotly'],function(plotly) {window._Plotly=plotly;});}</script>"
      ],
      "text/plain": [
       "<script type=\"text/javascript\">window.PlotlyConfig = {MathJaxConfig: 'local'};</script><script type=\"text/javascript\">if (window.MathJax) {MathJax.Hub.Config({SVG: {font: \"STIX-Web\"}});}</script><script>requirejs.config({paths: { 'plotly': ['https://cdn.plot.ly/plotly-latest.min']},});if(!window._Plotly) {require(['plotly'],function(plotly) {window._Plotly=plotly;});}</script>"
      ]
     },
     "execution_count": 0,
     "metadata": {},
     "output_type": "execute_result"
    },
    {
     "data": {
      "text/plain": [
       "191"
      ]
     },
     "execution_count": 63,
     "metadata": {},
     "output_type": "execute_result"
    }
   ],
   "source": [
    "import numpy as np \n",
    "import pandas as pd \n",
    "import lightgbm as lgb\n",
    "import xgboost as xgb\n",
    "from sklearn.linear_model import BayesianRidge\n",
    "from sklearn.model_selection import KFold, RepeatedKFold\n",
    "from sklearn.preprocessing import OneHotEncoder, LabelEncoder\n",
    "from scipy import sparse\n",
    "import warnings\n",
    "import time\n",
    "import sys\n",
    "import os\n",
    "import re\n",
    "import datetime\n",
    "import matplotlib.pyplot as plt\n",
    "import seaborn as sns\n",
    "import plotly.offline as py\n",
    "py.init_notebook_mode(connected=True)\n",
    "import plotly.graph_objs as go\n",
    "import plotly.tools as tls\n",
    "from sklearn.metrics import mean_squared_error\n",
    "from sklearn.metrics import log_loss\n",
    "warnings.simplefilter(action='ignore', category=FutureWarning)\n",
    "warnings.filterwarnings(\"ignore\")\n",
    "pd.set_option('display.max_columns',None)\n",
    "pd.set_option('max_colwidth',100)\n",
    "import gc \n",
    "gc.collect()"
   ]
  },
  {
   "cell_type": "code",
   "execution_count": 64,
   "metadata": {},
   "outputs": [],
   "source": [
    "def modeling_cross_validation(params, X, y, nr_folds=5):\n",
    "    \n",
    "    oof_preds = np.zeros(X.shape[0])\n",
    "    # Split data with kfold\n",
    "    folds = KFold(n_splits=nr_folds, shuffle=False, random_state=4096)\n",
    "    \n",
    "    for fold_, (trn_idx, val_idx) in enumerate(folds.split(X, y)):\n",
    "        print(\"fold n°{}\".format(fold_+1))\n",
    "        trn_data = lgb.Dataset(X[trn_idx], y[trn_idx])\n",
    "        val_data = lgb.Dataset(X[val_idx], y[val_idx])\n",
    "\n",
    "        num_round = 20000\n",
    "        clf = lgb.train(params, trn_data, num_round, valid_sets = [trn_data, val_data], verbose_eval=1000, early_stopping_rounds = 100)\n",
    "        oof_preds[val_idx] = clf.predict(X[val_idx], num_iteration=clf.best_iteration)\n",
    "\n",
    "    score = mean_squared_error(oof_preds, target)\n",
    "    return  score/2\n",
    "def featureSelect(init_cols):\n",
    "    params = {'num_leaves': 120,\n",
    "             'min_data_in_leaf': 30, \n",
    "             'objective':'regression',\n",
    "             'max_depth': -1,\n",
    "             'learning_rate': 0.05,\n",
    "             \"min_child_samples\": 30,\n",
    "             \"boosting\": \"gbdt\",\n",
    "             \"feature_fraction\": 0.9,\n",
    "             \"bagging_freq\": 1,\n",
    "             \"bagging_fraction\": 0.9 ,\n",
    "             \"bagging_seed\": 11,\n",
    "             \"metric\": 'mse',\n",
    "             \"lambda_l1\": 0.02,\n",
    "             \"verbosity\": -1}\n",
    "    best_cols = init_cols.copy()\n",
    "    best_score = modeling_cross_validation(params, train[init_cols].values, target.values, nr_folds=5)\n",
    "    print(\"初始CV score: {:<8.8f}\".format(best_score))\n",
    "    for f in init_cols:\n",
    "\n",
    "        best_cols.remove(f)\n",
    "        score = modeling_cross_validation(params, train[best_cols].values, target.values, nr_folds=5)\n",
    "        diff = best_score - score\n",
    "        print('-'*10)\n",
    "        if diff > 0.00000002:\n",
    "            print(\"当前移除特征: {}, CV score: {:<8.8f}, 最佳cv score: {:<8.8f}, 有效果,删除！！\".format(f,score,best_score))\n",
    "            best_score = score\n",
    "        else:\n",
    "            print(\"当前移除特征: {}, CV score: {:<8.8f}, 最佳cv score: {:<8.8f}, 没效果,保留！！\".format(f,score,best_score))\n",
    "            best_cols.append(f)\n",
    "    print('-'*10)\n",
    "    print(\"优化后CV score: {:<8.8f}\".format(best_score))\n",
    "    \n",
    "    return best_cols"
   ]
  },
  {
   "cell_type": "code",
   "execution_count": 65,
   "metadata": {},
   "outputs": [
    {
     "name": "stdout",
     "output_type": "stream",
     "text": [
      "A1 0.9863896848137536\nA2 0.9699140401146131\nA3 0.9570200573065902\nA4 0.9570200573065902\nB2 0.9842406876790831\n"
     ]
    }
   ],
   "source": [
    "train = pd.read_csv('./jinnan_round1_train_20181227.csv', encoding = 'gb18030')\n",
    "test  = pd.read_csv('./jinnan_round1_testA_20181227.csv', encoding = 'gb18030')\n",
    "train.shape\n",
    "#train = train[[x for x in train.index if x not in vaild.index]].copy()\n",
    "# 删除类别唯一的特征\n",
    "for df in [train, test]:\n",
    "    df.drop(['B3', 'B13', 'A13', 'A18', 'A23'], axis=1, inplace=True)\n",
    "\n",
    "# 删除某一类别占比超过90%的列\n",
    "good_cols = list(train.columns)\n",
    "for col in train.columns:\n",
    "    rate = train[col].value_counts(normalize=True, dropna=False).values[0]\n",
    "    if rate > 0.9:\n",
    "        good_cols.remove(col)\n",
    "        print(col, rate)\n",
    "\n",
    "# 暂时不删除，后面构造特征需要\n",
    "good_cols.append('A1')\n",
    "good_cols.append('A3')\n",
    "good_cols.append('A4')\n",
    "\n",
    "# 删除异常值\n",
    "train = train[train['收率'] > 0.87]\n",
    "train = train[good_cols]\n",
    "good_cols.remove('收率')\n",
    "test = test[good_cols]\n",
    "# 合并数据集\n",
    "target = train['收率']\n",
    "train['收率'] = target\n",
    "data_2 = pd.concat([train,test],axis=0,ignore_index=True)\n",
    "data_2 = data_2.fillna(-1)\n",
    "train.shape\n",
    "std = np.std(target)\n",
    "mean = np.mean(target)\n",
    "mean = 0.01\n",
    "num = 15\n",
    "column_mean_std = []\n",
    "time_columns = ['A5', 'A7', 'A9', 'A11', 'A14', 'A16', 'A24', 'A26', 'B5', 'B7','A20', 'A28', 'B4', 'B9', 'B10', 'B11']\n",
    "time_column = 'B10'\n",
    "for time_column in time_columns:\n",
    "    aa = train.groupby(by = time_column)['收率'].agg({time_column+'_count':'count',time_column+'_mean':'mean',time_column+\"_std\":'std'}).reset_index()\n",
    "    aa = aa.fillna(100)\n",
    "    aa.loc[(aa[time_column+'_std']>std) | (aa[time_column+'_count']<num),time_column+'_mean'] = mean\n",
    "    aa = aa[[time_column,time_column+'_mean',time_column+\"_std\"]]\n",
    "    column_mean_std.append(time_column+'_mean')\n",
    "    column_mean_std.append(time_column+'_std')\n",
    "    train = train.merge(aa,on = time_column,how = 'left')\n",
    "    test = test.merge(aa,on = time_column,how = 'left')\n",
    "len(column_mean_std)\n",
    "data_2 = pd.concat([train[column_mean_std],test[column_mean_std]],axis=0,ignore_index=True)\n",
    "data_2 = data_2.fillna(mean)"
   ]
  },
  {
   "cell_type": "code",
   "execution_count": 66,
   "metadata": {},
   "outputs": [
    {
     "data": {
      "text/plain": [
       "(1396, 44)"
      ]
     },
     "execution_count": 66,
     "metadata": {},
     "output_type": "execute_result"
    }
   ],
   "source": [
    "train = pd.read_csv('./jinnan_round1_train_20181227.csv', encoding = 'gb18030')\n",
    "test  = pd.read_csv('./jinnan_round1_testA_20181227.csv', encoding = 'gb18030')\n",
    "train.shape\n",
    "#train = train[[x for x in train.index if x not in vaild.index]].copy()"
   ]
  },
  {
   "cell_type": "code",
   "execution_count": 67,
   "metadata": {},
   "outputs": [],
   "source": [
    "#特征筛选"
   ]
  },
  {
   "cell_type": "code",
   "execution_count": 68,
   "metadata": {},
   "outputs": [
    {
     "data": {
      "text/html": [
       "<div>\n",
       "<style scoped>\n",
       "    .dataframe tbody tr th:only-of-type {\n",
       "        vertical-align: middle;\n",
       "    }\n",
       "\n",
       "    .dataframe tbody tr th {\n",
       "        vertical-align: top;\n",
       "    }\n",
       "\n",
       "    .dataframe thead th {\n",
       "        text-align: right;\n",
       "    }\n",
       "</style>\n",
       "<table border=\"1\" class=\"dataframe\">\n",
       "  <thead>\n",
       "    <tr style=\"text-align: right;\">\n",
       "      <th></th>\n",
       "      <th>Feature</th>\n",
       "      <th>Unique_values</th>\n",
       "      <th>Percentage of missing values</th>\n",
       "      <th>Percentage of values in the biggest category</th>\n",
       "      <th>type</th>\n",
       "    </tr>\n",
       "  </thead>\n",
       "  <tbody>\n",
       "    <tr>\n",
       "      <th>2</th>\n",
       "      <td>A2</td>\n",
       "      <td>1</td>\n",
       "      <td>96.991404</td>\n",
       "      <td>96.991404</td>\n",
       "      <td>float64</td>\n",
       "    </tr>\n",
       "    <tr>\n",
       "      <th>7</th>\n",
       "      <td>A7</td>\n",
       "      <td>75</td>\n",
       "      <td>89.326648</td>\n",
       "      <td>89.326648</td>\n",
       "      <td>object</td>\n",
       "    </tr>\n",
       "    <tr>\n",
       "      <th>8</th>\n",
       "      <td>A8</td>\n",
       "      <td>8</td>\n",
       "      <td>89.326648</td>\n",
       "      <td>89.326648</td>\n",
       "      <td>float64</td>\n",
       "    </tr>\n",
       "    <tr>\n",
       "      <th>39</th>\n",
       "      <td>B11</td>\n",
       "      <td>37</td>\n",
       "      <td>60.816619</td>\n",
       "      <td>60.816619</td>\n",
       "      <td>object</td>\n",
       "    </tr>\n",
       "    <tr>\n",
       "      <th>38</th>\n",
       "      <td>B10</td>\n",
       "      <td>180</td>\n",
       "      <td>17.478510</td>\n",
       "      <td>17.478510</td>\n",
       "      <td>object</td>\n",
       "    </tr>\n",
       "    <tr>\n",
       "      <th>3</th>\n",
       "      <td>A3</td>\n",
       "      <td>3</td>\n",
       "      <td>3.008596</td>\n",
       "      <td>95.702006</td>\n",
       "      <td>float64</td>\n",
       "    </tr>\n",
       "    <tr>\n",
       "      <th>29</th>\n",
       "      <td>B1</td>\n",
       "      <td>21</td>\n",
       "      <td>0.716332</td>\n",
       "      <td>53.796562</td>\n",
       "      <td>float64</td>\n",
       "    </tr>\n",
       "    <tr>\n",
       "      <th>23</th>\n",
       "      <td>A23</td>\n",
       "      <td>3</td>\n",
       "      <td>0.214900</td>\n",
       "      <td>99.641834</td>\n",
       "      <td>float64</td>\n",
       "    </tr>\n",
       "    <tr>\n",
       "      <th>21</th>\n",
       "      <td>A21</td>\n",
       "      <td>12</td>\n",
       "      <td>0.214900</td>\n",
       "      <td>89.828080</td>\n",
       "      <td>float64</td>\n",
       "    </tr>\n",
       "    <tr>\n",
       "      <th>30</th>\n",
       "      <td>B2</td>\n",
       "      <td>3</td>\n",
       "      <td>0.143266</td>\n",
       "      <td>98.424069</td>\n",
       "      <td>float64</td>\n",
       "    </tr>\n",
       "  </tbody>\n",
       "</table>\n",
       "</div>"
      ],
      "text/plain": [
       "<div>\n",
       "<style scoped>\n",
       "    .dataframe tbody tr th:only-of-type {\n",
       "        vertical-align: middle;\n",
       "    }\n",
       "\n",
       "    .dataframe tbody tr th {\n",
       "        vertical-align: top;\n",
       "    }\n",
       "\n",
       "    .dataframe thead th {\n",
       "        text-align: right;\n",
       "    }\n",
       "</style>\n",
       "<table border=\"1\" class=\"dataframe\">\n",
       "  <thead>\n",
       "    <tr style=\"text-align: right;\">\n",
       "      <th></th>\n",
       "      <th>Feature</th>\n",
       "      <th>Unique_values</th>\n",
       "      <th>Percentage of missing values</th>\n",
       "      <th>Percentage of values in the biggest category</th>\n",
       "      <th>type</th>\n",
       "    </tr>\n",
       "  </thead>\n",
       "  <tbody>\n",
       "    <tr>\n",
       "      <th>2</th>\n",
       "      <td>A2</td>\n",
       "      <td>1</td>\n",
       "      <td>96.991404</td>\n",
       "      <td>96.991404</td>\n",
       "      <td>float64</td>\n",
       "    </tr>\n",
       "    <tr>\n",
       "      <th>7</th>\n",
       "      <td>A7</td>\n",
       "      <td>75</td>\n",
       "      <td>89.326648</td>\n",
       "      <td>89.326648</td>\n",
       "      <td>object</td>\n",
       "    </tr>\n",
       "    <tr>\n",
       "      <th>8</th>\n",
       "      <td>A8</td>\n",
       "      <td>8</td>\n",
       "      <td>89.326648</td>\n",
       "      <td>89.326648</td>\n",
       "      <td>float64</td>\n",
       "    </tr>\n",
       "    <tr>\n",
       "      <th>39</th>\n",
       "      <td>B11</td>\n",
       "      <td>37</td>\n",
       "      <td>60.816619</td>\n",
       "      <td>60.816619</td>\n",
       "      <td>object</td>\n",
       "    </tr>\n",
       "    <tr>\n",
       "      <th>38</th>\n",
       "      <td>B10</td>\n",
       "      <td>180</td>\n",
       "      <td>17.478510</td>\n",
       "      <td>17.478510</td>\n",
       "      <td>object</td>\n",
       "    </tr>\n",
       "    <tr>\n",
       "      <th>3</th>\n",
       "      <td>A3</td>\n",
       "      <td>3</td>\n",
       "      <td>3.008596</td>\n",
       "      <td>95.702006</td>\n",
       "      <td>float64</td>\n",
       "    </tr>\n",
       "    <tr>\n",
       "      <th>29</th>\n",
       "      <td>B1</td>\n",
       "      <td>21</td>\n",
       "      <td>0.716332</td>\n",
       "      <td>53.796562</td>\n",
       "      <td>float64</td>\n",
       "    </tr>\n",
       "    <tr>\n",
       "      <th>23</th>\n",
       "      <td>A23</td>\n",
       "      <td>3</td>\n",
       "      <td>0.214900</td>\n",
       "      <td>99.641834</td>\n",
       "      <td>float64</td>\n",
       "    </tr>\n",
       "    <tr>\n",
       "      <th>21</th>\n",
       "      <td>A21</td>\n",
       "      <td>12</td>\n",
       "      <td>0.214900</td>\n",
       "      <td>89.828080</td>\n",
       "      <td>float64</td>\n",
       "    </tr>\n",
       "    <tr>\n",
       "      <th>30</th>\n",
       "      <td>B2</td>\n",
       "      <td>3</td>\n",
       "      <td>0.143266</td>\n",
       "      <td>98.424069</td>\n",
       "      <td>float64</td>\n",
       "    </tr>\n",
       "  </tbody>\n",
       "</table>\n",
       "</div>"
      ]
     },
     "execution_count": 68,
     "metadata": {},
     "output_type": "execute_result"
    }
   ],
   "source": [
    "stats = []\n",
    "for col in train.columns:\n",
    "    stats.append((col, train[col].nunique(), train[col].isnull().sum() * 100 / train.shape[0], train[col].value_counts(normalize=True, dropna=False).values[0] * 100, train[col].dtype))\n",
    "    \n",
    "stats_df = pd.DataFrame(stats, columns=['Feature', 'Unique_values', 'Percentage of missing values', 'Percentage of values in the biggest category', 'type'])\n",
    "stats_df.sort_values('Percentage of missing values', ascending=False)[:10]"
   ]
  },
  {
   "cell_type": "code",
   "execution_count": 69,
   "metadata": {},
   "outputs": [
    {
     "data": {
      "text/html": [
       "<div>\n",
       "<style scoped>\n",
       "    .dataframe tbody tr th:only-of-type {\n",
       "        vertical-align: middle;\n",
       "    }\n",
       "\n",
       "    .dataframe tbody tr th {\n",
       "        vertical-align: top;\n",
       "    }\n",
       "\n",
       "    .dataframe thead th {\n",
       "        text-align: right;\n",
       "    }\n",
       "</style>\n",
       "<table border=\"1\" class=\"dataframe\">\n",
       "  <thead>\n",
       "    <tr style=\"text-align: right;\">\n",
       "      <th></th>\n",
       "      <th>Feature</th>\n",
       "      <th>Unique_values</th>\n",
       "      <th>Percentage of missing values</th>\n",
       "      <th>Percentage of values in the biggest category</th>\n",
       "      <th>type</th>\n",
       "    </tr>\n",
       "  </thead>\n",
       "  <tbody>\n",
       "    <tr>\n",
       "      <th>2</th>\n",
       "      <td>A2</td>\n",
       "      <td>1</td>\n",
       "      <td>98.000000</td>\n",
       "      <td>98.000000</td>\n",
       "      <td>float64</td>\n",
       "    </tr>\n",
       "    <tr>\n",
       "      <th>7</th>\n",
       "      <td>A7</td>\n",
       "      <td>15</td>\n",
       "      <td>88.000000</td>\n",
       "      <td>88.000000</td>\n",
       "      <td>object</td>\n",
       "    </tr>\n",
       "    <tr>\n",
       "      <th>8</th>\n",
       "      <td>A8</td>\n",
       "      <td>2</td>\n",
       "      <td>88.000000</td>\n",
       "      <td>88.000000</td>\n",
       "      <td>float64</td>\n",
       "    </tr>\n",
       "    <tr>\n",
       "      <th>39</th>\n",
       "      <td>B11</td>\n",
       "      <td>11</td>\n",
       "      <td>59.333333</td>\n",
       "      <td>59.333333</td>\n",
       "      <td>object</td>\n",
       "    </tr>\n",
       "    <tr>\n",
       "      <th>38</th>\n",
       "      <td>B10</td>\n",
       "      <td>50</td>\n",
       "      <td>14.666667</td>\n",
       "      <td>14.666667</td>\n",
       "      <td>object</td>\n",
       "    </tr>\n",
       "    <tr>\n",
       "      <th>3</th>\n",
       "      <td>A3</td>\n",
       "      <td>2</td>\n",
       "      <td>2.000000</td>\n",
       "      <td>97.333333</td>\n",
       "      <td>float64</td>\n",
       "    </tr>\n",
       "    <tr>\n",
       "      <th>25</th>\n",
       "      <td>A25</td>\n",
       "      <td>7</td>\n",
       "      <td>0.666667</td>\n",
       "      <td>42.000000</td>\n",
       "      <td>float64</td>\n",
       "    </tr>\n",
       "    <tr>\n",
       "      <th>27</th>\n",
       "      <td>A27</td>\n",
       "      <td>11</td>\n",
       "      <td>0.666667</td>\n",
       "      <td>47.333333</td>\n",
       "      <td>float64</td>\n",
       "    </tr>\n",
       "    <tr>\n",
       "      <th>20</th>\n",
       "      <td>A20</td>\n",
       "      <td>52</td>\n",
       "      <td>0.666667</td>\n",
       "      <td>20.000000</td>\n",
       "      <td>object</td>\n",
       "    </tr>\n",
       "    <tr>\n",
       "      <th>29</th>\n",
       "      <td>B1</td>\n",
       "      <td>13</td>\n",
       "      <td>0.666667</td>\n",
       "      <td>56.000000</td>\n",
       "      <td>float64</td>\n",
       "    </tr>\n",
       "  </tbody>\n",
       "</table>\n",
       "</div>"
      ],
      "text/plain": [
       "<div>\n",
       "<style scoped>\n",
       "    .dataframe tbody tr th:only-of-type {\n",
       "        vertical-align: middle;\n",
       "    }\n",
       "\n",
       "    .dataframe tbody tr th {\n",
       "        vertical-align: top;\n",
       "    }\n",
       "\n",
       "    .dataframe thead th {\n",
       "        text-align: right;\n",
       "    }\n",
       "</style>\n",
       "<table border=\"1\" class=\"dataframe\">\n",
       "  <thead>\n",
       "    <tr style=\"text-align: right;\">\n",
       "      <th></th>\n",
       "      <th>Feature</th>\n",
       "      <th>Unique_values</th>\n",
       "      <th>Percentage of missing values</th>\n",
       "      <th>Percentage of values in the biggest category</th>\n",
       "      <th>type</th>\n",
       "    </tr>\n",
       "  </thead>\n",
       "  <tbody>\n",
       "    <tr>\n",
       "      <th>2</th>\n",
       "      <td>A2</td>\n",
       "      <td>1</td>\n",
       "      <td>98.000000</td>\n",
       "      <td>98.000000</td>\n",
       "      <td>float64</td>\n",
       "    </tr>\n",
       "    <tr>\n",
       "      <th>7</th>\n",
       "      <td>A7</td>\n",
       "      <td>15</td>\n",
       "      <td>88.000000</td>\n",
       "      <td>88.000000</td>\n",
       "      <td>object</td>\n",
       "    </tr>\n",
       "    <tr>\n",
       "      <th>8</th>\n",
       "      <td>A8</td>\n",
       "      <td>2</td>\n",
       "      <td>88.000000</td>\n",
       "      <td>88.000000</td>\n",
       "      <td>float64</td>\n",
       "    </tr>\n",
       "    <tr>\n",
       "      <th>39</th>\n",
       "      <td>B11</td>\n",
       "      <td>11</td>\n",
       "      <td>59.333333</td>\n",
       "      <td>59.333333</td>\n",
       "      <td>object</td>\n",
       "    </tr>\n",
       "    <tr>\n",
       "      <th>38</th>\n",
       "      <td>B10</td>\n",
       "      <td>50</td>\n",
       "      <td>14.666667</td>\n",
       "      <td>14.666667</td>\n",
       "      <td>object</td>\n",
       "    </tr>\n",
       "    <tr>\n",
       "      <th>3</th>\n",
       "      <td>A3</td>\n",
       "      <td>2</td>\n",
       "      <td>2.000000</td>\n",
       "      <td>97.333333</td>\n",
       "      <td>float64</td>\n",
       "    </tr>\n",
       "    <tr>\n",
       "      <th>25</th>\n",
       "      <td>A25</td>\n",
       "      <td>7</td>\n",
       "      <td>0.666667</td>\n",
       "      <td>42.000000</td>\n",
       "      <td>float64</td>\n",
       "    </tr>\n",
       "    <tr>\n",
       "      <th>27</th>\n",
       "      <td>A27</td>\n",
       "      <td>11</td>\n",
       "      <td>0.666667</td>\n",
       "      <td>47.333333</td>\n",
       "      <td>float64</td>\n",
       "    </tr>\n",
       "    <tr>\n",
       "      <th>20</th>\n",
       "      <td>A20</td>\n",
       "      <td>52</td>\n",
       "      <td>0.666667</td>\n",
       "      <td>20.000000</td>\n",
       "      <td>object</td>\n",
       "    </tr>\n",
       "    <tr>\n",
       "      <th>29</th>\n",
       "      <td>B1</td>\n",
       "      <td>13</td>\n",
       "      <td>0.666667</td>\n",
       "      <td>56.000000</td>\n",
       "      <td>float64</td>\n",
       "    </tr>\n",
       "  </tbody>\n",
       "</table>\n",
       "</div>"
      ]
     },
     "execution_count": 69,
     "metadata": {},
     "output_type": "execute_result"
    }
   ],
   "source": [
    "stats = []\n",
    "for col in test.columns:\n",
    "    stats.append((col, test[col].nunique(), test[col].isnull().sum() * 100 / test.shape[0], test[col].value_counts(normalize=True, dropna=False).values[0] * 100, test[col].dtype))\n",
    "    \n",
    "stats_df = pd.DataFrame(stats, columns=['Feature', 'Unique_values', 'Percentage of missing values', 'Percentage of values in the biggest category', 'type'])\n",
    "stats_df.sort_values('Percentage of missing values', ascending=False)[:10]"
   ]
  },
  {
   "cell_type": "code",
   "execution_count": 70,
   "metadata": {},
   "outputs": [
    {
     "data": {
      "image/png": "[encoded data removed]",
      "text/plain": [
       "<Figure size 576x432 with 1 Axes>"
      ]
     },
     "metadata": {},
     "output_type": "display_data"
    }
   ],
   "source": [
    "target_col = \"收率\"\n",
    "\n",
    "plt.figure(figsize=(8,6))\n",
    "plt.scatter(range(train.shape[0]), np.sort(train[target_col].values))\n",
    "plt.xlabel('index', fontsize=12)\n",
    "plt.ylabel('yield', fontsize=12)\n",
    "plt.show()"
   ]
  },
  {
   "cell_type": "code",
   "execution_count": 71,
   "metadata": {},
   "outputs": [],
   "source": [
    ""
   ]
  },
  {
   "cell_type": "code",
   "execution_count": 71,
   "metadata": {},
   "outputs": [
    {
     "data": {
      "image/png": "[encoded data removed]",
      "text/plain": [
       "<Figure size 864x576 with 1 Axes>"
      ]
     },
     "metadata": {},
     "output_type": "display_data"
    }
   ],
   "source": [
    "plt.figure(figsize=(12,8))\n",
    "sns.distplot(train[target_col].values, bins=50, kde=False, color=\"red\")\n",
    "plt.title(\"Histogram of yield\")\n",
    "plt.xlabel('yield', fontsize=12)\n",
    "plt.show()"
   ]
  },
  {
   "cell_type": "code",
   "execution_count": 72,
   "metadata": {},
   "outputs": [],
   "source": [
    "#train['样本id'] = train['样本id'].map(lambda x:x.split('_')[1])\n",
    "#plt.figure(figsize=(8,6))\n",
    "#plt.scatter(train['样本id'], train[target_col])\n",
    "#plt.xlabel('index', fontsize=12)\n",
    "#plt.ylabel('yield', fontsize=12)\n",
    "#plt.show()"
   ]
  },
  {
   "cell_type": "code",
   "execution_count": 73,
   "metadata": {
    "collapsed": true
   },
   "outputs": [
    {
     "data": {
      "text/plain": [
       "\"\\ntmp = train[train[target_col]>0.92]\\ntmp['样本id']\\nplt.figure(figsize=(8,16))\\nplt.scatter(tmp['样本id'], tmp[target_col])\\nplt.xlabel('index', fontsize=12)\\nplt.ylabel('yield', fontsize=12)\\nplt.show()\\ntrain.to_csv('chakan.csv',encoding='gbk')\\ntmp = pd.DataFrame(np.zeros(2000))\\ntmp = tmp.reset_index()\\ntmp['index'] = tmp['index'] +1\\ntmp = tmp.merge(train[train[target_col]<=0.902],left_on='index' ,right_on= '样本id',how='left')\\ntmp.to_csv('aaa902.csv',encoding='gbk')\\ntmp = pd.DataFrame(np.zeros(2000))\\ntmp = tmp.reset_index()\\ntmp['index'] = tmp['index'] +1\\ntmp = tmp.merge(train[train[target_col]>0.902],left_on='index' ,right_on= '样本id',how='left')\\ntmp.to_csv('aaadayu902.csv',encoding='gbk')\\nnum = 560\\nprint(train.loc[865,target_col])\\n\\ntrain['target_feature'] = mean_num\\ntrain['target_feature']\\nfor num in range(500,600):\\n    pre_d_all = []\\n    for id in train[train[target_col]>0.92]['样本id'].values:\\n        sum_all = 0\\n        num_j = 0\\n        for i in [-3,-2,-1,1,2,3]:\\n            if (id + i * num) in train['样本id'].values:\\n                num_j+=1\\n                sum_all +=train.loc[train['样本id'] == id + i * num,target_col].values\\n        if num_j == 0:\\n            pre_d = mean_num\\n        else:\\n            pre_d = (sum_all/num_j)[0]\\n        pre_d_all.append([id,pre_d])\\n    pre_d_all = pd.DataFrame(pre_d_all)\\n    pre_d_all.columns =['id','pred']\\n    pre_d_all = pre_d_all.merge(train[['样本id',target_col]],left_on= 'id',right_on = '样本id',how='left')\\n    pre_d_all['mean'] = np.mean(pre_d_all[target_col])\\n    pre_d_all\\n\\n    print('============================',num)\\n    print(mean_squared_error(pre_d_all[target_col],pre_d_all['pred']))\\n    print(mean_squared_error(pre_d_all[target_col],pre_d_all['mean']))\\n    pre_d_all\\ntrain[train[target_col]>0.92]['样本id']\\npre_d_all = pd.DataFrame(pre_d_all)\\npre_d_all[target_col] = train[target_col]\\npre_d_all['mean'] = np.mean(pre_d_all[target_col])\\npre_d_all\\npre_d_all.columns =['id','pred' , '收率', 'mean']\\nprint(mean_squared_error(pre_d_all[target_col],pre_d_all['pred']))\\nprint(mean_squared_error(pre_d_all[target_col],pre_d_all['mean']))\""
      ]
     },
     "execution_count": 73,
     "metadata": {},
     "output_type": "execute_result"
    }
   ],
   "source": [
    "\"\"\"\n",
    "tmp = train[train[target_col]>0.92]\n",
    "tmp['样本id']\n",
    "plt.figure(figsize=(8,16))\n",
    "plt.scatter(tmp['样本id'], tmp[target_col])\n",
    "plt.xlabel('index', fontsize=12)\n",
    "plt.ylabel('yield', fontsize=12)\n",
    "plt.show()\n",
    "train.to_csv('chakan.csv',encoding='gbk')\n",
    "tmp = pd.DataFrame(np.zeros(2000))\n",
    "tmp = tmp.reset_index()\n",
    "tmp['index'] = tmp['index'] +1\n",
    "tmp = tmp.merge(train[train[target_col]<=0.902],left_on='index' ,right_on= '样本id',how='left')\n",
    "tmp.to_csv('aaa902.csv',encoding='gbk')\n",
    "tmp = pd.DataFrame(np.zeros(2000))\n",
    "tmp = tmp.reset_index()\n",
    "tmp['index'] = tmp['index'] +1\n",
    "tmp = tmp.merge(train[train[target_col]>0.902],left_on='index' ,right_on= '样本id',how='left')\n",
    "tmp.to_csv('aaadayu902.csv',encoding='gbk')\n",
    "num = 560\n",
    "print(train.loc[865,target_col])\n",
    "\n",
    "train['target_feature'] = mean_num\n",
    "train['target_feature']\n",
    "for num in range(500,600):\n",
    "    pre_d_all = []\n",
    "    for id in train[train[target_col]>0.92]['样本id'].values:\n",
    "        sum_all = 0\n",
    "        num_j = 0\n",
    "        for i in [-3,-2,-1,1,2,3]:\n",
    "            if (id + i * num) in train['样本id'].values:\n",
    "                num_j+=1\n",
    "                sum_all +=train.loc[train['样本id'] == id + i * num,target_col].values\n",
    "        if num_j == 0:\n",
    "            pre_d = mean_num\n",
    "        else:\n",
    "            pre_d = (sum_all/num_j)[0]\n",
    "        pre_d_all.append([id,pre_d])\n",
    "    pre_d_all = pd.DataFrame(pre_d_all)\n",
    "    pre_d_all.columns =['id','pred']\n",
    "    pre_d_all = pre_d_all.merge(train[['样本id',target_col]],left_on= 'id',right_on = '样本id',how='left')\n",
    "    pre_d_all['mean'] = np.mean(pre_d_all[target_col])\n",
    "    pre_d_all\n",
    "\n",
    "    print('============================',num)\n",
    "    print(mean_squared_error(pre_d_all[target_col],pre_d_all['pred']))\n",
    "    print(mean_squared_error(pre_d_all[target_col],pre_d_all['mean']))\n",
    "    pre_d_all\n",
    "train[train[target_col]>0.92]['样本id']\n",
    "pre_d_all = pd.DataFrame(pre_d_all)\n",
    "pre_d_all[target_col] = train[target_col]\n",
    "pre_d_all['mean'] = np.mean(pre_d_all[target_col])\n",
    "pre_d_all\n",
    "pre_d_all.columns =['id','pred' , '收率', 'mean']\n",
    "print(mean_squared_error(pre_d_all[target_col],pre_d_all['pred']))\n",
    "print(mean_squared_error(pre_d_all[target_col],pre_d_all['mean']))\"\"\""
   ]
  },
  {
   "cell_type": "code",
   "execution_count": 74,
   "metadata": {},
   "outputs": [],
   "source": [
    "# 删除类别唯一的特征\n",
    "for df in [train, test]:\n",
    "    df.drop(['B3', 'B13', 'A13', 'A18', 'A23'], axis=1, inplace=True)"
   ]
  },
  {
   "cell_type": "code",
   "execution_count": 75,
   "metadata": {},
   "outputs": [
    {
     "name": "stdout",
     "output_type": "stream",
     "text": [
      "A1 0.9863896848137536\nA2 0.9699140401146131\nA3 0.9570200573065902\nA4 0.9570200573065902\nB2 0.9842406876790831\n"
     ]
    }
   ],
   "source": [
    "# 删除某一类别占比超过90%的列\n",
    "good_cols = list(train.columns)\n",
    "for col in train.columns:\n",
    "    rate = train[col].value_counts(normalize=True, dropna=False).values[0]\n",
    "    if rate > 0.9:\n",
    "        good_cols.remove(col)\n",
    "        print(col,rate)\n",
    "\n",
    "# 暂时不删除，后面构造特征需要\n",
    "good_cols.append('A1')\n",
    "good_cols.append('A3')\n",
    "good_cols.append('A4')\n",
    "\n",
    "# 删除异常值\n",
    "train = train[train['收率']>0.87]\n",
    "        \n",
    "train = train[good_cols]\n",
    "good_cols.remove('收率')\n",
    "test  = test[good_cols]"
   ]
  },
  {
   "cell_type": "code",
   "execution_count": 76,
   "metadata": {},
   "outputs": [],
   "source": [
    "# 合并数据集\n",
    "target = train['收率']\n",
    "del train['收率']\n",
    "data = pd.concat([train,test],axis=0,ignore_index=True)\n",
    "data = data.fillna(-1)"
   ]
  },
  {
   "cell_type": "code",
   "execution_count": 77,
   "metadata": {},
   "outputs": [],
   "source": [
    "def timeTranSecond(t):\n",
    "    try:\n",
    "        t,m,s=t.split(\":\")\n",
    "    except:\n",
    "        if t=='1900/1/9 7:00':\n",
    "            return 7*3600/3600\n",
    "        elif t=='1900/1/1 2:30':\n",
    "            return (2*3600+30*60)/3600\n",
    "        elif t==-1:\n",
    "            return -1\n",
    "        else:\n",
    "            return 0\n",
    "    \n",
    "    try:\n",
    "        tm = (int(t)*3600+int(m)*60+int(s))/3600\n",
    "    except:\n",
    "        return (30*60)/3600\n",
    "    \n",
    "    return tm\n",
    "for f in ['A5','A7','A9','A11','A14','A16','A24','A26','B5','B7']:\n",
    "    try:\n",
    "        data[f] = data[f].apply(timeTranSecond)\n",
    "    except:\n",
    "        print(f,'应该在前面被删除了！')\n",
    "\n",
    "def getDuration(se):\n",
    "    try:\n",
    "        sh,sm,eh,em=re.findall(r\"\\d+\\.?\\d*\",se)\n",
    "    except:\n",
    "        if se == -1:\n",
    "            return -1 \n",
    "        \n",
    "    try:\n",
    "        if int(sh)>int(eh):\n",
    "            tm = (int(eh)*3600+int(em)*60-int(sm)*60-int(sh)*3600)/3600 + 24\n",
    "        else:\n",
    "            tm = (int(eh)*3600+int(em)*60-int(sm)*60-int(sh)*3600)/3600\n",
    "    except:\n",
    "        if se=='19:-20:05':\n",
    "            return 1\n",
    "        elif se=='15:00-1600':\n",
    "            return 1\n",
    "    \n",
    "    return tm\n",
    "for f in ['A20','A28','B4','B9','B10','B11']:\n",
    "    data[f+'time'] = data.apply(lambda df: getDuration(df[f]), axis=1)"
   ]
  },
  {
   "cell_type": "code",
   "execution_count": 78,
   "metadata": {},
   "outputs": [
    {
     "data": {
      "text/plain": [
       "Index(['样本id', 'A5', 'A6', 'A7', 'A8', 'A9', 'A10', 'A11', 'A12', 'A14', 'A15',\n       'A16', 'A17', 'A19', 'A20', 'A21', 'A22', 'A24', 'A25', 'A26', 'A27',\n       'A28', 'B1', 'B4', 'B5', 'B6', 'B7', 'B8', 'B9', 'B10', 'B11', 'B12',\n       'B14', 'A1', 'A3', 'A4', 'A20time', 'A28time', 'B4time', 'B9time',\n       'B10time', 'B11time'],\n      dtype='object')"
      ]
     },
     "execution_count": 78,
     "metadata": {},
     "output_type": "execute_result"
    }
   ],
   "source": [
    "data.columns"
   ]
  },
  {
   "cell_type": "code",
   "execution_count": 79,
   "metadata": {},
   "outputs": [],
   "source": [
    "data['样本id'] = data['样本id'].apply(lambda x: int(x.split('_')[1]))\n",
    "\n",
    "categorical_columns = [f for f in data.columns if f not in ['样本id']]\n",
    "numerical_columns = [f for f in data.columns if f not in categorical_columns]"
   ]
  },
  {
   "cell_type": "code",
   "execution_count": 80,
   "metadata": {},
   "outputs": [
    {
     "data": {
      "text/plain": [
       "0"
      ]
     },
     "execution_count": 80,
     "metadata": {},
     "output_type": "execute_result"
    }
   ],
   "source": [
    "mean_num = np.mean(target)\n",
    "mean_num\n",
    "pred_all = []\n",
    "tmp = pd.DataFrame()\n",
    "tmp['样本id'] = train['样本id']\n",
    "tmp['样本id'] = tmp['样本id'].map(lambda x:x.split('_')[1])\n",
    "tmp['样本id'] = tmp['样本id'].astype(float)\n",
    "tmp['target'] = target\n",
    "tmp.reset_index(drop=True,inplace=True)\n",
    "len(tmp[tmp['样本id']>2000])"
   ]
  },
  {
   "cell_type": "code",
   "execution_count": 81,
   "metadata": {},
   "outputs": [],
   "source": [
    ""
   ]
  },
  {
   "cell_type": "code",
   "execution_count": 81,
   "metadata": {},
   "outputs": [],
   "source": [
    "#num = 20\n",
    "#for i in range(1,2001):\n",
    "#    tmp_data = tmp[(tmp['样本id']>= i-num) & (tmp['样本id']<= i+num) & (tmp['样本id'] != i)]\n",
    "#    if len(tmp_data) != 0:\n",
    "#        pred = np.mean(tmp_data['target'])\n",
    "#        std = np.std(tmp_data['target'])\n",
    "#        pred_all.append([i,pred,std])\n",
    "#    else:\n",
    "#        pred_all.append([i,mean_num,-1])"
   ]
  },
  {
   "cell_type": "code",
   "execution_count": 82,
   "metadata": {},
   "outputs": [
    {
     "data": {
      "text/plain": [
       "RangeIndex(start=0, stop=1531, step=1)"
      ]
     },
     "execution_count": 82,
     "metadata": {},
     "output_type": "execute_result"
    }
   ],
   "source": [
    "#data = data.merge(pred_all,on = '样本id',how = 'left')\n",
    "#numerical_columns.append('pred')\n",
    "#numerical_columns.append('std')\n",
    "data.shape\n",
    "data.columns\n",
    "data.index"
   ]
  },
  {
   "cell_type": "code",
   "execution_count": 83,
   "metadata": {},
   "outputs": [],
   "source": [
    "###温度特征data\n",
    "data['wendu_mean'] = np.mean(data[['A6','A10','A12','A15','A17','A21','A25','A27','B6','B8']],axis=1)\n",
    "numerical_columns.append('wendu_mean')"
   ]
  },
  {
   "cell_type": "code",
   "execution_count": 84,
   "metadata": {},
   "outputs": [],
   "source": [
    "# 有风的冬老哥，在群里无意爆出来的特征，让我提升了三个个点，当然也可以顺此继续扩展\n",
    "data['b14/a1_a3_a4_a19_b1_b12'] = data['B14']/(data['A1']+data['A3']+data['A4']+data['A19']+data['B1']+data['B12'])\n",
    "\n",
    "numerical_columns.append('b14/a1_a3_a4_a19_b1_b12')\n",
    "\n",
    "del data['A1']\n",
    "del data['A3']\n",
    "del data['A4']\n",
    "categorical_columns.remove('A1')\n",
    "categorical_columns.remove('A3')\n",
    "categorical_columns.remove('A4')"
   ]
  },
  {
   "cell_type": "code",
   "execution_count": 85,
   "metadata": {},
   "outputs": [],
   "source": [
    "data['A25'][data['样本id'] == 1590] = data['A25'][data['样本id'] != 1590].value_counts().values[0]\n",
    "data['A25'] = data['A25'].astype(float)"
   ]
  },
  {
   "cell_type": "code",
   "execution_count": 86,
   "metadata": {},
   "outputs": [],
   "source": [
    "data = pd.concat([data,data_2],axis=1)"
   ]
  },
  {
   "cell_type": "code",
   "execution_count": 87,
   "metadata": {},
   "outputs": [
    {
     "data": {
      "text/plain": [
       "(1531, 73)"
      ]
     },
     "execution_count": 87,
     "metadata": {},
     "output_type": "execute_result"
    }
   ],
   "source": [
    "data.shape"
   ]
  },
  {
   "cell_type": "code",
   "execution_count": 88,
   "metadata": {},
   "outputs": [],
   "source": [
    "#label encoder\n",
    "for f in categorical_columns:\n",
    "    data[f] = data[f].map(dict(zip(data[f].unique(), range(0, data[f].nunique()))))\n",
    "train = data[:train.shape[0]]\n",
    "test  = data[train.shape[0]:]"
   ]
  },
  {
   "cell_type": "code",
   "execution_count": 89,
   "metadata": {
    "collapsed": false
   },
   "outputs": [
    {
     "data": {
      "text/plain": [
       "['样本id', 'wendu_mean', 'b14/a1_a3_a4_a19_b1_b12']"
      ]
     },
     "execution_count": 89,
     "metadata": {},
     "output_type": "execute_result"
    }
   ],
   "source": [
    "numerical_columns"
   ]
  },
  {
   "cell_type": "code",
   "execution_count": 90,
   "metadata": {},
   "outputs": [],
   "source": [
    ""
   ]
  },
  {
   "cell_type": "code",
   "execution_count": 90,
   "metadata": {
    "collapsed": false
   },
   "outputs": [],
   "source": [
    "##mean_columns = []\n",
    "##for f1 in categorical_columns:\n",
    "##    cate_rate = train[f1].value_counts(normalize=True, dropna=False).values[0]\n",
    "##    if cate_rate < 0.90:\n",
    "##        for f2 in li:\n",
    "##            col_name = 'B14_to_'+f1+\"_\"+f2+'_mean'\n",
    "##            mean_columns.append(col_name)\n",
    "##            order_label = train.groupby([f1])[f2].mean()\n",
    "##            train[col_name] = train['B14'].map(order_label)\n",
    "##            miss_rate = train[col_name].isnull().sum() * 100 / train[col_name].shape[0]\n",
    "##            if miss_rate > 0:\n",
    "##                train = train.drop([col_name], axis=1)\n",
    "##                mean_columns.remove(col_name)\n",
    "##            else:\n",
    "##                test[col_name] = test['B14'].map(order_label)\n",
    "##                \n",
    "##train.drop(li+['target'], axis=1, inplace=True)\n",
    "##print(train.shape)\n",
    "##print(test.shape)"
   ]
  },
  {
   "cell_type": "code",
   "execution_count": 91,
   "metadata": {
    "collapsed": true
   },
   "outputs": [
    {
     "ename": "NameError",
     "evalue": "name 'mean_columns' is not defined",
     "traceback": [
      "\u001b[1;31m---------------------------------------------------------------------------\u001b[0m",
      "\u001b[1;31mNameError\u001b[0m                                 Traceback (most recent call last)",
      "\u001b[1;32m<ipython-input-91-53332c14e336>\u001b[0m in \u001b[0;36m<module>\u001b[1;34m()\u001b[0m\n\u001b[0;32m      1\u001b[0m \u001b[1;31m#是否进行特征筛选\u001b[0m\u001b[1;33m\u001b[0m\u001b[1;33m\u001b[0m\u001b[0m\n\u001b[1;32m----> 2\u001b[1;33m \u001b[0mtrain_columns_list\u001b[0m \u001b[1;33m=\u001b[0m \u001b[0mmean_columns\u001b[0m\u001b[1;33m+\u001b[0m\u001b[0mnumerical_columns\u001b[0m\u001b[1;33m\u001b[0m\u001b[0m\n\u001b[0m\u001b[0;32m      3\u001b[0m \u001b[0mbest_features\u001b[0m \u001b[1;33m=\u001b[0m \u001b[0mfeatureSelect\u001b[0m\u001b[1;33m(\u001b[0m\u001b[0mtrain_columns_list\u001b[0m\u001b[1;33m)\u001b[0m\u001b[1;33m\u001b[0m\u001b[0m\n\u001b[0;32m      4\u001b[0m \u001b[0mmean_columns\u001b[0m \u001b[1;33m=\u001b[0m \u001b[1;33m[\u001b[0m\u001b[0mx\u001b[0m \u001b[1;32mfor\u001b[0m \u001b[0mx\u001b[0m \u001b[1;32min\u001b[0m \u001b[0mmean_columns\u001b[0m \u001b[1;32mif\u001b[0m \u001b[0mx\u001b[0m \u001b[1;32min\u001b[0m \u001b[0mbest_features\u001b[0m\u001b[1;33m]\u001b[0m\u001b[1;33m\u001b[0m\u001b[0m\n\u001b[0;32m      5\u001b[0m \u001b[0mprint\u001b[0m\u001b[1;33m(\u001b[0m\u001b[0mlen\u001b[0m\u001b[1;33m(\u001b[0m\u001b[0mmean_columns\u001b[0m\u001b[1;33m)\u001b[0m\u001b[1;33m)\u001b[0m\u001b[1;33m\u001b[0m\u001b[0m\n",
      "\u001b[1;31mNameError\u001b[0m: name 'mean_columns' is not defined"
     ],
     "output_type": "error"
    }
   ],
   "source": [
    "#是否进行特征筛选\n",
    "train_columns_list = mean_columns+numerical_columns\n",
    "best_features = featureSelect(train_columns_list)\n",
    "mean_columns = [x for x in mean_columns if x in best_features]\n",
    "print(len(mean_columns))\n",
    "numerical_columns = [x for x in numerical_columns if x in best_features]\n",
    "print(len(numerical_columns))\n",
    "print(numerical_columns)"
   ]
  },
  {
   "cell_type": "code",
   "execution_count": 92,
   "metadata": {
    "collapsed": false
   },
   "outputs": [],
   "source": [
    "#X_train = train[mean_columns+numerical_columns].values\n",
    "#X_test = test[mean_columns+numerical_columns].values\n",
    "X_train = train[numerical_columns +column_mean_std].values\n",
    "X_test = test[numerical_columns +column_mean_std ].values"
   ]
  },
  {
   "cell_type": "code",
   "execution_count": 93,
   "metadata": {},
   "outputs": [
    {
     "data": {
      "text/plain": [
       "(1381, 73)"
      ]
     },
     "execution_count": 93,
     "metadata": {},
     "output_type": "execute_result"
    }
   ],
   "source": [
    "train.shape"
   ]
  },
  {
   "cell_type": "code",
   "execution_count": 94,
   "metadata": {},
   "outputs": [
    {
     "name": "stdout",
     "output_type": "stream",
     "text": [
      "(150, 2125)\n(1381, 2125)\n"
     ]
    }
   ],
   "source": [
    "# one hot\n",
    "enc = OneHotEncoder()\n",
    "for f in categorical_columns:\n",
    "    enc.fit(data[f].values.reshape(-1, 1))\n",
    "    X_train = sparse.hstack((X_train, enc.transform(train[f].values.reshape(-1, 1))), 'csr')\n",
    "    X_test = sparse.hstack((X_test, enc.transform(test[f].values.reshape(-1, 1))), 'csr')\n",
    "print(X_test.shape)\n",
    "print(X_train.shape)"
   ]
  },
  {
   "cell_type": "code",
   "execution_count": 95,
   "metadata": {},
   "outputs": [
    {
     "ename": "NameError",
     "evalue": "name 'mean_columns' is not defined",
     "traceback": [
      "\u001b[1;31m---------------------------------------------------------------------------\u001b[0m",
      "\u001b[1;31mNameError\u001b[0m                                 Traceback (most recent call last)",
      "\u001b[1;32m<ipython-input-95-665dc1e4d63f>\u001b[0m in \u001b[0;36m<module>\u001b[1;34m()\u001b[0m\n\u001b[0;32m      1\u001b[0m \u001b[0mtrain\u001b[0m\u001b[1;33m.\u001b[0m\u001b[0mcolumns\u001b[0m\u001b[1;33m\u001b[0m\u001b[0m\n\u001b[1;32m----> 2\u001b[1;33m \u001b[0mprint\u001b[0m\u001b[1;33m(\u001b[0m\u001b[0mlen\u001b[0m\u001b[1;33m(\u001b[0m\u001b[0mmean_columns\u001b[0m\u001b[1;33m)\u001b[0m\u001b[1;33m)\u001b[0m\u001b[1;33m\u001b[0m\u001b[0m\n\u001b[0m\u001b[0;32m      3\u001b[0m \u001b[0mprint\u001b[0m\u001b[1;33m(\u001b[0m\u001b[0mlen\u001b[0m\u001b[1;33m(\u001b[0m\u001b[0mnumerical_columns\u001b[0m\u001b[1;33m)\u001b[0m\u001b[1;33m)\u001b[0m\u001b[1;33m\u001b[0m\u001b[0m\n",
      "\u001b[1;31mNameError\u001b[0m: name 'mean_columns' is not defined"
     ],
     "output_type": "error"
    }
   ],
   "source": [
    "train.columns\n",
    "print(len(mean_columns))\n",
    "print(len(numerical_columns))"
   ]
  },
  {
   "cell_type": "code",
   "execution_count": 96,
   "metadata": {
    "collapsed": true
   },
   "outputs": [
    {
     "name": "stdout",
     "output_type": "stream",
     "text": [
      "fold n°1\nTraining until validation scores don't improve for 100 rounds.\n"
     ]
    },
    {
     "name": "stdout",
     "output_type": "stream",
     "text": [
      "[200]\ttraining's l2: 0.000191552\tvalid_1's l2: 0.000210257\n[400]\ttraining's l2: 0.000120871\tvalid_1's l2: 0.000147298\n"
     ]
    },
    {
     "name": "stdout",
     "output_type": "stream",
     "text": [
      "[600]\ttraining's l2: 9.82821e-05\tvalid_1's l2: 0.000128202\n"
     ]
    },
    {
     "name": "stdout",
     "output_type": "stream",
     "text": [
      "[800]\ttraining's l2: 8.79344e-05\tvalid_1's l2: 0.000121124\n[1000]\ttraining's l2: 8.18745e-05\tvalid_1's l2: 0.000117933\n"
     ]
    },
    {
     "name": "stdout",
     "output_type": "stream",
     "text": [
      "[1200]\ttraining's l2: 7.72994e-05\tvalid_1's l2: 0.000115697\n[1400]\ttraining's l2: 7.40032e-05\tvalid_1's l2: 0.000114488\n[1600]\ttraining's l2: 7.13893e-05\tvalid_1's l2: 0.000113639\n[1800]\ttraining's l2: 6.93651e-05\tvalid_1's l2: 0.000113149"
     ]
    },
    {
     "name": "stdout",
     "output_type": "stream",
     "text": [
      "\n[2000]\ttraining's l2: 6.79963e-05\tvalid_1's l2: 0.000112817\nEarly stopping, best iteration is:\n[1940]\ttraining's l2: 6.80694e-05\tvalid_1's l2: 0.000112816\nfold n°2"
     ]
    },
    {
     "name": "stdout",
     "output_type": "stream",
     "text": [
      "\nTraining until validation scores don't improve for 100 rounds.\n[200]\ttraining's l2: 0.000183875\tvalid_1's l2: 0.0002259\n[400]\ttraining's l2: 0.000115431\tvalid_1's l2: 0.000177131"
     ]
    },
    {
     "name": "stdout",
     "output_type": "stream",
     "text": [
      "\n[600]\ttraining's l2: 9.28946e-05\tvalid_1's l2: 0.000163493\n"
     ]
    },
    {
     "name": "stdout",
     "output_type": "stream",
     "text": [
      "[800]\ttraining's l2: 8.26964e-05\tvalid_1's l2: 0.000159939\n[1000]\ttraining's l2: 7.61322e-05\tvalid_1's l2: 0.000157629\n[1200]\ttraining's l2: 7.17184e-05\tvalid_1's l2: 0.000156338\n"
     ]
    },
    {
     "name": "stdout",
     "output_type": "stream",
     "text": [
      "[1400]\ttraining's l2: 6.83386e-05\tvalid_1's l2: 0.000155203\n[1600]\ttraining's l2: 6.57209e-05\tvalid_1's l2: 0.000154346\n[1800]\ttraining's l2: 6.35091e-05\tvalid_1's l2: 0.000153736\n[2000]\ttraining's l2: 6.17989e-05\tvalid_1's l2: 0.000153544"
     ]
    },
    {
     "name": "stdout",
     "output_type": "stream",
     "text": [
      "\n[2200]\ttraining's l2: 6.03342e-05\tvalid_1's l2: 0.000153227\nEarly stopping, best iteration is:\n[2285]\ttraining's l2: 5.97471e-05\tvalid_1's l2: 0.000152976\n"
     ]
    },
    {
     "name": "stdout",
     "output_type": "stream",
     "text": [
      "fold n°3\nTraining until validation scores don't improve for 100 rounds.\n[200]\ttraining's l2: 0.000186432\tvalid_1's l2: 0.000250393\n[400]\ttraining's l2: 0.000116325\tvalid_1's l2: 0.000186863"
     ]
    },
    {
     "name": "stdout",
     "output_type": "stream",
     "text": [
      "\n[600]\ttraining's l2: 9.31547e-05\tvalid_1's l2: 0.000168707\n"
     ]
    },
    {
     "name": "stdout",
     "output_type": "stream",
     "text": [
      "[800]\ttraining's l2: 8.28337e-05\tvalid_1's l2: 0.000163221\n[1000]\ttraining's l2: 7.69305e-05\tvalid_1's l2: 0.000161489\n[1200]\ttraining's l2: 7.29586e-05\tvalid_1's l2: 0.000160437\n"
     ]
    },
    {
     "name": "stdout",
     "output_type": "stream",
     "text": [
      "[1400]\ttraining's l2: 6.9919e-05\tvalid_1's l2: 0.000159762\n[1600]\ttraining's l2: 6.75083e-05\tvalid_1's l2: 0.000159109\n[1800]\ttraining's l2: 6.55952e-05\tvalid_1's l2: 0.000158513\n[2000]\ttraining's l2: 6.40427e-05\tvalid_1's l2: 0.000158401\nEarly stopping, best iteration is:\n[1937]\ttraining's l2: 6.45011e-05\tvalid_1's l2: 0.000158275"
     ]
    },
    {
     "name": "stdout",
     "output_type": "stream",
     "text": [
      "\nfold n°4\nTraining until validation scores don't improve for 100 rounds.\n"
     ]
    },
    {
     "name": "stdout",
     "output_type": "stream",
     "text": [
      "[200]\ttraining's l2: 0.000196918\tvalid_1's l2: 0.000225782\n[400]\ttraining's l2: 0.0001231\tvalid_1's l2: 0.000164362\n"
     ]
    },
    {
     "name": "stdout",
     "output_type": "stream",
     "text": [
      "[600]\ttraining's l2: 9.8158e-05\tvalid_1's l2: 0.000147743\n[800]\ttraining's l2: 8.68069e-05\tvalid_1's l2: 0.000140983\n[1000]\ttraining's l2: 8.04172e-05\tvalid_1's l2: 0.000138482"
     ]
    },
    {
     "name": "stdout",
     "output_type": "stream",
     "text": [
      "\n[1200]\ttraining's l2: 7.5847e-05\tvalid_1's l2: 0.000136976\n[1400]\ttraining's l2: 7.23205e-05\tvalid_1's l2: 0.000135872\n"
     ]
    },
    {
     "name": "stdout",
     "output_type": "stream",
     "text": [
      "[1600]\ttraining's l2: 6.96954e-05\tvalid_1's l2: 0.000135238\n[1800]\ttraining's l2: 6.75247e-05\tvalid_1's l2: 0.000134633\n[2000]\ttraining's l2: 6.56673e-05\tvalid_1's l2: 0.000134364\n[2200]\ttraining's l2: 6.4657e-05\tvalid_1's l2: 0.000134186"
     ]
    },
    {
     "name": "stdout",
     "output_type": "stream",
     "text": [
      "\nEarly stopping, best iteration is:\n[2113]\ttraining's l2: 6.48462e-05\tvalid_1's l2: 0.000134153\nfold n°5\nTraining until validation scores don't improve for 100 rounds.\n"
     ]
    },
    {
     "name": "stdout",
     "output_type": "stream",
     "text": [
      "[200]\ttraining's l2: 0.000193956\tvalid_1's l2: 0.000218849\n[400]\ttraining's l2: 0.000120901\tvalid_1's l2: 0.000148991\n"
     ]
    },
    {
     "name": "stdout",
     "output_type": "stream",
     "text": [
      "[600]\ttraining's l2: 9.84676e-05\tvalid_1's l2: 0.000133428\n[800]\ttraining's l2: 8.7928e-05\tvalid_1's l2: 0.000129694\n[1000]\ttraining's l2: 8.14887e-05\tvalid_1's l2: 0.000128219\n"
     ]
    },
    {
     "name": "stdout",
     "output_type": "stream",
     "text": [
      "[1200]\ttraining's l2: 7.67831e-05\tvalid_1's l2: 0.000127827\n[1400]\ttraining's l2: 7.32155e-05\tvalid_1's l2: 0.000127483\nEarly stopping, best iteration is:\n[1470]\ttraining's l2: 7.22644e-05\tvalid_1's l2: 0.00012739\n"
     ]
    },
    {
     "name": "stdout",
     "output_type": "stream",
     "text": [
      "CV score: 0.00013711\n"
     ]
    }
   ],
   "source": [
    "param = {'num_leaves': 120,\n",
    "         'min_data_in_leaf': 30, \n",
    "         'objective':'regression',\n",
    "         'max_depth': -1,\n",
    "         'learning_rate': 0.01,\n",
    "         \"min_child_samples\": 30,\n",
    "         \"boosting\": \"gbdt\",\n",
    "         \"feature_fraction\": 0.9,\n",
    "         \"bagging_freq\": 1,\n",
    "         \"bagging_fraction\": 0.9 ,\n",
    "         \"bagging_seed\": 11,\n",
    "         \"metric\": 'mse',\n",
    "         \"lambda_l1\": 0.1,\n",
    "         \"verbosity\": -1}\n",
    "folds = KFold(n_splits=5, shuffle=True, random_state=2018)\n",
    "oof_lgb = np.zeros(len(train))\n",
    "predictions_lgb = np.zeros(len(test))\n",
    "y_train = target.values\n",
    "for fold_, (trn_idx, val_idx) in enumerate(folds.split(X_train, y_train)):\n",
    "    print(\"fold n°{}\".format(fold_+1))\n",
    "    trn_data = lgb.Dataset(X_train[trn_idx], y_train[trn_idx])\n",
    "    val_data = lgb.Dataset(X_train[val_idx], y_train[val_idx])\n",
    "    num_round = 10000\n",
    "    clf = lgb.train(param, trn_data, num_round, valid_sets = [trn_data, val_data], verbose_eval=200, early_stopping_rounds = 100)\n",
    "    oof_lgb[val_idx] = clf.predict(X_train[val_idx], num_iteration=clf.best_iteration)\n",
    "    predictions_lgb += clf.predict(X_test, num_iteration=clf.best_iteration) / folds.n_splits\n",
    "\n",
    "print(\"CV score: {:<8.8f}\".format(mean_squared_error(oof_lgb, y_train)))"
   ]
  },
  {
   "cell_type": "code",
   "execution_count": 61,
   "metadata": {
    "collapsed": true
   },
   "outputs": [
    {
     "name": "stdout",
     "output_type": "stream",
     "text": [
      "fold n°1\n[0]\ttrain-rmse:0.422934\tvalid_data-rmse:0.423824\n"
     ]
    },
    {
     "name": "stdout",
     "output_type": "stream",
     "text": [
      "Multiple eval metrics have been passed: 'valid_data-rmse' will be used for early stopping.\n\n"
     ]
    },
    {
     "name": "stdout",
     "output_type": "stream",
     "text": [
      "Will train until valid_data-rmse hasn't improved in 200 rounds.\n"
     ]
    },
    {
     "name": "stdout",
     "output_type": "stream",
     "text": [
      "[100]\ttrain-rmse:0.257107\tvalid_data-rmse:0.258117\n"
     ]
    },
    {
     "name": "stdout",
     "output_type": "stream",
     "text": [
      "[200]\ttrain-rmse:0.156776\tvalid_data-rmse:0.157827\n"
     ]
    },
    {
     "name": "stdout",
     "output_type": "stream",
     "text": [
      "[300]\ttrain-rmse:0.096104\tvalid_data-rmse:0.097126\n"
     ]
    },
    {
     "name": "stdout",
     "output_type": "stream",
     "text": [
      "[400]\ttrain-rmse:0.059438\tvalid_data-rmse:0.060414\n"
     ]
    },
    {
     "name": "stdout",
     "output_type": "stream",
     "text": [
      "[500]\ttrain-rmse:0.03734\tvalid_data-rmse:0.03839\n"
     ]
    },
    {
     "name": "stdout",
     "output_type": "stream",
     "text": [
      "[600]\ttrain-rmse:0.024069\tvalid_data-rmse:0.025395\n"
     ]
    },
    {
     "name": "stdout",
     "output_type": "stream",
     "text": [
      "[700]\ttrain-rmse:0.016151\tvalid_data-rmse:0.018043\n"
     ]
    },
    {
     "name": "stdout",
     "output_type": "stream",
     "text": [
      "[800]\ttrain-rmse:0.011453\tvalid_data-rmse:0.014167\n"
     ]
    },
    {
     "name": "stdout",
     "output_type": "stream",
     "text": [
      "[900]\ttrain-rmse:0.008741\tvalid_data-rmse:0.012273\n"
     ]
    },
    {
     "name": "stdout",
     "output_type": "stream",
     "text": [
      "[1000]\ttrain-rmse:0.007172\tvalid_data-rmse:0.01139\n"
     ]
    },
    {
     "name": "stdout",
     "output_type": "stream",
     "text": [
      "[1100]\ttrain-rmse:0.006267\tvalid_data-rmse:0.01099\n"
     ]
    },
    {
     "name": "stdout",
     "output_type": "stream",
     "text": [
      "[1200]\ttrain-rmse:0.005678\tvalid_data-rmse:0.010814\n"
     ]
    },
    {
     "name": "stdout",
     "output_type": "stream",
     "text": [
      "[1300]\ttrain-rmse:0.005269\tvalid_data-rmse:0.010725\n"
     ]
    },
    {
     "name": "stdout",
     "output_type": "stream",
     "text": [
      "[1400]\ttrain-rmse:0.004924\tvalid_data-rmse:0.010679\n"
     ]
    },
    {
     "name": "stdout",
     "output_type": "stream",
     "text": [
      "[1500]\ttrain-rmse:0.004625\tvalid_data-rmse:0.010648\n"
     ]
    },
    {
     "name": "stdout",
     "output_type": "stream",
     "text": [
      "[1600]\ttrain-rmse:0.004387\tvalid_data-rmse:0.010635\n"
     ]
    },
    {
     "name": "stdout",
     "output_type": "stream",
     "text": [
      "[1700]\ttrain-rmse:0.004136\tvalid_data-rmse:0.010625\n"
     ]
    },
    {
     "name": "stdout",
     "output_type": "stream",
     "text": [
      "[1800]\ttrain-rmse:0.003925\tvalid_data-rmse:0.010623\n"
     ]
    },
    {
     "name": "stdout",
     "output_type": "stream",
     "text": [
      "[1900]\ttrain-rmse:0.003718\tvalid_data-rmse:0.01062\n"
     ]
    },
    {
     "name": "stdout",
     "output_type": "stream",
     "text": [
      "[2000]\ttrain-rmse:0.003532\tvalid_data-rmse:0.010626\n"
     ]
    },
    {
     "name": "stdout",
     "output_type": "stream",
     "text": [
      "Stopping. Best iteration:\n[1878]\ttrain-rmse:0.003753\tvalid_data-rmse:0.010619\n\n"
     ]
    },
    {
     "name": "stdout",
     "output_type": "stream",
     "text": [
      "fold n°2\n[0]\ttrain-rmse:0.424045\tvalid_data-rmse:0.419348\n"
     ]
    },
    {
     "name": "stdout",
     "output_type": "stream",
     "text": [
      "Multiple eval metrics have been passed: 'valid_data-rmse' will be used for early stopping.\n\n"
     ]
    },
    {
     "name": "stdout",
     "output_type": "stream",
     "text": [
      "Will train until valid_data-rmse hasn't improved in 200 rounds.\n"
     ]
    },
    {
     "name": "stdout",
     "output_type": "stream",
     "text": [
      "[100]\ttrain-rmse:0.257792\tvalid_data-rmse:0.253856\n"
     ]
    },
    {
     "name": "stdout",
     "output_type": "stream",
     "text": [
      "[200]\ttrain-rmse:0.157195\tvalid_data-rmse:0.153952\n"
     ]
    },
    {
     "name": "stdout",
     "output_type": "stream",
     "text": [
      "[300]\ttrain-rmse:0.096332\tvalid_data-rmse:0.093703\n"
     ]
    },
    {
     "name": "stdout",
     "output_type": "stream",
     "text": [
      "[400]\ttrain-rmse:0.059535\tvalid_data-rmse:0.057489\n"
     ]
    },
    {
     "name": "stdout",
     "output_type": "stream",
     "text": [
      "[500]\ttrain-rmse:0.03737\tvalid_data-rmse:0.036144\n"
     ]
    },
    {
     "name": "stdout",
     "output_type": "stream",
     "text": [
      "[600]\ttrain-rmse:0.024013\tvalid_data-rmse:0.023869\n"
     ]
    },
    {
     "name": "stdout",
     "output_type": "stream",
     "text": [
      "[700]\ttrain-rmse:0.016048\tvalid_data-rmse:0.01731\n"
     ]
    },
    {
     "name": "stdout",
     "output_type": "stream",
     "text": [
      "[800]\ttrain-rmse:0.011332\tvalid_data-rmse:0.014179\n"
     ]
    },
    {
     "name": "stdout",
     "output_type": "stream",
     "text": [
      "[900]\ttrain-rmse:0.008566\tvalid_data-rmse:0.012847\n"
     ]
    },
    {
     "name": "stdout",
     "output_type": "stream",
     "text": [
      "[1000]\ttrain-rmse:0.006995\tvalid_data-rmse:0.012339\n"
     ]
    },
    {
     "name": "stdout",
     "output_type": "stream",
     "text": [
      "[1100]\ttrain-rmse:0.006066\tvalid_data-rmse:0.012174\n"
     ]
    },
    {
     "name": "stdout",
     "output_type": "stream",
     "text": [
      "[1200]\ttrain-rmse:0.005522\tvalid_data-rmse:0.012136\n"
     ]
    },
    {
     "name": "stdout",
     "output_type": "stream",
     "text": [
      "[1300]\ttrain-rmse:0.005109\tvalid_data-rmse:0.012149\n"
     ]
    },
    {
     "name": "stdout",
     "output_type": "stream",
     "text": [
      "[1400]\ttrain-rmse:0.004782\tvalid_data-rmse:0.012168\n"
     ]
    },
    {
     "name": "stdout",
     "output_type": "stream",
     "text": [
      "Stopping. Best iteration:\n[1209]\ttrain-rmse:0.00548\tvalid_data-rmse:0.012135\n\n"
     ]
    },
    {
     "name": "stdout",
     "output_type": "stream",
     "text": [
      "fold n°3\n[0]\ttrain-rmse:0.422402\tvalid_data-rmse:0.425952\n"
     ]
    },
    {
     "name": "stdout",
     "output_type": "stream",
     "text": [
      "Multiple eval metrics have been passed: 'valid_data-rmse' will be used for early stopping.\n\n"
     ]
    },
    {
     "name": "stdout",
     "output_type": "stream",
     "text": [
      "Will train until valid_data-rmse hasn't improved in 200 rounds.\n"
     ]
    },
    {
     "name": "stdout",
     "output_type": "stream",
     "text": [
      "[100]\ttrain-rmse:0.256764\tvalid_data-rmse:0.260027\n"
     ]
    },
    {
     "name": "stdout",
     "output_type": "stream",
     "text": [
      "[200]\ttrain-rmse:0.156548\tvalid_data-rmse:0.159473\n"
     ]
    },
    {
     "name": "stdout",
     "output_type": "stream",
     "text": [
      "[300]\ttrain-rmse:0.095936\tvalid_data-rmse:0.098436\n"
     ]
    },
    {
     "name": "stdout",
     "output_type": "stream",
     "text": [
      "[400]\ttrain-rmse:0.059361\tvalid_data-rmse:0.061382\n"
     ]
    },
    {
     "name": "stdout",
     "output_type": "stream",
     "text": [
      "[500]\ttrain-rmse:0.037299\tvalid_data-rmse:0.03898\n"
     ]
    },
    {
     "name": "stdout",
     "output_type": "stream",
     "text": [
      "[600]\ttrain-rmse:0.024013\tvalid_data-rmse:0.025765\n"
     ]
    },
    {
     "name": "stdout",
     "output_type": "stream",
     "text": [
      "[700]\ttrain-rmse:0.016083\tvalid_data-rmse:0.018314\n"
     ]
    },
    {
     "name": "stdout",
     "output_type": "stream",
     "text": [
      "[800]\ttrain-rmse:0.011386\tvalid_data-rmse:0.014485\n"
     ]
    },
    {
     "name": "stdout",
     "output_type": "stream",
     "text": [
      "[900]\ttrain-rmse:0.008656\tvalid_data-rmse:0.012729\n"
     ]
    },
    {
     "name": "stdout",
     "output_type": "stream",
     "text": [
      "[1000]\ttrain-rmse:0.007067\tvalid_data-rmse:0.011986\n"
     ]
    },
    {
     "name": "stdout",
     "output_type": "stream",
     "text": [
      "[1100]\ttrain-rmse:0.006154\tvalid_data-rmse:0.011701\n"
     ]
    },
    {
     "name": "stdout",
     "output_type": "stream",
     "text": [
      "[1200]\ttrain-rmse:0.005564\tvalid_data-rmse:0.011607\n"
     ]
    },
    {
     "name": "stdout",
     "output_type": "stream",
     "text": [
      "[1300]\ttrain-rmse:0.005159\tvalid_data-rmse:0.011576\n"
     ]
    },
    {
     "name": "stdout",
     "output_type": "stream",
     "text": [
      "[1400]\ttrain-rmse:0.004822\tvalid_data-rmse:0.011578\n"
     ]
    },
    {
     "name": "stdout",
     "output_type": "stream",
     "text": [
      "[1500]\ttrain-rmse:0.004538\tvalid_data-rmse:0.011594\n"
     ]
    },
    {
     "name": "stdout",
     "output_type": "stream",
     "text": [
      "Stopping. Best iteration:\n[1337]\ttrain-rmse:0.005017\tvalid_data-rmse:0.011573\n\n"
     ]
    },
    {
     "name": "stdout",
     "output_type": "stream",
     "text": [
      "fold n°4\n[0]\ttrain-rmse:0.422949\tvalid_data-rmse:0.423757\n"
     ]
    },
    {
     "name": "stdout",
     "output_type": "stream",
     "text": [
      "Multiple eval metrics have been passed: 'valid_data-rmse' will be used for early stopping.\n\n"
     ]
    },
    {
     "name": "stdout",
     "output_type": "stream",
     "text": [
      "Will train until valid_data-rmse hasn't improved in 200 rounds.\n"
     ]
    },
    {
     "name": "stdout",
     "output_type": "stream",
     "text": [
      "[100]\ttrain-rmse:0.257113\tvalid_data-rmse:0.257003\n"
     ]
    },
    {
     "name": "stdout",
     "output_type": "stream",
     "text": [
      "[200]\ttrain-rmse:0.15678\tvalid_data-rmse:0.155989\n"
     ]
    },
    {
     "name": "stdout",
     "output_type": "stream",
     "text": [
      "[300]\ttrain-rmse:0.096111\tvalid_data-rmse:0.095061\n"
     ]
    },
    {
     "name": "stdout",
     "output_type": "stream",
     "text": [
      "[400]\ttrain-rmse:0.059462\tvalid_data-rmse:0.058491\n"
     ]
    },
    {
     "name": "stdout",
     "output_type": "stream",
     "text": [
      "[500]\ttrain-rmse:0.037357\tvalid_data-rmse:0.036719\n"
     ]
    },
    {
     "name": "stdout",
     "output_type": "stream",
     "text": [
      "[600]\ttrain-rmse:0.024076\tvalid_data-rmse:0.024086\n"
     ]
    },
    {
     "name": "stdout",
     "output_type": "stream",
     "text": [
      "[700]\ttrain-rmse:0.016129\tvalid_data-rmse:0.017145\n"
     ]
    },
    {
     "name": "stdout",
     "output_type": "stream",
     "text": [
      "[800]\ttrain-rmse:0.011445\tvalid_data-rmse:0.013724\n"
     ]
    },
    {
     "name": "stdout",
     "output_type": "stream",
     "text": [
      "[900]\ttrain-rmse:0.008703\tvalid_data-rmse:0.012206\n"
     ]
    },
    {
     "name": "stdout",
     "output_type": "stream",
     "text": [
      "[1000]\ttrain-rmse:0.007147\tvalid_data-rmse:0.011592\n"
     ]
    },
    {
     "name": "stdout",
     "output_type": "stream",
     "text": [
      "[1100]\ttrain-rmse:0.006224\tvalid_data-rmse:0.011378\n"
     ]
    },
    {
     "name": "stdout",
     "output_type": "stream",
     "text": [
      "[1200]\ttrain-rmse:0.00567\tvalid_data-rmse:0.011304\n"
     ]
    },
    {
     "name": "stdout",
     "output_type": "stream",
     "text": [
      "[1300]\ttrain-rmse:0.005258\tvalid_data-rmse:0.011277\n"
     ]
    },
    {
     "name": "stdout",
     "output_type": "stream",
     "text": [
      "[1400]\ttrain-rmse:0.004945\tvalid_data-rmse:0.011269\n"
     ]
    },
    {
     "name": "stdout",
     "output_type": "stream",
     "text": [
      "[1500]\ttrain-rmse:0.004677\tvalid_data-rmse:0.011266\n"
     ]
    },
    {
     "name": "stdout",
     "output_type": "stream",
     "text": [
      "[1600]\ttrain-rmse:0.004453\tvalid_data-rmse:0.01128\n"
     ]
    },
    {
     "name": "stdout",
     "output_type": "stream",
     "text": [
      "Stopping. Best iteration:\n[1493]\ttrain-rmse:0.004698\tvalid_data-rmse:0.011264\n\n"
     ]
    },
    {
     "name": "stdout",
     "output_type": "stream",
     "text": [
      "fold n°5\n[0]\ttrain-rmse:0.42323\tvalid_data-rmse:0.422634\n"
     ]
    },
    {
     "name": "stdout",
     "output_type": "stream",
     "text": [
      "Multiple eval metrics have been passed: 'valid_data-rmse' will be used for early stopping.\n\n"
     ]
    },
    {
     "name": "stdout",
     "output_type": "stream",
     "text": [
      "Will train until valid_data-rmse hasn't improved in 200 rounds.\n"
     ]
    },
    {
     "name": "stdout",
     "output_type": "stream",
     "text": [
      "[100]\ttrain-rmse:0.257325\tvalid_data-rmse:0.257108\n"
     ]
    },
    {
     "name": "stdout",
     "output_type": "stream",
     "text": [
      "[200]\ttrain-rmse:0.156945\tvalid_data-rmse:0.157062\n"
     ]
    },
    {
     "name": "stdout",
     "output_type": "stream",
     "text": [
      "[300]\ttrain-rmse:0.096197\tvalid_data-rmse:0.096514\n"
     ]
    },
    {
     "name": "stdout",
     "output_type": "stream",
     "text": [
      "[400]\ttrain-rmse:0.059544\tvalid_data-rmse:0.06007\n"
     ]
    },
    {
     "name": "stdout",
     "output_type": "stream",
     "text": [
      "[500]\ttrain-rmse:0.037442\tvalid_data-rmse:0.038305\n"
     ]
    },
    {
     "name": "stdout",
     "output_type": "stream",
     "text": [
      "[600]\ttrain-rmse:0.024166\tvalid_data-rmse:0.025499\n"
     ]
    },
    {
     "name": "stdout",
     "output_type": "stream",
     "text": [
      "[700]\ttrain-rmse:0.016224\tvalid_data-rmse:0.018207\n"
     ]
    },
    {
     "name": "stdout",
     "output_type": "stream",
     "text": [
      "[800]\ttrain-rmse:0.011541\tvalid_data-rmse:0.014291\n"
     ]
    },
    {
     "name": "stdout",
     "output_type": "stream",
     "text": [
      "[900]\ttrain-rmse:0.008813\tvalid_data-rmse:0.012308\n"
     ]
    },
    {
     "name": "stdout",
     "output_type": "stream",
     "text": [
      "[1000]\ttrain-rmse:0.007257\tvalid_data-rmse:0.01134\n"
     ]
    },
    {
     "name": "stdout",
     "output_type": "stream",
     "text": [
      "[1100]\ttrain-rmse:0.006369\tvalid_data-rmse:0.010882\n"
     ]
    },
    {
     "name": "stdout",
     "output_type": "stream",
     "text": [
      "[1200]\ttrain-rmse:0.005805\tvalid_data-rmse:0.010661\n"
     ]
    },
    {
     "name": "stdout",
     "output_type": "stream",
     "text": [
      "[1300]\ttrain-rmse:0.005409\tvalid_data-rmse:0.010555\n"
     ]
    },
    {
     "name": "stdout",
     "output_type": "stream",
     "text": [
      "[1400]\ttrain-rmse:0.005104\tvalid_data-rmse:0.010497\n"
     ]
    },
    {
     "name": "stdout",
     "output_type": "stream",
     "text": [
      "[1500]\ttrain-rmse:0.004828\tvalid_data-rmse:0.010465\n"
     ]
    },
    {
     "name": "stdout",
     "output_type": "stream",
     "text": [
      "[1600]\ttrain-rmse:0.004546\tvalid_data-rmse:0.010447\n"
     ]
    },
    {
     "name": "stdout",
     "output_type": "stream",
     "text": [
      "[1700]\ttrain-rmse:0.004335\tvalid_data-rmse:0.010444\n"
     ]
    },
    {
     "name": "stdout",
     "output_type": "stream",
     "text": [
      "[1800]\ttrain-rmse:0.004112\tvalid_data-rmse:0.010439\n"
     ]
    },
    {
     "name": "stdout",
     "output_type": "stream",
     "text": [
      "[1900]\ttrain-rmse:0.003915\tvalid_data-rmse:0.01044\n"
     ]
    },
    {
     "name": "stdout",
     "output_type": "stream",
     "text": [
      "[2000]\ttrain-rmse:0.003723\tvalid_data-rmse:0.010441\n"
     ]
    },
    {
     "name": "stdout",
     "output_type": "stream",
     "text": [
      "Stopping. Best iteration:\n[1810]\ttrain-rmse:0.004092\tvalid_data-rmse:0.010436\n\n"
     ]
    },
    {
     "name": "stdout",
     "output_type": "stream",
     "text": [
      "CV score: 0.00012594\n"
     ]
    }
   ],
   "source": [
    "##### xgb\n",
    "xgb_params = {'eta': 0.005, 'max_depth': 10, 'subsample': 0.8, 'colsample_bytree': 0.8, \n",
    "          'objective': 'reg:linear', 'eval_metric': 'rmse', 'silent': True, 'nthread': 4}\n",
    "\n",
    "folds = KFold(n_splits=5, shuffle=True, random_state=2018)\n",
    "oof_xgb = np.zeros(len(train))\n",
    "predictions_xgb = np.zeros(len(test))\n",
    "\n",
    "for fold_, (trn_idx, val_idx) in enumerate(folds.split(X_train, y_train)):\n",
    "    print(\"fold n°{}\".format(fold_+1))\n",
    "    trn_data = xgb.DMatrix(X_train[trn_idx], y_train[trn_idx])\n",
    "    val_data = xgb.DMatrix(X_train[val_idx], y_train[val_idx])\n",
    "\n",
    "    watchlist = [(trn_data, 'train'), (val_data, 'valid_data')]\n",
    "    clf = xgb.train(dtrain=trn_data, num_boost_round=20000, evals=watchlist, early_stopping_rounds=200, verbose_eval=100, params=xgb_params)\n",
    "    oof_xgb[val_idx] = clf.predict(xgb.DMatrix(X_train[val_idx]), ntree_limit=clf.best_ntree_limit)\n",
    "    predictions_xgb += clf.predict(xgb.DMatrix(X_test), ntree_limit=clf.best_ntree_limit) / folds.n_splits\n",
    "\n",
    "print(\"CV score: {:<8.8f}\".format(mean_squared_error(oof_xgb, y_train)))"
   ]
  },
  {
   "cell_type": "code",
   "execution_count": 97,
   "metadata": {},
   "outputs": [
    {
     "name": "stdout",
     "output_type": "stream",
     "text": [
      "fold 0\nfold 1\nfold 2\nfold 3\nfold 4\nfold 5\nfold 6\nfold 7\nfold 8\nfold 9\n0.00012402348742621196\n"
     ]
    }
   ],
   "source": [
    "# 将lgb和xgb的结果进行stacking\n",
    "train_stack = np.vstack([oof_lgb,oof_xgb]).transpose()\n",
    "test_stack = np.vstack([predictions_lgb, predictions_xgb]).transpose()\n",
    "folds_stack = RepeatedKFold(n_splits=5, n_repeats=2, random_state=4590)\n",
    "oof_stack = np.zeros(train_stack.shape[0])\n",
    "predictions = np.zeros(test_stack.shape[0])\n",
    "for fold_, (trn_idx, val_idx) in enumerate(folds_stack.split(train_stack,y_train)):\n",
    "    print(\"fold {}\".format(fold_))\n",
    "    trn_data, trn_y = train_stack[trn_idx], y_train[trn_idx]\n",
    "    val_data, val_y = train_stack[val_idx], y_train[val_idx]\n",
    "    \n",
    "    clf_3 = BayesianRidge()\n",
    "    clf_3.fit(trn_data, trn_y)\n",
    "    \n",
    "    oof_stack[val_idx] = clf_3.predict(val_data)\n",
    "    predictions += clf_3.predict(test_stack) / 10\n",
    "print(mean_squared_error(y_train, oof_stack))"
   ]
  },
  {
   "cell_type": "code",
   "execution_count": 297,
   "metadata": {},
   "outputs": [],
   "source": [
    "sub_df = pd.read_csv('./jinnan_round1_submit_20181227.csv', header=None)\n",
    "sub_df[1] = predictions\n",
    "sub_df[1] = sub_df[1].apply(lambda x:round(x, 3))"
   ]
  },
  {
   "cell_type": "code",
   "execution_count": 300,
   "metadata": {},
   "outputs": [],
   "source": [
    "sub_df.to_csv('solution.csv',index=False,header=False,encoding='gbk')"
   ]
  },
  {
   "cell_type": "code",
   "execution_count": 229,
   "metadata": {},
   "outputs": [],
   "source": [
    "def modeling_cross_validation(params, X, y, nr_folds=5):\n",
    "    \n",
    "    oof_preds = np.zeros(X.shape[0])\n",
    "    # Split data with kfold\n",
    "    folds = KFold(n_splits=nr_folds, shuffle=False, random_state=4096)\n",
    "    \n",
    "    for fold_, (trn_idx, val_idx) in enumerate(folds.split(X, y)):\n",
    "        print(\"fold n°{}\".format(fold_+1))\n",
    "        trn_data = lgb.Dataset(X[trn_idx], y[trn_idx])\n",
    "        val_data = lgb.Dataset(X[val_idx], y[val_idx])\n",
    "\n",
    "        num_round = 20000\n",
    "        clf = lgb.train(params, trn_data, num_round, valid_sets = [trn_data, val_data], verbose_eval=1000, early_stopping_rounds = 100)\n",
    "        oof_preds[val_idx] = clf.predict(X[val_idx], num_iteration=clf.best_iteration)\n",
    "\n",
    "    score = mean_squared_error(oof_preds, target)\n",
    "    \n",
    "    return  score/2"
   ]
  },
  {
   "cell_type": "code",
   "execution_count": 230,
   "metadata": {},
   "outputs": [],
   "source": [
    ""
   ]
  },
  {
   "cell_type": "code",
   "execution_count": 235,
   "metadata": {
    "collapsed": true
   },
   "outputs": [
    {
     "name": "stdout",
     "output_type": "stream",
     "text": [
      "fold n°1\nTraining until validation scores don't improve for 100 rounds.\n"
     ]
    },
    {
     "name": "stdout",
     "output_type": "stream",
     "text": [
      "Early stopping, best iteration is:\n[409]\ttraining's l2: 6.55238e-05\tvalid_1's l2: 0.000140613\nfold n°2\nTraining until validation scores don't improve for 100 rounds.\n"
     ]
    },
    {
     "name": "stdout",
     "output_type": "stream",
     "text": [
      "Early stopping, best iteration is:\n[589]\ttraining's l2: 5.81787e-05\tvalid_1's l2: 0.000139731\nfold n°3\nTraining until validation scores don't improve for 100 rounds.\n"
     ]
    },
    {
     "name": "stdout",
     "output_type": "stream",
     "text": [
      "Early stopping, best iteration is:\n[741]\ttraining's l2: 5.87955e-05\tvalid_1's l2: 0.000110804\nfold n°4\nTraining until validation scores don't improve for 100 rounds.\n"
     ]
    },
    {
     "name": "stdout",
     "output_type": "stream",
     "text": [
      "Early stopping, best iteration is:\n[255]\ttraining's l2: 7.94528e-05\tvalid_1's l2: 0.000110474\nfold n°5\nTraining until validation scores don't improve for 100 rounds.\nEarly stopping, best iteration is:\n[127]\ttraining's l2: 9.48896e-05\tvalid_1's l2: 0.000147151\n初始CV score: 0.00006488\nfold n°1\nTraining until validation scores don't improve for 100 rounds.\n"
     ]
    },
    {
     "name": "stdout",
     "output_type": "stream",
     "text": [
      "Early stopping, best iteration is:\n[313]\ttraining's l2: 7.1517e-05\tvalid_1's l2: 0.000138039\nfold n°2\nTraining until validation scores don't improve for 100 rounds.\n"
     ]
    },
    {
     "name": "stdout",
     "output_type": "stream",
     "text": [
      "Early stopping, best iteration is:\n[589]\ttraining's l2: 5.83178e-05\tvalid_1's l2: 0.000137984\nfold n°3\nTraining until validation scores don't improve for 100 rounds.\n"
     ]
    },
    {
     "name": "stdout",
     "output_type": "stream",
     "text": [
      "[1000]\ttraining's l2: 5.37443e-05\tvalid_1's l2: 0.000112393\nEarly stopping, best iteration is:\n[911]\ttraining's l2: 5.53951e-05\tvalid_1's l2: 0.000111515\nfold n°4\nTraining until validation scores don't improve for 100 rounds.\n"
     ]
    },
    {
     "name": "stdout",
     "output_type": "stream",
     "text": [
      "Early stopping, best iteration is:\n[274]\ttraining's l2: 7.72914e-05\tvalid_1's l2: 0.00010869\nfold n°5\nTraining until validation scores don't improve for 100 rounds.\n"
     ]
    },
    {
     "name": "stdout",
     "output_type": "stream",
     "text": [
      "Early stopping, best iteration is:\n[238]\ttraining's l2: 7.74774e-05\tvalid_1's l2: 0.000144568\n----------\n当前移除特征: B14_to_A5_intTarget_0_mean, CV score: 0.00006408, 最佳cv score: 0.00006488, 有效果,删除！！\nfold n°1\nTraining until validation scores don't improve for 100 rounds.\n"
     ]
    },
    {
     "name": "stdout",
     "output_type": "stream",
     "text": [
      "Early stopping, best iteration is:\n[456]\ttraining's l2: 6.34015e-05\tvalid_1's l2: 0.000138542\nfold n°2\nTraining until validation scores don't improve for 100 rounds.\n"
     ]
    },
    {
     "name": "stdout",
     "output_type": "stream",
     "text": [
      "Early stopping, best iteration is:\n[511]\ttraining's l2: 6.12451e-05\tvalid_1's l2: 0.000138774\nfold n°3\nTraining until validation scores don't improve for 100 rounds.\n"
     ]
    },
    {
     "name": "stdout",
     "output_type": "stream",
     "text": [
      "Early stopping, best iteration is:\n[739]\ttraining's l2: 5.92715e-05\tvalid_1's l2: 0.000111486\nfold n°4\nTraining until validation scores don't improve for 100 rounds.\n"
     ]
    },
    {
     "name": "stdout",
     "output_type": "stream",
     "text": [
      "Early stopping, best iteration is:\n[271]\ttraining's l2: 7.84673e-05\tvalid_1's l2: 0.000109117\nfold n°5\nTraining until validation scores don't improve for 100 rounds.\n"
     ]
    },
    {
     "name": "stdout",
     "output_type": "stream",
     "text": [
      "Early stopping, best iteration is:\n[227]\ttraining's l2: 7.90269e-05\tvalid_1's l2: 0.000145034\n----------\n当前移除特征: B14_to_A5_intTarget_1_mean, CV score: 0.00006430, 最佳cv score: 0.00006408, 没效果,保留！！\nfold n°1\nTraining until validation scores don't improve for 100 rounds.\n"
     ]
    },
    {
     "name": "stdout",
     "output_type": "stream",
     "text": [
      "Early stopping, best iteration is:\n[299]\ttraining's l2: 7.239e-05\tvalid_1's l2: 0.000141338\nfold n°2\nTraining until validation scores don't improve for 100 rounds.\n"
     ]
    },
    {
     "name": "stdout",
     "output_type": "stream",
     "text": [
      "Early stopping, best iteration is:\n[589]\ttraining's l2: 5.81139e-05\tvalid_1's l2: 0.000137618\nfold n°3\nTraining until validation scores don't improve for 100 rounds.\n"
     ]
    },
    {
     "name": "stdout",
     "output_type": "stream",
     "text": [
      "Early stopping, best iteration is:\n[677]\ttraining's l2: 6.0634e-05\tvalid_1's l2: 0.000111074\nfold n°4\nTraining until validation scores don't improve for 100 rounds.\n"
     ]
    },
    {
     "name": "stdout",
     "output_type": "stream",
     "text": [
      "Early stopping, best iteration is:\n[228]\ttraining's l2: 8.24597e-05\tvalid_1's l2: 0.000110153\nfold n°5\nTraining until validation scores don't improve for 100 rounds.\n"
     ]
    },
    {
     "name": "stdout",
     "output_type": "stream",
     "text": [
      "Early stopping, best iteration is:\n[177]\ttraining's l2: 8.46574e-05\tvalid_1's l2: 0.000146266\n----------\n当前移除特征: B14_to_A5_intTarget_2_mean, CV score: 0.00006465, 最佳cv score: 0.00006408, 没效果,保留！！\nfold n°1\nTraining until validation scores don't improve for 100 rounds.\nEarly stopping, best iteration is:\n[288]\ttraining's l2: 7.33103e-05\tvalid_1's l2: 0.000139385\nfold n°2"
     ]
    },
    {
     "name": "stdout",
     "output_type": "stream",
     "text": [
      "\nTraining until validation scores don't improve for 100 rounds.\n"
     ]
    },
    {
     "name": "stdout",
     "output_type": "stream",
     "text": [
      "Early stopping, best iteration is:\n[494]\ttraining's l2: 6.17622e-05\tvalid_1's l2: 0.000137366\nfold n°3\nTraining until validation scores don't improve for 100 rounds.\n"
     ]
    },
    {
     "name": "stdout",
     "output_type": "stream",
     "text": [
      "Early stopping, best iteration is:\n[736]\ttraining's l2: 5.92413e-05\tvalid_1's l2: 0.000110242\nfold n°4\nTraining until validation scores don't improve for 100 rounds.\nEarly stopping, best iteration is:\n[282]\ttraining's l2: 7.71466e-05\tvalid_1's l2: 0.000109644"
     ]
    },
    {
     "name": "stdout",
     "output_type": "stream",
     "text": [
      "\nfold n°5\nTraining until validation scores don't improve for 100 rounds.\nEarly stopping, best iteration is:\n[129]\ttraining's l2: 9.46227e-05\tvalid_1's l2: 0.000142786\n----------\n当前移除特征: B14_to_A5_intTarget_3_mean, CV score: 0.00006395, 最佳cv score: 0.00006408, 有效果,删除！！\nfold n°1\nTraining until validation scores don't improve for 100 rounds.\n"
     ]
    },
    {
     "name": "stdout",
     "output_type": "stream",
     "text": [
      "Early stopping, best iteration is:\n[350]\ttraining's l2: 6.92445e-05\tvalid_1's l2: 0.000141494\nfold n°2\nTraining until validation scores don't improve for 100 rounds.\n"
     ]
    },
    {
     "name": "stdout",
     "output_type": "stream",
     "text": [
      "Early stopping, best iteration is:\n[379]\ttraining's l2: 6.75586e-05\tvalid_1's l2: 0.000137583\nfold n°3\nTraining until validation scores don't improve for 100 rounds.\n"
     ]
    },
    {
     "name": "stdout",
     "output_type": "stream",
     "text": [
      "Early stopping, best iteration is:\n[741]\ttraining's l2: 5.91243e-05\tvalid_1's l2: 0.000110622\nfold n°4\nTraining until validation scores don't improve for 100 rounds.\n"
     ]
    },
    {
     "name": "stdout",
     "output_type": "stream",
     "text": [
      "Early stopping, best iteration is:\n[251]\ttraining's l2: 8.0187e-05\tvalid_1's l2: 0.000110237\nfold n°5\nTraining until validation scores don't improve for 100 rounds.\n"
     ]
    },
    {
     "name": "stdout",
     "output_type": "stream",
     "text": [
      "Early stopping, best iteration is:\n[180]\ttraining's l2: 8.52169e-05\tvalid_1's l2: 0.000147028\n----------\n当前移除特征: B14_to_A5_intTarget_4_mean, CV score: 0.00006470, 最佳cv score: 0.00006395, 没效果,保留！！\nfold n°1\nTraining until validation scores don't improve for 100 rounds.\n"
     ]
    },
    {
     "name": "stdout",
     "output_type": "stream",
     "text": [
      "Early stopping, best iteration is:\n[335]\ttraining's l2: 7.01543e-05\tvalid_1's l2: 0.000139509\nfold n°2\nTraining until validation scores don't improve for 100 rounds.\n"
     ]
    },
    {
     "name": "stdout",
     "output_type": "stream",
     "text": [
      "Early stopping, best iteration is:\n[336]\ttraining's l2: 7.05112e-05\tvalid_1's l2: 0.000139831\nfold n°3\nTraining until validation scores don't improve for 100 rounds.\n"
     ]
    },
    {
     "name": "stdout",
     "output_type": "stream",
     "text": [
      "Early stopping, best iteration is:\n[741]\ttraining's l2: 5.89467e-05\tvalid_1's l2: 0.000110952\nfold n°4\nTraining until validation scores don't improve for 100 rounds.\n"
     ]
    },
    {
     "name": "stdout",
     "output_type": "stream",
     "text": [
      "Early stopping, best iteration is:\n[280]\ttraining's l2: 7.71863e-05\tvalid_1's l2: 0.000111259\nfold n°5\nTraining until validation scores don't improve for 100 rounds.\nEarly stopping, best iteration is:\n[198]\ttraining's l2: 8.24112e-05\tvalid_1's l2: 0.000145361"
     ]
    },
    {
     "name": "stdout",
     "output_type": "stream",
     "text": [
      "\n----------\n当前移除特征: B14_to_A6_intTarget_0_mean, CV score: 0.00006469, 最佳cv score: 0.00006395, 没效果,保留！！\nfold n°1\nTraining until validation scores don't improve for 100 rounds.\n"
     ]
    },
    {
     "name": "stdout",
     "output_type": "stream",
     "text": [
      "Early stopping, best iteration is:\n[340]\ttraining's l2: 6.93758e-05\tvalid_1's l2: 0.00014011\nfold n°2\nTraining until validation scores don't improve for 100 rounds.\n"
     ]
    },
    {
     "name": "stdout",
     "output_type": "stream",
     "text": [
      "Early stopping, best iteration is:\n[515]\ttraining's l2: 6.11294e-05\tvalid_1's l2: 0.000138998\nfold n°3\nTraining until validation scores don't improve for 100 rounds.\n"
     ]
    },
    {
     "name": "stdout",
     "output_type": "stream",
     "text": [
      "Early stopping, best iteration is:\n[746]\ttraining's l2: 5.8702e-05\tvalid_1's l2: 0.00010891\nfold n°4\nTraining until validation scores don't improve for 100 rounds.\n"
     ]
    },
    {
     "name": "stdout",
     "output_type": "stream",
     "text": [
      "Early stopping, best iteration is:\n[251]\ttraining's l2: 8.00603e-05\tvalid_1's l2: 0.000109152\nfold n°5\nTraining until validation scores don't improve for 100 rounds.\n"
     ]
    },
    {
     "name": "stdout",
     "output_type": "stream",
     "text": [
      "Early stopping, best iteration is:\n[197]\ttraining's l2: 8.23731e-05\tvalid_1's l2: 0.00014639\n----------\n当前移除特征: B14_to_A6_intTarget_1_mean, CV score: 0.00006436, 最佳cv score: 0.00006395, 没效果,保留！！\nfold n°1\nTraining until validation scores don't improve for 100 rounds.\n"
     ]
    },
    {
     "name": "stdout",
     "output_type": "stream",
     "text": [
      "Early stopping, best iteration is:\n[293]\ttraining's l2: 7.33361e-05\tvalid_1's l2: 0.000139945\nfold n°2\nTraining until validation scores don't improve for 100 rounds.\n"
     ]
    },
    {
     "name": "stdout",
     "output_type": "stream",
     "text": [
      "Early stopping, best iteration is:\n[590]\ttraining's l2: 5.83905e-05\tvalid_1's l2: 0.000140415\nfold n°3\nTraining until validation scores don't improve for 100 rounds.\n"
     ]
    },
    {
     "name": "stdout",
     "output_type": "stream",
     "text": [
      "Early stopping, best iteration is:\n[743]\ttraining's l2: 5.89751e-05\tvalid_1's l2: 0.000111304\nfold n°4\nTraining until validation scores don't improve for 100 rounds.\n"
     ]
    },
    {
     "name": "stdout",
     "output_type": "stream",
     "text": [
      "Early stopping, best iteration is:\n[330]\ttraining's l2: 7.31355e-05\tvalid_1's l2: 0.000109867\nfold n°5\nTraining until validation scores don't improve for 100 rounds.\nEarly stopping, best iteration is:\n[171]\ttraining's l2: 8.56552e-05\tvalid_1's l2: 0.0001438\n----------\n当前移除特征: B14_to_A6_intTarget_2_mean, CV score: 0.00006454, 最佳cv score: 0.00006395, 没效果,保留！！\nfold n°1\nTraining until validation scores don't improve for 100 rounds.\n"
     ]
    },
    {
     "name": "stdout",
     "output_type": "stream",
     "text": [
      "Early stopping, best iteration is:\n[299]\ttraining's l2: 7.28246e-05\tvalid_1's l2: 0.000138797\nfold n°2\nTraining until validation scores don't improve for 100 rounds.\n"
     ]
    },
    {
     "name": "stdout",
     "output_type": "stream",
     "text": [
      "Early stopping, best iteration is:\n[639]\ttraining's l2: 5.68279e-05\tvalid_1's l2: 0.000138937\nfold n°3\nTraining until validation scores don't improve for 100 rounds.\n"
     ]
    },
    {
     "name": "stdout",
     "output_type": "stream",
     "text": [
      "Early stopping, best iteration is:\n[746]\ttraining's l2: 5.88736e-05\tvalid_1's l2: 0.000109693\nfold n°4\nTraining until validation scores don't improve for 100 rounds.\nEarly stopping, best iteration is:\n[290]\ttraining's l2: 7.59508e-05\tvalid_1's l2: 0.000108728"
     ]
    },
    {
     "name": "stdout",
     "output_type": "stream",
     "text": [
      "\nfold n°5\nTraining until validation scores don't improve for 100 rounds.\n"
     ]
    },
    {
     "name": "stdout",
     "output_type": "stream",
     "text": [
      "Early stopping, best iteration is:\n[127]\ttraining's l2: 9.48407e-05\tvalid_1's l2: 0.000144003\n----------\n当前移除特征: B14_to_A6_intTarget_3_mean, CV score: 0.00006402, 最佳cv score: 0.00006395, 没效果,保留！！\nfold n°1\nTraining until validation scores don't improve for 100 rounds.\n"
     ]
    },
    {
     "name": "stdout",
     "output_type": "stream",
     "text": [
      "Early stopping, best iteration is:\n[314]\ttraining's l2: 7.1139e-05\tvalid_1's l2: 0.000140009\nfold n°2\nTraining until validation scores don't improve for 100 rounds.\n"
     ]
    },
    {
     "name": "stdout",
     "output_type": "stream",
     "text": [
      "Early stopping, best iteration is:\n[643]\ttraining's l2: 5.67912e-05\tvalid_1's l2: 0.000137272\nfold n°3\nTraining until validation scores don't improve for 100 rounds.\n"
     ]
    },
    {
     "name": "stdout",
     "output_type": "stream",
     "text": [
      "Early stopping, best iteration is:\n[741]\ttraining's l2: 5.89881e-05\tvalid_1's l2: 0.000110513\nfold n°4\nTraining until validation scores don't improve for 100 rounds.\n"
     ]
    },
    {
     "name": "stdout",
     "output_type": "stream",
     "text": [
      "Early stopping, best iteration is:\n[225]\ttraining's l2: 8.26337e-05\tvalid_1's l2: 0.00010913\nfold n°5\nTraining until validation scores don't improve for 100 rounds.\n"
     ]
    },
    {
     "name": "stdout",
     "output_type": "stream",
     "text": [
      "Early stopping, best iteration is:\n[180]\ttraining's l2: 8.42846e-05\tvalid_1's l2: 0.000144446\n----------\n当前移除特征: B14_to_A6_intTarget_4_mean, CV score: 0.00006414, 最佳cv score: 0.00006395, 没效果,保留！！\nfold n°1\nTraining until validation scores don't improve for 100 rounds.\n"
     ]
    },
    {
     "name": "stdout",
     "output_type": "stream",
     "text": [
      "Early stopping, best iteration is:\n[314]\ttraining's l2: 7.13715e-05\tvalid_1's l2: 0.000141387\nfold n°2\nTraining until validation scores don't improve for 100 rounds.\n"
     ]
    },
    {
     "name": "stdout",
     "output_type": "stream",
     "text": [
      "Early stopping, best iteration is:\n[563]\ttraining's l2: 5.94495e-05\tvalid_1's l2: 0.000138974\nfold n°3\nTraining until validation scores don't improve for 100 rounds.\n"
     ]
    },
    {
     "name": "stdout",
     "output_type": "stream",
     "text": [
      "Early stopping, best iteration is:\n[678]\ttraining's l2: 6.05242e-05\tvalid_1's l2: 0.000110787\nfold n°4\nTraining until validation scores don't improve for 100 rounds.\n"
     ]
    },
    {
     "name": "stdout",
     "output_type": "stream",
     "text": [
      "Early stopping, best iteration is:\n[327]\ttraining's l2: 7.34784e-05\tvalid_1's l2: 0.000108484\nfold n°5\nTraining until validation scores don't improve for 100 rounds.\n"
     ]
    },
    {
     "name": "stdout",
     "output_type": "stream",
     "text": [
      "Early stopping, best iteration is:\n[236]\ttraining's l2: 7.73225e-05\tvalid_1's l2: 0.000145468\n----------\n当前移除特征: B14_to_A7_intTarget_0_mean, CV score: 0.00006451, 最佳cv score: 0.00006395, 没效果,保留！！\nfold n°1\nTraining until validation scores don't improve for 100 rounds.\n"
     ]
    },
    {
     "name": "stdout",
     "output_type": "stream",
     "text": [
      "Early stopping, best iteration is:\n[297]\ttraining's l2: 7.27229e-05\tvalid_1's l2: 0.000143751\nfold n°2\nTraining until validation scores don't improve for 100 rounds.\n"
     ]
    },
    {
     "name": "stdout",
     "output_type": "stream",
     "text": [
      "Early stopping, best iteration is:\n[590]\ttraining's l2: 5.84781e-05\tvalid_1's l2: 0.000137687\nfold n°3\nTraining until validation scores don't improve for 100 rounds.\n"
     ]
    },
    {
     "name": "stdout",
     "output_type": "stream",
     "text": [
      "Early stopping, best iteration is:\n[747]\ttraining's l2: 5.90484e-05\tvalid_1's l2: 0.000111083\nfold n°4\nTraining until validation scores don't improve for 100 rounds.\n"
     ]
    },
    {
     "name": "stdout",
     "output_type": "stream",
     "text": [
      "Early stopping, best iteration is:\n[256]\ttraining's l2: 7.93914e-05\tvalid_1's l2: 0.000109003\nfold n°5\nTraining until validation scores don't improve for 100 rounds.\nEarly stopping, best iteration is:\n[127]\ttraining's l2: 9.4246e-05\tvalid_1's l2: 0.000145327\n----------\n当前移除特征: B14_to_A7_intTarget_1_mean, CV score: 0.00006469, 最佳cv score: 0.00006395, 没效果,保留！！\nfold n°1\nTraining until validation scores don't improve for 100 rounds.\n"
     ]
    },
    {
     "name": "stdout",
     "output_type": "stream",
     "text": [
      "Early stopping, best iteration is:\n[313]\ttraining's l2: 7.20998e-05\tvalid_1's l2: 0.00014351\nfold n°2\nTraining until validation scores don't improve for 100 rounds.\n"
     ]
    },
    {
     "name": "stdout",
     "output_type": "stream",
     "text": [
      "Early stopping, best iteration is:\n[589]\ttraining's l2: 5.89052e-05\tvalid_1's l2: 0.000138724\nfold n°3\nTraining until validation scores don't improve for 100 rounds.\n"
     ]
    },
    {
     "name": "stdout",
     "output_type": "stream",
     "text": [
      "Early stopping, best iteration is:\n[748]\ttraining's l2: 5.88644e-05\tvalid_1's l2: 0.000110997\nfold n°4\nTraining until validation scores don't improve for 100 rounds.\n"
     ]
    },
    {
     "name": "stdout",
     "output_type": "stream",
     "text": [
      "Early stopping, best iteration is:\n[292]\ttraining's l2: 7.65859e-05\tvalid_1's l2: 0.000109978\nfold n°5\nTraining until validation scores don't improve for 100 rounds.\n"
     ]
    },
    {
     "name": "stdout",
     "output_type": "stream",
     "text": [
      "Early stopping, best iteration is:\n[127]\ttraining's l2: 9.41339e-05\tvalid_1's l2: 0.000145548\n----------\n当前移除特征: B14_to_A7_intTarget_2_mean, CV score: 0.00006488, 最佳cv score: 0.00006395, 没效果,保留！！\nfold n°1\nTraining until validation scores don't improve for 100 rounds.\n"
     ]
    },
    {
     "name": "stdout",
     "output_type": "stream",
     "text": [
      "Early stopping, best iteration is:\n[408]\ttraining's l2: 6.67331e-05\tvalid_1's l2: 0.000143992\nfold n°2\nTraining until validation scores don't improve for 100 rounds.\n"
     ]
    },
    {
     "name": "stdout",
     "output_type": "stream",
     "text": [
      "Early stopping, best iteration is:\n[589]\ttraining's l2: 5.89427e-05\tvalid_1's l2: 0.000139574\nfold n°3\nTraining until validation scores don't improve for 100 rounds.\n"
     ]
    },
    {
     "name": "stdout",
     "output_type": "stream",
     "text": [
      "Early stopping, best iteration is:\n[866]\ttraining's l2: 5.67046e-05\tvalid_1's l2: 0.000111328\nfold n°4\nTraining until validation scores don't improve for 100 rounds.\n"
     ]
    },
    {
     "name": "stdout",
     "output_type": "stream",
     "text": [
      "Early stopping, best iteration is:\n[256]\ttraining's l2: 8.02394e-05\tvalid_1's l2: 0.000110653\nfold n°5\nTraining until validation scores don't improve for 100 rounds.\nEarly stopping, best iteration is:\n[127]\ttraining's l2: 9.49791e-05\tvalid_1's l2: 0.000146261\n----------"
     ]
    },
    {
     "name": "stdout",
     "output_type": "stream",
     "text": [
      "\n当前移除特征: B14_to_A7_intTarget_3_mean, CV score: 0.00006519, 最佳cv score: 0.00006395, 没效果,保留！！\nfold n°1\nTraining until validation scores don't improve for 100 rounds.\n"
     ]
    },
    {
     "name": "stdout",
     "output_type": "stream",
     "text": [
      "Early stopping, best iteration is:\n[313]\ttraining's l2: 7.16965e-05\tvalid_1's l2: 0.00014357\nfold n°2\nTraining until validation scores don't improve for 100 rounds.\n"
     ]
    },
    {
     "name": "stdout",
     "output_type": "stream",
     "text": [
      "Early stopping, best iteration is:\n[643]\ttraining's l2: 5.69706e-05\tvalid_1's l2: 0.000137918\nfold n°3\nTraining until validation scores don't improve for 100 rounds.\n"
     ]
    },
    {
     "name": "stdout",
     "output_type": "stream",
     "text": [
      "Early stopping, best iteration is:\n[704]\ttraining's l2: 6.00016e-05\tvalid_1's l2: 0.000111502\nfold n°4\nTraining until validation scores don't improve for 100 rounds.\n"
     ]
    },
    {
     "name": "stdout",
     "output_type": "stream",
     "text": [
      "Early stopping, best iteration is:\n[258]\ttraining's l2: 7.89576e-05\tvalid_1's l2: 0.000108865\nfold n°5\nTraining until validation scores don't improve for 100 rounds.\nEarly stopping, best iteration is:\n[127]\ttraining's l2: 9.50915e-05\tvalid_1's l2: 0.000144415\n----------\n当前移除特征: B14_to_A7_intTarget_4_mean, CV score: 0.00006463, 最佳cv score: 0.00006395, 没效果,保留！！\nfold n°1\nTraining until validation scores don't improve for 100 rounds.\n"
     ]
    },
    {
     "name": "stdout",
     "output_type": "stream",
     "text": [
      "Early stopping, best iteration is:\n[408]\ttraining's l2: 6.58352e-05\tvalid_1's l2: 0.000142815\nfold n°2\nTraining until validation scores don't improve for 100 rounds.\n"
     ]
    },
    {
     "name": "stdout",
     "output_type": "stream",
     "text": [
      "Early stopping, best iteration is:\n[589]\ttraining's l2: 5.85502e-05\tvalid_1's l2: 0.000137823\nfold n°3\nTraining until validation scores don't improve for 100 rounds.\n"
     ]
    },
    {
     "name": "stdout",
     "output_type": "stream",
     "text": [
      "Early stopping, best iteration is:\n[739]\ttraining's l2: 5.90056e-05\tvalid_1's l2: 0.000110875\nfold n°4\nTraining until validation scores don't improve for 100 rounds.\n"
     ]
    },
    {
     "name": "stdout",
     "output_type": "stream",
     "text": [
      "Early stopping, best iteration is:\n[327]\ttraining's l2: 7.35586e-05\tvalid_1's l2: 0.000109337\nfold n°5\nTraining until validation scores don't improve for 100 rounds.\nEarly stopping, best iteration is:\n[198]\ttraining's l2: 8.18322e-05\tvalid_1's l2: 0.000146207\n----------\n当前移除特征: B14_to_A9_intTarget_0_mean, CV score: 0.00006471, 最佳cv score: 0.00006395, 没效果,保留！！\nfold n°1\nTraining until validation scores don't improve for 100 rounds.\n"
     ]
    },
    {
     "name": "stdout",
     "output_type": "stream",
     "text": [
      "Early stopping, best iteration is:\n[300]\ttraining's l2: 7.25901e-05\tvalid_1's l2: 0.000144346\nfold n°2\nTraining until validation scores don't improve for 100 rounds.\n"
     ]
    },
    {
     "name": "stdout",
     "output_type": "stream",
     "text": [
      "Early stopping, best iteration is:\n[619]\ttraining's l2: 5.73725e-05\tvalid_1's l2: 0.000138734\nfold n°3\nTraining until validation scores don't improve for 100 rounds.\n"
     ]
    },
    {
     "name": "stdout",
     "output_type": "stream",
     "text": [
      "Early stopping, best iteration is:\n[741]\ttraining's l2: 5.89332e-05\tvalid_1's l2: 0.000111876\nfold n°4\nTraining until validation scores don't improve for 100 rounds.\n"
     ]
    },
    {
     "name": "stdout",
     "output_type": "stream",
     "text": [
      "Early stopping, best iteration is:\n[256]\ttraining's l2: 7.93137e-05\tvalid_1's l2: 0.000109706\nfold n°5\nTraining until validation scores don't improve for 100 rounds.\nEarly stopping, best iteration is:\n[235]\ttraining's l2: 7.76178e-05\tvalid_1's l2: 0.000146425\n----------\n当前移除特征: B14_to_A9_intTarget_1_mean, CV score: 0.00006511, 最佳cv score: 0.00006395, 没效果,保留！！\nfold n°1\nTraining until validation scores don't improve for 100 rounds.\n"
     ]
    },
    {
     "name": "stdout",
     "output_type": "stream",
     "text": [
      "Early stopping, best iteration is:\n[286]\ttraining's l2: 7.36392e-05\tvalid_1's l2: 0.000141556\nfold n°2\nTraining until validation scores don't improve for 100 rounds.\n"
     ]
    },
    {
     "name": "stdout",
     "output_type": "stream",
     "text": [
      "Early stopping, best iteration is:\n[604]\ttraining's l2: 5.7966e-05\tvalid_1's l2: 0.000137621\nfold n°3\nTraining until validation scores don't improve for 100 rounds.\n"
     ]
    },
    {
     "name": "stdout",
     "output_type": "stream",
     "text": [
      "Early stopping, best iteration is:\n[713]\ttraining's l2: 5.97522e-05\tvalid_1's l2: 0.000111407\nfold n°4\nTraining until validation scores don't improve for 100 rounds.\nEarly stopping, best iteration is:\n[226]\ttraining's l2: 8.29709e-05\tvalid_1's l2: 0.000109976\nfold n°5"
     ]
    },
    {
     "name": "stdout",
     "output_type": "stream",
     "text": [
      "\nTraining until validation scores don't improve for 100 rounds.\nEarly stopping, best iteration is:\n[127]\ttraining's l2: 9.46553e-05\tvalid_1's l2: 0.000143398\n----------\n当前移除特征: B14_to_A9_intTarget_2_mean, CV score: 0.00006440, 最佳cv score: 0.00006395, 没效果,保留！！\nfold n°1\nTraining until validation scores don't improve for 100 rounds.\n"
     ]
    },
    {
     "name": "stdout",
     "output_type": "stream",
     "text": [
      "Early stopping, best iteration is:\n[408]\ttraining's l2: 6.66114e-05\tvalid_1's l2: 0.000142373\nfold n°2\nTraining until validation scores don't improve for 100 rounds.\n"
     ]
    },
    {
     "name": "stdout",
     "output_type": "stream",
     "text": [
      "Early stopping, best iteration is:\n[590]\ttraining's l2: 5.89679e-05\tvalid_1's l2: 0.000138812\nfold n°3\nTraining until validation scores don't improve for 100 rounds.\n"
     ]
    },
    {
     "name": "stdout",
     "output_type": "stream",
     "text": [
      "Early stopping, best iteration is:\n[711]\ttraining's l2: 6.01803e-05\tvalid_1's l2: 0.000111635\nfold n°4\nTraining until validation scores don't improve for 100 rounds.\nEarly stopping, best iteration is:\n[255]\ttraining's l2: 8.02336e-05\tvalid_1's l2: 0.000109815"
     ]
    },
    {
     "name": "stdout",
     "output_type": "stream",
     "text": [
      "\nfold n°5\nTraining until validation scores don't improve for 100 rounds.\nEarly stopping, best iteration is:\n[128]\ttraining's l2: 9.50012e-05\tvalid_1's l2: 0.000145803\n----------\n当前移除特征: B14_to_A9_intTarget_3_mean, CV score: 0.00006485, 最佳cv score: 0.00006395, 没效果,保留！！\nfold n°1\nTraining until validation scores don't improve for 100 rounds.\n"
     ]
    },
    {
     "name": "stdout",
     "output_type": "stream",
     "text": [
      "Early stopping, best iteration is:\n[337]\ttraining's l2: 6.9809e-05\tvalid_1's l2: 0.000141467\nfold n°2\nTraining until validation scores don't improve for 100 rounds.\n"
     ]
    },
    {
     "name": "stdout",
     "output_type": "stream",
     "text": [
      "Early stopping, best iteration is:\n[417]\ttraining's l2: 6.5018e-05\tvalid_1's l2: 0.000137722\nfold n°3\nTraining until validation scores don't improve for 100 rounds.\n"
     ]
    },
    {
     "name": "stdout",
     "output_type": "stream",
     "text": [
      "Early stopping, best iteration is:\n[745]\ttraining's l2: 5.89807e-05\tvalid_1's l2: 0.000110715\nfold n°4\nTraining until validation scores don't improve for 100 rounds.\nEarly stopping, best iteration is:\n[216]\ttraining's l2: 8.35e-05\tvalid_1's l2: 0.000107394"
     ]
    },
    {
     "name": "stdout",
     "output_type": "stream",
     "text": [
      "\nfold n°5\nTraining until validation scores don't improve for 100 rounds.\nEarly stopping, best iteration is:\n[198]\ttraining's l2: 8.22039e-05\tvalid_1's l2: 0.000144017\n----------\n当前移除特征: B14_to_A9_intTarget_4_mean, CV score: 0.00006414, 最佳cv score: 0.00006395, 没效果,保留！！\nfold n°1\nTraining until validation scores don't improve for 100 rounds.\n"
     ]
    },
    {
     "name": "stdout",
     "output_type": "stream",
     "text": [
      "Early stopping, best iteration is:\n[314]\ttraining's l2: 7.12942e-05\tvalid_1's l2: 0.000141688\nfold n°2\nTraining until validation scores don't improve for 100 rounds.\n"
     ]
    },
    {
     "name": "stdout",
     "output_type": "stream",
     "text": [
      "Early stopping, best iteration is:\n[497]\ttraining's l2: 6.19913e-05\tvalid_1's l2: 0.000137223\nfold n°3\nTraining until validation scores don't improve for 100 rounds.\n"
     ]
    },
    {
     "name": "stdout",
     "output_type": "stream",
     "text": [
      "Early stopping, best iteration is:\n[745]\ttraining's l2: 5.90077e-05\tvalid_1's l2: 0.000111447\nfold n°4\nTraining until validation scores don't improve for 100 rounds.\n"
     ]
    },
    {
     "name": "stdout",
     "output_type": "stream",
     "text": [
      "Early stopping, best iteration is:\n[328]\ttraining's l2: 7.30907e-05\tvalid_1's l2: 0.000110487\nfold n°5\nTraining until validation scores don't improve for 100 rounds.\nEarly stopping, best iteration is:\n[171]\ttraining's l2: 8.57747e-05\tvalid_1's l2: 0.000145573\n----------\n当前移除特征: B14_to_A11_intTarget_0_mean, CV score: 0.00006465, 最佳cv score: 0.00006395, 没效果,保留！！\nfold n°1\nTraining until validation scores don't improve for 100 rounds.\n"
     ]
    },
    {
     "name": "stdout",
     "output_type": "stream",
     "text": [
      "Early stopping, best iteration is:\n[317]\ttraining's l2: 7.13282e-05\tvalid_1's l2: 0.000143321\nfold n°2\nTraining until validation scores don't improve for 100 rounds.\n"
     ]
    },
    {
     "name": "stdout",
     "output_type": "stream",
     "text": [
      "Early stopping, best iteration is:\n[498]\ttraining's l2: 6.15656e-05\tvalid_1's l2: 0.000138657\nfold n°3\nTraining until validation scores don't improve for 100 rounds.\n"
     ]
    },
    {
     "name": "stdout",
     "output_type": "stream",
     "text": [
      "Early stopping, best iteration is:\n[866]\ttraining's l2: 5.60788e-05\tvalid_1's l2: 0.000110693\nfold n°4\nTraining until validation scores don't improve for 100 rounds.\n"
     ]
    },
    {
     "name": "stdout",
     "output_type": "stream",
     "text": [
      "Early stopping, best iteration is:\n[260]\ttraining's l2: 7.9038e-05\tvalid_1's l2: 0.000110486\nfold n°5\nTraining until validation scores don't improve for 100 rounds.\nEarly stopping, best iteration is:\n[191]\ttraining's l2: 8.32281e-05\tvalid_1's l2: 0.000145639\n----------\n当前移除特征: B14_to_A11_intTarget_1_mean, CV score: 0.00006488, 最佳cv score: 0.00006395, 没效果,保留！！\nfold n°1\nTraining until validation scores don't improve for 100 rounds.\n"
     ]
    },
    {
     "name": "stdout",
     "output_type": "stream",
     "text": [
      "Early stopping, best iteration is:\n[308]\ttraining's l2: 7.27933e-05\tvalid_1's l2: 0.000143055\nfold n°2\nTraining until validation scores don't improve for 100 rounds.\n"
     ]
    },
    {
     "name": "stdout",
     "output_type": "stream",
     "text": [
      "Early stopping, best iteration is:\n[589]\ttraining's l2: 5.87359e-05\tvalid_1's l2: 0.000139519\nfold n°3\nTraining until validation scores don't improve for 100 rounds.\n"
     ]
    },
    {
     "name": "stdout",
     "output_type": "stream",
     "text": [
      "Early stopping, best iteration is:\n[741]\ttraining's l2: 5.90583e-05\tvalid_1's l2: 0.000111621\nfold n°4\nTraining until validation scores don't improve for 100 rounds.\n"
     ]
    },
    {
     "name": "stdout",
     "output_type": "stream",
     "text": [
      "Early stopping, best iteration is:\n[282]\ttraining's l2: 7.71809e-05\tvalid_1's l2: 0.000110052\nfold n°5\nTraining until validation scores don't improve for 100 rounds.\nEarly stopping, best iteration is:\n[240]\ttraining's l2: 7.79466e-05\tvalid_1's l2: 0.000145249\n----------\n当前移除特征: B14_to_A11_intTarget_2_mean, CV score: 0.00006495, 最佳cv score: 0.00006395, 没效果,保留！！\nfold n°1\nTraining until validation scores don't improve for 100 rounds.\n"
     ]
    },
    {
     "name": "stdout",
     "output_type": "stream",
     "text": [
      "Early stopping, best iteration is:\n[335]\ttraining's l2: 7.04148e-05\tvalid_1's l2: 0.000143644\nfold n°2\nTraining until validation scores don't improve for 100 rounds.\n"
     ]
    },
    {
     "name": "stdout",
     "output_type": "stream",
     "text": [
      "Early stopping, best iteration is:\n[496]\ttraining's l2: 6.15558e-05\tvalid_1's l2: 0.000137569\nfold n°3\nTraining until validation scores don't improve for 100 rounds.\n"
     ]
    },
    {
     "name": "stdout",
     "output_type": "stream",
     "text": [
      "Early stopping, best iteration is:\n[739]\ttraining's l2: 5.90749e-05\tvalid_1's l2: 0.000111713\nfold n°4\nTraining until validation scores don't improve for 100 rounds.\n"
     ]
    },
    {
     "name": "stdout",
     "output_type": "stream",
     "text": [
      "Early stopping, best iteration is:\n[258]\ttraining's l2: 7.9168e-05\tvalid_1's l2: 0.000109366\nfold n°5\nTraining until validation scores don't improve for 100 rounds.\nEarly stopping, best iteration is:\n[180]\ttraining's l2: 8.4514e-05\tvalid_1's l2: 0.000144031\n----------\n当前移除特征: B14_to_A11_intTarget_3_mean, CV score: 0.00006464, 最佳cv score: 0.00006395, 没效果,保留！！\nfold n°1\nTraining until validation scores don't improve for 100 rounds.\n"
     ]
    },
    {
     "name": "stdout",
     "output_type": "stream",
     "text": [
      "Early stopping, best iteration is:\n[288]\ttraining's l2: 7.38119e-05\tvalid_1's l2: 0.000141444\nfold n°2\nTraining until validation scores don't improve for 100 rounds.\n"
     ]
    },
    {
     "name": "stdout",
     "output_type": "stream",
     "text": [
      "Early stopping, best iteration is:\n[589]\ttraining's l2: 5.8385e-05\tvalid_1's l2: 0.000137509\nfold n°3\nTraining until validation scores don't improve for 100 rounds.\n"
     ]
    },
    {
     "name": "stdout",
     "output_type": "stream",
     "text": [
      "Early stopping, best iteration is:\n[739]\ttraining's l2: 5.91548e-05\tvalid_1's l2: 0.000110226\nfold n°4\nTraining until validation scores don't improve for 100 rounds.\n"
     ]
    },
    {
     "name": "stdout",
     "output_type": "stream",
     "text": [
      "Early stopping, best iteration is:\n[320]\ttraining's l2: 7.38774e-05\tvalid_1's l2: 0.000108331\nfold n°5\nTraining until validation scores don't improve for 100 rounds.\nEarly stopping, best iteration is:\n[126]\ttraining's l2: 9.44508e-05\tvalid_1's l2: 0.000142474\n----------\n当前移除特征: B14_to_A11_intTarget_4_mean, CV score: 0.00006400, 最佳cv score: 0.00006395, 没效果,保留！！\nfold n°1\nTraining until validation scores don't improve for 100 rounds.\n"
     ]
    },
    {
     "name": "stdout",
     "output_type": "stream",
     "text": [
      "Early stopping, best iteration is:\n[300]\ttraining's l2: 7.31286e-05\tvalid_1's l2: 0.000143334\nfold n°2\nTraining until validation scores don't improve for 100 rounds.\n"
     ]
    },
    {
     "name": "stdout",
     "output_type": "stream",
     "text": [
      "Early stopping, best iteration is:\n[563]\ttraining's l2: 5.95081e-05\tvalid_1's l2: 0.000137228\nfold n°3\nTraining until validation scores don't improve for 100 rounds.\n"
     ]
    },
    {
     "name": "stdout",
     "output_type": "stream",
     "text": [
      "Early stopping, best iteration is:\n[731]\ttraining's l2: 5.96452e-05\tvalid_1's l2: 0.00011087\nfold n°4\nTraining until validation scores don't improve for 100 rounds.\n"
     ]
    },
    {
     "name": "stdout",
     "output_type": "stream",
     "text": [
      "Early stopping, best iteration is:\n[258]\ttraining's l2: 7.93629e-05\tvalid_1's l2: 0.000109703\nfold n°5\nTraining until validation scores don't improve for 100 rounds.\nEarly stopping, best iteration is:\n[197]\ttraining's l2: 8.25588e-05\tvalid_1's l2: 0.000146259\n----------\n当前移除特征: B14_to_A14_intTarget_0_mean, CV score: 0.00006474, 最佳cv score: 0.00006395, 没效果,保留！！\nfold n°1\nTraining until validation scores don't improve for 100 rounds.\n"
     ]
    },
    {
     "name": "stdout",
     "output_type": "stream",
     "text": [
      "Early stopping, best iteration is:\n[292]\ttraining's l2: 7.31662e-05\tvalid_1's l2: 0.000142138\nfold n°2\nTraining until validation scores don't improve for 100 rounds.\n"
     ]
    },
    {
     "name": "stdout",
     "output_type": "stream",
     "text": [
      "Early stopping, best iteration is:\n[563]\ttraining's l2: 5.94366e-05\tvalid_1's l2: 0.000137959\nfold n°3\nTraining until validation scores don't improve for 100 rounds.\n"
     ]
    },
    {
     "name": "stdout",
     "output_type": "stream",
     "text": [
      "Early stopping, best iteration is:\n[746]\ttraining's l2: 5.92535e-05\tvalid_1's l2: 0.000111096\nfold n°4\nTraining until validation scores don't improve for 100 rounds.\n"
     ]
    },
    {
     "name": "stdout",
     "output_type": "stream",
     "text": [
      "Early stopping, best iteration is:\n[258]\ttraining's l2: 7.88336e-05\tvalid_1's l2: 0.000109476\nfold n°5\nTraining until validation scores don't improve for 100 rounds.\nEarly stopping, best iteration is:\n[198]\ttraining's l2: 8.26504e-05\tvalid_1's l2: 0.000146316\n----------\n当前移除特征: B14_to_A14_intTarget_1_mean, CV score: 0.00006470, 最佳cv score: 0.00006395, 没效果,保留！！\nfold n°1\nTraining until validation scores don't improve for 100 rounds.\n"
     ]
    },
    {
     "name": "stdout",
     "output_type": "stream",
     "text": [
      "Early stopping, best iteration is:\n[361]\ttraining's l2: 6.85038e-05\tvalid_1's l2: 0.000141198\nfold n°2\nTraining until validation scores don't improve for 100 rounds.\n"
     ]
    },
    {
     "name": "stdout",
     "output_type": "stream",
     "text": [
      "Early stopping, best iteration is:\n[589]\ttraining's l2: 5.87218e-05\tvalid_1's l2: 0.000135825\nfold n°3\nTraining until validation scores don't improve for 100 rounds.\n"
     ]
    },
    {
     "name": "stdout",
     "output_type": "stream",
     "text": [
      "Early stopping, best iteration is:\n[713]\ttraining's l2: 6.01849e-05\tvalid_1's l2: 0.000111142\nfold n°4\nTraining until validation scores don't improve for 100 rounds.\n"
     ]
    },
    {
     "name": "stdout",
     "output_type": "stream",
     "text": [
      "Early stopping, best iteration is:\n[330]\ttraining's l2: 7.33237e-05\tvalid_1's l2: 0.00010924\nfold n°5\nTraining until validation scores don't improve for 100 rounds.\nEarly stopping, best iteration is:\n[177]\ttraining's l2: 8.4403e-05\tvalid_1's l2: 0.000143068\n----------\n当前移除特征: B14_to_A14_intTarget_2_mean, CV score: 0.00006405, 最佳cv score: 0.00006395, 没效果,保留！！\nfold n°1\nTraining until validation scores don't improve for 100 rounds.\n"
     ]
    },
    {
     "name": "stdout",
     "output_type": "stream",
     "text": [
      "Early stopping, best iteration is:\n[339]\ttraining's l2: 7.04362e-05\tvalid_1's l2: 0.000142825\nfold n°2\nTraining until validation scores don't improve for 100 rounds.\n"
     ]
    },
    {
     "name": "stdout",
     "output_type": "stream",
     "text": [
      "Early stopping, best iteration is:\n[497]\ttraining's l2: 6.20313e-05\tvalid_1's l2: 0.000138001\nfold n°3\nTraining until validation scores don't improve for 100 rounds.\n"
     ]
    },
    {
     "name": "stdout",
     "output_type": "stream",
     "text": [
      "Early stopping, best iteration is:\n[870]\ttraining's l2: 5.6369e-05\tvalid_1's l2: 0.000109844\nfold n°4\nTraining until validation scores don't improve for 100 rounds.\n"
     ]
    },
    {
     "name": "stdout",
     "output_type": "stream",
     "text": [
      "Early stopping, best iteration is:\n[327]\ttraining's l2: 7.38291e-05\tvalid_1's l2: 0.000111094\nfold n°5\nTraining until validation scores don't improve for 100 rounds.\nEarly stopping, best iteration is:\n[127]\ttraining's l2: 9.46164e-05\tvalid_1's l2: 0.000144751\n----------\n当前移除特征: B14_to_A14_intTarget_3_mean, CV score: 0.00006466, 最佳cv score: 0.00006395, 没效果,保留！！\nfold n°1\nTraining until validation scores don't improve for 100 rounds.\n"
     ]
    },
    {
     "name": "stdout",
     "output_type": "stream",
     "text": [
      "Early stopping, best iteration is:\n[320]\ttraining's l2: 7.11786e-05\tvalid_1's l2: 0.000144075\nfold n°2\nTraining until validation scores don't improve for 100 rounds.\n"
     ]
    },
    {
     "name": "stdout",
     "output_type": "stream",
     "text": [
      "Early stopping, best iteration is:\n[535]\ttraining's l2: 6.03858e-05\tvalid_1's l2: 0.000137063\nfold n°3\nTraining until validation scores don't improve for 100 rounds.\n"
     ]
    },
    {
     "name": "stdout",
     "output_type": "stream",
     "text": [
      "Early stopping, best iteration is:\n[741]\ttraining's l2: 5.92248e-05\tvalid_1's l2: 0.000110202\nfold n°4\nTraining until validation scores don't improve for 100 rounds.\n"
     ]
    },
    {
     "name": "stdout",
     "output_type": "stream",
     "text": [
      "Early stopping, best iteration is:\n[327]\ttraining's l2: 7.31981e-05\tvalid_1's l2: 0.000109531\nfold n°5\nTraining until validation scores don't improve for 100 rounds.\n"
     ]
    },
    {
     "name": "stdout",
     "output_type": "stream",
     "text": [
      "Early stopping, best iteration is:\n[173]\ttraining's l2: 8.65602e-05\tvalid_1's l2: 0.000144892\n----------\n当前移除特征: B14_to_A14_intTarget_4_mean, CV score: 0.00006458, 最佳cv score: 0.00006395, 没效果,保留！！\nfold n°1\nTraining until validation scores don't improve for 100 rounds.\n"
     ]
    },
    {
     "name": "stdout",
     "output_type": "stream",
     "text": [
      "Early stopping, best iteration is:\n[314]\ttraining's l2: 7.13032e-05\tvalid_1's l2: 0.00014244\nfold n°2\nTraining until validation scores don't improve for 100 rounds.\n"
     ]
    },
    {
     "name": "stdout",
     "output_type": "stream",
     "text": [
      "Early stopping, best iteration is:\n[595]\ttraining's l2: 5.82736e-05\tvalid_1's l2: 0.000138957\nfold n°3\nTraining until validation scores don't improve for 100 rounds.\n"
     ]
    },
    {
     "name": "stdout",
     "output_type": "stream",
     "text": [
      "[1000]\ttraining's l2: 5.4041e-05\tvalid_1's l2: 0.000112055\nEarly stopping, best iteration is:\n[909]\ttraining's l2: 5.56426e-05\tvalid_1's l2: 0.000111117\nfold n°4\nTraining until validation scores don't improve for 100 rounds.\nEarly stopping, best iteration is:\n[230]\ttraining's l2: 8.20536e-05\tvalid_1's l2: 0.000109864"
     ]
    },
    {
     "name": "stdout",
     "output_type": "stream",
     "text": [
      "\nfold n°5\nTraining until validation scores don't improve for 100 rounds.\nEarly stopping, best iteration is:\n[154]\ttraining's l2: 8.91136e-05\tvalid_1's l2: 0.000144583\n----------\n当前移除特征: B14_to_A16_intTarget_0_mean, CV score: 0.00006470, 最佳cv score: 0.00006395, 没效果,保留！！\nfold n°1\nTraining until validation scores don't improve for 100 rounds.\n"
     ]
    },
    {
     "name": "stdout",
     "output_type": "stream",
     "text": [
      "Early stopping, best iteration is:\n[407]\ttraining's l2: 6.53416e-05\tvalid_1's l2: 0.000142351\nfold n°2\nTraining until validation scores don't improve for 100 rounds.\n"
     ]
    },
    {
     "name": "stdout",
     "output_type": "stream",
     "text": [
      "Early stopping, best iteration is:\n[589]\ttraining's l2: 5.78822e-05\tvalid_1's l2: 0.000137604\nfold n°3\nTraining until validation scores don't improve for 100 rounds.\n"
     ]
    },
    {
     "name": "stdout",
     "output_type": "stream",
     "text": [
      "Early stopping, best iteration is:\n[734]\ttraining's l2: 5.8891e-05\tvalid_1's l2: 0.000110145\nfold n°4\nTraining until validation scores don't improve for 100 rounds.\n"
     ]
    },
    {
     "name": "stdout",
     "output_type": "stream",
     "text": [
      "Early stopping, best iteration is:\n[256]\ttraining's l2: 7.85336e-05\tvalid_1's l2: 0.000108434\nfold n°5\nTraining until validation scores don't improve for 100 rounds.\nEarly stopping, best iteration is:\n[127]\ttraining's l2: 9.33896e-05\tvalid_1's l2: 0.000144442\n----------\n当前移除特征: B14_to_A16_intTarget_1_mean, CV score: 0.00006430, 最佳cv score: 0.00006395, 没效果,保留！！\nfold n°1\nTraining until validation scores don't improve for 100 rounds.\n"
     ]
    },
    {
     "name": "stdout",
     "output_type": "stream",
     "text": [
      "Early stopping, best iteration is:\n[409]\ttraining's l2: 6.61375e-05\tvalid_1's l2: 0.000140476\nfold n°2\nTraining until validation scores don't improve for 100 rounds.\n"
     ]
    },
    {
     "name": "stdout",
     "output_type": "stream",
     "text": [
      "Early stopping, best iteration is:\n[589]\ttraining's l2: 5.86726e-05\tvalid_1's l2: 0.000138594\nfold n°3\nTraining until validation scores don't improve for 100 rounds.\n"
     ]
    },
    {
     "name": "stdout",
     "output_type": "stream",
     "text": [
      "Early stopping, best iteration is:\n[746]\ttraining's l2: 5.88759e-05\tvalid_1's l2: 0.000110306\nfold n°4\nTraining until validation scores don't improve for 100 rounds.\n"
     ]
    },
    {
     "name": "stdout",
     "output_type": "stream",
     "text": [
      "Early stopping, best iteration is:\n[282]\ttraining's l2: 7.7035e-05\tvalid_1's l2: 0.000109535\nfold n°5\nTraining until validation scores don't improve for 100 rounds.\nEarly stopping, best iteration is:\n[122]\ttraining's l2: 9.69297e-05\tvalid_1's l2: 0.000144163\n----------\n当前移除特征: B14_to_A16_intTarget_2_mean, CV score: 0.00006431, 最佳cv score: 0.00006395, 没效果,保留！！\nfold n°1\nTraining until validation scores don't improve for 100 rounds.\n"
     ]
    },
    {
     "name": "stdout",
     "output_type": "stream",
     "text": [
      "Early stopping, best iteration is:\n[288]\ttraining's l2: 7.3876e-05\tvalid_1's l2: 0.000144251\nfold n°2\nTraining until validation scores don't improve for 100 rounds.\n"
     ]
    },
    {
     "name": "stdout",
     "output_type": "stream",
     "text": [
      "Early stopping, best iteration is:\n[599]\ttraining's l2: 5.84505e-05\tvalid_1's l2: 0.000137646\nfold n°3\nTraining until validation scores don't improve for 100 rounds.\n"
     ]
    },
    {
     "name": "stdout",
     "output_type": "stream",
     "text": [
      "Early stopping, best iteration is:\n[868]\ttraining's l2: 5.62363e-05\tvalid_1's l2: 0.000111569\nfold n°4\nTraining until validation scores don't improve for 100 rounds.\n"
     ]
    },
    {
     "name": "stdout",
     "output_type": "stream",
     "text": [
      "Early stopping, best iteration is:\n[327]\ttraining's l2: 7.36114e-05\tvalid_1's l2: 0.00010977\nfold n°5\nTraining until validation scores don't improve for 100 rounds.\nEarly stopping, best iteration is:\n[166]\ttraining's l2: 8.73827e-05\tvalid_1's l2: 0.000144898\n----------\n当前移除特征: B14_to_A16_intTarget_3_mean, CV score: 0.00006482, 最佳cv score: 0.00006395, 没效果,保留！！\nfold n°1\nTraining until validation scores don't improve for 100 rounds.\n"
     ]
    },
    {
     "name": "stdout",
     "output_type": "stream",
     "text": [
      "Early stopping, best iteration is:\n[239]\ttraining's l2: 7.79653e-05\tvalid_1's l2: 0.000141169\nfold n°2\nTraining until validation scores don't improve for 100 rounds.\n"
     ]
    },
    {
     "name": "stdout",
     "output_type": "stream",
     "text": [
      "Early stopping, best iteration is:\n[589]\ttraining's l2: 5.86073e-05\tvalid_1's l2: 0.000139589\nfold n°3\nTraining until validation scores don't improve for 100 rounds.\n"
     ]
    },
    {
     "name": "stdout",
     "output_type": "stream",
     "text": [
      "Early stopping, best iteration is:\n[741]\ttraining's l2: 5.9057e-05\tvalid_1's l2: 0.000111278\nfold n°4\nTraining until validation scores don't improve for 100 rounds.\n"
     ]
    },
    {
     "name": "stdout",
     "output_type": "stream",
     "text": [
      "Early stopping, best iteration is:\n[329]\ttraining's l2: 7.3283e-05\tvalid_1's l2: 0.000109179\nfold n°5\nTraining until validation scores don't improve for 100 rounds.\n"
     ]
    },
    {
     "name": "stdout",
     "output_type": "stream",
     "text": [
      "Early stopping, best iteration is:\n[127]\ttraining's l2: 9.47608e-05\tvalid_1's l2: 0.000144565\n----------\n当前移除特征: B14_to_A16_intTarget_4_mean, CV score: 0.00006458, 最佳cv score: 0.00006395, 没效果,保留！！\nfold n°1\nTraining until validation scores don't improve for 100 rounds.\n"
     ]
    },
    {
     "name": "stdout",
     "output_type": "stream",
     "text": [
      "Early stopping, best iteration is:\n[340]\ttraining's l2: 7.00675e-05\tvalid_1's l2: 0.000142476\nfold n°2\nTraining until validation scores don't improve for 100 rounds.\n"
     ]
    },
    {
     "name": "stdout",
     "output_type": "stream",
     "text": [
      "Early stopping, best iteration is:\n[562]\ttraining's l2: 5.97675e-05\tvalid_1's l2: 0.000136982\nfold n°3\nTraining until validation scores don't improve for 100 rounds.\n"
     ]
    },
    {
     "name": "stdout",
     "output_type": "stream",
     "text": [
      "Early stopping, best iteration is:\n[711]\ttraining's l2: 6.00565e-05\tvalid_1's l2: 0.000110917\nfold n°4\nTraining until validation scores don't improve for 100 rounds.\n"
     ]
    },
    {
     "name": "stdout",
     "output_type": "stream",
     "text": [
      "Early stopping, best iteration is:\n[260]\ttraining's l2: 7.94251e-05\tvalid_1's l2: 0.000109029\nfold n°5\nTraining until validation scores don't improve for 100 rounds.\n"
     ]
    },
    {
     "name": "stdout",
     "output_type": "stream",
     "text": [
      "Early stopping, best iteration is:\n[184]\ttraining's l2: 8.42299e-05\tvalid_1's l2: 0.000147032\n----------\n当前移除特征: B14_to_A24_intTarget_0_mean, CV score: 0.00006465, 最佳cv score: 0.00006395, 没效果,保留！！\nfold n°1\nTraining until validation scores don't improve for 100 rounds.\n"
     ]
    },
    {
     "name": "stdout",
     "output_type": "stream",
     "text": [
      "Early stopping, best iteration is:\n[288]\ttraining's l2: 7.3714e-05\tvalid_1's l2: 0.000142152\nfold n°2\nTraining until validation scores don't improve for 100 rounds.\n"
     ]
    },
    {
     "name": "stdout",
     "output_type": "stream",
     "text": [
      "Early stopping, best iteration is:\n[563]\ttraining's l2: 5.96433e-05\tvalid_1's l2: 0.000138151\nfold n°3\nTraining until validation scores don't improve for 100 rounds.\n"
     ]
    },
    {
     "name": "stdout",
     "output_type": "stream",
     "text": [
      "Early stopping, best iteration is:\n[741]\ttraining's l2: 5.8887e-05\tvalid_1's l2: 0.00011124\nfold n°4\nTraining until validation scores don't improve for 100 rounds.\n"
     ]
    },
    {
     "name": "stdout",
     "output_type": "stream",
     "text": [
      "Early stopping, best iteration is:\n[308]\ttraining's l2: 7.50896e-05\tvalid_1's l2: 0.000107654\nfold n°5\nTraining until validation scores don't improve for 100 rounds.\n"
     ]
    },
    {
     "name": "stdout",
     "output_type": "stream",
     "text": [
      "Early stopping, best iteration is:\n[240]\ttraining's l2: 7.71268e-05\tvalid_1's l2: 0.000143238\n----------\n当前移除特征: B14_to_A24_intTarget_1_mean, CV score: 0.00006425, 最佳cv score: 0.00006395, 没效果,保留！！\nfold n°1\nTraining until validation scores don't improve for 100 rounds.\n"
     ]
    },
    {
     "name": "stdout",
     "output_type": "stream",
     "text": [
      "Early stopping, best iteration is:\n[299]\ttraining's l2: 7.3206e-05\tvalid_1's l2: 0.000143816\nfold n°2\nTraining until validation scores don't improve for 100 rounds.\n"
     ]
    },
    {
     "name": "stdout",
     "output_type": "stream",
     "text": [
      "Early stopping, best iteration is:\n[589]\ttraining's l2: 5.84103e-05\tvalid_1's l2: 0.000137879\nfold n°3\nTraining until validation scores don't improve for 100 rounds.\n"
     ]
    },
    {
     "name": "stdout",
     "output_type": "stream",
     "text": [
      "Early stopping, best iteration is:\n[700]\ttraining's l2: 6.01297e-05\tvalid_1's l2: 0.000111878\nfold n°4\nTraining until validation scores don't improve for 100 rounds.\nEarly stopping, best iteration is:\n[258]\ttraining's l2: 7.96331e-05\tvalid_1's l2: 0.000110309\nfold n°5"
     ]
    },
    {
     "name": "stdout",
     "output_type": "stream",
     "text": [
      "\nTraining until validation scores don't improve for 100 rounds.\nEarly stopping, best iteration is:\n[127]\ttraining's l2: 9.58513e-05\tvalid_1's l2: 0.000145878\n----------\n当前移除特征: B14_to_A24_intTarget_2_mean, CV score: 0.00006498, 最佳cv score: 0.00006395, 没效果,保留！！\nfold n°1\nTraining until validation scores don't improve for 100 rounds.\n"
     ]
    },
    {
     "name": "stdout",
     "output_type": "stream",
     "text": [
      "Early stopping, best iteration is:\n[299]\ttraining's l2: 7.26834e-05\tvalid_1's l2: 0.000142529\nfold n°2\nTraining until validation scores don't improve for 100 rounds.\n"
     ]
    },
    {
     "name": "stdout",
     "output_type": "stream",
     "text": [
      "Early stopping, best iteration is:\n[594]\ttraining's l2: 5.84821e-05\tvalid_1's l2: 0.000139439\nfold n°3\nTraining until validation scores don't improve for 100 rounds.\n"
     ]
    },
    {
     "name": "stdout",
     "output_type": "stream",
     "text": [
      "Early stopping, best iteration is:\n[742]\ttraining's l2: 5.90557e-05\tvalid_1's l2: 0.000112453\nfold n°4\nTraining until validation scores don't improve for 100 rounds.\n"
     ]
    },
    {
     "name": "stdout",
     "output_type": "stream",
     "text": [
      "Early stopping, best iteration is:\n[327]\ttraining's l2: 7.35043e-05\tvalid_1's l2: 0.000110542\nfold n°5\nTraining until validation scores don't improve for 100 rounds.\nEarly stopping, best iteration is:\n[127]\ttraining's l2: 9.48198e-05\tvalid_1's l2: 0.00014541\n----------\n当前移除特征: B14_to_A24_intTarget_3_mean, CV score: 0.00006504, 最佳cv score: 0.00006395, 没效果,保留！！\nfold n°1\nTraining until validation scores don't improve for 100 rounds.\n"
     ]
    },
    {
     "name": "stdout",
     "output_type": "stream",
     "text": [
      "Early stopping, best iteration is:\n[314]\ttraining's l2: 7.1088e-05\tvalid_1's l2: 0.000142946\nfold n°2\nTraining until validation scores don't improve for 100 rounds.\n"
     ]
    },
    {
     "name": "stdout",
     "output_type": "stream",
     "text": [
      "Early stopping, best iteration is:\n[589]\ttraining's l2: 5.8393e-05\tvalid_1's l2: 0.000137768\nfold n°3\nTraining until validation scores don't improve for 100 rounds.\n"
     ]
    },
    {
     "name": "stdout",
     "output_type": "stream",
     "text": [
      "Early stopping, best iteration is:\n[719]\ttraining's l2: 5.93952e-05\tvalid_1's l2: 0.000112451\nfold n°4\nTraining until validation scores don't improve for 100 rounds.\n"
     ]
    },
    {
     "name": "stdout",
     "output_type": "stream",
     "text": [
      "Early stopping, best iteration is:\n[327]\ttraining's l2: 7.31619e-05\tvalid_1's l2: 0.0001098\nfold n°5\nTraining until validation scores don't improve for 100 rounds.\n"
     ]
    },
    {
     "name": "stdout",
     "output_type": "stream",
     "text": [
      "Early stopping, best iteration is:\n[183]\ttraining's l2: 8.33041e-05\tvalid_1's l2: 0.000144244\n----------\n当前移除特征: B14_to_A24_intTarget_4_mean, CV score: 0.00006473, 最佳cv score: 0.00006395, 没效果,保留！！\nfold n°1\nTraining until validation scores don't improve for 100 rounds.\n"
     ]
    },
    {
     "name": "stdout",
     "output_type": "stream",
     "text": [
      "Early stopping, best iteration is:\n[314]\ttraining's l2: 7.13717e-05\tvalid_1's l2: 0.000142811\nfold n°2\nTraining until validation scores don't improve for 100 rounds.\n"
     ]
    },
    {
     "name": "stdout",
     "output_type": "stream",
     "text": [
      "Early stopping, best iteration is:\n[589]\ttraining's l2: 5.84044e-05\tvalid_1's l2: 0.000139488\nfold n°3\nTraining until validation scores don't improve for 100 rounds.\n"
     ]
    },
    {
     "name": "stdout",
     "output_type": "stream",
     "text": [
      "Early stopping, best iteration is:\n[741]\ttraining's l2: 5.91178e-05\tvalid_1's l2: 0.000111782\nfold n°4\nTraining until validation scores don't improve for 100 rounds.\n"
     ]
    },
    {
     "name": "stdout",
     "output_type": "stream",
     "text": [
      "Early stopping, best iteration is:\n[331]\ttraining's l2: 7.28677e-05\tvalid_1's l2: 0.000110921\nfold n°5\nTraining until validation scores don't improve for 100 rounds.\nEarly stopping, best iteration is:\n[198]\ttraining's l2: 8.13637e-05\tvalid_1's l2: 0.000146272\n----------"
     ]
    },
    {
     "name": "stdout",
     "output_type": "stream",
     "text": [
      "\n当前移除特征: B14_to_A26_intTarget_0_mean, CV score: 0.00006513, 最佳cv score: 0.00006395, 没效果,保留！！\nfold n°1\nTraining until validation scores don't improve for 100 rounds.\n"
     ]
    },
    {
     "name": "stdout",
     "output_type": "stream",
     "text": [
      "Early stopping, best iteration is:\n[396]\ttraining's l2: 6.62878e-05\tvalid_1's l2: 0.000143482\nfold n°2\nTraining until validation scores don't improve for 100 rounds.\n"
     ]
    },
    {
     "name": "stdout",
     "output_type": "stream",
     "text": [
      "Early stopping, best iteration is:\n[497]\ttraining's l2: 6.16446e-05\tvalid_1's l2: 0.000136969\nfold n°3\nTraining until validation scores don't improve for 100 rounds.\n"
     ]
    },
    {
     "name": "stdout",
     "output_type": "stream",
     "text": [
      "Early stopping, best iteration is:\n[677]\ttraining's l2: 6.077e-05\tvalid_1's l2: 0.000110667\nfold n°4\nTraining until validation scores don't improve for 100 rounds.\n"
     ]
    },
    {
     "name": "stdout",
     "output_type": "stream",
     "text": [
      "Early stopping, best iteration is:\n[327]\ttraining's l2: 7.32271e-05\tvalid_1's l2: 0.000109971\nfold n°5\nTraining until validation scores don't improve for 100 rounds.\nEarly stopping, best iteration is:\n[127]\ttraining's l2: 9.3812e-05\tvalid_1's l2: 0.000144454\n----------\n当前移除特征: B14_to_A26_intTarget_1_mean, CV score: 0.00006456, 最佳cv score: 0.00006395, 没效果,保留！！\nfold n°1\nTraining until validation scores don't improve for 100 rounds.\n"
     ]
    },
    {
     "name": "stdout",
     "output_type": "stream",
     "text": [
      "Early stopping, best iteration is:\n[454]\ttraining's l2: 6.38368e-05\tvalid_1's l2: 0.000143557\nfold n°2\nTraining until validation scores don't improve for 100 rounds.\n"
     ]
    },
    {
     "name": "stdout",
     "output_type": "stream",
     "text": [
      "Early stopping, best iteration is:\n[589]\ttraining's l2: 5.87323e-05\tvalid_1's l2: 0.000137353\nfold n°3\nTraining until validation scores don't improve for 100 rounds.\n"
     ]
    },
    {
     "name": "stdout",
     "output_type": "stream",
     "text": [
      "Early stopping, best iteration is:\n[718]\ttraining's l2: 5.95165e-05\tvalid_1's l2: 0.00011256\nfold n°4\nTraining until validation scores don't improve for 100 rounds.\nEarly stopping, best iteration is:\n[237]\ttraining's l2: 8.13655e-05\tvalid_1's l2: 0.000109519"
     ]
    },
    {
     "name": "stdout",
     "output_type": "stream",
     "text": [
      "\nfold n°5\nTraining until validation scores don't improve for 100 rounds.\nEarly stopping, best iteration is:\n[163]\ttraining's l2: 8.72904e-05\tvalid_1's l2: 0.000146502\n----------\n当前移除特征: B14_to_A26_intTarget_2_mean, CV score: 0.00006495, 最佳cv score: 0.00006395, 没效果,保留！！\nfold n°1\nTraining until validation scores don't improve for 100 rounds.\n"
     ]
    },
    {
     "name": "stdout",
     "output_type": "stream",
     "text": [
      "Early stopping, best iteration is:\n[292]\ttraining's l2: 7.34395e-05\tvalid_1's l2: 0.000140969\nfold n°2\nTraining until validation scores don't improve for 100 rounds.\n"
     ]
    },
    {
     "name": "stdout",
     "output_type": "stream",
     "text": [
      "Early stopping, best iteration is:\n[498]\ttraining's l2: 6.14762e-05\tvalid_1's l2: 0.000139837\nfold n°3\nTraining until validation scores don't improve for 100 rounds.\n"
     ]
    },
    {
     "name": "stdout",
     "output_type": "stream",
     "text": [
      "[1000]\ttraining's l2: 5.36843e-05\tvalid_1's l2: 0.000112996\nEarly stopping, best iteration is:\n[910]\ttraining's l2: 5.52484e-05\tvalid_1's l2: 0.000112121\nfold n°4\nTraining until validation scores don't improve for 100 rounds.\n"
     ]
    },
    {
     "name": "stdout",
     "output_type": "stream",
     "text": [
      "Early stopping, best iteration is:\n[228]\ttraining's l2: 8.25474e-05\tvalid_1's l2: 0.000109707\nfold n°5\nTraining until validation scores don't improve for 100 rounds.\nEarly stopping, best iteration is:\n[248]\ttraining's l2: 7.6146e-05\tvalid_1's l2: 0.000144601\n----------\n当前移除特征: B14_to_A26_intTarget_3_mean, CV score: 0.00006473, 最佳cv score: 0.00006395, 没效果,保留！！\nfold n°1"
     ]
    },
    {
     "name": "stdout",
     "output_type": "stream",
     "text": [
      "\nTraining until validation scores don't improve for 100 rounds.\n"
     ]
    },
    {
     "name": "stdout",
     "output_type": "stream",
     "text": [
      "Early stopping, best iteration is:\n[362]\ttraining's l2: 6.85421e-05\tvalid_1's l2: 0.000144398\nfold n°2\nTraining until validation scores don't improve for 100 rounds.\n"
     ]
    },
    {
     "name": "stdout",
     "output_type": "stream",
     "text": [
      "Early stopping, best iteration is:\n[556]\ttraining's l2: 5.95741e-05\tvalid_1's l2: 0.000139498\nfold n°3\nTraining until validation scores don't improve for 100 rounds.\n"
     ]
    },
    {
     "name": "stdout",
     "output_type": "stream",
     "text": [
      "Early stopping, best iteration is:\n[741]\ttraining's l2: 5.89822e-05\tvalid_1's l2: 0.00011102\nfold n°4\nTraining until validation scores don't improve for 100 rounds.\n"
     ]
    },
    {
     "name": "stdout",
     "output_type": "stream",
     "text": [
      "Early stopping, best iteration is:\n[274]\ttraining's l2: 7.7581e-05\tvalid_1's l2: 0.000109711\nfold n°5\nTraining until validation scores don't improve for 100 rounds.\nEarly stopping, best iteration is:\n[278]\ttraining's l2: 7.39054e-05\tvalid_1's l2: 0.000145037\n----------"
     ]
    },
    {
     "name": "stdout",
     "output_type": "stream",
     "text": [
      "\n当前移除特征: B14_to_A26_intTarget_4_mean, CV score: 0.00006497, 最佳cv score: 0.00006395, 没效果,保留！！\nfold n°1\nTraining until validation scores don't improve for 100 rounds.\nEarly stopping, best iteration is:\n[244]\ttraining's l2: 7.74974e-05\tvalid_1's l2: 0.000144025\nfold n°2\nTraining until validation scores don't improve for 100 rounds.\n"
     ]
    },
    {
     "name": "stdout",
     "output_type": "stream",
     "text": [
      "Early stopping, best iteration is:\n[596]\ttraining's l2: 5.83922e-05\tvalid_1's l2: 0.000138786\nfold n°3\nTraining until validation scores don't improve for 100 rounds.\n"
     ]
    },
    {
     "name": "stdout",
     "output_type": "stream",
     "text": [
      "Early stopping, best iteration is:\n[734]\ttraining's l2: 5.92369e-05\tvalid_1's l2: 0.000111011\nfold n°4\nTraining until validation scores don't improve for 100 rounds.\n"
     ]
    },
    {
     "name": "stdout",
     "output_type": "stream",
     "text": [
      "Early stopping, best iteration is:\n[273]\ttraining's l2: 7.75983e-05\tvalid_1's l2: 0.000111086\nfold n°5\nTraining until validation scores don't improve for 100 rounds.\n"
     ]
    },
    {
     "name": "stdout",
     "output_type": "stream",
     "text": [
      "Early stopping, best iteration is:\n[127]\ttraining's l2: 9.51302e-05\tvalid_1's l2: 0.000145867\n----------\n当前移除特征: B14_to_B1_intTarget_0_mean, CV score: 0.00006508, 最佳cv score: 0.00006395, 没效果,保留！！\nfold n°1\nTraining until validation scores don't improve for 100 rounds.\nEarly stopping, best iteration is:\n[324]\ttraining's l2: 7.14917e-05\tvalid_1's l2: 0.000141921\nfold n°2"
     ]
    },
    {
     "name": "stdout",
     "output_type": "stream",
     "text": [
      "\nTraining until validation scores don't improve for 100 rounds.\n"
     ]
    },
    {
     "name": "stdout",
     "output_type": "stream",
     "text": [
      "Early stopping, best iteration is:\n[529]\ttraining's l2: 6.08891e-05\tvalid_1's l2: 0.000137304\nfold n°3\nTraining until validation scores don't improve for 100 rounds.\n"
     ]
    },
    {
     "name": "stdout",
     "output_type": "stream",
     "text": [
      "Early stopping, best iteration is:\n[740]\ttraining's l2: 5.89752e-05\tvalid_1's l2: 0.000110216\nfold n°4\nTraining until validation scores don't improve for 100 rounds.\n"
     ]
    },
    {
     "name": "stdout",
     "output_type": "stream",
     "text": [
      "Early stopping, best iteration is:\n[285]\ttraining's l2: 7.71617e-05\tvalid_1's l2: 0.000108633\nfold n°5\nTraining until validation scores don't improve for 100 rounds.\nEarly stopping, best iteration is:\n[197]\ttraining's l2: 8.23886e-05\tvalid_1's l2: 0.000146181"
     ]
    },
    {
     "name": "stdout",
     "output_type": "stream",
     "text": [
      "\n----------\n当前移除特征: B14_to_B1_intTarget_1_mean, CV score: 0.00006443, 最佳cv score: 0.00006395, 没效果,保留！！\nfold n°1\nTraining until validation scores don't improve for 100 rounds.\n"
     ]
    },
    {
     "name": "stdout",
     "output_type": "stream",
     "text": [
      "Early stopping, best iteration is:\n[383]\ttraining's l2: 6.76582e-05\tvalid_1's l2: 0.000141329\nfold n°2\nTraining until validation scores don't improve for 100 rounds.\n"
     ]
    },
    {
     "name": "stdout",
     "output_type": "stream",
     "text": [
      "Early stopping, best iteration is:\n[556]\ttraining's l2: 5.98686e-05\tvalid_1's l2: 0.000137132\nfold n°3\nTraining until validation scores don't improve for 100 rounds.\n"
     ]
    },
    {
     "name": "stdout",
     "output_type": "stream",
     "text": [
      "[1000]\ttraining's l2: 5.40831e-05\tvalid_1's l2: 0.000111902\nEarly stopping, best iteration is:\n[909]\ttraining's l2: 5.5672e-05\tvalid_1's l2: 0.000110851\nfold n°4\nTraining until validation scores don't improve for 100 rounds.\n"
     ]
    },
    {
     "name": "stdout",
     "output_type": "stream",
     "text": [
      "Early stopping, best iteration is:\n[328]\ttraining's l2: 7.39876e-05\tvalid_1's l2: 0.00010952\nfold n°5\nTraining until validation scores don't improve for 100 rounds.\nEarly stopping, best iteration is:\n[160]\ttraining's l2: 8.78812e-05\tvalid_1's l2: 0.00014545\n----------\n当前移除特征: B14_to_B1_intTarget_2_mean, CV score: 0.00006443, 最佳cv score: 0.00006395, 没效果,保留！！\nfold n°1\nTraining until validation scores don't improve for 100 rounds.\n"
     ]
    },
    {
     "name": "stdout",
     "output_type": "stream",
     "text": [
      "Early stopping, best iteration is:\n[353]\ttraining's l2: 6.8979e-05\tvalid_1's l2: 0.000140614\nfold n°2\nTraining until validation scores don't improve for 100 rounds.\n"
     ]
    },
    {
     "name": "stdout",
     "output_type": "stream",
     "text": [
      "Early stopping, best iteration is:\n[494]\ttraining's l2: 6.20833e-05\tvalid_1's l2: 0.000139237\nfold n°3\nTraining until validation scores don't improve for 100 rounds.\n"
     ]
    },
    {
     "name": "stdout",
     "output_type": "stream",
     "text": [
      "Early stopping, best iteration is:\n[743]\ttraining's l2: 5.89269e-05\tvalid_1's l2: 0.000109965\nfold n°4\nTraining until validation scores don't improve for 100 rounds.\nEarly stopping, best iteration is:\n[210]\ttraining's l2: 8.48254e-05\tvalid_1's l2: 0.000110365"
     ]
    },
    {
     "name": "stdout",
     "output_type": "stream",
     "text": [
      "\nfold n°5\nTraining until validation scores don't improve for 100 rounds.\nEarly stopping, best iteration is:\n[192]\ttraining's l2: 8.26931e-05\tvalid_1's l2: 0.000144529\n----------\n当前移除特征: B14_to_B1_intTarget_3_mean, CV score: 0.00006448, 最佳cv score: 0.00006395, 没效果,保留！！\nfold n°1\nTraining until validation scores don't improve for 100 rounds.\n"
     ]
    },
    {
     "name": "stdout",
     "output_type": "stream",
     "text": [
      "Early stopping, best iteration is:\n[292]\ttraining's l2: 7.35043e-05\tvalid_1's l2: 0.000143084\nfold n°2\nTraining until validation scores don't improve for 100 rounds.\n"
     ]
    },
    {
     "name": "stdout",
     "output_type": "stream",
     "text": [
      "Early stopping, best iteration is:\n[589]\ttraining's l2: 5.85922e-05\tvalid_1's l2: 0.000137797\nfold n°3\nTraining until validation scores don't improve for 100 rounds.\n"
     ]
    },
    {
     "name": "stdout",
     "output_type": "stream",
     "text": [
      "Early stopping, best iteration is:\n[868]\ttraining's l2: 5.61616e-05\tvalid_1's l2: 0.000110361\nfold n°4\nTraining until validation scores don't improve for 100 rounds.\nEarly stopping, best iteration is:\n[237]\ttraining's l2: 8.2249e-05\tvalid_1's l2: 0.000108453"
     ]
    },
    {
     "name": "stdout",
     "output_type": "stream",
     "text": [
      "\nfold n°5\nTraining until validation scores don't improve for 100 rounds.\nEarly stopping, best iteration is:\n[127]\ttraining's l2: 9.51172e-05\tvalid_1's l2: 0.000145284\n----------\n当前移除特征: B14_to_B1_intTarget_4_mean, CV score: 0.00006450, 最佳cv score: 0.00006395, 没效果,保留！！\nfold n°1\nTraining until validation scores don't improve for 100 rounds.\n"
     ]
    },
    {
     "name": "stdout",
     "output_type": "stream",
     "text": [
      "Early stopping, best iteration is:\n[340]\ttraining's l2: 7.00242e-05\tvalid_1's l2: 0.000143264\nfold n°2\nTraining until validation scores don't improve for 100 rounds.\n"
     ]
    },
    {
     "name": "stdout",
     "output_type": "stream",
     "text": [
      "Early stopping, best iteration is:\n[494]\ttraining's l2: 6.22752e-05\tvalid_1's l2: 0.0001385\nfold n°3\nTraining until validation scores don't improve for 100 rounds.\n"
     ]
    },
    {
     "name": "stdout",
     "output_type": "stream",
     "text": [
      "Early stopping, best iteration is:\n[741]\ttraining's l2: 5.94491e-05\tvalid_1's l2: 0.000111339\nfold n°4\nTraining until validation scores don't improve for 100 rounds.\n"
     ]
    },
    {
     "name": "stdout",
     "output_type": "stream",
     "text": [
      "Early stopping, best iteration is:\n[259]\ttraining's l2: 7.96754e-05\tvalid_1's l2: 0.000109457\nfold n°5\nTraining until validation scores don't improve for 100 rounds.\nEarly stopping, best iteration is:\n[184]\ttraining's l2: 8.38782e-05\tvalid_1's l2: 0.000148216\n----------\n当前移除特征: B14_to_B5_intTarget_0_mean, CV score: 0.00006508, 最佳cv score: 0.00006395, 没效果,保留！！\nfold n°1\nTraining until validation scores don't improve for 100 rounds.\n"
     ]
    },
    {
     "name": "stdout",
     "output_type": "stream",
     "text": [
      "Early stopping, best iteration is:\n[335]\ttraining's l2: 6.98048e-05\tvalid_1's l2: 0.000140133\nfold n°2\nTraining until validation scores don't improve for 100 rounds.\n"
     ]
    },
    {
     "name": "stdout",
     "output_type": "stream",
     "text": [
      "Early stopping, best iteration is:\n[500]\ttraining's l2: 6.1388e-05\tvalid_1's l2: 0.000137166\nfold n°3\nTraining until validation scores don't improve for 100 rounds.\n"
     ]
    },
    {
     "name": "stdout",
     "output_type": "stream",
     "text": [
      "[1000]\ttraining's l2: 5.3897e-05\tvalid_1's l2: 0.00011219\nEarly stopping, best iteration is:\n[907]\ttraining's l2: 5.55522e-05\tvalid_1's l2: 0.000111306\nfold n°4\nTraining until validation scores don't improve for 100 rounds.\n"
     ]
    },
    {
     "name": "stdout",
     "output_type": "stream",
     "text": [
      "Early stopping, best iteration is:\n[260]\ttraining's l2: 7.95163e-05\tvalid_1's l2: 0.000109799\nfold n°5\nTraining until validation scores don't improve for 100 rounds.\nEarly stopping, best iteration is:\n[127]\ttraining's l2: 9.5057e-05\tvalid_1's l2: 0.000144058\n----------\n当前移除特征: B14_to_B5_intTarget_1_mean, CV score: 0.00006425, 最佳cv score: 0.00006395, 没效果,保留！！\nfold n°1\nTraining until validation scores don't improve for 100 rounds.\n"
     ]
    },
    {
     "name": "stdout",
     "output_type": "stream",
     "text": [
      "Early stopping, best iteration is:\n[293]\ttraining's l2: 7.30394e-05\tvalid_1's l2: 0.00014217\nfold n°2\nTraining until validation scores don't improve for 100 rounds.\n"
     ]
    },
    {
     "name": "stdout",
     "output_type": "stream",
     "text": [
      "Early stopping, best iteration is:\n[493]\ttraining's l2: 6.19608e-05\tvalid_1's l2: 0.000138845\nfold n°3\nTraining until validation scores don't improve for 100 rounds.\n"
     ]
    },
    {
     "name": "stdout",
     "output_type": "stream",
     "text": [
      "Early stopping, best iteration is:\n[741]\ttraining's l2: 5.88642e-05\tvalid_1's l2: 0.000112116\nfold n°4\nTraining until validation scores don't improve for 100 rounds.\n"
     ]
    },
    {
     "name": "stdout",
     "output_type": "stream",
     "text": [
      "Early stopping, best iteration is:\n[328]\ttraining's l2: 7.36885e-05\tvalid_1's l2: 0.000109597\nfold n°5\nTraining until validation scores don't improve for 100 rounds.\nEarly stopping, best iteration is:\n[127]\ttraining's l2: 9.57239e-05\tvalid_1's l2: 0.000148082\n----------\n当前移除特征: B14_to_B5_intTarget_2_mean, CV score: 0.00006509, 最佳cv score: 0.00006395, 没效果,保留！！\nfold n°1\nTraining until validation scores don't improve for 100 rounds.\n"
     ]
    },
    {
     "name": "stdout",
     "output_type": "stream",
     "text": [
      "Early stopping, best iteration is:\n[335]\ttraining's l2: 7.05235e-05\tvalid_1's l2: 0.000142165\nfold n°2\nTraining until validation scores don't improve for 100 rounds.\n"
     ]
    },
    {
     "name": "stdout",
     "output_type": "stream",
     "text": [
      "Early stopping, best iteration is:\n[497]\ttraining's l2: 6.20981e-05\tvalid_1's l2: 0.00013765\nfold n°3\nTraining until validation scores don't improve for 100 rounds.\n"
     ]
    },
    {
     "name": "stdout",
     "output_type": "stream",
     "text": [
      "Early stopping, best iteration is:\n[748]\ttraining's l2: 5.93522e-05\tvalid_1's l2: 0.000111001\nfold n°4\nTraining until validation scores don't improve for 100 rounds.\n"
     ]
    },
    {
     "name": "stdout",
     "output_type": "stream",
     "text": [
      "Early stopping, best iteration is:\n[255]\ttraining's l2: 7.97533e-05\tvalid_1's l2: 0.000108859\nfold n°5\nTraining until validation scores don't improve for 100 rounds.\nEarly stopping, best iteration is:\n[128]\ttraining's l2: 9.58541e-05\tvalid_1's l2: 0.000146353\n----------\n当前移除特征: B14_to_B5_intTarget_3_mean, CV score: 0.00006461, 最佳cv score: 0.00006395, 没效果,保留！！\nfold n°1\nTraining until validation scores don't improve for 100 rounds.\n"
     ]
    },
    {
     "name": "stdout",
     "output_type": "stream",
     "text": [
      "Early stopping, best iteration is:\n[230]\ttraining's l2: 7.86638e-05\tvalid_1's l2: 0.000139869\nfold n°2\nTraining until validation scores don't improve for 100 rounds.\n"
     ]
    },
    {
     "name": "stdout",
     "output_type": "stream",
     "text": [
      "Early stopping, best iteration is:\n[587]\ttraining's l2: 5.84548e-05\tvalid_1's l2: 0.000136871\nfold n°3\nTraining until validation scores don't improve for 100 rounds.\n"
     ]
    },
    {
     "name": "stdout",
     "output_type": "stream",
     "text": [
      "Early stopping, best iteration is:\n[743]\ttraining's l2: 5.88311e-05\tvalid_1's l2: 0.000109632\nfold n°4\nTraining until validation scores don't improve for 100 rounds.\n"
     ]
    },
    {
     "name": "stdout",
     "output_type": "stream",
     "text": [
      "Early stopping, best iteration is:\n[260]\ttraining's l2: 7.82758e-05\tvalid_1's l2: 0.000107596\nfold n°5\nTraining until validation scores don't improve for 100 rounds.\n"
     ]
    },
    {
     "name": "stdout",
     "output_type": "stream",
     "text": [
      "Early stopping, best iteration is:\n[127]\ttraining's l2: 9.35744e-05\tvalid_1's l2: 0.000142209\n----------\n当前移除特征: B14_to_B5_intTarget_4_mean, CV score: 0.00006362, 最佳cv score: 0.00006395, 有效果,删除！！\nfold n°1\nTraining until validation scores don't improve for 100 rounds.\n"
     ]
    },
    {
     "name": "stdout",
     "output_type": "stream",
     "text": [
      "Early stopping, best iteration is:\n[337]\ttraining's l2: 6.99103e-05\tvalid_1's l2: 0.000143387\nfold n°2\nTraining until validation scores don't improve for 100 rounds.\n"
     ]
    },
    {
     "name": "stdout",
     "output_type": "stream",
     "text": [
      "Early stopping, best iteration is:\n[594]\ttraining's l2: 5.8684e-05\tvalid_1's l2: 0.000138438\n"
     ]
    },
    {
     "name": "stdout",
     "output_type": "stream",
     "text": [
      "fold n°3\nTraining until validation scores don't improve for 100 rounds.\n"
     ]
    },
    {
     "name": "stdout",
     "output_type": "stream",
     "text": [
      "[1000]\ttraining's l2: 5.39577e-05\tvalid_1's l2: 0.000112429\nEarly stopping, best iteration is:\n[907]\ttraining's l2: 5.55514e-05\tvalid_1's l2: 0.000111565\nfold n°4\nTraining until validation scores don't improve for 100 rounds.\n"
     ]
    },
    {
     "name": "stdout",
     "output_type": "stream",
     "text": [
      "Early stopping, best iteration is:\n[252]\ttraining's l2: 7.99144e-05\tvalid_1's l2: 0.000109532\nfold n°5\nTraining until validation scores don't improve for 100 rounds.\nEarly stopping, best iteration is:\n[126]\ttraining's l2: 9.48729e-05\tvalid_1's l2: 0.000144879\n----------\n当前移除特征: B14_to_B6_intTarget_0_mean, CV score: 0.00006479, 最佳cv score: 0.00006362, 没效果,保留！！\nfold n°1\nTraining until validation scores don't improve for 100 rounds.\n"
     ]
    },
    {
     "name": "stdout",
     "output_type": "stream",
     "text": [
      "Early stopping, best iteration is:\n[312]\ttraining's l2: 7.2041e-05\tvalid_1's l2: 0.000141639\nfold n°2\nTraining until validation scores don't improve for 100 rounds.\n"
     ]
    },
    {
     "name": "stdout",
     "output_type": "stream",
     "text": [
      "Early stopping, best iteration is:\n[497]\ttraining's l2: 6.18719e-05\tvalid_1's l2: 0.000137362\nfold n°3\nTraining until validation scores don't improve for 100 rounds.\n"
     ]
    },
    {
     "name": "stdout",
     "output_type": "stream",
     "text": [
      "Early stopping, best iteration is:\n[748]\ttraining's l2: 5.86219e-05\tvalid_1's l2: 0.000111248\nfold n°4\nTraining until validation scores don't improve for 100 rounds.\nEarly stopping, best iteration is:\n[237]\ttraining's l2: 8.16817e-05\tvalid_1's l2: 0.000109284"
     ]
    },
    {
     "name": "stdout",
     "output_type": "stream",
     "text": [
      "\nfold n°5\nTraining until validation scores don't improve for 100 rounds.\n"
     ]
    },
    {
     "name": "stdout",
     "output_type": "stream",
     "text": [
      "Early stopping, best iteration is:\n[198]\ttraining's l2: 8.26573e-05\tvalid_1's l2: 0.000144892\n----------\n当前移除特征: B14_to_B6_intTarget_1_mean, CV score: 0.00006445, 最佳cv score: 0.00006362, 没效果,保留！！\nfold n°1\nTraining until validation scores don't improve for 100 rounds.\n"
     ]
    },
    {
     "name": "stdout",
     "output_type": "stream",
     "text": [
      "Early stopping, best iteration is:\n[313]\ttraining's l2: 7.18798e-05\tvalid_1's l2: 0.000143537\nfold n°2\nTraining until validation scores don't improve for 100 rounds.\n"
     ]
    },
    {
     "name": "stdout",
     "output_type": "stream",
     "text": [
      "Early stopping, best iteration is:\n[587]\ttraining's l2: 5.88039e-05\tvalid_1's l2: 0.000137124\nfold n°3\nTraining until validation scores don't improve for 100 rounds.\n"
     ]
    },
    {
     "name": "stdout",
     "output_type": "stream",
     "text": [
      "[1000]\ttraining's l2: 5.3712e-05\tvalid_1's l2: 0.00011225\nEarly stopping, best iteration is:\n[908]\ttraining's l2: 5.52498e-05\tvalid_1's l2: 0.000111149\nfold n°4\nTraining until validation scores don't improve for 100 rounds.\n"
     ]
    },
    {
     "name": "stdout",
     "output_type": "stream",
     "text": [
      "Early stopping, best iteration is:\n[327]\ttraining's l2: 7.36758e-05\tvalid_1's l2: 0.000109983\nfold n°5\nTraining until validation scores don't improve for 100 rounds.\nEarly stopping, best iteration is:\n[198]\ttraining's l2: 8.23142e-05\tvalid_1's l2: 0.000145483\n----------\n当前移除特征: B14_to_B6_intTarget_2_mean, CV score: 0.00006473, 最佳cv score: 0.00006362, 没效果,保留！！\nfold n°1\nTraining until validation scores don't improve for 100 rounds.\n"
     ]
    },
    {
     "name": "stdout",
     "output_type": "stream",
     "text": [
      "Early stopping, best iteration is:\n[289]\ttraining's l2: 7.39703e-05\tvalid_1's l2: 0.000142733\nfold n°2\nTraining until validation scores don't improve for 100 rounds.\n"
     ]
    },
    {
     "name": "stdout",
     "output_type": "stream",
     "text": [
      "Early stopping, best iteration is:\n[562]\ttraining's l2: 6.02032e-05\tvalid_1's l2: 0.000138634\nfold n°3\nTraining until validation scores don't improve for 100 rounds.\n"
     ]
    },
    {
     "name": "stdout",
     "output_type": "stream",
     "text": [
      "Early stopping, best iteration is:\n[892]\ttraining's l2: 5.59703e-05\tvalid_1's l2: 0.000111634\nfold n°4\nTraining until validation scores don't improve for 100 rounds.\n"
     ]
    },
    {
     "name": "stdout",
     "output_type": "stream",
     "text": [
      "Early stopping, best iteration is:\n[322]\ttraining's l2: 7.44974e-05\tvalid_1's l2: 0.00011134\nfold n°5\nTraining until validation scores don't improve for 100 rounds.\nEarly stopping, best iteration is:\n[198]\ttraining's l2: 8.27471e-05\tvalid_1's l2: 0.000145901"
     ]
    },
    {
     "name": "stdout",
     "output_type": "stream",
     "text": [
      "\n----------\n当前移除特征: B14_to_B6_intTarget_3_mean, CV score: 0.00006503, 最佳cv score: 0.00006362, 没效果,保留！！\nfold n°1\nTraining until validation scores don't improve for 100 rounds.\n"
     ]
    },
    {
     "name": "stdout",
     "output_type": "stream",
     "text": [
      "Early stopping, best iteration is:\n[412]\ttraining's l2: 6.58027e-05\tvalid_1's l2: 0.000141856\nfold n°2\nTraining until validation scores don't improve for 100 rounds.\n"
     ]
    },
    {
     "name": "stdout",
     "output_type": "stream",
     "text": [
      "Early stopping, best iteration is:\n[532]\ttraining's l2: 6.05666e-05\tvalid_1's l2: 0.000137041\nfold n°3\nTraining until validation scores don't improve for 100 rounds.\n"
     ]
    },
    {
     "name": "stdout",
     "output_type": "stream",
     "text": [
      "Early stopping, best iteration is:\n[745]\ttraining's l2: 5.90682e-05\tvalid_1's l2: 0.000110402\nfold n°4\nTraining until validation scores don't improve for 100 rounds.\nEarly stopping, best iteration is:\n[256]\ttraining's l2: 7.94101e-05\tvalid_1's l2: 0.00010911"
     ]
    },
    {
     "name": "stdout",
     "output_type": "stream",
     "text": [
      "\nfold n°5\nTraining until validation scores don't improve for 100 rounds.\nEarly stopping, best iteration is:\n[240]\ttraining's l2: 7.75521e-05\tvalid_1's l2: 0.000147745\n----------\n当前移除特征: B14_to_B6_intTarget_4_mean, CV score: 0.00006462, 最佳cv score: 0.00006362, 没效果,保留！！\nfold n°1\nTraining until validation scores don't improve for 100 rounds."
     ]
    },
    {
     "name": "stdout",
     "output_type": "stream",
     "text": [
      "\nEarly stopping, best iteration is:\n[231]\ttraining's l2: 7.86945e-05\tvalid_1's l2: 0.000142504\nfold n°2\nTraining until validation scores don't improve for 100 rounds.\n"
     ]
    },
    {
     "name": "stdout",
     "output_type": "stream",
     "text": [
      "Early stopping, best iteration is:\n[643]\ttraining's l2: 5.70202e-05\tvalid_1's l2: 0.000138999\nfold n°3\nTraining until validation scores don't improve for 100 rounds.\n"
     ]
    },
    {
     "name": "stdout",
     "output_type": "stream",
     "text": [
      "Early stopping, best iteration is:\n[516]\ttraining's l2: 6.57823e-05\tvalid_1's l2: 0.000109956\nfold n°4\nTraining until validation scores don't improve for 100 rounds.\n"
     ]
    },
    {
     "name": "stdout",
     "output_type": "stream",
     "text": [
      "Early stopping, best iteration is:\n[269]\ttraining's l2: 7.76209e-05\tvalid_1's l2: 0.000109184\nfold n°5\nTraining until validation scores don't improve for 100 rounds.\n"
     ]
    },
    {
     "name": "stdout",
     "output_type": "stream",
     "text": [
      "Early stopping, best iteration is:\n[171]\ttraining's l2: 8.54499e-05\tvalid_1's l2: 0.000146937\n----------\n当前移除特征: B14_to_B7_intTarget_0_mean, CV score: 0.00006476, 最佳cv score: 0.00006362, 没效果,保留！！\nfold n°1\nTraining until validation scores don't improve for 100 rounds.\n"
     ]
    },
    {
     "name": "stdout",
     "output_type": "stream",
     "text": [
      "Early stopping, best iteration is:\n[230]\ttraining's l2: 7.84171e-05\tvalid_1's l2: 0.00014181\nfold n°2\nTraining until validation scores don't improve for 100 rounds.\n"
     ]
    },
    {
     "name": "stdout",
     "output_type": "stream",
     "text": [
      "Early stopping, best iteration is:\n[599]\ttraining's l2: 5.825e-05\tvalid_1's l2: 0.000139113\nfold n°3\nTraining until validation scores don't improve for 100 rounds.\n"
     ]
    },
    {
     "name": "stdout",
     "output_type": "stream",
     "text": [
      "[1000]\ttraining's l2: 5.39961e-05\tvalid_1's l2: 0.000111963\nEarly stopping, best iteration is:\n[909]\ttraining's l2: 5.55468e-05\tvalid_1's l2: 0.000111036\nfold n°4\nTraining until validation scores don't improve for 100 rounds.\n"
     ]
    },
    {
     "name": "stdout",
     "output_type": "stream",
     "text": [
      "Early stopping, best iteration is:\n[251]\ttraining's l2: 7.92049e-05\tvalid_1's l2: 0.00011082\nfold n°5\nTraining until validation scores don't improve for 100 rounds.\nEarly stopping, best iteration is:\n[198]\ttraining's l2: 8.19941e-05\tvalid_1's l2: 0.000146255"
     ]
    },
    {
     "name": "stdout",
     "output_type": "stream",
     "text": [
      "\n----------\n当前移除特征: B14_to_B7_intTarget_1_mean, CV score: 0.00006491, 最佳cv score: 0.00006362, 没效果,保留！！\nfold n°1\nTraining until validation scores don't improve for 100 rounds.\n"
     ]
    },
    {
     "name": "stdout",
     "output_type": "stream",
     "text": [
      "Early stopping, best iteration is:\n[297]\ttraining's l2: 7.26988e-05\tvalid_1's l2: 0.000142876\nfold n°2\nTraining until validation scores don't improve for 100 rounds.\n"
     ]
    },
    {
     "name": "stdout",
     "output_type": "stream",
     "text": [
      "Early stopping, best iteration is:\n[589]\ttraining's l2: 5.85547e-05\tvalid_1's l2: 0.000139654\nfold n°3\nTraining until validation scores don't improve for 100 rounds.\n"
     ]
    },
    {
     "name": "stdout",
     "output_type": "stream",
     "text": [
      "Early stopping, best iteration is:\n[739]\ttraining's l2: 5.90689e-05\tvalid_1's l2: 0.000111185\nfold n°4\nTraining until validation scores don't improve for 100 rounds.\n"
     ]
    },
    {
     "name": "stdout",
     "output_type": "stream",
     "text": [
      "Early stopping, best iteration is:\n[256]\ttraining's l2: 7.97171e-05\tvalid_1's l2: 0.000109458\nfold n°5\nTraining until validation scores don't improve for 100 rounds.\nEarly stopping, best iteration is:\n[183]\ttraining's l2: 8.42736e-05\tvalid_1's l2: 0.000146972\n----------\n当前移除特征: B14_to_B7_intTarget_2_mean, CV score: 0.00006502, 最佳cv score: 0.00006362, 没效果,保留！！\nfold n°1\nTraining until validation scores don't improve for 100 rounds.\n"
     ]
    },
    {
     "name": "stdout",
     "output_type": "stream",
     "text": [
      "Early stopping, best iteration is:\n[289]\ttraining's l2: 7.38423e-05\tvalid_1's l2: 0.00014266\nfold n°2\nTraining until validation scores don't improve for 100 rounds.\n"
     ]
    },
    {
     "name": "stdout",
     "output_type": "stream",
     "text": [
      "Early stopping, best iteration is:\n[552]\ttraining's l2: 6.01095e-05\tvalid_1's l2: 0.000139392\nfold n°3\nTraining until validation scores don't improve for 100 rounds.\n"
     ]
    },
    {
     "name": "stdout",
     "output_type": "stream",
     "text": [
      "Early stopping, best iteration is:\n[746]\ttraining's l2: 5.90691e-05\tvalid_1's l2: 0.000111855\nfold n°4\nTraining until validation scores don't improve for 100 rounds.\n"
     ]
    },
    {
     "name": "stdout",
     "output_type": "stream",
     "text": [
      "Early stopping, best iteration is:\n[329]\ttraining's l2: 7.36818e-05\tvalid_1's l2: 0.000109908\nfold n°5\nTraining until validation scores don't improve for 100 rounds.\nEarly stopping, best iteration is:\n[198]\ttraining's l2: 8.21403e-05\tvalid_1's l2: 0.000144856\n----------\n当前移除特征: B14_to_B7_intTarget_3_mean, CV score: 0.00006487, 最佳cv score: 0.00006362, 没效果,保留！！\nfold n°1\nTraining until validation scores don't improve for 100 rounds.\n"
     ]
    },
    {
     "name": "stdout",
     "output_type": "stream",
     "text": [
      "Early stopping, best iteration is:\n[336]\ttraining's l2: 7.08302e-05\tvalid_1's l2: 0.000143184\nfold n°2\nTraining until validation scores don't improve for 100 rounds.\n"
     ]
    },
    {
     "name": "stdout",
     "output_type": "stream",
     "text": [
      "Early stopping, best iteration is:\n[589]\ttraining's l2: 5.86749e-05\tvalid_1's l2: 0.000139368\nfold n°3\nTraining until validation scores don't improve for 100 rounds.\n"
     ]
    },
    {
     "name": "stdout",
     "output_type": "stream",
     "text": [
      "Early stopping, best iteration is:\n[741]\ttraining's l2: 5.9341e-05\tvalid_1's l2: 0.000111433\nfold n°4\nTraining until validation scores don't improve for 100 rounds.\n"
     ]
    },
    {
     "name": "stdout",
     "output_type": "stream",
     "text": [
      "Early stopping, best iteration is:\n[260]\ttraining's l2: 7.93438e-05\tvalid_1's l2: 0.000110366\nfold n°5\nTraining until validation scores don't improve for 100 rounds.\nEarly stopping, best iteration is:\n[197]\ttraining's l2: 8.25391e-05\tvalid_1's l2: 0.00014304\n"
     ]
    },
    {
     "name": "stdout",
     "output_type": "stream",
     "text": [
      "----------\n当前移除特征: B14_to_B7_intTarget_4_mean, CV score: 0.00006474, 最佳cv score: 0.00006362, 没效果,保留！！\nfold n°1\nTraining until validation scores don't improve for 100 rounds.\n"
     ]
    },
    {
     "name": "stdout",
     "output_type": "stream",
     "text": [
      "Early stopping, best iteration is:\n[313]\ttraining's l2: 7.17192e-05\tvalid_1's l2: 0.000141773\nfold n°2\nTraining until validation scores don't improve for 100 rounds.\n"
     ]
    },
    {
     "name": "stdout",
     "output_type": "stream",
     "text": [
      "Early stopping, best iteration is:\n[589]\ttraining's l2: 5.85285e-05\tvalid_1's l2: 0.000139158\nfold n°3\nTraining until validation scores don't improve for 100 rounds.\n"
     ]
    },
    {
     "name": "stdout",
     "output_type": "stream",
     "text": [
      "Early stopping, best iteration is:\n[742]\ttraining's l2: 5.90344e-05\tvalid_1's l2: 0.000110986\nfold n°4\nTraining until validation scores don't improve for 100 rounds.\n"
     ]
    },
    {
     "name": "stdout",
     "output_type": "stream",
     "text": [
      "Early stopping, best iteration is:\n[271]\ttraining's l2: 7.8167e-05\tvalid_1's l2: 0.00010997\nfold n°5\nTraining until validation scores don't improve for 100 rounds.\nEarly stopping, best iteration is:\n[127]\ttraining's l2: 9.40598e-05\tvalid_1's l2: 0.000144072\n----------\n当前移除特征: B14_to_B8_intTarget_0_mean, CV score: 0.00006460, 最佳cv score: 0.00006362, 没效果,保留！！\nfold n°1\nTraining until validation scores don't improve for 100 rounds.\n"
     ]
    },
    {
     "name": "stdout",
     "output_type": "stream",
     "text": [
      "Early stopping, best iteration is:\n[340]\ttraining's l2: 6.96574e-05\tvalid_1's l2: 0.000138391\nfold n°2\nTraining until validation scores don't improve for 100 rounds.\n"
     ]
    },
    {
     "name": "stdout",
     "output_type": "stream",
     "text": [
      "Early stopping, best iteration is:\n[519]\ttraining's l2: 6.0744e-05\tvalid_1's l2: 0.000136353\nfold n°3\nTraining until validation scores don't improve for 100 rounds.\n"
     ]
    },
    {
     "name": "stdout",
     "output_type": "stream",
     "text": [
      "Early stopping, best iteration is:\n[741]\ttraining's l2: 5.87453e-05\tvalid_1's l2: 0.000110178\nfold n°4\nTraining until validation scores don't improve for 100 rounds.\n"
     ]
    },
    {
     "name": "stdout",
     "output_type": "stream",
     "text": [
      "Early stopping, best iteration is:\n[281]\ttraining's l2: 7.64527e-05\tvalid_1's l2: 0.000109347\nfold n°5\nTraining until validation scores don't improve for 100 rounds.\n"
     ]
    },
    {
     "name": "stdout",
     "output_type": "stream",
     "text": [
      "Early stopping, best iteration is:\n[154]\ttraining's l2: 8.79376e-05\tvalid_1's l2: 0.000145278\n----------\n当前移除特征: B14_to_B8_intTarget_1_mean, CV score: 0.00006396, 最佳cv score: 0.00006362, 没效果,保留！！\nfold n°1\nTraining until validation scores don't improve for 100 rounds.\n"
     ]
    },
    {
     "name": "stdout",
     "output_type": "stream",
     "text": [
      "Early stopping, best iteration is:\n[412]\ttraining's l2: 6.53635e-05\tvalid_1's l2: 0.000143027\nfold n°2\nTraining until validation scores don't improve for 100 rounds.\n"
     ]
    },
    {
     "name": "stdout",
     "output_type": "stream",
     "text": [
      "Early stopping, best iteration is:\n[590]\ttraining's l2: 5.82585e-05\tvalid_1's l2: 0.000138618\nfold n°3"
     ]
    },
    {
     "name": "stdout",
     "output_type": "stream",
     "text": [
      "\nTraining until validation scores don't improve for 100 rounds.\n"
     ]
    },
    {
     "name": "stdout",
     "output_type": "stream",
     "text": [
      "Early stopping, best iteration is:\n[749]\ttraining's l2: 5.89046e-05\tvalid_1's l2: 0.000111267\nfold n°4\nTraining until validation scores don't improve for 100 rounds.\nEarly stopping, best iteration is:\n[228]\ttraining's l2: 8.21701e-05\tvalid_1's l2: 0.000110391"
     ]
    },
    {
     "name": "stdout",
     "output_type": "stream",
     "text": [
      "\nfold n°5\nTraining until validation scores don't improve for 100 rounds.\nEarly stopping, best iteration is:\n[127]\ttraining's l2: 9.44294e-05\tvalid_1's l2: 0.000143804\n----------\n当前移除特征: B14_to_B8_intTarget_2_mean, CV score: 0.00006472, 最佳cv score: 0.00006362, 没效果,保留！！\nfold n°1\nTraining until validation scores don't improve for 100 rounds.\n"
     ]
    },
    {
     "name": "stdout",
     "output_type": "stream",
     "text": [
      "Early stopping, best iteration is:\n[324]\ttraining's l2: 7.07335e-05\tvalid_1's l2: 0.000141387\nfold n°2\nTraining until validation scores don't improve for 100 rounds.\n"
     ]
    },
    {
     "name": "stdout",
     "output_type": "stream",
     "text": [
      "Early stopping, best iteration is:\n[589]\ttraining's l2: 5.87753e-05\tvalid_1's l2: 0.000139274\nfold n°3\nTraining until validation scores don't improve for 100 rounds.\n"
     ]
    },
    {
     "name": "stdout",
     "output_type": "stream",
     "text": [
      "Early stopping, best iteration is:\n[889]\ttraining's l2: 5.57697e-05\tvalid_1's l2: 0.000111344\nfold n°4\nTraining until validation scores don't improve for 100 rounds.\n"
     ]
    },
    {
     "name": "stdout",
     "output_type": "stream",
     "text": [
      "Early stopping, best iteration is:\n[335]\ttraining's l2: 7.29462e-05\tvalid_1's l2: 0.000110259\nfold n°5\nTraining until validation scores don't improve for 100 rounds.\nEarly stopping, best iteration is:\n[248]\ttraining's l2: 7.62339e-05\tvalid_1's l2: 0.000147031\n----------\n当前移除特征: B14_to_B8_intTarget_3_mean, CV score: 0.00006493, 最佳cv score: 0.00006362, 没效果,保留！！\nfold n°1\nTraining until validation scores don't improve for 100 rounds.\n"
     ]
    },
    {
     "name": "stdout",
     "output_type": "stream",
     "text": [
      "Early stopping, best iteration is:\n[292]\ttraining's l2: 7.36728e-05\tvalid_1's l2: 0.000140594\nfold n°2\nTraining until validation scores don't improve for 100 rounds.\n"
     ]
    },
    {
     "name": "stdout",
     "output_type": "stream",
     "text": [
      "Early stopping, best iteration is:\n[589]\ttraining's l2: 5.85581e-05\tvalid_1's l2: 0.000139457\nfold n°3\nTraining until validation scores don't improve for 100 rounds.\n"
     ]
    },
    {
     "name": "stdout",
     "output_type": "stream",
     "text": [
      "Early stopping, best iteration is:\n[748]\ttraining's l2: 5.88901e-05\tvalid_1's l2: 0.000110033\nfold n°4\nTraining until validation scores don't improve for 100 rounds.\n"
     ]
    },
    {
     "name": "stdout",
     "output_type": "stream",
     "text": [
      "Early stopping, best iteration is:\n[282]\ttraining's l2: 7.75605e-05\tvalid_1's l2: 0.000110108\nfold n°5\nTraining until validation scores don't improve for 100 rounds.\nEarly stopping, best iteration is:\n[198]\ttraining's l2: 8.25208e-05\tvalid_1's l2: 0.000142731\n----------\n当前移除特征: B14_to_B8_intTarget_4_mean, CV score: 0.00006430, 最佳cv score: 0.00006362, 没效果,保留！！\nfold n°1\nTraining until validation scores don't improve for 100 rounds.\n"
     ]
    },
    {
     "name": "stdout",
     "output_type": "stream",
     "text": [
      "Early stopping, best iteration is:\n[390]\ttraining's l2: 6.69446e-05\tvalid_1's l2: 0.000142484\nfold n°2\nTraining until validation scores don't improve for 100 rounds.\n"
     ]
    },
    {
     "name": "stdout",
     "output_type": "stream",
     "text": [
      "Early stopping, best iteration is:\n[499]\ttraining's l2: 6.1736e-05\tvalid_1's l2: 0.000137669\nfold n°3\nTraining until validation scores don't improve for 100 rounds.\n"
     ]
    },
    {
     "name": "stdout",
     "output_type": "stream",
     "text": [
      "Early stopping, best iteration is:\n[866]\ttraining's l2: 5.66134e-05\tvalid_1's l2: 0.000112936\nfold n°4\nTraining until validation scores don't improve for 100 rounds.\n"
     ]
    },
    {
     "name": "stdout",
     "output_type": "stream",
     "text": [
      "Early stopping, best iteration is:\n[329]\ttraining's l2: 7.30649e-05\tvalid_1's l2: 0.000113684\nfold n°5\nTraining until validation scores don't improve for 100 rounds.\nEarly stopping, best iteration is:\n[248]\ttraining's l2: 7.66696e-05\tvalid_1's l2: 0.000150476\n----------\n当前移除特征: B14_to_B14_intTarget_0_mean, CV score: 0.00006573, 最佳cv score: 0.00006362, 没效果,保留！！\nfold n°1\nTraining until validation scores don't improve for 100 rounds.\n"
     ]
    },
    {
     "name": "stdout",
     "output_type": "stream",
     "text": [
      "Early stopping, best iteration is:\n[431]\ttraining's l2: 6.48285e-05\tvalid_1's l2: 0.000141299\nfold n°2\nTraining until validation scores don't improve for 100 rounds.\n"
     ]
    },
    {
     "name": "stdout",
     "output_type": "stream",
     "text": [
      "Early stopping, best iteration is:\n[493]\ttraining's l2: 6.19522e-05\tvalid_1's l2: 0.000138226\nfold n°3\nTraining until validation scores don't improve for 100 rounds.\n"
     ]
    },
    {
     "name": "stdout",
     "output_type": "stream",
     "text": [
      "Early stopping, best iteration is:\n[713]\ttraining's l2: 5.98182e-05\tvalid_1's l2: 0.000110609\nfold n°4\nTraining until validation scores don't improve for 100 rounds.\n"
     ]
    },
    {
     "name": "stdout",
     "output_type": "stream",
     "text": [
      "Early stopping, best iteration is:\n[330]\ttraining's l2: 7.34797e-05\tvalid_1's l2: 0.000108579\nfold n°5\nTraining until validation scores don't improve for 100 rounds.\nEarly stopping, best iteration is:\n[198]\ttraining's l2: 8.29924e-05\tvalid_1's l2: 0.000146152"
     ]
    },
    {
     "name": "stdout",
     "output_type": "stream",
     "text": [
      "\n----------\n当前移除特征: B14_to_B14_intTarget_1_mean, CV score: 0.00006449, 最佳cv score: 0.00006362, 没效果,保留！！\nfold n°1\nTraining until validation scores don't improve for 100 rounds.\nEarly stopping, best iteration is:\n[313]\ttraining's l2: 7.17451e-05\tvalid_1's l2: 0.000139619\nfold n°2"
     ]
    },
    {
     "name": "stdout",
     "output_type": "stream",
     "text": [
      "\nTraining until validation scores don't improve for 100 rounds.\n"
     ]
    },
    {
     "name": "stdout",
     "output_type": "stream",
     "text": [
      "Early stopping, best iteration is:\n[589]\ttraining's l2: 5.8549e-05\tvalid_1's l2: 0.000138425\nfold n°3\nTraining until validation scores don't improve for 100 rounds.\n"
     ]
    },
    {
     "name": "stdout",
     "output_type": "stream",
     "text": [
      "Early stopping, best iteration is:\n[868]\ttraining's l2: 5.59163e-05\tvalid_1's l2: 0.000110397\nfold n°4\nTraining until validation scores don't improve for 100 rounds.\n"
     ]
    },
    {
     "name": "stdout",
     "output_type": "stream",
     "text": [
      "Early stopping, best iteration is:\n[293]\ttraining's l2: 7.63386e-05\tvalid_1's l2: 0.000109198\nfold n°5\nTraining until validation scores don't improve for 100 rounds.\nEarly stopping, best iteration is:\n[129]\ttraining's l2: 9.45342e-05\tvalid_1's l2: 0.000145166"
     ]
    },
    {
     "name": "stdout",
     "output_type": "stream",
     "text": [
      "\n----------\n当前移除特征: B14_to_B14_intTarget_2_mean, CV score: 0.00006428, 最佳cv score: 0.00006362, 没效果,保留！！\nfold n°1\nTraining until validation scores don't improve for 100 rounds.\nEarly stopping, best iteration is:\n[390]\ttraining's l2: 6.70714e-05\tvalid_1's l2: 0.000142531"
     ]
    },
    {
     "name": "stdout",
     "output_type": "stream",
     "text": [
      "\nfold n°2\nTraining until validation scores don't improve for 100 rounds.\n"
     ]
    },
    {
     "name": "stdout",
     "output_type": "stream",
     "text": [
      "Early stopping, best iteration is:\n[564]\ttraining's l2: 5.86721e-05\tvalid_1's l2: 0.000138834\nfold n°3\nTraining until validation scores don't improve for 100 rounds.\n"
     ]
    },
    {
     "name": "stdout",
     "output_type": "stream",
     "text": [
      "Early stopping, best iteration is:\n[748]\ttraining's l2: 5.88186e-05\tvalid_1's l2: 0.000110927\nfold n°4\nTraining until validation scores don't improve for 100 rounds.\nEarly stopping, best iteration is:\n[258]\ttraining's l2: 7.86735e-05\tvalid_1's l2: 0.000109744"
     ]
    },
    {
     "name": "stdout",
     "output_type": "stream",
     "text": [
      "\nfold n°5\nTraining until validation scores don't improve for 100 rounds.\nEarly stopping, best iteration is:\n[198]\ttraining's l2: 8.17589e-05\tvalid_1's l2: 0.000152915\n----------\n当前移除特征: B14_to_B14_intTarget_3_mean, CV score: 0.00006550, 最佳cv score: 0.00006362, 没效果,保留！！\nfold n°1\nTraining until validation scores don't improve for 100 rounds.\n"
     ]
    },
    {
     "name": "stdout",
     "output_type": "stream",
     "text": [
      "Early stopping, best iteration is:\n[315]\ttraining's l2: 7.1626e-05\tvalid_1's l2: 0.000139887\nfold n°2\nTraining until validation scores don't improve for 100 rounds.\n"
     ]
    },
    {
     "name": "stdout",
     "output_type": "stream",
     "text": [
      "Early stopping, best iteration is:\n[587]\ttraining's l2: 5.86347e-05\tvalid_1's l2: 0.000138739\nfold n°3\nTraining until validation scores don't improve for 100 rounds.\n"
     ]
    },
    {
     "name": "stdout",
     "output_type": "stream",
     "text": [
      "Early stopping, best iteration is:\n[739]\ttraining's l2: 5.88214e-05\tvalid_1's l2: 0.000110227\nfold n°4\nTraining until validation scores don't improve for 100 rounds.\nEarly stopping, best iteration is:\n[274]\ttraining's l2: 7.74644e-05\tvalid_1's l2: 0.000109289"
     ]
    },
    {
     "name": "stdout",
     "output_type": "stream",
     "text": [
      "\nfold n°5\nTraining until validation scores don't improve for 100 rounds.\nEarly stopping, best iteration is:\n[224]\ttraining's l2: 7.85043e-05\tvalid_1's l2: 0.000145101\n----------\n当前移除特征: B14_to_B14_intTarget_4_mean, CV score: 0.00006433, 最佳cv score: 0.00006362, 没效果,保留！！\nfold n°1\nTraining until validation scores don't improve for 100 rounds.\n"
     ]
    },
    {
     "name": "stdout",
     "output_type": "stream",
     "text": [
      "Early stopping, best iteration is:\n[134]\ttraining's l2: 0.00020524\tvalid_1's l2: 0.000234426\nfold n°2\nTraining until validation scores don't improve for 100 rounds.\nEarly stopping, best iteration is:\n[97]\ttraining's l2: 0.000206228\tvalid_1's l2: 0.00026463\nfold n°3\nTraining until validation scores don't improve for 100 rounds.\n"
     ]
    },
    {
     "name": "stdout",
     "output_type": "stream",
     "text": [
      "Early stopping, best iteration is:\n[701]\ttraining's l2: 0.000188145\tvalid_1's l2: 0.000248207\nfold n°4\nTraining until validation scores don't improve for 100 rounds.\n"
     ]
    },
    {
     "name": "stdout",
     "output_type": "stream",
     "text": [
      "Early stopping, best iteration is:\n[473]\ttraining's l2: 0.00020594\tvalid_1's l2: 0.000180923\nfold n°5\nTraining until validation scores don't improve for 100 rounds.\nEarly stopping, best iteration is:\n[83]\ttraining's l2: 0.000214366\tvalid_1's l2: 0.000227575\n----------\n当前移除特征: 样本id, CV score: 0.00011558, 最佳cv score: 0.00006362, 没效果,保留！！\nfold n°1\nTraining until validation scores don't improve for 100 rounds.\n"
     ]
    },
    {
     "name": "stdout",
     "output_type": "stream",
     "text": [
      "Early stopping, best iteration is:\n[451]\ttraining's l2: 7.8711e-05\tvalid_1's l2: 0.000146204\nfold n°2\nTraining until validation scores don't improve for 100 rounds.\nEarly stopping, best iteration is:\n[385]\ttraining's l2: 8.16877e-05\tvalid_1's l2: 0.000136953"
     ]
    },
    {
     "name": "stdout",
     "output_type": "stream",
     "text": [
      "\nfold n°3\nTraining until validation scores don't improve for 100 rounds.\n"
     ]
    },
    {
     "name": "stdout",
     "output_type": "stream",
     "text": [
      "Early stopping, best iteration is:\n[727]\ttraining's l2: 7.58176e-05\tvalid_1's l2: 0.000121173\nfold n°4\nTraining until validation scores don't improve for 100 rounds.\nEarly stopping, best iteration is:\n[335]\ttraining's l2: 8.59679e-05\tvalid_1's l2: 0.000106632"
     ]
    },
    {
     "name": "stdout",
     "output_type": "stream",
     "text": [
      "\nfold n°5\nTraining until validation scores don't improve for 100 rounds.\nEarly stopping, best iteration is:\n[238]\ttraining's l2: 8.8671e-05\tvalid_1's l2: 0.000150442\n----------\n当前移除特征: wendu_mean, CV score: 0.00006615, 最佳cv score: 0.00006362, 没效果,保留！！\nfold n°1\nTraining until validation scores don't improve for 100 rounds.\n"
     ]
    },
    {
     "name": "stdout",
     "output_type": "stream",
     "text": [
      "Early stopping, best iteration is:\n[269]\ttraining's l2: 7.71608e-05\tvalid_1's l2: 0.000136821\nfold n°2\nTraining until validation scores don't improve for 100 rounds.\n"
     ]
    },
    {
     "name": "stdout",
     "output_type": "stream",
     "text": [
      "Early stopping, best iteration is:\n[827]\ttraining's l2: 5.59753e-05\tvalid_1's l2: 0.000132299\nfold n°3\nTraining until validation scores don't improve for 100 rounds.\n"
     ]
    },
    {
     "name": "stdout",
     "output_type": "stream",
     "text": [
      "Early stopping, best iteration is:\n[748]\ttraining's l2: 6.30919e-05\tvalid_1's l2: 0.000107861\nfold n°4\nTraining until validation scores don't improve for 100 rounds.\n"
     ]
    },
    {
     "name": "stdout",
     "output_type": "stream",
     "text": [
      "Early stopping, best iteration is:\n[297]\ttraining's l2: 7.99112e-05\tvalid_1's l2: 0.000107231\nfold n°5\nTraining until validation scores don't improve for 100 rounds.\nEarly stopping, best iteration is:\n[172]\ttraining's l2: 8.68274e-05\tvalid_1's l2: 0.000146107\n----------\n当前移除特征: b14/a1_a3_a4_a19_b1_b12, CV score: 0.00006304, 最佳cv score: 0.00006362, 有效果,删除！！\n----------\n优化后CV score: 0.00006304\n"
     ]
    }
   ],
   "source": [
    "def featureSelect(init_cols):\n",
    "    params = {'num_leaves': 120,\n",
    "             'min_data_in_leaf': 30, \n",
    "             'objective':'regression',\n",
    "             'max_depth': -1,\n",
    "             'learning_rate': 0.05,\n",
    "             \"min_child_samples\": 30,\n",
    "             \"boosting\": \"gbdt\",\n",
    "             \"feature_fraction\": 0.9,\n",
    "             \"bagging_freq\": 1,\n",
    "             \"bagging_fraction\": 0.9 ,\n",
    "             \"bagging_seed\": 11,\n",
    "             \"metric\": 'mse',\n",
    "             \"lambda_l1\": 0.02,\n",
    "             \"verbosity\": -1}\n",
    "    best_cols = init_cols.copy()\n",
    "    best_score = modeling_cross_validation(params, train[init_cols].values, target.values, nr_folds=5)\n",
    "    print(\"初始CV score: {:<8.8f}\".format(best_score))\n",
    "    for f in init_cols:\n",
    "\n",
    "        best_cols.remove(f)\n",
    "        score = modeling_cross_validation(params, train[best_cols].values, target.values, nr_folds=5)\n",
    "        diff = best_score - score\n",
    "        print('-'*10)\n",
    "        if diff > 0.00000002:\n",
    "            print(\"当前移除特征: {}, CV score: {:<8.8f}, 最佳cv score: {:<8.8f}, 有效果,删除！！\".format(f,score,best_score))\n",
    "            best_score = score\n",
    "        else:\n",
    "            print(\"当前移除特征: {}, CV score: {:<8.8f}, 最佳cv score: {:<8.8f}, 没效果,保留！！\".format(f,score,best_score))\n",
    "            best_cols.append(f)\n",
    "    print('-'*10)\n",
    "    print(\"优化后CV score: {:<8.8f}\".format(best_score))\n",
    "    \n",
    "    return best_cols\n",
    "train_columns_list = mean_columns+numerical_columns\n",
    "best_features = featureSelect(train_columns_list)"
   ]
  },
  {
   "cell_type": "code",
   "execution_count": 244,
   "metadata": {},
   "outputs": [
    {
     "name": "stdout",
     "output_type": "stream",
     "text": [
      "78\n74\n"
     ]
    }
   ],
   "source": [
    ""
   ]
  },
  {
   "cell_type": "code",
   "execution_count": 191,
   "metadata": {},
   "outputs": [],
   "source": [
    ""
   ]
  },
  {
   "cell_type": "code",
   "execution_count": 237,
   "metadata": {},
   "outputs": [
    {
     "name": "stdout",
     "output_type": "stream",
     "text": [
      "(1381, 1243)\n(150, 1243)\n"
     ]
    }
   ],
   "source": [
    "X_train = train[best_features].values\n",
    "X_test = test[best_features].values\n",
    "# one hot\n",
    "enc = OneHotEncoder()\n",
    "for f in categorical_columns:\n",
    "    enc.fit(data[f].values.reshape(-1, 1))\n",
    "    X_train = sparse.hstack((X_train, enc.transform(train[f].values.reshape(-1, 1))), 'csr')\n",
    "    X_test = sparse.hstack((X_test, enc.transform(test[f].values.reshape(-1, 1))), 'csr')\n",
    "print(X_train.shape)\n",
    "print(X_test.shape)"
   ]
  },
  {
   "cell_type": "code",
   "execution_count": 238,
   "metadata": {
    "collapsed": true
   },
   "outputs": [
    {
     "name": "stdout",
     "output_type": "stream",
     "text": [
      "fold n°1\nTraining until validation scores don't improve for 100 rounds.\n[200]\ttraining's l2: 0.000194937\tvalid_1's l2: 0.000223082\n"
     ]
    },
    {
     "name": "stdout",
     "output_type": "stream",
     "text": [
      "[400]\ttraining's l2: 0.000126921\tvalid_1's l2: 0.000155406\n[600]\ttraining's l2: 0.000107763\tvalid_1's l2: 0.000138285\n"
     ]
    },
    {
     "name": "stdout",
     "output_type": "stream",
     "text": [
      "[800]\ttraining's l2: 9.98561e-05\tvalid_1's l2: 0.00013177\n[1000]\ttraining's l2: 9.52393e-05\tvalid_1's l2: 0.000128128\n[1200]\ttraining's l2: 9.19256e-05\tvalid_1's l2: 0.000125682\n"
     ]
    },
    {
     "name": "stdout",
     "output_type": "stream",
     "text": [
      "[1400]\ttraining's l2: 8.95463e-05\tvalid_1's l2: 0.000124274\n[1600]\ttraining's l2: 8.75481e-05\tvalid_1's l2: 0.000123081\n[1800]\ttraining's l2: 8.60523e-05\tvalid_1's l2: 0.000122288\n"
     ]
    },
    {
     "name": "stdout",
     "output_type": "stream",
     "text": [
      "[2000]\ttraining's l2: 8.47073e-05\tvalid_1's l2: 0.00012162\nEarly stopping, best iteration is:\n[2030]\ttraining's l2: 8.4531e-05\tvalid_1's l2: 0.000121513\n"
     ]
    },
    {
     "name": "stdout",
     "output_type": "stream",
     "text": [
      "fold n°2\nTraining until validation scores don't improve for 100 rounds.\n[200]\ttraining's l2: 0.000191871\tvalid_1's l2: 0.000210442\n[400]\ttraining's l2: 0.000123563\tvalid_1's l2: 0.000158052"
     ]
    },
    {
     "name": "stdout",
     "output_type": "stream",
     "text": [
      "\n"
     ]
    },
    {
     "name": "stdout",
     "output_type": "stream",
     "text": [
      "[600]\ttraining's l2: 0.000104817\tvalid_1's l2: 0.000146123\n[800]\ttraining's l2: 9.66429e-05\tvalid_1's l2: 0.000142042\n[1000]\ttraining's l2: 9.14983e-05\tvalid_1's l2: 0.000139897\n[1200]\ttraining's l2: 8.79583e-05\tvalid_1's l2: 0.000138553\n[1400]\ttraining's l2: 8.53966e-05\tvalid_1's l2: 0.000137544\n"
     ]
    },
    {
     "name": "stdout",
     "output_type": "stream",
     "text": [
      "[1600]\ttraining's l2: 8.33739e-05\tvalid_1's l2: 0.000136829\n[1800]\ttraining's l2: 8.18075e-05\tvalid_1's l2: 0.000136465\n[2000]\ttraining's l2: 8.10072e-05\tvalid_1's l2: 0.000136182\nEarly stopping, best iteration is:\n[1912]\ttraining's l2: 8.10207e-05\tvalid_1's l2: 0.000136176\n"
     ]
    },
    {
     "name": "stdout",
     "output_type": "stream",
     "text": [
      "fold n°3\nTraining until validation scores don't improve for 100 rounds.\n[200]\ttraining's l2: 0.000194901\tvalid_1's l2: 0.000254139\n"
     ]
    },
    {
     "name": "stdout",
     "output_type": "stream",
     "text": [
      "[400]\ttraining's l2: 0.000128685\tvalid_1's l2: 0.000179043\n[600]\ttraining's l2: 0.000108278\tvalid_1's l2: 0.000156263\n[800]\ttraining's l2: 9.91579e-05\tvalid_1's l2: 0.000147459\n"
     ]
    },
    {
     "name": "stdout",
     "output_type": "stream",
     "text": [
      "[1000]\ttraining's l2: 9.37384e-05\tvalid_1's l2: 0.000143086\n[1200]\ttraining's l2: 8.99907e-05\tvalid_1's l2: 0.000140423\n[1400]\ttraining's l2: 8.71891e-05\tvalid_1's l2: 0.000138689\n[1600]\ttraining's l2: 8.51132e-05\tvalid_1's l2: 0.000137332"
     ]
    },
    {
     "name": "stdout",
     "output_type": "stream",
     "text": [
      "\n[1800]\ttraining's l2: 8.33797e-05\tvalid_1's l2: 0.000136236\n[2000]\ttraining's l2: 8.18983e-05\tvalid_1's l2: 0.000135489\nEarly stopping, best iteration is:\n[2031]\ttraining's l2: 8.16882e-05\tvalid_1's l2: 0.00013535"
     ]
    },
    {
     "name": "stdout",
     "output_type": "stream",
     "text": [
      "\nfold n°4\nTraining until validation scores don't improve for 100 rounds.\n"
     ]
    },
    {
     "name": "stdout",
     "output_type": "stream",
     "text": [
      "[200]\ttraining's l2: 0.000202222\tvalid_1's l2: 0.0002178\n[400]\ttraining's l2: 0.000131357\tvalid_1's l2: 0.000157706\n[600]\ttraining's l2: 0.000111629\tvalid_1's l2: 0.000141225\n"
     ]
    },
    {
     "name": "stdout",
     "output_type": "stream",
     "text": [
      "[800]\ttraining's l2: 0.000103299\tvalid_1's l2: 0.00013493\n[1000]\ttraining's l2: 9.79749e-05\tvalid_1's l2: 0.000131069\n[1200]\ttraining's l2: 9.41521e-05\tvalid_1's l2: 0.000128839\n[1400]\ttraining's l2: 9.1239e-05\tvalid_1's l2: 0.000127365"
     ]
    },
    {
     "name": "stdout",
     "output_type": "stream",
     "text": [
      "\n[1600]\ttraining's l2: 8.89004e-05\tvalid_1's l2: 0.000126346\n[1800]\ttraining's l2: 8.71696e-05\tvalid_1's l2: 0.000125467\n[2000]\ttraining's l2: 8.56094e-05\tvalid_1's l2: 0.000124997\n"
     ]
    },
    {
     "name": "stdout",
     "output_type": "stream",
     "text": [
      "[2200]\ttraining's l2: 8.42807e-05\tvalid_1's l2: 0.000124384\n[2400]\ttraining's l2: 8.30702e-05\tvalid_1's l2: 0.000123824\n[2600]\ttraining's l2: 8.22244e-05\tvalid_1's l2: 0.000123529\nEarly stopping, best iteration is:\n[2539]\ttraining's l2: 8.23086e-05\tvalid_1's l2: 0.000123501\n"
     ]
    },
    {
     "name": "stdout",
     "output_type": "stream",
     "text": [
      "fold n°5\nTraining until validation scores don't improve for 100 rounds.\n[200]\ttraining's l2: 0.000199758\tvalid_1's l2: 0.000202103\n"
     ]
    },
    {
     "name": "stdout",
     "output_type": "stream",
     "text": [
      "[400]\ttraining's l2: 0.000131122\tvalid_1's l2: 0.000134481\n[600]\ttraining's l2: 0.000112291\tvalid_1's l2: 0.000118372\n"
     ]
    },
    {
     "name": "stdout",
     "output_type": "stream",
     "text": [
      "[800]\ttraining's l2: 0.000103658\tvalid_1's l2: 0.000113364\n[1000]\ttraining's l2: 9.82077e-05\tvalid_1's l2: 0.000110626\n"
     ]
    },
    {
     "name": "stdout",
     "output_type": "stream",
     "text": [
      "[1200]\ttraining's l2: 9.43874e-05\tvalid_1's l2: 0.000109016\n[1400]\ttraining's l2: 9.14541e-05\tvalid_1's l2: 0.000107892\n[1600]\ttraining's l2: 8.91433e-05\tvalid_1's l2: 0.000107132\n"
     ]
    },
    {
     "name": "stdout",
     "output_type": "stream",
     "text": [
      "[1800]\ttraining's l2: 8.72514e-05\tvalid_1's l2: 0.000106499\nEarly stopping, best iteration is:\n[1886]\ttraining's l2: 8.65367e-05\tvalid_1's l2: 0.00010621\nCV score: 0.00012455\n"
     ]
    }
   ],
   "source": [
    "param = {'num_leaves': 120,\n",
    "         'min_data_in_leaf': 30, \n",
    "         'objective':'regression',\n",
    "         'max_depth': -1,\n",
    "         'learning_rate': 0.01,\n",
    "         \"min_child_samples\": 30,\n",
    "         \"boosting\": \"gbdt\",\n",
    "         \"feature_fraction\": 0.9,\n",
    "         \"bagging_freq\": 1,\n",
    "         \"bagging_fraction\": 0.9 ,\n",
    "         \"bagging_seed\": 11,\n",
    "         \"metric\": 'mse',\n",
    "         \"lambda_l1\": 0.1,\n",
    "         \"verbosity\": -1}\n",
    "folds = KFold(n_splits=5, shuffle=True, random_state=2018)\n",
    "oof_lgb = np.zeros(len(train))\n",
    "predictions_lgb = np.zeros(len(test))\n",
    "\n",
    "for fold_, (trn_idx, val_idx) in enumerate(folds.split(X_train, y_train)):\n",
    "    print(\"fold n°{}\".format(fold_+1))\n",
    "    trn_data = lgb.Dataset(X_train[trn_idx], y_train[trn_idx])\n",
    "    val_data = lgb.Dataset(X_train[val_idx], y_train[val_idx])\n",
    "\n",
    "    num_round = 10000\n",
    "    clf = lgb.train(param, trn_data, num_round, valid_sets = [trn_data, val_data], verbose_eval=200, early_stopping_rounds = 100)\n",
    "    oof_lgb[val_idx] = clf.predict(X_train[val_idx], num_iteration=clf.best_iteration)\n",
    "    \n",
    "    predictions_lgb += clf.predict(X_test, num_iteration=clf.best_iteration) / folds.n_splits\n",
    "\n",
    "print(\"CV score: {:<8.8f}\".format(mean_squared_error(oof_lgb, y_train)))"
   ]
  },
  {
   "cell_type": "code",
   "execution_count": 240,
   "metadata": {
    "collapsed": true
   },
   "outputs": [
    {
     "name": "stdout",
     "output_type": "stream",
     "text": [
      "fold n°1\n"
     ]
    },
    {
     "name": "stdout",
     "output_type": "stream",
     "text": [
      "[0]\ttrain-rmse:0.422932\tvalid_data-rmse:0.423821\n"
     ]
    },
    {
     "name": "stdout",
     "output_type": "stream",
     "text": [
      "Multiple eval metrics have been passed: 'valid_data-rmse' will be used for early stopping.\n\n"
     ]
    },
    {
     "name": "stdout",
     "output_type": "stream",
     "text": [
      "Will train until valid_data-rmse hasn't improved in 200 rounds.\n"
     ]
    },
    {
     "name": "stdout",
     "output_type": "stream",
     "text": [
      "[100]\ttrain-rmse:0.256987\tvalid_data-rmse:0.257749\n"
     ]
    },
    {
     "name": "stdout",
     "output_type": "stream",
     "text": [
      "[200]\ttrain-rmse:0.156606\tvalid_data-rmse:0.157359\n"
     ]
    },
    {
     "name": "stdout",
     "output_type": "stream",
     "text": [
      "[300]\ttrain-rmse:0.095895\tvalid_data-rmse:0.096749\n"
     ]
    },
    {
     "name": "stdout",
     "output_type": "stream",
     "text": [
      "[400]\ttrain-rmse:0.059268\tvalid_data-rmse:0.060187\n"
     ]
    },
    {
     "name": "stdout",
     "output_type": "stream",
     "text": [
      "[500]\ttrain-rmse:0.037238\tvalid_data-rmse:0.038277\n"
     ]
    },
    {
     "name": "stdout",
     "output_type": "stream",
     "text": [
      "[600]\ttrain-rmse:0.024054\tvalid_data-rmse:0.025426\n"
     ]
    },
    {
     "name": "stdout",
     "output_type": "stream",
     "text": [
      "[700]\ttrain-rmse:0.01623\tvalid_data-rmse:0.018146\n"
     ]
    },
    {
     "name": "stdout",
     "output_type": "stream",
     "text": [
      "[800]\ttrain-rmse:0.011642\tvalid_data-rmse:0.01429\n"
     ]
    },
    {
     "name": "stdout",
     "output_type": "stream",
     "text": [
      "[900]\ttrain-rmse:0.009027\tvalid_data-rmse:0.012433\n"
     ]
    },
    {
     "name": "stdout",
     "output_type": "stream",
     "text": [
      "[1000]\ttrain-rmse:0.007574\tvalid_data-rmse:0.011598\n"
     ]
    },
    {
     "name": "stdout",
     "output_type": "stream",
     "text": [
      "[1100]\ttrain-rmse:0.006728\tvalid_data-rmse:0.011212\n"
     ]
    },
    {
     "name": "stdout",
     "output_type": "stream",
     "text": [
      "[1200]\ttrain-rmse:0.00618\tvalid_data-rmse:0.011039\n"
     ]
    },
    {
     "name": "stdout",
     "output_type": "stream",
     "text": [
      "[1300]\ttrain-rmse:0.005801\tvalid_data-rmse:0.010951\n"
     ]
    },
    {
     "name": "stdout",
     "output_type": "stream",
     "text": [
      "[1400]\ttrain-rmse:0.005523\tvalid_data-rmse:0.010911\n"
     ]
    },
    {
     "name": "stdout",
     "output_type": "stream",
     "text": [
      "[1500]\ttrain-rmse:0.005252\tvalid_data-rmse:0.010876\n"
     ]
    },
    {
     "name": "stdout",
     "output_type": "stream",
     "text": [
      "[1600]\ttrain-rmse:0.005006\tvalid_data-rmse:0.010861\n"
     ]
    },
    {
     "name": "stdout",
     "output_type": "stream",
     "text": [
      "[1700]\ttrain-rmse:0.004769\tvalid_data-rmse:0.010849\n"
     ]
    },
    {
     "name": "stdout",
     "output_type": "stream",
     "text": [
      "[1800]\ttrain-rmse:0.004577\tvalid_data-rmse:0.010835\n"
     ]
    },
    {
     "name": "stdout",
     "output_type": "stream",
     "text": [
      "[1900]\ttrain-rmse:0.004409\tvalid_data-rmse:0.010828\n"
     ]
    },
    {
     "name": "stdout",
     "output_type": "stream",
     "text": [
      "[2000]\ttrain-rmse:0.00424\tvalid_data-rmse:0.010829\n"
     ]
    },
    {
     "name": "stdout",
     "output_type": "stream",
     "text": [
      "[2100]\ttrain-rmse:0.004054\tvalid_data-rmse:0.010825\n"
     ]
    },
    {
     "name": "stdout",
     "output_type": "stream",
     "text": [
      "[2200]\ttrain-rmse:0.003901\tvalid_data-rmse:0.010821\n"
     ]
    },
    {
     "name": "stdout",
     "output_type": "stream",
     "text": [
      "[2300]\ttrain-rmse:0.003747\tvalid_data-rmse:0.010825\n"
     ]
    },
    {
     "name": "stdout",
     "output_type": "stream",
     "text": [
      "Stopping. Best iteration:\n[2189]\ttrain-rmse:0.003916\tvalid_data-rmse:0.01082\n\n"
     ]
    },
    {
     "name": "stdout",
     "output_type": "stream",
     "text": [
      "fold n°2\n[0]\ttrain-rmse:0.424042\tvalid_data-rmse:0.41936\n"
     ]
    },
    {
     "name": "stdout",
     "output_type": "stream",
     "text": [
      "Multiple eval metrics have been passed: 'valid_data-rmse' will be used for early stopping.\n\n"
     ]
    },
    {
     "name": "stdout",
     "output_type": "stream",
     "text": [
      "Will train until valid_data-rmse hasn't improved in 200 rounds.\n"
     ]
    },
    {
     "name": "stdout",
     "output_type": "stream",
     "text": [
      "[100]\ttrain-rmse:0.257674\tvalid_data-rmse:0.254116\n"
     ]
    },
    {
     "name": "stdout",
     "output_type": "stream",
     "text": [
      "[200]\ttrain-rmse:0.157029\tvalid_data-rmse:0.15423\n"
     ]
    },
    {
     "name": "stdout",
     "output_type": "stream",
     "text": [
      "[300]\ttrain-rmse:0.096158\tvalid_data-rmse:0.093743\n"
     ]
    },
    {
     "name": "stdout",
     "output_type": "stream",
     "text": [
      "[400]\ttrain-rmse:0.059451\tvalid_data-rmse:0.057622\n"
     ]
    },
    {
     "name": "stdout",
     "output_type": "stream",
     "text": [
      "[500]\ttrain-rmse:0.037315\tvalid_data-rmse:0.0362\n"
     ]
    },
    {
     "name": "stdout",
     "output_type": "stream",
     "text": [
      "[600]\ttrain-rmse:0.024013\tvalid_data-rmse:0.023786\n"
     ]
    },
    {
     "name": "stdout",
     "output_type": "stream",
     "text": [
      "[700]\ttrain-rmse:0.016117\tvalid_data-rmse:0.016993\n"
     ]
    },
    {
     "name": "stdout",
     "output_type": "stream",
     "text": [
      "[800]\ttrain-rmse:0.011474\tvalid_data-rmse:0.013577\n"
     ]
    },
    {
     "name": "stdout",
     "output_type": "stream",
     "text": [
      "[900]\ttrain-rmse:0.008817\tvalid_data-rmse:0.012094\n"
     ]
    },
    {
     "name": "stdout",
     "output_type": "stream",
     "text": [
      "[1000]\ttrain-rmse:0.007323\tvalid_data-rmse:0.011529\n"
     ]
    },
    {
     "name": "stdout",
     "output_type": "stream",
     "text": [
      "[1100]\ttrain-rmse:0.00647\tvalid_data-rmse:0.011333\n"
     ]
    },
    {
     "name": "stdout",
     "output_type": "stream",
     "text": [
      "[1200]\ttrain-rmse:0.005972\tvalid_data-rmse:0.011295\n"
     ]
    },
    {
     "name": "stdout",
     "output_type": "stream",
     "text": [
      "[1300]\ttrain-rmse:0.0056\tvalid_data-rmse:0.011307\n"
     ]
    },
    {
     "name": "stdout",
     "output_type": "stream",
     "text": [
      "[1400]\ttrain-rmse:0.005298\tvalid_data-rmse:0.01134\n"
     ]
    },
    {
     "name": "stdout",
     "output_type": "stream",
     "text": [
      "Stopping. Best iteration:\n[1238]\ttrain-rmse:0.00583\tvalid_data-rmse:0.011292\n\n"
     ]
    },
    {
     "name": "stdout",
     "output_type": "stream",
     "text": [
      "fold n°3\n"
     ]
    },
    {
     "name": "stdout",
     "output_type": "stream",
     "text": [
      "[0]\ttrain-rmse:0.422401\tvalid_data-rmse:0.42595\n"
     ]
    },
    {
     "name": "stdout",
     "output_type": "stream",
     "text": [
      "Multiple eval metrics have been passed: 'valid_data-rmse' will be used for early stopping.\n\n"
     ]
    },
    {
     "name": "stdout",
     "output_type": "stream",
     "text": [
      "Will train until valid_data-rmse hasn't improved in 200 rounds.\n"
     ]
    },
    {
     "name": "stdout",
     "output_type": "stream",
     "text": [
      "[100]\ttrain-rmse:0.256654\tvalid_data-rmse:0.259783\n"
     ]
    },
    {
     "name": "stdout",
     "output_type": "stream",
     "text": [
      "[200]\ttrain-rmse:0.156368\tvalid_data-rmse:0.159189\n"
     ]
    },
    {
     "name": "stdout",
     "output_type": "stream",
     "text": [
      "[300]\ttrain-rmse:0.095747\tvalid_data-rmse:0.09843\n"
     ]
    },
    {
     "name": "stdout",
     "output_type": "stream",
     "text": [
      "[400]\ttrain-rmse:0.059235\tvalid_data-rmse:0.061519\n"
     ]
    },
    {
     "name": "stdout",
     "output_type": "stream",
     "text": [
      "[500]\ttrain-rmse:0.037212\tvalid_data-rmse:0.039093\n"
     ]
    },
    {
     "name": "stdout",
     "output_type": "stream",
     "text": [
      "[600]\ttrain-rmse:0.024006\tvalid_data-rmse:0.025801\n"
     ]
    },
    {
     "name": "stdout",
     "output_type": "stream",
     "text": [
      "[700]\ttrain-rmse:0.016138\tvalid_data-rmse:0.018274\n"
     ]
    },
    {
     "name": "stdout",
     "output_type": "stream",
     "text": [
      "[800]\ttrain-rmse:0.011514\tvalid_data-rmse:0.014347\n"
     ]
    },
    {
     "name": "stdout",
     "output_type": "stream",
     "text": [
      "[900]\ttrain-rmse:0.008855\tvalid_data-rmse:0.012475\n"
     ]
    },
    {
     "name": "stdout",
     "output_type": "stream",
     "text": [
      "[1000]\ttrain-rmse:0.007349\tvalid_data-rmse:0.011694\n"
     ]
    },
    {
     "name": "stdout",
     "output_type": "stream",
     "text": [
      "[1100]\ttrain-rmse:0.0065\tvalid_data-rmse:0.011389\n"
     ]
    },
    {
     "name": "stdout",
     "output_type": "stream",
     "text": [
      "[1200]\ttrain-rmse:0.005962\tvalid_data-rmse:0.011267\n"
     ]
    },
    {
     "name": "stdout",
     "output_type": "stream",
     "text": [
      "[1300]\ttrain-rmse:0.005592\tvalid_data-rmse:0.011222\n"
     ]
    },
    {
     "name": "stdout",
     "output_type": "stream",
     "text": [
      "[1400]\ttrain-rmse:0.005301\tvalid_data-rmse:0.011213\n"
     ]
    },
    {
     "name": "stdout",
     "output_type": "stream",
     "text": [
      "[1500]\ttrain-rmse:0.005067\tvalid_data-rmse:0.011224\n"
     ]
    },
    {
     "name": "stdout",
     "output_type": "stream",
     "text": [
      "Stopping. Best iteration:\n[1329]\ttrain-rmse:0.005502\tvalid_data-rmse:0.011212\n\n"
     ]
    },
    {
     "name": "stdout",
     "output_type": "stream",
     "text": [
      "fold n°4"
     ]
    },
    {
     "name": "stdout",
     "output_type": "stream",
     "text": [
      "\n[0]\ttrain-rmse:0.422949\tvalid_data-rmse:0.423759\n"
     ]
    },
    {
     "name": "stdout",
     "output_type": "stream",
     "text": [
      "Multiple eval metrics have been passed: 'valid_data-rmse' will be used for early stopping.\n\n"
     ]
    },
    {
     "name": "stdout",
     "output_type": "stream",
     "text": [
      "Will train until valid_data-rmse hasn't improved in 200 rounds.\n"
     ]
    },
    {
     "name": "stdout",
     "output_type": "stream",
     "text": [
      "[100]\ttrain-rmse:0.256994\tvalid_data-rmse:0.256966\n"
     ]
    },
    {
     "name": "stdout",
     "output_type": "stream",
     "text": [
      "[200]\ttrain-rmse:0.156625\tvalid_data-rmse:0.156084\n"
     ]
    },
    {
     "name": "stdout",
     "output_type": "stream",
     "text": [
      "[300]\ttrain-rmse:0.095903\tvalid_data-rmse:0.095309\n"
     ]
    },
    {
     "name": "stdout",
     "output_type": "stream",
     "text": [
      "[400]\ttrain-rmse:0.059307\tvalid_data-rmse:0.058767\n"
     ]
    },
    {
     "name": "stdout",
     "output_type": "stream",
     "text": [
      "[500]\ttrain-rmse:0.037255\tvalid_data-rmse:0.036925\n"
     ]
    },
    {
     "name": "stdout",
     "output_type": "stream",
     "text": [
      "[600]\ttrain-rmse:0.024059\tvalid_data-rmse:0.024171\n"
     ]
    },
    {
     "name": "stdout",
     "output_type": "stream",
     "text": [
      "[700]\ttrain-rmse:0.016178\tvalid_data-rmse:0.017054\n"
     ]
    },
    {
     "name": "stdout",
     "output_type": "stream",
     "text": [
      "[800]\ttrain-rmse:0.011591\tvalid_data-rmse:0.013498\n"
     ]
    },
    {
     "name": "stdout",
     "output_type": "stream",
     "text": [
      "[900]\ttrain-rmse:0.008962\tvalid_data-rmse:0.011873\n"
     ]
    },
    {
     "name": "stdout",
     "output_type": "stream",
     "text": [
      "[1000]\ttrain-rmse:0.00746\tvalid_data-rmse:0.011206\n"
     ]
    },
    {
     "name": "stdout",
     "output_type": "stream",
     "text": [
      "[1100]\ttrain-rmse:0.006591\tvalid_data-rmse:0.010946\n"
     ]
    },
    {
     "name": "stdout",
     "output_type": "stream",
     "text": [
      "[1200]\ttrain-rmse:0.006054\tvalid_data-rmse:0.010856\n"
     ]
    },
    {
     "name": "stdout",
     "output_type": "stream",
     "text": [
      "[1300]\ttrain-rmse:0.005672\tvalid_data-rmse:0.010828\n"
     ]
    },
    {
     "name": "stdout",
     "output_type": "stream",
     "text": [
      "[1400]\ttrain-rmse:0.005357\tvalid_data-rmse:0.010814\n"
     ]
    },
    {
     "name": "stdout",
     "output_type": "stream",
     "text": [
      "[1500]\ttrain-rmse:0.005083\tvalid_data-rmse:0.010808\n"
     ]
    },
    {
     "name": "stdout",
     "output_type": "stream",
     "text": [
      "[1600]\ttrain-rmse:0.004853\tvalid_data-rmse:0.010806\n"
     ]
    },
    {
     "name": "stdout",
     "output_type": "stream",
     "text": [
      "[1700]\ttrain-rmse:0.004635\tvalid_data-rmse:0.010812\n"
     ]
    },
    {
     "name": "stdout",
     "output_type": "stream",
     "text": [
      "Stopping. Best iteration:\n[1526]\ttrain-rmse:0.005015\tvalid_data-rmse:0.010804\n\n"
     ]
    },
    {
     "name": "stdout",
     "output_type": "stream",
     "text": [
      "fold n°5\n[0]\ttrain-rmse:0.423228\tvalid_data-rmse:0.422636\n"
     ]
    },
    {
     "name": "stdout",
     "output_type": "stream",
     "text": [
      "Multiple eval metrics have been passed: 'valid_data-rmse' will be used for early stopping.\n\n"
     ]
    },
    {
     "name": "stdout",
     "output_type": "stream",
     "text": [
      "Will train until valid_data-rmse hasn't improved in 200 rounds.\n"
     ]
    },
    {
     "name": "stdout",
     "output_type": "stream",
     "text": [
      "[100]\ttrain-rmse:0.257198\tvalid_data-rmse:0.256899\n"
     ]
    },
    {
     "name": "stdout",
     "output_type": "stream",
     "text": [
      "[200]\ttrain-rmse:0.15673\tvalid_data-rmse:0.156548\n"
     ]
    },
    {
     "name": "stdout",
     "output_type": "stream",
     "text": [
      "[300]\ttrain-rmse:0.096022\tvalid_data-rmse:0.09577\n"
     ]
    },
    {
     "name": "stdout",
     "output_type": "stream",
     "text": [
      "[400]\ttrain-rmse:0.059424\tvalid_data-rmse:0.059292\n"
     ]
    },
    {
     "name": "stdout",
     "output_type": "stream",
     "text": [
      "[500]\ttrain-rmse:0.037383\tvalid_data-rmse:0.037495\n"
     ]
    },
    {
     "name": "stdout",
     "output_type": "stream",
     "text": [
      "[600]\ttrain-rmse:0.024147\tvalid_data-rmse:0.024683\n"
     ]
    },
    {
     "name": "stdout",
     "output_type": "stream",
     "text": [
      "[700]\ttrain-rmse:0.016313\tvalid_data-rmse:0.017392\n"
     ]
    },
    {
     "name": "stdout",
     "output_type": "stream",
     "text": [
      "[800]\ttrain-rmse:0.011714\tvalid_data-rmse:0.013546\n"
     ]
    },
    {
     "name": "stdout",
     "output_type": "stream",
     "text": [
      "[900]\ttrain-rmse:0.009097\tvalid_data-rmse:0.011715\n"
     ]
    },
    {
     "name": "stdout",
     "output_type": "stream",
     "text": [
      "[1000]\ttrain-rmse:0.007602\tvalid_data-rmse:0.010858\n"
     ]
    },
    {
     "name": "stdout",
     "output_type": "stream",
     "text": [
      "[1100]\ttrain-rmse:0.006749\tvalid_data-rmse:0.010486\n"
     ]
    },
    {
     "name": "stdout",
     "output_type": "stream",
     "text": [
      "[1200]\ttrain-rmse:0.006211\tvalid_data-rmse:0.010328\n"
     ]
    },
    {
     "name": "stdout",
     "output_type": "stream",
     "text": [
      "[1300]\ttrain-rmse:0.005835\tvalid_data-rmse:0.010267\n"
     ]
    },
    {
     "name": "stdout",
     "output_type": "stream",
     "text": [
      "[1400]\ttrain-rmse:0.00553\tvalid_data-rmse:0.01024\n"
     ]
    },
    {
     "name": "stdout",
     "output_type": "stream",
     "text": [
      "[1500]\ttrain-rmse:0.005284\tvalid_data-rmse:0.010233\n"
     ]
    },
    {
     "name": "stdout",
     "output_type": "stream",
     "text": [
      "[1600]\ttrain-rmse:0.005044\tvalid_data-rmse:0.010239\n"
     ]
    },
    {
     "name": "stdout",
     "output_type": "stream",
     "text": [
      "Stopping. Best iteration:\n[1473]\ttrain-rmse:0.005341\tvalid_data-rmse:0.01023\n\n"
     ]
    },
    {
     "name": "stdout",
     "output_type": "stream",
     "text": [
      "CV score: 0.00011834\n"
     ]
    }
   ],
   "source": [
    "##### xgb\n",
    "xgb_params = {'eta': 0.005, 'max_depth': 10, 'subsample': 0.8, 'colsample_bytree': 0.8, \n",
    "          'objective': 'reg:linear', 'eval_metric': 'rmse', 'silent': True, 'nthread': 4}\n",
    "\n",
    "folds = KFold(n_splits=5, shuffle=True, random_state=2018)\n",
    "oof_xgb = np.zeros(len(train))\n",
    "predictions_xgb = np.zeros(len(test))\n",
    "\n",
    "for fold_, (trn_idx, val_idx) in enumerate(folds.split(X_train, y_train)):\n",
    "    print(\"fold n°{}\".format(fold_+1))\n",
    "    trn_data = xgb.DMatrix(X_train[trn_idx], y_train[trn_idx])\n",
    "    val_data = xgb.DMatrix(X_train[val_idx], y_train[val_idx])\n",
    "\n",
    "    watchlist = [(trn_data, 'train'), (val_data, 'valid_data')]\n",
    "    clf = xgb.train(dtrain=trn_data, num_boost_round=20000, evals=watchlist, early_stopping_rounds=200, verbose_eval=100, params=xgb_params)\n",
    "    oof_xgb[val_idx] = clf.predict(xgb.DMatrix(X_train[val_idx]), ntree_limit=clf.best_ntree_limit)\n",
    "    predictions_xgb += clf.predict(xgb.DMatrix(X_test), ntree_limit=clf.best_ntree_limit) / folds.n_splits\n",
    "    \n",
    "print(\"CV score: {:<8.8f}\".format(mean_squared_error(oof_xgb, y_train)))"
   ]
  },
  {
   "cell_type": "code",
   "execution_count": 240,
   "metadata": {},
   "outputs": [
    {
     "name": "stdout",
     "output_type": "stream",
     "text": [
      "fold 0\nfold 1\nfold 2\nfold 3\nfold 4\nfold 5\nfold 6\nfold 7\nfold 8\nfold 9\n"
     ]
    },
    {
     "data": {
      "text/plain": [
       "0.00011531501879661276"
      ]
     },
     "execution_count": 240,
     "metadata": {},
     "output_type": "execute_result"
    }
   ],
   "source": [
    "# 将lgb和xgb的结果进行stacking\n",
    "train_stack = np.vstack([oof_lgb,oof_xgb]).transpose()\n",
    "test_stack = np.vstack([predictions_lgb, predictions_xgb]).transpose()\n",
    "\n",
    "folds_stack = RepeatedKFold(n_splits=5, n_repeats=2, random_state=4590)\n",
    "oof_stack = np.zeros(train_stack.shape[0])\n",
    "predictions = np.zeros(test_stack.shape[0])\n",
    "\n",
    "for fold_, (trn_idx, val_idx) in enumerate(folds_stack.split(train_stack,target)):\n",
    "    print(\"fold {}\".format(fold_))\n",
    "    trn_data, trn_y = train_stack[trn_idx], target.iloc[trn_idx].values\n",
    "    val_data, val_y = train_stack[val_idx], target.iloc[val_idx].values\n",
    "    \n",
    "    clf_3 = BayesianRidge()\n",
    "    clf_3.fit(trn_data, trn_y)\n",
    "    \n",
    "    oof_stack[val_idx] = clf_3.predict(val_data)\n",
    "    predictions += clf_3.predict(test_stack) / 10\n",
    "    \n",
    "mean_squared_error(target.values, oof_stack)"
   ]
  },
  {
   "cell_type": "code",
   "execution_count": null,
   "metadata": {},
   "outputs": [],
   "source": [
    ""
   ]
  }
 ],
 "metadata": {
  "kernelspec": {
   "display_name": "Python 2",
   "language": "python",
   "name": "python2"
  },
  "language_info": {
   "codemirror_mode": {
    "name": "ipython",
    "version": 2.0
   },
   "file_extension": ".py",
   "mimetype": "text/x-python",
   "name": "python",
   "nbconvert_exporter": "python",
   "pygments_lexer": "ipython2",
   "version": "2.7.6"
  }
 },
 "nbformat": 4,
 "nbformat_minor": 0
}